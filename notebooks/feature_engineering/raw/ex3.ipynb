{
 "cells": [
  {
   "cell_type": "markdown",
   "metadata": {},
   "source": [
    "# Feature Generation Exercises\n",
    "\n",
    "In this set of exercises, you'll create new features from the existing data. Again you'll compare the score lift for each new feature compared to a baseline model. First off, run the cells below to set up a baseline dataset and model."
   ]
  },
  {
   "cell_type": "code",
   "execution_count": 1,
   "metadata": {},
   "outputs": [
    {
     "name": "stderr",
     "output_type": "stream",
     "text": [
      "/Users/mat/miniconda3/envs/py36/lib/python3.6/site-packages/lightgbm/__init__.py:46: UserWarning: Starting from version 2.2.1, the library file in distribution wheels for macOS is built by the Apple Clang (Xcode_9.4.1) compiler.\n",
      "This means that in case of installing LightGBM from PyPI via the ``pip install lightgbm`` command, you don't need to install the gcc compiler anymore.\n",
      "Instead of that, you need to install the OpenMP library, which is required for running LightGBM on the system with the Apple Clang compiler.\n",
      "You can install the OpenMP library by the following command: ``brew install libomp``.\n",
      "  \"You can install the OpenMP library by the following command: ``brew install libomp``.\", UserWarning)\n"
     ]
    }
   ],
   "source": [
    "import numpy as np\n",
    "import pandas as pd\n",
    "from sklearn import preprocessing, metrics\n",
    "import lightgbm as lgb\n",
    "\n",
    "# Set up code checking\n",
    "from learntools.core import binder\n",
    "binder.bind(globals())\n",
    "from learntools.machine_learning.ex2 import *\n",
    "\n",
    "# Create features from timestamps\n",
    "click_data = pd.read_csv('../input/train_sample.csv', parse_dates=['click_time'])\n",
    "click_times = click_data['click_time']\n",
    "clicks = click_data.assign(day=click_times.dt.day.astype('uint8'),\n",
    "                           hour=click_times.dt.hour.astype('uint8'),\n",
    "                           minute=click_times.dt.minute.astype('uint8'),\n",
    "                           second=click_times.dt.second.astype('uint8'))\n",
    "\n",
    "# Label encoding for categorical features\n",
    "cat_features = ['ip', 'app', 'device', 'os', 'channel']\n",
    "for feature in cat_features:\n",
    "    label_encoder = preprocessing.LabelEncoder()\n",
    "    clicks[feature] = label_encoder.fit_transform(clicks[feature])"
   ]
  },
  {
   "cell_type": "code",
   "execution_count": 2,
   "metadata": {},
   "outputs": [],
   "source": [
    "def get_data_splits(dataframe, valid_fraction=0.1):\n",
    "\n",
    "    dataframe = dataframe.sort_values('click_time')\n",
    "    valid_rows = int(len(dataframe) * valid_fraction)\n",
    "    train = dataframe[:-valid_rows * 2]\n",
    "    # valid size == test size, last two sections of the data\n",
    "    valid = dataframe[-valid_rows * 2:-valid_rows]\n",
    "    test = dataframe[-valid_rows:]\n",
    "    \n",
    "    return train, valid, test\n",
    "\n",
    "def train_model(train, valid, test, feature_cols=None):\n",
    "    if feature_cols is None:\n",
    "        feature_cols = train.columns.drop(['click_time', 'attributed_time',\n",
    "                                           'is_attributed'])\n",
    "    dtrain = lgb.Dataset(train[feature_cols], label=train['is_attributed'])\n",
    "    dvalid = lgb.Dataset(valid[feature_cols], label=valid['is_attributed'])\n",
    "    dtest = lgb.Dataset(test[feature_cols], label=test['is_attributed'])\n",
    "    \n",
    "    param = {'num_leaves': 64, 'objective': 'binary', \n",
    "             'metric': 'auc', 'seed': 7}\n",
    "    num_round = 1000\n",
    "    print(\"Training model!\")\n",
    "    bst = lgb.train(param, dtrain, num_round, valid_sets=[dvalid], \n",
    "                    early_stopping_rounds=20, verbose_eval=False)\n",
    "    \n",
    "    ypred = bst.predict(test[feature_cols])\n",
    "    score = metrics.roc_auc_score(test['is_attributed'], ypred)\n",
    "    print(f\"Model AUC score: {score}\")\n",
    "    \n",
    "    return bst"
   ]
  },
  {
   "cell_type": "code",
   "execution_count": 3,
   "metadata": {},
   "outputs": [
    {
     "name": "stdout",
     "output_type": "stream",
     "text": [
      "Baseline model score\n",
      "Training model!\n",
      "Model AUC score: 0.9728192258764643\n"
     ]
    }
   ],
   "source": [
    "print(\"Baseline model score\")\n",
    "train, valid, test = get_data_splits(clicks)\n",
    "_ = train_model(train, valid, test)"
   ]
  },
  {
   "cell_type": "markdown",
   "metadata": {},
   "source": [
    "### 1) Add interaction features\n",
    "\n",
    "Here you'll add interaction features for each pair of categorical features (ip, app, device, os, channel). The easiest way to iterate through the pairs of features is with `itertools.combinations`. For each new column, join the values as strings with an undescore, so 13 and 47 would become `\"13_47\"`. As you add the new columns to the dataset, be sure to label encode the values."
   ]
  },
  {
   "cell_type": "code",
   "execution_count": 4,
   "metadata": {},
   "outputs": [],
   "source": [
    "import itertools"
   ]
  },
  {
   "cell_type": "code",
   "execution_count": 5,
   "metadata": {},
   "outputs": [],
   "source": [
    "cat_features = ['ip', 'app', 'device', 'os', 'channel']\n",
    "for col1, col2 in itertools.combinations(cat_features, 2):\n",
    "    new_col_name = '_'.join([col1, col2])\n",
    "    paired_values = zip(clicks[col1].apply(str), clicks[col2].apply(str))\n",
    "    encoder = preprocessing.LabelEncoder()\n",
    "    clicks[new_col_name] = encoder.fit_transform(np.array(['_'.join([s1, s2]) for s1, s2 in paired_values]))"
   ]
  },
  {
   "cell_type": "code",
   "execution_count": 6,
   "metadata": {},
   "outputs": [
    {
     "name": "stdout",
     "output_type": "stream",
     "text": [
      "Score with interactions\n",
      "Training model!\n",
      "Model AUC score: 0.973121586913155\n"
     ]
    }
   ],
   "source": [
    "print(\"Score with interactions\")\n",
    "train, valid, test = get_data_splits(clicks)\n",
    "_ = train_model(train, valid, test)"
   ]
  },
  {
   "cell_type": "markdown",
   "metadata": {},
   "source": [
    "# Generating numerical features\n",
    "\n",
    "Adding interactions is a quick way to create more categorical features from the data. It's also effective to create new numerical features, you'll typically get a lot of improvement in the model. This takes a bit of brainstorming and experimentation to find features that work well.\n",
    "\n",
    "For these exercises I'm going to have you implement functions that operate on Pandas Series. It can take multiple minutes to run these functions on the entire data set so instead I'll provide feedback by running your function on a smaller dataset."
   ]
  },
  {
   "cell_type": "markdown",
   "metadata": {},
   "source": [
    "### 2) Number of events in the past six hours\n",
    "\n",
    "The first feature you'll be creating is the number of events from the same IP in the last six hours. It's likely that someone who is visiting often will download the app.\n",
    "\n",
    "Implement a function `count_past_events` that takes a Series of click times (timestamps) and returns another Series with the number of events in the last hour. **Tip:** The `rolling` method is useful for this."
   ]
  },
  {
   "cell_type": "code",
   "execution_count": 7,
   "metadata": {},
   "outputs": [],
   "source": [
    "def count_past_events(series):\n",
    "    ____\n",
    "    return ____"
   ]
  },
  {
   "cell_type": "code",
   "execution_count": 8,
   "metadata": {},
   "outputs": [],
   "source": [
    "#%%RM_IF(PROD)%%\n",
    "# My solution\n",
    "def count_past_events(series, time_window='6H'):\n",
    "    series = pd.Series(series.index, index=series)\n",
    "    # Subtract 1 so the current event isn't counted\n",
    "    past_events = series.rolling(time_window).count() - 1\n",
    "    return past_events"
   ]
  },
  {
   "cell_type": "code",
   "execution_count": 9,
   "metadata": {},
   "outputs": [],
   "source": [
    "# NOTE: This takes a while to run\n",
    "# Thinking about saving the output here as a CSV file and loading it in for the student\n",
    "# So they don't have to wait for this to run\n",
    "past_events = clicks.groupby('ip')['click_time'].transform(count_past_events)\n",
    "clicks['ip_past_6hr_counts'] = past_events"
   ]
  },
  {
   "cell_type": "code",
   "execution_count": 10,
   "metadata": {},
   "outputs": [
    {
     "name": "stdout",
     "output_type": "stream",
     "text": [
      "Training model!\n",
      "Model AUC score: 0.9747573908203024\n"
     ]
    },
    {
     "data": {
      "text/plain": [
       "<lightgbm.basic.Booster at 0x1a5752f908>"
      ]
     },
     "execution_count": 10,
     "metadata": {},
     "output_type": "execute_result"
    }
   ],
   "source": [
    "train, valid, test = get_data_splits(clicks)\n",
    "train_model(train, valid, test)"
   ]
  },
  {
   "cell_type": "code",
   "execution_count": null,
   "metadata": {},
   "outputs": [],
   "source": [
    "#%%RM_IF(PROD)%%\n",
    "# keeping this here as it's an implementation that is ~8 times faster\n",
    "# than with the simple Pandas solution\n",
    "\n",
    "HOUR_IN_NS = 3600 * 1_000_000_000\n",
    "def count_past_events(series, past_hours=1):\n",
    "    \"\"\" For each event in a time series, count the number of events in the past N hours \"\"\"\n",
    "    # Converting to numpy array here because the operations are 100x faster\n",
    "    data = series.to_numpy()\n",
    "    \n",
    "    # Initialize an array for storing past events\n",
    "    past_events = np.zeros(data.shape)\n",
    "    \n",
    "    # Time delta for the time window we're considering\n",
    "    hour_delta = np.timedelta64(past_hours * HOUR_IN_NS)\n",
    "    \n",
    "    # Use a pointer to keep track of the edge of the time window \n",
    "    pointer = 0\n",
    "    for ix, event_time in enumerate(data):\n",
    "        # For the very first event there necessary will be zero past events\n",
    "        if ix == 0:\n",
    "            continue\n",
    "            \n",
    "        window_start = event_time - hour_delta\n",
    "        # Move the pointer forward until we get to the start of our time window\n",
    "        while data[pointer + 1] < window_start:\n",
    "            pointer += 1\n",
    "        \n",
    "        past_events[ix] = ix - (pointer + 1)\n",
    "    return past_events"
   ]
  },
  {
   "cell_type": "markdown",
   "metadata": {},
   "source": [
    "### 3) Features from future information\n",
    "\n",
    "In the last exercise you created a feature that looked at past events. You could also make features that use information from events in the future. Should you use future events or not? \n",
    "\n",
    "**Answer:** In general, you shouldn't use information from the future. When you're using models like this in a real-world scenario you won't have data from the future. Your model's score will likely be higher when training and testing on historical data, but it will overestimate the performance on real data. I should note that using future data will improve the score on Kaggle competition test data, but avoid it when building machine learning products."
   ]
  },
  {
   "cell_type": "markdown",
   "metadata": {},
   "source": [
    "### 4) Time since last event\n",
    "\n",
    "Implement a function `time_diff` that calculates the time since the last event in seconds from a Series of timestamps. This will be ran like so:\n",
    "\n",
    "```python\n",
    "time_deltas = clicks.groupby('ip')['click_time'].transform(time_diff)\n",
    "```"
   ]
  },
  {
   "cell_type": "code",
   "execution_count": 11,
   "metadata": {},
   "outputs": [],
   "source": [
    "def time_diff(series):\n",
    "    \"\"\" Returns a series with the time since the last timestamp in seconds \"\"\"\n",
    "    ____\n",
    "    return ____"
   ]
  },
  {
   "cell_type": "code",
   "execution_count": null,
   "metadata": {},
   "outputs": [],
   "source": [
    "#%%RM_IF(PROD)%%\n",
    "# My solution\n",
    "def time_diff(series):\n",
    "    return series.diff().dt.seconds"
   ]
  },
  {
   "cell_type": "code",
   "execution_count": 12,
   "metadata": {},
   "outputs": [],
   "source": [
    "# NOTE: This takes a while to run\n",
    "# Thinking about saving the output here as a CSV file and loading it in for the student\n",
    "# So they don't have to wait for this to run\n",
    "time_deltas = clicks.groupby('ip')['click_time'].transform(time_diff)\n",
    "clicks['seconds_since_last_event'] = time_deltas"
   ]
  },
  {
   "cell_type": "code",
   "execution_count": 14,
   "metadata": {},
   "outputs": [
    {
     "name": "stdout",
     "output_type": "stream",
     "text": [
      "Training model!\n",
      "Model AUC score: 0.9756049810177201\n"
     ]
    },
    {
     "data": {
      "text/plain": [
       "<lightgbm.basic.Booster at 0x112eb1860>"
      ]
     },
     "execution_count": 14,
     "metadata": {},
     "output_type": "execute_result"
    }
   ],
   "source": [
    "train, valid, test = get_data_splits(clicks)\n",
    "train_model(train, valid, test)"
   ]
  },
  {
   "cell_type": "markdown",
   "metadata": {},
   "source": [
    "### 5) Number of previous app downloads\n",
    "\n",
    "It's likely that if a visitor downloaded an app previously, it'll affect the likelihood they'll download one again. Implement a function `previous_attributions` that returns a Series with the number of times an app has been download (`'is_attributed' == 1`) before the current event."
   ]
  },
  {
   "cell_type": "code",
   "execution_count": null,
   "metadata": {},
   "outputs": [],
   "source": [
    "def previous_attribution(series):\n",
    "    \"\"\" Returns a series with the \"\"\"\n",
    "    ____\n",
    "    return ____"
   ]
  },
  {
   "cell_type": "code",
   "execution_count": 12,
   "metadata": {},
   "outputs": [],
   "source": [
    "#%%RM_IF(PROD)%%\n",
    "def previous_attribution(series):\n",
    "    # Subtracting raw values so I don't count the current event\n",
    "    sums = series.expanding(min_periods=2).sum() - series\n",
    "    return sums"
   ]
  },
  {
   "cell_type": "code",
   "execution_count": 13,
   "metadata": {},
   "outputs": [],
   "source": [
    "# NOTE: This takes a while to run\n",
    "# Thinking about saving the output here as a CSV file and loading it in for the student\n",
    "# So they don't have to wait for this to run\n",
    "previous_downloads = clicks.groupby('ip')['is_attributed'].transform(previous_attribution)\n",
    "clicks['previous_downloads'] = previous_downloads"
   ]
  },
  {
   "cell_type": "code",
   "execution_count": 16,
   "metadata": {},
   "outputs": [
    {
     "name": "stdout",
     "output_type": "stream",
     "text": [
      "Training model!\n",
      "Model AUC score: 0.9761224849037081\n"
     ]
    },
    {
     "data": {
      "text/plain": [
       "<lightgbm.basic.Booster at 0x1a79e39c18>"
      ]
     },
     "execution_count": 16,
     "metadata": {},
     "output_type": "execute_result"
    }
   ],
   "source": [
    "train, valid, test = get_data_splits(clicks)\n",
    "train_model(train, valid, test)"
   ]
  },
  {
   "cell_type": "code",
   "execution_count": 11,
   "metadata": {},
   "outputs": [
    {
     "data": {
      "text/html": [
       "<div>\n",
       "<style scoped>\n",
       "    .dataframe tbody tr th:only-of-type {\n",
       "        vertical-align: middle;\n",
       "    }\n",
       "\n",
       "    .dataframe tbody tr th {\n",
       "        vertical-align: top;\n",
       "    }\n",
       "\n",
       "    .dataframe thead th {\n",
       "        text-align: right;\n",
       "    }\n",
       "</style>\n",
       "<table border=\"1\" class=\"dataframe\">\n",
       "  <thead>\n",
       "    <tr style=\"text-align: right;\">\n",
       "      <th></th>\n",
       "      <th>ip</th>\n",
       "      <th>app</th>\n",
       "      <th>device</th>\n",
       "      <th>os</th>\n",
       "      <th>channel</th>\n",
       "      <th>click_time</th>\n",
       "      <th>attributed_time</th>\n",
       "      <th>is_attributed</th>\n",
       "      <th>day</th>\n",
       "      <th>hour</th>\n",
       "      <th>...</th>\n",
       "      <th>ip_device</th>\n",
       "      <th>ip_os</th>\n",
       "      <th>ip_channel</th>\n",
       "      <th>app_device</th>\n",
       "      <th>app_os</th>\n",
       "      <th>app_channel</th>\n",
       "      <th>device_os</th>\n",
       "      <th>device_channel</th>\n",
       "      <th>os_channel</th>\n",
       "      <th>ip_past_6hr_counts</th>\n",
       "    </tr>\n",
       "  </thead>\n",
       "  <tbody>\n",
       "    <tr>\n",
       "      <th>0</th>\n",
       "      <td>27226</td>\n",
       "      <td>3</td>\n",
       "      <td>1</td>\n",
       "      <td>13</td>\n",
       "      <td>120</td>\n",
       "      <td>2017-11-06 15:13:23</td>\n",
       "      <td>NaN</td>\n",
       "      <td>0</td>\n",
       "      <td>6</td>\n",
       "      <td>15</td>\n",
       "      <td>...</td>\n",
       "      <td>219682</td>\n",
       "      <td>496314</td>\n",
       "      <td>681060</td>\n",
       "      <td>3631</td>\n",
       "      <td>4100</td>\n",
       "      <td>675</td>\n",
       "      <td>1229</td>\n",
       "      <td>1890</td>\n",
       "      <td>985</td>\n",
       "      <td>0.0</td>\n",
       "    </tr>\n",
       "    <tr>\n",
       "      <th>1</th>\n",
       "      <td>110007</td>\n",
       "      <td>35</td>\n",
       "      <td>1</td>\n",
       "      <td>13</td>\n",
       "      <td>10</td>\n",
       "      <td>2017-11-06 15:41:07</td>\n",
       "      <td>2017-11-07 08:17:19</td>\n",
       "      <td>1</td>\n",
       "      <td>6</td>\n",
       "      <td>15</td>\n",
       "      <td>...</td>\n",
       "      <td>14419</td>\n",
       "      <td>39852</td>\n",
       "      <td>57863</td>\n",
       "      <td>3581</td>\n",
       "      <td>3849</td>\n",
       "      <td>625</td>\n",
       "      <td>1229</td>\n",
       "      <td>1867</td>\n",
       "      <td>962</td>\n",
       "      <td>0.0</td>\n",
       "    </tr>\n",
       "    <tr>\n",
       "      <th>2</th>\n",
       "      <td>1047</td>\n",
       "      <td>6</td>\n",
       "      <td>1</td>\n",
       "      <td>13</td>\n",
       "      <td>157</td>\n",
       "      <td>2017-11-06 15:42:32</td>\n",
       "      <td>NaN</td>\n",
       "      <td>0</td>\n",
       "      <td>6</td>\n",
       "      <td>15</td>\n",
       "      <td>...</td>\n",
       "      <td>6955</td>\n",
       "      <td>19603</td>\n",
       "      <td>28875</td>\n",
       "      <td>4196</td>\n",
       "      <td>5045</td>\n",
       "      <td>787</td>\n",
       "      <td>1229</td>\n",
       "      <td>1928</td>\n",
       "      <td>1018</td>\n",
       "      <td>0.0</td>\n",
       "    </tr>\n",
       "    <tr>\n",
       "      <th>3</th>\n",
       "      <td>76270</td>\n",
       "      <td>3</td>\n",
       "      <td>1</td>\n",
       "      <td>13</td>\n",
       "      <td>120</td>\n",
       "      <td>2017-11-06 15:56:17</td>\n",
       "      <td>NaN</td>\n",
       "      <td>0</td>\n",
       "      <td>6</td>\n",
       "      <td>15</td>\n",
       "      <td>...</td>\n",
       "      <td>300967</td>\n",
       "      <td>792039</td>\n",
       "      <td>1140313</td>\n",
       "      <td>3631</td>\n",
       "      <td>4100</td>\n",
       "      <td>675</td>\n",
       "      <td>1229</td>\n",
       "      <td>1890</td>\n",
       "      <td>985</td>\n",
       "      <td>0.0</td>\n",
       "    </tr>\n",
       "    <tr>\n",
       "      <th>4</th>\n",
       "      <td>57862</td>\n",
       "      <td>3</td>\n",
       "      <td>1</td>\n",
       "      <td>13</td>\n",
       "      <td>120</td>\n",
       "      <td>2017-11-06 15:57:01</td>\n",
       "      <td>NaN</td>\n",
       "      <td>0</td>\n",
       "      <td>6</td>\n",
       "      <td>15</td>\n",
       "      <td>...</td>\n",
       "      <td>274929</td>\n",
       "      <td>722619</td>\n",
       "      <td>1041993</td>\n",
       "      <td>3631</td>\n",
       "      <td>4100</td>\n",
       "      <td>675</td>\n",
       "      <td>1229</td>\n",
       "      <td>1890</td>\n",
       "      <td>985</td>\n",
       "      <td>0.0</td>\n",
       "    </tr>\n",
       "  </tbody>\n",
       "</table>\n",
       "<p>5 rows × 23 columns</p>\n",
       "</div>"
      ],
      "text/plain": [
       "       ip  app  device  os  channel          click_time      attributed_time  \\\n",
       "0   27226    3       1  13      120 2017-11-06 15:13:23                  NaN   \n",
       "1  110007   35       1  13       10 2017-11-06 15:41:07  2017-11-07 08:17:19   \n",
       "2    1047    6       1  13      157 2017-11-06 15:42:32                  NaN   \n",
       "3   76270    3       1  13      120 2017-11-06 15:56:17                  NaN   \n",
       "4   57862    3       1  13      120 2017-11-06 15:57:01                  NaN   \n",
       "\n",
       "   is_attributed  day  hour  ...  ip_device   ip_os  ip_channel  app_device  \\\n",
       "0              0    6    15  ...     219682  496314      681060        3631   \n",
       "1              1    6    15  ...      14419   39852       57863        3581   \n",
       "2              0    6    15  ...       6955   19603       28875        4196   \n",
       "3              0    6    15  ...     300967  792039     1140313        3631   \n",
       "4              0    6    15  ...     274929  722619     1041993        3631   \n",
       "\n",
       "   app_os  app_channel  device_os  device_channel  os_channel  \\\n",
       "0    4100          675       1229            1890         985   \n",
       "1    3849          625       1229            1867         962   \n",
       "2    5045          787       1229            1928        1018   \n",
       "3    4100          675       1229            1890         985   \n",
       "4    4100          675       1229            1890         985   \n",
       "\n",
       "   ip_past_6hr_counts  \n",
       "0                 0.0  \n",
       "1                 0.0  \n",
       "2                 0.0  \n",
       "3                 0.0  \n",
       "4                 0.0  \n",
       "\n",
       "[5 rows x 23 columns]"
      ]
     },
     "execution_count": 11,
     "metadata": {},
     "output_type": "execute_result"
    }
   ],
   "source": [
    "clicks.head()"
   ]
  },
  {
   "cell_type": "markdown",
   "metadata": {},
   "source": [
    "### 6) Tree-based vs Neural Network Models\n",
    "\n",
    "So far we've been using LightGBM, a tree-based model. Would these features we've generated work well for neural networks as well as tree-based models?\n",
    "\n",
    "**Answer:** The features themselves will work for either model. However, numerical inputs to neural networks need to be standardized first. That is, the features need to be scaled such that they have 0 mean and a standard deviation of 1. This can be done using sklearn.preprocessing.StandardScaler."
   ]
  },
  {
   "cell_type": "markdown",
   "metadata": {},
   "source": [
    "Now that you've generated a bunch of different features, you'll typically want to remove some of them to reduce the size of the model and potentially improve the performance. Next, I'll show you how to do feature selection using a few different methods such as L1 regression and Boruta."
   ]
  }
 ],
 "metadata": {
  "kernelspec": {
   "display_name": "Python 3",
   "language": "python",
   "name": "python3"
  },
  "language_info": {
   "codemirror_mode": {
    "name": "ipython",
    "version": 3
   },
   "file_extension": ".py",
   "mimetype": "text/x-python",
   "name": "python",
   "nbconvert_exporter": "python",
   "pygments_lexer": "ipython3",
   "version": "3.6.8"
  }
 },
 "nbformat": 4,
 "nbformat_minor": 2
}
