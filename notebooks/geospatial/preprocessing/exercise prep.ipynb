{
 "cells": [
  {
   "cell_type": "code",
   "execution_count": 1,
   "metadata": {},
   "outputs": [],
   "source": [
    "import geopandas"
   ]
  },
  {
   "cell_type": "markdown",
   "metadata": {},
   "source": [
    "### ex_1 prep\n",
    "http://pp-import-production.s3.amazonaws.com/WDPA_Manual_1_5.pdf"
   ]
  },
  {
   "cell_type": "code",
   "execution_count": null,
   "metadata": {},
   "outputs": [],
   "source": [
    "wpa_gdf = geopandas.read_file(\"wdpa_aug2019-shapefile/WDPA_Aug2019-shapefile-polygons.shp\")\n",
    "wpa_gdf.head()"
   ]
  },
  {
   "cell_type": "code",
   "execution_count": null,
   "metadata": {},
   "outputs": [],
   "source": [
    "len(wpa_gdf)"
   ]
  },
  {
   "cell_type": "code",
   "execution_count": null,
   "metadata": {},
   "outputs": [],
   "source": [
    "sa_gdf = geopandas.read_file(\"data/SouthAmerica.shp\")\n",
    "sa_gdf.head()"
   ]
  },
  {
   "cell_type": "code",
   "execution_count": null,
   "metadata": {},
   "outputs": [],
   "source": [
    "sapa_gdf = wpa_gdf[wpa_gdf.ISO3.isin(set(sa_gdf.iso_alpha3))]\n",
    "sapa_gdf.head()"
   ]
  },
  {
   "cell_type": "code",
   "execution_count": null,
   "metadata": {},
   "outputs": [],
   "source": [
    "len(sapa_gdf)"
   ]
  },
  {
   "cell_type": "code",
   "execution_count": null,
   "metadata": {},
   "outputs": [],
   "source": [
    "#sapa_gdf.to_file(\"SAPA_Aug2019-shapefile-polygons.shp\")"
   ]
  },
  {
   "cell_type": "markdown",
   "metadata": {},
   "source": [
    "### ex_2 prep (webscraping)"
   ]
  },
  {
   "cell_type": "code",
   "execution_count": 11,
   "metadata": {},
   "outputs": [],
   "source": [
    "import requests\n",
    "import lxml.html as lh\n",
    "import pandas as pd"
   ]
  },
  {
   "cell_type": "code",
   "execution_count": 12,
   "metadata": {},
   "outputs": [],
   "source": [
    "url='https://stats-japan.com/t/kiji/13392'\n",
    "\n",
    "# Create a handle, page, to handle the contents of the website\n",
    "page = requests.get(url)\n",
    "\n",
    "# Store the contents of the website under doc\n",
    "doc = lh.fromstring(page.content)\n",
    "\n",
    "# Parse data that are stored between <tr>..</tr> of HTML\n",
    "t_elements = doc.xpath('//tr')"
   ]
  },
  {
   "cell_type": "code",
   "execution_count": 13,
   "metadata": {},
   "outputs": [
    {
     "name": "stdout",
     "output_type": "stream",
     "text": [
      "1:\"1\"\n",
      "2:\"Tokyo\"\n",
      "3:\"12,868,000人\"\n",
      "4:\"88.83\"\n"
     ]
    }
   ],
   "source": [
    "# t_elements[6] contains first row\n",
    "col=[]\n",
    "i=0\n",
    "for t in t_elements[6]:\n",
    "    i+=1\n",
    "    name=t.text_content()\n",
    "    print('%d:\"%s\"'%(i,name))\n",
    "    col.append((name,[]))"
   ]
  },
  {
   "cell_type": "code",
   "execution_count": 14,
   "metadata": {},
   "outputs": [
    {
     "name": "stdout",
     "output_type": "stream",
     "text": [
      "1:\"47\"\n",
      "2:\"Tottori\"\n",
      "3:\"591,000人\"\n",
      "4:\"41.89\"\n"
     ]
    }
   ],
   "source": [
    "# t_elements[52] contains final row\n",
    "col=[]\n",
    "i=0\n",
    "for t in t_elements[52]:\n",
    "    i+=1\n",
    "    name=t.text_content()\n",
    "    print('%d:\"%s\"'%(i,name))\n",
    "    col.append((name,[]))"
   ]
  },
  {
   "cell_type": "code",
   "execution_count": 38,
   "metadata": {},
   "outputs": [
    {
     "name": "stdout",
     "output_type": "stream",
     "text": [
      "0:\"Prefectures\"\n",
      "1:\"Population\"\n",
      "2:\"StandardScore\"\n"
     ]
    }
   ],
   "source": [
    "# t_elements[4] contains titles\n",
    "col=[]\n",
    "i=-1\n",
    "for t in t_elements[4]:\n",
    "    name=t.text_content()\n",
    "    if i >= 0:\n",
    "        print('%d:\"%s\"'%(i,name))\n",
    "        col.append((name,[]))\n",
    "    i+=1\n",
    "\n",
    "for j in range(6,53):\n",
    "    T=t_elements[j]\n",
    "    \n",
    "    # i is the index of our column\n",
    "    i=-1\n",
    "    \n",
    "    # Iterate through each element of the row\n",
    "    for t in T.iterchildren():\n",
    "        data=t.text_content() \n",
    "        if i==0:\n",
    "            col[i][1].append(data)\n",
    "        if i==1:\n",
    "            col[i][1].append(int(data[:-1].replace(\",\",\"\")))\n",
    "        if i==2:\n",
    "            col[i][1].append(float(data))\n",
    "        #Increment i for the next column\n",
    "        i+=1"
   ]
  },
  {
   "cell_type": "code",
   "execution_count": 39,
   "metadata": {},
   "outputs": [],
   "source": [
    "Dict={title:column for (title,column) in col}\n",
    "df=pd.DataFrame(Dict)"
   ]
  },
  {
   "cell_type": "code",
   "execution_count": 40,
   "metadata": {},
   "outputs": [
    {
     "data": {
      "text/html": [
       "<div>\n",
       "<style scoped>\n",
       "    .dataframe tbody tr th:only-of-type {\n",
       "        vertical-align: middle;\n",
       "    }\n",
       "\n",
       "    .dataframe tbody tr th {\n",
       "        vertical-align: top;\n",
       "    }\n",
       "\n",
       "    .dataframe thead th {\n",
       "        text-align: right;\n",
       "    }\n",
       "</style>\n",
       "<table border=\"1\" class=\"dataframe\">\n",
       "  <thead>\n",
       "    <tr style=\"text-align: right;\">\n",
       "      <th></th>\n",
       "      <th>Prefectures</th>\n",
       "      <th>Population</th>\n",
       "      <th>StandardScore</th>\n",
       "    </tr>\n",
       "  </thead>\n",
       "  <tbody>\n",
       "    <tr>\n",
       "      <th>0</th>\n",
       "      <td>Tokyo</td>\n",
       "      <td>12868000</td>\n",
       "      <td>88.83</td>\n",
       "    </tr>\n",
       "    <tr>\n",
       "      <th>1</th>\n",
       "      <td>Kanagawa</td>\n",
       "      <td>8943000</td>\n",
       "      <td>73.82</td>\n",
       "    </tr>\n",
       "    <tr>\n",
       "      <th>2</th>\n",
       "      <td>Osaka</td>\n",
       "      <td>8801000</td>\n",
       "      <td>73.28</td>\n",
       "    </tr>\n",
       "    <tr>\n",
       "      <th>3</th>\n",
       "      <td>Aichi</td>\n",
       "      <td>7418000</td>\n",
       "      <td>67.99</td>\n",
       "    </tr>\n",
       "    <tr>\n",
       "      <th>4</th>\n",
       "      <td>Saitama</td>\n",
       "      <td>7130000</td>\n",
       "      <td>66.89</td>\n",
       "    </tr>\n",
       "  </tbody>\n",
       "</table>\n",
       "</div>"
      ],
      "text/plain": [
       "  Prefectures  Population  StandardScore\n",
       "0       Tokyo    12868000          88.83\n",
       "1    Kanagawa     8943000          73.82\n",
       "2       Osaka     8801000          73.28\n",
       "3       Aichi     7418000          67.99\n",
       "4     Saitama     7130000          66.89"
      ]
     },
     "execution_count": 40,
     "metadata": {},
     "output_type": "execute_result"
    }
   ],
   "source": [
    "df.head()"
   ]
  },
  {
   "cell_type": "code",
   "execution_count": 41,
   "metadata": {},
   "outputs": [
    {
     "data": {
      "text/plain": [
       "Prefectures       object\n",
       "Population         int64\n",
       "StandardScore    float64\n",
       "dtype: object"
      ]
     },
     "execution_count": 41,
     "metadata": {},
     "output_type": "execute_result"
    }
   ],
   "source": [
    "df.dtypes"
   ]
  },
  {
   "cell_type": "code",
   "execution_count": 42,
   "metadata": {},
   "outputs": [],
   "source": [
    "df.to_csv('japan-population-per-prefecture.csv')"
   ]
  },
  {
   "cell_type": "markdown",
   "metadata": {},
   "source": [
    "### ex_3 prep / prefecture file"
   ]
  },
  {
   "cell_type": "code",
   "execution_count": 2,
   "metadata": {},
   "outputs": [
    {
     "data": {
      "text/html": [
       "<div>\n",
       "<style scoped>\n",
       "    .dataframe tbody tr th:only-of-type {\n",
       "        vertical-align: middle;\n",
       "    }\n",
       "\n",
       "    .dataframe tbody tr th {\n",
       "        vertical-align: top;\n",
       "    }\n",
       "\n",
       "    .dataframe thead th {\n",
       "        text-align: right;\n",
       "    }\n",
       "</style>\n",
       "<table border=\"1\" class=\"dataframe\">\n",
       "  <thead>\n",
       "    <tr style=\"text-align: right;\">\n",
       "      <th></th>\n",
       "      <th>ID_1</th>\n",
       "      <th>NAME_1</th>\n",
       "      <th>ENGTYPE_1</th>\n",
       "      <th>PrefPopDen</th>\n",
       "      <th>geometry</th>\n",
       "    </tr>\n",
       "  </thead>\n",
       "  <tbody>\n",
       "    <tr>\n",
       "      <th>0</th>\n",
       "      <td>1457</td>\n",
       "      <td>Aichi</td>\n",
       "      <td>Prefecture</td>\n",
       "      <td>1405.0</td>\n",
       "      <td>(POLYGON ((137.0952290000001 34.65329700000012...</td>\n",
       "    </tr>\n",
       "    <tr>\n",
       "      <th>1</th>\n",
       "      <td>1458</td>\n",
       "      <td>Akita</td>\n",
       "      <td>Prefecture</td>\n",
       "      <td>99.0</td>\n",
       "      <td>(POLYGON ((139.5572519999999 39.20329800000007...</td>\n",
       "    </tr>\n",
       "    <tr>\n",
       "      <th>2</th>\n",
       "      <td>1459</td>\n",
       "      <td>Aomori</td>\n",
       "      <td>Prefecture</td>\n",
       "      <td>150.0</td>\n",
       "      <td>(POLYGON ((141.398605 40.92472200000003, 141.3...</td>\n",
       "    </tr>\n",
       "    <tr>\n",
       "      <th>3</th>\n",
       "      <td>1460</td>\n",
       "      <td>Chiba</td>\n",
       "      <td>Prefecture</td>\n",
       "      <td>1175.0</td>\n",
       "      <td>(POLYGON ((139.8248750000001 34.98967300000004...</td>\n",
       "    </tr>\n",
       "    <tr>\n",
       "      <th>4</th>\n",
       "      <td>1461</td>\n",
       "      <td>Ehime</td>\n",
       "      <td>Prefecture</td>\n",
       "      <td>259.0</td>\n",
       "      <td>(POLYGON ((132.5585940000001 32.9122430000001,...</td>\n",
       "    </tr>\n",
       "  </tbody>\n",
       "</table>\n",
       "</div>"
      ],
      "text/plain": [
       "   ID_1  NAME_1   ENGTYPE_1  PrefPopDen  \\\n",
       "0  1457   Aichi  Prefecture      1405.0   \n",
       "1  1458   Akita  Prefecture        99.0   \n",
       "2  1459  Aomori  Prefecture       150.0   \n",
       "3  1460   Chiba  Prefecture      1175.0   \n",
       "4  1461   Ehime  Prefecture       259.0   \n",
       "\n",
       "                                            geometry  \n",
       "0  (POLYGON ((137.0952290000001 34.65329700000012...  \n",
       "1  (POLYGON ((139.5572519999999 39.20329800000007...  \n",
       "2  (POLYGON ((141.398605 40.92472200000003, 141.3...  \n",
       "3  (POLYGON ((139.8248750000001 34.98967300000004...  \n",
       "4  (POLYGON ((132.5585940000001 32.9122430000001,...  "
      ]
     },
     "execution_count": 2,
     "metadata": {},
     "output_type": "execute_result"
    }
   ],
   "source": [
    "japan_gdf = geopandas.read_file(\"PopDensity/Pop_density.shp\")\n",
    "japan_gdf.head()"
   ]
  },
  {
   "cell_type": "code",
   "execution_count": 4,
   "metadata": {},
   "outputs": [],
   "source": [
    "japan_gdf = japan_gdf[[\"NAME_1\", \"geometry\"]]"
   ]
  },
  {
   "cell_type": "code",
   "execution_count": 5,
   "metadata": {},
   "outputs": [
    {
     "data": {
      "text/html": [
       "<div>\n",
       "<style scoped>\n",
       "    .dataframe tbody tr th:only-of-type {\n",
       "        vertical-align: middle;\n",
       "    }\n",
       "\n",
       "    .dataframe tbody tr th {\n",
       "        vertical-align: top;\n",
       "    }\n",
       "\n",
       "    .dataframe thead th {\n",
       "        text-align: right;\n",
       "    }\n",
       "</style>\n",
       "<table border=\"1\" class=\"dataframe\">\n",
       "  <thead>\n",
       "    <tr style=\"text-align: right;\">\n",
       "      <th></th>\n",
       "      <th>NAME_1</th>\n",
       "      <th>geometry</th>\n",
       "    </tr>\n",
       "  </thead>\n",
       "  <tbody>\n",
       "    <tr>\n",
       "      <th>0</th>\n",
       "      <td>Aichi</td>\n",
       "      <td>(POLYGON ((137.0952290000001 34.65329700000012...</td>\n",
       "    </tr>\n",
       "    <tr>\n",
       "      <th>1</th>\n",
       "      <td>Akita</td>\n",
       "      <td>(POLYGON ((139.5572519999999 39.20329800000007...</td>\n",
       "    </tr>\n",
       "    <tr>\n",
       "      <th>2</th>\n",
       "      <td>Aomori</td>\n",
       "      <td>(POLYGON ((141.398605 40.92472200000003, 141.3...</td>\n",
       "    </tr>\n",
       "    <tr>\n",
       "      <th>3</th>\n",
       "      <td>Chiba</td>\n",
       "      <td>(POLYGON ((139.8248750000001 34.98967300000004...</td>\n",
       "    </tr>\n",
       "    <tr>\n",
       "      <th>4</th>\n",
       "      <td>Ehime</td>\n",
       "      <td>(POLYGON ((132.5585940000001 32.9122430000001,...</td>\n",
       "    </tr>\n",
       "  </tbody>\n",
       "</table>\n",
       "</div>"
      ],
      "text/plain": [
       "   NAME_1                                           geometry\n",
       "0   Aichi  (POLYGON ((137.0952290000001 34.65329700000012...\n",
       "1   Akita  (POLYGON ((139.5572519999999 39.20329800000007...\n",
       "2  Aomori  (POLYGON ((141.398605 40.92472200000003, 141.3...\n",
       "3   Chiba  (POLYGON ((139.8248750000001 34.98967300000004...\n",
       "4   Ehime  (POLYGON ((132.5585940000001 32.9122430000001,..."
      ]
     },
     "execution_count": 5,
     "metadata": {},
     "output_type": "execute_result"
    }
   ],
   "source": [
    "japan_gdf.head()"
   ]
  },
  {
   "cell_type": "code",
   "execution_count": 6,
   "metadata": {},
   "outputs": [
    {
     "name": "stderr",
     "output_type": "stream",
     "text": [
      "/anaconda3/lib/python3.6/site-packages/pandas/core/frame.py:3781: SettingWithCopyWarning: \n",
      "A value is trying to be set on a copy of a slice from a DataFrame\n",
      "\n",
      "See the caveats in the documentation: http://pandas.pydata.org/pandas-docs/stable/indexing.html#indexing-view-versus-copy\n",
      "  return super(DataFrame, self).rename(**kwargs)\n"
     ]
    }
   ],
   "source": [
    "japan_gdf.rename(columns={'NAME_1':'prefecture'}, \n",
    "                 inplace=True)"
   ]
  },
  {
   "cell_type": "code",
   "execution_count": 8,
   "metadata": {},
   "outputs": [],
   "source": [
    "#japan_gdf.to_file('japan-prefecture-boundaries.shp')"
   ]
  },
  {
   "cell_type": "code",
   "execution_count": 10,
   "metadata": {},
   "outputs": [
    {
     "data": {
      "text/plain": [
       "47"
      ]
     },
     "execution_count": 10,
     "metadata": {},
     "output_type": "execute_result"
    }
   ],
   "source": [
    "len(japan_gdf)"
   ]
  },
  {
   "cell_type": "code",
   "execution_count": null,
   "metadata": {},
   "outputs": [],
   "source": []
  }
 ],
 "metadata": {
  "kernelspec": {
   "display_name": "Python 3",
   "language": "python",
   "name": "python3"
  },
  "language_info": {
   "codemirror_mode": {
    "name": "ipython",
    "version": 3
   },
   "file_extension": ".py",
   "mimetype": "text/x-python",
   "name": "python",
   "nbconvert_exporter": "python",
   "pygments_lexer": "ipython3",
   "version": "3.6.6"
  }
 },
 "nbformat": 4,
 "nbformat_minor": 2
}
