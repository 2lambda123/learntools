{
 "cells": [
  {
   "cell_type": "code",
   "execution_count": 2,
   "metadata": {},
   "outputs": [],
   "source": [
    "import geopandas\n",
    "from geopandas.tools import geocode\n",
    "\n",
    "import numpy as np\n",
    "import pandas as pd\n",
    "from shapely.geometry import Point, LineString, Polygon\n",
    "from datetime import datetime\n",
    "\n",
    "import math\n",
    "import folium\n",
    "from folium import Choropleth\n",
    "from folium.plugins import HeatMap, MarkerCluster\n",
    "\n",
    "import matplotlib.pyplot as plt\n",
    "%matplotlib inline"
   ]
  },
  {
   "cell_type": "code",
   "execution_count": 5,
   "metadata": {},
   "outputs": [],
   "source": [
    "directory_df = pd.read_csv(\"directory.csv\")\n",
    "directory_df = directory_df[directory_df[\"Country\"] == 'US']\n",
    "df = directory_df[directory_df[\"State/Province\"] == 'CA']\n",
    "\n",
    "address_cols = [\"Store Name\", \"Street Address\", \"City\", \"State/Province\", \"Postcode\", \"Country\"]\n",
    "df = df.fillna('')\n",
    "df[\"Address\"] = df[\"Street Address\"] + \" \" + df[\"City\"] + \" \" + df[\"State/Province\"] \n",
    "\n",
    "cols_to_keep = [\"Store Number\", \"Store Name\", \"Address\", \"City\", \"Longitude\", \"Latitude\"]\n",
    "df = df[cols_to_keep]\n",
    "\n",
    "df.loc[df[\"City\"]=='Berkeley', 'Longitude'] = \"\"\n",
    "df.loc[df[\"City\"]=='Berkeley', 'Latitude'] = \"\"\n",
    "#df.drop(\"City\", axis=1, inplace=True)\n",
    "\n",
    "#df.to_csv(\"starbucks_locations.csv\", index=False)"
   ]
  },
  {
   "cell_type": "code",
   "execution_count": 22,
   "metadata": {},
   "outputs": [],
   "source": [
    "counties_gdf = geopandas.read_file(\"geospatial-course-data/CA_Counties/CA_Counties_TIGER2016.shp\")\n",
    "counties_gdf.geometry = counties_gdf.geometry.to_crs(epsg=4326)\n",
    "counties_gdf.rename(columns={'NAMELSAD': 'name'}, inplace=True)\n",
    "counties_gdf[\"GEOID\"] = [int(i[1:]) for i in list(counties_gdf[\"GEOID\"])]\n",
    "counties_gdf['area_sqkm'] = counties_gdf.geometry.to_crs(epsg=3035).area / 10**6\n",
    "counties_gdf = counties_gdf[['GEOID', 'name', 'area_sqkm', 'geometry']]\n",
    "counties_gdf.to_file('CA_county_boundaries.shp')"
   ]
  },
  {
   "cell_type": "code",
   "execution_count": 10,
   "metadata": {},
   "outputs": [],
   "source": [
    "pop_df = pd.read_csv(\"geospatial-course-data/PEP_2018_PEPANNRES.csv\")\n",
    "pop_df = pop_df[[\"GEO.id2\", \"respop72018\"]]\n",
    "pop_df.rename(columns={\"GEO.id2\": \"GEOID\", \"respop72018\": \"population\"}, inplace=True)\n",
    "\n",
    "pop_df.to_csv('CA_county_population.csv', index=False)"
   ]
  },
  {
   "cell_type": "code",
   "execution_count": 14,
   "metadata": {},
   "outputs": [],
   "source": [
    "# note need to clean up this CSV file\n",
    "# join on income_df[\"GEO.id2\"] and counties_gdf[\"GEOID\"]\n",
    "income_df = pd.read_csv(\"geospatial-course-data/ACS_17_5YR_B19001.csv\")\n",
    "income_df = income_df[[\"GEO.id2\", \"HD01_VD16\", \"HD01_VD17\"]]\n",
    "income_df[\"high_earners\"] = income_df[\"HD01_VD16\"] + income_df[\"HD01_VD17\"]\n",
    "income_df = income_df[[\"GEO.id2\", \"high_earners\"]]\n",
    "income_df.rename(columns={\"GEO.id2\": \"GEOID\"}, inplace=True)\n",
    "\n",
    "income_df.to_csv(\"CA_county_high_earners.csv\", index=False)"
   ]
  },
  {
   "cell_type": "code",
   "execution_count": 15,
   "metadata": {},
   "outputs": [
    {
     "data": {
      "text/html": [
       "<div>\n",
       "<style scoped>\n",
       "    .dataframe tbody tr th:only-of-type {\n",
       "        vertical-align: middle;\n",
       "    }\n",
       "\n",
       "    .dataframe tbody tr th {\n",
       "        vertical-align: top;\n",
       "    }\n",
       "\n",
       "    .dataframe thead th {\n",
       "        text-align: right;\n",
       "    }\n",
       "</style>\n",
       "<table border=\"1\" class=\"dataframe\">\n",
       "  <thead>\n",
       "    <tr style=\"text-align: right;\">\n",
       "      <th></th>\n",
       "      <th>GEOID</th>\n",
       "      <th>high_earners</th>\n",
       "    </tr>\n",
       "  </thead>\n",
       "  <tbody>\n",
       "    <tr>\n",
       "      <th>0</th>\n",
       "      <td>6001</td>\n",
       "      <td>145696</td>\n",
       "    </tr>\n",
       "    <tr>\n",
       "      <th>1</th>\n",
       "      <td>6003</td>\n",
       "      <td>30</td>\n",
       "    </tr>\n",
       "    <tr>\n",
       "      <th>2</th>\n",
       "      <td>6005</td>\n",
       "      <td>1220</td>\n",
       "    </tr>\n",
       "    <tr>\n",
       "      <th>3</th>\n",
       "      <td>6007</td>\n",
       "      <td>6860</td>\n",
       "    </tr>\n",
       "    <tr>\n",
       "      <th>4</th>\n",
       "      <td>6009</td>\n",
       "      <td>2046</td>\n",
       "    </tr>\n",
       "  </tbody>\n",
       "</table>\n",
       "</div>"
      ],
      "text/plain": [
       "   GEOID  high_earners\n",
       "0   6001        145696\n",
       "1   6003            30\n",
       "2   6005          1220\n",
       "3   6007          6860\n",
       "4   6009          2046"
      ]
     },
     "execution_count": 15,
     "metadata": {},
     "output_type": "execute_result"
    }
   ],
   "source": [
    "test = pd.read_csv(\"CA_county_high_earners.csv\")\n",
    "test.head()"
   ]
  },
  {
   "cell_type": "code",
   "execution_count": 31,
   "metadata": {},
   "outputs": [
    {
     "data": {
      "text/html": [
       "<div>\n",
       "<style scoped>\n",
       "    .dataframe tbody tr th:only-of-type {\n",
       "        vertical-align: middle;\n",
       "    }\n",
       "\n",
       "    .dataframe tbody tr th {\n",
       "        vertical-align: top;\n",
       "    }\n",
       "\n",
       "    .dataframe thead th {\n",
       "        text-align: right;\n",
       "    }\n",
       "</style>\n",
       "<table border=\"1\" class=\"dataframe\">\n",
       "  <thead>\n",
       "    <tr style=\"text-align: right;\">\n",
       "      <th></th>\n",
       "      <th>GEOID</th>\n",
       "      <th>median_age</th>\n",
       "    </tr>\n",
       "  </thead>\n",
       "  <tbody>\n",
       "    <tr>\n",
       "      <th>2</th>\n",
       "      <td>06001</td>\n",
       "      <td>37.3</td>\n",
       "    </tr>\n",
       "    <tr>\n",
       "      <th>3</th>\n",
       "      <td>06003</td>\n",
       "      <td>44.9</td>\n",
       "    </tr>\n",
       "    <tr>\n",
       "      <th>4</th>\n",
       "      <td>06005</td>\n",
       "      <td>50.6</td>\n",
       "    </tr>\n",
       "    <tr>\n",
       "      <th>5</th>\n",
       "      <td>06007</td>\n",
       "      <td>36.9</td>\n",
       "    </tr>\n",
       "    <tr>\n",
       "      <th>6</th>\n",
       "      <td>06009</td>\n",
       "      <td>51.6</td>\n",
       "    </tr>\n",
       "  </tbody>\n",
       "</table>\n",
       "</div>"
      ],
      "text/plain": [
       "   GEOID median_age\n",
       "2  06001       37.3\n",
       "3  06003       44.9\n",
       "4  06005       50.6\n",
       "5  06007       36.9\n",
       "6  06009       51.6"
      ]
     },
     "execution_count": 31,
     "metadata": {},
     "output_type": "execute_result"
    }
   ],
   "source": [
    "#HC01_EST_VC37\n",
    "df = pd.read_csv(\"ACS_17_5YR_S0101/ACS_17_5YR_S0101_with_ann.csv\")\n",
    "df = df.iloc[2:]\n",
    "df = df[[\"GEO.id2\", \"HC01_EST_VC37\"]]\n",
    "df.rename(columns={\"GEO.id2\": \"GEOID\", \"HC01_EST_VC37\": \"median_age\"}, inplace=True)\n",
    "df.to_csv(\"CA_county_median_age.csv\", index=False)\n",
    "df.head()"
   ]
  },
  {
   "cell_type": "code",
   "execution_count": null,
   "metadata": {},
   "outputs": [],
   "source": []
  }
 ],
 "metadata": {
  "kernelspec": {
   "display_name": "Python 3",
   "language": "python",
   "name": "python3"
  },
  "language_info": {
   "codemirror_mode": {
    "name": "ipython",
    "version": 3
   },
   "file_extension": ".py",
   "mimetype": "text/x-python",
   "name": "python",
   "nbconvert_exporter": "python",
   "pygments_lexer": "ipython3",
   "version": "3.6.6"
  }
 },
 "nbformat": 4,
 "nbformat_minor": 2
}
