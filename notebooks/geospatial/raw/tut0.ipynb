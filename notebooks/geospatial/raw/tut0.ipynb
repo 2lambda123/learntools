{
 "cells": [
  {
   "cell_type": "markdown",
   "metadata": {},
   "source": [
    "# Introduction\n",
    "\n",
    "TBD / Will cover:\n",
    "- what is geospatial data?\n",
    "- applications of geospatial data visualization\n",
    "- pandas is a strong prereq for this course. in this tutorial, you'll get an idea if you need to review the pandas course before proceeding.\n",
    "- set up the example with why we want to create a map of new york (idea being: [perhaps] you live in NYC and want to go hiking/camping in the country for a weekend. instead of using TripAdvisor to guide your trip, you're excited about all of the data that the state of NY has released and want to do your own, tailored analysis based on your specific preferences)\n",
    "\n",
    "# Reading and plotting (shapefile) data\n",
    "\n",
    "The first step is to read in the data!  To do this, we'll use the [Geopandas](http://geopandas.org/) library."
   ]
  },
  {
   "cell_type": "code",
   "execution_count": null,
   "metadata": {},
   "outputs": [],
   "source": [
    "import geopandas as gpd"
   ]
  },
  {
   "cell_type": "markdown",
   "metadata": {},
   "source": [
    "Geopandas is an extension of the [Pandas](https://pandas.pydata.org/) library with added functionality for geospatial data.\n",
    "\n",
    "With Geopandas, we can read data from a variety of common geospatial file formats, such as [shapefile](https://en.wikipedia.org/wiki/Shapefile), [GeoJSON](https://en.wikipedia.org/wiki/GeoJSON), [KML](https://en.wikipedia.org/wiki/Keyhole_Markup_Language), and [GPKG](https://en.wikipedia.org/wiki/GeoPackage).  You can also work with [CSV](https://en.wikipedia.org/wiki/Comma-separated_values) files.  \n",
    "\n",
    "For now, we'll load a shapefile containing information about lands under the care of the [Department of Environmental Conservation](https://www.dec.ny.gov/index.html) in the state of New York."
   ]
  },
  {
   "cell_type": "code",
   "execution_count": null,
   "metadata": {},
   "outputs": [],
   "source": [
    "# Read in the data\n",
    "full_data = gpd.read_file(\"../input/geospatial-course-data/dec_lands/DEC_lands.shp\")\n",
    "full_data.head()"
   ]
  },
  {
   "cell_type": "markdown",
   "metadata": {},
   "source": [
    "The command above reads the data into a (GeoPandas) **GeoDataFrame** object that has all of the capabilities of a (Pandas) DataFrame object: so, everything you learned in the [Pandas micro-course](https://www.kaggle.com/learn/pandas) can be used to work with the data. "
   ]
  },
  {
   "cell_type": "code",
   "execution_count": null,
   "metadata": {},
   "outputs": [],
   "source": [
    "type(full_data)"
   ]
  },
  {
   "cell_type": "markdown",
   "metadata": {},
   "source": [
    "For instance, if we don't plan to use all of the columns, we can select a subset of them.  \n",
    "> To review other methods for selecting data, check out [this tutorial](https://www.kaggle.com/residentmario/indexing-selecting-assigning/) from the Pandas micro-course."
   ]
  },
  {
   "cell_type": "code",
   "execution_count": null,
   "metadata": {},
   "outputs": [],
   "source": [
    "data = full_data.loc[:, [\"CLASS\", \"COUNTY\", \"geometry\"]].copy()"
   ]
  },
  {
   "cell_type": "markdown",
   "metadata": {},
   "source": [
    "We use the `value_counts()` method to see a list of different land types, along with how many times they appear in the dataset. \n",
    "> To review this (and related methods), check out [this tutorial](https://www.kaggle.com/residentmario/summary-functions-and-maps) from the Pandas micro-course."
   ]
  },
  {
   "cell_type": "code",
   "execution_count": null,
   "metadata": {},
   "outputs": [],
   "source": [
    "# How many lands of each type are there?\n",
    "data.CLASS.value_counts()"
   ]
  },
  {
   "cell_type": "markdown",
   "metadata": {},
   "source": [
    "You can also use `loc` (and `iloc`) and `isin` to select subsets of the data.  \n",
    "> To review this, check out [this tutorial](https://www.kaggle.com/residentmario/indexing-selecting-assigning/) from the Pandas micro-course."
   ]
  },
  {
   "cell_type": "code",
   "execution_count": null,
   "metadata": {},
   "outputs": [],
   "source": [
    "# Select lands that fall under the \"WILD FOREST\" or \"WILDERNESS\" category\n",
    "wild_lands = data.loc[data.CLASS.isin(['WILD FOREST', 'WILDERNESS'])].copy()\n",
    "wild_lands.head()"
   ]
  },
  {
   "cell_type": "markdown",
   "metadata": {},
   "source": [
    "GeoDataFrames also have some added methods and attributes (that don't apply to DataFrames).  For instance, we can quickly visualize the data with the `plot()` method.  This method takes as (optional) input several parameters that can be used to customize the appearance of your plots."
   ]
  },
  {
   "cell_type": "code",
   "execution_count": null,
   "metadata": {},
   "outputs": [],
   "source": [
    "# Other available options line up with matplotlib options\n",
    "wild_lands.plot(color='darkgreen')"
   ]
  },
  {
   "cell_type": "markdown",
   "metadata": {},
   "source": [
    "# The \"geometry\" column\n",
    "\n",
    "Every GeoDataFrame contains a special \"geometry\" column.  It contains all of the geometric objects that are displayed when we call the `plot()` method."
   ]
  },
  {
   "cell_type": "code",
   "execution_count": null,
   "metadata": {},
   "outputs": [],
   "source": [
    "wild_lands.geometry.head()"
   ]
  },
  {
   "cell_type": "markdown",
   "metadata": {},
   "source": [
    "While this column can contain a variety of different datatypes, each entry will typically be a `Point`, `LineString`, or `Polygon`.\n",
    "\n",
    "![](https://i.imgur.com/N1llefr.png)\n",
    "\n",
    "The \"geometry\" column in the dataset that we've just loaded contains 2983 different `Polygon` objects, each corresponding to a different shape in the plot above.\n",
    "\n",
    "In the code cell below, we create three more GeoDataFrames, containing campsite locations (`Point`), foot trails (`LineString`), and county boundaries (`Polygon`)."
   ]
  },
  {
   "cell_type": "code",
   "execution_count": null,
   "metadata": {
    "_kg_hide-input": false
   },
   "outputs": [],
   "source": [
    "# Contains locations of campsites in New York state (Point)\n",
    "POI_data = gpd.read_file(\"../input/geospatial-course-data/dec_pointsinterest/Decptsofinterest.shp\")\n",
    "campsites = POI_data.loc[POI_data.ASSET=='PRIMITIVE CAMPSITE'].copy()\n",
    "\n",
    "# Contains foot trails in New York state (LineString)\n",
    "roads_trails = gpd.read_file(\"../input/geospatial-course-data/dec_roadstrails/Decroadstrails.shp\")\n",
    "trails = roads_trails.loc[roads_trails.ASSET=='FOOT TRAIL'].copy()\n",
    "\n",
    "# Contains county boundaries in New York state (Polygon)\n",
    "counties = gpd.read_file(\"../input/geospatial-course-data/NY_county_boundaries/NY_county_boundaries.shp\")"
   ]
  },
  {
   "cell_type": "markdown",
   "metadata": {},
   "source": [
    "And now we have a map of New York that we can use to guide our next camping trip!"
   ]
  },
  {
   "cell_type": "code",
   "execution_count": null,
   "metadata": {},
   "outputs": [],
   "source": [
    "ax = counties.plot(figsize=(10,10), color='none', edgecolor='gainsboro', zorder=3)\n",
    "wild_lands.plot(color='lightgreen', ax=ax)\n",
    "campsites.plot(color='maroon', markersize=2, ax=ax)\n",
    "trails.plot(color='black', markersize=1, ax=ax)"
   ]
  },
  {
   "cell_type": "markdown",
   "metadata": {},
   "source": [
    "# Your turn\n",
    "\n",
    "Use what you've learned to investigate ..."
   ]
  }
 ],
 "metadata": {
  "kernelspec": {
   "display_name": "Python 3",
   "language": "python",
   "name": "python3"
  },
  "language_info": {
   "codemirror_mode": {
    "name": "ipython",
    "version": 3
   },
   "file_extension": ".py",
   "mimetype": "text/x-python",
   "name": "python",
   "nbconvert_exporter": "python",
   "pygments_lexer": "ipython3",
   "version": "3.6.5"
  }
 },
 "nbformat": 4,
 "nbformat_minor": 1
}
