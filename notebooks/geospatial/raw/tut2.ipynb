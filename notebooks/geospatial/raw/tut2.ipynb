{
 "cells": [
  {
   "cell_type": "markdown",
   "metadata": {},
   "source": [
    "# Introduction\n",
    "\n",
    "In this tutorial, you'll learn how to create interactive maps with the **folium** package.  Along the way, you'll apply your new skills to visualize Boston crime data."
   ]
  },
  {
   "cell_type": "code",
   "execution_count": null,
   "metadata": {},
   "outputs": [],
   "source": [
    "import pandas as pd\n",
    "import geopandas as gpd\n",
    "\n",
    "import folium\n",
    "from folium import Choropleth, Circle\n",
    "from folium.plugins import HeatMap"
   ]
  },
  {
   "cell_type": "markdown",
   "metadata": {},
   "source": [
    "We define a function `embed_map()` for displaying interactive maps.  It accepts two arguments: the variable containing the map, and the name of the HTML file where the map will be saved.\n",
    "\n",
    "This function ensures that the maps are visible [in all web browsers](https://github.com/python-visualization/folium/issues/812)."
   ]
  },
  {
   "cell_type": "code",
   "execution_count": null,
   "metadata": {},
   "outputs": [],
   "source": [
    "# Function for displaying the map\n",
    "def embed_map(m, file_name):\n",
    "    from IPython.display import IFrame\n",
    "    m.save(file_name)\n",
    "    return IFrame(file_name, width='100%', height='500px')"
   ]
  },
  {
   "cell_type": "markdown",
   "metadata": {},
   "source": [
    "# Your first interactive map\n",
    "\n",
    "We'll begin by creating a relatively simple map with `folium.Map()`."
   ]
  },
  {
   "cell_type": "code",
   "execution_count": null,
   "metadata": {},
   "outputs": [],
   "source": [
    "# Create a map\n",
    "m_1 = folium.Map(location=[42.32,-71.0589], tiles='openstreetmap', zoom_start=10)\n",
    "\n",
    "# Display the map\n",
    "embed_map(m_1, 'm_1.html')"
   ]
  },
  {
   "cell_type": "markdown",
   "metadata": {},
   "source": [
    "We use several arguments to customize the appearance of the map:\n",
    "- The `location` argument sets the initial center of the map. We use the latitude (42.3601&deg; N) and longitude (-71.0589&deg; E) of the city of Boston.  \n",
    "- The `tiles` argument changes the styling of the map; in this case, we choose the [OpenStreetMap](https://www.openstreetmap.org/#map=10/42.32/-71.0589) style.  If you're curious, you can find the other options listed [here](https://github.com/python-visualization/folium/tree/master/folium/templates/tiles).\n",
    "- The `zoom_start` argument sets the initial level of zoom of the map, where higher values zoom in closer to the map.\n",
    "\n",
    "Feel free to explore by zooming in and out, or by dragging the map in different directions.\n",
    "\n",
    "# The data\n",
    "\n",
    "Now, we'll load some crime data to add to the map! \n",
    "\n",
    "We won't focus on the data loading step. Instead, you can imagine you are at a point where you already have the data in a pandas DataFrame `crimes`.  The first five rows of the data are shown below."
   ]
  },
  {
   "cell_type": "code",
   "execution_count": null,
   "metadata": {
    "_kg_hide-input": true
   },
   "outputs": [],
   "source": [
    "# Load the data\n",
    "crimes = pd.read_csv(\"../input/geospatial-course-data/crimes-in-boston/crime.csv\", encoding='latin-1')\n",
    "\n",
    "# Drop rows with missing locations\n",
    "crimes.dropna(subset=['Lat', 'Long', 'DISTRICT'], inplace=True)\n",
    "\n",
    "# Focus on major crimes in 2018\n",
    "crimes = crimes[crimes.OFFENSE_CODE_GROUP.isin([\n",
    "    'Larceny', 'Auto Theft', 'Robbery', 'Larceny From Motor Vehicle', 'Residential Burglary',\n",
    "    'Simple Assault', 'Harassment', 'Ballistics', 'Aggravated Assault', 'Other Burglary', \n",
    "    'Arson', 'Commercial Burglary', 'HOME INVASION', 'Homicide', 'Criminal Harassment', \n",
    "    'Manslaughter'])]\n",
    "crimes = crimes[crimes.YEAR>=2018]\n",
    "\n",
    "# Print the first five rows of the table\n",
    "crimes.head()"
   ]
  },
  {
   "cell_type": "markdown",
   "metadata": {},
   "source": [
    "# Bubble map\n",
    "\n",
    "To create a bubble map, ...  For each criminal incident, we add a circle that's centered at the location."
   ]
  },
  {
   "cell_type": "code",
   "execution_count": null,
   "metadata": {},
   "outputs": [],
   "source": [
    "# Create a base map\n",
    "m_2 = folium.Map(location=[42.32,-71.0589], tiles='cartodbpositron', zoom_start=13)\n",
    "\n",
    "# Add a bubble map to the base map\n",
    "for i in range(0,len(crimes)):\n",
    "    Circle(\n",
    "        location=[crimes.iloc[i]['Lat'], crimes.iloc[i]['Long']],\n",
    "        radius=3,\n",
    "        color='darkred',\n",
    "        fill=True).add_to(m_2)\n",
    "\n",
    "# Display the map\n",
    "embed_map(m_2, 'm_2.html')"
   ]
  },
  {
   "cell_type": "markdown",
   "metadata": {},
   "source": [
    "We loop over rows of the `crimes` DataFrame, and use `folium.Circle()` to add circles to the map.\n",
    "\n",
    "Note that `folium.Circle()` takes several arguments:\n",
    "- `location=[crimes.iloc[i]['Lat'], crimes.iloc[i]['Long']]` supplies the location of the crime (in latitude and longitude).\n",
    "- `radius=3` sets the radius of the circle.  Note that in a traditional bubble map, these are allowed to vary by xyz.\n",
    "- `color='darkred'` sets the color of each circle.\n",
    "- `fill=True` ..."
   ]
  },
  {
   "cell_type": "markdown",
   "metadata": {},
   "source": [
    "# Heatmap\n",
    "\n",
    "If our goal is to determine areas with higer crime rates, it might be difficult to gauge from a bubble map.  Heatmap might be better.\n",
    "\n",
    "To create a heatmap, we use [`folium.plugins.Heatmap()`](https://python-visualization.github.io/folium/plugins.html#folium.plugins.HeatMap).  This shows the density of crime in different areas of the city.  \n",
    "\n",
    "As we'd expect for a big city, most of the crime happens near the center."
   ]
  },
  {
   "cell_type": "code",
   "execution_count": null,
   "metadata": {},
   "outputs": [],
   "source": [
    "# Create a base map\n",
    "m_3 = folium.Map(location=[42.32,-71.0589], tiles='cartodbpositron', zoom_start=12)\n",
    "\n",
    "# Add a heatmap to the base map\n",
    "HeatMap(data=crimes[['Lat', 'Long']], radius=10).add_to(m_3)\n",
    "\n",
    "# Display the map\n",
    "embed_map(m_3, 'm_3.html')"
   ]
  },
  {
   "cell_type": "markdown",
   "metadata": {},
   "source": [
    "We set `data=crimes[['Lat', 'Long']]` as the locations (in latitude and longitude) of the criminal incidents.\n",
    "\n",
    "The `radius` argument controls the smoothness of the heatmap.  Higher values make the heatmap look smoother (i.e., with fewer gaps).\n",
    "\n",
    "After creating the heatmap, we use the `add_to()` method to add it to the detailed map of the city."
   ]
  },
  {
   "cell_type": "markdown",
   "metadata": {},
   "source": [
    "# Choropleth map\n",
    "\n",
    "You're interested in understanding how crime varies by police district.\n",
    "\n",
    "Towards this goal, we'll create a GeoDataFrame where each district is assigned a different row, and the `'geometry'` column contains the geographical boundaries."
   ]
  },
  {
   "cell_type": "code",
   "execution_count": null,
   "metadata": {},
   "outputs": [],
   "source": [
    "districts = gpd.read_file('../input/geospatial-course-data/police_districts/Police_Districts.shp')\n",
    "districts = districts[[\"DISTRICT\", \"geometry\"]]\n",
    "districts.head()"
   ]
  },
  {
   "cell_type": "markdown",
   "metadata": {},
   "source": [
    "To prepare to plot the data, we have to convert the GeoDataFrame to a [GeoJSON FeatureCollection](https://en.wikipedia.org/wiki/GeoJSON) with the `__geo_interface__` attribute.\n"
   ]
  },
  {
   "cell_type": "code",
   "execution_count": null,
   "metadata": {},
   "outputs": [],
   "source": [
    "# Create GeoJSON FeatureCollection containing geographical extents of each district\n",
    "geo_json_data = districts.set_index('DISTRICT').__geo_interface__"
   ]
  },
  {
   "cell_type": "markdown",
   "metadata": {},
   "source": [
    "`geo_json_data` is a very large Python dictionary, and you can find a small preview below:\n",
    "\n",
    "```\n",
    "{\n",
    "    'type': 'FeatureCollection',\n",
    "    'features': [\n",
    "        {\n",
    "            'id': 'A15',\n",
    "            'type': 'Feature',\n",
    "            'properties': {},\n",
    "            'geometry': {\n",
    "                'type': 'MultiPolygon',\n",
    "                'coordinates': [(((-71.07415718153364, 42.390507686248306), \n",
    "                                  (-71.07415424746895, 42.390503696137124), ...),)]\n",
    "            },\n",
    "           'bbox': (-71.08098977707851, 42.36855783087253, \n",
    "                    -71.04732198289226, 42.395115613536824)\n",
    "        },\n",
    "        {\n",
    "            'id': 'A7',\n",
    "            'type': 'Feature',\n",
    "            'properties': {},\n",
    "            'geometry': {\n",
    "                'type': 'MultiPolygon',\n",
    "                'coordinates': [(((-70.99644430907341, 42.395567982613706), \n",
    "                                  (-70.9964432120769, 42.3955663320891), ...),)]\n",
    "            },\n",
    "            'bbox': (-71.04571829638523, 42.34379288691729, \n",
    "                     -70.95296107011458, 42.396948318600884)\n",
    "        },\n",
    "        ...\n",
    "    ]\n",
    "}\n",
    "```"
   ]
  },
  {
   "cell_type": "markdown",
   "metadata": {},
   "source": [
    "We'll also create a Pandas Series `plot_dict` that shows the number of crimes in each district."
   ]
  },
  {
   "cell_type": "code",
   "execution_count": null,
   "metadata": {},
   "outputs": [],
   "source": [
    "plot_dict = crimes.DISTRICT.value_counts()\n",
    "plot_dict"
   ]
  },
  {
   "cell_type": "markdown",
   "metadata": {},
   "source": [
    "We'll use both `geo_json_data` and `plot_dict` to create a choropleth map, using the `folium.Choropleth()` class."
   ]
  },
  {
   "cell_type": "code",
   "execution_count": null,
   "metadata": {},
   "outputs": [],
   "source": [
    "# Create a base map\n",
    "m_4 = folium.Map(location=[42.32,-71.0589], tiles='cartodbpositron', zoom_start=12)\n",
    "\n",
    "# Add a choropleth map to the base map\n",
    "Choropleth(geo_data=geo_json_data, \n",
    "           data=plot_dict, \n",
    "           key_on=\"feature.id\", \n",
    "           fill_color='YlGnBu', \n",
    "           legend_name='Major criminal incidents (Jan-Aug 2018)'\n",
    "          ).add_to(m_4)\n",
    "\n",
    "# Display the map\n",
    "embed_map(m_4, 'm_4.html')"
   ]
  },
  {
   "cell_type": "markdown",
   "metadata": {},
   "source": [
    "We set `geo_data=geo_json_data` as the GeoJSON object containing the geographical boundaries for each district.\n",
    "\n",
    "Then, `data=plot_dict` is a Pandas series containing the total number of crimes in each district.  This series will be used to color-code each district.\n",
    "\n",
    "Next, `key_on=\"feature.id\"` refers to the fact that each district has a corresponding entry in `geo_json_data['features']`, and the values corresponding to the`'id'` key correspond to the index in the `plot_dict` Series.\n",
    "\n",
    "Finally, `fill_color` sets the color scale, and `legend_name` labels the legend in the top right corner.\n",
    "\n",
    "# Your turn\n",
    "\n",
    "you've learned about a lot of different map styles. put your new skills to use ..."
   ]
  }
 ],
 "metadata": {
  "kernelspec": {
   "display_name": "Python 3",
   "language": "python",
   "name": "python3"
  },
  "language_info": {
   "codemirror_mode": {
    "name": "ipython",
    "version": 3
   },
   "file_extension": ".py",
   "mimetype": "text/x-python",
   "name": "python",
   "nbconvert_exporter": "python",
   "pygments_lexer": "ipython3",
   "version": "3.6.5"
  }
 },
 "nbformat": 4,
 "nbformat_minor": 1
}
