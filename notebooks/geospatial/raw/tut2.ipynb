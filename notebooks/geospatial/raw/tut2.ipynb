{
 "cells": [
  {
   "cell_type": "markdown",
   "metadata": {},
   "source": [
    "# Introduction\n",
    "\n",
    "In this tutorial, you'll learn how to create interactive maps with the **folium** package.  Along the way, you'll apply your new skills to visualize Boston crime data."
   ]
  },
  {
   "cell_type": "code",
   "execution_count": null,
   "metadata": {},
   "outputs": [],
   "source": [
    "import pandas as pd\n",
    "import geopandas as gpd\n",
    "\n",
    "import folium\n",
    "from folium import Choropleth, Circle\n",
    "from folium.plugins import HeatMap"
   ]
  },
  {
   "cell_type": "markdown",
   "metadata": {},
   "source": [
    "We define a function `embed_map()` for displaying interactive maps.  It accepts two arguments: the variable containing the map, and the name of the HTML file where the map will be saved.\n",
    "\n",
    "This function ensures that the maps are visible [in all web browsers](https://github.com/python-visualization/folium/issues/812)."
   ]
  },
  {
   "cell_type": "code",
   "execution_count": null,
   "metadata": {},
   "outputs": [],
   "source": [
    "# Function for displaying the map\n",
    "def embed_map(m, file_name):\n",
    "    from IPython.display import IFrame\n",
    "    m.save(file_name)\n",
    "    return IFrame(file_name, width='100%', height='500px')"
   ]
  },
  {
   "cell_type": "markdown",
   "metadata": {},
   "source": [
    "# Your first interactive map\n",
    "\n",
    "We'll begin by creating a relatively simple map with `folium.Map()`."
   ]
  },
  {
   "cell_type": "code",
   "execution_count": null,
   "metadata": {},
   "outputs": [],
   "source": [
    "# Create a map\n",
    "m_1 = folium.Map(location=[42.32,-71.0589], tiles='openstreetmap', zoom_start=10)\n",
    "\n",
    "# Display the map\n",
    "embed_map(m_1, 'm_1.html')"
   ]
  },
  {
   "cell_type": "markdown",
   "metadata": {},
   "source": [
    "Several arguments customize the appearance of the map:\n",
    "- `location` sets the initial center of the map. We use the latitude (42.3601&deg; N) and longitude (-71.0589&deg; E) of the city of Boston.  \n",
    "- `tiles` changes the styling of the map; in this case, we choose the [OpenStreetMap](https://www.openstreetmap.org/#map=10/42.32/-71.0589) style.  If you're curious, you can find the other options listed [here](https://github.com/python-visualization/folium/tree/master/folium/templates/tiles).\n",
    "- `zoom_start` sets the initial level of zoom of the map, where higher values zoom in closer to the map.\n",
    "\n",
    "Feel free to explore by zooming in and out, or by dragging the map in different directions.\n",
    "\n",
    "# The data\n",
    "\n",
    "Now, we'll load some crime data to add to the map! \n",
    "\n",
    "We won't focus on the data loading step. Instead, you can imagine you are at a point where you already have the data in a pandas DataFrame `crimes`.  The first five rows of the data are shown below."
   ]
  },
  {
   "cell_type": "code",
   "execution_count": null,
   "metadata": {
    "_kg_hide-input": true
   },
   "outputs": [],
   "source": [
    "#$HIDE_INPUT$\n",
    "# Load the data\n",
    "crimes = pd.read_csv(\"../input/geospatial-course-data/crimes-in-boston/crime.csv\", encoding='latin-1')\n",
    "\n",
    "# Drop rows with missing locations\n",
    "crimes.dropna(subset=['Lat', 'Long', 'DISTRICT'], inplace=True)\n",
    "\n",
    "# Focus on major crimes in 2018\n",
    "crimes = crimes[crimes.OFFENSE_CODE_GROUP.isin([\n",
    "    'Larceny', 'Auto Theft', 'Robbery', 'Larceny From Motor Vehicle', 'Residential Burglary',\n",
    "    'Simple Assault', 'Harassment', 'Ballistics', 'Aggravated Assault', 'Other Burglary', \n",
    "    'Arson', 'Commercial Burglary', 'HOME INVASION', 'Homicide', 'Criminal Harassment', \n",
    "    'Manslaughter'])]\n",
    "crimes = crimes[crimes.YEAR>=2018]\n",
    "\n",
    "# Print the first five rows of the table\n",
    "crimes.head()"
   ]
  },
  {
   "cell_type": "markdown",
   "metadata": {},
   "source": [
    "# Bubble map\n",
    "\n",
    "We can create a **bubble map** by looping over rows of the `crimes` DataFrame, and using `folium.Circle()` to add circles to the map."
   ]
  },
  {
   "cell_type": "code",
   "execution_count": null,
   "metadata": {},
   "outputs": [],
   "source": [
    "# Create a base map\n",
    "m_2 = folium.Map(location=[42.32,-71.0589], tiles='cartodbpositron', zoom_start=13)\n",
    "\n",
    "# Add a bubble map to the base map\n",
    "for i in range(0,len(crimes)):\n",
    "    Circle(\n",
    "        location=[crimes.iloc[i]['Lat'], crimes.iloc[i]['Long']],\n",
    "        radius=3,\n",
    "        color='darkred',\n",
    "        fill=True).add_to(m_2)\n",
    "\n",
    "# Display the map\n",
    "embed_map(m_2, 'm_2.html')"
   ]
  },
  {
   "cell_type": "markdown",
   "metadata": {},
   "source": [
    "Note that `folium.Circle()` takes several arguments:\n",
    "- `location=[crimes.iloc[i]['Lat'], crimes.iloc[i]['Long']]` supplies the location of the crime (in latitude and longitude).\n",
    "- `radius=3` sets the radius of the circle.  Note that in a traditional bubble map, these are allowed to vary by xyz.\n",
    "- `color='darkred'` sets the color of each circle.\n",
    "- `fill=True` ...\n",
    "\n",
    "In the map above, our bubbles all have uniform size and color.  However, by allowing the `radius` and `color` arguments to vary with each data point, we can \n",
    "\n",
    "After creating ..., we use the `add_to()` method to add it to the detailed map of the city."
   ]
  },
  {
   "cell_type": "markdown",
   "metadata": {},
   "source": [
    "# Heatmap\n",
    "\n",
    "To create a heatmap, we use [`folium.plugins.Heatmap()`](https://python-visualization.github.io/folium/plugins.html#folium.plugins.HeatMap).  This shows the density of crime in different areas of the city, where red areas have relatively more criminal incidents.\n",
    "\n",
    "As we'd expect for a big city, most of the crime happens near the center."
   ]
  },
  {
   "cell_type": "code",
   "execution_count": null,
   "metadata": {},
   "outputs": [],
   "source": [
    "# Create a base map\n",
    "m_3 = folium.Map(location=[42.32,-71.0589], tiles='cartodbpositron', zoom_start=12)\n",
    "\n",
    "# Add a heatmap to the base map\n",
    "HeatMap(data=crimes[['Lat', 'Long']], radius=10).add_to(m_3)\n",
    "\n",
    "# Display the map\n",
    "embed_map(m_3, 'm_3.html')"
   ]
  },
  {
   "cell_type": "markdown",
   "metadata": {},
   "source": [
    "As you can see in the code cell above, `folium.plugins.HeatMap()` takes a couple arguments:\n",
    "- `data` is a DataFrame containing the locations that we'd like to plot.  \n",
    "- `radius` controls the smoothness of the heatmap.  Higher values make the heatmap look smoother (i.e., with fewer gaps)."
   ]
  },
  {
   "cell_type": "markdown",
   "metadata": {},
   "source": [
    "# Choropleth map\n",
    "\n",
    "To understand how crime varies by police district, we'll create a choropleth map.\n",
    "\n",
    "As a first step, we create a GeoDataFrame where each district is assigned a different row, and the \"geometry\" column contains the geographical boundaries."
   ]
  },
  {
   "cell_type": "code",
   "execution_count": null,
   "metadata": {},
   "outputs": [],
   "source": [
    "# GeoDataFrame with geographical boundaries of Boston police districts\n",
    "districts_full = gpd.read_file('../input/geospatial-course-data/Police_Districts/Police_Districts.shp')\n",
    "districts = districts_full[[\"DISTRICT\", \"geometry\"]].set_index(\"DISTRICT\")\n",
    "districts.head()"
   ]
  },
  {
   "cell_type": "markdown",
   "metadata": {},
   "source": [
    "We also create a Pandas Series called `plot_dict` that shows the number of crimes in each district."
   ]
  },
  {
   "cell_type": "code",
   "execution_count": null,
   "metadata": {},
   "outputs": [],
   "source": [
    "# Number of crimes in each police district\n",
    "plot_dict = crimes.DISTRICT.value_counts()\n",
    "plot_dict.head()"
   ]
  },
  {
   "cell_type": "markdown",
   "metadata": {},
   "source": [
    "Note that it's very important that `plot_dict` has the same index as `districts` - this is how the code knows how to match the geographical boundaries with appropriate colors.\n",
    "\n",
    "Using the `folium.Choropleth()` class, we can create a choropleth map."
   ]
  },
  {
   "cell_type": "code",
   "execution_count": null,
   "metadata": {},
   "outputs": [],
   "source": [
    "# Create a base map\n",
    "m_4 = folium.Map(location=[42.32,-71.0589], tiles='cartodbpositron', zoom_start=12)\n",
    "\n",
    "# Add a choropleth map to the base map\n",
    "Choropleth(geo_data=districts.__geo_interface__, \n",
    "           data=plot_dict, \n",
    "           key_on=\"feature.id\", \n",
    "           fill_color='YlGnBu', \n",
    "           legend_name='Major criminal incidents (Jan-Aug 2018)'\n",
    "          ).add_to(m_4)\n",
    "\n",
    "# Display the map\n",
    "embed_map(m_4, 'm_4.html')"
   ]
  },
  {
   "cell_type": "markdown",
   "metadata": {},
   "source": [
    "Note that `folium.Choropleth()` takes several arguments:\n",
    "- `geo_data` is a GeoJSON FeatureCollection containing the boundaries of each geographical area.\n",
    " - In the code above, we convert the `districts` GeoDataFrame to a [GeoJSON FeatureCollection](https://en.wikipedia.org/wiki/GeoJSON) with the `__geo_interface__` attribute.\n",
    "- `data` is a Pandas Series containing the values that will be used to color-code each geographical area.  \n",
    "- `key_on` will always be set to `feature.id`.  \n",
    " - This refers to the fact that the GeoDataFrame used for `geo_data` and the Pandas Series provided in `data` have the same index.  To understand the details, we'd have to look more closely at the structure of a GeoJSON Feature Collection (where the value corresponding to the \"features\" key is a list, where each entry is a dictionary containing an \"id\" key).\n",
    "- `fill_color` sets the color scale. \n",
    "- `legend_name` labels the legend in the top right corner of the map.\n",
    "\n",
    "# Your turn\n",
    "\n",
    "you've learned about a lot of different map styles. put your new skills to use ..."
   ]
  }
 ],
 "metadata": {
  "kernelspec": {
   "display_name": "Python 3",
   "language": "python",
   "name": "python3"
  },
  "language_info": {
   "codemirror_mode": {
    "name": "ipython",
    "version": 3
   },
   "file_extension": ".py",
   "mimetype": "text/x-python",
   "name": "python",
   "nbconvert_exporter": "python",
   "pygments_lexer": "ipython3",
   "version": "3.6.5"
  }
 },
 "nbformat": 4,
 "nbformat_minor": 1
}
