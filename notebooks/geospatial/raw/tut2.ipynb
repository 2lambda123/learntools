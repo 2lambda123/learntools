{
 "cells": [
  {
   "cell_type": "markdown",
   "metadata": {},
   "source": [
    "# Introduction\n",
    "\n",
    "In this tutorial, you'll learn about more features of GeoPandas.\n",
    "\n",
    "# Working with CSV data\n",
    "\n",
    "So far, you have learned how to use the Geopandas library to work with shapefile data.  To create a GeoDataFrame from a CSV file, we'll need to use both Pandas and GeoPandas."
   ]
  },
  {
   "cell_type": "code",
   "execution_count": null,
   "metadata": {},
   "outputs": [],
   "source": [
    "import geopandas as gpd\n",
    "import pandas as pd"
   ]
  },
  {
   "cell_type": "markdown",
   "metadata": {},
   "source": [
    "We begin by creating a DataFrame `facilities_df` containing health facilities in Ghana."
   ]
  },
  {
   "cell_type": "code",
   "execution_count": null,
   "metadata": {},
   "outputs": [],
   "source": [
    "# Create a DataFrame with health facilities in Ghana\n",
    "facilities_df = pd.read_csv(\"../input/geospatial-course-data/ghana/health_facilities.csv\")\n",
    "print(type(facilities_df))\n",
    "facilities_df.head()"
   ]
  },
  {
   "cell_type": "markdown",
   "metadata": {},
   "source": [
    "To convert it to a GeoDataFrame, we use `gpd.GeoDataFrame()`.  The `gpd.points_from_xy()` function creates `Point` objects from the latitude and longitude coordinates."
   ]
  },
  {
   "cell_type": "code",
   "execution_count": null,
   "metadata": {},
   "outputs": [],
   "source": [
    "# Convert the DataFrame to a GeoDataFrame\n",
    "facilities = gpd.GeoDataFrame(facilities_df, geometry=gpd.points_from_xy(facilities_df.Longitude, facilities_df.Latitude))\n",
    "print(type(facilities))\n",
    "facilities.head()"
   ]
  },
  {
   "cell_type": "markdown",
   "metadata": {},
   "source": [
    "# Coordinate reference system (CRS)\n",
    "\n",
    "All of the maps you will create in this course portray the surface of the earth in two dimensions.  But, as you know, the world is actually a three-dimensional globe, and so we have to use a special method, called a **map projection**, to render it as a flat surface.  No map projection can ever be 100% accurate.  But, depending on the regional extent of your map and the type of analysis you plan to do, some are better than others.\n",
    "\n",
    "We use a **coordinate reference system (CRS)** to show how the points on the map correspond to real locations on Earth.  And, we identify different coordinate reference systems according to their [European Petroleum Survey Group (EPSG)](http://www.epsg.org/) codes.  For instance, EPSG code 4326 corresponds to coordinates in latitude and longitude.\n",
    "\n",
    "When creating a GeoDataFrame _from a CSV file_, we have to set the CRS. "
   ]
  },
  {
   "cell_type": "code",
   "execution_count": null,
   "metadata": {},
   "outputs": [],
   "source": [
    "# Set coordinate reference system (CRS) to EPSG 4326\n",
    "facilities.crs = {'init': 'epsg:4326'}"
   ]
  },
  {
   "cell_type": "markdown",
   "metadata": {},
   "source": [
    "When we create a GeoDataFrame _from a shapefile_, the CRS is already imported for us (and it was saved as part of the shapefile).  For instance, in the code cell below, the CRS of the GeoDataFrame `regions` is [EPSG 32630](https://epsg.io/32630). "
   ]
  },
  {
   "cell_type": "code",
   "execution_count": null,
   "metadata": {},
   "outputs": [],
   "source": [
    "# Load a GeoDataFrame containing regions in Ghana\n",
    "regions = gpd.read_file(\"../input/geospatial-course-data/ghana/Regions/Map_of_Regions_in_Ghana.shp\")\n",
    "print(regions.crs)"
   ]
  },
  {
   "cell_type": "markdown",
   "metadata": {},
   "source": [
    "When plotting multiple GeoDataFrames, it's important that they all use the same CRS.  The code cell below uses the `to_crs()` method to change the CRS of the `facilities` GeoDataFrame to match the CRS of `regions` before plotting it."
   ]
  },
  {
   "cell_type": "code",
   "execution_count": null,
   "metadata": {},
   "outputs": [],
   "source": [
    "# Create a map\n",
    "ax = regions.plot(figsize=(8,8), color='whitesmoke', linestyle=':', edgecolor='black')\n",
    "facilities.to_crs(epsg=32630).plot(markersize=1, ax=ax)"
   ]
  },
  {
   "cell_type": "markdown",
   "metadata": {},
   "source": [
    "Note that the `to_crs()` method modifies only the \"geometry\" column: all other columns are left as-is."
   ]
  },
  {
   "cell_type": "code",
   "execution_count": null,
   "metadata": {},
   "outputs": [],
   "source": [
    "# The \"Latitude\" and \"Longitude\" columns are unchanged\n",
    "facilities.to_crs(epsg=32630).head()"
   ]
  },
  {
   "cell_type": "markdown",
   "metadata": {},
   "source": [
    "# Attributes of geometric objects\n",
    "\n",
    "As you learned in the first tutorial, for an arbitrary GeoDataFrame, the type in the \"geometry\" column depends on what we are trying to show: for instance, we might use:\n",
    "- a `Point` for the epicenter of an earthquake, \n",
    "- a `Line` for a street, or \n",
    "- a `Polygon` to show country boundaries.\n",
    "\n",
    "All three types of geometric objects have built-in attributes that you can use to quickly analyze the dataset.  For instance, you can get the x- and y-coordinates of a `Point` from the `x` and `y` attributes, respectively."
   ]
  },
  {
   "cell_type": "code",
   "execution_count": null,
   "metadata": {},
   "outputs": [],
   "source": [
    "# Get the x-coordinate of each point\n",
    "facilities.geometry.x.head()"
   ]
  },
  {
   "cell_type": "markdown",
   "metadata": {},
   "source": [
    "And, you can get the length of a `LineString` from the `length` attribute.  \n",
    "\n",
    "Or, you can get the area of a `Polygon` from the `area` attribute."
   ]
  },
  {
   "cell_type": "code",
   "execution_count": null,
   "metadata": {},
   "outputs": [],
   "source": [
    "# Calculate the area (in square meters) of each polygon in the GeoDataFrame \n",
    "regions.loc[:, \"AREA\"] = regions.geometry.area / 10**6\n",
    "\n",
    "print(\"Area of Ghana: {} square kilometers\".format(regions.AREA.sum()))\n",
    "regions.head()"
   ]
  },
  {
   "cell_type": "markdown",
   "metadata": {},
   "source": [
    "In the code cell above, we divide by $10^6$ to convert from units of square meters to units of square kilometers.  \n",
    "\n",
    "Note that the choice of CRS is very important for calculating area and distance (as some coordinate references systems can distort these quantities).  We won't delve deeply into how to select an appropriate CRS for your data in this micro-course.  But, if you'd like to learn more, you can read more at [this link](https://www.axismaps.com/guide/general/map-projections/)."
   ]
  },
  {
   "cell_type": "markdown",
   "metadata": {},
   "source": [
    "# Your turn\n",
    "\n",
    "Use what you've learned to **[track bird migration to South America](#$NEXT_NOTEBOOK_URL$)**."
   ]
  }
 ],
 "metadata": {
  "kernelspec": {
   "display_name": "Python 3",
   "language": "python",
   "name": "python3"
  },
  "language_info": {
   "codemirror_mode": {
    "name": "ipython",
    "version": 3
   },
   "file_extension": ".py",
   "mimetype": "text/x-python",
   "name": "python",
   "nbconvert_exporter": "python",
   "pygments_lexer": "ipython3",
   "version": "3.6.5"
  }
 },
 "nbformat": 4,
 "nbformat_minor": 1
}
