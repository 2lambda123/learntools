{
 "cells": [
  {
   "cell_type": "markdown",
   "metadata": {},
   "source": [
    "# Introduction \n",
    "\n",
    "...\n",
    "\n",
    "Before you get started, run the code cell below to set everything up."
   ]
  },
  {
   "cell_type": "code",
   "execution_count": null,
   "metadata": {},
   "outputs": [],
   "source": [
    "import math\n",
    "import geopandas as gpd\n",
    "import pandas as pd\n",
    "from shapely.geometry import MultiPolygon\n",
    "\n",
    "import folium\n",
    "from folium import Choropleth\n",
    "from folium.plugins import HeatMap, MarkerCluster"
   ]
  },
  {
   "cell_type": "markdown",
   "metadata": {},
   "source": [
    "You'll use the `embed_map()` function to visualize your maps."
   ]
  },
  {
   "cell_type": "code",
   "execution_count": null,
   "metadata": {},
   "outputs": [],
   "source": [
    "def embed_map(m, file_name):\n",
    "    from IPython.display import IFrame\n",
    "    m.save(file_name)\n",
    "    return IFrame(file_name, width='100%', height='500px')"
   ]
  },
  {
   "cell_type": "markdown",
   "metadata": {},
   "source": [
    "# Exercises\n",
    "\n",
    "### 1) Create a buffer.\n",
    "\n",
    "62 hospitals"
   ]
  },
  {
   "cell_type": "code",
   "execution_count": null,
   "metadata": {},
   "outputs": [],
   "source": [
    "hospitals = gpd.read_file(\"../input/geospatial-course-data/nyu_2451_34494/nyu_2451_34494.shp\")\n",
    "hospitals['latitude'] = hospitals.geometry.to_crs(epsg=4326).y\n",
    "hospitals['longitude'] = hospitals.geometry.to_crs(epsg=4326).x\n",
    "hospitals.head()"
   ]
  },
  {
   "cell_type": "code",
   "execution_count": null,
   "metadata": {},
   "outputs": [],
   "source": [
    "m = folium.Map(location=[40.7, -74], zoom_start=11) \n",
    "\n",
    "mc = MarkerCluster()\n",
    "\n",
    "for idx, row in hospitals.iterrows():\n",
    "    if not math.isnan(row['longitude']) and not math.isnan(row['latitude']):\n",
    "        mc.add_child(folium.Marker([row['latitude'], row['longitude']]))\n",
    "        folium.Circle([row['latitude'], row['longitude']],\n",
    "                    radius=1000,\n",
    "                    color='blue',\n",
    "                    fill=True\n",
    "                    ).add_to(m)\n",
    "        \n",
    "m.add_child(mc)\n",
    "m "
   ]
  },
  {
   "cell_type": "markdown",
   "metadata": {},
   "source": [
    "### 2)\n",
    "\n",
    "notes on [buffer](https://shapely.readthedocs.io/en/latest/manual.html#object.buffer)"
   ]
  },
  {
   "cell_type": "code",
   "execution_count": null,
   "metadata": {},
   "outputs": [],
   "source": [
    "hosp_buffer = gpd.GeoDataFrame(hospitals, geometry=hospitals.geometry.buffer(1000))\n",
    "hosp_buffer.head()"
   ]
  },
  {
   "cell_type": "code",
   "execution_count": null,
   "metadata": {},
   "outputs": [],
   "source": [
    "m = folium.Map(location=[40.7, -74], zoom_start = 11) \n",
    "\n",
    "HeatMap(data=hospitals[['latitude', 'longitude']], radius=20, max_zoom=13).add_to(m)\n",
    "\n",
    "m "
   ]
  },
  {
   "cell_type": "code",
   "execution_count": null,
   "metadata": {},
   "outputs": [],
   "source": [
    "#[MultiPolygon(list(buffer_gdf.geometry.values)).buffer(0).contains(i) for i in hospitals_gdf.geometry]"
   ]
  },
  {
   "cell_type": "code",
   "execution_count": null,
   "metadata": {},
   "outputs": [],
   "source": [
    "collisions_df = pd.read_csv(\"../input/geospatial-course-data/NYPD_Motor_Vehicle_Collisions.csv\")\n",
    "collisions_gdf = gpd.GeoDataFrame(collisions_df, geometry=gpd.points_from_xy(collisions_df[\"LONGITUDE\"], collisions_df[\"LATITUDE\"]))\n",
    "collisions_gdf.head()"
   ]
  },
  {
   "cell_type": "markdown",
   "metadata": {},
   "source": [
    "note to self. not every collision needs hospitalization"
   ]
  },
  {
   "cell_type": "code",
   "execution_count": null,
   "metadata": {},
   "outputs": [],
   "source": [
    "danger_gdf = collisions_gdf[collisions_gdf[['NUMBER OF PERSONS INJURED', 'NUMBER OF PERSONS KILLED',\n",
    "       'NUMBER OF PEDESTRIANS INJURED', 'NUMBER OF PEDESTRIANS KILLED',\n",
    "       'NUMBER OF CYCLIST INJURED', 'NUMBER OF CYCLIST KILLED',\n",
    "       'NUMBER OF MOTORIST INJURED', 'NUMBER OF MOTORIST KILLED']].sum(axis=1)>0]"
   ]
  },
  {
   "cell_type": "code",
   "execution_count": null,
   "metadata": {},
   "outputs": [],
   "source": [
    "from time import time\n",
    "\n",
    "m = folium.Map(location=[40.7, -74], zoom_start=11) \n",
    "\n",
    "mc = MarkerCluster()\n",
    "\n",
    "for idx, row in hospitals.iterrows():\n",
    "    if not math.isnan(row['longitude']) and not math.isnan(row['latitude']):\n",
    "        folium.Circle([row['latitude'], row['longitude']],\n",
    "                    radius=1000,\n",
    "                    color='blue',\n",
    "                    fill=True\n",
    "                    ).add_to(m)\n",
    "\n",
    "start = time()\n",
    "\n",
    "for idx, row in danger_gdf.iterrows():\n",
    "    if not math.isnan(row['LONGITUDE']) and not math.isnan(row['LATITUDE']):\n",
    "        mc.add_child(folium.Marker([row['LATITUDE'], row['LONGITUDE']]))\n",
    "m.add_child(mc)\n",
    "\n",
    "end = time()\n",
    "\n",
    "print(end-start)"
   ]
  },
  {
   "cell_type": "code",
   "execution_count": null,
   "metadata": {},
   "outputs": [],
   "source": [
    "embed_map(m, \"m_1.html\")"
   ]
  },
  {
   "cell_type": "code",
   "execution_count": null,
   "metadata": {},
   "outputs": [],
   "source": [
    "from tqdm import tqdm\n",
    "mp = MultiPolygon(list(hosp_buffer.geometry.values)).buffer(0)\n",
    "inside_range = [mp.contains(i) for i in tqdm(danger_gdf.geometry.values)]"
   ]
  },
  {
   "cell_type": "code",
   "execution_count": null,
   "metadata": {},
   "outputs": [],
   "source": [
    "outside_danger_gdf = danger_gdf[[not i for i in inside_range]]\n",
    "len(outside_danger_gdf)"
   ]
  },
  {
   "cell_type": "code",
   "execution_count": null,
   "metadata": {},
   "outputs": [],
   "source": [
    "from time import time\n",
    "\n",
    "m = folium.Map(location=[40.7, -74], zoom_start=11) \n",
    "\n",
    "mc = MarkerCluster()\n",
    "\n",
    "for idx, row in hospitals.iterrows():\n",
    "    if not math.isnan(row['longitude']) and not math.isnan(row['latitude']):\n",
    "        folium.Circle([row['latitude'], row['longitude']],\n",
    "                    radius=1000,\n",
    "                    color='blue',\n",
    "                    fill=True\n",
    "                    ).add_to(m)\n",
    "\n",
    "start = time()\n",
    "\n",
    "for idx, row in outside_danger_gdf.iterrows():\n",
    "    if not math.isnan(row['LONGITUDE']) and not math.isnan(row['LATITUDE']):\n",
    "        mc.add_child(folium.Marker([row['LATITUDE'], row['LONGITUDE']]))\n",
    "m.add_child(mc)\n",
    "\n",
    "end = time()\n",
    "\n",
    "print(end-start)"
   ]
  },
  {
   "cell_type": "code",
   "execution_count": null,
   "metadata": {},
   "outputs": [],
   "source": [
    "embed_map(m, \"m2.html\")"
   ]
  },
  {
   "cell_type": "markdown",
   "metadata": {},
   "source": [
    "initially made heatmap with count column all ones. bad idea again because all accidents treated equally, whereas we know some are more dangerous than others"
   ]
  },
  {
   "cell_type": "code",
   "execution_count": null,
   "metadata": {},
   "outputs": [],
   "source": [
    "m = folium.Map(location=[40.7, -74], zoom_start = 11) \n",
    "\n",
    "danger_gdf_copy = danger_gdf.copy()\n",
    "danger_gdf_copy['count'] = danger_gdf_copy[[\n",
    "    #'NUMBER OF PERSONS INJURED', \n",
    "    'NUMBER OF PERSONS KILLED',\n",
    "    #'NUMBER OF PEDESTRIANS INJURED', \n",
    "    'NUMBER OF PEDESTRIANS KILLED',\n",
    "    #'NUMBER OF CYCLIST INJURED', \n",
    "    'NUMBER OF CYCLIST KILLED',\n",
    "    #'NUMBER OF MOTORIST INJURED', \n",
    "    'NUMBER OF MOTORIST KILLED'\n",
    "    ]].sum(axis=1)\n",
    "\n",
    "HeatMap(data=danger_gdf_copy[['LATITUDE', 'LONGITUDE', 'count']].groupby(['LATITUDE', 'LONGITUDE']).sum().reset_index().values.tolist(), radius=20, max_zoom=1).add_to(m)\n",
    "\n",
    "for idx, row in hospitals.iterrows():\n",
    "    if not math.isnan(row['longitude']) and not math.isnan(row['latitude']):\n",
    "        folium.Circle([row['latitude'], row['longitude']],\n",
    "                    radius=1000,\n",
    "                    color='blue'\n",
    "                    ).add_to(m)\n",
    "\n",
    "embed_map(m) "
   ]
  },
  {
   "cell_type": "markdown",
   "metadata": {},
   "source": [
    "what percentage of car accidents w/ at least one injury or fatality were within 1 km of a hospital?\n",
    "you can add x new hospitals.  how to increase this number to greater than some percentage?\n",
    "\n",
    "[closest point](https://gis.stackexchange.com/questions/222315/geopandas-find-nearest-point-in-other-dataframe)"
   ]
  }
 ],
 "metadata": {
  "kernelspec": {
   "display_name": "Python 3",
   "language": "python",
   "name": "python3"
  },
  "language_info": {
   "codemirror_mode": {
    "name": "ipython",
    "version": 3
   },
   "file_extension": ".py",
   "mimetype": "text/x-python",
   "name": "python",
   "nbconvert_exporter": "python",
   "pygments_lexer": "ipython3",
   "version": "3.6.5"
  }
 },
 "nbformat": 4,
 "nbformat_minor": 1
}
