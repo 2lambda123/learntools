{
 "cells": [
  {
   "cell_type": "markdown",
   "metadata": {},
   "source": [
    "# Introduction\n",
    "\n",
    "...\n",
    "\n",
    "# Working with CSV data\n",
    "\n",
    "In the previous tutorial, you learned how to use the [Geopandas](http://geopandas.org/) library to work with shapefile data.  To create a GeoDataFrame from a CSV file, we'll need to use both Pandas and GeoPandas."
   ]
  },
  {
   "cell_type": "code",
   "execution_count": null,
   "metadata": {},
   "outputs": [],
   "source": [
    "import geopandas as gpd\n",
    "import pandas as pd"
   ]
  },
  {
   "cell_type": "markdown",
   "metadata": {},
   "source": [
    "We begin by creating a DataFrame."
   ]
  },
  {
   "cell_type": "code",
   "execution_count": null,
   "metadata": {},
   "outputs": [],
   "source": [
    "# Read in the data\n",
    "df = pd.read_csv(\"../input/geospatial-course-data/dec_lands/DEC_lands.shp\")"
   ]
  },
  {
   "cell_type": "markdown",
   "metadata": {},
   "source": [
    "Then, to get a GeoDataFrame, we use `gpd.GeoDataFrame()`, where the `gpd.points_from_xy()` function creates `Point` objects from the latitude and longitude coordinates."
   ]
  },
  {
   "cell_type": "code",
   "execution_count": null,
   "metadata": {},
   "outputs": [],
   "source": [
    "# Create a GeoDataFrame\n",
    "gdf = gpd.GeoDataFrame(df, geometry=gpd.points_from_xy(df.Longitude, df.Latitude))\n",
    "gdf.head()"
   ]
  },
  {
   "cell_type": "markdown",
   "metadata": {},
   "source": [
    "Once we have a GeoDataFrame, we can quickly plot it!"
   ]
  },
  {
   "cell_type": "code",
   "execution_count": null,
   "metadata": {},
   "outputs": [],
   "source": [
    "gdf.plot()"
   ]
  },
  {
   "cell_type": "markdown",
   "metadata": {},
   "source": [
    "# Coordinate reference system (CRS)\n",
    "\n",
    "All of the maps you will create in this course portray the surface of the earth in two dimensions.  But, as you know, the world is actually a three-dimensional globe, and so we have to use a special method, called a **map projection**, to render it as a flat surface.  No map projection can ever be 100% accurate.  But, depending on the regional extent of your map and the type of analysis you plan to do, some are better than others.\n",
    "\n",
    "We use a **coordinate reference system (CRS)** to show how the points on the map correspond to real locations on Earth.  And, we identify different coordinate reference systems according to their [European Petroleum Survey Group (EPSG)](http://www.epsg.org/) codes.  For instance, EPSG code 4326 corresponds to coordinates in latitude and longitude.\n",
    "\n",
    "When creating a GeoDataFrame from a CSV file, we have to set the appropriate CRS."
   ]
  },
  {
   "cell_type": "code",
   "execution_count": null,
   "metadata": {},
   "outputs": [],
   "source": [
    "# Set coordinate reference system (CRS) to EPSG 4326\n",
    "wild_lands.crs = {}"
   ]
  },
  {
   "cell_type": "markdown",
   "metadata": {},
   "source": [
    "Each choice of CRS yields a different map.  We can investigate this with the `to_crs()` method."
   ]
  },
  {
   "cell_type": "code",
   "execution_count": null,
   "metadata": {},
   "outputs": [],
   "source": [
    "ax = counties.to_crs(epsg=26918).plot(figsize=(10,10), color='none', edgecolor='gainsboro', zorder=3)\n",
    "wild_lands.plot(color='lightgreen', ax=ax)\n",
    "campsites.plot(color='maroon', markersize=2, ax=ax)\n",
    "trails.plot(color='black', markersize=1, ax=ax)"
   ]
  },
  {
   "cell_type": "markdown",
   "metadata": {},
   "source": [
    "We won't go into how to select an appropriate CRS for your data in this micro-course.  But, if you'd like to learn more, you can read more at [this link](https://www.axismaps.com/guide/general/map-projections/).  "
   ]
  },
  {
   "cell_type": "markdown",
   "metadata": {},
   "source": [
    "# Attributes of geometric objects\n",
    "\n",
    "As you learned in the previous tutorial, for an arbitrary GeoDataFrame, the type in the \"geometry\" column will depend on what we are trying to show: for instance, we might use:\n",
    "- a `Point` for the epicenter of an earthquake, \n",
    "- a `Line` for a street, or \n",
    "- a `Polygon` to show country boundaries.\n",
    "\n",
    "All three types of geometric objects have built-in attributes that you can use to quickly analyze the dataset.  For instance, you can get the area of a polygon from the `area` attribute."
   ]
  },
  {
   "cell_type": "code",
   "execution_count": null,
   "metadata": {},
   "outputs": [],
   "source": [
    "# Calculate the area (in square meters) of each polygon in the GeoDataFrame \n",
    "wild_lands.loc[:, \"AREA\"] = wild_lands.geometry.area \n",
    "wild_lands.head()"
   ]
  },
  {
   "cell_type": "markdown",
   "metadata": {},
   "source": [
    "\n",
    "With this information, we can check how many square kilometers of forest and wilderness can be found in the state of New York.  \n",
    "> If you need to review how to use `groupby()`, check out [this tutorial](https://www.kaggle.com/residentmario/grouping-and-sorting) from the Pandas micro-course.\n",
    "\n",
    "```python\n",
    "# Divide by 10**6 to convert square meters to square kilometers\n",
    "wild_lands.groupby('CLASS').AREA.sum() / 10**6\n",
    "```\n",
    "\n",
    "New York has approximately 6193 square kilometers of forest, and 5494 square kilometers of wilderness.\n",
    "\n",
    "should also cover how to get x, y coordinates of a point."
   ]
  }
 ],
 "metadata": {
  "kernelspec": {
   "display_name": "Python 3",
   "language": "python",
   "name": "python3"
  },
  "language_info": {
   "codemirror_mode": {
    "name": "ipython",
    "version": 3
   },
   "file_extension": ".py",
   "mimetype": "text/x-python",
   "name": "python",
   "nbconvert_exporter": "python",
   "pygments_lexer": "ipython3",
   "version": "3.6.5"
  }
 },
 "nbformat": 4,
 "nbformat_minor": 1
}
