{
 "cells": [
  {
   "cell_type": "markdown",
   "metadata": {},
   "source": [
    "# Introduction\n",
    "\n",
    "In this tutorial, you'll explore several techniques for **proximity analysis**.  In particular, you'll learn how to do such things as:\n",
    "- measure the distance between points on a map, and\n",
    "- select all points within some radius of a feature."
   ]
  },
  {
   "cell_type": "code",
   "execution_count": null,
   "metadata": {},
   "outputs": [],
   "source": [
    "#$HIDE_INPUT$\n",
    "import folium\n",
    "from folium import Marker\n",
    "from folium.plugins import HeatMap\n",
    "\n",
    "import pandas as pd\n",
    "import geopandas as gpd\n",
    "\n",
    "# Function for displaying the map\n",
    "def embed_map(m, file_name):\n",
    "    from IPython.display import IFrame\n",
    "    m.save(file_name)\n",
    "    return IFrame(file_name, width='100%', height='500px')"
   ]
  },
  {
   "cell_type": "markdown",
   "metadata": {},
   "source": [
    "You'll work with a dataset from the US Environmental Protection Agency (EPA) that tracks releases of toxic chemicals in Philadelphia, Pennsylvania, USA."
   ]
  },
  {
   "cell_type": "code",
   "execution_count": null,
   "metadata": {},
   "outputs": [],
   "source": [
    "releases = gpd.read_file(\"../input/geospatial-course-data/toxic_release_pennsylvania/toxic_release_pennsylvania.shp\") \n",
    "releases.head()"
   ]
  },
  {
   "cell_type": "markdown",
   "metadata": {},
   "source": [
    "You'll also work with a dataset that contains readings from air quality monitoring stations in the same city."
   ]
  },
  {
   "cell_type": "code",
   "execution_count": null,
   "metadata": {},
   "outputs": [],
   "source": [
    "all_stations = gpd.read_file(\"../input/geospatial-course-data/PhillyHealth_Air_Monitoring_Stations/PhillyHealth_Air_Monitoring_Stations.shp\")\n",
    "all_stations.head()"
   ]
  },
  {
   "cell_type": "markdown",
   "metadata": {},
   "source": [
    "# Measuring distance\n",
    "\n",
    "If we want to measure distances between points from two different GeoDataFrames, we first have to make sure that they use the same coordinate reference system (CRS).  Thankfully, this is the case here, where both use EPSG 2272."
   ]
  },
  {
   "cell_type": "code",
   "execution_count": null,
   "metadata": {},
   "outputs": [],
   "source": [
    "print(all_stations.crs)\n",
    "print(releases.crs)"
   ]
  },
  {
   "cell_type": "markdown",
   "metadata": {},
   "source": [
    "We also check the CRS to see which units it uses (meters, feet, or something else).  In this case, EPSG 2272 has units of feet.  (_If you like, you can check this [here](https://epsg.io/2272)._)\n",
    "\n",
    "It's relatively straightforward to compute distances in GeoPandas.  The code cell below calculates the distance (in feet) between the station with the worst air quality in `worst_station` and every point in the `releases` GeoDataFrame."
   ]
  },
  {
   "cell_type": "code",
   "execution_count": null,
   "metadata": {},
   "outputs": [],
   "source": [
    "# Select station with worst air quality\n",
    "worst_station = all_stations.iloc[4]\n",
    "\n",
    "# Measure distance from station to each release incident\n",
    "all_distances = releases.geometry.distance(worst_station.geometry)"
   ]
  },
  {
   "cell_type": "markdown",
   "metadata": {},
   "source": [
    "Using the calculated distances, we can obtain statistics like the mean distance to a release incident.  Or, we can print the details of the closest recorded release incident."
   ]
  },
  {
   "cell_type": "code",
   "execution_count": null,
   "metadata": {},
   "outputs": [],
   "source": [
    "print('Mean distance to release incidents: {} feet\\n'.format(all_distances.mean()))\n",
    "\n",
    "print('Closest release incident ({} feet):'.format(all_distances.min()))\n",
    "print(releases.iloc[all_distances.idxmin()][[\"CHEMICAL\", \"UNIT_OF_ME\", \"TOTAL_RELE\"]])"
   ]
  },
  {
   "cell_type": "markdown",
   "metadata": {},
   "source": [
    "# Creating a buffer\n",
    "\n",
    "If we want to understand all points on a map that are some radius away from a point, the simplest way to accomplish this is by creating a buffer.\n",
    "\n",
    "The code cell below creates a GeoSeries `two_mile_radius` containing 12 different `Polygon` objects.  Each polygon is centered at a different air quality monitoring station and has a radius of 2 miles (or, 2\\*5280 feet)."
   ]
  },
  {
   "cell_type": "code",
   "execution_count": null,
   "metadata": {},
   "outputs": [],
   "source": [
    "two_mile_radius = all_stations.geometry.buffer(2*5280)\n",
    "two_mile_radius.head()"
   ]
  },
  {
   "cell_type": "code",
   "execution_count": null,
   "metadata": {},
   "outputs": [],
   "source": [
    "m = folium.Map(location=[39.9526,-75.1652], tiles='openstreetmap', zoom_start=11)\n",
    "\n",
    "HeatMap(data=releases[['LATITUDE', 'LONGITUDE']], radius=15).add_to(m)\n",
    "for idx, row in all_stations.iterrows():\n",
    "    Marker([row['LATITUDE'], row['LONGITUDE']]).add_to(m)\n",
    "folium.GeoJson(two_mile_radius.to_crs(epsg=4326)).add_to(m)\n",
    "\n",
    "embed_map(m, 'm.html')"
   ]
  },
  {
   "cell_type": "code",
   "execution_count": null,
   "metadata": {},
   "outputs": [],
   "source": [
    "my_union = all_two_mile_radius.geometry.unary_union\n",
    "inside_range = releases.loc[releases[\"geometry\"].apply(lambda x: my_union.contains(x))]\n",
    "inside_range.CHEMICAL.value_counts().head()"
   ]
  },
  {
   "cell_type": "markdown",
   "metadata": {},
   "source": [
    "# Your turn"
   ]
  }
 ],
 "metadata": {
  "kernelspec": {
   "display_name": "Python 3",
   "language": "python",
   "name": "python3"
  },
  "language_info": {
   "codemirror_mode": {
    "name": "ipython",
    "version": 3
   },
   "file_extension": ".py",
   "mimetype": "text/x-python",
   "name": "python",
   "nbconvert_exporter": "python",
   "pygments_lexer": "ipython3",
   "version": "3.6.5"
  }
 },
 "nbformat": 4,
 "nbformat_minor": 2
}
