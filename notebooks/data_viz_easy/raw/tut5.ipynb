{
 "cells": [
  {
   "cell_type": "markdown",
   "metadata": {},
   "source": [
    "Now it's time for you to demonstrate your new skills with a project of your own!\n",
    "\n"
   ]
  },
  {
   "cell_type": "markdown",
   "metadata": {},
   "source": [
    "# Load a dataset\n",
    "\n",
    "... code to use\n",
    "\n",
    "# Make a chart\n",
    "\n",
    "In this tutorial, you have learned about many different plot types! ...\n",
    "\n",
    "<img src=\"https://i.imgur.com/k4FX8Kb.png\" height=\"500\" width=\"1000\" usemap=\"#plottingmap\" />\n",
    "<map name=\"plottingmap\">\n",
    "  <area shape=\"rect\" coords=\"8,75,154,200\" href=\"https://seaborn.pydata.org/generated/seaborn.swarmplot.html\" title=\"EXAMPLE: sns.swarmplot(x='day', y='total_bill', data=tips)\">\n",
    "   <area shape=\"rect\" coords=\"8,200,154,350\" href=\"https://seaborn.pydata.org/generated/seaborn.scatterplot.html\" title=\"EXAMPLE: sns.scatterplot(x='day', y='total_bill', hue='time', data=tips)\">\n",
    "   <area shape=\"rect\" coords=\"8,350,154,500\" href=\"https://seaborn.pydata.org/generated/seaborn.scatterplot.html\" title=\"EXAMPLE: sns.scatterplot(x='day', y='total_bill', data=tips)\">\n",
    "      <area shape=\"rect\" coords=\"229,10,393,160\" href=\"https://seaborn.pydata.org/generated/seaborn.stripplot.html\" title=\"EXAMPLE: sns.stripplot(x='day', y='total_bill', data=tips)\">\n",
    "     <area shape=\"rect\" coords=\"397,10,566,160\" href=\"https://seaborn.pydata.org/generated/seaborn.heatmap.html\" title=\"EXAMPLE: sns.heatmap(data=tips)\">\n",
    "     <area shape=\"rect\" coords=\"565,10,711,160\" href=\"https://seaborn.pydata.org/generated/seaborn.barplot.html\" title=\"EXAMPLE: sns.barplot(fill in this stuff)\">\n",
    "     <area shape=\"rect\" coords=\"780,55,940,210\" href=\"https://seaborn.pydata.org/generated/seaborn.countplot.html\" title=\"EXAMPLE: sns.countplot(fill in this stuff)\">\n",
    "     <area shape=\"rect\" coords=\"780,210,940,350\" href=\"https://seaborn.pydata.org/generated/seaborn.kdeplot.html\" title=\"EXAMPLE: sns.kdeplot(fill in this stuff)\">\n",
    "   <area shape=\"rect\" coords=\"780,360,1000,500\" href=\"https://seaborn.pydata.org/generated/seaborn.distplot.html\" title=\"EXAMPLE: sns.distplot('day',  data=tips)\">\n",
    "</map>\n",
    "\n",
    "### Trends\n",
    "\n",
    "abc\n",
    "\n",
    "### Relationship\n",
    "\n",
    "def\n",
    "\n",
    "### Distribution\n",
    "\n",
    "ghi"
   ]
  },
  {
   "cell_type": "markdown",
   "metadata": {},
   "source": [
    "# What's next?\n",
    "\n",
    "..."
   ]
  }
 ],
 "metadata": {
  "kernelspec": {
   "display_name": "Python 3",
   "language": "python",
   "name": "python3"
  },
  "language_info": {
   "codemirror_mode": {
    "name": "ipython",
    "version": 3
   },
   "file_extension": ".py",
   "mimetype": "text/x-python",
   "name": "python",
   "nbconvert_exporter": "python",
   "pygments_lexer": "ipython3",
   "version": "3.6.5"
  }
 },
 "nbformat": 4,
 "nbformat_minor": 2
}
