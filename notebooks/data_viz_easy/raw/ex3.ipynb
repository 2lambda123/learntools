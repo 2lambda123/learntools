{
 "cells": [
  {
   "cell_type": "markdown",
   "metadata": {},
   "source": [
    "In this exercise, you will use your new knowledge to propose a solution to a real-world scenario.  To succeed, you will need to import data into Python, answer questions using the data, and generate **scatter plots**, **histograms**, and **KDE plots** to understand patterns in the data.\n",
    "\n",
    "## Scenario\n",
    "\n",
    "You work for hospital ... wants to begin preliminary work to design an algorithm that can classify a tumor as either benign or malignant.  give you this dataset ...\n",
    "\n",
    "## Setup\n",
    "\n",
    "Run the next cell to import and configure the Python libraries that you need to complete the exercise."
   ]
  },
  {
   "cell_type": "code",
   "execution_count": null,
   "metadata": {},
   "outputs": [],
   "source": [
    "import pandas as pd\n",
    "import matplotlib.pyplot as plt\n",
    "%matplotlib inline\n",
    "import seaborn as sns\n",
    "print(\"Setup Complete\")"
   ]
  },
  {
   "cell_type": "markdown",
   "metadata": {},
   "source": [
    "The questions below will give you feedback on your work. Run the following cell to set up our feedback system."
   ]
  },
  {
   "cell_type": "code",
   "execution_count": null,
   "metadata": {},
   "outputs": [],
   "source": [
    "# Set up code checking\n",
    "from learntools.core import binder\n",
    "binder.bind(globals())\n",
    "#from learntools.machine_learning.ex1 import *\n",
    "print(\"Setup Complete\")"
   ]
  },
  {
   "cell_type": "markdown",
   "metadata": {},
   "source": [
    "## Step 1: Load the data\n",
    "\n",
    "Read the cancer data file into a DataFrame called `cancer_data`."
   ]
  },
  {
   "cell_type": "code",
   "execution_count": null,
   "metadata": {},
   "outputs": [],
   "source": [
    "# Path of the file to read\n",
    "cancer_filepath = \"../data/data-viz-easy/cancer.csv\"\n",
    "\n",
    "# Fill in the line below to read the file into a variable cancer_data\n",
    "cancer_data = ____\n",
    "\n",
    "# Run the line below with no changes to check that you've loaded the data correctly\n",
    "# step_1.check()"
   ]
  },
  {
   "cell_type": "code",
   "execution_count": null,
   "metadata": {},
   "outputs": [],
   "source": [
    "#%%RM_IF(PROD)%%\n",
    "cancer_data = pd.read_csv(cancer_filepath, index_col=\"id\")\n",
    "step_1.assert_check_passed()"
   ]
  },
  {
   "cell_type": "code",
   "execution_count": null,
   "metadata": {},
   "outputs": [],
   "source": [
    "# Lines below will give you a hint or solution code\n",
    "#_COMMENT_IF(PROD)_\n",
    "step_1.hint()\n",
    "#_COMMENT_IF(PROD)_\n",
    "step_1.solution()"
   ]
  },
  {
   "cell_type": "markdown",
   "metadata": {},
   "source": [
    "## Step 2: Review the data\n",
    "\n",
    "Use a Python command to print the first 5 rows of the data."
   ]
  },
  {
   "cell_type": "code",
   "execution_count": null,
   "metadata": {},
   "outputs": [],
   "source": [
    "# Print the first five rows of the data \n",
    "cancer_data.head()"
   ]
  },
  {
   "cell_type": "markdown",
   "metadata": {},
   "source": [
    "will then be told briefly about different columns ...\n",
    "\n",
    "Use the first 5 rows of the data to answer the questions below."
   ]
  },
  {
   "cell_type": "code",
   "execution_count": null,
   "metadata": {},
   "outputs": [],
   "source": [
    "# Fill in the line below: How many columns does the data have?\n",
    "num_cols = ____\n",
    "\n",
    "# Fill in the line below: In the first five rows, how many tumors are malignant?\n",
    "num_malig = ____\n",
    "\n",
    "# step_2.check()"
   ]
  },
  {
   "cell_type": "code",
   "execution_count": null,
   "metadata": {},
   "outputs": [],
   "source": [
    "# Lines below will give you a hint or solution code\n",
    "# step_2.hint()\n",
    "# step_2.solution()"
   ]
  },
  {
   "cell_type": "markdown",
   "metadata": {},
   "source": [
    "## Step 3: ...\n",
    "\n",
    "The hospital would like your help in identifying whether `radius_worst` and `texture_worst` are useful for classifying tumors as benign or malignant.  \n",
    "\n",
    "Create a scatter plot to show the relationship between `radius_worst` (on the horizontal \"x\" axis) and `texture_worst` (on the vertical \"y\" axis).  She further suggests that you color-code the subsets based on `diagnosis`.  Use the cell below to create this plot."
   ]
  },
  {
   "cell_type": "code",
   "execution_count": null,
   "metadata": {},
   "outputs": [],
   "source": [
    "sns.scatterplot(x=cancer_data.radius_worst, y=cancer_data.texture_worst, hue=cancer_data.diagnosis)\n",
    "plt.show()"
   ]
  },
  {
   "cell_type": "markdown",
   "metadata": {},
   "source": [
    "Another colleague recommends that you create two different plots to address this question, instead of just one.  In particular, \n",
    "- the **first plot** should use `sns.swarmplot()` (or `sns.stripplot()`) to show the relationship between `radius_worst` and `diagnosis`.  \n",
    "- the **second plot** should use `sns.swarmplot()` (or `sns.stripplot()`) to show the relationship between `texture_worst` and `diagnosis`."
   ]
  },
  {
   "cell_type": "code",
   "execution_count": null,
   "metadata": {},
   "outputs": [],
   "source": [
    "# first plot\n",
    "sns.swarmplot(x=cancer_data.diagnosis, y=cancer_data.radius_worst)\n",
    "plt.show()\n",
    "\n",
    "# second plot\n",
    "sns.swarmplot(x=cancer_data.diagnosis, y=cancer_data.texture_worst)\n",
    "plt.show()"
   ]
  },
  {
   "cell_type": "markdown",
   "metadata": {},
   "source": [
    "**Question 1**: Based on the plots you created above, what is your opinion: \n",
    "- Does `radius_worst` seem useful for classifying tumors?\n",
    "- Does `texture_worst` seem useful for classifying tumors?\n",
    "- Once you've decided the answers to the first two questions, which plots do you think most clearly support your reasoning?"
   ]
  },
  {
   "cell_type": "code",
   "execution_count": null,
   "metadata": {},
   "outputs": [],
   "source": [
    "# Line below will give you a hint or solution code\n",
    "# step_3.hint()\n",
    "# step_3.solution()"
   ]
  },
  {
   "cell_type": "markdown",
   "metadata": {},
   "source": [
    "## Step 4: ...\n",
    "\n",
    "One doctor would like your feedback on some preliminary theories.  She believes:\n",
    "- tumors with larger values for `compactness_mean` also typically have larger values for `perimeter_worst`, and\n",
    "- the value of `perimeter_worst` is typically greater than 150.  It's still possible (but unlikely!) to see a value for `perimeter_worst` less than 150.\n",
    "\n",
    "Or, at least, that is what she has seen in her patients!  She is worried that she hasn't seen too many patients, so is unsure of whether her ideas apply more broadly to the human population.  \n",
    "\n",
    "Use `sns.jointplot()` to create a plot to verify if the data has the same behavior."
   ]
  },
  {
   "cell_type": "code",
   "execution_count": null,
   "metadata": {},
   "outputs": [],
   "source": [
    "# your code here\n",
    "sns.jointplot(x=cancer_data.perimeter_worst, y=cancer_data.compactness_mean, kind=\"reg\")\n",
    "plt.show()"
   ]
  },
  {
   "cell_type": "markdown",
   "metadata": {},
   "source": [
    "**Question 2**: Use the above plot to determine if the doctor's theories are correct:\n",
    "- Do tumors with larger values for `compactness_mean` also typically have larger values for `perimeter_worst`?\n",
    "- Is the value of `perimeter_worst` typically more than 150?"
   ]
  },
  {
   "cell_type": "code",
   "execution_count": null,
   "metadata": {},
   "outputs": [],
   "source": [
    "# Line below will give you a hint or solution code\n",
    "# step_4.hint()\n",
    "# step_4.solution()"
   ]
  },
  {
   "cell_type": "markdown",
   "metadata": {},
   "source": [
    "## Step 5: ...\n",
    "\n",
    "One doctor is excited about the possibility of using the value of `radius_worst` to gauge the likelihood of a tumor being benign or malignant.  He knows that larger values for `radius_worst` typically denote a malignant tumor, whereas smaller values usually signify that the tumor is benign.  He'd like your help with identifying a possible threshold value and has identified three possible options:\n",
    "- We can classify tumors with `radius_worst` > 10 as malignant (where `radius_worst` < 10 is benign).\n",
    "- We can classify tumors with `radius_worst` > 17 as malignant (where `radius_worst` < 17 as benign).\n",
    "- We can classify tumors with `radius_worst` > 22 as malignant (where `radius_worst` < 22 is benign).\n",
    "\n",
    "He knows that this system is unlikely to be perfect, but he'd love your help in determining the best option.  To address his question, we've broken the original CSV dataset into two separate datasets, which can be loaded into Python in the code cell below.  One dataset contains all of the information relating to the benign tumors, and the other contains all of the information relating to the malignant tumors."
   ]
  },
  {
   "cell_type": "code",
   "execution_count": null,
   "metadata": {},
   "outputs": [],
   "source": [
    "cancer_b_file_path = \"../data/data-viz-easy/cancer_b.csv\"\n",
    "cancer_m_file_path = \"../data/data-viz-easy/cancer_m.csv\"\n",
    "\n",
    "cancer_data_b = pd.read_csv(cancer_b_file_path)\n",
    "cancer_data_m = pd.read_csv(cancer_m_file_path)"
   ]
  },
  {
   "cell_type": "code",
   "execution_count": null,
   "metadata": {},
   "outputs": [],
   "source": [
    "cancer_data_b.head()"
   ]
  },
  {
   "cell_type": "code",
   "execution_count": null,
   "metadata": {},
   "outputs": [],
   "source": [
    "cancer_data_m.head()"
   ]
  },
  {
   "cell_type": "markdown",
   "metadata": {},
   "source": [
    "emphasize that `cancer_data_m` and `cancer_data_b` only contain rows from `cancer_data` ... split into two dataframes ...\n",
    "\n",
    "In the cell below, use `sns.kdeplot()`, along with the two new DataFrames, to address the doctor's question."
   ]
  },
  {
   "cell_type": "code",
   "execution_count": null,
   "metadata": {},
   "outputs": [],
   "source": [
    "# your code here\n",
    "sns.kdeplot(data=cancer_data_b.radius_worst, shade=True, label=\"Benign\")\n",
    "sns.kdeplot(data=cancer_data_m.radius_worst, shade=True, label=\"Malignant\")\n",
    "plt.show()"
   ]
  },
  {
   "cell_type": "markdown",
   "metadata": {},
   "source": [
    "**Question 3**: Which threshold for `radius_worst` makes the most sense: 10, 17, or 22?"
   ]
  },
  {
   "cell_type": "code",
   "execution_count": null,
   "metadata": {},
   "outputs": [],
   "source": [
    "# Line below will give you a hint or solution code\n",
    "# step_5.hint()\n",
    "# step_5.solution()"
   ]
  }
 ],
 "metadata": {
  "kernelspec": {
   "display_name": "Python 3",
   "language": "python",
   "name": "python3"
  },
  "language_info": {
   "codemirror_mode": {
    "name": "ipython",
    "version": 3
   },
   "file_extension": ".py",
   "mimetype": "text/x-python",
   "name": "python",
   "nbconvert_exporter": "python",
   "pygments_lexer": "ipython3",
   "version": "3.6.5"
  }
 },
 "nbformat": 4,
 "nbformat_minor": 2
}
