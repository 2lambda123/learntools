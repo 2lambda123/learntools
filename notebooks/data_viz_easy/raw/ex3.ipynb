{
 "cells": [
  {
   "cell_type": "markdown",
   "metadata": {},
   "source": [
    "In this exercise, you will use your new knowledge to propose a solution to a real-world scenario.  To succeed, you will need to import data into Python, answer questions using the data, and generate **scatter plots**, **histograms**, and **density plots** to understand patterns in the data.\n",
    "\n",
    "## Scenario\n",
    "\n",
    "Over the last several years, machine learning professionals have made great progress with developing algorithms that detect cancer with the same accuracy as trained medical professionals.  To learn more about this fascinating research area, watch the video below!"
   ]
  },
  {
   "cell_type": "code",
   "execution_count": null,
   "metadata": {},
   "outputs": [],
   "source": [
    "from IPython.display import YouTubeVideo\n",
    "YouTubeVideo('9Mz84cwVmS0', width=800, height=450)"
   ]
  },
  {
   "cell_type": "markdown",
   "metadata": {},
   "source": [
    "In this exercise, you'll use your data visualization skills to gain an understanding of how to build an algorithm that can accurately classify breast cancer tumors as either **benign** (_noncancerous_) or **malignant** (_cancerous_).  Your dataset contains information collected from 569 different images, similar to the image below.\n",
    "\n",
    "<img src=\"images/cancer_image.png\">\n",
    "\n",
    "## Setup\n",
    "\n",
    "Run the next cell to import and configure the Python libraries that you need to complete the exercise."
   ]
  },
  {
   "cell_type": "code",
   "execution_count": null,
   "metadata": {},
   "outputs": [],
   "source": [
    "import pandas as pd\n",
    "import matplotlib.pyplot as plt\n",
    "%matplotlib inline\n",
    "import seaborn as sns\n",
    "print(\"Setup Complete\")"
   ]
  },
  {
   "cell_type": "markdown",
   "metadata": {},
   "source": [
    "The questions below will give you feedback on your work. Run the following cell to set up our feedback system."
   ]
  },
  {
   "cell_type": "code",
   "execution_count": null,
   "metadata": {},
   "outputs": [],
   "source": [
    "# Set up code checking\n",
    "from learntools.core import binder\n",
    "binder.bind(globals())\n",
    "from learntools.data_viz_easy.ex3 import *\n",
    "print(\"Setup Complete\")"
   ]
  },
  {
   "cell_type": "markdown",
   "metadata": {},
   "source": [
    "## Step 1: Load the data\n",
    "\n",
    "Read the cancer data file into a DataFrame called `cancer_data`.  Use the `'Id'` column to label the rows."
   ]
  },
  {
   "cell_type": "code",
   "execution_count": null,
   "metadata": {},
   "outputs": [],
   "source": [
    "# Path of the file to read\n",
    "cancer_filepath = \"../input/cancer.csv\"\n",
    "\n",
    "# Fill in the line below to read the file into a variable cancer_data\n",
    "cancer_data = ____\n",
    "\n",
    "# Run the line below with no changes to check that you've loaded the data correctly\n",
    "step_1.check()"
   ]
  },
  {
   "cell_type": "code",
   "execution_count": null,
   "metadata": {},
   "outputs": [],
   "source": [
    "#%%RM_IF(PROD)%%\n",
    "cancer_data = pd.read_csv(cancer_filepath, index_col=\"Id\")\n",
    "step_1.assert_check_passed()"
   ]
  },
  {
   "cell_type": "code",
   "execution_count": null,
   "metadata": {},
   "outputs": [],
   "source": [
    "# Lines below will give you a hint or solution code\n",
    "#_COMMENT_IF(PROD)_\n",
    "step_1.hint()\n",
    "#_COMMENT_IF(PROD)_\n",
    "step_1.solution()"
   ]
  },
  {
   "cell_type": "markdown",
   "metadata": {},
   "source": [
    "## Step 2: Review the data\n",
    "\n",
    "Use a Python command to print the first 5 rows of the data."
   ]
  },
  {
   "cell_type": "code",
   "execution_count": null,
   "metadata": {},
   "outputs": [],
   "source": [
    "# Print the first five rows of the data \n",
    "____ # Your code here"
   ]
  },
  {
   "cell_type": "markdown",
   "metadata": {},
   "source": [
    "The dataset has 569 different rows, or one for each analyzed image.  It has 31 different columns, corresponding to:\n",
    "- 1 column (`'Diagnosis'`) that classifies tumors as either benign (which appears in the dataset as **`B`**) or malignant (__`M`__), and\n",
    "- 30 different columns containing distinct measurements collected from the images.\n",
    "\n",
    "Use the first 5 rows of the data to answer the questions below."
   ]
  },
  {
   "cell_type": "code",
   "execution_count": null,
   "metadata": {},
   "outputs": [],
   "source": [
    "# Fill in the line below: In the first five rows, how many tumors are malignant?\n",
    "num_malig = ____\n",
    "\n",
    "# Fill in the line below: What is the value for 'Radius (mean)' for the tumor with Id 842517?\n",
    "mean_radius = ____\n",
    "\n",
    "step_2.check()"
   ]
  },
  {
   "cell_type": "code",
   "execution_count": null,
   "metadata": {},
   "outputs": [],
   "source": [
    "#%%RM_IF(PROD)%%\n",
    "num_malig = 5\n",
    "mean_radius = 20.57\n",
    "step_2.assert_check_passed()"
   ]
  },
  {
   "cell_type": "code",
   "execution_count": null,
   "metadata": {},
   "outputs": [],
   "source": [
    "# Lines below will give you a hint or solution code\n",
    "#_COMMENT_IF(PROD)_\n",
    "step_2.hint()\n",
    "#_COMMENT_IF(PROD)_\n",
    "step_2.solution()"
   ]
  },
  {
   "cell_type": "markdown",
   "metadata": {},
   "source": [
    "## Step 3: Detect useful columns\n",
    "\n",
    "#### Part A\n",
    "One useful first step towards understanding whether the measured values ... The hospital would like your help in identifying whether `radius_worst` and `texture_worst` are useful for classifying tumors as benign or malignant.  \n",
    "\n",
    "In the code cell below, create a scatter plot to show the relationship between `'Radius (worst)'` (on the horizontal x-axis) and `'Texture (worst)'` (on the vertical y-axis).  Use the `'Diagnosis'` column to color-code the points. "
   ]
  },
  {
   "cell_type": "code",
   "execution_count": null,
   "metadata": {},
   "outputs": [],
   "source": [
    "# Scatter plot showing the relationship between 'Radius (worst)', 'Texture (worst)', and 'Diagnosis'\n",
    "____ # Your code here\n",
    "\n",
    "# Check your answer\n",
    "step_3.check()"
   ]
  },
  {
   "cell_type": "code",
   "execution_count": null,
   "metadata": {},
   "outputs": [],
   "source": [
    "#%%RM_IF(PROD)%%\n",
    "sns.scatterplot(x=cancer_data['Radius (worst)'], y=cancer_data['Texture (worst)'], hue=cancer_data['Diagnosis'])\n",
    "step_3.assert_check_passed()"
   ]
  },
  {
   "cell_type": "code",
   "execution_count": null,
   "metadata": {},
   "outputs": [],
   "source": [
    "# Line below will give you a hint or solution code\n",
    "#_COMMENT_IF(PROD)_\n",
    "step_3.hint()\n",
    "#_COMMENT_IF(PROD)_\n",
    "step_3.solution_plot()"
   ]
  },
  {
   "cell_type": "markdown",
   "metadata": {},
   "source": [
    "#### Part B\n",
    "Based on the plot you created above, which column is more useful for classifying tumors:  `'Radius (worst)'`, or `'Texture (worst)'`?"
   ]
  },
  {
   "cell_type": "code",
   "execution_count": null,
   "metadata": {},
   "outputs": [],
   "source": [
    "# get answer here"
   ]
  },
  {
   "cell_type": "markdown",
   "metadata": {},
   "source": [
    "#### Part C\n",
    "\n",
    "Use the code cell below to create a categorical scatter plot that shows the relationship between `'Diagnosis'` and the column that you identified in **Part B**."
   ]
  },
  {
   "cell_type": "code",
   "execution_count": null,
   "metadata": {},
   "outputs": [],
   "source": [
    "# Scatter plot showing the relationship between 'Diagnosis' and (a useful column)\n",
    "____ # Your code here\n",
    "\n",
    "# Check your answer\n",
    "# step_3c.check()"
   ]
  },
  {
   "cell_type": "code",
   "execution_count": null,
   "metadata": {},
   "outputs": [],
   "source": [
    "#%%RM_IF(PROD)%%\n",
    "# Scatter plot showing the relationship between 'Diagnosis' and 'Radius (worst)'\n",
    "sns.swarmplot(x=cancer_data['Diagnosis'], y=cancer_data['Radius (worst)'])"
   ]
  },
  {
   "cell_type": "markdown",
   "metadata": {},
   "source": [
    "## Step 4: ...\n",
    "\n",
    "One doctor would like your feedback on some preliminary theories.  She believes:\n",
    "- tumors with larger values for `compactness_mean` also typically have larger values for `perimeter_worst`, and\n",
    "- the value of `perimeter_worst` is typically greater than 150.  It's still possible (but unlikely!) to see a value for `perimeter_worst` less than 150.\n",
    "\n",
    "Create a scatter plot with a regression line to assess the correlation ..."
   ]
  },
  {
   "cell_type": "code",
   "execution_count": null,
   "metadata": {},
   "outputs": [],
   "source": [
    "# your code here\n",
    "sns.regplot(x=cancer_data['Perimeter (worst)'], y=cancer_data['Compactness (mean)'])"
   ]
  },
  {
   "cell_type": "code",
   "execution_count": null,
   "metadata": {},
   "outputs": [],
   "source": [
    "# Line below will give you a hint or solution code\n",
    "# step_4.hint()\n",
    "# step_4.solution()"
   ]
  },
  {
   "cell_type": "markdown",
   "metadata": {},
   "source": [
    "#### Part B \n",
    "\n",
    "Do tumors with larger values for `compactness_mean` also typically have larger values for `perimeter_worst`?"
   ]
  },
  {
   "cell_type": "code",
   "execution_count": null,
   "metadata": {},
   "outputs": [],
   "source": [
    "# answer"
   ]
  },
  {
   "cell_type": "markdown",
   "metadata": {},
   "source": [
    "## Step 5: ...\n",
    "\n",
    "take a stab at creating a rough algorithm, to see how well it performs as a baseline.\n",
    "\n",
    "One doctor is excited about the possibility of using the value of `radius_worst` to gauge the likelihood of a tumor being benign or malignant.  He knows that larger values for `radius_worst` typically denote a malignant tumor, whereas smaller values usually signify that the tumor is benign.  He'd like your help with identifying a possible threshold value and has identified three possible options:\n",
    "- We can classify tumors with `radius_worst` > 10 as malignant (where `radius_worst` < 10 is benign).\n",
    "- We can classify tumors with `radius_worst` > 17 as malignant (where `radius_worst` < 17 as benign).\n",
    "- We can classify tumors with `radius_worst` > 22 as malignant (where `radius_worst` < 22 is benign).\n",
    "\n",
    "He knows that this system is unlikely to be perfect, but he'd love your help in determining the best option.  To address his question, we've broken the original CSV dataset into two separate datasets, which can be loaded into Python in the code cell below.  One dataset contains all of the information relating to the benign tumors, and the other contains all of the information relating to the malignant tumors."
   ]
  },
  {
   "cell_type": "code",
   "execution_count": null,
   "metadata": {},
   "outputs": [],
   "source": [
    "cancer_b_file_path = \"../input/cancer_b.csv\"\n",
    "cancer_m_file_path = \"../input/cancer_m.csv\"\n",
    "\n",
    "cancer_data_b = pd.read_csv(cancer_b_file_path)\n",
    "cancer_data_m = pd.read_csv(cancer_m_file_path)"
   ]
  },
  {
   "cell_type": "code",
   "execution_count": null,
   "metadata": {},
   "outputs": [],
   "source": [
    "cancer_data_b.head()"
   ]
  },
  {
   "cell_type": "code",
   "execution_count": null,
   "metadata": {},
   "outputs": [],
   "source": [
    "cancer_data_m.head()"
   ]
  },
  {
   "cell_type": "markdown",
   "metadata": {},
   "source": [
    "emphasize that `cancer_data_m` and `cancer_data_b` only contain rows from `cancer_data` ... split into two dataframes ...\n",
    "\n",
    "In the cell below, use `sns.kdeplot()`, along with the two new DataFrames, to address the doctor's question."
   ]
  },
  {
   "cell_type": "code",
   "execution_count": null,
   "metadata": {},
   "outputs": [],
   "source": [
    "# your code here\n",
    "sns.kdeplot(data=cancer_data_b.radius_worst, shade=True, label=\"Benign\")\n",
    "sns.kdeplot(data=cancer_data_m.radius_worst, shade=True, label=\"Malignant\")\n",
    "plt.show()"
   ]
  },
  {
   "cell_type": "markdown",
   "metadata": {},
   "source": [
    "**Question 3**: Which threshold for `radius_worst` makes the most sense: 10, 17, or 22?"
   ]
  },
  {
   "cell_type": "code",
   "execution_count": null,
   "metadata": {},
   "outputs": [],
   "source": [
    "# Line below will give you a hint or solution code\n",
    "# step_5.hint()\n",
    "# step_5.solution()"
   ]
  }
 ],
 "metadata": {
  "kernelspec": {
   "display_name": "Python 3",
   "language": "python",
   "name": "python3"
  },
  "language_info": {
   "codemirror_mode": {
    "name": "ipython",
    "version": 3
   },
   "file_extension": ".py",
   "mimetype": "text/x-python",
   "name": "python",
   "nbconvert_exporter": "python",
   "pygments_lexer": "ipython3",
   "version": "3.6.5"
  }
 },
 "nbformat": 4,
 "nbformat_minor": 2
}
