{
 "cells": [
  {
   "cell_type": "markdown",
   "metadata": {},
   "source": [
    "In this exercise, you will use your new knowledge to propose a solution to a real-world scenario.  To succeed, you will need to import data into Python, answer questions using the data, and generate **scatter plots**, **histograms**, and **density plots** to understand patterns in the data.\n",
    "\n",
    "## Scenario\n",
    "\n",
    "Over the last several years, machine learning professionals have made great progress with developing algorithms that detect cancer with the same accuracy as trained medical professionals.  To learn more about this fascinating research area, watch the video below!"
   ]
  },
  {
   "cell_type": "code",
   "execution_count": null,
   "metadata": {},
   "outputs": [],
   "source": [
    "from IPython.display import YouTubeVideo\n",
    "YouTubeVideo('9Mz84cwVmS0', width=800, height=450)"
   ]
  },
  {
   "cell_type": "markdown",
   "metadata": {},
   "source": [
    "In this exercise, you'll use your data visualization skills to think about how to build an algorithm that can accurately classify breast cancer tumors as either **benign** (_noncancerous_) or **malignant** (_cancerous_).  Your dataset contains information collected from 569 different images, similar to the image below.\n",
    "\n",
    "<img src=\"images/cancer_image.png\">\n",
    "\n",
    "## Setup\n",
    "\n",
    "Run the next cell to import and configure the Python libraries that you need to complete the exercise."
   ]
  },
  {
   "cell_type": "code",
   "execution_count": null,
   "metadata": {},
   "outputs": [],
   "source": [
    "import pandas as pd\n",
    "import matplotlib.pyplot as plt\n",
    "%matplotlib inline\n",
    "import seaborn as sns\n",
    "print(\"Setup Complete\")"
   ]
  },
  {
   "cell_type": "markdown",
   "metadata": {},
   "source": [
    "The questions below will give you feedback on your work. Run the following cell to set up our feedback system."
   ]
  },
  {
   "cell_type": "code",
   "execution_count": null,
   "metadata": {},
   "outputs": [],
   "source": [
    "# Set up code checking\n",
    "from learntools.core import binder\n",
    "binder.bind(globals())\n",
    "from learntools.data_viz_easy.ex3 import *\n",
    "print(\"Setup Complete\")"
   ]
  },
  {
   "cell_type": "markdown",
   "metadata": {},
   "source": [
    "## Step 1: Load the data\n",
    "\n",
    "Read the cancer data file into a DataFrame called `cancer_data`.  Use the `'Id'` column to label the rows."
   ]
  },
  {
   "cell_type": "code",
   "execution_count": null,
   "metadata": {},
   "outputs": [],
   "source": [
    "# Path of the file to read\n",
    "cancer_filepath = \"../input/cancer.csv\"\n",
    "\n",
    "# Fill in the line below to read the file into a variable cancer_data\n",
    "cancer_data = ____\n",
    "\n",
    "# Run the line below with no changes to check that you've loaded the data correctly\n",
    "step_1.check()"
   ]
  },
  {
   "cell_type": "code",
   "execution_count": null,
   "metadata": {},
   "outputs": [],
   "source": [
    "#%%RM_IF(PROD)%%\n",
    "cancer_data = pd.read_csv(cancer_filepath, index_col=\"Id\")\n",
    "step_1.assert_check_passed()"
   ]
  },
  {
   "cell_type": "code",
   "execution_count": null,
   "metadata": {},
   "outputs": [],
   "source": [
    "# Lines below will give you a hint or solution code\n",
    "#_COMMENT_IF(PROD)_\n",
    "step_1.hint()\n",
    "#_COMMENT_IF(PROD)_\n",
    "step_1.solution()"
   ]
  },
  {
   "cell_type": "markdown",
   "metadata": {},
   "source": [
    "## Step 2: Review the data\n",
    "\n",
    "Use a Python command to print the first 5 rows of the data."
   ]
  },
  {
   "cell_type": "code",
   "execution_count": null,
   "metadata": {},
   "outputs": [],
   "source": [
    "# Print the first five rows of the data \n",
    "____ # Your code here"
   ]
  },
  {
   "cell_type": "markdown",
   "metadata": {},
   "source": [
    "The dataset has 569 different rows, one for each analyzed image.  It has 31 different columns, corresponding to:\n",
    "- 1 column (`'Diagnosis'`) that classifies tumors as either benign (which appears in the dataset as **`B`**) or malignant (__`M`__), and\n",
    "- 30 different columns containing distinct measurements collected from the images.\n",
    "\n",
    "Use the first 5 rows of the data to answer the questions below."
   ]
  },
  {
   "cell_type": "code",
   "execution_count": null,
   "metadata": {},
   "outputs": [],
   "source": [
    "# Fill in the line below: In the first five rows, how many tumors are malignant?\n",
    "num_malig = ____\n",
    "\n",
    "# Fill in the line below: What is the value for 'Radius (mean)' for the tumor with Id 842517?\n",
    "mean_radius = ____\n",
    "\n",
    "step_2.check()"
   ]
  },
  {
   "cell_type": "code",
   "execution_count": null,
   "metadata": {},
   "outputs": [],
   "source": [
    "#%%RM_IF(PROD)%%\n",
    "num_malig = 5\n",
    "mean_radius = 20.57\n",
    "step_2.assert_check_passed()"
   ]
  },
  {
   "cell_type": "code",
   "execution_count": null,
   "metadata": {},
   "outputs": [],
   "source": [
    "# Lines below will give you a hint or solution code\n",
    "#_COMMENT_IF(PROD)_\n",
    "step_2.hint()\n",
    "#_COMMENT_IF(PROD)_\n",
    "step_2.solution()"
   ]
  },
  {
   "cell_type": "markdown",
   "metadata": {},
   "source": [
    "## Step 3: Detect useful columns\n",
    "\n",
    "#### Part A\n",
    "We'll begin by determining whether `'Radius (worst)'` or `'Texture (worst)'` are useful columns for classifying tumors as benign or malignant.  \n",
    "\n",
    "In the code cell below, create a scatter plot to show the relationship between `'Radius (worst)'` (on the horizontal x-axis) and `'Texture (worst)'` (on the vertical y-axis).  Use the `'Diagnosis'` column to color-code the points. "
   ]
  },
  {
   "cell_type": "code",
   "execution_count": null,
   "metadata": {},
   "outputs": [],
   "source": [
    "# Scatter plot showing the relationship between 'Radius (worst)', 'Texture (worst)', and 'Diagnosis'\n",
    "____ # Your code here\n",
    "\n",
    "# Check your answer\n",
    "step_3.check()"
   ]
  },
  {
   "cell_type": "code",
   "execution_count": null,
   "metadata": {},
   "outputs": [],
   "source": [
    "#%%RM_IF(PROD)%%\n",
    "sns.scatterplot(x=cancer_data['Radius (worst)'], y=cancer_data['Texture (worst)'], hue=cancer_data['Diagnosis'])\n",
    "step_3.assert_check_passed()"
   ]
  },
  {
   "cell_type": "code",
   "execution_count": null,
   "metadata": {},
   "outputs": [],
   "source": [
    "# Line below will give you a hint or solution code\n",
    "#_COMMENT_IF(PROD)_\n",
    "step_3.hint()\n",
    "#_COMMENT_IF(PROD)_\n",
    "step_3.solution_plot()"
   ]
  },
  {
   "cell_type": "markdown",
   "metadata": {},
   "source": [
    "#### Part B\n",
    "Based on the plot you created above, which column is more useful for classifying tumors:  `'Radius (worst)'`, or `'Texture (worst)'`?"
   ]
  },
  {
   "cell_type": "code",
   "execution_count": null,
   "metadata": {},
   "outputs": [],
   "source": [
    "# get answer here. go into how larger values for 'Radius (worst)' seem to suggest a tumor is malignant\n",
    "# and this is something we'd ideally like the machine learning algorithm to learn ..."
   ]
  },
  {
   "cell_type": "markdown",
   "metadata": {},
   "source": [
    "#### Part C\n",
    "\n",
    "Use the code cell below to create a categorical scatter plot that shows the relationship between `'Diagnosis'` and the column that you identified in **Part B**.  Put `'Diagnosis'` on the horizontal axis."
   ]
  },
  {
   "cell_type": "code",
   "execution_count": null,
   "metadata": {},
   "outputs": [],
   "source": [
    "# Scatter plot showing the relationship between 'Diagnosis' and (a useful column)\n",
    "____ # Your code here\n",
    "\n",
    "# Check your answer\n",
    "# step_3c.check()"
   ]
  },
  {
   "cell_type": "code",
   "execution_count": null,
   "metadata": {},
   "outputs": [],
   "source": [
    "#%%RM_IF(PROD)%%\n",
    "# Scatter plot showing the relationship between 'Diagnosis' and 'Radius (worst)'\n",
    "sns.swarmplot(x=cancer_data['Diagnosis'], y=cancer_data['Radius (worst)'])"
   ]
  },
  {
   "cell_type": "markdown",
   "metadata": {},
   "source": [
    "## Step 4: ...\n",
    "\n",
    "While the ultimate goal is to determine how different columns in the dataset might affect whether a tumor is benign or maligant (in the `'Diagnosis'` column), it is useful to understand the relationships between all of the columns, to develop a more holistic view of the dataset.\n",
    "\n",
    "#### Part A\n",
    "\n",
    "Create a scatter plot with a regression line to show the correlation between `'Perimeter (worst)'` and `'Concavity (worst)'`."
   ]
  },
  {
   "cell_type": "code",
   "execution_count": null,
   "metadata": {},
   "outputs": [],
   "source": [
    "# Scatter plot with regression line\n",
    "____ # Your code here\n",
    "\n",
    "# step_4.check()"
   ]
  },
  {
   "cell_type": "code",
   "execution_count": null,
   "metadata": {},
   "outputs": [],
   "source": [
    "#%%RM_IF(PROD)%%\n",
    "# Scatter plot with regression line \n",
    "sns.regplot(x=cancer_data['Perimeter (worst)'], y=cancer_data['Concavity (worst)'])"
   ]
  },
  {
   "cell_type": "code",
   "execution_count": null,
   "metadata": {},
   "outputs": [],
   "source": [
    "# Line below will give you a hint or solution code\n",
    "# step_4.hint()\n",
    "# step_4.solution()"
   ]
  },
  {
   "cell_type": "markdown",
   "metadata": {},
   "source": [
    "#### Part B \n",
    "\n",
    "Do tumors with larger values for `'Perimeter (worst)'` also typically have larger values for `'Concavity (worst)'`?"
   ]
  },
  {
   "cell_type": "code",
   "execution_count": null,
   "metadata": {},
   "outputs": [],
   "source": [
    "# yup"
   ]
  },
  {
   "cell_type": "markdown",
   "metadata": {},
   "source": [
    "## Step 5: ...\n",
    "\n",
    "#### Part A\n",
    "\n",
    "For the next part of the exercise, we've broken the original CSV file into two separate datasets, which are loaded in the code cell below.  One dataset (`cancer_b_data`) contains all of the information about benign tumors, and the other (`cancer_m_data`) contains all of the information for the malignant tumors. "
   ]
  },
  {
   "cell_type": "code",
   "execution_count": null,
   "metadata": {},
   "outputs": [],
   "source": [
    "cancer_b_filepath = \"../input/cancer_b.csv\"\n",
    "cancer_m_filepath = \"../input/cancer_m.csv\"\n",
    "\n",
    "cancer_b_data = pd.read_csv(cancer_b_filepath, index_col=\"Id\")\n",
    "cancer_m_data = pd.read_csv(cancer_m_filepath, index_col=\"Id\")"
   ]
  },
  {
   "cell_type": "markdown",
   "metadata": {},
   "source": [
    "When perusing the data, you notice that larger values for `'Radius (worst)'` typically denote a malignant tumor, whereas smaller values usually indicate that a tumor is benign.  This suggests that you might identify a threshold value to create an early prototype of an algorithm.  Say you identify three possible options:\n",
    "- We can classify tumors with `'Radius (worst)'` > 12 as malignant (where `'Radius (worst)'` < 12 is benign).\n",
    "- We can classify tumors with `'Radius (worst)'` > 17 as malignant (where `'Radius (worst)'` < 17 as benign).\n",
    "- We can classify tumors with `'Radius (worst)'` > 22 as malignant (where `'Radius (worst)'` < 22 is benign).\n",
    "\n",
    "This system is unlikely to be perfect, and it's certainly not ready to be released to hospitals as a diagnostic tool, but it's a good, initial start!\n",
    "\n",
    "Use the code cell below to create a plot that helps with identifying the best threshold value."
   ]
  },
  {
   "cell_type": "code",
   "execution_count": null,
   "metadata": {},
   "outputs": [],
   "source": [
    "# your code here\n",
    "sns.kdeplot(data=cancer_b_data[\"Radius (worst)\"], shade=True, label=\"Benign\")\n",
    "sns.kdeplot(data=cancer_m_data[\"Radius (worst)\"], shade=True, label=\"Malignant\")\n",
    "plt.show()"
   ]
  },
  {
   "cell_type": "code",
   "execution_count": null,
   "metadata": {},
   "outputs": [],
   "source": [
    "# Line below will give you a hint or solution code\n",
    "# step_5.hint()\n",
    "# step_5.solution()"
   ]
  },
  {
   "cell_type": "markdown",
   "metadata": {},
   "source": [
    "#### Part B\n",
    "\n",
    "Which threshold for `'Radius (worst)'` makes the most sense: 10, 17, or 22?"
   ]
  },
  {
   "cell_type": "code",
   "execution_count": null,
   "metadata": {},
   "outputs": [],
   "source": [
    "# answer to this is quite complicated, as we want to catch as many malignant tumors as \n",
    "# possible. not as bad to accidentally classify benign tumors as malignant?? b/c then doctors\n",
    "# could take a second look. might need to reword this question to be more specific re: what's wanted"
   ]
  }
 ],
 "metadata": {
  "kernelspec": {
   "display_name": "Python 3",
   "language": "python",
   "name": "python3"
  },
  "language_info": {
   "codemirror_mode": {
    "name": "ipython",
    "version": 3
   },
   "file_extension": ".py",
   "mimetype": "text/x-python",
   "name": "python",
   "nbconvert_exporter": "python",
   "pygments_lexer": "ipython3",
   "version": "3.6.5"
  }
 },
 "nbformat": 4,
 "nbformat_minor": 2
}
