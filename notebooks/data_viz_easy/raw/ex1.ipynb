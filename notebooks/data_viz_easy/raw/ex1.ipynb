{
 "cells": [
  {
   "cell_type": "markdown",
   "metadata": {},
   "source": [
    "In this exercise, you will use your new knowledge to propose a solution to a real-world scenario. To succeed, you will need to import data into Python, answer questions using the data, and generate line plots to understand patterns in the data.\n",
    "\n",
    "## Scenario\n",
    "\n",
    "You have recently been hired to manage the museums in the City of Los Angeles. Your first project focuses on the four museums pictured in the images below.\n",
    "\n",
    "<img src=\"images/ex1.png\">\n",
    "\n",
    "You will levarage data from the Los Angeles [Data Portal](https://data.lacity.org/) that tracks the number of visitors to each museum, by month.  \n",
    "\n",
    "<img src=\"images/ex1_xlsx.png\">\n",
    "\n",
    "\n",
    "## Setup\n",
    "\n",
    "Run the next cell to import and configure the Python libraries that you need to complete the exercise."
   ]
  },
  {
   "cell_type": "code",
   "execution_count": null,
   "metadata": {},
   "outputs": [],
   "source": [
    "import pandas as pd\n",
    "import matplotlib.pyplot as plt\n",
    "%matplotlib inline\n",
    "import seaborn as sns\n",
    "print(\"Setup Complete\")"
   ]
  },
  {
   "cell_type": "markdown",
   "metadata": {},
   "source": [
    "The questions below will give you feedback on your work. Run the following cell to set up the feedback system."
   ]
  },
  {
   "cell_type": "code",
   "execution_count": null,
   "metadata": {},
   "outputs": [],
   "source": [
    "# Set up code checking\n",
    "from learntools.core import binder\n",
    "binder.bind(globals())\n",
    "from learntools.data_viz_easy.ex1 import *\n",
    "print(\"Setup Complete\")"
   ]
  },
  {
   "cell_type": "markdown",
   "metadata": {},
   "source": [
    "## Step 1: Load the data\n",
    "\n",
    "Read the LA Museum Visitors data file into a DataFrame called `museum_data`."
   ]
  },
  {
   "cell_type": "code",
   "execution_count": null,
   "metadata": {},
   "outputs": [],
   "source": [
    "# Path of the file to read\n",
    "museum_filepath = \"../input/museum_visitors.csv\"\n",
    "\n",
    "# Fill in the line below to read the file into a variable museum_data\n",
    "museum_data = ____\n",
    "\n",
    "# Run the line below with no changes to check that you've loaded the data correctly\n",
    "step_1.check()"
   ]
  },
  {
   "cell_type": "code",
   "execution_count": null,
   "metadata": {},
   "outputs": [],
   "source": [
    "#%%RM_IF(PROD)%%\n",
    "museum_data = pd.read_csv(museum_filepath, index_col=\"time\", parse_dates=True)\n",
    "step_1.assert_check_passed()"
   ]
  },
  {
   "cell_type": "code",
   "execution_count": null,
   "metadata": {},
   "outputs": [],
   "source": [
    "# Lines below will give you a hint or solution code\n",
    "#_COMMENT_IF(PROD)_\n",
    "step_1.hint()\n",
    "#_COMMENT_IF(PROD)_\n",
    "step_1.solution()"
   ]
  },
  {
   "cell_type": "markdown",
   "metadata": {},
   "source": [
    "## Step 2: Review the data\n",
    "\n",
    "Use a Python command to print the last 5 rows of the data."
   ]
  },
  {
   "cell_type": "code",
   "execution_count": null,
   "metadata": {},
   "outputs": [],
   "source": [
    "# Print the last five rows of the data \n",
    "____ # Your code here"
   ]
  },
  {
   "cell_type": "markdown",
   "metadata": {},
   "source": [
    "Use the last 5 rows of the data to answer the questions below."
   ]
  },
  {
   "cell_type": "code",
   "execution_count": null,
   "metadata": {},
   "outputs": [],
   "source": [
    "# Fill in the line below: How many visitors did the Chinese American Museum \n",
    "# receive in July 2018?\n",
    "ca_museum_jul18 = ____ \n",
    "\n",
    "# Fill in the line below: In October 2018, how many more visitors did Avila \n",
    "# Adobe receive than the Firehouse Museum?\n",
    "avila_oct18 = ____\n",
    "\n",
    "# Check your answers\n",
    "step_2.check()"
   ]
  },
  {
   "cell_type": "code",
   "execution_count": null,
   "metadata": {},
   "outputs": [],
   "source": [
    "#%%RM_IF(PROD)%%\n",
    "ca_museum_jul18 = 2620\n",
    "avila_oct18 = 19280-4622\n",
    "step_2.assert_check_passed()"
   ]
  },
  {
   "cell_type": "code",
   "execution_count": null,
   "metadata": {},
   "outputs": [],
   "source": [
    "# Lines below will give you a hint or solution code\n",
    "#_COMMENT_IF(PROD)_\n",
    "step_2.hint()\n",
    "#_COMMENT_IF(PROD)_\n",
    "step_2.solution()"
   ]
  },
  {
   "cell_type": "markdown",
   "metadata": {},
   "source": [
    "## Step 3: Convince the museum board \n",
    "\n",
    "The Firehouse Museum claims they ran an event in 2014 that brought an incredible number of visitors, and that they should get extra budget to run a similar event again.  The other museums think these types of events aren't that important, and budgets should be split purely based on recent visitors on an average day.  \n",
    "\n",
    "To show the museum board how the event compared to regular traffic at each museum, create a line plot that shows how the number of visitors to each museum evolved over time.  Your plot should have four lines (one for each museum)."
   ]
  },
  {
   "cell_type": "code",
   "execution_count": null,
   "metadata": {},
   "outputs": [],
   "source": [
    "# Line plot showing the number of visitors to each museum over time\n",
    "____ # Your code here\n",
    "\n",
    "# Check your answer\n",
    "# step_3.check()"
   ]
  },
  {
   "cell_type": "code",
   "execution_count": null,
   "metadata": {},
   "outputs": [],
   "source": [
    "#%%RM_IF(PROD)%%\n",
    "sns.lineplot(data=museum_data)\n",
    "step_3.assert_check_passed()"
   ]
  },
  {
   "cell_type": "code",
   "execution_count": null,
   "metadata": {},
   "outputs": [],
   "source": [
    "#%%RM_IF(PROD)%%\n",
    "sns.lineplot(data=museum_data.avila_adobe, label=\"Avila Adobe\")\n",
    "sns.lineplot(data=museum_data.firehouse_museum, label=\"firehouse_museum\")\n",
    "sns.lineplot(data=museum_data.chinese_american_museum, label=\"chinese_american_museum\")\n",
    "sns.lineplot(data=museum_data.america_tropical_interpretive_center, label=\"america_tropical_interpretive_center\")\n",
    "\n",
    "step_3.check()"
   ]
  },
  {
   "cell_type": "code",
   "execution_count": null,
   "metadata": {},
   "outputs": [],
   "source": [
    "#%%RM_IF(PROD)%%\n",
    "sns.lineplot(data=museum_data.avila_adobe)\n",
    "sns.lineplot(data=museum_data.firehouse_museum)\n",
    "sns.lineplot(data=museum_data.chinese_american_museum)\n",
    "sns.lineplot(data=museum_data.america_tropical_interpretive_center)\n",
    "\n",
    "# currently fails. need to fix (in instructions, perhaps -- fixed by requiring legend?)\n",
    "step_3.check()"
   ]
  },
  {
   "cell_type": "code",
   "execution_count": null,
   "metadata": {},
   "outputs": [],
   "source": [
    "# Lines below will give you a hint or solution code\n",
    "#_COMMENT_IF(PROD)_\n",
    "step_3.hint()\n",
    "#_COMMENT_IF(PROD)_\n",
    "step_3.solution()"
   ]
  },
  {
   "cell_type": "markdown",
   "metadata": {},
   "source": [
    "## Step 4: Assess seasonality\n",
    "\n",
    "When meeting with the employees at Avila Adobe, you hear that one major pain point is that the number of museum visitors varies greatly with the seasons, with low seasons (when the employees are perfectly staffed and happy) and also high seasons (when the employees are understaffed and stressed).  You realize that if you can predict these high and low seasons, you can plan ahead to hire some additional seasonal employees to help out with the extra work.\n",
    "\n",
    "Create a line plot that shows how the number of visitors to Avila Adobe has evolved over time."
   ]
  },
  {
   "cell_type": "code",
   "execution_count": null,
   "metadata": {},
   "outputs": [],
   "source": [
    "# Line plot showing the number of visitors to Avila Adobe over time\n",
    "____ # Your code here\n",
    "\n",
    "# Check your answer\n",
    "# step_4.check()"
   ]
  },
  {
   "cell_type": "code",
   "execution_count": null,
   "metadata": {},
   "outputs": [],
   "source": [
    "#%%RM_IF(PROD)%%\n",
    "sns.lineplot(data=museum_data.avila_adobe, \n",
    "             label='avila_adobe')\n",
    "\n",
    "step_4.assert_check_passed()"
   ]
  },
  {
   "cell_type": "code",
   "execution_count": null,
   "metadata": {},
   "outputs": [],
   "source": [
    "# Lines below will give you a hint or solution code\n",
    "#_COMMENT_IF(PROD)_\n",
    "step_4.hint()\n",
    "#_COMMENT_IF(PROD)_\n",
    "step_4.solution()"
   ]
  },
  {
   "cell_type": "markdown",
   "metadata": {},
   "source": [
    "**Question**: Does Avila Adobe seem to get more visitors in (1) the fall and winter months, or in (2) the spring and summer?"
   ]
  }
 ],
 "metadata": {
  "kernelspec": {
   "display_name": "Python 3",
   "language": "python",
   "name": "python3"
  },
  "language_info": {
   "codemirror_mode": {
    "name": "ipython",
    "version": 3
   },
   "file_extension": ".py",
   "mimetype": "text/x-python",
   "name": "python",
   "nbconvert_exporter": "python",
   "pygments_lexer": "ipython3",
   "version": "3.6.6"
  }
 },
 "nbformat": 4,
 "nbformat_minor": 2
}
