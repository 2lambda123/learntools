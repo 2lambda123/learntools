{
 "cells": [
  {
   "cell_type": "markdown",
   "metadata": {},
   "source": [
    "In this exercise, you will use your new knowledge to propose a solution to a real-world scenario. To succeed, you will need to import their data into Python, answer questions using the data, and generate line plots to help them their understand patterns in the data.\n",
    "\n",
    "## Scenario\n",
    "\n",
    "You have recently been hired to manage the museums in the City of Los Angeles. Your first project focuses on the four museums pictured in the images below.\n",
    "\n",
    "<img src=\"images/ex1.png\">\n",
    "\n",
    "You will levarage data from their [data portal](https://data.lacity.org/) that tracks the number of visitors to each museum, by month.  \n",
    "\n",
    "<img src=\"images/ex1_xlsx.png\">\n",
    "\n",
    "\n",
    "## Setup\n",
    "\n",
    "Run the next cell to import and configure the Python libraries that you need to complete the exercise."
   ]
  },
  {
   "cell_type": "code",
   "execution_count": null,
   "metadata": {},
   "outputs": [],
   "source": [
    "import pandas as pd\n",
    "import matplotlib.pyplot as plt\n",
    "%matplotlib inline\n",
    "import seaborn as sns"
   ]
  },
  {
   "cell_type": "markdown",
   "metadata": {},
   "source": [
    "The questions below will give you feedback on your work. Run the following cell to set up the feedback system."
   ]
  },
  {
   "cell_type": "code",
   "execution_count": null,
   "metadata": {},
   "outputs": [],
   "source": [
    "# Set up code checking\n",
    "from learntools.core import binder\n",
    "binder.bind(globals())\n",
    "from learntools.data_viz_easy.ex1 import *\n",
    "print(\"Setup Complete\")"
   ]
  },
  {
   "cell_type": "markdown",
   "metadata": {},
   "source": [
    "## Step 1: Load the data\n",
    "\n",
    "Read the LA Museum Visitors data file into a DataFrame called `museum_data`."
   ]
  },
  {
   "cell_type": "code",
   "execution_count": null,
   "metadata": {},
   "outputs": [],
   "source": [
    "# Path of the file to read\n",
    "museum_file_path = '../input/museum_visitors.csv'\n",
    "\n",
    "# Fill in the line below to read the file into a variable museum_data\n",
    "museum_data = ____\n",
    "\n",
    "# Run the line below with no changes to check that you've loaded the data correctly\n",
    "step_1.check()"
   ]
  },
  {
   "cell_type": "code",
   "execution_count": null,
   "metadata": {},
   "outputs": [],
   "source": [
    "#%%RM_IF(PROD)%%\n",
    "museum_data = pd.read_csv(museum_file_path, index_col=\"time\", parse_dates=True)\n",
    "step_1.assert_check_passed()"
   ]
  },
  {
   "cell_type": "code",
   "execution_count": null,
   "metadata": {},
   "outputs": [],
   "source": [
    "# Lines below will give you a hint or solution code\n",
    "#_COMMENT_IF(PROD)_\n",
    "step_1.hint()\n",
    "#_COMMENT_IF(PROD)_\n",
    "step_1.solution()"
   ]
  },
  {
   "cell_type": "markdown",
   "metadata": {},
   "source": [
    "## Step 2: Review the data\n",
    "\n",
    "Print the first 5 rows of the data."
   ]
  },
  {
   "cell_type": "code",
   "execution_count": null,
   "metadata": {},
   "outputs": [],
   "source": [
    "# Print the first five rows of the data \n",
    "\n",
    "# REMOVE THIS COMMENT AND WRITE YOUR CODE HERE"
   ]
  },
  {
   "cell_type": "markdown",
   "metadata": {},
   "source": [
    "Use the first 5 rows of the data to answer the questions below."
   ]
  },
  {
   "cell_type": "code",
   "execution_count": null,
   "metadata": {},
   "outputs": [],
   "source": [
    "# Fill in the line below: How many visitors did the Chinese American Museum \n",
    "# receive in January 2014?\n",
    "ca_museum_jan14 = ____ \n",
    "\n",
    "# Fill in the line below: In March 2014, how many more visitors did Avila \n",
    "# Adobe receive than the Firehouse Museum?\n",
    "avila_over_firehouse_mar14 = ____\n",
    "\n",
    "# Check your answers\n",
    "step_2.check()"
   ]
  },
  {
   "cell_type": "code",
   "execution_count": null,
   "metadata": {},
   "outputs": [],
   "source": [
    "#%%RM_IF(PROD)%%\n",
    "ca_museum_jan14 = \n",
    "avila_over_firehouse_mar14 = \n",
    "step_2.assert_check_passed()"
   ]
  },
  {
   "cell_type": "code",
   "execution_count": null,
   "metadata": {},
   "outputs": [],
   "source": [
    "# Lines below will give you a hint or solution code\n",
    "#_COMMENT_IF(PROD)_\n",
    "step_2.hint()\n",
    "#_COMMENT_IF(PROD)_\n",
    "step_2.solution()"
   ]
  },
  {
   "cell_type": "markdown",
   "metadata": {},
   "source": [
    "## Step 3: Visualize the data \n",
    "\n",
    "DB COMMENT: This is nice as an overview graphic. Worth pondering whether your prefer doing it this way vs something more embedded in the story/scenario. Will comment on github.\n",
    "\n",
    "Use the following code cell to create a line plot that shows how the number of visitors to each museum evolved over time.  Your plot should have four lines (one for each museum)."
   ]
  },
  {
   "cell_type": "code",
   "execution_count": null,
   "metadata": {},
   "outputs": [],
   "source": [
    "# Set width and height of figure \n",
    "plt.figure(figsize=(12,6))\n",
    "\n",
    "# Line plot showing the number of visitors to each museum over time\n",
    "____ # Your code here\n",
    "\n",
    "# Check your answer\n",
    "step_3.check()"
   ]
  },
  {
   "cell_type": "code",
   "execution_count": null,
   "metadata": {},
   "outputs": [],
   "source": [
    "#%%RM_IF(PROD)%%\n",
    "plt.figure(figsize=(12,6))\n",
    "sns.lineplot(data=museum_data)\n",
    "\n",
    "step_3.assert_check_passed()"
   ]
  },
  {
   "cell_type": "code",
   "execution_count": null,
   "metadata": {},
   "outputs": [],
   "source": [
    "#%%RM_IF(PROD)%%\n",
    "plt.figure(figsize=(12,6))\n",
    "sns.lineplot(data=museum_data.avila_adobe, label=\"Avila Adobe\")\n",
    "sns.lineplot(data=museum_data.firehouse_museum, label=\"firehouse_museum\")\n",
    "sns.lineplot(data=museum_data.chinese_american_museum, label=\"chinese_american_museum\")\n",
    "sns.lineplot(data=museum_data.america_tropical_interpretive_center, label=\"america_tropical_interpretive_center\")\n",
    "\n",
    "step_3.check()"
   ]
  },
  {
   "cell_type": "code",
   "execution_count": null,
   "metadata": {},
   "outputs": [],
   "source": [
    "#%%RM_IF(PROD)%%\n",
    "plt.figure(figsize=(12,6))\n",
    "sns.lineplot(data=museum_data.avila_adobe)\n",
    "sns.lineplot(data=museum_data.firehouse_museum)\n",
    "sns.lineplot(data=museum_data.chinese_american_museum)\n",
    "sns.lineplot(data=museum_data.america_tropical_interpretive_center)\n",
    "\n",
    "# currently fails. need to fix (in instructions, perhaps -- fixed by requiring legend?)\n",
    "step_3.check()"
   ]
  },
  {
   "cell_type": "code",
   "execution_count": null,
   "metadata": {},
   "outputs": [],
   "source": [
    "# Lines below will give you a hint or solution code\n",
    "#_COMMENT_IF(PROD)_\n",
    "step_3.hint()\n",
    "#_COMMENT_IF(PROD)_\n",
    "step_3.solution()"
   ]
  },
  {
   "cell_type": "markdown",
   "metadata": {},
   "source": [
    "## Step 4: Visualize the data\n",
    "\n",
    "DB COMMENT: Maybe motivate with scenario? Also, just to make sure I understand the problem, the stuff below has has solutions filled in and will eventually have RM_IF(PROD) for any cell with lineplot.  Right?\n",
    "\n",
    "In this step, you will create four separate line plots, each corresponding to the number of visitors to a different museum.\n",
    "\n",
    "Begin by creating a line plot that shows the number of visitors to Avila Adobe over time.  If you'd like a hint or the solution, look at the code cell at the end of this step!"
   ]
  },
  {
   "cell_type": "code",
   "execution_count": null,
   "metadata": {},
   "outputs": [],
   "source": [
    "# PLOT 1: line plot showing the number of visitors to Avila Adobe over time\n",
    "plt.figure(figsize=(12,6))\n",
    "\n",
    "sns.lineplot(data=museum_data.avila_adobe, \n",
    "             label='avila_adobe')\n",
    "\n",
    "# This fails. not clear why ...\n",
    "step_4.check()"
   ]
  },
  {
   "cell_type": "markdown",
   "metadata": {},
   "source": [
    "Next, create a line plot that shows the number of visitors to the Firehouse Museum over time."
   ]
  },
  {
   "cell_type": "code",
   "execution_count": null,
   "metadata": {},
   "outputs": [],
   "source": [
    "plt.figure(figsize=(12,6))\n",
    "\n",
    "# PLOT 2: line plot showing the number of visitors \n",
    "# to the Firehouse Museum over time\n",
    "sns.lineplot(data=museum_data.firehouse_museum, \n",
    "             label='firehouse_museum')\n",
    "\n",
    "# Show PLOT 2 in the notebook\n",
    "plt.show()"
   ]
  },
  {
   "cell_type": "markdown",
   "metadata": {},
   "source": [
    "In the following code cell, create a line plot that shows the number of visitors to the Chinese American Museum over time."
   ]
  },
  {
   "cell_type": "code",
   "execution_count": null,
   "metadata": {},
   "outputs": [],
   "source": [
    "plt.figure(figsize=(12,6))\n",
    "\n",
    "# PLOT 3: line plot showing the number of visitors \n",
    "# to the Chinese American Museum over time\n",
    "sns.lineplot(data=museum_data.chinese_american_museum, \n",
    "             label='chinese_american_museum')\n",
    "\n",
    "# Show PLOT 3 in the notebook\n",
    "plt.show()"
   ]
  },
  {
   "cell_type": "markdown",
   "metadata": {},
   "source": [
    "Finally, create a line plot that shows the number of visitors to the America Tropical Interpretive Center over time."
   ]
  },
  {
   "cell_type": "code",
   "execution_count": null,
   "metadata": {},
   "outputs": [],
   "source": [
    "plt.figure(figsize=(12,6))\n",
    "\n",
    "# PLOT 4: line plot showing the number of visitors \n",
    "# to the America Tropical Interpretive Center over time\n",
    "sns.lineplot(data=museum_data.america_tropical_interpretive_center, \n",
    "             label='america_tropical_interpretive_center')\n",
    "\n",
    "# Show PLOT 4 in the notebook\n",
    "plt.show()"
   ]
  },
  {
   "cell_type": "code",
   "execution_count": null,
   "metadata": {},
   "outputs": [],
   "source": [
    "# Lines below will give you a hint or solution code\n",
    "# step_4.hint()\n",
    "# step_4.solution()"
   ]
  },
  {
   "cell_type": "markdown",
   "metadata": {},
   "source": [
    "## Step 5: Analyze the data\n",
    "\n",
    "Use the plots you created in **Step 3** and **Step 4** to answer the questions below:\n",
    "\n",
    "**Question 1**: One of your goals is to increase the number of visitors to the museums through a marketing campaign.  Towards this end, you decide to first identify the most popular museum.  **Use the plots to determine which museum gets the most visitors over time.**  If you have to demonstrate the most popular museum in a presentation, do you think it is more effective to show:\n",
    "- the single plot from **Step 3**, or\n",
    "- all four plots in **Step 4**?"
   ]
  },
  {
   "cell_type": "code",
   "execution_count": null,
   "metadata": {},
   "outputs": [],
   "source": [
    "# hidden answer\n",
    "# avila adobe \n",
    "# use single plot (will go into detail)"
   ]
  },
  {
   "cell_type": "markdown",
   "metadata": {},
   "source": [
    "**Question 2**: You are very interested in ensuring the happiness of the employees at each museum.  When meeting with them, you hear that one major pain point is that the number of museum visitors varies greatly with the seasons, with  low seasons (when the employees are perfectly staffed and happy) and also high seasons (when the employees are understaffed and stressed).  You realize that if you can predict these high and low seasons, you can plan ahead to hire some additional seasonal employees to help out with the extra work. **Use the plots to determine which museums have predictable high and low seasons each year.**  If you have to demonstrate the high and low seasons in a presentation, do you think it is more effective to show:\n",
    "- the single plot from **Step 3**, or\n",
    "- all four plots in **Step 4**?"
   ]
  },
  {
   "cell_type": "code",
   "execution_count": null,
   "metadata": {},
   "outputs": [],
   "source": [
    "# DB COMMENT: I found this one really hard, and I'm not entirely convinced the other ones don't have seasonality.\n",
    "# I made the following plot to check the answer.  Seems like Avila has most seasonality. \n",
    "# But I just find it hard to tell from original graphs that the user has seen\n",
    "museum_data['activity_month'] = museum_data.index.month\n",
    "museum_data.groupby(['activity_month']).mean().plot()"
   ]
  },
  {
   "cell_type": "code",
   "execution_count": null,
   "metadata": {},
   "outputs": [],
   "source": [
    "# hidden answer\n",
    "# all predicatable except america tropical \n",
    "# should also mention that crazy spike in 2014 for fireshouse but other than that, firehouse predictable\n",
    "# use all four plots (will go into detail)"
   ]
  },
  {
   "cell_type": "markdown",
   "metadata": {},
   "source": [
    "**Question 3**: You would like to have a general idea of overall trends in museum visits.  What do you think: for each museum, does the number of visitors seem to be following a general upward or downward trend over the years?"
   ]
  },
  {
   "cell_type": "code",
   "execution_count": null,
   "metadata": {},
   "outputs": [],
   "source": [
    "# hidden answer\n",
    "# chinese american up, all others down"
   ]
  }
 ],
 "metadata": {
  "kernelspec": {
   "display_name": "Python 3",
   "language": "python",
   "name": "python3"
  },
  "language_info": {
   "codemirror_mode": {
    "name": "ipython",
    "version": 3
   },
   "file_extension": ".py",
   "mimetype": "text/x-python",
   "name": "python",
   "nbconvert_exporter": "python",
   "pygments_lexer": "ipython3",
   "version": "3.6.5"
  }
 },
 "nbformat": 4,
 "nbformat_minor": 2
}
