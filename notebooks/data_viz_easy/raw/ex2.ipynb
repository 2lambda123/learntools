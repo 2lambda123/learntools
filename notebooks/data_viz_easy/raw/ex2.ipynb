{
 "cells": [
  {
   "cell_type": "markdown",
   "metadata": {},
   "source": [
    "In this exercise, you will use your new knowledge to propose a solution to a real-world scenario.  To succeed, you will need to import data into Python, answer questions using the data, and generate **bar plots** and **heatmaps** to understand patterns in the data.\n",
    "\n",
    "## Scenario\n",
    "\n",
    "You're the CEO of a game studio ...\n",
    "\n",
    "## Setup\n",
    "\n",
    "Run the next cell to import and configure the Python libraries that you need to complete the exercise."
   ]
  },
  {
   "cell_type": "code",
   "execution_count": null,
   "metadata": {},
   "outputs": [],
   "source": [
    "import pandas as pd\n",
    "import matplotlib.pyplot as plt\n",
    "%matplotlib inline\n",
    "import seaborn as sns\n",
    "print(\"Setup Complete\")"
   ]
  },
  {
   "cell_type": "markdown",
   "metadata": {},
   "source": [
    "The questions below will give you feedback on your work. Run the following cell to set up our feedback system."
   ]
  },
  {
   "cell_type": "code",
   "execution_count": null,
   "metadata": {},
   "outputs": [],
   "source": [
    "# Set up code checking\n",
    "from learntools.core import binder\n",
    "binder.bind(globals())\n",
    "from learntools.data_viz_easy.ex2 import *\n",
    "print(\"Setup Complete\")"
   ]
  },
  {
   "cell_type": "markdown",
   "metadata": {},
   "source": [
    "## Step 1: Load the data\n",
    "\n",
    "Read the IGN data file into a DataFrame called `ign_data`.  Use the `\"Id\"` column to label the rows."
   ]
  },
  {
   "cell_type": "code",
   "execution_count": null,
   "metadata": {},
   "outputs": [],
   "source": [
    "# Path of the file to read\n",
    "ign_filepath = \"../input/ign.csv\"\n",
    "\n",
    "# Fill in the line below to read the file into a variable ign_data\n",
    "ign_data = ____\n",
    "\n",
    "# Run the line below with no changes to check that you've loaded the data correctly\n",
    "step_1.check()"
   ]
  },
  {
   "cell_type": "code",
   "execution_count": null,
   "metadata": {},
   "outputs": [],
   "source": [
    "#%%RM_IF(PROD)%%\n",
    "ign_data = pd.read_csv(ign_filepath, index_col=\"Id\")\n",
    "step_1.assert_check_passed()"
   ]
  },
  {
   "cell_type": "code",
   "execution_count": null,
   "metadata": {},
   "outputs": [],
   "source": [
    "# Lines below will give you a hint or solution code\n",
    "#_COMMENT_IF(PROD)_\n",
    "step_1.hint()\n",
    "#_COMMENT_IF(PROD)_\n",
    "step_1.solution()"
   ]
  },
  {
   "cell_type": "markdown",
   "metadata": {},
   "source": [
    "## Step 2: Review the data\n",
    "\n",
    "Use a Python command to print the first 5 rows of the data."
   ]
  },
  {
   "cell_type": "code",
   "execution_count": null,
   "metadata": {},
   "outputs": [],
   "source": [
    "# Print the first five rows of the data \n",
    "____ # Your code here"
   ]
  },
  {
   "cell_type": "markdown",
   "metadata": {},
   "source": [
    "Use the first 5 rows of the data to answer the questions below."
   ]
  },
  {
   "cell_type": "code",
   "execution_count": null,
   "metadata": {},
   "outputs": [],
   "source": [
    "# Fill in the line below: What was IGN's score for the September 2012 \n",
    "# release of \"Double Dragon: Neon\" for Xbox 360?\n",
    "dragon_score = ____\n",
    "\n",
    "# Fill in the line below: Which day in September 2012 was \"LittleBigPlanet PS Vita\"\n",
    "# for PlayStation Vita released? (Your answer should be a number between 1 and 30.)\n",
    "planet_date = ____\n",
    "\n",
    "# Check your answers\n",
    "step_2.check()"
   ]
  },
  {
   "cell_type": "code",
   "execution_count": null,
   "metadata": {},
   "outputs": [],
   "source": [
    "#%%RM_IF(PROD)%%\n",
    "dragon_score = 3.0\n",
    "planet_date = 12\n",
    "step_2.assert_check_passed()"
   ]
  },
  {
   "cell_type": "code",
   "execution_count": null,
   "metadata": {},
   "outputs": [],
   "source": [
    "# Lines below will give you a hint or solution code\n",
    "#_COMMENT_IF(PROD)_\n",
    "step_2.hint()\n",
    "#_COMMENT_IF(PROD)_\n",
    "step_2.solution()"
   ]
  },
  {
   "cell_type": "markdown",
   "metadata": {},
   "source": [
    "## Step 3: When are most games released?\n",
    "\n",
    "A friend suggests that you have your game ready before Christmas -- and better yet, before the end of November, so that [Black Friday](https://en.wikipedia.org/wiki/Black_Friday_(shopping)) shoppers can purchase it!  While you think that it might be _possible_ to get it done by then, it would result in a lot of extra stress, since you had originally planned to have the game ready for release sometime in January.\n",
    "\n",
    "To inform your decision, you decide to use the IGN data to take a closer look at when games have historically been released.  \n",
    "\n",
    "#### Part A\n",
    "\n",
    "Create a bar plot that shows the number of games released in each month over the years.  Your bar plot should have 12 bars, with one bar for each month."
   ]
  },
  {
   "cell_type": "code",
   "execution_count": null,
   "metadata": {},
   "outputs": [],
   "source": [
    "# Bar plot showing number of games released by month\n",
    "____ # Your code here\n",
    "\n",
    "# Check your answer\n",
    "step_3.check()"
   ]
  },
  {
   "cell_type": "code",
   "execution_count": null,
   "metadata": {},
   "outputs": [],
   "source": [
    "#%%RM_IF(PROD)%%\n",
    "sns.countplot(y=ign_data[\"Release month\"])\n",
    "step_3.assert_check_passed()"
   ]
  },
  {
   "cell_type": "code",
   "execution_count": null,
   "metadata": {},
   "outputs": [],
   "source": [
    "# Lines below will give you a hint or solution code\n",
    "#_COMMENT_IF(PROD)_\n",
    "step_3.hint()\n",
    "#_COMMENT_IF(PROD)_\n",
    "step_3.solution_plot()"
   ]
  },
  {
   "cell_type": "markdown",
   "metadata": {},
   "source": [
    "#### Part B\n",
    "\n",
    "Use the bar plot to answer the questions below."
   ]
  },
  {
   "cell_type": "code",
   "execution_count": null,
   "metadata": {},
   "outputs": [],
   "source": [
    "# Fill in the line below: According to the data, which month has the most \n",
    "# game releases? (Your answer should be a number between 1 and 12.)\n",
    "month_most = ____\n",
    "\n",
    "# Fill in the line below: According to the data, which month has the least \n",
    "# game releases? (Your answer should be a number between 1 and 12.)\n",
    "month_least = ____\n",
    "\n",
    "# Check your answer\n",
    "# step_3b.check()"
   ]
  },
  {
   "cell_type": "code",
   "execution_count": null,
   "metadata": {},
   "outputs": [],
   "source": [
    "# Lines below will give you a hint or solution code\n",
    "#_COMMENT_IF(PROD)_\n",
    "# step_3b.hint()\n",
    "#_COMMENT_IF(PROD)_\n",
    "# step_3b.solution()"
   ]
  },
  {
   "cell_type": "markdown",
   "metadata": {},
   "source": [
    "## Step 4: Prepare for deeper analysis\n",
    "\n",
    "you'd like to do some deeper analysis ...\n",
    "\n",
    "You realize that the existing form of the data in `ign_data` is a bit hard to work with, and so you do some pre-processing to better extract some insights ... decide that want to know ... for each possible combination of platform and game genre, the average score (averaged over all games released).\n",
    "\n",
    "This data can be found at the filepath ... load it blah blah"
   ]
  },
  {
   "cell_type": "code",
   "execution_count": null,
   "metadata": {},
   "outputs": [],
   "source": [
    "ign_scores_filepath = \"../input/ign_scores.csv\"\n",
    "\n",
    "# Load the data into python\n",
    "ign_scores = pd.read_csv(ign_scores_filepath, index_col=\"Platform\")\n",
    "\n",
    "# Check your answer\n",
    "step_4.check()"
   ]
  },
  {
   "cell_type": "code",
   "execution_count": null,
   "metadata": {},
   "outputs": [],
   "source": [
    "# Lines below will give you a hint or solution code\n",
    "#_COMMENT_IF(PROD)_\n",
    "step_4.hint()\n",
    "#_COMMENT_IF(PROD)_\n",
    "step_4.solution()"
   ]
  },
  {
   "cell_type": "markdown",
   "metadata": {},
   "source": [
    "Run the next code cell without any changes to print the DataFrame that you've loaded."
   ]
  },
  {
   "cell_type": "code",
   "execution_count": null,
   "metadata": {},
   "outputs": [],
   "source": [
    "# Print the data\n",
    "ign_scores"
   ]
  },
  {
   "cell_type": "markdown",
   "metadata": {},
   "source": [
    "**Question**: ask some thought experiment here to make sure they understand the dataset"
   ]
  },
  {
   "cell_type": "markdown",
   "metadata": {},
   "source": [
    "## Step 5: Which platform is best?\n",
    "\n",
    "You're leaning towards creating a racing game, but you're completely undecided on the platform (_PC? Playstation? Xbox? something else?_).  \n",
    "\n",
    "The video game company that\n",
    "\n",
    "create a bar plot that shows the average score per platform, averaged over all racing games. // at this point, it needs to be super clear what's in the dataframe they just loaded."
   ]
  },
  {
   "cell_type": "code",
   "execution_count": null,
   "metadata": {},
   "outputs": [],
   "source": [
    "plt.figure(figsize=(8, 6))\n",
    "sns.barplot(x=ign_scores[\"Racing\"], y=ign_scores.index)\n",
    "plt.xlabel(\"\")\n",
    "plt.title(\"Average score, by platform\")\n",
    "plt.show()"
   ]
  },
  {
   "cell_type": "code",
   "execution_count": null,
   "metadata": {},
   "outputs": [],
   "source": [
    "# Lines below will give you a hint or solution code\n",
    "#_COMMENT_IF(PROD)_\n",
    "# step_5.hint()\n",
    "#_COMMENT_IF(PROD)_\n",
    "# step_5.solution()"
   ]
  },
  {
   "cell_type": "markdown",
   "metadata": {},
   "source": [
    "## Step 6: All possible combinations!\n",
    "\n",
    "at some point in development, you decide that maybe you're not interested in making a racing game and are open to selecting a different genre.\n",
    "\n",
    "in fact, you decide to discard your original idea and create a completely new game, and you're open to building a game in any genre, and for any platform!\n",
    "\n",
    "to see which genre and platform combination receives the highest ratings, create a heatmap of average score by genre and platform.  "
   ]
  },
  {
   "cell_type": "code",
   "execution_count": null,
   "metadata": {},
   "outputs": [],
   "source": [
    "plt.figure(figsize=(10,10))\n",
    "sns.heatmap(ign_scores, annot=True)\n",
    "plt.xlabel(\"Genre\")\n",
    "plt.title(\"Average game score, by platform and genre\")\n",
    "plt.show()"
   ]
  },
  {
   "cell_type": "code",
   "execution_count": null,
   "metadata": {},
   "outputs": [],
   "source": [
    "# Lines below will give you a hint or solution code\n",
    "#_COMMENT_IF(PROD)_\n",
    "# step_6.hint()\n",
    "#_COMMENT_IF(PROD)_\n",
    "# step_6.solution()"
   ]
  },
  {
   "cell_type": "markdown",
   "metadata": {},
   "source": [
    "**Question**: Which genre/platform combination receives the highest ratings?\n",
    "\n",
    "**Answer**: simulation, playstation 4\n",
    "\n",
    "**Question**: Which genre/platform receives the lowest ratings?\n",
    "\n",
    "**Answer**: fighting + shooter, gameboy color"
   ]
  }
 ],
 "metadata": {
  "kernelspec": {
   "display_name": "Python 3",
   "language": "python",
   "name": "python3"
  },
  "language_info": {
   "codemirror_mode": {
    "name": "ipython",
    "version": 3
   },
   "file_extension": ".py",
   "mimetype": "text/x-python",
   "name": "python",
   "nbconvert_exporter": "python",
   "pygments_lexer": "ipython3",
   "version": "3.6.5"
  }
 },
 "nbformat": 4,
 "nbformat_minor": 2
}
