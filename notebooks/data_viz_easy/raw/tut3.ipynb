{
 "cells": [
  {
   "cell_type": "markdown",
   "metadata": {},
   "source": [
    "In this lesson you'll add several new plot types to your growing toolkit: **scatter plots**, **histograms**, and **density plots**.\n",
    "\n",
    "# Set up the notebook\n",
    "\n",
    "As always, we begin by setting up the coding environment.  (_This code is hidden, but you can un-hide and re-hide it by clicking on the \"Code\" button immediately below this text, on the right._)"
   ]
  },
  {
   "cell_type": "code",
   "execution_count": null,
   "metadata": {},
   "outputs": [],
   "source": [
    "import pandas as pd\n",
    "import matplotlib.pyplot as plt\n",
    "%matplotlib inline\n",
    "import seaborn as sns\n",
    "print(\"Setup Complete\")"
   ]
  },
  {
   "cell_type": "markdown",
   "metadata": {},
   "source": [
    "# Select a dataset\n",
    "\n",
    "We'll work with a dataset of 150 different flowers, or 50 each from three different species of iris (*Iris setosa*, *Iris versicolor*, and *Iris virginica*).\n",
    "\n",
    "<img src=\"images/tut3_iris.png\">\n",
    "\n",
    "# Load and examine the data\n",
    "\n",
    "In the dataset, each species has a different CSV file.  For each flower, there are four measurements: the sepal length and width, along with the petal length and width. \n",
    "\n",
    "Run the code below (without changes) to load the files."
   ]
  },
  {
   "cell_type": "code",
   "execution_count": null,
   "metadata": {},
   "outputs": [],
   "source": [
    "# Paths of the files to read\n",
    "iris_set_filepath = \"../input/iris_setosa.csv\"\n",
    "iris_ver_filepath = \"../input/iris_versicolor.csv\"\n",
    "iris_vir_filepath = \"../input/iris_virginica.csv\"\n",
    "\n",
    "# Read the files into variables \n",
    "iris_set_data = pd.read_csv(iris_set_filepath, index_col=\"Id\")\n",
    "iris_ver_data = pd.read_csv(iris_ver_filepath, index_col=\"Id\")\n",
    "iris_vir_data = pd.read_csv(iris_vir_filepath, index_col=\"Id\")\n",
    "\n",
    "# Print the first 5 rows of the Iris setosa data\n",
    "iris_set_data.head()"
   ]
  },
  {
   "cell_type": "markdown",
   "metadata": {},
   "source": [
    "# Histogram\n",
    "\n",
    "To create a **histogram**, we use the `sns.distplot` command and use `a=` to choose the column we'd like to plot.  \n",
    "\n",
    "In the code cell below, we create three different histograms to understand how petal length varies between species.  In this case, it is helpful to use a legend, and you can set the values in the legend by using `label=`.  When creating a histogram, you should also set `kde=False` (as leaving it out will create a slightly different plot).\n",
    "\n",
    "In this case, the legend does not automatically appear on the plot.  To force it to show (for any plot type), we can always use `plt.legend()`."
   ]
  },
  {
   "cell_type": "code",
   "execution_count": null,
   "metadata": {},
   "outputs": [],
   "source": [
    "# Plot a histogram for each species\n",
    "sns.distplot(a=iris_set_data['Petal Length (cm)'], label='Iris-setosa', kde=False)\n",
    "sns.distplot(a=iris_ver_data['Petal Length (cm)'], label='Iris-versicolor', kde=False)\n",
    "sns.distplot(a=iris_vir_data['Petal Length (cm)'], label='Iris-virginica', kde=False)\n",
    "\n",
    "# Show the legend\n",
    "plt.legend()"
   ]
  },
  {
   "cell_type": "markdown",
   "metadata": {},
   "source": [
    "# Density plot\n",
    "\n",
    "The next type of plot you'll learn to make is a **kernel density estimate (KDE)** plot.  In case you're not familiar with KDE plots, you can think of it as a smoothed histogram.   \n",
    "\n",
    "To make a KDE plot, we use the `sns.kdeplot` command (_where you'll notice that the process of setting the data column and the label is identical to when we made a histogram_).  Setting `shade=True` colors the area below each curve."
   ]
  },
  {
   "cell_type": "code",
   "execution_count": null,
   "metadata": {},
   "outputs": [],
   "source": [
    "# KDE plot for each species\n",
    "sns.kdeplot(data=iris_set_data['Petal Length (cm)'], label='Iris-setosa', shade=True)\n",
    "sns.kdeplot(data=iris_ver_data['Petal Length (cm)'], label='Iris-versicolor', shade=True)\n",
    "sns.kdeplot(data=iris_vir_data['Petal Length (cm)'], label='Iris-virginica', shade=True)\n",
    "\n",
    "# Show the legend\n",
    "plt.legend()"
   ]
  },
  {
   "cell_type": "markdown",
   "metadata": {},
   "source": [
    "# A _slightly_ different dataset\n",
    "\n",
    "For the next part of the lesson, instead of working with the dataset as three different files, we'll upload the dataset as a single file. "
   ]
  },
  {
   "cell_type": "code",
   "execution_count": null,
   "metadata": {},
   "outputs": [],
   "source": [
    "# Path of the file to read\n",
    "iris_filepath = \"../input/iris.csv\"\n",
    "\n",
    "# Read the file into a variable iris_data\n",
    "iris_data = pd.read_csv(iris_filepath, index_col=\"Id\")\n",
    "\n",
    "# Print the first 5 rows of the data\n",
    "iris_data.head()"
   ]
  },
  {
   "cell_type": "markdown",
   "metadata": {},
   "source": [
    "For all of the remaining plots, we'll use `iris_data` (instead of `iris_set_data`, `iris_ver_data`, and `iris_vir_data`, from above) to access the dataset.\n",
    "\n",
    "# Scatter plot, Part 1\n",
    "\n",
    "To create a simple **scatter plot**, we use the `sns.scatterplot` command and specify the values for the horizontal x-axis (`x=iris_data['Petal Width (cm)']`) and the vertical y-axis (`y=iris_data['Petal Length (cm)']`)."
   ]
  },
  {
   "cell_type": "code",
   "execution_count": null,
   "metadata": {},
   "outputs": [],
   "source": [
    "sns.scatterplot(x=iris_data['Petal Width (cm)'], y=iris_data['Petal Length (cm)'])"
   ]
  },
  {
   "cell_type": "markdown",
   "metadata": {},
   "source": [
    "The scatterplot above suggests that petal length and petal width are **positively correlated**, where plants with larger petal length typically also have increased petal width.\n",
    "\n",
    "To double-check the strength of this relationship, you might like to add a **regression line**, or the line that best fits the data.  We do this by changing the command to `sns.regplot`."
   ]
  },
  {
   "cell_type": "code",
   "execution_count": null,
   "metadata": {},
   "outputs": [],
   "source": [
    "sns.regplot(x=iris_data['Petal Width (cm)'], y=iris_data['Petal Length (cm)'])"
   ]
  },
  {
   "cell_type": "markdown",
   "metadata": {},
   "source": [
    "The line certainly appears to provide a close fit!\n",
    "\n",
    "# Scatter plot, Part 2\n",
    "\n",
    "We can use scatter plots to display the relationships between (_not two, but..._) three variables!  One way of doing this is by color-coding the points.  \n",
    "\n",
    "For instance, to determine the relationship between petal length, sepal width, and species, we can color-code the points by `'Species'`, and plot the other two other variables (`'Petal Length (cm)'`, `'Sepal Width (cm)'`) on the axes."
   ]
  },
  {
   "cell_type": "code",
   "execution_count": null,
   "metadata": {},
   "outputs": [],
   "source": [
    "sns.scatterplot(x=iris_data['Petal Length (cm)'], \n",
    "                y=iris_data['Sepal Width (cm)'], \n",
    "                hue=iris_data['Species'])"
   ]
  },
  {
   "cell_type": "markdown",
   "metadata": {},
   "source": [
    "One pattern that can be seen in the scatter plot is that the plants seem to belong to one of two groups, where _Iris versicolor_ and _Iris virginica_ seem to have similar values for petal length and sepal width, while _Iris setosa_ belongs in a category all by itself. \n",
    "\n",
    "There's a plot that communicates this story even more clearly, and that's the two-dimensional (2D) **kernel density estimate (KDE) plot**.  To create a 2D KDE plot, we use the `sns.kdeplot` command.  \n",
    "\n",
    "For this plot type, the color-coded rectangle in the middle of the plot shows us how likely we are to see different combinations of sepal width and petal length, where darker parts of the figure are more likely.  "
   ]
  },
  {
   "cell_type": "code",
   "execution_count": null,
   "metadata": {},
   "outputs": [],
   "source": [
    "sns.kdeplot(data=iris_data['Petal Length (cm)'],\n",
    "            data2=iris_data['Sepal Width (cm)'],\n",
    "            shade=True)"
   ]
  },
  {
   "cell_type": "markdown",
   "metadata": {},
   "source": [
    "Alternatively, we can build a 2D KDE plot with the `sns.jointplot` command, which gives us two additional KDE plots for free:\n",
    "- the curve at the top of the figure is a KDE plot for the data on the x-axis (in this case, `iris_data['Petal Length (cm)']`), and\n",
    "- the curve at the bottom of the figure is a KDE plot for the data on the y-axis (in this case, `iris_data['Sepal Width (cm)']`)."
   ]
  },
  {
   "cell_type": "code",
   "execution_count": null,
   "metadata": {},
   "outputs": [],
   "source": [
    "sns.jointplot(x=iris_data['Petal Length (cm)'],\n",
    "              y=iris_data['Sepal Width (cm)'],\n",
    "              kind=\"kde\")"
   ]
  },
  {
   "cell_type": "markdown",
   "metadata": {},
   "source": [
    "If we're only interested in the relationship between petal length and species, there's a scatter plot for that, too!  In this case, since `'Species'` contains categorical entries, a traditional scatter plot (as above) isn't the best bet.  (Before moving on, make sure that this makes sense to you!)  \n",
    "\n",
    "However, there is a type of scatter plot (called a **categorical scatter plot**) that is useful for this, and we build it by using the `sns.swarmplot` command."
   ]
  },
  {
   "cell_type": "code",
   "execution_count": null,
   "metadata": {},
   "outputs": [],
   "source": [
    "sns.swarmplot(x=iris_data['Species'], \n",
    "              y=iris_data['Petal Length (cm)'])"
   ]
  },
  {
   "cell_type": "markdown",
   "metadata": {},
   "source": [
    "This plot communicates similar information as the histogram and KDE plot above: namely, *Iris setosa* tends to have shorter petal length, where *Iris virginica* is much longer, and *Iris versicolor* is somewhere in the middle. \n",
    "\n",
    "# What's next?\n",
    "\n",
    "write later."
   ]
  }
 ],
 "metadata": {
  "kernelspec": {
   "display_name": "Python 3",
   "language": "python",
   "name": "python3"
  },
  "language_info": {
   "codemirror_mode": {
    "name": "ipython",
    "version": 3
   },
   "file_extension": ".py",
   "mimetype": "text/x-python",
   "name": "python",
   "nbconvert_exporter": "python",
   "pygments_lexer": "ipython3",
   "version": "3.6.5"
  }
 },
 "nbformat": 4,
 "nbformat_minor": 2
}
