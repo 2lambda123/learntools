{
 "cells": [
  {
   "cell_type": "markdown",
   "metadata": {},
   "source": [
    "intro\n",
    "\n",
    "# Set up the notebook\n",
    "\n",
    "As always, we begin by setting up the coding environment.  (_This code is hidden, but you can un-hide and re-hide it by clicking on the \"Code\" button immediately below this text, on the right._)"
   ]
  },
  {
   "cell_type": "code",
   "execution_count": null,
   "metadata": {},
   "outputs": [],
   "source": [
    "import pandas as pd\n",
    "import matplotlib.pyplot as plt\n",
    "%matplotlib inline\n",
    "import seaborn as sns\n",
    "print(\"Setup Complete\")"
   ]
  },
  {
   "cell_type": "markdown",
   "metadata": {},
   "source": [
    "# Select a dataset\n",
    "\n",
    "We'll work with a dataset of three different iris species.\n",
    "\n",
    "<img src=\"images/tut3_iris.png\">\n",
    "\n",
    "\n",
    "# Load and examine the data\n",
    "\n",
    "In this lesson, we'll work with two different versions of the dataset.  \n",
    "\n",
    "For the first part of the lesson, we'll work with a version where each species has a different CSV file."
   ]
  },
  {
   "cell_type": "code",
   "execution_count": null,
   "metadata": {},
   "outputs": [],
   "source": [
    "# Paths of the files to read\n",
    "iris_set_filepath = \"../input/iris_setosa.csv\"\n",
    "iris_ver_filepath = \"../input/iris_versicolor.csv\"\n",
    "iris_vir_filepath = \"../input/iris_virginica.csv\"\n",
    "\n",
    "# Read the files into variables \n",
    "iris_set_data = pd.read_csv(iris_set_filepath, index_col=\"Id\")\n",
    "iris_ver_data = pd.read_csv(iris_ver_filepath, index_col=\"Id\")\n",
    "iris_vir_data = pd.read_csv(iris_vir_filepath, index_col=\"Id\")\n",
    "\n",
    "# Print the first 5 rows of the Iris setosa data\n",
    "iris_set_data.head()"
   ]
  },
  {
   "cell_type": "markdown",
   "metadata": {},
   "source": [
    "# Histogram"
   ]
  },
  {
   "cell_type": "code",
   "execution_count": null,
   "metadata": {},
   "outputs": [],
   "source": [
    "# Plot a histogram for each species\n",
    "sns.distplot(iris_set_data['Petal Length (cm)'], label='Iris-setosa', kde=False)\n",
    "sns.distplot(iris_ver_data['Petal Length (cm)'], label='Iris-versicolor', kde=False)\n",
    "sns.distplot(iris_vir_data['Petal Length (cm)'], label='Iris-virginica', kde=False)\n",
    "\n",
    "# Show the legend\n",
    "plt.legend()"
   ]
  },
  {
   "cell_type": "markdown",
   "metadata": {},
   "source": [
    "# Density plot\n",
    "\n",
    "This is called a **kernel density estimate (KDE)** plot."
   ]
  },
  {
   "cell_type": "code",
   "execution_count": null,
   "metadata": {},
   "outputs": [],
   "source": [
    "# Plot the KDE for each species\n",
    "sns.kdeplot(iris_set_data['Petal Length (cm)'], label='Iris-setosa', shade=True)\n",
    "sns.kdeplot(iris_ver_data['Petal Length (cm)'], label='Iris-versicolor', shade=True)\n",
    "sns.kdeplot(iris_vir_data['Petal Length (cm)'], label='Iris-virginica', shade=True)\n",
    "\n",
    "# Show the legend\n",
    "plt.legend()"
   ]
  },
  {
   "cell_type": "markdown",
   "metadata": {},
   "source": [
    "# A _slightly_ different dataset"
   ]
  },
  {
   "cell_type": "code",
   "execution_count": null,
   "metadata": {},
   "outputs": [],
   "source": [
    "# Path of the file to read\n",
    "iris_filepath = \"../input/iris.csv\"\n",
    "\n",
    "# Read the file into a variable iris_data\n",
    "iris_data = pd.read_csv(iris_filepath, index_col=\"Id\")\n",
    "\n",
    "# Print the first 5 rows of the data\n",
    "iris_data.head()"
   ]
  },
  {
   "cell_type": "markdown",
   "metadata": {},
   "source": [
    "# Scatter plot, Part 1\n",
    "\n",
    "To create a simple **scatter plot**, we use the `sns.scatterplot` command and need only specify the values that will be used for the horizontal x-axis (`x=iris_data['Petal Width (cm)']`) and the vertical y-axis (`y=iris_data['Petal Length (cm)']`)."
   ]
  },
  {
   "cell_type": "code",
   "execution_count": null,
   "metadata": {},
   "outputs": [],
   "source": [
    "sns.scatterplot(x=iris_data['Petal Width (cm)'], y=iris_data['Petal Length (cm)'])"
   ]
  },
  {
   "cell_type": "markdown",
   "metadata": {},
   "source": [
    "The scatterplot above suggests that petal length and petal width are **positively correlated**, where plants with larger petal length typically also have increased petal width.\n",
    "\n",
    "To double-check the strength of this relationship, you might like to add a **regression line**, or the line that best fits the data.  We do this by changing the command to `sns.regplot`."
   ]
  },
  {
   "cell_type": "code",
   "execution_count": null,
   "metadata": {},
   "outputs": [],
   "source": [
    "sns.regplot(x=iris_data['Petal Width (cm)'], y=iris_data['Petal Length (cm)'])"
   ]
  },
  {
   "cell_type": "markdown",
   "metadata": {},
   "source": [
    "The line certainly appears to provide a close fit!\n",
    "\n",
    "# Scatter plot, Part 2\n",
    "\n",
    "We can use scatter plots to display the relationships between (_not two, but..._) three variables!  One way of doing this is by color-coding the points.  \n",
    "\n",
    "For instance, to determine the relationship between petal length, sepal width, and species, we can color code the points by `'Species'`, and plot the other two other variables (`'Petal Length (cm)'`, `'Sepal Width (cm)'`) on the axes."
   ]
  },
  {
   "cell_type": "code",
   "execution_count": null,
   "metadata": {},
   "outputs": [],
   "source": [
    "sns.scatterplot(x=iris_data['Petal Length (cm)'], \n",
    "                y=iris_data['Sepal Width (cm)'], \n",
    "                hue=iris_data['Species'])"
   ]
  },
  {
   "cell_type": "markdown",
   "metadata": {},
   "source": [
    "This chart communicates a lot of useful information to the viewer, but perhaps the most compelling story here is that while petal length can easily b ...\n",
    "\n",
    "If we're only interested in the relationship between petal length and species, there's a scatter plot for that, too!  In this case, since `'Species'` contains categorical entries, a traditional scatter plot (as above) isn't the best bet.  (Before moving on, make sure that this makes sense to you!)  \n",
    "\n",
    "However, there is a type of scatter plot (called a **categorical scatter plot**) that is useful for this, and we build it by using the `sns.swarmplot` command."
   ]
  },
  {
   "cell_type": "code",
   "execution_count": null,
   "metadata": {},
   "outputs": [],
   "source": [
    "sns.swarmplot(x=iris_data['Species'], \n",
    "              y=iris_data['Petal Length (cm)'])"
   ]
  },
  {
   "cell_type": "markdown",
   "metadata": {},
   "source": [
    "Another pattern in the data that can be read from the scatter plot is that the plants seem to belong to one of two groups, where _Iris versicolor_ and _Iris virginica_ seem to have similar values for petal length and sepal width, while _Iris setosa_ belongs in a category all by itself. \n",
    "\n",
    "< insert image here >\n",
    "\n",
    "There's a plot that communicates this story even more clearly, and that's the two-dimensional (2D) **kernel density estimate (KDE) plot**."
   ]
  },
  {
   "cell_type": "code",
   "execution_count": null,
   "metadata": {},
   "outputs": [],
   "source": [
    "sns.jointplot(x=iris_data['Petal Length (cm)'],\n",
    "              y=iris_data['Sepal Width (cm)'],  \n",
    "              kind=\"kde\")"
   ]
  },
  {
   "cell_type": "markdown",
   "metadata": {},
   "source": [
    "in this case, darker colors in the box are like taller points on the hill"
   ]
  },
  {
   "cell_type": "code",
   "execution_count": null,
   "metadata": {},
   "outputs": [],
   "source": []
  }
 ],
 "metadata": {
  "kernelspec": {
   "display_name": "Python 3",
   "language": "python",
   "name": "python3"
  },
  "language_info": {
   "codemirror_mode": {
    "name": "ipython",
    "version": 3
   },
   "file_extension": ".py",
   "mimetype": "text/x-python",
   "name": "python",
   "nbconvert_exporter": "python",
   "pygments_lexer": "ipython3",
   "version": "3.6.5"
  }
 },
 "nbformat": 4,
 "nbformat_minor": 2
}
