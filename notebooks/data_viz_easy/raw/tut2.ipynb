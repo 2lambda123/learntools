{
 "cells": [
  {
   "cell_type": "markdown",
   "metadata": {},
   "source": [
    "Now that you know how to create your own **line charts**, it's time to learn about more chart types!  In this lesson, you'll learn about **bar charts** and **heatmaps**.\n",
    "\n",
    "# Set up the notebook\n",
    "\n",
    "As always, we begin by setting up the coding environment.  (_This code is hidden, but you can un-hide and re-hide it by clicking on the \"Code\" button immediately below this text, on the right._)"
   ]
  },
  {
   "cell_type": "code",
   "execution_count": null,
   "metadata": {},
   "outputs": [],
   "source": [
    "import pandas as pd\n",
    "import matplotlib.pyplot as plt\n",
    "%matplotlib inline\n",
    "import seaborn as sns\n",
    "print(\"Setup Complete\")"
   ]
  },
  {
   "cell_type": "markdown",
   "metadata": {},
   "source": [
    "# Select a dataset\n",
    "\n",
    "We'll work with a dataset from the US Department of Transportation that tracks 2015 flight delays and cancellations.\n",
    "\n",
    "Opening the corresponding CSV file in Excel shows that each flight has a different ID number (corresponding to **column A** in the spreadsheet), and the various columns track detailed information about each flight.\n",
    "\n",
    "<img src=\"images/tut2_flight_head.png\">\n",
    "\n",
    "In this lesson, we'll work with only three of the columns, including:\n",
    "- `'Month'` - the month of the departure date\n",
    "- `'Airline'` - the airline code (_`AS` stands for Alaska Airlines, `AA` stands for American Airlines, etc_)\n",
    "- `'Arrival delay'` - how many minutes late the flight arrived (_where negative values denote a flight that arrived early_)\n",
    "\n",
    "# Load the data\n",
    "\n",
    "As before, we load the dataset using the `pd.read_csv` command."
   ]
  },
  {
   "cell_type": "code",
   "execution_count": null,
   "metadata": {},
   "outputs": [],
   "source": [
    "# Path of the file to read\n",
    "flight_filepath = \"../input/flights.csv\"\n",
    "\n",
    "# Read the file into a variable flight_data\n",
    "flight_data = pd.read_csv(flight_filepath, index_col=\"Id\")"
   ]
  },
  {
   "cell_type": "markdown",
   "metadata": {},
   "source": [
    "You may notice that the code is slightly shorter than what we used before.  In this case, since the row labels (from the `'Id'` column) don't correspond to dates, we don't add `parse_dates=True` in the parentheses.  But, we keep the first two pieces of text as before, to provide both: \n",
    "- the filepath for the dataset (in this case, `flight_filepath`), and \n",
    "- the name of the column that will be used to index the rows (in this case, `index_col=\"Id\"`). \n",
    "\n",
    "# Examine the data\n",
    "\n",
    "We'll use the familiar `head` command to print the first five rows of the data.  Note that due to the large size of the dataset, not all of the columns are shown - but it's still enough information for us to verify that the dataset was correctly loaded."
   ]
  },
  {
   "cell_type": "code",
   "execution_count": null,
   "metadata": {},
   "outputs": [],
   "source": [
    "# Print the first 5 rows of the data\n",
    "flight_data.head()"
   ]
  },
  {
   "cell_type": "markdown",
   "metadata": {},
   "source": [
    "# Bar chart, Part 1\n",
    "\n",
    "We're ready to create our first **bar chart**.  For instance, say we'd like to see the number of flights corresponding to each airline.\n",
    "\n",
    "As before, this can be accomplished with a single line of code (_where customizing settings like the size and title of the figure involves some additional commands_)."
   ]
  },
  {
   "cell_type": "code",
   "execution_count": null,
   "metadata": {},
   "outputs": [],
   "source": [
    "# Set the width and height of the figure\n",
    "plt.figure(figsize=(10,6))\n",
    "\n",
    "# Add title\n",
    "plt.title(\"Number of Flights, for Each Airline\")\n",
    "\n",
    "# Bar chart showing number of flights for each airline\n",
    "sns.countplot(y=flight_data['Airline'])\n",
    "\n",
    "# Add label for horizontal axis\n",
    "plt.xlabel(\"\")"
   ]
  },
  {
   "cell_type": "markdown",
   "metadata": {},
   "source": [
    "The commands for setting the size and title of the figure are familiar from the previous lesson.  The code that creates the bar chart is new:\n",
    "```python\n",
    "# Bar chart showing number of flights for each airline\n",
    "sns.countplot(y=flight_data['Airline'])\n",
    "```\n",
    "It has two main components:\n",
    "- `sns.countplot` tells the notebook that we want to create a **_special_** kind of bar plot.  (More on that soon!)\n",
    "- `y=flight_data['Airline']` selects the data that will be used to create the bar plot (in this case, the `'Airline'` column of `flight_data`).  \n",
    " - Using `y=` ensures that the categories will appear along the vertical axis (to yield a **horizontal bar chart**).  \n",
    " - If you'd prefer to create a **vertical bar chart**, you need only change `y=` to `x=`.\n",
    "\n",
    "So, why is this a **_special_** bar plot?  To see this, recall that it only uses the `'Airline'` column of `flight_data`.  \n",
    "\n",
    "<img src=\"images/tut2_airline_column.png\">\n",
    "\n",
    "Notice that this column doesn't have any numerical values!  And that's why this bar plot is **_special_** -- because the `sns.countplot` command does all of the work of adding up the number of entries for each airline for us.  \n",
    "\n",
    "And, in the case that our dataset **_did_** explicitly contain a numerical value for the height of each bar, we'd use a different command to create the bar plot.  More on that soon! :)\n",
    "\n",
    "# Load and examine a *slightly* different dataset\n",
    "\n",
    "For the next charts, we'll work with a different CSV file.  This new file is the result of some quick data munging, where we've taken the relatively \"raw\", extremely detailed information in `flight_data` and rearranged it to a table with only the information that we need to build the next visualizations.\n",
    "\n",
    "Opening this new CSV file in Excel shows a row for each month (where `1` = January, `2` = February, etc) and a column for each airline code.\n",
    "\n",
    "<img src=\"images/tut2_flight_delay_head.png\">\n",
    "\n",
    "Each entry shows the average arrival delay (in minutes) for a different airline and month.  Negative entries denote flights that (_on average_) tended to arrive early.  For instance, in 2015, the average American Airlines flight (_airline code: **AA**_) in January arrived roughly 7 minutes late, and the average Alaska Airlines flight (_airline code: **AS**_) in April arrived roughly 3 minutes early.\n",
    "\n",
    "Below, we use the `pd.read_csv` command to load the data and the `head` command to check that it loaded properly."
   ]
  },
  {
   "cell_type": "code",
   "execution_count": null,
   "metadata": {},
   "outputs": [],
   "source": [
    "# Path of the file to read\n",
    "flight_delay_filepath = \"../input/flight_delays.csv\"\n",
    "\n",
    "# Read the file into a variable flight_delay_data\n",
    "flight_delay_data = pd.read_csv(flight_delay_filepath, index_col=\"Month\")\n",
    "\n",
    "# Print the first five rows of the data\n",
    "flight_delay_data.head()"
   ]
  },
  {
   "cell_type": "markdown",
   "metadata": {},
   "source": [
    "# Bar chart, Part 2"
   ]
  },
  {
   "cell_type": "code",
   "execution_count": null,
   "metadata": {},
   "outputs": [],
   "source": [
    "# Set the width and height of the figure\n",
    "plt.figure(figsize=(10,6))\n",
    "\n",
    "# Add title\n",
    "plt.title(\"Average Arrival Delay for Spirit Airlines Flights, by Month\")\n",
    "\n",
    "# Bar chart showing average arrival delay for Spirit Airlines flights by month\n",
    "sns.barplot(x=flight_delay_data.index, y=flight_delay_data.NK)\n",
    "\n",
    "# Add label for vertical axis\n",
    "plt.ylabel(\"Arrival delay (in minutes)\")"
   ]
  },
  {
   "cell_type": "markdown",
   "metadata": {},
   "source": [
    "# Heatmap"
   ]
  },
  {
   "cell_type": "code",
   "execution_count": null,
   "metadata": {},
   "outputs": [],
   "source": [
    "# Set the width and height of the figure\n",
    "plt.figure(figsize=(14,7))\n",
    "\n",
    "# Add title\n",
    "plt.title(\"Average Arrival Delay for Each Airline, by Month\")\n",
    "\n",
    "# Heatmap showing average arrival delay for each airline by month\n",
    "sns.heatmap(data=flight_delay_data, annot=True)\n",
    "\n",
    "# Add label for horizontal axis\n",
    "plt.xlabel(\"Airline\")"
   ]
  }
 ],
 "metadata": {
  "kernelspec": {
   "display_name": "Python 3",
   "language": "python",
   "name": "python3"
  },
  "language_info": {
   "codemirror_mode": {
    "name": "ipython",
    "version": 3
   },
   "file_extension": ".py",
   "mimetype": "text/x-python",
   "name": "python",
   "nbconvert_exporter": "python",
   "pygments_lexer": "ipython3",
   "version": "3.6.5"
  }
 },
 "nbformat": 4,
 "nbformat_minor": 2
}
