{
 "cells": [
  {
   "cell_type": "markdown",
   "metadata": {},
   "source": [
    "Now that you can create your own **line charts**, it's time to learn about more chart types!  \n",
    "\n",
    "> _By the way, if this is your first experience with writing code in Python, you should be **very proud** of all that you have accomplished so far, because it's never easy to learn a completely new skill!  If you stick with the course, you'll notice that everything will only get easier (while the charts you'll build will get more impressive!), since the code is pretty similar for all of the charts._\n",
    "\n",
    "In this tutorial, you'll learn about **bar charts** and **heatmaps**.\n",
    "\n",
    "# Set up the notebook\n",
    "\n",
    "As always, we begin by setting up the coding environment.  (_This code is hidden, but you can un-hide and re-hide it by clicking on the \"Code\" button immediately below this text, on the right._)"
   ]
  },
  {
   "cell_type": "code",
   "execution_count": null,
   "metadata": {},
   "outputs": [],
   "source": [
    "import pandas as pd\n",
    "import matplotlib.pyplot as plt\n",
    "%matplotlib inline\n",
    "import seaborn as sns\n",
    "print(\"Setup Complete\")"
   ]
  },
  {
   "cell_type": "markdown",
   "metadata": {},
   "source": [
    "# Select a dataset\n",
    "\n",
    "In this tutorial, we'll work with a dataset from the US Department of Transportation that tracks flight delays and cancellations.\n",
    "\n",
    "Opening the corresponding CSV file in Excel shows that each flight has a different ID number (corresponding to **column A** in the spreadsheet), and the various columns track detailed information about each flight.\n",
    "\n",
    "<img src=\"images/tut2_flight_head.png\">\n",
    "\n",
    "In this tutorial, we'll work with only three of the columns, including:\n",
    "- `'Month'` - the month of the departure date\n",
    "- `'Airline'` - the airline code (_`AS` stands for Alaska Airlines, `AA` stands for American Airlines, etc_)\n",
    "- `'Arrival delay'` - how many minutes late the flight arrived (_where negative values denote a flight that arrived early_)\n",
    "\n",
    "# Load the data\n",
    "\n",
    "As before, we load the dataset using the `pd.read_csv` command."
   ]
  },
  {
   "cell_type": "code",
   "execution_count": null,
   "metadata": {},
   "outputs": [],
   "source": [
    "# Path of the file to read\n",
    "flight_filepath = \"../input/flights.csv\"\n",
    "\n",
    "# Read the file into a variable flight_data\n",
    "flight_data = pd.read_csv(flight_filepath, index_col=\"Id\")"
   ]
  },
  {
   "cell_type": "markdown",
   "metadata": {},
   "source": [
    "You may notice that the code is slightly shorter than what we used in [the previous tutorial](add-link-here).  In this case, since the row labels (from the `'Id'` column) don't correspond to dates, we don't add `parse_dates=True` in the parentheses.  But, we keep the first two pieces of text as before, to provide both: \n",
    "- the filepath for the dataset (in this case, `flight_filepath`), and \n",
    "- the name of the column that will be used to index the rows (in this case, `index_col=\"Id\"`). \n",
    "\n",
    "You'll also notice that in this case, some output is returned below the code cell - it may initially look like a scary error, but in fact -- it's just a warning that can be ignored.  \n",
    "> _In this case, the warning is telling us that while the dataset has loaded successfully, there are more efficient ways to load the CSV file than we've used here.  We'll ignore the warning and proceed, since the dataset loads pretty quickly nonetheless, and so heeding the warning would involve a lot of additional complexity with minimal payoff_.\n",
    "\n",
    "# Examine the data\n",
    "\n",
    "We'll use `.head()` to print the first five rows of the data.  Note that due to the large size of the dataset, not all of the columns are shown - but it's still enough information for us to verify that the dataset was correctly loaded."
   ]
  },
  {
   "cell_type": "code",
   "execution_count": null,
   "metadata": {},
   "outputs": [],
   "source": [
    "# Print the first 5 rows of the data\n",
    "flight_data.head()"
   ]
  },
  {
   "cell_type": "markdown",
   "metadata": {},
   "source": [
    "# Bar chart, Part 1\n",
    "\n",
    "It's time to create our first **bar chart**!  Say we'd like to see the number of flights from each airline.\n",
    "\n",
    "As before, this can be done with a single line of code (_where customizing settings like the size and title of the figure involves some additional commands_)."
   ]
  },
  {
   "cell_type": "code",
   "execution_count": null,
   "metadata": {},
   "outputs": [],
   "source": [
    "# Set the width and height of the figure\n",
    "plt.figure(figsize=(10,6))\n",
    "\n",
    "# Add title\n",
    "plt.title(\"Number of Flights, for Each Airline\")\n",
    "\n",
    "# Bar chart showing number of flights for each airline\n",
    "sns.countplot(y=flight_data['Airline'])\n",
    "\n",
    "# Add label for horizontal axis\n",
    "plt.xlabel(\"\")"
   ]
  },
  {
   "cell_type": "markdown",
   "metadata": {},
   "source": [
    "The commands for setting the size and title of the figure are familiar from the previous tutorial.  The horizontal label is specified as `\"\"`, which effectively removes the horizontal label.  The code that creates the bar chart is new:\n",
    "```python\n",
    "# Bar chart showing number of flights for each airline\n",
    "sns.countplot(y=flight_data['Airline'])\n",
    "```\n",
    "It has two main components:\n",
    "- `sns.countplot` tells the notebook that we want to create a **_special_** kind of bar chart.  (More on that soon!)\n",
    "- `y=flight_data['Airline']` selects the data that will be used to create the bar chart (in this case, the `'Airline'` column of `flight_data`).  \n",
    " - Using `y=` creates a **horizontal bar chart** (where the categories appear along the vertical axis).  \n",
    " - If you'd prefer to create a **vertical bar chart** (where the categories appear along the horizontal axis), you need only change `y=` to `x=`.\n",
    "\n",
    "So, why is this a **_special_** bar chart?  To see this, recall that it only uses the `'Airline'` column of `flight_data`.  \n",
    "\n",
    "<img src=\"images/tut2_airline_column.png\">\n",
    "\n",
    "Notice that this column doesn't have any numerical values!  And that's why this bar chart is **_special_** -- because the `sns.countplot` command does all of the work of **_counting_** the number of entries for each airline for us.  \n",
    "\n",
    "And, in the case that our dataset **_did_** explicitly contain a numerical value for the height of each bar, we'd use a different command to create the bar chart.  This is the next command we'll cover!\n",
    "\n",
    "# Load and examine a *slightly* different dataset\n",
    "\n",
    "For the next charts, we'll work with a different CSV file.  This new file is the result of some quick data munging, where we've taken the relatively \"raw\", extremely detailed information in `flight_data` and rearranged it to a table with only the information that we need to build the next visualizations.\n",
    "\n",
    "Opening this new CSV file in Excel shows a row for each month (where `1` = January, `2` = February, etc) and a column for each airline code.\n",
    "\n",
    "<img src=\"images/tut2_flight_delay_head.png\">\n",
    "\n",
    "Each entry shows the average arrival delay (in minutes) for a different airline and month (all in year 2015).  Negative entries denote flights that (_on average_) tended to arrive early.  For instance, the average American Airlines flight (_airline code: **AA**_) in January arrived roughly 7 minutes late, and the average Alaska Airlines flight (_airline code: **AS**_) in April arrived roughly 3 minutes early.\n",
    "\n",
    "Below, we use `pd.read_csv` to load the data and `.head()` to check that it loaded properly."
   ]
  },
  {
   "cell_type": "code",
   "execution_count": null,
   "metadata": {},
   "outputs": [],
   "source": [
    "# Path of the file to read\n",
    "flight_delay_filepath = \"../input/flight_delays.csv\"\n",
    "\n",
    "# Read the file into a variable flight_delay_data\n",
    "flight_delay_data = pd.read_csv(flight_delay_filepath, index_col=\"Month\")\n",
    "\n",
    "# Print the first five rows of the data\n",
    "flight_delay_data.head()"
   ]
  },
  {
   "cell_type": "markdown",
   "metadata": {},
   "source": [
    "# Bar chart, Part 2\n",
    "\n",
    "In this section, we'll use a different command to create a bar chart.  Say we'd like to plot the average arrival delay for Spirit Airlines (_airline code: **NK**_) flights, by month.  "
   ]
  },
  {
   "cell_type": "code",
   "execution_count": null,
   "metadata": {},
   "outputs": [],
   "source": [
    "# Set the width and height of the figure\n",
    "plt.figure(figsize=(10,6))\n",
    "\n",
    "# Add title\n",
    "plt.title(\"Average Arrival Delay for Spirit Airlines Flights, by Month\")\n",
    "\n",
    "# Bar chart showing average arrival delay for Spirit Airlines flights by month\n",
    "sns.barplot(x=flight_delay_data.index, y=flight_delay_data['NK'])\n",
    "\n",
    "# Add label for vertical axis\n",
    "plt.ylabel(\"Arrival delay (in minutes)\")"
   ]
  },
  {
   "cell_type": "markdown",
   "metadata": {},
   "source": [
    "The relevant code to create the bar chart is as follows:\n",
    "```python\n",
    "# Bar chart showing average arrival delay for Spirit Airlines flights by month\n",
    "sns.barplot(x=flight_delay_data.index, y=flight_delay_data['NK'])\n",
    "```\n",
    "Note that `flight_delay_data` explicitly contains the height of each bar in the bar chart.  For instance, the height of the bar for January (or month `1`) is 11.398054, which can be read directly from the table.  In this case, we use `sns.barplot` to build the bar chart.  We also provide two additional pieces of information to customize the behavior:\n",
    "- `x=flight_delay_data.index` - This determines what to use on the horizontal axis.  In this case, we have selected the column that **_index_**es the rows (in this case, the column containing the months).\n",
    "- `y=flight_delay_data['NK']` - This sets the column in the data that will be used to determine the height of each bar.  In this case, we select the `'NK'` column.\n",
    "\n",
    "> **Important Note**: You must select the indexing column with `flight_delay_data.index`, and it is not possible to use `flight_delay_data['Month']` (_which will return an error_).  This is because when we loaded the dataset, the `\"Month\"` column was used to index the rows.  **We always have to use this special notation to select the indexing column.**\n",
    "\n",
    "# Heatmap\n",
    "\n",
    "We have one more plot type to learn about: **heatmaps**! \n",
    "\n",
    "In the code cell below, we create a heatmap to quickly visualize patterns in `flight_delay_data`.  Each cell is color-coded according to its corresponding value."
   ]
  },
  {
   "cell_type": "code",
   "execution_count": null,
   "metadata": {},
   "outputs": [],
   "source": [
    "# Set the width and height of the figure\n",
    "plt.figure(figsize=(14,7))\n",
    "\n",
    "# Add title\n",
    "plt.title(\"Average Arrival Delay for Each Airline, by Month\")\n",
    "\n",
    "# Heatmap showing average arrival delay for each airline by month\n",
    "sns.heatmap(data=flight_delay_data, annot=True)\n",
    "\n",
    "# Add label for horizontal axis\n",
    "plt.xlabel(\"Airline\")"
   ]
  },
  {
   "cell_type": "markdown",
   "metadata": {},
   "source": [
    "The relevant code to create the heatmap is as follows:\n",
    "```python\n",
    "# Heatmap showing average arrival delay for each airline by month\n",
    "sns.heatmap(data=flight_delay_data, annot=True)\n",
    "```\n",
    "This code uses the `sns.heatmap` command to build the heatmap, along with a few additional pieces of information:\n",
    "- `data=flight_delay_data` - This tells the notebook to use all of the entries in the data to create the heatmap.\n",
    "- `annot=True` - This ensures that the values for each cell appear on the chart.  (_Leaving this out removes the numbers from each of the cells!_)\n",
    "\n",
    "# What's next?\n",
    "\n",
    "write later."
   ]
  }
 ],
 "metadata": {
  "kernelspec": {
   "display_name": "Python 3",
   "language": "python",
   "name": "python3"
  },
  "language_info": {
   "codemirror_mode": {
    "name": "ipython",
    "version": 3
   },
   "file_extension": ".py",
   "mimetype": "text/x-python",
   "name": "python",
   "nbconvert_exporter": "python",
   "pygments_lexer": "ipython3",
   "version": "3.6.5"
  }
 },
 "nbformat": 4,
 "nbformat_minor": 2
}
