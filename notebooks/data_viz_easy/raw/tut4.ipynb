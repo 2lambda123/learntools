{
 "cells": [
  {
   "cell_type": "markdown",
   "metadata": {},
   "source": [
    "So far, you have worked with datasets that we have provided for you.  In this tutorial, you'll learn how to leverage you new skills to analyze your own datasets."
   ]
  },
  {
   "cell_type": "markdown",
   "metadata": {},
   "source": [
    "# Use your own dataset\n",
    "\n",
    "how to upload your own dataset to kaggle\n",
    "\n",
    "need to talk about CSV files here too"
   ]
  },
  {
   "cell_type": "markdown",
   "metadata": {},
   "source": [
    "# Pick a Kaggle dataset\n",
    "\n",
    "In case you don't have your own dataset ... will also learn how to search for datasets on the Kaggle Datasets platform.  You can access Datasets by visiting the link below:\n",
    "> https://www.kaggle.com/datasets\n",
    "\n",
    "The link will bring you to a webpage with a long list of datasets that you can use in your own projects.  \n",
    "\n",
    "<img src=\"images/tut4_main_datasets.png\">\n",
    "\n",
    "Note that the list of datasets that you see will likely look different from what's shown on the screenshot above, since many new datasets are uploaded every day!  \n",
    "\n",
    "There are many different file types on Datasets, including CSV files, but also more exotic file types such as JSON, SQLite, and BigQuery.  To restrict the list of datasets to CSV files only, we need only select from the drop-down menu towards the top of the screen: **\\[File types\\] > [CSV]**.\n",
    "<img src=\"images/csv_only.png\">\n",
    "\n",
    "Take the time now to scroll up and down the window to see the list of different datasets!\n",
    "\n",
    "To search for a specific dataset, we can use the search bar at the top of the screen.  Say, for instance, we'd like to work with a dataset of comic book characters.  Begin by typing **\"comic\"** in the search window. \n",
    "\n",
    "<img src=\"images/tut4_search_comic.png\">\n",
    "\n",
    "Find the **\"FiveThirtyEight Comic Characters dataset\"**, and click on it to select it."
   ]
  },
  {
   "cell_type": "markdown",
   "metadata": {},
   "source": [
    "# What's next?\n",
    "\n",
    "Upload any dataset that you'd like to use now.  in the next exercise, will learn how to use a dataset that you've chosen in a notebook ..."
   ]
  }
 ],
 "metadata": {
  "kernelspec": {
   "display_name": "Python 3",
   "language": "python",
   "name": "python3"
  },
  "language_info": {
   "codemirror_mode": {
    "name": "ipython",
    "version": 3
   },
   "file_extension": ".py",
   "mimetype": "text/x-python",
   "name": "python",
   "nbconvert_exporter": "python",
   "pygments_lexer": "ipython3",
   "version": "3.6.5"
  }
 },
 "nbformat": 4,
 "nbformat_minor": 2
}
