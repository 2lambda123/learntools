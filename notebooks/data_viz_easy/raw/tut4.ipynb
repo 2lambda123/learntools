{
 "cells": [
  {
   "cell_type": "markdown",
   "metadata": {},
   "source": [
    "Now it's time for you to demonstrate your new skills with a project of your own!\n",
    "\n"
   ]
  },
  {
   "cell_type": "markdown",
   "metadata": {},
   "source": [
    "So far in this course, you've worked with datasets that are hosted on Kaggle's datasets platform.  The platform contains tens of thousands of datasets on a variety of topics, from [stock data](https://www.kaggle.com/dgawlik/nyse/home) to [parking citations](https://www.kaggle.com/cityofLA/los-angeles-parking-citations/home).\n",
    "\n",
    "- As a first step, you will select a dataset that interests you.  This might be a dataset from a company that you work for, or you can work with any of the thousands of available datasets that are currently hosted on Kaggle's website.\n",
    "- \n",
    "\n",
    "For this project, we strongly recommend that you \n",
    "\n",
    "You can access Kaggle's public datasets platform by visiting the following link:\n",
    "\n",
    "> [https://www.kaggle.com/datasets](https://www.kaggle.com/datasets)\n",
    "\n",
    "There are a lot of different features that you can learn more about in the documentation.\n",
    "\n",
    "side notes, at the end ...\n",
    "- learn how to find datasets on a specific topic [here](https://youtu.be/r-KlpAunhgg) from Rachael Tatman, Data Scientist at Kaggle.\n",
    "\n",
    "in this lesson, you'll learn how to "
   ]
  },
  {
   "cell_type": "code",
   "execution_count": null,
   "metadata": {},
   "outputs": [],
   "source": []
  }
 ],
 "metadata": {
  "kernelspec": {
   "display_name": "Python 3",
   "language": "python",
   "name": "python3"
  },
  "language_info": {
   "codemirror_mode": {
    "name": "ipython",
    "version": 3
   },
   "file_extension": ".py",
   "mimetype": "text/x-python",
   "name": "python",
   "nbconvert_exporter": "python",
   "pygments_lexer": "ipython3",
   "version": "3.6.5"
  }
 },
 "nbformat": 4,
 "nbformat_minor": 2
}
