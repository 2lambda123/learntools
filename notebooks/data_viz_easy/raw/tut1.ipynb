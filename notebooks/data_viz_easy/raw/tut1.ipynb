{
 "cells": [
  {
   "cell_type": "markdown",
   "metadata": {},
   "source": [
    "Welcome to [Kaggle Learn](https://www.kaggle.com/learn/overview)'s **Data Visualization Made Easy** course!  \n",
    "\n",
    "This course will cover xyz.  \n",
    "\n",
    "The lessons are aimed at abc.  make clear that don't need to know ANY Python.\n",
    "\n",
    "If you have a strong background in Python, you're encouraged to check out the other datavis course.\n",
    "\n",
    "By the end of this first lesson, you'll be able to xyz.  Then, you'll put your new skills to work on a dataset ...\n",
    "\n",
    "# Set up python\n",
    "\n",
    "what's seaborn?  what are we setting up?\n",
    "\n",
    "you'll see this at the top of every notebook.  lets you use all the commands you'll learn about.  always add it."
   ]
  },
  {
   "cell_type": "code",
   "execution_count": null,
   "metadata": {},
   "outputs": [],
   "source": [
    "import pandas as pd\n",
    "import matplotlib.pyplot as plt\n",
    "%matplotlib inline\n",
    "import seaborn as sns\n",
    "print(\"Setup Complete\")"
   ]
  },
  {
   "cell_type": "markdown",
   "metadata": {},
   "source": [
    "# Get the data\n",
    "\n",
    "dataset derived from [spotify dataset](https://www.kaggle.com/edumucelli/spotifys-worldwide-daily-song-ranking/home).\n",
    "\n",
    "it's a CSV file.  opening it in excel shows it looks like this ...\n",
    "\n",
    "terminology: \"DataFrame\" // maybe indent to call attention"
   ]
  },
  {
   "cell_type": "code",
   "execution_count": null,
   "metadata": {},
   "outputs": [],
   "source": [
    "# Path of the file to read\n",
    "spotify_filepath = \"../input/spotify.csv\"\n",
    "\n",
    "# Read the file into a variable spotify_data\n",
    "spotify_data = pd.read_csv(spotify_filepath, index_col=\"date\", parse_dates=True)"
   ]
  },
  {
   "cell_type": "markdown",
   "metadata": {},
   "source": [
    "# Examine the data\n",
    "\n",
    "useful to take a quick look at the data to show it loaded properly. print first five rows."
   ]
  },
  {
   "cell_type": "code",
   "execution_count": null,
   "metadata": {},
   "outputs": [],
   "source": [
    "# Print the first 5 rows of the data\n",
    "spotify_data.head()"
   ]
  },
  {
   "cell_type": "markdown",
   "metadata": {},
   "source": [
    "can also print the last five rows of the data."
   ]
  },
  {
   "cell_type": "code",
   "execution_count": null,
   "metadata": {},
   "outputs": [],
   "source": [
    "# Print the last five rows of the data\n",
    "spotify_data.tail()"
   ]
  },
  {
   "cell_type": "markdown",
   "metadata": {},
   "source": [
    "# Plot the data\n",
    "\n",
    "the line to get the plot is relatively straightforward. \n",
    "- we tell python we want to create a line plot.\n",
    "- we point to the dataset that should be used."
   ]
  },
  {
   "cell_type": "code",
   "execution_count": null,
   "metadata": {},
   "outputs": [],
   "source": [
    "# Line plot showing the number of worldwide streams of each song over time\n",
    "sns.lineplot(data=spotify_data)"
   ]
  },
  {
   "cell_type": "markdown",
   "metadata": {},
   "source": [
    "this figure might be too small for our purposes -- easy to resize! just need to put that line of code right before creating the figure.  first number is width.  second number is height ..."
   ]
  },
  {
   "cell_type": "code",
   "execution_count": null,
   "metadata": {},
   "outputs": [],
   "source": [
    "# Set the width and height of the figure\n",
    "plt.figure(figsize=(16,6))\n",
    "\n",
    "# Line plot showing the number of worldwide streams of each song over time\n",
    "sns.lineplot(data=spotify_data)"
   ]
  },
  {
   "cell_type": "markdown",
   "metadata": {},
   "source": [
    "but we don't have to plot a line for every column in the DataFrame!  instead, we can select just one column."
   ]
  },
  {
   "cell_type": "code",
   "execution_count": null,
   "metadata": {},
   "outputs": [],
   "source": [
    "# Line plot showing the number of worldwide streams of \"The Shape of You\" over time\n",
    "sns.lineplot(data=spotify_data.shape_of_you, label='shape_of_you')"
   ]
  },
  {
   "cell_type": "markdown",
   "metadata": {},
   "source": [
    "or we can select two columns ... note that running one line after the other stacks the two plots in the figure."
   ]
  },
  {
   "cell_type": "code",
   "execution_count": null,
   "metadata": {},
   "outputs": [],
   "source": [
    "# Line plot showing the number of worldwide streams of \"The Shape of You\" over time\n",
    "sns.lineplot(data=spotify_data.shape_of_you, label='shape_of_you')\n",
    "\n",
    "# Line plot showing the number of worldwide streams of \"Despacito\" over time\n",
    "sns.lineplot(data=spotify_data.despacito, label='despacito')"
   ]
  },
  {
   "cell_type": "markdown",
   "metadata": {},
   "source": [
    "# What's next?\n",
    "\n",
    "amazing that you can make your own plots so quickly in so few lines of code!  try our your new skills w/ some data from the LA data portal."
   ]
  }
 ],
 "metadata": {
  "kernelspec": {
   "display_name": "Python 3",
   "language": "python",
   "name": "python3"
  },
  "language_info": {
   "codemirror_mode": {
    "name": "ipython",
    "version": 3
   },
   "file_extension": ".py",
   "mimetype": "text/x-python",
   "name": "python",
   "nbconvert_exporter": "python",
   "pygments_lexer": "ipython3",
   "version": "3.6.5"
  }
 },
 "nbformat": 4,
 "nbformat_minor": 2
}
