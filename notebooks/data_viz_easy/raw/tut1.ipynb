{
 "cells": [
  {
   "cell_type": "markdown",
   "metadata": {},
   "source": [
    "Welcome to [Kaggle Learn](https://www.kaggle.com/learn/overview)'s Data Visualization Made Easy course!  \n",
    "\n",
    "WIP ... In this short hands-on course, you'll learn how to create better plots, faster.  by the end of the course, know how to upload your own data and do visualizations ...\n",
    "\n",
    "**The lessons are aimed at those with no prior programming experience.**  So, if you've never written a line of code, and you want to learn the bare minimum to start making better plots today, you're in the right place! :)\n",
    "\n",
    "By the end of this first lesson, you'll have learned just enough Python to create your own professional looking **line charts**.  Then, in the following exercise, you'll put your new skills to work on a real-world dataset.\n",
    "\n",
    "_Note: If you have a strong background in Python (and Pandas), you might prefer to take our more advanced [Data Visualization course](https://www.kaggle.com/learn/data-visualisation)._\n",
    "\n",
    "# Set up the notebook\n",
    "\n",
    "Take the time now to scroll quickly up and down this page.  You'll notice that there are a lot of different types of information on the page, including:\n",
    "1. segments of code, \n",
    "2. figures containing line charts, and \n",
    "3. text (_like the text you're reading right now!_).\n",
    "\n",
    "These pages are especially useful for organizing code, figures, and plots in a single place.  We refer to these pages as **Jupyter notebooks** (or, often just **notebooks**).  You're currently looking at a static version of a notebook that we have already created for you, and you will learn how to work with editable notebooks soon.\n",
    "\n",
    "There are a few lines of code that you'll need to run at the top of every notebook to set up your coding environment.  **It's not important to understand these lines of code now**, and so we won't go into the details just yet.  We had to include them here, and if you'd like to take a look, you can do so by clicking on the \"Code\" button below this text.  (_To hide the code **after** making it visible, you need only click on the \"Code\" button once more._)"
   ]
  },
  {
   "cell_type": "code",
   "execution_count": null,
   "metadata": {},
   "outputs": [],
   "source": [
    "import pandas as pd\n",
    "import matplotlib.pyplot as plt\n",
    "%matplotlib inline\n",
    "import seaborn as sns\n",
    "print(\"Setup Complete\")"
   ]
  },
  {
   "cell_type": "markdown",
   "metadata": {},
   "source": [
    "# Select a dataset\n",
    "\n",
    "In this course, with every new topic, you'll work with a different real-world dataset.  The dataset for this lesson tracks global daily streams on the music streaming service [Spotify](https://en.wikipedia.org/wiki/Spotify).  We focus on the five most popular songs in 2017 and 2018:\n",
    "1. \"Shape of You\", by Ed Sheeran [(link)](https://en.wikipedia.org/wiki/Shape_of_You)\n",
    "2. \"Despacito\", by Luis Fonzi [(link)](https://en.wikipedia.org/wiki/Despacito)\n",
    "3. \"Something Just Like This\", by The Chainsmokers and Coldplay [(link)](https://en.wikipedia.org/wiki/Something_Just_like_This)\n",
    "4. \"HUMBLE.\", by Kendrick Lamar [(link)](https://en.wikipedia.org/wiki/Humble_(song))\n",
    "5. \"Unforgettable\", by French Montana [(link)](https://en.wikipedia.org/wiki/Unforgettable_(French_Montana_song))\n",
    "\n",
    "The dataset is stored as a CSV file (*short for [comma-separated values](https://en.wikipedia.org/wiki/Comma-separated_values) file*).  Opening the CSV file in Excel shows a row for each date, along with a column for each song.  \n",
    "\n",
    "<img src=\"images/tut1_spotify_head.png\">\n",
    "\n",
    "Notice that the first date that appears is January 6, 2017, corresponding to the release date of \"The Shape of You\", by Ed Sheeran.  And, using the table, you can see that \"The Shape of You\" was streamed 12,287,078 times globally on the day of its release.  Notice that the other songs have missing values in the first row, because they weren't released until later!"
   ]
  },
  {
   "cell_type": "markdown",
   "metadata": {},
   "source": [
    "# Get the data\n",
    "\n",
    "Now, it's time to make sure we can access the dataset from the notebook.  This process is broken into two steps and implemented in the code below:\n",
    "1. Specify the location (or [filepath](https://en.wikipedia.org/wiki/Path_(computing))) where the CSV file can be accessed. \n",
    "2. Use the filepath to load the contents of the CSV file into the notebook."
   ]
  },
  {
   "cell_type": "code",
   "execution_count": null,
   "metadata": {},
   "outputs": [],
   "source": [
    "# Path of the file to read\n",
    "spotify_filepath = \"../input/spotify.csv\"\n",
    "\n",
    "# Read the file into a variable spotify_data\n",
    "spotify_data = pd.read_csv(spotify_filepath, index_col=\"Date\", parse_dates=True)"
   ]
  },
  {
   "cell_type": "markdown",
   "metadata": {},
   "source": [
    "WIP WIP WIP Notice that the code has a few different colors and fonts - \n",
    "\n",
    "difference between code and comment\n",
    "\n",
    "terminology: \"DataFrame\" // maybe indent to call attention"
   ]
  },
  {
   "cell_type": "markdown",
   "metadata": {},
   "source": [
    "# Examine the data\n",
    "\n",
    "It's often useful to take a quick look at the first five rows of the data, to make sure that it loaded properly.  We do this by writing one line of code as follows:\n",
    "- begin with the variable containing the data (in this case, `spotify_data`), and then \n",
    "- follow it with `.head()`.\n",
    "\n",
    "You can see this in the line of code below.  "
   ]
  },
  {
   "cell_type": "code",
   "execution_count": null,
   "metadata": {},
   "outputs": [],
   "source": [
    "# Print the first 5 rows of the data\n",
    "spotify_data.head()"
   ]
  },
  {
   "cell_type": "markdown",
   "metadata": {},
   "source": [
    "Please check now that the first five rows agree with the image of the dataset above.\n",
    "\n",
    "> **Note**: Empty entries will appear as `NaN`, which is short for \"Not a Number\".\n",
    "\n",
    "We can also take a look at the _last_ five rows of the data by making only one small change (where `head` becomes `tail`):"
   ]
  },
  {
   "cell_type": "code",
   "execution_count": null,
   "metadata": {},
   "outputs": [],
   "source": [
    "# Print the last five rows of the data\n",
    "spotify_data.tail()"
   ]
  },
  {
   "cell_type": "markdown",
   "metadata": {},
   "source": [
    "Thankfully, everything looks about right, with millions of daily global streams for each song, and we can proceed to plotting the data!\n",
    "\n",
    "# Plotting all of the data\n",
    "\n",
    "In this course, you'll learn about many different plot types.  In this lesson, we'll focus on **line charts**.\n",
    "\n",
    "the line to get the plot is relatively straightforward. \n",
    "- we tell python we want to create a line plot.\n",
    "- we point to the dataset that should be used."
   ]
  },
  {
   "cell_type": "code",
   "execution_count": null,
   "metadata": {},
   "outputs": [],
   "source": [
    "# Line plot showing daily global streams of each song \n",
    "sns.lineplot(data=spotify_data)"
   ]
  },
  {
   "cell_type": "markdown",
   "metadata": {},
   "source": [
    "When we don't specify a particular height and width, we get a default.  to set, need only add one line of code ... first number is width.  second number is height ..."
   ]
  },
  {
   "cell_type": "code",
   "execution_count": null,
   "metadata": {},
   "outputs": [],
   "source": [
    "# Set the width and height of the figure\n",
    "plt.figure(figsize=(16,6))\n",
    "\n",
    "# Add title\n",
    "plt.title(\"Daily Global Streams of Popular Songs in 2017-2018\")\n",
    "\n",
    "# Line plot showing daily global streams of each song \n",
    "sns.lineplot(data=spotify_data)"
   ]
  },
  {
   "cell_type": "markdown",
   "metadata": {},
   "source": [
    "# Plotting a subset of the data\n",
    "\n",
    "or we can select a subset of the columns ... begin by printing all of the columns in the data."
   ]
  },
  {
   "cell_type": "code",
   "execution_count": null,
   "metadata": {},
   "outputs": [],
   "source": [
    "list(spotify_data.columns)"
   ]
  },
  {
   "cell_type": "markdown",
   "metadata": {},
   "source": [
    "note that running one line after the other stacks the two plots in the figure."
   ]
  },
  {
   "cell_type": "code",
   "execution_count": null,
   "metadata": {},
   "outputs": [],
   "source": [
    "# Set the width and height of the figure\n",
    "plt.figure(figsize=(16,6))\n",
    "\n",
    "# Add title\n",
    "plt.title(\"Daily Global Streams of Popular Songs in 2017-2018\")\n",
    "\n",
    "# Line plot showing daily global streams of 'Shape of You'\n",
    "sns.lineplot(data=spotify_data['Shape of You'], label=\"Shape of You\")\n",
    "\n",
    "# Line plot showing daily global streams of 'Despacito'\n",
    "sns.lineplot(data=spotify_data['Despacito'], label=\"Despacito\")"
   ]
  },
  {
   "cell_type": "markdown",
   "metadata": {},
   "source": [
    "# What's next?\n",
    "\n",
    "amazing that you can make your own plots so quickly in so few lines of code!  try our your new skills w/ some data from the LA data portal."
   ]
  }
 ],
 "metadata": {
  "kernelspec": {
   "display_name": "Python 3",
   "language": "python",
   "name": "python3"
  },
  "language_info": {
   "codemirror_mode": {
    "name": "ipython",
    "version": 3
   },
   "file_extension": ".py",
   "mimetype": "text/x-python",
   "name": "python",
   "nbconvert_exporter": "python",
   "pygments_lexer": "ipython3",
   "version": "3.6.5"
  }
 },
 "nbformat": 4,
 "nbformat_minor": 2
}
