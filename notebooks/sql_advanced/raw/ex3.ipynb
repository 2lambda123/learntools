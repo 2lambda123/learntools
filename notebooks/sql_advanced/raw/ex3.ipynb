{
 "cells": [
  {
   "cell_type": "markdown",
   "metadata": {},
   "source": [
    "# Introduction\n",
    "\n",
    "Now that you know how to query nested and repeated data, you're ready to draw interesting insights from the [GitHub Repos](https://www.kaggle.com/github/github-repos) dataset.  \n",
    "\n",
    "Before you get started, run the following cell to set everything up."
   ]
  },
  {
   "cell_type": "code",
   "execution_count": 1,
   "metadata": {},
   "outputs": [
    {
     "name": "stdout",
     "output_type": "stream",
     "text": [
      "Setup Complete\n"
     ]
    }
   ],
   "source": [
    "# Set up feedback system\n",
    "from learntools.core import binder\n",
    "binder.bind(globals())\n",
    "#from learntools.advanced_sql.ex3 import *\n",
    "print(\"Setup Complete\")"
   ]
  },
  {
   "cell_type": "markdown",
   "metadata": {},
   "source": [
    "# Exercises\n",
    "\n",
    "### 1) Who had the most commits in 2016?\n",
    "\n",
    "GitHub is the most popular place to collaborate on software projects. A GitHub **repository** (or repo) is a collection of files associated with a specific project, and a GitHub **commit** is a change that a user has made to a repository.  We refer to the user as a **committer**.\n",
    "\n",
    "The `sample_commits` table contains a small sample of GitHub commits, where each row corresponds to different commit.  The code cell below fetches the table and shows the first five rows of this table."
   ]
  },
  {
   "cell_type": "code",
   "execution_count": 2,
   "metadata": {
    "_cell_guid": "b1076dfc-b9ad-4769-8c92-a6c4dae69d19",
    "_uuid": "8f2839f25d086af736a60e9eeb907d3b93b6e0e5"
   },
   "outputs": [
    {
     "name": "stdout",
     "output_type": "stream",
     "text": [
      "Using Kaggle's public dataset BigQuery integration.\n"
     ]
    },
    {
     "data": {
      "text/html": [
       "<div>\n",
       "<style scoped>\n",
       "    .dataframe tbody tr th:only-of-type {\n",
       "        vertical-align: middle;\n",
       "    }\n",
       "\n",
       "    .dataframe tbody tr th {\n",
       "        vertical-align: top;\n",
       "    }\n",
       "\n",
       "    .dataframe thead th {\n",
       "        text-align: right;\n",
       "    }\n",
       "</style>\n",
       "<table border=\"1\" class=\"dataframe\">\n",
       "  <thead>\n",
       "    <tr style=\"text-align: right;\">\n",
       "      <th></th>\n",
       "      <th>commit</th>\n",
       "      <th>tree</th>\n",
       "      <th>parent</th>\n",
       "      <th>author</th>\n",
       "      <th>committer</th>\n",
       "      <th>subject</th>\n",
       "      <th>message</th>\n",
       "      <th>trailer</th>\n",
       "      <th>difference</th>\n",
       "      <th>difference_truncated</th>\n",
       "      <th>repo_name</th>\n",
       "      <th>encoding</th>\n",
       "    </tr>\n",
       "  </thead>\n",
       "  <tbody>\n",
       "    <tr>\n",
       "      <th>0</th>\n",
       "      <td>3eca86e75ec7a7d4b9a9c8091b11676f7bd2a39f</td>\n",
       "      <td>8e1b4380409a85a922ee0d3f622b5dd4d16bcfad</td>\n",
       "      <td>[104a0c02e8b1936c049e18a6d4e4ab040fb61213]</td>\n",
       "      <td>{'name': 'Mark Rutland', 'email': '1db9dd262be...</td>\n",
       "      <td>{'name': 'Catalin Marinas', 'email': '15ce75b2...</td>\n",
       "      <td>arm64: Remove fixmap include fragility</td>\n",
       "      <td>arm64: Remove fixmap include fragility\\n\\nThe ...</td>\n",
       "      <td>[{'key': 'Signed-off-by', 'value': 'Mark Rutla...</td>\n",
       "      <td>[{'old_mode': 33188, 'new_mode': 33188, 'old_p...</td>\n",
       "      <td>None</td>\n",
       "      <td>torvalds/linux</td>\n",
       "      <td>None</td>\n",
       "    </tr>\n",
       "    <tr>\n",
       "      <th>1</th>\n",
       "      <td>7158627686f02319c50c8d9d78f75d4c8d126ff2</td>\n",
       "      <td>3b4d781bd966f07cad1b67b137f0ff8b89430e9a</td>\n",
       "      <td>[66aa8d6a145b6a66566b4fce219cc56c3d0e01c3]</td>\n",
       "      <td>{'name': 'Will Deacon', 'email': 'b913f13ef92a...</td>\n",
       "      <td>{'name': 'Catalin Marinas', 'email': '15ce75b2...</td>\n",
       "      <td>arm64: percpu: implement optimised pcpu access...</td>\n",
       "      <td>arm64: percpu: implement optimised pcpu access...</td>\n",
       "      <td>[{'key': 'Signed-off-by', 'value': 'Will Deaco...</td>\n",
       "      <td>[{'old_mode': 33188, 'new_mode': 33188, 'old_p...</td>\n",
       "      <td>None</td>\n",
       "      <td>torvalds/linux</td>\n",
       "      <td>None</td>\n",
       "    </tr>\n",
       "    <tr>\n",
       "      <th>2</th>\n",
       "      <td>9732cafd9dc0206479be919baf0067239f0a63ca</td>\n",
       "      <td>c8878035ac9cb6dce592957f12dc1723a583989d</td>\n",
       "      <td>[f3c003f72dfb2497056bcbb864885837a1968ed5]</td>\n",
       "      <td>{'name': 'Jiang Liu', 'email': 'c745fa7b96fe79...</td>\n",
       "      <td>{'name': 'Catalin Marinas', 'email': '15ce75b2...</td>\n",
       "      <td>arm64, jump label: optimize jump label impleme...</td>\n",
       "      <td>arm64, jump label: optimize jump label impleme...</td>\n",
       "      <td>[{'key': 'Reviewed-by', 'value': 'Will Deacon ...</td>\n",
       "      <td>[{'old_mode': 33188, 'new_mode': 33188, 'old_p...</td>\n",
       "      <td>None</td>\n",
       "      <td>torvalds/linux</td>\n",
       "      <td>None</td>\n",
       "    </tr>\n",
       "    <tr>\n",
       "      <th>3</th>\n",
       "      <td>4702abd3f9728893ad5b0f4389e1902588510459</td>\n",
       "      <td>32926e7c55ef585d9b9c174a0e5f9ed13ed6bf7e</td>\n",
       "      <td>[ddf28352b80c86754a6424e3a61e8bdf9213b3c7]</td>\n",
       "      <td>{'name': 'Nicolas Pitre', 'email': '408789a210...</td>\n",
       "      <td>{'name': 'Arnd Bergmann', 'email': 'f2c659f019...</td>\n",
       "      <td>ARM: mach-nuc93x: delete</td>\n",
       "      <td>ARM: mach-nuc93x: delete\\n\\nThis architecture ...</td>\n",
       "      <td>[{'key': 'Signed-off-by', 'value': 'Nicolas Pi...</td>\n",
       "      <td>[{'old_mode': 33188, 'new_mode': 33188, 'old_p...</td>\n",
       "      <td>None</td>\n",
       "      <td>torvalds/linux</td>\n",
       "      <td>None</td>\n",
       "    </tr>\n",
       "    <tr>\n",
       "      <th>4</th>\n",
       "      <td>57bd4b91a6cfc5bad4c5d829ef85293ea63643ea</td>\n",
       "      <td>2ffc2066eb7638e185663e9d849663403229d4e5</td>\n",
       "      <td>[f74c95c20bad8e183e41283475f68a3e7b247af4]</td>\n",
       "      <td>{'name': 'Ben Dooks', 'email': '1177f64998f284...</td>\n",
       "      <td>{'name': 'Ben Dooks', 'email': '1177f64998f284...</td>\n",
       "      <td>[ARM] S3C24XX: Movev udc headers to arch/arm/p...</td>\n",
       "      <td>[ARM] S3C24XX: Movev udc headers to arch/arm/p...</td>\n",
       "      <td>[{'key': 'Signed-off-by', 'value': 'Ben Dooks ...</td>\n",
       "      <td>[{'old_mode': 33188, 'new_mode': 33188, 'old_p...</td>\n",
       "      <td>None</td>\n",
       "      <td>torvalds/linux</td>\n",
       "      <td>None</td>\n",
       "    </tr>\n",
       "  </tbody>\n",
       "</table>\n",
       "</div>"
      ],
      "text/plain": [
       "                                     commit   ...    encoding\n",
       "0  3eca86e75ec7a7d4b9a9c8091b11676f7bd2a39f   ...        None\n",
       "1  7158627686f02319c50c8d9d78f75d4c8d126ff2   ...        None\n",
       "2  9732cafd9dc0206479be919baf0067239f0a63ca   ...        None\n",
       "3  4702abd3f9728893ad5b0f4389e1902588510459   ...        None\n",
       "4  57bd4b91a6cfc5bad4c5d829ef85293ea63643ea   ...        None\n",
       "\n",
       "[5 rows x 12 columns]"
      ]
     },
     "execution_count": 2,
     "metadata": {},
     "output_type": "execute_result"
    }
   ],
   "source": [
    "from google.cloud import bigquery\n",
    "\n",
    "# Create a \"Client\" object\n",
    "client = bigquery.Client()\n",
    "\n",
    "# Construct a reference to the \"github_repos\" dataset\n",
    "dataset_ref = client.dataset(\"github_repos\", project=\"bigquery-public-data\")\n",
    "\n",
    "# API request - fetch the dataset\n",
    "dataset = client.get_dataset(dataset_ref)\n",
    "\n",
    "# Construct a reference to the \"sample_commits\" table\n",
    "table_ref = dataset_ref.table(\"sample_commits\")\n",
    "\n",
    "# API request - fetch the table\n",
    "sample_commits_table = client.get_table(table_ref)\n",
    "\n",
    "# Preview the first five lines of the table\n",
    "client.list_rows(sample_commits_table, max_results=5).to_dataframe()"
   ]
  },
  {
   "cell_type": "markdown",
   "metadata": {},
   "source": [
    "Run the next code cell to print the table schema. "
   ]
  },
  {
   "cell_type": "code",
   "execution_count": 3,
   "metadata": {},
   "outputs": [
    {
     "data": {
      "text/plain": [
       "[SchemaField('commit', 'STRING', 'NULLABLE', None, ()),\n",
       " SchemaField('tree', 'STRING', 'NULLABLE', None, ()),\n",
       " SchemaField('parent', 'STRING', 'REPEATED', None, ()),\n",
       " SchemaField('author', 'RECORD', 'NULLABLE', None, (SchemaField('name', 'STRING', 'NULLABLE', None, ()), SchemaField('email', 'STRING', 'NULLABLE', None, ()), SchemaField('time_sec', 'INTEGER', 'NULLABLE', None, ()), SchemaField('tz_offset', 'INTEGER', 'NULLABLE', None, ()), SchemaField('date', 'TIMESTAMP', 'NULLABLE', None, ()))),\n",
       " SchemaField('committer', 'RECORD', 'NULLABLE', None, (SchemaField('name', 'STRING', 'NULLABLE', None, ()), SchemaField('email', 'STRING', 'NULLABLE', None, ()), SchemaField('time_sec', 'INTEGER', 'NULLABLE', None, ()), SchemaField('tz_offset', 'INTEGER', 'NULLABLE', None, ()), SchemaField('date', 'TIMESTAMP', 'NULLABLE', None, ()))),\n",
       " SchemaField('subject', 'STRING', 'NULLABLE', None, ()),\n",
       " SchemaField('message', 'STRING', 'NULLABLE', None, ()),\n",
       " SchemaField('trailer', 'RECORD', 'REPEATED', None, (SchemaField('key', 'STRING', 'NULLABLE', None, ()), SchemaField('value', 'STRING', 'NULLABLE', None, ()), SchemaField('email', 'STRING', 'NULLABLE', None, ()))),\n",
       " SchemaField('difference', 'RECORD', 'REPEATED', None, (SchemaField('old_mode', 'INTEGER', 'NULLABLE', None, ()), SchemaField('new_mode', 'INTEGER', 'NULLABLE', None, ()), SchemaField('old_path', 'STRING', 'NULLABLE', None, ()), SchemaField('new_path', 'STRING', 'NULLABLE', None, ()), SchemaField('old_sha1', 'STRING', 'NULLABLE', None, ()), SchemaField('new_sha1', 'STRING', 'NULLABLE', None, ()), SchemaField('old_repo', 'STRING', 'NULLABLE', None, ()), SchemaField('new_repo', 'STRING', 'NULLABLE', None, ()))),\n",
       " SchemaField('difference_truncated', 'BOOLEAN', 'NULLABLE', None, ()),\n",
       " SchemaField('repo_name', 'STRING', 'NULLABLE', None, ()),\n",
       " SchemaField('encoding', 'STRING', 'NULLABLE', None, ())]"
      ]
     },
     "execution_count": 3,
     "metadata": {},
     "output_type": "execute_result"
    }
   ],
   "source": [
    "# Print information on all the columns in the table\n",
    "sample_commits_table.schema"
   ]
  },
  {
   "cell_type": "markdown",
   "metadata": {},
   "source": [
    "Write a query to find the individuals with the most commits in this table in 2016.  Your query should return a table with two columns:\n",
    "- `committer_name` - contains the name of each individual with a commit (from 2016) in the table\n",
    "- `num_commits` - shows the number of commits the individual has in the table (from 2016)\n",
    "\n",
    "Sort the table, so that people with more commits appear first.\n",
    "\n",
    "**NOTE**: You can find the name of each committer and the date of the commit under the \"committer\" column, in the \"name\" and \"date\" child fields, respectively."
   ]
  },
  {
   "cell_type": "code",
   "execution_count": 4,
   "metadata": {},
   "outputs": [
    {
     "ename": "NameError",
     "evalue": "name 'q_1' is not defined",
     "output_type": "error",
     "traceback": [
      "\u001b[0;31m---------------------------------------------------------------------------\u001b[0m",
      "\u001b[0;31mNameError\u001b[0m                                 Traceback (most recent call last)",
      "\u001b[0;32m<ipython-input-4-f315ca578286>\u001b[0m in \u001b[0;36m<module>\u001b[0;34m\u001b[0m\n\u001b[1;32m      4\u001b[0m \u001b[0;34m\u001b[0m\u001b[0m\n\u001b[1;32m      5\u001b[0m \u001b[0;31m# Check your answer\u001b[0m\u001b[0;34m\u001b[0m\u001b[0;34m\u001b[0m\u001b[0m\n\u001b[0;32m----> 6\u001b[0;31m \u001b[0mq_1\u001b[0m\u001b[0;34m.\u001b[0m\u001b[0mcheck\u001b[0m\u001b[0;34m(\u001b[0m\u001b[0;34m)\u001b[0m\u001b[0;34m\u001b[0m\u001b[0m\n\u001b[0m",
      "\u001b[0;31mNameError\u001b[0m: name 'q_1' is not defined"
     ]
    }
   ],
   "source": [
    "# Write a query to find the answer\n",
    "max_commits_query = \"\"\"\n",
    "                    \"\"\"\n",
    "\n",
    "# Check your answer\n",
    "q_1.check()"
   ]
  },
  {
   "cell_type": "code",
   "execution_count": 5,
   "metadata": {},
   "outputs": [],
   "source": [
    "# Lines below will give you a hint or solution code\n",
    "#_COMMENT_IF(PROD)_\n",
    "q_1.hint()\n",
    "#_COMMENT_IF(PROD)_\n",
    "q_1.solution()"
   ]
  },
  {
   "cell_type": "code",
   "execution_count": null,
   "metadata": {},
   "outputs": [],
   "source": [
    "#%%RM_IF(PROD)%%\n",
    "max_commits_query = \"\"\"\n",
    "                    SELECT committer.name AS committer_name, COUNT(*) AS num_commits\n",
    "                    FROM `bigquery-public-data.github_repos.sample_commits`\n",
    "                    WHERE committer.date >= '2016-01-01' AND committer.date < '2017-01-01'\n",
    "                    GROUP BY committer_name\n",
    "                    ORDER BY num_commits DESC\n",
    "                    \"\"\"\n",
    "\n",
    "q_1.check()"
   ]
  },
  {
   "cell_type": "markdown",
   "metadata": {},
   "source": [
    "### 2) What's the most popular programming language?\n",
    "\n",
    "For the next part of the exercise, you will work with the `languages` table.  Run the code cell below to print the first few rows of the table."
   ]
  },
  {
   "cell_type": "code",
   "execution_count": 6,
   "metadata": {},
   "outputs": [
    {
     "data": {
      "text/html": [
       "<div>\n",
       "<style scoped>\n",
       "    .dataframe tbody tr th:only-of-type {\n",
       "        vertical-align: middle;\n",
       "    }\n",
       "\n",
       "    .dataframe tbody tr th {\n",
       "        vertical-align: top;\n",
       "    }\n",
       "\n",
       "    .dataframe thead th {\n",
       "        text-align: right;\n",
       "    }\n",
       "</style>\n",
       "<table border=\"1\" class=\"dataframe\">\n",
       "  <thead>\n",
       "    <tr style=\"text-align: right;\">\n",
       "      <th></th>\n",
       "      <th>repo_name</th>\n",
       "      <th>language</th>\n",
       "    </tr>\n",
       "  </thead>\n",
       "  <tbody>\n",
       "    <tr>\n",
       "      <th>0</th>\n",
       "      <td>silviodelgado70/cporting</td>\n",
       "      <td>[{'name': 'C', 'bytes': 34944}]</td>\n",
       "    </tr>\n",
       "    <tr>\n",
       "      <th>1</th>\n",
       "      <td>axper/optimized-strlen</td>\n",
       "      <td>[{'name': 'C', 'bytes': 1236}]</td>\n",
       "    </tr>\n",
       "    <tr>\n",
       "      <th>2</th>\n",
       "      <td>me4502/Powder-Sim</td>\n",
       "      <td>[{'name': 'C', 'bytes': 3237273}]</td>\n",
       "    </tr>\n",
       "    <tr>\n",
       "      <th>3</th>\n",
       "      <td>asommer70/mod_authn_lmdb</td>\n",
       "      <td>[{'name': 'C', 'bytes': 5834}]</td>\n",
       "    </tr>\n",
       "    <tr>\n",
       "      <th>4</th>\n",
       "      <td>joshthecoder/libhttp</td>\n",
       "      <td>[{'name': 'C', 'bytes': 3525}]</td>\n",
       "    </tr>\n",
       "  </tbody>\n",
       "</table>\n",
       "</div>"
      ],
      "text/plain": [
       "                  repo_name                           language\n",
       "0  silviodelgado70/cporting    [{'name': 'C', 'bytes': 34944}]\n",
       "1    axper/optimized-strlen     [{'name': 'C', 'bytes': 1236}]\n",
       "2         me4502/Powder-Sim  [{'name': 'C', 'bytes': 3237273}]\n",
       "3  asommer70/mod_authn_lmdb     [{'name': 'C', 'bytes': 5834}]\n",
       "4      joshthecoder/libhttp     [{'name': 'C', 'bytes': 3525}]"
      ]
     },
     "execution_count": 6,
     "metadata": {},
     "output_type": "execute_result"
    }
   ],
   "source": [
    "# Construct a reference to the \"languages\" table\n",
    "table_ref = dataset_ref.table(\"languages\")\n",
    "\n",
    "# API request - fetch the table\n",
    "languages_table = client.get_table(table_ref)\n",
    "\n",
    "# Preview the first five lines of the table\n",
    "client.list_rows(languages_table, max_results=5).to_dataframe()"
   ]
  },
  {
   "cell_type": "markdown",
   "metadata": {},
   "source": [
    "Each row of the `languages` table corresponds to a different repository.  \n",
    "- The \"repo_name\" column contains the name of the repository,\n",
    "- the \"name\" field in the \"language\" column contains the programming languages that can be found in the repo, and \n",
    "- the \"bytes\" field in the \"language\" column has the size of the files (in bytes, for the corresponding language).\n",
    "\n",
    "Run the following code cell to print the table schema."
   ]
  },
  {
   "cell_type": "code",
   "execution_count": 7,
   "metadata": {},
   "outputs": [
    {
     "data": {
      "text/plain": [
       "[SchemaField('repo_name', 'STRING', 'NULLABLE', None, ()),\n",
       " SchemaField('language', 'RECORD', 'REPEATED', None, (SchemaField('name', 'STRING', 'NULLABLE', None, ()), SchemaField('bytes', 'INTEGER', 'NULLABLE', None, ())))]"
      ]
     },
     "execution_count": 7,
     "metadata": {},
     "output_type": "execute_result"
    }
   ],
   "source": [
    "# Print information on all the columns in the table\n",
    "languages_table.schema"
   ]
  },
  {
   "cell_type": "markdown",
   "metadata": {},
   "source": [
    "Write a query to determine which programming languages appear in the most repositories.  How many GitHub repositories contain this progamming language?"
   ]
  },
  {
   "cell_type": "code",
   "execution_count": 8,
   "metadata": {},
   "outputs": [
    {
     "ename": "NameError",
     "evalue": "name 'q_2' is not defined",
     "output_type": "error",
     "traceback": [
      "\u001b[0;31m---------------------------------------------------------------------------\u001b[0m",
      "\u001b[0;31mNameError\u001b[0m                                 Traceback (most recent call last)",
      "\u001b[0;32m<ipython-input-8-ecd9afd5b487>\u001b[0m in \u001b[0;36m<module>\u001b[0;34m\u001b[0m\n\u001b[1;32m      4\u001b[0m \u001b[0;34m\u001b[0m\u001b[0m\n\u001b[1;32m      5\u001b[0m \u001b[0;31m# Check your answer\u001b[0m\u001b[0;34m\u001b[0m\u001b[0;34m\u001b[0m\u001b[0m\n\u001b[0;32m----> 6\u001b[0;31m \u001b[0mq_2\u001b[0m\u001b[0;34m.\u001b[0m\u001b[0mcheck\u001b[0m\u001b[0;34m(\u001b[0m\u001b[0;34m)\u001b[0m\u001b[0;34m\u001b[0m\u001b[0m\n\u001b[0m",
      "\u001b[0;31mNameError\u001b[0m: name 'q_2' is not defined"
     ]
    }
   ],
   "source": [
    "# Write a query to find the answer\n",
    "pop_lang_query = \"\"\"\n",
    "                 \"\"\"\n",
    "\n",
    "# Check your answer\n",
    "q_2.check()"
   ]
  },
  {
   "cell_type": "code",
   "execution_count": 9,
   "metadata": {},
   "outputs": [],
   "source": [
    "# Lines below will give you a hint or solution code\n",
    "#_COMMENT_IF(PROD)_\n",
    "q_2.hint()\n",
    "#_COMMENT_IF(PROD)_\n",
    "q_2.solution()"
   ]
  },
  {
   "cell_type": "code",
   "execution_count": 10,
   "metadata": {
    "_cell_guid": "79c7e3d0-c299-4dcb-8224-4455121ee9b0",
    "_uuid": "d629ff2d2480ee46fbb7e2d37f6b5fab8052498a"
   },
   "outputs": [
    {
     "ename": "NameError",
     "evalue": "name 'q_2' is not defined",
     "output_type": "error",
     "traceback": [
      "\u001b[0;31m---------------------------------------------------------------------------\u001b[0m",
      "\u001b[0;31mNameError\u001b[0m                                 Traceback (most recent call last)",
      "\u001b[0;32m<ipython-input-10-1246ccf06c69>\u001b[0m in \u001b[0;36m<module>\u001b[0;34m\u001b[0m\n\u001b[1;32m      8\u001b[0m         \"\"\"\n\u001b[1;32m      9\u001b[0m \u001b[0;34m\u001b[0m\u001b[0m\n\u001b[0;32m---> 10\u001b[0;31m \u001b[0mq_2\u001b[0m\u001b[0;34m.\u001b[0m\u001b[0mcheck\u001b[0m\u001b[0;34m(\u001b[0m\u001b[0;34m)\u001b[0m\u001b[0;34m\u001b[0m\u001b[0m\n\u001b[0m",
      "\u001b[0;31mNameError\u001b[0m: name 'q_2' is not defined"
     ]
    }
   ],
   "source": [
    "#%%RM_IF(PROD)%%\n",
    "pop_lang_query = \"\"\"\n",
    "        SELECT l.name, COUNT(*) as num_repos\n",
    "        FROM `bigquery-public-data.github_repos.languages`,\n",
    "            UNNEST(language) AS l\n",
    "        GROUP BY l.name\n",
    "        ORDER BY num_repos DESC\n",
    "        \"\"\"\n",
    "\n",
    "q_2.check()"
   ]
  },
  {
   "cell_type": "markdown",
   "metadata": {},
   "source": [
    "### 3) Which languages are used in the repository with the most languages?\n",
    "\n",
    "For this question, you'll restrict your attention to the repository with name `'polyrabbit/polyglot'`.\n",
    "\n",
    "Write a query that returns a table with one row for each language in this repository.  The table should have two columns:\n",
    "- `name` - the name of the programming language\n",
    "- `bytes` - the total number of bytes of that programming language\n",
    "\n",
    "Sort the table by the `bytes` column so that programming languages that take up more space in the repo appear first."
   ]
  },
  {
   "cell_type": "code",
   "execution_count": 11,
   "metadata": {},
   "outputs": [
    {
     "ename": "NameError",
     "evalue": "name 'q_3' is not defined",
     "output_type": "error",
     "traceback": [
      "\u001b[0;31m---------------------------------------------------------------------------\u001b[0m",
      "\u001b[0;31mNameError\u001b[0m                                 Traceback (most recent call last)",
      "\u001b[0;32m<ipython-input-11-7f40da477b0d>\u001b[0m in \u001b[0;36m<module>\u001b[0;34m\u001b[0m\n\u001b[1;32m      4\u001b[0m \u001b[0;34m\u001b[0m\u001b[0m\n\u001b[1;32m      5\u001b[0m \u001b[0;31m# Check your answer\u001b[0m\u001b[0;34m\u001b[0m\u001b[0;34m\u001b[0m\u001b[0m\n\u001b[0;32m----> 6\u001b[0;31m \u001b[0mq_3\u001b[0m\u001b[0;34m.\u001b[0m\u001b[0mcheck\u001b[0m\u001b[0;34m(\u001b[0m\u001b[0;34m)\u001b[0m\u001b[0;34m\u001b[0m\u001b[0m\n\u001b[0m",
      "\u001b[0;31mNameError\u001b[0m: name 'q_3' is not defined"
     ]
    }
   ],
   "source": [
    "# Your code here\n",
    "all_langs_query = \"\"\"\n",
    "                  \"\"\"\n",
    "\n",
    "# Check your answer\n",
    "q_3.check()"
   ]
  },
  {
   "cell_type": "code",
   "execution_count": 12,
   "metadata": {},
   "outputs": [],
   "source": [
    "# Lines below will give you a hint or solution code\n",
    "#_COMMENT_IF(PROD)_\n",
    "q_3.hint()\n",
    "#_COMMENT_IF(PROD)_\n",
    "q_3.solution()"
   ]
  },
  {
   "cell_type": "code",
   "execution_count": 13,
   "metadata": {},
   "outputs": [
    {
     "ename": "NameError",
     "evalue": "name 'q_3' is not defined",
     "output_type": "error",
     "traceback": [
      "\u001b[0;31m---------------------------------------------------------------------------\u001b[0m",
      "\u001b[0;31mNameError\u001b[0m                                 Traceback (most recent call last)",
      "\u001b[0;32m<ipython-input-13-0ebb443679c0>\u001b[0m in \u001b[0;36m<module>\u001b[0;34m\u001b[0m\n\u001b[1;32m      8\u001b[0m                   \"\"\"\n\u001b[1;32m      9\u001b[0m \u001b[0;34m\u001b[0m\u001b[0m\n\u001b[0;32m---> 10\u001b[0;31m \u001b[0mq_3\u001b[0m\u001b[0;34m.\u001b[0m\u001b[0mcheck\u001b[0m\u001b[0;34m(\u001b[0m\u001b[0;34m)\u001b[0m\u001b[0;34m\u001b[0m\u001b[0m\n\u001b[0m",
      "\u001b[0;31mNameError\u001b[0m: name 'q_3' is not defined"
     ]
    }
   ],
   "source": [
    "#%%RM_IF(PROD)%%\n",
    "all_langs_query = \"\"\"\n",
    "                  SELECT l.name, l.bytes\n",
    "                  FROM `bigquery-public-data.github_repos.languages`,\n",
    "                      UNNEST(language) as l\n",
    "                  WHERE repo_name = 'polyrabbit/polyglot'\n",
    "                  ORDER BY l.bytes DESC\n",
    "                  \"\"\"\n",
    "\n",
    "q_3.check()"
   ]
  },
  {
   "cell_type": "markdown",
   "metadata": {},
   "source": [
    "# Keep going\n",
    "\n",
    "Learn how to **[make your queries more efficient](#$NEXT_NOTEBOOK_URL$)**."
   ]
  }
 ],
 "metadata": {
  "kernelspec": {
   "display_name": "Python 3",
   "language": "python",
   "name": "python3"
  },
  "language_info": {
   "codemirror_mode": {
    "name": "ipython",
    "version": 3
   },
   "file_extension": ".py",
   "mimetype": "text/x-python",
   "name": "python",
   "nbconvert_exporter": "python",
   "pygments_lexer": "ipython3",
   "version": "3.6.6"
  }
 },
 "nbformat": 4,
 "nbformat_minor": 1
}
