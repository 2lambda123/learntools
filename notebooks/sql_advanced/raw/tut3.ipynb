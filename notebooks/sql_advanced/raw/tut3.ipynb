{
 "cells": [
  {
   "cell_type": "markdown",
   "metadata": {},
   "source": [
    "# Introduction\n",
    "\n",
    "So far, you've worked with many types of data, including numeric types (integers, floating point values), strings, and the [DATETIME](https://www.kaggle.com/dansbecker/order-by) type.  In this tutorial, you'll learn how to query nested and repeated data.  These are the most complex data types that you can find in BigQuery datasets! \n",
    "\n",
    "# Nested data \n",
    "\n",
    "Consider a hypothetical dataset containing information about pets and their toys.  We could organize this information in two different tables (a `pets` table and a `toys` table).  The `toys` table could contain a \"Pet_ID\" column that could be used to match each toy to the pet that owns it.\n",
    "\n",
    "Another option in BigQuery is to organize all of the information in a single table, similar to the `pets_and_toys` table below.\n",
    "\n",
    "![nested data](https://i.imgur.com/ZC61pQs.png)\n",
    "\n",
    "In this case, all of the information from the `toys` table is collapsed into a single column (the \"Toy\" column in the `pets_and_toys` table) containing multiple types of information.\n",
    "\n",
    "We can refer to the \"Toy\" column in the `pets_and_toys` table as a **nested** column, and say that the \"Color\" and \"Name\" columns are nested inside of it.  Nested columns have datatype **RECORD** (or datatype **STRUCT**).  \n",
    "\n",
    "If the fields within a RECORD have one value for each row, they are relatively straightforward to query.  (This is the case here, where both the \"Name\" field and the \"Color\" field under the \"Toy\" column have one value for each row.)  An example query is shown below.\n",
    "\n",
    "![nested data](https://i.imgur.com/pxorrTh.png)\n",
    "\n",
    "We need only identify each column in the context of the field that contains it: \n",
    "- `Toy.Name` refers to the \"Name\" field in the \"Toy\" column, and\n",
    "- `Toy.Color` refers to the \"Color\" field in the \"Toy\" column.  \n",
    "\n",
    "Otherwise, our usual rules remain the same - we need not change anything else about our queries.\n",
    "\n",
    "# Repeated data \n",
    "\n",
    "Now consider the (more realistic!) case where each pet can have multiple toys.  In this case, to collapse all of the information into a single table, we need to leverage another datatype.\n",
    "\n",
    "![repeated data](https://i.imgur.com/USsRSBH.png)\n",
    "\n",
    "In the (new!) `pets_and_toys` table above, the \"Toys\" column is both nested and **repeated**.  The data is repeated, because both the \"Toys.Name\" and \"Toys.Color\" fields permit more than one value for each row.  \n",
    "\n",
    "When querying repeated data, the syntax is slightly more complex.\n",
    "\n",
    "![repeated data](https://i.imgur.com/ogLy2cp.png)\n",
    "\n",
    "As you can see above, when writing a query, we need to put the name of the RECORD containing the repeated data inside an **UNNEST()** function.  This essentially flattens the repeated data (which is then appended to the end of the table) so that we have one element on each row.  For an illustration of this, check out the image below.\n",
    "\n",
    "![repeated data](https://i.imgur.com/TXoNRtK.png)\n",
    "\n",
    "If this doesn't make complete sense to you yet, you're not alone!  It will start to feel clearer when we apply these ideas to a real dataset in the section below."
   ]
  },
  {
   "cell_type": "markdown",
   "metadata": {},
   "source": [
    "# Example\n",
    "\n",
    "We'll work with the [Google Analytics Sample](https://www.kaggle.com/bigquery/google-analytics-sample) dataset.  It contains information tracking the behavior of visitors to the Google Merchandise store, an e-commerce website that sells Google branded items.\n",
    "\n",
    "We begin by printing the first few rows of the `ga_sessions_20170801` table.  (_We have hidden the corresponding code.  To take a peek, click on the \"Code\" button below._)  This table tracks visits to the website on August 1, 2017.  "
   ]
  },
  {
   "cell_type": "code",
   "execution_count": null,
   "metadata": {
    "_kg_hide-input": true
   },
   "outputs": [],
   "source": [
    "#$HIDE_INPUT$\n",
    "from google.cloud import bigquery\n",
    "\n",
    "# Create a \"Client\" object\n",
    "client = bigquery.Client()\n",
    "\n",
    "# Construct a reference to the \"google_analytics_sample\" dataset\n",
    "dataset_ref = client.dataset(\"google_analytics_sample\", project=\"bigquery-public-data\")\n",
    "\n",
    "# Construct a reference to the \"ga_sessions_20170801\" table\n",
    "table_ref = dataset_ref.table(\"ga_sessions_20170801\")\n",
    "\n",
    "# API request - fetch the table\n",
    "table = client.get_table(table_ref)\n",
    "\n",
    "# Preview the first five lines of the table\n",
    "client.list_rows(table, max_results=5).to_dataframe()"
   ]
  },
  {
   "cell_type": "markdown",
   "metadata": {},
   "source": [
    "The \"totals\" and \"device\" columns appear to be nested fields (with datatype RECORD). We can verify this by looking at the corresponding entries in the table schema. \n",
    "\n",
    "> Recall that we refer to the structure of a table as its **schema**.  If you need to review how to interpret table schema, feel free to check out [this lesson](https://www.kaggle.com/dansbecker/getting-started-with-sql-and-bigquery) from the Intro to SQL micro-course."
   ]
  },
  {
   "cell_type": "code",
   "execution_count": null,
   "metadata": {
    "_kg_hide-input": true
   },
   "outputs": [],
   "source": [
    "print(\"SCHEMA field for the 'totals' column:\\n\")\n",
    "print(table.schema[5])\n",
    "\n",
    "print(\"\\nSCHEMA field for the 'device' column:\\n\")\n",
    "print(table.schema[7])"
   ]
  },
  {
   "cell_type": "markdown",
   "metadata": {},
   "source": [
    "There are several `SchemaField`s nested inside the field for each column.  For instance, `'device'` contains both `'browser'` and `'browserVersion'`.  \n",
    "> Take a quick look at the table preview above.  Do you see \"browser\" and \"browserVersion\" nested under the \"device\" column?  \n",
    "\n",
    "As you can see in the schema entries, both the \"device\" column and the \"totals\" column have datatype RECORD.\n",
    "\n",
    "![repeated data](https://i.imgur.com/I8OblyK.png)\n",
    "\n",
    "We refer to the \"browser\" field (which is nested in the \"device\" column) and the \"transactions\" field (which is nested inside the \"totals\" column) as `device.browser` and `totals.transactions` in the query below:"
   ]
  },
  {
   "cell_type": "code",
   "execution_count": null,
   "metadata": {},
   "outputs": [],
   "source": [
    "# Query to count the number of transactions per browser\n",
    "query = \"\"\"\n",
    "        SELECT device.browser AS device_browser,\n",
    "            SUM(totals.transactions) as total_transactions\n",
    "        FROM `bigquery-public-data.google_analytics_sample.ga_sessions_20170801`\n",
    "        GROUP BY device_browser\n",
    "        ORDER BY total_transactions DESC\n",
    "        \"\"\"\n",
    "\n",
    "# Run the query, and return a pandas DataFrame\n",
    "result = client.query(query).result().to_dataframe()\n",
    "result.head()"
   ]
  },
  {
   "cell_type": "markdown",
   "metadata": {},
   "source": [
    "Now we'll work with the \"hits\" column as an example of data that is both nested and repeated.  The `SchemaField` for the \"hits\" column is quite long, so we won't print it here.  Instead, we show a small snapshot below (where many fields are not shown):\n",
    "\n",
    "![repeated data](https://i.imgur.com/83f8HpL.png)\n",
    "\n",
    "Since:\n",
    "- \"hits\" is a RECORD (contains nested data) and is repeated,\n",
    "- \"hitNumber\", \"page\", and \"type\" are all nested inside the \"hits\" column, and\n",
    "- \"pagePath\" is nested inside the \"page\" column,\n",
    "\n",
    "we can query these fields with the following syntax:"
   ]
  },
  {
   "cell_type": "code",
   "execution_count": null,
   "metadata": {},
   "outputs": [],
   "source": [
    "# Query to determine most popular landing point on the website\n",
    "query = \"\"\"\n",
    "        SELECT hits.page.pagePath as path,\n",
    "            COUNT(hits.page.pagePath) as counts\n",
    "        FROM `bigquery-public-data.google_analytics_sample.ga_sessions_20170801`, \n",
    "            UNNEST(hits) as hits\n",
    "        WHERE hits.type=\"PAGE\" and hits.hitNumber=1\n",
    "        GROUP BY path\n",
    "        ORDER BY counts DESC\n",
    "        \"\"\"\n",
    "\n",
    "# Run the query, and return a pandas DataFrame\n",
    "result = client.query(query).result().to_dataframe()\n",
    "result.head()"
   ]
  },
  {
   "cell_type": "markdown",
   "metadata": {},
   "source": [
    "In this case, most users land on the website through the `\"/home\"` page.\n",
    "\n",
    "# Your turn \n",
    "\n",
    "..."
   ]
  }
 ],
 "metadata": {
  "kernelspec": {
   "display_name": "Python 3",
   "language": "python",
   "name": "python3"
  },
  "language_info": {
   "codemirror_mode": {
    "name": "ipython",
    "version": 3
   },
   "file_extension": ".py",
   "mimetype": "text/x-python",
   "name": "python",
   "nbconvert_exporter": "python",
   "pygments_lexer": "ipython3",
   "version": "3.6.5"
  }
 },
 "nbformat": 4,
 "nbformat_minor": 1
}
