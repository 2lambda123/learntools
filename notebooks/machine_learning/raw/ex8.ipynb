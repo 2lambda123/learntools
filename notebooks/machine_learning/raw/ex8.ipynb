{
 "cells": [
  {
   "cell_type": "markdown",
   "metadata": {},
   "source": [
    "# Exercise: Classification\n",
    "\n",
    "Here you'll get some experience training a classification model yourself. What you'll do here is create a model that can determine if radio signals come from a pulsar. Pulsars are a rare type of neutron stars that produce radio signals we can detect on Earth. As the pulsars rotate, the beam of radio waves points directly at us, then moves away. This leads to a periodic signal that we can use to determine if the radio signal is actually from a pulsar or just noise.\n",
    "\n",
    "Data from here: https://www.kaggle.com/pavanraj159/predicting-a-pulsar-star"
   ]
  },
  {
   "cell_type": "code",
   "execution_count": null,
   "metadata": {},
   "outputs": [],
   "source": [
    "#%%RM_IF(PROD)%%\n",
    "# For loading learntools during dev\n",
    "import sys\n",
    "sys.path.append('../../..')"
   ]
  },
  {
   "cell_type": "code",
   "execution_count": null,
   "metadata": {},
   "outputs": [],
   "source": [
    "import pandas as pd\n",
    "from sklearn.model_selection import train_test_split\n",
    "import sklearn.metrics as metrics\n",
    "\n",
    "# Set up code checking\n",
    "from learntools.core import binder\n",
    "binder.bind(globals())\n",
    "from learntools.machine_learning.ex8 import *\n",
    "print(\"\\nSetup complete\")"
   ]
  },
  {
   "cell_type": "markdown",
   "metadata": {},
   "source": [
    "Load in the data and check out the first few rows to get acquainted with the features."
   ]
  },
  {
   "cell_type": "code",
   "execution_count": null,
   "metadata": {},
   "outputs": [],
   "source": [
    "pulsar_data = pd.read_csv('/Users/mat/Projects/Kaggle/classification/pulsar_stars.csv')\n",
    "pulsar_data.head()"
   ]
  },
  {
   "cell_type": "markdown",
   "metadata": {},
   "source": [
    "As normal, split the data into training and test sets."
   ]
  },
  {
   "cell_type": "code",
   "execution_count": null,
   "metadata": {},
   "outputs": [],
   "source": [
    "y = pulsar_data['target_class']\n",
    "X = pulsar_data.drop('target_class', axis=1)\n",
    "train_X, val_X, train_y, val_y = train_test_split(X, y, random_state=1, test_size=.2)"
   ]
  },
  {
   "cell_type": "markdown",
   "metadata": {},
   "source": [
    "Now, it's time to create the model and fit it to our training data. Use `RandomForestClassifier` here and fit the model on the training data."
   ]
  },
  {
   "cell_type": "code",
   "execution_count": null,
   "metadata": {},
   "outputs": [],
   "source": [
    "from sklearn.ensemble import RandomForestClassifier\n",
    "\n",
    "# Define the model. Set random_state to 1\n",
    "model = _____\n",
    "\n",
    "# Fit your model\n",
    "_____\n",
    "\n",
    "step_1.check()"
   ]
  },
  {
   "cell_type": "code",
   "execution_count": null,
   "metadata": {},
   "outputs": [],
   "source": [
    "# The lines below will show you a hint or the solution.\n",
    "# step_1.hint() \n",
    "# step_1.solution()"
   ]
  },
  {
   "cell_type": "code",
   "execution_count": null,
   "metadata": {},
   "outputs": [],
   "source": [
    "#%%RM_IF(PROD)%%\n",
    "\n",
    "from sklearn.ensemble import RandomForestClassifier\n",
    "\n",
    "# Define the model. Set random_state to 1\n",
    "model = RandomForestClassifier(random_state=1)\n",
    "\n",
    "# fit your model on the training data\n",
    "model.fit(train_X, train_y)\n",
    "\n",
    "step_1.assert_check_passed()"
   ]
  },
  {
   "cell_type": "markdown",
   "metadata": {},
   "source": [
    "Make predictions using the trained model and the validation features. Calculate the accuracy of the predictions with metrics.accuracy_score, using the validation targets."
   ]
  },
  {
   "cell_type": "code",
   "execution_count": null,
   "metadata": {},
   "outputs": [],
   "source": [
    "# Get predictions from the trained model using the validation features\n",
    "pred_y = _____\n",
    "\n",
    "# Calculate the accuracy of the trained model with the validation targets and predicted targets\n",
    "accuracy = _____\n",
    "\n",
    "print(f\"Accuracy: {accuracy:.3f}\")\n",
    "\n",
    "step_2.check()"
   ]
  },
  {
   "cell_type": "code",
   "execution_count": null,
   "metadata": {},
   "outputs": [],
   "source": [
    "# The lines below will show you a hint or the solution.\n",
    "# step_2.hint() \n",
    "# step_2.solution()"
   ]
  },
  {
   "cell_type": "code",
   "execution_count": null,
   "metadata": {},
   "outputs": [],
   "source": [
    "#%%RM_IF(PROD)%%\n",
    "# Get predictions from the trained model using the validation features\n",
    "pred_y = model.predict(val_X)\n",
    "\n",
    "# Calculate the accuracy of the trained model with the validation targets and predicted targets\n",
    "accuracy = metrics.accuracy_score(val_y, pred_y)\n",
    "\n",
    "print(\"Accuracy, Random Forest Classifier: {:.3f}\".format(accuracy))\n",
    "step_2.assert_check_passed()"
   ]
  },
  {
   "cell_type": "markdown",
   "metadata": {},
   "source": [
    "Finally, calculate the confusion matrix for the classifier. We'll also normalize the confusion matrix to get the true positive rates."
   ]
  },
  {
   "cell_type": "code",
   "execution_count": null,
   "metadata": {},
   "outputs": [],
   "source": [
    "confusion = metrics.confusion_matrix(val_y, pred_y)\n",
    "\n",
    "# Normalizing by the true label counts\n",
    "confusion = confusion.astype('float') / confusion.sum(axis=1)[:, None]\n",
    "print(confusion)"
   ]
  },
  {
   "cell_type": "markdown",
   "metadata": {},
   "source": [
    "What is the true positive rate of the classifier? Do you think the model is doing well at classifying pulsars from radio wave signals?\n",
    "\n",
    "TODO: How to do the \"thinking quiz\"?"
   ]
  }
 ],
 "metadata": {
  "kernelspec": {
   "display_name": "Python 3",
   "language": "python",
   "name": "python3"
  },
  "language_info": {
   "codemirror_mode": {
    "name": "ipython",
    "version": 3
   },
   "file_extension": ".py",
   "mimetype": "text/x-python",
   "name": "python",
   "nbconvert_exporter": "python",
   "pygments_lexer": "ipython3",
   "version": "3.6.8"
  }
 },
 "nbformat": 4,
 "nbformat_minor": 2
}
