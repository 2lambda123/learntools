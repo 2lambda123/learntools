{
 "cells": [
  {
   "cell_type": "markdown",
   "metadata": {},
   "source": [
    "# Step 1: Create a GCP Project\n",
    "\n",
    "The first step is to create a **GCP project**.  A GCP project is [...](https://cloud.google.com/resource-manager/docs/creating-managing-projects)\n",
    "\n",
    "To create a Google project, begin by visiting [this link](https://console.cloud.google.com/projectselector2/home/dashboard?_ga=2.199933678.-119742050.1571893794).\n",
    "\n",
    "If you encounter a sign-in page like the one below, log in with your Google account.  (If you have a Gmail account, use the same e-mail address and password.)  \n",
    "\n",
    "<center>\n",
    "<img src=\"https://i.imgur.com/sgyPhB7.png\" width=\"80%\"><br/>\n",
    "</center>\n",
    "\n",
    "After signing in, you'll encounter a welcome window.  After selecting your country and agreeing to the Terms of Service, click on **AGREE AND CONTINUE** to proceed.\n",
    "\n",
    "<center>\n",
    "<img src=\"https://i.imgur.com/op7509l.png\" width=\"80%\"><br/>\n",
    "</center>\n",
    "\n",
    "Next, click on **CREATE** (in the top right corner) to create a new GCP project.\n",
    "\n",
    "<center>\n",
    "<img src=\"https://i.imgur.com/vrQS8CX.png\" width=\"80%\"><br/>\n",
    "</center>\n",
    "\n",
    "default project name was My Project 56130\n",
    "\n",
    "change to something cooler ... and hit **CREATE**.\n",
    "\n",
    "<center>\n",
    "<img src=\"https://i.imgur.com/4JujsvY.png\" width=\"50%\"><br/>\n",
    "</center>\n",
    "\n",
    "If all went well, you should now see your new project on the page!\n",
    "\n",
    "<center>\n",
    "<img src=\"https://i.imgur.com/xIefj6u.png\" width=\"100%\"><br/>\n",
    "</center>"
   ]
  },
  {
   "cell_type": "markdown",
   "metadata": {},
   "source": [
    "# Step 2: Enable Billing\n",
    "\n",
    "click on billing in left menu. navigates to a window. click on Link a Billing Account. \n",
    "\n",
    "<center>\n",
    "<img src=\"https://i.imgur.com/Wd2k4T2.png\" width=\"100%\"><br/>\n",
    "</center>\n",
    "\n",
    "opens a window. click on create billing account.\n",
    "\n",
    "<center>\n",
    "<img src=\"https://i.imgur.com/zNkHgtC.png\" width=\"100%\"><br/>\n",
    "</center>\n",
    "\n",
    "Follow the steps to select your country and agree to the terms of service.\n",
    "\n",
    "address, credit card. click on \"start my free trial\".\n",
    "\n",
    "you'll get a welcome message that thanks you for signing up.\n",
    "\n",
    "<center>\n",
    "<img src=\"https://i.imgur.com/ELZGHCZ.png\" width=\"100%\"><br/>\n",
    "</center>\n",
    "\n",
    "(note to self: APIs already enabled by default. check with automl team if this is likely to always be the case.)"
   ]
  },
  {
   "cell_type": "markdown",
   "metadata": {},
   "source": [
    "# Step 3: Attach your project to the notebook\n",
    "\n",
    "select \"Google Cloud Services\" from the Add-ons menu.\n",
    "\n",
    "<center>\n",
    "<img src=\"https://i.imgur.com/Lhdirb3.png\" width=\"40%\"><br/>\n",
    "</center>\n",
    "\n",
    "click the box next to all three services.  click on link account\n",
    "<center>\n",
    "<img src=\"https://i.imgur.com/2qf2zlQ.png\" width=\"40%\"><br/>\n",
    "</center>"
   ]
  },
  {
   "cell_type": "code",
   "execution_count": null,
   "metadata": {},
   "outputs": [],
   "source": []
  }
 ],
 "metadata": {
  "kernelspec": {
   "display_name": "Python 3",
   "language": "python",
   "name": "python3"
  },
  "language_info": {
   "codemirror_mode": {
    "name": "ipython",
    "version": 3
   },
   "file_extension": ".py",
   "mimetype": "text/x-python",
   "name": "python",
   "nbconvert_exporter": "python",
   "pygments_lexer": "ipython3",
   "version": "3.6.6"
  }
 },
 "nbformat": 4,
 "nbformat_minor": 2
}
