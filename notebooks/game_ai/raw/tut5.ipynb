{
 "cells": [
  {
   "cell_type": "markdown",
   "metadata": {},
   "source": [
    "# Introduction\n",
    "\n",
    "Halite is an online multiplayer game created by Two Sigma.  In the game, four participants command ships to collect an energy source called **halite**.  The player with the most halite at the end of the game wins.\n",
    "\n",
    "As part the **[Halite competition](https://www.kaggle.com/c/halite/overview)**, you'll write your own intelligent bots to play the game!\n",
    "\n",
    "In this tutorial we'll explore the basics of gameplay.\n",
    "\n",
    "# Getting started\n",
    "\n",
    "In this section, we'll look more closely at the game rules and explore the different icons on the game board.\n",
    "\n",
    "For context, we'll look at a game played by four random players.  You can use the player below to view the game in detail: every move is captured and can be replayed. "
   ]
  },
  {
   "cell_type": "code",
   "execution_count": null,
   "metadata": {},
   "outputs": [],
   "source": [
    "#$HIDE$\n",
    "!pip install 'kaggle-environments==0.3.9'\n",
    "from kaggle_environments import make, evaluate\n",
    "env = make(\"halite\", debug=True)\n",
    "env.run([\"random\", \"random\", \"random\", \"random\"])"
   ]
  },
  {
   "cell_type": "code",
   "execution_count": null,
   "metadata": {},
   "outputs": [],
   "source": [
    "#$HIDE_INPUT$\n",
    "env.render(mode=\"ipython\", width=800, height=600)"
   ]
  },
  {
   "cell_type": "markdown",
   "metadata": {},
   "source": [
    "The game is played in a 15 by 15 gridworld and lasts 400 timesteps.  Each player starts the game with 5,000 halite and one ship.  \n",
    "\n",
    "Grid locations with **halite** are indicated by a light blue icon, where larger icons indicate more available halite. \n",
    "\n",
    "<center>\n",
    "<img src=\"https://i.imgur.com/3NENMos.png\" width=50%><br/>\n",
    "</center>\n",
    "\n",
    "Players use **ships** to navigate the world and collect halite.  A ship can only collect halite from its current position.  When a ship decides to collect halite, it collects 25% of the halite available in its cell.  This collected halite is added to the ship's \"cargo\".  \n",
    "\n",
    "<center>\n",
    "<img src=\"https://i.imgur.com/eKN0kP3.png\" width=50%><br/>\n",
    "</center>\n",
    "\n",
    "Halite in ship cargo is not counted towards final scores.  In order for halite to be counted, ships need to deposit their cargo into a **shipyard** of the same color.  A ship can deposit all of its cargo in a single timestep simply by navigating to a cell containing a shipyard.\n",
    "\n",
    "<center>\n",
    "<img src=\"https://i.imgur.com/LAc6fj8.png\" width=50%><br/>\n",
    "</center>\n",
    "\n",
    "A player can convert a ship into a shipyard, which costs 500 halite.  Likewise, shipyards can spawn (or create) new ships, which deducts 500 halite (per ship) from the player.\n",
    "\n",
    "Two ships cannot successfully inhabit the same cell.  This event results in a **collision**, where:\n",
    "- the ship with more halite in its cargo is destroyed, and \n",
    "- the other ship survives and instantly collects the destroyed ship's cargo.\n",
    "\n",
    "<center>\n",
    "<img src=\"https://i.imgur.com/BuIUPmK.png\" width=50%><br/>\n",
    "</center>\n",
    "\n",
    "If you view the full game rules, you'll notice that there are more types of collisions that can occur in the game (for instance, ships can collide with enemy shipyards, which destroys the ship, the ship's cargo, and the enemy shipyard). \n",
    "\n",
    "In general, Halite is a complex game, and we have not covered all of the details here.  But even given these simplified rules, you can imagine that a successful player will have to use a relatively complicated strategy.  "
   ]
  },
  {
   "cell_type": "markdown",
   "metadata": {},
   "source": [
    "# Game strategy\n",
    "\n",
    "As mentioned above, a ship has two options at its disposal for collecting halite.  It can:\n",
    "- collect (or mine) halite from its current position.\n",
    "- collide with an enemy ship containing relatively more halite in its cargo.  In this case, the ship destroys the enemy ship and steals its cargo.\n",
    "\n",
    "Both are illustrated in the figure below.  The \"cargo\" that is tracked in the player's scoreboard contains the total cargo, summed over all of the player's ships.\n",
    "<center>\n",
    "<img src=\"https://i.imgur.com/2DJX6Vt.png\" width=70%><br/>\n",
    "</center>\n",
    "\n",
    "This raises some questions that you'll have to answer when commanding ships:\n",
    "- Will your ships focus primarily on locating large halite reserves and mining them efficiently, while mostly ignoring and evading the other players?  \n",
    "- Or, will you look for opportunities to steal halite from other players?  \n",
    "- Alternatively, can you use a combination of those two strategies?  If so, what cues will you look for in the game to decide which option makes the most sense?  For instance, if all enemy ships are far away and your ships are located on cells containing a lot of halite, it sense to focus on mining halite.  Conversely, if there are many ships nearby with halite to steal (and not too much local halite to collect), it makes sense to attack the enemy ships.\n",
    "\n",
    "You'll also have to decide how to control your shipyards, and how your ships interact with shipyards.  There are three primary actions in the game involving shipyards.  You can:\n",
    "- convert a ship into a shipyard.  This is the only way to create a shipyard.  \n",
    "- use a shipyard to create a ship.\n",
    "- deposit a ship's cargo into a shipyard. \n",
    "\n",
    "These are illustrated in the image below.\n",
    "\n",
    "<center>\n",
    "<img src=\"https://i.imgur.com/fL5atut.png\" width=70%><br/>\n",
    "</center>\n",
    "\n",
    "With more ships and shipyards, you can collect halite at a faster rate.  But each additional ship and shipyard costs you halite: how will you decide when it might be beneficial to create more?"
   ]
  },
  {
   "cell_type": "markdown",
   "metadata": {},
   "source": [
    "# Your turn\n",
    "\n",
    "**[Submit your first agent]()** to the Halite competition."
   ]
  }
 ],
 "metadata": {
  "kernelspec": {
   "display_name": "Python 3",
   "language": "python",
   "name": "python3"
  },
  "language_info": {
   "codemirror_mode": {
    "name": "ipython",
    "version": 3
   },
   "file_extension": ".py",
   "mimetype": "text/x-python",
   "name": "python",
   "nbconvert_exporter": "python",
   "pygments_lexer": "ipython3",
   "version": "3.6.5"
  }
 },
 "nbformat": 4,
 "nbformat_minor": 2
}
