{
 "cells": [
  {
   "cell_type": "markdown",
   "metadata": {},
   "source": [
    "# Status #\n",
    "\n",
    "- [ ] Outline\n",
    "- [ ] Introduction\n",
    "- [ ] Exercise 1\n",
    "  - [ ] Code\n",
    "  - [ ] Discussion\n",
    "  - [ ] Checking\n",
    "- [ ] Exercise 2\n",
    "  - [ ] Code\n",
    "  - [ ] Discussion\n",
    "  - [ ] Checking\n",
    "- [ ] Exercise 3\n",
    "  - [ ] Code\n",
    "  - [ ] Discussion\n",
    "  - [ ] Checking\n",
    "- [ ] Exercise 4\n",
    "  - [ ] Code\n",
    "  - [ ] Discussion\n",
    "  - [ ] Checking\n",
    "- [ ] Conclusion\n",
    "\n",
    "# Introduction #\n",
    "\n",
    "In the tutorial, we learned about the architecture of a typical convolutional base used for feature extraction. We saw how we can define our own blocks by subclassing the Keras `Layer` class. We can then use these blocks in a model just like we do any other layer.\n",
    "\n",
    "In our implementation of the convolutional block, we only allowed for a single convolutional layer. However, most modern convnets will stack several convolutional layers together before applying the pooling. In these exercises, you'll address this shortcoming by extending our implementation.\n",
    "\n",
    "Get started by running the code cell below."
   ]
  },
  {
   "cell_type": "code",
   "execution_count": null,
   "metadata": {},
   "outputs": [],
   "source": [
    "# Setup feedback system\n",
    "from learntools.core import binder\n",
    "binder.bind(globals())\n",
    "from learntools.computer_vision.ex5 import *\n",
    "\n",
    "from cv_prelude import *"
   ]
  },
  {
   "cell_type": "markdown",
   "metadata": {},
   "source": [
    "# Design a Convnet #\n",
    "\n",
    "### 1) Define Model\n",
    "\n",
    "Here is a diagram of the model we want to implement:\n",
    "\n",
    "<figure>\n",
    "<!-- <img src=\"./images/2-convmodel-2.png\" width=\"250\" alt=\"Diagram of a convolutional model.\"> -->\n",
    "<img src=\"https://i.imgur.com/Rc59Gwj.png\" width=\"250\" alt=\"Diagram of a convolutional model.\">\n",
    "</figure>\n"
   ]
  },
  {
   "cell_type": "markdown",
   "metadata": {},
   "source": [
    "### 2) \n",
    "\n",
    "### 3)\n",
    "\n",
    "### 4) Compare to the Transfer Learning Models\n",
    "\n",
    "Our dataset is fairly large for a simple binary classification problem. For this reason, we were able to build a custom neural network that's competitive with the much larger transfer learning models from Lesson 1.\n",
    "\n",
    "The model from Lesson 1 however was trained on a much larger dataset and contains many more layers. Why do you think your smaller model was able to do just as well with this dataset?\n",
    "\n",
    "After you've considered your answer, run the following cell."
   ]
  },
  {
   "cell_type": "code",
   "execution_count": null,
   "metadata": {},
   "outputs": [],
   "source": [
    "# View the solution (Run this code cell to receive credit!)\n",
    "q_4.solution()"
   ]
  },
  {
   "cell_type": "markdown",
   "metadata": {},
   "source": [
    "# Conclusion #\n"
   ]
  }
 ],
 "metadata": {
  "jupytext": {
   "formats": "md,ipynb"
  },
  "kernelspec": {
   "display_name": "Python 3",
   "language": "python",
   "name": "python3"
  }
 },
 "nbformat": 4,
 "nbformat_minor": 4
}
