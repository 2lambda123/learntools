{
 "cells": [
  {
   "cell_type": "markdown",
   "metadata": {},
   "source": [
    "# Introduction #\n",
    "\n",
    "In the last lesson, we saw that a convolutional classifier has two parts: a **base** and a **head**. We learned that the job of the base is to extract visual features features from an image, which the head would then use to classify the image.\n",
    "\n",
    "In this lesson, we'll learn how this convolutional base is constructed of **blocks** which perform **three basic operations** common to CNN image classifiers: **filter**, **detect**, **condense**.\n",
    "\n",
    "<figure>\n",
    "<!-- <img src=\"./images/2-filter-detect-condense.png\" width=\"400\" alt=\"Extraction as a sequence of blocks.\"> -->\n",
    "<img src=\"https://i.imgur.com/0MrzJod.png\" width=\"400\" alt=\"Extraction as a sequence of blocks.\">\n",
    "</figure>\n"
   ]
  },
  {
   "cell_type": "markdown",
   "metadata": {},
   "source": [
    "# Feature Extraction #\n",
    "\n",
    "The extraction occurs over these three operations as follows:\n",
    "1. **Filter** an image for a particular feature\n",
    "2. **Detect** that feature within the filtered image\n",
    "3. **Condense** to isolate the feature\n",
    "\n",
    "This is what these operations might look like applied to an image:\n",
    "\n",
    "<figure>\n",
    "<!-- <img src=\"./images/2-show-extraction.png\" width=\"1000\" alt=\"An example of the feature extraction process.\"> -->\n",
    "<img src=\"https://i.imgur.com/GDKuk6m.png\" width=\"1000\" alt=\"An example of the feature extraction process.\">\n",
    "</figure>\n",
    "\n",
    "Typically, the network will perform several extractions in parallel on a single image. By the time the data reaches the classifier, a network might be producing over 1000 features!"
   ]
  },
  {
   "cell_type": "markdown",
   "metadata": {},
   "source": [
    "## Block Architecture ##\n",
    "\n",
    "You learned in *Introduction to Deep Learning* how a neural network is composed of a sequence of layers each having its own activation function. It is through its layers and activation functions that a convnet carries out these three basic operations. Typically, a single sequence of these operations will be collected together in a **block**:\n",
    "\n",
    "<figure>\n",
    "<!-- <img src=\"./images/2-block-fdc.png\" width=\"400\" alt=\"The parts of an extraction block: filter, detect, condense.\"> -->\n",
    "<img src=\"https://i.imgur.com/cxh5VHf.png\" width=\"400\" alt=\"The parts of an extraction block: filter, detect, condense.\">\n",
    "</figure>\n",
    "\n",
    "Modern convolutional networks comprise many of these blocks within their base:\n",
    "\n",
    "<figure>\n",
    "<!-- <img src=\"./images/2-block-seq.png\" width=\"1200\" alt=\"A sequence of extraction blocks.\"> -->\n",
    "<img src=\"https://i.imgur.com/pr8VwCZ.png\" width=\"1200\" alt=\"A sequence of extraction blocks.\">\n",
    "</figure>\n",
    "\n",
    "Each block represents a round of feature extraction, and it is by composing these blocks that the features the network learns become increasingly refined. This deep structure is what enables modern convnets to learn very complex visual features."
   ]
  },
  {
   "cell_type": "markdown",
   "metadata": {},
   "source": [
    "## Convolution, ReLU, Pooling ##\n",
    "\n",
    "Though there are many variations, most often a convolutional network will implement these operations as follows:\n",
    "- one or more **convolutional layers** to **filter**,\n",
    "- a **ReLU activation function** to **detect**,\n",
    "- a single **pooling layer** to condense.\n",
    "\n",
    "<figure>\n",
    "<!-- <img src=\"./images/2-block-crp.png\" width=\"400\" alt=\"A kind of extraction block: convolution, ReLU, pooling.\"> -->\n",
    "<img src=\"https://i.imgur.com/8D6IhEw.png\" width=\"400\" alt=\"A kind of extraction block: convolution, ReLU, pooling.\">\n",
    "</figure>\n",
    "\n",
    "We'll learn the details of how these operations work in future lessons, but for now, let's just see how we can assemble them into feature extraction blocks."
   ]
  },
  {
   "cell_type": "markdown",
   "metadata": {},
   "source": [
    "# Example - Build a Custom Convnet #\n",
    "\n",
    "Let's start with a diagram of the kind of block we want to reproduce.\n",
    "\n",
    "<figure>\n",
    "<!-- <img src=\"./images/2-convblock.png\" width=\"250\" alt=\"Diagram of a convolutional block.\"> -->\n",
    "<img src=\"https://i.imgur.com/6M7vsld.png\" width=\"250\" alt=\"Diagram of a convolutional block.\">\n",
    "</figure>\n",
    "\n",
    "Here, we chose to do one convolutional layers followed by a single pooling layer. You could do two, three, or even four convolutional layers, if you wanted. State-of-the-art convnet architectures do even more complicated kinds of processing in their blocks.\n",
    "\n",
    "We will define a block as a new kind of layer. For this, Keras provides the `Layer` class. The pooling layer we'll use is a kind called *max pooling* (which we'll learn about in the next lesson). All of these perform their operations on 2-dimensional data; there are also 1D variants for things like time sequences and 3D variants for things like video."
   ]
  },
  {
   "cell_type": "code",
   "execution_count": null,
   "metadata": {},
   "outputs": [],
   "source": [
    "from tensorflow.keras import Sequential\n",
    "from tensorflow.keras.layers import Layer, Conv2D, MaxPool2D\n",
    "\n",
    "class ConvolutionalBlock(Layer):\n",
    "    \n",
    "    # Instantiate the layers\n",
    "    def __init__(self, kernel_size, filters):\n",
    "        super().__init__()\n",
    "        \n",
    "        # Convolutional Layer\n",
    "        self.conv = Conv2D(kernel_size=kernel_size, \n",
    "                           filters=filters,\n",
    "                           activation='relu',\n",
    "                           padding='same')\n",
    "        # Pooling Layer\n",
    "        self.pool = MaxPool2D(pool_size=2)\n",
    "    \n",
    "    # Build the layers once the shape of the inputs is known\n",
    "    def call(self, inputs):\n",
    "        x = self.conv(inputs)\n",
    "        x = self.pool(x)\n",
    "        return x"
   ]
  },
  {
   "cell_type": "markdown",
   "metadata": {},
   "source": [
    "For now, we don't need to worry about what the arguments mean -- just notice how we've structured the layers to match the diagram: a convolutional layer followed by a pooling layer.\n",
    "\n",
    "Now let's build a small model using our new convolutional block. Once defined using the Keras `Layer` class, you can use your new block of layers just like you would any other layer.\n",
    "\n",
    "Here is a diagram of the model we want to define:\n",
    "\n",
    "<figure>\n",
    "<!-- <img src=\"./images/2-convmodel-1.png\" width=\"200\" alt=\"Diagram of a convolutional model.\"> -->\n",
    "<img src=\"https://i.imgur.com/dMO4nRb.png\" width=\"200\" alt=\"Diagram of a convolutional model.\">\n",
    "</figure>\n",
    "\n",
    "We can now build it as a Keras `Sequential` model. We'll stack a couple of dense layers on top for a classifier just like we did with the model in the previous lesson."
   ]
  },
  {
   "cell_type": "code",
   "execution_count": null,
   "metadata": {},
   "outputs": [],
   "source": [
    "import tensorflow.keras.layers as layers\n",
    "\n",
    "model = Sequential([\n",
    "    ConvolutionalBlock(kernel_size=3, filters=64),\n",
    "    ConvolutionalBlock(kernel_size=3, filters=128),\n",
    "    ConvolutionalBlock(kernel_size=3, filters=256),\n",
    "    layers.Flatten(),\n",
    "    layers.Dense(8, activation='relu'),\n",
    "    layers.Dense(1, activation='sigmoid'),\n",
    "])"
   ]
  },
  {
   "cell_type": "markdown",
   "metadata": {},
   "source": [
    "And now we've built our own custom convnet!"
   ]
  },
  {
   "cell_type": "markdown",
   "metadata": {},
   "source": [
    "# Conclusion #\n",
    "\n",
    "To be efficient, a neural network needs a structure that reflects the problem it is trying to solve. Modern neural networks have been designed to solve complex problems, and their architectures have become complex as a result. Designing a network around modular components like we have in this lesson makes managing this complexity much easier. (It is a kind of object-oriented design for neural networks!)\n",
    "\n",
    "Nonetheless, a deep stack of convolutional blocks like we defined above was state-of-the-art only a few years ago, and a relatively simple model can still be the right choice with smaller datasets, when a larger model might be in danger of overfitting. Having composable blocks makes it easier to design a network to suit your need."
   ]
  }
 ],
 "metadata": {
  "jupytext": {
   "formats": "ipynb,md",
   "split_at_heading": true
  },
  "kernelspec": {
   "display_name": "Python 3",
   "language": "python",
   "name": "python3"
  },
  "language_info": {
   "codemirror_mode": {
    "name": "ipython",
    "version": 3
   },
   "file_extension": ".py",
   "mimetype": "text/x-python",
   "name": "python",
   "nbconvert_exporter": "python",
   "pygments_lexer": "ipython3",
   "version": "3.6.5"
  }
 },
 "nbformat": 4,
 "nbformat_minor": 4
}
