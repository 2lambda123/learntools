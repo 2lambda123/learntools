{
 "cells": [
  {
   "cell_type": "markdown",
   "metadata": {},
   "source": [
    "# Introduction #\n",
    "\n",
    "In the last lesson, we saw that a convolutional classifier has two parts: a **base** and a **head**. We learned that the job of the base is to extract visual features features from an image, which the head would then use to classify the image.\n",
    "\n",
    "In this lesson, we'll learn how this convolutional base is constructed of **blocks** which perform **three basic operations** common to all CNN image classifiers: **filter**, **detect**, **condense**.\n",
    "\n",
    "<!--TODO: sequence and block-->"
   ]
  },
  {
   "cell_type": "markdown",
   "metadata": {},
   "source": [
    "# Feature Extraction #\n",
    "\n",
    "The extraction occurs over these three operations as follows:\n",
    "1. Filter an image for a particular feature\n",
    "2. Detect that feature within the filtered image\n",
    "3. Condense to remove everything except that feature\n",
    "\n",
    "Typically, the network will perform several extractions in parallel on a single image. A single round of feature extraction looks something like this:\n",
    "\n",
    "<!--TODO: feature extraction -->\n",
    "\n",
    "Modern convolutional networks will repeat this extraction process many times before sending the features to the classifier."
   ]
  },
  {
   "cell_type": "markdown",
   "metadata": {},
   "source": [
    "## Block Architecture ##\n",
    "\n",
    "You learned in *Introduction to Deep Learning* how a neural network is composed of a sequence of layers each having its own activation function. It is through its layers and activation functions that a convnet carries out these three basic operations. Typically, a single sequence of these operations will be collected together in a **block**:\n",
    "\n",
    "<img src=\"./images/2-block-fdc.png\" width=\"400\" alt=\"The parts of an extraction block: filter, detect, condense.\">\n",
    "\n",
    "Modern convolutional networks comprise many of these blocks within their base:\n",
    "\n",
    "<img src=\"./images/2-block-seq.png\" width=\"1200\" alt=\"A sequence of extraction blocks.\">\n",
    "\n",
    "Each block represents a round of feature extraction, and it is by composing these blocks that the features the network learns become increasingly refined. This deep structure is what enables modern convnets to learn very complex visual features."
   ]
  },
  {
   "cell_type": "markdown",
   "metadata": {},
   "source": [
    "## Convolution, ReLU, Pooling ##\n",
    "\n",
    "Though there are many variations, most often a convolutional network will implement these operations as follows:\n",
    "- one or more **convolutional layers** to **filter**,\n",
    "- a **ReLU activation function** to **detect**,\n",
    "- a single **pooling layer** to condense.\n",
    "\n",
    "<img src=\"./images/2-block-crp.png\" width=\"400\" alt=\"A kind of extraction block: convolution, ReLU, pooling.\">\n",
    "\n",
    "We'll learn the details of how these operations work in future lessons, but for now, let's just see how we can assemble them into feature extraction blocks."
   ]
  },
  {
   "cell_type": "markdown",
   "metadata": {},
   "source": [
    "# Example - Build a Custom Convnet #\n",
    "\n",
    "Let's start with a diagram of the block we want to reproduce.\n",
    "\n",
    "<!-- TODO: example block -->\n",
    "\n",
    "Here, we chose to do two convolutional layers followed by a single pooling layer. You could do one or even three convolutional layers, if you wanted. State-of-the-art convnet architectures do even more complicated kinds of processing in their blocks.\n",
    "\n",
    "We will define a block as a new kind of layer. For this, Keras provides the `Layer` class. The pooling layer we'll use is a kind called *max pooling* (which we'll learn about in the next lesson). All of these perform their operations on 2D data; there are also 1D variants for things like sequences and 3D variants for things like video."
   ]
  },
  {
   "cell_type": "code",
   "execution_count": 1,
   "metadata": {},
   "outputs": [],
   "source": [
    "from tensorflow.keras import Sequential\n",
    "from tensorflow.keras.layers import Layer, Conv2D, MaxPool2D\n",
    "\n",
    "class ConvolutionalBlock(Layer):\n",
    "    \n",
    "    # Instantiate the layers\n",
    "    def __init__(self, kernel_size, filters):\n",
    "        super().__init__()\n",
    "        \n",
    "        # Convolutional Layer\n",
    "        self.conv = Conv2D(kernel_size=kernel_size, \n",
    "                           filters=filters,\n",
    "                           activation='relu',\n",
    "                           padding='same')\n",
    "        # Pooling Layer\n",
    "        self.pool = MaxPool2D(pool_size=2)\n",
    "    \n",
    "    # Build the layers once the shape of the inputs is known\n",
    "    def call(self, inputs):\n",
    "        x = self.conv(inputs)\n",
    "        x = self.pool(x)\n",
    "        return x"
   ]
  },
  {
   "cell_type": "markdown",
   "metadata": {},
   "source": [
    "For now, we don't need to worry about what the arguments mean -- just notice how we've structured the layers to match the diagram: a convolutional layer followed by a pooling layer.\n",
    "\n",
    "Now let's build a small model using our new convolutional block. Once defined using the Keras `Layer` class, you can use your new block of layers just like you would any other layer.\n",
    "\n",
    "Here is the model we want to define:\n",
    "\n",
    "<!-- TODO: block model -->\n",
    "\n",
    "Which we can now build as a Keras `Sequential` model. We'll stack a couple of dense layers on top for a classifier just like we did with the model in the previous lesson."
   ]
  },
  {
   "cell_type": "code",
   "execution_count": 2,
   "metadata": {},
   "outputs": [],
   "source": [
    "import tensorflow.keras.layers as layers\n",
    "\n",
    "model = Sequential([\n",
    "    ConvolutionalBlock(kernel_size=3, filters=128),\n",
    "    ConvolutionalBlock(kernel_size=3, filters=128),\n",
    "    ConvolutionalBlock(kernel_size=3, filters=128),\n",
    "    layers.Flatten(),\n",
    "    layers.Dense(8, activation='relu'),\n",
    "    layers.Dense(1, activation='sigmoid'),\n",
    "])"
   ]
  },
  {
   "cell_type": "markdown",
   "metadata": {},
   "source": [
    "And now we've built our own custom convnet!\n",
    "\n",
    "To get a summary, we need to build the model first, and to build the model, we need to let Keras know what shape to expect for the input. If you were to train your model at this point, you could let Keras figure the shape out automatically from your training data instead."
   ]
  },
  {
   "cell_type": "code",
   "execution_count": 3,
   "metadata": {},
   "outputs": [
    {
     "name": "stdout",
     "output_type": "stream",
     "text": [
      "Model: \"sequential\"\n",
      "_________________________________________________________________\n",
      "Layer (type)                 Output Shape              Param #   \n",
      "=================================================================\n",
      "convolutional_block (Convolu multiple                  38720     \n",
      "_________________________________________________________________\n",
      "convolutional_block_1 (Convo multiple                  221440    \n",
      "_________________________________________________________________\n",
      "flatten (Flatten)            multiple                  0         \n",
      "_________________________________________________________________\n",
      "dense (Dense)                multiple                  89719296  \n",
      "_________________________________________________________________\n",
      "dense_1 (Dense)              multiple                  513       \n",
      "=================================================================\n",
      "Total params: 89,979,969\n",
      "Trainable params: 89,979,969\n",
      "Non-trainable params: 0\n",
      "_________________________________________________________________\n"
     ]
    }
   ],
   "source": [
    "model.build(input_shape=(192, 192, 3)) # [batches, width, height, channels]\n",
    "model.summary()"
   ]
  },
  {
   "cell_type": "markdown",
   "metadata": {},
   "source": [
    "# Conclusion #\n",
    "\n",
    "To be efficient, a neural network needs a structure that reflects the problem it is trying to solve. Modern neural networks have been designed to solve complex problems, and their architectures have become complex as a result. Designing a network around modular components like we have in this lesson makes managing this complexity much easier. (It is a kind of object-oriented design for neural networks!)\n",
    "\n",
    "Nonetheless, a deep stack of convolutional blocks like we defined above was state-of-the-art only a few years ago, and a relatively simple model can still be the right choice with smaller datasets, when a larger model might be in danger of overfitting. Having composable blocks makes it easier to design a network to suit your need."
   ]
  }
 ],
 "metadata": {
  "jupytext": {
   "formats": "ipynb,md",
   "split_at_heading": true
  },
  "kernelspec": {
   "display_name": "Python 3",
   "language": "python",
   "name": "python3"
  },
  "language_info": {
   "codemirror_mode": {
    "name": "ipython",
    "version": 3
   },
   "file_extension": ".py",
   "mimetype": "text/x-python",
   "name": "python",
   "nbconvert_exporter": "python",
   "pygments_lexer": "ipython3",
   "version": "3.7.6"
  }
 },
 "nbformat": 4,
 "nbformat_minor": 4
}
