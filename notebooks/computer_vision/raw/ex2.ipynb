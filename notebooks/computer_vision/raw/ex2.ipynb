{
 "cells": [
  {
   "cell_type": "markdown",
   "metadata": {},
   "source": [
    "# Introduction #\n",
    "\n",
    "In the tutorial, we learned about the architecture of a typical convolutional base used for feature extraction. We saw how we can define our own blocks by subclassing the Keras `Layer` class. We can then use these blocks in a model just like we do any other layer.\n",
    "\n",
    "In our implementation of the convolutional block, we only allowed for a single convolutional layer. However, most modern convnets will stack several convolutional layers together before applying the pooling. In these exercises, you'll address this shortcoming by extending our implementation.\n",
    "\n",
    "Get started by running the code cell below."
   ]
  },
  {
   "cell_type": "code",
   "execution_count": null,
   "metadata": {},
   "outputs": [],
   "source": [
    "# Setup feedback system\n",
    "from learntools.core import binder\n",
    "binder.bind(globals())\n",
    "from learntools.computer_vision.ex2 import *\n",
    "\n",
    "# Imports\n",
    "import visiontools\n",
    "from visiontools import StanfordCars\n",
    "import tensorflow as tf\n",
    "import tensorflow_datasets as tfds\n",
    "\n",
    "# Load training and validation sets\n",
    "DATA_DIR = '/kaggle/input/stanford-cars-for-learn/'\n",
    "(ds_train, ds_valid), ds_info = tfds.load('stanford_cars/simple',\n",
    "                                          split=['train', 'test'],\n",
    "                                          shuffle_files=True,\n",
    "                                          with_info=True,\n",
    "                                          data_dir=DATA_DIR)\n",
    "print((\"Loaded {} training examples \" +\n",
    "       \"and {} validation examples \" +\n",
    "       \"with classes {}.\").format(\n",
    "           ds_info.splits['train'].num_examples,\n",
    "           ds_info.splits['test'].num_examples,\n",
    "           ds_info.features['label'].names))\n",
    "\n",
    "# Create data pipeline\n",
    "BATCH_SIZE = 32\n",
    "AUTO = tf.data.experimental.AUTOTUNE\n",
    "SIZE = [192, 192]\n",
    "preprocess = visiontools.make_preprocessor(size=SIZE)\n",
    "\n",
    "ds_train_ = (ds_train.map(preprocess)\n",
    "            .cache()\n",
    "            .shuffle(ds_info.splits['train'].num_examples,\n",
    "            .batch(BATCH_SIZE)\n",
    "            .prefetch(AUTO))\n",
    "\n",
    "ds_valid_ = (ds_valid.map(preprocess)\n",
    "            .cache()\n",
    "            .batch(BATCH_SIZE)\n",
    "            .prefetch(AUTO))"
   ]
  },
  {
   "cell_type": "markdown",
   "metadata": {},
   "source": [
    "### 1) Extend Convolutional Block\n",
    "\n",
    "Here is a diagram of the model we want to implement:\n",
    "\n",
    "<figure>\n",
    "<!-- <img src=\"./images/2-convmodel-2.png\" width=\"250\" alt=\"Diagram of a convolutional model.\"> -->\n",
    "<img src=\"https://i.imgur.com/Rc59Gwj.png\" width=\"250\" alt=\"Diagram of a convolutional model.\">\n",
    "</figure>\n",
    "\n",
    "Notice that some of the convolutional blocks have more than one convolutional layer. Extend the definition of `ConvolutionalBlock` to handle these kinds of blocks -- that is, each block should be able to contain an arbitrary number of convolutional layers prior to the pooling layer. The `filters` argument this time should be a list like `[128, 128]`."
   ]
  },
  {
   "cell_type": "code",
   "execution_count": null,
   "metadata": {
    "lines_to_next_cell": 2
   },
   "outputs": [],
   "source": [
    "import tensorflow.keras.layers as layers\n",
    "\n",
    "class ConvolutionalBlock(layers.Layer):\n",
    "    \n",
    "    # Instantiate the layers\n",
    "    def __init__(self, kernel_size, filters):\n",
    "        super().__init__()\n",
    "        \n",
    "        # Convolutional Layers\n",
    "        self.conv_layers = []\n",
    "\n",
    "        # YOUR CODE HERE: Build a list of convolutional layers\n",
    "        ----\n",
    "\n",
    "        # Pooling Layer\n",
    "        self.pool = layers.MaxPool2D(pool_size=2)\n",
    "                \n",
    "    # Build the layers once the shape of the inputs is known\n",
    "    def call(self, inputs):\n",
    "        x = inputs\n",
    "        for conv in self.conv_layers:\n",
    "            x = conv(x)\n",
    "        x = self.pool(x)\n",
    "        return x\n",
    "\n",
    "q_1.check()"
   ]
  },
  {
   "cell_type": "code",
   "execution_count": null,
   "metadata": {
    "lines_to_next_cell": 0
   },
   "outputs": [],
   "source": [
    "q_1.assert_check_passed()"
   ]
  },
  {
   "cell_type": "code",
   "execution_count": null,
   "metadata": {
    "lines_to_next_cell": 2
   },
   "outputs": [],
   "source": [
    "# Lines below will give you a hint or solution code\n",
    "#_COMMENT_IF(PROD)_\n",
    "q_1.hint()\n",
    "#_COMMENT_IF(PROD)_\n",
    "q_1.solution()"
   ]
  },
  {
   "cell_type": "code",
   "execution_count": null,
   "metadata": {},
   "outputs": [],
   "source": [
    "import tensorflow.keras.layers as layers\n",
    "\n",
    "class ConvolutionalBlock(layers.Layer):\n",
    "    \n",
    "    # Instantiate the layers\n",
    "    def __init__(self, kernel_size, filters):\n",
    "        super().__init__()\n",
    "        \n",
    "        # Convolutional Layers\n",
    "        self.conv_layers = []\n",
    "        for f in filters:\n",
    "            self.conv_layers.append(\n",
    "                layers.Conv2D(kernel_size=kernel_size, \n",
    "                              filters=f,\n",
    "                              activation='relu',\n",
    "                              padding='same')\n",
    "            )\n",
    "                # Pooling Layer\n",
    "        self.pool = layers.MaxPool2D(pool_size=2)\n",
    "                \n",
    "    # Build the layers once the shape of the inputs is known\n",
    "    def call(self, inputs):\n",
    "        x = inputs\n",
    "        for conv in self.conv_layers:\n",
    "            x = conv(x)\n",
    "        x = self.pool(x)\n",
    "        return x"
   ]
  },
  {
   "cell_type": "markdown",
   "metadata": {},
   "source": [
    "### 2) Define Model\n",
    "\n",
    "Now create the model using the `ConvolutionalBlock` class you just defined. Remember to refer back to the diagram above to get the correct number of layers."
   ]
  },
  {
   "cell_type": "code",
   "execution_count": null,
   "metadata": {
    "lines_to_next_cell": 2
   },
   "outputs": [],
   "source": [
    "from tensorflow.keras import Sequential\n",
    "\n",
    "model = Sequential([\n",
    "    # YOUR CODE HERE: Use ConvolutionalBlock to build the model\n",
    "    # indicated in the diagram at the start of the page.\n",
    "    ----\n",
    "    layers.Flatten(),\n",
    "    layers.Dense(8, activation='relu'),\n",
    "    layers.Dense(1, activation='sigmoid')\n",
    "])\n",
    "q_2.check()"
   ]
  },
  {
   "cell_type": "code",
   "execution_count": null,
   "metadata": {
    "lines_to_next_cell": 0
   },
   "outputs": [],
   "source": [
    "from tensorflow.keras import Sequential\n",
    "\n",
    "model = Sequential([\n",
    "    ConvolutionalBlock(kernel_size=3, filters=[64]),\n",
    "    ConvolutionalBlock(kernel_size=3, filters=[128]),\n",
    "    ConvolutionalBlock(kernel_size=3, filters=[256, 256]),\n",
    "    ConvolutionalBlock(kernel_size=3, filters=[512, 512, 512]),\n",
    "    layers.Flatten(),\n",
    "    layers.Dense(8, activation='relu'),\n",
    "    layers.Dense(1, activation='sigmoid')\n",
    "])\n",
    "q_2.assert_check_passed()"
   ]
  },
  {
   "cell_type": "code",
   "execution_count": null,
   "metadata": {},
   "outputs": [],
   "source": [
    "# Lines below will give you a hint or solution code\n",
    "#_COMMENT_IF(PROD)_\n",
    "q_2.hint()\n",
    "#_COMMENT_IF(PROD)_\n",
    "q_2.solution()"
   ]
  },
  {
   "cell_type": "markdown",
   "metadata": {},
   "source": [
    "### 3) Train\n",
    "\n",
    "Finally, let's run the training loop. Just run the cell below to get credit."
   ]
  },
  {
   "cell_type": "code",
   "execution_count": null,
   "metadata": {},
   "outputs": [],
   "source": [
    "optimizer = tf.keras.optimizers.Adam(learning_rate=0.0001)\n",
    "model.compile(\n",
    "    optimizer=optimizer,\n",
    "    loss='binary_crossentropy',\n",
    "    metrics=['accuracy'],\n",
    ")\n",
    "\n",
    "STEPS = ds_info.splits['train'].num_examples // BATCH_SIZE\n",
    "early_stopping = tf.keras.callbacks.EarlyStopping(patience=3, restore_best_weights=True)\n",
    "\n",
    "history = model.fit(\n",
    "    ds_train_,\n",
    "    validation_data=ds_valid_,\n",
    "    epochs=30,\n",
    "    callbacks=[early_stopping],\n",
    ")\n",
    "q_3.check()"
   ]
  },
  {
   "cell_type": "markdown",
   "metadata": {},
   "source": [
    "You should have gotten around 90% validation accuracy for this model. This is almost as good as the transfer learning model from Lesson 1! With more modification, it's likely you could do even better."
   ]
  },
  {
   "cell_type": "markdown",
   "metadata": {},
   "source": [
    "### 4) Compare to the Transfer Learning Models\n",
    "\n",
    "Our dataset is fairly large for a simple binary classification problem. For this reason, we were able to build a custom neural network that's competitive with the much larger transfer learning models from the previous lesson.\n",
    "\n",
    "The model from Lesson 1 however was trained on a much larger dataset and contains many more layers. Why do you think your smaller model was able to do just as well?\n",
    "\n",
    "After you've considered your answer, run the following cell."
   ]
  },
  {
   "cell_type": "code",
   "execution_count": null,
   "metadata": {},
   "outputs": [],
   "source": [
    "# View the solution (Run this code cell to receive credit!)\n",
    "q_4.solution()"
   ]
  }
 ],
 "metadata": {
  "jupytext": {
   "formats": "ipynb,md",
   "split_at_heading": true
  },
  "kernelspec": {
   "display_name": "Python 3",
   "language": "python",
   "name": "python3"
  },
  "language_info": {
   "codemirror_mode": {
    "name": "ipython",
    "version": 3
   },
   "file_extension": ".py",
   "mimetype": "text/x-python",
   "name": "python",
   "nbconvert_exporter": "python",
   "pygments_lexer": "ipython3",
   "version": "3.7.6"
  }
 },
 "nbformat": 4,
 "nbformat_minor": 4
}
