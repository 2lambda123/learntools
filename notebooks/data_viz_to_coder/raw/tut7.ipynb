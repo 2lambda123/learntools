{
 "cells": [
  {
   "cell_type": "markdown",
   "metadata": {},
   "source": [
    "So far, you have worked with datasets that we have provided for you.  In this tutorial, you'll learn how to use your own datasets.  Then, in the following exercise, you'll design and create your own data visualizations.\n",
    "\n",
    "You'll learn all about Kaggle Datasets, a tool that you can use to store your own datasets and quickly access tens of thousands of publicly available data sources.\n",
    "\n",
    "# Kaggle Datasets\n",
    "\n",
    "You can access Kaggle Datasets by visiting the link below:\n",
    "> https://www.kaggle.com/datasets\n",
    "\n",
    "The link will bring you to a webpage with a long list of datasets that you can use in your own projects.  \n",
    "\n",
    "![tut6_main_datasets](https://i.imgur.com/GdApAhd.png)\n",
    "\n",
    "Note that the list of datasets that you see will likely look different from what's shown in the screenshot above, since many new datasets are uploaded every day!  \n",
    "\n",
    "There are many different file types on Kaggle Datasets, including CSV files, but also more exotic file types such as JSON, SQLite, and BigQuery.  To restrict the list of datasets to CSV files only, begin by clicking on the **Filter** button in the search bar.\n",
    "\n",
    "![tut6_search](https://i.imgur.com/i1GjxJc.png)\n",
    "\n",
    "Then, click on \"CSV\" under **File types**.  \n",
    "\n",
    "![tut6_search_csv](https://i.imgur.com/xhrUV6R.png)\n",
    "\n",
    "Click on the **Done** button to save your changes.\n",
    "\n",
    "Please do this now, and then take the time to peruse the list of CSV datasets.\n",
    "\n",
    "To search for a specific dataset, use the search bar at the top of the screen.  Say, for instance, you'd like to work with a dataset about comic book characters.  Begin by typing **\"comic\"** in the search window. \n",
    "\n",
    "![tut6_search_comic](https://i.imgur.com/R1jyAPZ.png)\n",
    "\n",
    "Find the **FiveThirtyEight Comic Characters Dataset**, and click on it to select it.  This will bring you to a webpage that describes the dataset.\n",
    "\n",
    "![tut6_sample_dataset](https://i.imgur.com/1MlYkMn.png)\n",
    "\n",
    "Scroll down to see the list of files in the dataset under **Data Sources**, on the left of the window.  The dataset contains three files: (1) **dc-wikia-data.csv**, (2) **marvel-wikia-data.csv**, and (3) **README.md**.  The first file is selected as default, and scrolling down shows a quick preview of the file.  You can also take a look at the second CSV file by clicking on it.\n",
    "\n",
    "Take the time now to explore the other tabs on the page; for instance, check out the **Discussion** tab to see what others have to say about the dataset.\n",
    "\n",
    "# Use your own dataset\n",
    "\n",
    "In the following exercise, you'll work with any CSV dataset of your choosing.  As you learned above, Kaggle Datasets contains a large collection of datasets that you can use.  If you'd prefer to work with your own dataset, you'll need to first upload it to Kaggle Datasets.\n",
    "\n",
    "To learn more about how to do that, please watch the video below!"
   ]
  },
  {
   "cell_type": "code",
   "execution_count": null,
   "metadata": {},
   "outputs": [],
   "source": [
    "#$HIDE_INPUT$\n",
    "from IPython.display import YouTubeVideo\n",
    "YouTubeVideo('YryPL0GnfTc', width=800, height=450)"
   ]
  },
  {
   "cell_type": "markdown",
   "metadata": {},
   "source": [
    "If you're not familiar with CSV file types, note that the Kaggle Datasets platform will automatically convert any tabular data that you have to a CSV file.  So, feel free to upload something like a Google spreadsheet or an Excel worksheet, and it will be transformed to a CSV file for you!\n",
    "\n",
    "# What's next?\n",
    "\n",
    "Visualize any dataset of your choosing in a **[coding exercise](#$NEXT_NOTEBOOK_URL$)**!"
   ]
  }
 ],
 "metadata": {
  "kernelspec": {
   "display_name": "Python 3",
   "language": "python",
   "name": "python3"
  },
  "language_info": {
   "codemirror_mode": {
    "name": "ipython",
    "version": 3
   },
   "file_extension": ".py",
   "mimetype": "text/x-python",
   "name": "python",
   "nbconvert_exporter": "python",
   "pygments_lexer": "ipython3",
   "version": "3.6.5"
  }
 },
 "nbformat": 4,
 "nbformat_minor": 2
}
