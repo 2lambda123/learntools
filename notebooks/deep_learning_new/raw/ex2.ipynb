{
 "cells": [
  {
   "cell_type": "markdown",
   "metadata": {},
   "source": [
    "# Introduction #\n",
    "\n",
    "# Computational Graphs #\n",
    "\n",
    "### 1a) Linear Model\n",
    "\n",
    "Draw a neural network implementing this linear model: $ $. (You could do this with pencil and paper, or just in your \"mind's eye\", if you prefer.)\n",
    "\n",
    "### 1b) Average Value\n",
    "\n",
    "Draw a network that finds the average value of three numbers: $y = \\frac{1}{3} x_0 + \\frac{1}{3} x_1 + \\frac{1}{3} x_2$.\n",
    "\n",
    "# Building Sequential Models #\n",
    "\n",
    "### 2a) Linear Model\n",
    "\n",
    "### 2b) Deep Model\n",
    "\n",
    "# Representation Learning #\n",
    "\n",
    "### 3) Fitting a Quadratic\n",
    "\n",
    "Run this cell to see how the layers shape the input to match the desired output."
   ]
  },
  {
   "cell_type": "code",
   "execution_count": null,
   "metadata": {},
   "outputs": [],
   "source": [
    "q_3.check()"
   ]
  },
  {
   "cell_type": "markdown",
   "metadata": {},
   "source": [
    "# Model Development: Controlling Capacity #\n",
    "\n",
    "**capacity** - \"how much\" data the model can hold\n",
    "\n",
    "Let's look at how to iterate on model design to find the optimal capacity for the *X* dataset. The goal is to (slightly) overfit the data."
   ]
  }
 ],
 "metadata": {
  "jupytext": {
   "cell_metadata_filter": "-all",
   "formats": "ipynb,md",
   "main_language": "python"
  },
  "kernelspec": {
   "display_name": "Python 3",
   "language": "python",
   "name": "python3"
  },
  "language_info": {
   "codemirror_mode": {
    "name": "ipython",
    "version": 3
   },
   "file_extension": ".py",
   "mimetype": "text/x-python",
   "name": "python",
   "nbconvert_exporter": "python",
   "pygments_lexer": "ipython3",
   "version": "3.6.6"
  }
 },
 "nbformat": 4,
 "nbformat_minor": 4
}
