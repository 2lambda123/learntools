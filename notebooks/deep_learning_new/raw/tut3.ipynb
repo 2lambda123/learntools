{
 "cells": [
  {
   "cell_type": "markdown",
   "metadata": {},
   "source": [
    "# Introduction\n",
    "\n",
    "you've learned how to define a NN. it comes with entirely random weights. needs to be trained // needs to be exposed to the data so it can discover patterns\n",
    "\n",
    "in this lesson, you'll learn big picture about how this works.  then, in the next lesson, you'll learn how to apply these concepts to train a neural network.\n",
    "\n",
    "you've learned how to define neural networks. have talked at a high level about how they're trained\n",
    "\n",
    "in this lesson, we go into the details!\n",
    "\n",
    "# Stochastic gradient descent\n",
    "\n",
    "how can we minimize the loss? \n",
    "\n",
    "idea of loss as a surface.  each different set of parameters is different location on the surface.  want to find parameters that get you to the lowest valley.\n",
    "\n",
    "how do you do this? start with one set of parameters. get the loss. find the path of steepest descent. take a step. repeat.\n",
    "\n",
    "will actually do this in the next lesson.  keras takes care of all of this for you\n",
    "\n",
    "# all the other things too\n",
    "\n",
    "# Code\n",
    "\n",
    "... amending parameters"
   ]
  },
  {
   "cell_type": "code",
   "execution_count": null,
   "metadata": {},
   "outputs": [],
   "source": [
    "# especially loss function, batch size, optimizer ..."
   ]
  }
 ],
 "metadata": {
  "kernelspec": {
   "display_name": "Python 3",
   "language": "python",
   "name": "python3"
  },
  "language_info": {
   "codemirror_mode": {
    "name": "ipython",
    "version": 3
   },
   "file_extension": ".py",
   "mimetype": "text/x-python",
   "name": "python",
   "nbconvert_exporter": "python",
   "pygments_lexer": "ipython3",
   "version": "3.6.5"
  }
 },
 "nbformat": 4,
 "nbformat_minor": 2
}
