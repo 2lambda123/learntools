{
 "cells": [
  {
   "cell_type": "markdown",
   "metadata": {},
   "source": [
    "# Introduction\n",
    "\n",
    "so many applications of neural networks. difference between regression and classification. NNs can be applied to both.\n",
    "\n",
    "# Classification\n",
    "\n",
    "what is it? give some examples\n",
    "\n",
    "for the rest of this course, we focus on classification\n",
    "\n",
    "# Activation functions\n",
    "\n",
    "one example is relu, which you know all about. but also there's softmax. will always need to add this activation function when designing a NN to select between some number of classes. (three or more)"
   ]
  },
  {
   "cell_type": "markdown",
   "metadata": {},
   "source": [
    "# Code"
   ]
  },
  {
   "cell_type": "code",
   "execution_count": 15,
   "metadata": {},
   "outputs": [
    {
     "name": "stdout",
     "output_type": "stream",
     "text": [
      "Model: \"sequential_3\"\n",
      "_________________________________________________________________\n",
      "Layer (type)                 Output Shape              Param #   \n",
      "=================================================================\n",
      "dense_9 (Dense)              (None, 8)                 88        \n",
      "_________________________________________________________________\n",
      "dense_10 (Dense)             (None, 6)                 54        \n",
      "_________________________________________________________________\n",
      "dense_11 (Dense)             (None, 4)                 28        \n",
      "=================================================================\n",
      "Total params: 170\n",
      "Trainable params: 170\n",
      "Non-trainable params: 0\n",
      "_________________________________________________________________\n"
     ]
    }
   ],
   "source": [
    "from tensorflow import keras\n",
    "from tensorflow.keras import layers\n",
    "\n",
    "# Initialize a neural network\n",
    "model = keras.Sequential(\n",
    "    [\n",
    "        layers.Dense(8, activation=\"relu\", input_shape=(10,)),\n",
    "        layers.Dense(6, activation=\"relu\"),\n",
    "        layers.Dense(4, activation=\"softmax\")\n",
    "    ]\n",
    ")\n",
    "\n",
    "# Display contents of the neural network\n",
    "model.summary()"
   ]
  },
  {
   "cell_type": "code",
   "execution_count": 17,
   "metadata": {},
   "outputs": [
    {
     "data": {
      "text/plain": [
       "<tf.Tensor: shape=(1, 4), dtype=float32, numpy=array([[0.29319435, 0.2394918 , 0.19166338, 0.27565056]], dtype=float32)>"
      ]
     },
     "execution_count": 17,
     "metadata": {},
     "output_type": "execute_result"
    }
   ],
   "source": [
    "import tensorflow as tf\n",
    "\n",
    "# Define input\n",
    "x = tf.ones((1,10))\n",
    "\n",
    "# Pass input through the model\n",
    "model(x)"
   ]
  },
  {
   "cell_type": "code",
   "execution_count": 27,
   "metadata": {},
   "outputs": [
    {
     "name": "stdout",
     "output_type": "stream",
     "text": [
      "[0.29319435 0.2394918  0.19166338 0.27565056]\n",
      "\n",
      "Sum of the values in the output: 1.0000001\n"
     ]
    }
   ],
   "source": [
    "output = model(x).numpy()[0]\n",
    "print(output)\n",
    "\n",
    "print('\\nSum of the values in the output:', output.sum())"
   ]
  }
 ],
 "metadata": {
  "kernelspec": {
   "display_name": "Python 3",
   "language": "python",
   "name": "python3"
  },
  "language_info": {
   "codemirror_mode": {
    "name": "ipython",
    "version": 3
   },
   "file_extension": ".py",
   "mimetype": "text/x-python",
   "name": "python",
   "nbconvert_exporter": "python",
   "pygments_lexer": "ipython3",
   "version": "3.6.6"
  }
 },
 "nbformat": 4,
 "nbformat_minor": 2
}
