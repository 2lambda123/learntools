{
 "cells": [
  {
   "cell_type": "markdown",
   "metadata": {},
   "source": [
    "# Introduction #\n",
    "\n",
    "# The Data #\n",
    "\n",
    "# Make a Linear Model #\n",
    "\n",
    "# Train It #\n",
    "\n",
    "# Compare to scikit-learn #\n",
    "\n",
    "# Weights and Biases #\n",
    "\n",
    "# Conclusion #\n",
    "\n",
    "In the next lesson, we'll learn how to make our models *deep* by stacking additional layers on top of the linear regression layer.\n",
    "\n",
    "# Keep Going #"
   ]
  }
 ],
 "metadata": {
  "jupytext": {
   "cell_metadata_filter": "-all",
   "formats": "ipynb,md",
   "main_language": "python"
  }
 },
 "nbformat": 4,
 "nbformat_minor": 4
}
