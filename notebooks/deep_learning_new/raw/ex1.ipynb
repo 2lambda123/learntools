{
 "cells": [
  {
   "cell_type": "markdown",
   "metadata": {},
   "source": [
    "# Introduction #\n",
    "\n",
    "# The Data #\n",
    "\n",
    "# Make a Linear Model #\n",
    "\n",
    "# Train It #\n",
    "\n",
    "# Compare to scikit-learn #\n",
    "\n",
    "# Weights and Biases #\n",
    "\n",
    "# Conclusion #\n",
    "\n",
    "In the next lesson, we'll learn how to make our models *deep* by stacking additional layers on top of the linear regression layer.\n",
    "\n",
    "# Keep Going #"
   ]
  }
 ],
 "metadata": {
  "jupytext": {
   "cell_metadata_filter": "-all",
   "formats": "ipynb,md",
   "main_language": "python"
  },
  "kernelspec": {
   "display_name": "Python 3",
   "language": "python",
   "name": "python3"
  },
  "language_info": {
   "codemirror_mode": {
    "name": "ipython",
    "version": 3
   },
   "file_extension": ".py",
   "mimetype": "text/x-python",
   "name": "python",
   "nbconvert_exporter": "python",
   "pygments_lexer": "ipython3",
   "version": "3.6.6"
  }
 },
 "nbformat": 4,
 "nbformat_minor": 4
}
