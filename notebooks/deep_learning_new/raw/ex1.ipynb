{
 "cells": [
  {
   "cell_type": "markdown",
   "metadata": {},
   "source": [
    "# Introduction #\n",
    "\n",
    "# Computational Graphs #\n",
    "\n",
    "### 1a) Linear Model\n",
    "\n",
    "Draw a neural network implementing this linear model: $ $. (You could do this with pencil and paper, or just in your \"mind's eye\", if you prefer.)\n",
    "\n",
    "### 1b) Average Value\n",
    "\n",
    "Draw a network that finds the average value of three numbers: $y = \\frac{1}{3} x_0 + \\frac{1}{3} x_1 + \\frac{1}{3} x_2$.\n",
    "\n",
    "# Linear Models #\n",
    "\n",
    "### 2a) Input Shape\n",
    "\n",
    "What would be the input shape for this dataset?"
   ]
  },
  {
   "cell_type": "code",
   "execution_count": null,
   "metadata": {},
   "outputs": [],
   "source": [
    "# load housing dataset"
   ]
  },
  {
   "cell_type": "markdown",
   "metadata": {},
   "source": [
    "### 2b) Define\n",
    "\n",
    "Define a linear model that will accept this dataset as input."
   ]
  },
  {
   "cell_type": "code",
   "execution_count": null,
   "metadata": {},
   "outputs": [],
   "source": [
    "from tensorflow import keras\n",
    "from tensorflow.keras import layers\n",
    "\n",
    "model = keras.Sequential([\n",
    "    layers.Dense(1, input_shape=[5])\n",
    "])"
   ]
  },
  {
   "cell_type": "markdown",
   "metadata": {},
   "source": [
    "# Weights and Biases #\n",
    "\n",
    "### 3) Look at weights\n",
    "\n",
    "We can look at the weights of a network with a model's `get_weights` method. Look at the weights and bias of the model from the previous example."
   ]
  },
  {
   "cell_type": "code",
   "execution_count": null,
   "metadata": {},
   "outputs": [],
   "source": [
    "w, b = model.get_weights()\n",
    "print(\"Weights\\n{}\\n\\nBias\\n{}\".format(w, b))"
   ]
  },
  {
   "cell_type": "markdown",
   "metadata": {},
   "source": [
    "Internally, Keras represents the weights (and the input data) as arrays called \"tensors\", hence the name \"TensorFlow\".\n",
    "\n",
    "# Linear Models Produce Lines\n",
    "\n",
    "### 4) Plot the output of a linear model"
   ]
  },
  {
   "cell_type": "code",
   "execution_count": null,
   "metadata": {
    "lines_to_next_cell": 0
   },
   "outputs": [],
   "source": [
    "import matplotlib.pyplot as plt\n",
    "\n",
    "model = keras.Sequential([\n",
    "    layers.Dense(1, input_shape=[1]),\n",
    "])\n",
    "\n",
    "x = np.linspace(-1.0, 1.0, 100)\n",
    "y = model(x)\n",
    "\n",
    "plt.plot(x, y)\n",
    "plt.xlim(-1, 1)\n",
    "plt.ylim(-1, 1)\n",
    "w, b = model.get_weights()\n",
    "plt.title(\"Weight: {:0.2f}\\nBias: {:0.2f}\".format(w[0][0], b[0]))\n",
    "plt\n",
    "plt.show();"
   ]
  },
  {
   "cell_type": "markdown",
   "metadata": {},
   "source": [
    "\n"
   ]
  },
  {
   "cell_type": "markdown",
   "metadata": {},
   "source": [
    "# Conclusion #\n"
   ]
  }
 ],
 "metadata": {
  "jupytext": {
   "cell_metadata_filter": "-all",
   "formats": "ipynb,md",
   "main_language": "python"
  }
 },
 "nbformat": 4,
 "nbformat_minor": 4
}
