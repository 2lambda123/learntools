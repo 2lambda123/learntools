{
 "cells": [
  {
   "cell_type": "markdown",
   "metadata": {},
   "source": [
    "# Introduction\n",
    "\n",
    "what is this course and what are we doing?\n",
    "\n",
    "why deep learning // deep learning performance improve with [1] more data [2] size of network / bigger models (other methods plateau), [3] more computation\n",
    "\n",
    "# The scenario\n",
    "\n",
    "Considering house prices again.  mathematical model to predict house price based on number of beds, baths.\n",
    "\n",
    "one of the simplest models we can use works as follows ... there's some baseline price.  then, each bedroom adds more value.  each bathroom adds more value.  (show the equation)\n",
    "\n",
    "we'll represent this with the following picture ...\n",
    "\n",
    "(show thing that looks like neural network)\n",
    "\n",
    "in this case, the lines represent ...\n",
    "\n",
    "but this a super simple model.  we can do better!\n",
    "\n",
    "# Neural networks\n",
    "\n",
    "motivate feature engineering.  like maybe ratio bedrooms/bathrooms makes sense as a feature.  we can add this as input to the model. or we can use deep learning which can do feature learning for us.\n",
    "\n",
    "(show pic with intermediate features)\n",
    "\n",
    "have to add relu or else it's equivalent to the model above (looks more complex, but actually can't learn more complex patterns).  relu just says: only allow positive values.\n",
    "\n",
    "\"deep\" referring to number of layers. in this case, three layers. can add even more!\n",
    "\n",
    "we'll look at how to train these in next lesson. for now, code for how to define them."
   ]
  },
  {
   "cell_type": "markdown",
   "metadata": {},
   "source": [
    "# Code\n",
    "\n",
    "We’ll use **[TensorFlow 2](https://www.tensorflow.org/guide)** and TensorFlow's **[Keras](https://www.tensorflow.org/guide/keras)** API for this course. TensorFlow is one of the most popular tools for deep learning.  It is friendly for beginners and is also flexible enough for experts to implement novel models.\n",
    "\n",
    "<img src=https://i.imgur.com/VB1Bkp4.png alt=\"TensorFlow and Keras logos\" width=200px>\n",
    "\n",
    "We construct a network with `keras.Sequential()` by passing it a list of layers."
   ]
  },
  {
   "cell_type": "code",
   "execution_count": null,
   "metadata": {},
   "outputs": [],
   "source": [
    "from tensorflow import keras\n",
    "from tensorflow.keras import layers\n",
    "\n",
    "# Initialize a neural network\n",
    "model = keras.Sequential(\n",
    "    [\n",
    "        layers.Dense(3, activation=\"relu\", input_shape=(4,)),\n",
    "        layers.Dense(2, activation=\"relu\"),\n",
    "        layers.Dense(1)\n",
    "    ]\n",
    ")"
   ]
  },
  {
   "cell_type": "markdown",
   "metadata": {},
   "source": [
    "In the example above, the list has three elements, where each corresponds to a different layer in the network.\n",
    "- `layers.Dense(3, activation=\"relu\", input_shape=(4,))` creates a layer with three units and a ReLU activation function.  Since it's the first layer in the network, we can set the size of the input layer (in this case, the network accepts an input with four units).\n",
    "- `layers.Dense(2, activation=\"relu\")` is the second layer in the network.  It has two units and a ReLU activation function.\n",
    "- `layers.Dense(1)` is the final layer in the network and has one unit.\n",
    "\n",
    "The image below visualizes this network.\n",
    "\n",
    "<img src=\"https://i.imgur.com/aLCuZKg.png\" width=\"40%\"/>\n",
    "\n",
    "You can display the contents of the network with `model.summary()`."
   ]
  },
  {
   "cell_type": "code",
   "execution_count": null,
   "metadata": {},
   "outputs": [],
   "source": [
    "# Display contents of the neural network\n",
    "model.summary()"
   ]
  },
  {
   "cell_type": "markdown",
   "metadata": {},
   "source": [
    "As printed above, this neural network has 26 parameters.\n",
    "\n",
    "outputs one row for each layer. number of parameters is just number of weights in the model.  take the time to check that this model should have 26 parameters - does it make sense to you?\n",
    "\n",
    "when we just create a neural network, the weights are entirely random and so will yield horrible predictions.\n",
    "\n",
    "we'll have to train the network to detect patterns in the training data. will learn how to do that in upcoming tutorial.\n",
    "\n",
    "# Your turn \n",
    "\n",
    "..."
   ]
  }
 ],
 "metadata": {
  "kernelspec": {
   "display_name": "Python 3",
   "language": "python",
   "name": "python3"
  },
  "language_info": {
   "codemirror_mode": {
    "name": "ipython",
    "version": 3
   },
   "file_extension": ".py",
   "mimetype": "text/x-python",
   "name": "python",
   "nbconvert_exporter": "python",
   "pygments_lexer": "ipython3",
   "version": "3.6.5"
  }
 },
 "nbformat": 4,
 "nbformat_minor": 2
}
