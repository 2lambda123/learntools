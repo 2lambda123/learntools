{
 "cells": [
  {
   "cell_type": "markdown",
   "metadata": {},
   "source": [
    "# Introduction\n",
    "\n",
    "what is this course and what are we doing?\n",
    "\n",
    "why deep learning // deep learning performance improve with [1] more data [2] size of network / bigger models (other methods plateau), [3] more computation\n",
    "\n",
    "# A simple model\n",
    "\n",
    "We'll work with a simple example.  How might we determine the price of a house, based on the number of bedrooms and bathrooms?  \n",
    "\n",
    "One simple model could work as follows:\n",
    "- Each house costs at least \\\\$60K (or 60 thousand dollars).\n",
    "- Each bedroom adds \\\\$40K to the price of the house.\n",
    "- Each bathroom adds \\\\$30K to the price of a house.\n",
    "\n",
    "This is illustrated in either of the images below.\n",
    "\n",
    "<img src=\"https://i.imgur.com/a2ZF2xh.png\" width=\"100%\"/>\n",
    "\n",
    "For instance,\n",
    "- A house with one bedroom and one bathroom costs \\\\$130K (or \\\\$60K + \\\\$40K + \\\\$30K).\n",
    "- A house with four bedrooms and three bathrooms costs \\\\$310K (or \\\\$60K + 4 * \\\\$40K + 3 * \\\\$30K)."
   ]
  },
  {
   "cell_type": "markdown",
   "metadata": {},
   "source": [
    "# A more complex model\n",
    "\n",
    "Now consider a new, more complex model:\n",
    "- Each house costs at least \\\\$100K.\n",
    "- Each bedroom (and each bathroom) adds \\\\$10K to the price of the house. \n",
    "- Each additional bedroom above three bedrooms adds $50K to the value of the house.\n",
    "\n",
    "This is illustrated in the images below.\n",
    "\n",
    "<img src=\"https://i.imgur.com/TcYdMnD.png\" width=\"100%\"/>\n",
    "\n",
    "In the figure above, \"ReLU\" refers to the **Rectified Linear Unit** function, which sends converts negative values to zero (and leaves positive values alone).  In other words, it is the function $f(x) = \\max(0, x)$.\n",
    "\n",
    "For instance,\n",
    "- A house with one bedroom and one bathroom costs \\\\$120K (or \\\\$100K + 2 * \\\\$10K).\n",
    "- A house with four bedrooms and three bathrooms costs \\\\$220K (or \\\\$100K + 7 * \\\\$10K + (4-3) * \\\\$50K).\n",
    "\n",
    "This model is similar to the previous model, with one key difference: we no longer calculate price directly from the input (number of bedrooms and bathrooms).  Instead, we have introduced some intermediate calculations that let the model capture more complex patterns.  This is the main idea behind neural networks."
   ]
  },
  {
   "cell_type": "markdown",
   "metadata": {},
   "source": [
    "# Neural networks\n",
    "\n",
    "A **neural network** is a computational model composed of multiple layers, each designed to discover increasingly complex patterns in input data.   \n",
    "\n",
    "<img src=\"https://i.imgur.com/achVvfd.png\" width=\"40%\"/>\n",
    "\n",
    "In the image above, we show a neural network with three layers, but it's common to encounter neural networks with many more layers (even hundreds!).  In fact, \n",
    "- the \"depth\" of a neural network is the number of layers that it contains, and \n",
    "- the \"deep\" in \"deep learning\" refers to neural networks with many layers.\n",
    "\n",
    "There are two types of layers:\n",
    "- The **output layer** is the final layer of the network.  It outputs the value that we'd like to predict (for example, the price of a house).\n",
    "- The **hidden layers** are all of the layers between the input and the output layer.\n",
    "\n",
    "Each line in a neural network is assigned a number that dictates how the value in one unit is passed to a unit in the subsequent layer.  These numbers all called **parameters** (or **weights**).  All of the figures in this tutorial depict different examples of neural networks; you can see examples of how parameters are used in a neural network above.\n",
    "\n",
    "When we create a neural network, the parameters are initialized to random values.  Then, during training, the neural network learns how to encode the parameters to accurately map input values (such as number of bedrooms, number of bathrooms) to output values (such as house price).  In the remainder of this tutorial, you'll learn how to create a neural network.  Then, in the next tutorial, you'll learn how to train it."
   ]
  },
  {
   "cell_type": "markdown",
   "metadata": {},
   "source": [
    "# Code\n",
    "\n",
    "We’ll use **[TensorFlow 2](https://www.tensorflow.org/guide)** and TensorFlow's **[Keras](https://www.tensorflow.org/guide/keras)** API for this course. TensorFlow is one of the most popular tools for deep learning.  It is friendly for beginners and is also flexible enough for experts to implement novel models.\n",
    "\n",
    "<img src=https://i.imgur.com/VB1Bkp4.png alt=\"TensorFlow and Keras logos\" width=200px>\n",
    "\n",
    "We construct a neural network with `keras.Sequential()` by passing it a list of layers.  "
   ]
  },
  {
   "cell_type": "code",
   "execution_count": null,
   "metadata": {},
   "outputs": [],
   "source": [
    "from tensorflow import keras\n",
    "from tensorflow.keras import layers\n",
    "\n",
    "# Initialize a neural network\n",
    "model = keras.Sequential(\n",
    "    [\n",
    "        layers.Dense(3, activation=\"relu\", input_shape=(4,)),\n",
    "        layers.Dense(2, activation=\"relu\"),\n",
    "        layers.Dense(1)\n",
    "    ]\n",
    ")"
   ]
  },
  {
   "cell_type": "markdown",
   "metadata": {},
   "source": [
    "In the example above, the list has three elements, where each corresponds to a different layer in the network.\n",
    "- `layers.Dense(3, activation=\"relu\", input_shape=(4,))` creates a layer with three units and a ReLU activation function.  Since it's the first layer in the network, we provide the size of the input (in this case, the input has four units).\n",
    "- `layers.Dense(2, activation=\"relu\")` is the second layer in the network.  It has two units and a ReLU activation function.\n",
    "- `layers.Dense(1)` is the final layer in the network and has one unit.\n",
    "\n",
    "In this course, we'll focus entirely on how to use \"dense\" layers to define a neural network.  In subsequent courses, you'll learn how to use different layer types, such as convolutional layers (like [**`Conv2D`**](https://keras.io/api/layers/convolution_layers/convolution2d/)).  You can find all of the layer types in the [**Keras documentation**](https://keras.io/api/layers/).\n",
    "\n",
    "The image below visualizes this network.\n",
    "\n",
    "<img src=\"https://i.imgur.com/KDIYBrN.png\" width=\"40%\"/>\n",
    "\n",
    "something about bias.\n",
    "\n",
    "You can display the contents of the network with `model.summary()`."
   ]
  },
  {
   "cell_type": "code",
   "execution_count": null,
   "metadata": {},
   "outputs": [],
   "source": [
    "# Display contents of the neural network\n",
    "model.summary()"
   ]
  },
  {
   "cell_type": "markdown",
   "metadata": {},
   "source": [
    "As printed above, this neural network has 26 parameters.  Each parameter corresponds to a different line in the image above.  Take the time now to check that the number of parameters in each layer makes sense to you!\n",
    "\n",
    "This code creates the neural network and sets all of the parameters to completely random values.  You'll look at how to train the network in the next lesson.\n",
    "\n",
    "\n",
    "# Your turn \n",
    "\n",
    "For now, [**check your understanding**](#$NEXT_NOTEBOOK_URL$) of neural network fundamentals!"
   ]
  }
 ],
 "metadata": {
  "kernelspec": {
   "display_name": "Python 3",
   "language": "python",
   "name": "python3"
  },
  "language_info": {
   "codemirror_mode": {
    "name": "ipython",
    "version": 3
   },
   "file_extension": ".py",
   "mimetype": "text/x-python",
   "name": "python",
   "nbconvert_exporter": "python",
   "pygments_lexer": "ipython3",
   "version": "3.6.5"
  }
 },
 "nbformat": 4,
 "nbformat_minor": 2
}
