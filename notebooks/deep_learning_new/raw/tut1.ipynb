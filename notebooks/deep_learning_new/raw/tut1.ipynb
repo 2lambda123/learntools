{
 "cells": [
  {
   "cell_type": "markdown",
   "metadata": {
    "lines_to_next_cell": 0
   },
   "source": [
    "<!-- TITLE: A Single Neuron -->\n",
    "\n",
    "- [ ] Introduction\n",
    "- [ ] Conclusion\n",
    "- [x] Illustration: Neural computation\n",
    "- [x] Illustration: Linear with three inputs\n",
    "\n",
    "# Welcome to Deep Learning! #\n",
    "\n",
    "- do deep learning for **regression** and **classification**\n",
    "- design **neural network architectures**\n",
    "- navigate the **loss landscape**\n",
    "- master **stochastic gradient descent**\n",
    "- solve real world problems\n",
    "\n",
    "You'll be prepared for deep learning if you've taken our *Introduction to Machine Learning* course.\n",
    "\n",
    "Let's get started!\n",
    "\n",
    "# The Linear Unit #\n",
    "\n",
    "A single neuron with one input looks like:\n",
    "\n",
    "<figure style=\"padding: 1em;\">\n",
    "<img src=\"https://i.imgur.com/d8rXmAr.png\" width=\"250\" alt=\"Diagram of a linear unit.\">\n",
    "<figcaption style=\"textalign: center; font-style: italic\"><center>The Linear Unit\n",
    "</center></figcaption>\n",
    "</figure>\n",
    "\n",
    "When reading this diagram think about the computation as flowing from left to right. The numbers on the connections we call **weights** and the values that flow from input to output we call **activations**. Notice that this neuron has a constant input of 1 attached; its connection has a special weight called the **bias**. This neuron has two weights, `w` and `b`.\n",
    "\n",
    "The rule is that whenever an activation flows through a connection, you multiply it by the weight, and to get the output of the unit you just sum up all of the inputs. So, this unit computes a function like $y = w x + b$, or in Python `output = w * input + b`.\n",
    "\n",
    "# Example #\n",
    "\n",
    "Say the weights on our neuron happened to be `w=3` and `b=2`. What would we get if we plug in `x=-4`?\n",
    "\n",
    "<figure style=\"padding: 1em;\">\n",
    "<img src=\"https://i.imgur.com/Ihh7iaj.png\" width=\"800\" alt=\"Diagram of neural computation.\">\n",
    "<figcaption style=\"textalign: center; font-style: italic\"><center>Computing with the linear unit.\n",
    "</center></figcaption>\n",
    "</figure>\n",
    "\n",
    "Which checks with our formula: $y = 3(-4) + 2 = -10$.\n",
    "\n",
    "(By the way, running all of your training data through a network like this is sometimes called doing the *forward pass*.)\n",
    "\n",
    "# A Linear Unit Fits a Line #\n",
    "\n",
    "Most of the problems we'll work in this course will be *curve-fitting* problems. Given some data-points, we want to draw a curve that runs through the points as close as possible. These are also called **regression** problems.\n",
    "\n",
    "What kind of curve does a linear unit fit? Does the formula $y=w x + b$ look familiar? It's an equation of a line! It's the slope-intercept equation, where $w$ is the slope and $b$ is the y-intercept. That's why we call it the *linear* unit.\n",
    "\n",
    "<figure style=\"padding: 1em;\">\n",
    "<img src=\"https://i.imgur.com/9crcufH.png\" width=\"700\" alt=\"On the left, training data points with a line placed at random. On the right, the same data points with the line running through the middle.\">\n",
    "<figcaption style=\"textalign: center; font-style: italic\"><center><strong>Left: </strong>The untrained linear unit. <strong>Right: </strong>The trained linear unit.\n",
    "</center></figcaption>\n",
    "</figure>\n",
    "\n",
    "When first created, a neuron has its weights set randomly. The goal of training is to find values for the weights that fit the curve. For our linear unit, we're trying to find the best slope $w$ and y-intercept $b$.\n",
    "\n",
    "# Multiple Inputs #\n",
    "\n",
    "What if we wanted to fit a curve to more than one input? That's easy enough. We can just add more input connections to the neuron. To find the output, multiply each input to its connection weight and then add them all together.\n",
    "\n",
    "<figure style=\"padding: 1em;\">\n",
    "<img src=\"https://i.imgur.com/mgncuD1.png\" width=\"300\" alt=\"Three input connections: x0, x1, and x2, along with the bias.\">\n",
    "<figcaption style=\"textalign: center; font-style: italic\"><center>A linear unit with three inputs.\n",
    "</center></figcaption>\n",
    "</figure>\n",
    "\n",
    "The formula for this neuron would be $y = w_0 x_0 + w_1 x_1 + w_2 x_2 + b$. A linear unit with two inputs will fit a plane. (And one more more inputs than that will fit a *hyperplane*!)\n",
    "\n",
    "# Linear Models in Keras #\n",
    "\n",
    "In Keras, you can create a model with a single linear unit using what's called a `Dense` layer. Most neural networks are built by stacking layers of neurons that connect in a nparticular way, which we'll learn about in Lesson 2. (Stacking layers is what `Sequential` does.)"
   ]
  },
  {
   "cell_type": "code",
   "execution_count": null,
   "metadata": {},
   "outputs": [],
   "source": [
    "from tensorflow import keras\n",
    "from tensorflow.keras import layers\n",
    "\n",
    "# Create a network with 1 linear unit\n",
    "model = keras.Sequential([\n",
    "    layers.Dense(units=1, input_shape=[2])\n",
    "])"
   ]
  },
  {
   "cell_type": "markdown",
   "metadata": {},
   "source": [
    "The `input_shape` argument tells Keras the dimensions of the inputs. All of our inputs will be something like `[num_xs]`, where we're just counting how many input connections the unit has. This model would accept inputs with two features $x_0$ and $x_1$. \n",
    "\n",
    "For the number of outputs values we want, we use the `units` argument. We want to output just a single value, $y$, so we'll just use `units=1`.\n",
    "\n",
    "As we mentioned earlier, when first created a model has its weights initialized randomly. We'll need to fit it to the training data before we make predictions, which we'll learn about in Lesson 3.\n",
    "\n",
    "<blockquote style=\"margin-right:auto; margin-left:auto; background-color: #ebf9ff; padding: 1em; margin:24px;\">\n",
    "    <strong>Input Shape</strong><br>\n",
    "The data we'll use in this course will be tabular data, like in a Pandas dataframe. We'll have one input for each feature in the dataset. The features are arranged by column, so we'll always have <code>inputs_shape=[num_columns]</code>.\n",
    "\n",
    "The reason we use a list here is that some data may need more than one \"axis\". Image data, for instance, might need three: <code>[height, width, channels]</code>.\n",
    "</blockquote>\n",
    "\n",
    "# Conclusion #\n"
   ]
  }
 ],
 "metadata": {
  "jupytext": {
   "formats": "ipynb,md"
  },
  "kernelspec": {
   "display_name": "Python 3",
   "language": "python",
   "name": "python3"
  },
  "language_info": {
   "codemirror_mode": {
    "name": "ipython",
    "version": 3
   },
   "file_extension": ".py",
   "mimetype": "text/x-python",
   "name": "python",
   "nbconvert_exporter": "python",
   "pygments_lexer": "ipython3",
   "version": "3.6.5"
  }
 },
 "nbformat": 4,
 "nbformat_minor": 4
}
