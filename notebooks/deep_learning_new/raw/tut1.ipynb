{
 "cells": [
  {
   "cell_type": "markdown",
   "metadata": {},
   "source": [
    "# Introduction\n",
    "\n",
    "what is this course and what are we doing?\n",
    "\n",
    "# The scenario\n",
    "\n",
    "Considering house prices again.  mathematical model to predict house price based on number of beds, baths.\n",
    "\n",
    "one way to do this is to represent as a linear model.  so, there's some baseline price.  then, each bedroom adds more value.  each bathroom adds more value.  (show the equation)\n",
    "\n",
    "# old stuff\n",
    "\n",
    "neural networks look like this.  Composed of layers.  input.  calculation of output proceeds left to right\n",
    "\n",
    "(show the canonical picture)\n",
    "\n",
    "as we explain this picture, we'll work with an example.\n",
    "\n",
    "\n",
    "\n",
    "maybe \n",
    "\n",
    "\n",
    "- What are dense layers?\n",
    "\n",
    "- \"deep\" refers to the number of layers\n",
    "\n",
    "also:\n",
    "show how information moves through the neural network\n",
    "\n",
    "# Linear models\n",
    "\n",
    "Before we talk about neural networks, it's useful to refer to a concept from middle school mathematics: that of **linear equations**.  of the form y = mx+b. the placement of the line in the xy-plane is determined by the values of m and b.\n",
    "\n",
    "![](https://upload.wikimedia.org/wikipedia/commons/thumb/0/0e/Linear_Function_Graph.svg/1920px-Linear_Function_Graph.svg.png)\n",
    "\n",
    "given a bunch of data relating two quantities x and y, where the value of y depends on the value of x, we can try to express the relationship in terms of a line.  to do this, we need only select the values of m and b.  \n",
    "\n",
    "![](https://www.varsitytutors.com/assets/vt-hotmath-legacy/hotmath_help/topics/line-of-best-fit/lineofbestfit-h-2.gif)\n",
    "\n",
    "once we have this line, we can predict new points.\n",
    "\n",
    "this framework only works for one input.  what if we have multiple inputs, like ...?\n",
    "we can still fit a linear model,  but the equation looks slightly more complex. \n",
    "\n",
    "y = M1x1 + m2x2 + m3x3 + ... + b\n",
    "\n",
    "instead of one \"m\", we need a different \"m\" variable for each input. in general, for a real world problem, it's not possible to visualize this (would need to be visualized in many dimensions!)\n",
    "\n",
    "for instance, with this model, we predict the output as ... ?\n"
   ]
  },
  {
   "cell_type": "markdown",
   "metadata": {},
   "source": [
    "# Why deep learning?\n",
    "- deep learning performance improve with [1] more data [2] size of network / bigger models (other methods plateau), [3] more computation\n",
    "- NNs can do automatic feature extraction / feature learning (learn feature hierarchies / features from higher levels formed by composition of lower-level features -- learn complicated concepts by building them from simpler ones)"
   ]
  },
  {
   "cell_type": "markdown",
   "metadata": {},
   "source": [
    "# Code\n",
    "\n",
    "In this course, we'll use Keras to define neural networks.\n",
    "\n",
    "begin by defining this neural network in the python variable `model`."
   ]
  },
  {
   "cell_type": "code",
   "execution_count": 26,
   "metadata": {},
   "outputs": [],
   "source": [
    "from tensorflow import keras\n",
    "from tensorflow.keras import layers\n",
    "\n",
    "# Initialize a neural network\n",
    "model = keras.Sequential(\n",
    "    [\n",
    "        layers.Dense(3, activation=\"relu\", input_shape=(4,)),\n",
    "        layers.Dense(2, activation=\"relu\"),\n",
    "        layers.Dense(1)\n",
    "    ]\n",
    ")"
   ]
  },
  {
   "cell_type": "markdown",
   "metadata": {},
   "source": [
    "You can display the contents of the neural network with `model.summary()`."
   ]
  },
  {
   "cell_type": "code",
   "execution_count": 27,
   "metadata": {},
   "outputs": [
    {
     "name": "stdout",
     "output_type": "stream",
     "text": [
      "Model: \"sequential_3\"\n",
      "_________________________________________________________________\n",
      "Layer (type)                 Output Shape              Param #   \n",
      "=================================================================\n",
      "dense_9 (Dense)              (None, 3)                 15        \n",
      "_________________________________________________________________\n",
      "dense_10 (Dense)             (None, 2)                 8         \n",
      "_________________________________________________________________\n",
      "dense_11 (Dense)             (None, 1)                 3         \n",
      "=================================================================\n",
      "Total params: 26\n",
      "Trainable params: 26\n",
      "Non-trainable params: 0\n",
      "_________________________________________________________________\n"
     ]
    }
   ],
   "source": [
    "# Display contents of the neural network\n",
    "model.summary()"
   ]
  },
  {
   "cell_type": "markdown",
   "metadata": {},
   "source": [
    "outputs one row for each layer. number of parameters is just number of weights in the model.  take the time to check that this model should have 26 parameters - does it make sense to you?\n",
    "\n",
    "when we just create a neural network, the weights are entirely random and so will yield horrible predictions.\n",
    "\n",
    "we'll have to train the network to detect patterns in the training data. will learn how to do that in upcoming tutorial."
   ]
  }
 ],
 "metadata": {
  "kernelspec": {
   "display_name": "Python 3",
   "language": "python",
   "name": "python3"
  },
  "language_info": {
   "codemirror_mode": {
    "name": "ipython",
    "version": 3
   },
   "file_extension": ".py",
   "mimetype": "text/x-python",
   "name": "python",
   "nbconvert_exporter": "python",
   "pygments_lexer": "ipython3",
   "version": "3.6.6"
  }
 },
 "nbformat": 4,
 "nbformat_minor": 2
}
