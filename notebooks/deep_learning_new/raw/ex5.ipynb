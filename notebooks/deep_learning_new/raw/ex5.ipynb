{
 "cells": [],
 "metadata": {
  "jupytext": {
   "cell_metadata_filter": "-all",
   "formats": "ipynb,md"
  }
 },
 "nbformat": 4,
 "nbformat_minor": 4
}
