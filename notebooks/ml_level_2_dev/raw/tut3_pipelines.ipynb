{
 "cells": [
  {
   "cell_type": "markdown",
   "metadata": {},
   "source": [
    "In this tutorial, you will learn how to use **pipelines** to clean up your modeling code.\n",
    "\n",
    "# Introduction\n",
    "\n",
    "**Pipelines** are a simple way to keep your data preprocessing and modeling code organized.  Specifically, a pipeline bundles preprocessing and modeling steps so you can use the whole bundle as if it were a single step.\n",
    "\n",
    "Many data scientists hack together models without pipelines, but pipelines have some important benefits. Those include:\n",
    "1. **Cleaner Code:** Accounting for data at each step of preprocessing can get messy.  With a pipeline, you won't need to manually keep track of your training and validation data at each step.\n",
    "2. **Fewer Bugs:** There are fewer opportunities to misapply a step or forget a preprocessing step.\n",
    "3. **Easier to Productionize:** It can be surprisingly hard to transition a model from a prototype to something deployable at scale.  We won't go into the many related concerns here, but pipelines can help.\n",
    "4. **More Options for Model Validation:** You will see an example in the next tutorial, which covers cross-validation.\n",
    "\n",
    "# Example\n",
    "\n",
    "As in the previous tutorial, we will work with the [Melbourne Housing dataset](https://www.kaggle.com/dansbecker/melbourne-housing-snapshot/home).  \n",
    "\n",
    "We won't focus on the data loading step. Instead, you can imagine you are at a point where you already have the training and validation data in `train_X`, `valid_X`, `train_y`, and `valid_y`. "
   ]
  },
  {
   "cell_type": "code",
   "execution_count": null,
   "metadata": {
    "_kg_hide-input": true,
    "_kg_hide-output": false
   },
   "outputs": [],
   "source": [
    "#$HIDE$\n",
    "import pandas as pd\n",
    "from sklearn.model_selection import train_test_split\n",
    "\n",
    "# read the data\n",
    "data = pd.read_csv('../input/melbourne-housing-snapshot/melb_data.csv')\n",
    "\n",
    "# select subset of predictors\n",
    "cols_to_use = ['Rooms', 'Distance', 'Landsize', 'BuildingArea', 'YearBuilt']\n",
    "X = data[cols_to_use]\n",
    "\n",
    "# select target\n",
    "y = data.Price\n",
    "\n",
    "# separate data into training and validation sets\n",
    "train_X, valid_X, train_y, valid_y = train_test_split(X, y)"
   ]
  },
  {
   "cell_type": "markdown",
   "metadata": {},
   "source": [
    "### Without pipeline\n",
    "\n",
    "As you've learned, we can use an **imputer** to fill in missing values and train a **random forest** model to make predictions.  This can be done without a pipeline with the code below:"
   ]
  },
  {
   "cell_type": "code",
   "execution_count": null,
   "metadata": {},
   "outputs": [],
   "source": [
    "from sklearn.ensemble import RandomForestRegressor\n",
    "from sklearn.impute import SimpleImputer\n",
    "\n",
    "# define imputer and model\n",
    "my_imputer = SimpleImputer()\n",
    "my_model = RandomForestRegressor()\n",
    "\n",
    "# imputation of training and validation sets\n",
    "imputed_train_X = my_imputer.fit_transform(train_X)\n",
    "imputed_valid_X = my_imputer.transform(valid_X)\n",
    "\n",
    "# fit model\n",
    "my_model.fit(imputed_train_X, train_y)\n",
    "\n",
    "# generate predictions\n",
    "predictions = my_model.predict(imputed_valid_X)"
   ]
  },
  {
   "cell_type": "markdown",
   "metadata": {},
   "source": [
    "### With pipeline\n",
    "\n",
    "Instead of dealing with the imputer and model training in separate steps, we can bundle them together in a pipeline with the `make_pipeline()` function as shown below. "
   ]
  },
  {
   "cell_type": "code",
   "execution_count": null,
   "metadata": {},
   "outputs": [],
   "source": [
    "from sklearn.pipeline import make_pipeline\n",
    "\n",
    "# bundle imputer and model in a pipeline\n",
    "my_pipeline = make_pipeline(SimpleImputer(), RandomForestRegressor())\n",
    "\n",
    "# imputation of train dataset, fit model\n",
    "my_pipeline.fit(train_X, train_y)\n",
    "\n",
    "# imputation of validation dataset, generate predictions\n",
    "predictions = my_pipeline.predict(valid_X)"
   ]
  },
  {
   "cell_type": "markdown",
   "metadata": {},
   "source": [
    "In the code cell above, we fit and predict using the pipeline as a fused whole.  \n",
    "\n",
    "![pipelines](./images/tut4_pipeline.png)\n",
    "\n",
    "This simplifies our original code in a few ways:\n",
    "- With the pipeline, we transform the training data with the imputer and fit the model in a single line of code.  In contrast, without the pipeline, we had to work with the imputer and model in separate steps.\n",
    "- With the pipeline, we supply the unprocessed features in `valid_X` to the `predict()` command; the pipeline automatically imputes the missing values before generating predictions.  However, without the pipeline, we have to remember to separately preprocess the validation features before making predictions.\n",
    "\n",
    "# Conclusion\n",
    "\n",
    "This particular pipeline was only a small improvement in code elegance. But pipelines become increasingly valuable as your data processing becomes increasingly sophisticated.\n",
    "\n",
    "# Your Turn\n",
    "\n",
    "xyz"
   ]
  }
 ],
 "metadata": {
  "kernelspec": {
   "display_name": "Python 3",
   "language": "python",
   "name": "python3"
  },
  "language_info": {
   "codemirror_mode": {
    "name": "ipython",
    "version": 3
   },
   "file_extension": ".py",
   "mimetype": "text/x-python",
   "name": "python",
   "nbconvert_exporter": "python",
   "pygments_lexer": "ipython3",
   "version": "3.6.5"
  }
 },
 "nbformat": 4,
 "nbformat_minor": 1
}
