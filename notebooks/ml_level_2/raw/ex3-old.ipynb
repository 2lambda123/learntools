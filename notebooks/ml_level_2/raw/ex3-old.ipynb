{
 "cells": [
  {
   "cell_type": "markdown",
   "metadata": {},
   "source": [
    "We'll work with a dataset containing housing characteristics and skip the basic data set-up code.  The end result is:\n",
    "- The housing characteristics for the training data are stored in a DataFrame `train_predictors`.  We'll use it to predict home prices in a Series called `target`.  \n",
    "- The housing characteristics for the test data are stored in a DataFrame `test_predictors`."
   ]
  },
  {
   "cell_type": "code",
   "execution_count": null,
   "metadata": {},
   "outputs": [],
   "source": [
    "import pandas as pd\n",
    "from sklearn.impute import SimpleImputer\n",
    "from sklearn.model_selection import train_test_split\n",
    "\n",
    "# Read the data\n",
    "X = pd.read_csv('../input/train.csv', index_col='Id') \n",
    "X_test = pd.read_csv('../input/test.csv', index_col='Id')\n",
    "\n",
    "# Remove rows with missing target, separate target from predictors\n",
    "X.dropna(axis=0, subset=['SalePrice'], inplace=True)\n",
    "y = X.SalePrice\n",
    "X.drop(['SalePrice'], axis=1, inplace=True)\n",
    "\n",
    "# Select numerical columns\n",
    "numerical_cols = [cname for cname in X.columns if X[cname].dtype in ['int64', 'float64']]\n",
    "\n",
    "# Drop numerical columns with missing values\n",
    "cols_with_missing = [col for col in numerical_cols if X[col].isnull().any()] \n",
    "X.drop(cols_with_missing, axis=1, inplace=True)\n",
    "X_test.drop(cols_with_missing, axis=1, inplace=True)\n",
    "\n",
    "# Break off validation set from training data\n",
    "X_train_tmp, X_valid_tmp, y_train, y_valid = train_test_split(X, y,\n",
    "                                                              train_size=0.8, test_size=0.2,\n",
    "                                                              random_state=0)\n",
    "\n",
    "# Get categorical columns\n",
    "object_cols = [cname for cname in X_train_tmp.columns if\n",
    "               X_train_tmp[cname].dtype == \"object\"]\n",
    "\n",
    "# Impute missing values \n",
    "my_imputer = SimpleImputer(strategy='most_frequent')\n",
    "cat_cols_train = pd.DataFrame(my_imputer.fit_transform(X_train_tmp[object_cols]))\n",
    "cat_cols_valid = pd.DataFrame(my_imputer.transform(X_valid_tmp[object_cols]))\n",
    "\n",
    "# Imputation removed index and column names; put them back\n",
    "cat_cols_train.index = X_train_tmp.index\n",
    "cat_cols_valid.index = X_valid_tmp.index\n",
    "cat_cols_train.columns = X_train_tmp[object_cols].columns\n",
    "cat_cols_valid.columns = X_valid_tmp[object_cols].columns\n",
    "\n",
    "# Replace categorical columns with imputed categorical columns\n",
    "X_train = pd.concat([X_train_tmp.drop(object_cols, axis=1), cat_cols_train], axis=1)\n",
    "X_valid = pd.concat([X_valid_tmp.drop(object_cols, axis=1), cat_cols_valid], axis=1)"
   ]
  },
  {
   "cell_type": "code",
   "execution_count": null,
   "metadata": {},
   "outputs": [],
   "source": [
    "# get list of categorical variables\n",
    "print(\"Categorical variables:\")\n",
    "\n",
    "for col in object_cols:\n",
    "    print(col, ':', len(X_train[col].unique()))"
   ]
  },
  {
   "cell_type": "code",
   "execution_count": null,
   "metadata": {},
   "outputs": [],
   "source": [
    "from sklearn.ensemble import RandomForestRegressor\n",
    "from sklearn.metrics import mean_absolute_error\n",
    "\n",
    "# function for comparing different approaches\n",
    "def score_dataset(X_train, X_valid, y_train, y_valid):\n",
    "    model = RandomForestRegressor(n_estimators=100, random_state=0)\n",
    "    model.fit(X_train, y_train)\n",
    "    preds = model.predict(X_valid)\n",
    "    return mean_absolute_error(y_valid, preds)"
   ]
  },
  {
   "cell_type": "code",
   "execution_count": null,
   "metadata": {},
   "outputs": [],
   "source": [
    "drop_X_train = X_train.select_dtypes(exclude=['object'])\n",
    "drop_X_valid = X_valid.select_dtypes(exclude=['object'])\n",
    "\n",
    "print(\"MAE from Approach 1 (Drop categorical variables):\")\n",
    "print(score_dataset(drop_X_train, drop_X_valid, y_train, y_valid))"
   ]
  },
  {
   "cell_type": "code",
   "execution_count": null,
   "metadata": {},
   "outputs": [],
   "source": [
    "from sklearn.preprocessing import LabelEncoder\n",
    "\n",
    "# make copy to avoid changing original data \n",
    "label_X_train = X_train.copy()\n",
    "label_X_valid = X_valid.copy()\n",
    "\n",
    "# apply label encoder to each column with categorical data\n",
    "my_encoder = LabelEncoder()\n",
    "X = pd.concat([X_train, X_valid], axis=0)\n",
    "for col in object_cols:\n",
    "    my_encoder.fit(X[col])\n",
    "    label_X_train[col] = my_encoder.transform(X_train[col])\n",
    "    label_X_valid[col] = my_encoder.transform(X_valid[col])\n",
    "\n",
    "print(\"MAE from Approach 2 (Label Encoding):\") \n",
    "print(score_dataset(label_X_train, label_X_valid, y_train, y_valid))"
   ]
  },
  {
   "cell_type": "code",
   "execution_count": null,
   "metadata": {},
   "outputs": [],
   "source": [
    "# one-hot encode categorical data\n",
    "OH_X_train = pd.get_dummies(X_train)\n",
    "OH_X_valid = pd.get_dummies(X_valid)\n",
    "\n",
    "# ensure columns are in same order in both datasets\n",
    "OH_X_train, OH_X_valid = OH_X_train.align(OH_X_valid, join='inner', axis=1)\n",
    "\n",
    "print(\"MAE from Approach 3 (One-Hot Encoding):\") \n",
    "print(score_dataset(OH_X_train, OH_X_valid, y_train, y_valid))"
   ]
  },
  {
   "cell_type": "code",
   "execution_count": null,
   "metadata": {},
   "outputs": [],
   "source": [
    "high_cardinality_cols = [cname for cname in X_train.columns if\n",
    "                         X_train[cname].nunique() > 10 and\n",
    "                         X_train[cname].dtype == \"object\"]\n",
    "\n",
    "print(high_cardinality_cols)"
   ]
  },
  {
   "cell_type": "code",
   "execution_count": null,
   "metadata": {},
   "outputs": [],
   "source": [
    "# one-hot encode categorical data\n",
    "OH_X_train_low = pd.get_dummies(X_train.drop(high_cardinality_cols, axis=1))\n",
    "OH_X_valid_low = pd.get_dummies(X_valid.drop(high_cardinality_cols, axis=1))\n",
    "\n",
    "# ensure columns are in same order in both datasets\n",
    "OH_X_train_low, OH_X_valid_low = OH_X_train_low.align(OH_X_valid_low, join='inner', axis=1)\n",
    "\n",
    "print(\"MAE from Approach 3 (One-Hot Encoding):\") \n",
    "print(score_dataset(OH_X_train_low, OH_X_valid_low, y_train, y_valid))"
   ]
  }
 ],
 "metadata": {
  "kernelspec": {
   "display_name": "Python 3",
   "language": "python",
   "name": "python3"
  },
  "language_info": {
   "codemirror_mode": {
    "name": "ipython",
    "version": 3
   },
   "file_extension": ".py",
   "mimetype": "text/x-python",
   "name": "python",
   "nbconvert_exporter": "python",
   "pygments_lexer": "ipython3",
   "version": "3.6.5"
  }
 },
 "nbformat": 4,
 "nbformat_minor": 2
}
