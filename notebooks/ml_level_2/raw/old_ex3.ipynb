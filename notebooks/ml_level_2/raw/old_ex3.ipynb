{
 "cells": [
  {
   "cell_type": "markdown",
   "metadata": {},
   "source": [
    "We'll work with a dataset containing housing characteristics and skip the basic data set-up code.  The end result is:\n",
    "- The housing characteristics for the training data are stored in a DataFrame `train_predictors`.  We'll use it to predict home prices in a Series called `target`.  \n",
    "- The housing characteristics for the test data are stored in a DataFrame `test_predictors`."
   ]
  },
  {
   "cell_type": "code",
   "execution_count": null,
   "metadata": {},
   "outputs": [],
   "source": [
    "import pandas as pd\n",
    "from sklearn.model_selection import train_test_split\n",
    "\n",
    "# read the data\n",
    "train_data = pd.read_csv('../input/train.csv')\n",
    "test_data = pd.read_csv('../input/test.csv')\n",
    "\n",
    "# remove rows with missing target, separate target from predictors\n",
    "train_data.dropna(axis=0, subset=['SalePrice'], inplace=True)\n",
    "y = train_data.SalePrice\n",
    "\n",
    "# drop columns with missing values (simplest approach)\n",
    "cols_with_missing = [col for col in train_data.columns if train_data[col].isnull().any()]                                  \n",
    "train_data.drop(['Id', 'SalePrice'] + cols_with_missing, axis=1, inplace=True)\n",
    "test_data.drop(['Id'] + cols_with_missing, axis=1, inplace=True)\n",
    "\n",
    "# \"cardinality\" means the number of unique values in a column\n",
    "# select categorical columns with relatively low cardinality (convenient but arbitrary)\n",
    "low_cardinality_cols = [cname for cname in train_data.columns if\n",
    "                        train_data[cname].nunique() < 10 and\n",
    "                        train_data[cname].dtype == \"object\"]\n",
    "\n",
    "# select numeric columns\n",
    "numeric_cols = [cname for cname in train_data.columns if\n",
    "                train_data[cname].dtype in ['int64', 'float64']]\n",
    "\n",
    "# keep selected columns only\n",
    "my_cols = low_cardinality_cols + numeric_cols\n",
    "X = train_data[my_cols]\n",
    "X_test = test_data[my_cols]\n",
    "\n",
    "# break off validation set from training data\n",
    "X_train, X_valid, y_train, y_valid = train_test_split(X, y, train_size=0.7, test_size=0.3,\n",
    "                                                      random_state=0)"
   ]
  },
  {
   "cell_type": "code",
   "execution_count": null,
   "metadata": {},
   "outputs": [],
   "source": [
    "X_train.head()"
   ]
  },
  {
   "cell_type": "code",
   "execution_count": null,
   "metadata": {},
   "outputs": [],
   "source": [
    "# get list of categorical variables\n",
    "s = (X_train.dtypes == 'object')\n",
    "object_cols = list(s[s].index)\n",
    "\n",
    "print(\"Categorical variables:\")\n",
    "print(object_cols)"
   ]
  },
  {
   "cell_type": "code",
   "execution_count": null,
   "metadata": {},
   "outputs": [],
   "source": [
    "from sklearn.ensemble import RandomForestRegressor\n",
    "from sklearn.metrics import mean_absolute_error\n",
    "\n",
    "# function for comparing different approaches\n",
    "def score_dataset(X_train, X_valid, y_train, y_valid):\n",
    "    model = RandomForestRegressor(n_estimators=100, random_state=0)\n",
    "    model.fit(X_train, y_train)\n",
    "    preds = model.predict(X_valid)\n",
    "    return mean_absolute_error(y_valid, preds)"
   ]
  },
  {
   "cell_type": "code",
   "execution_count": null,
   "metadata": {},
   "outputs": [],
   "source": [
    "drop_X_train = X_train.select_dtypes(exclude=['object'])\n",
    "drop_X_valid = X_valid.select_dtypes(exclude=['object'])\n",
    "\n",
    "print(\"MAE from Approach 1 (Drop categorical variables):\")\n",
    "print(score_dataset(drop_X_train, drop_X_valid, y_train, y_valid))"
   ]
  },
  {
   "cell_type": "code",
   "execution_count": null,
   "metadata": {},
   "outputs": [],
   "source": [
    "from sklearn.preprocessing import LabelEncoder\n",
    "\n",
    "# make copy to avoid changing original data \n",
    "label_X_train = X_train.copy()\n",
    "label_X_valid = X_valid.copy()\n",
    "\n",
    "# apply label encoder to each column with categorical data\n",
    "my_encoder = LabelEncoder()\n",
    "for col in object_cols:\n",
    "    my_encoder.fit(X[col])\n",
    "    label_X_train[col] = my_encoder.transform(X_train[col])\n",
    "    label_X_valid[col] = my_encoder.transform(X_valid[col])\n",
    "\n",
    "print(\"MAE from Approach 2 (Label Encoding):\") \n",
    "print(score_dataset(label_X_train, label_X_valid, y_train, y_valid))"
   ]
  },
  {
   "cell_type": "code",
   "execution_count": null,
   "metadata": {},
   "outputs": [],
   "source": [
    "# one-hot encode categorical data\n",
    "OH_X_train = pd.get_dummies(X_train)\n",
    "OH_X_valid = pd.get_dummies(X_valid)\n",
    "\n",
    "# ensure columns are in same order in both datasets\n",
    "OH_X_train, OH_X_valid = OH_X_train.align(OH_X_valid, join='inner', axis=1)\n",
    "\n",
    "print(\"MAE from Approach 3 (One-Hot Encoding):\") \n",
    "print(score_dataset(OH_X_train, OH_X_valid, y_train, y_valid))"
   ]
  },
  {
   "cell_type": "markdown",
   "metadata": {},
   "source": [
    "from ex1 // imputation + encoding"
   ]
  },
  {
   "cell_type": "code",
   "execution_count": null,
   "metadata": {},
   "outputs": [],
   "source": [
    "# \"cardinality\" means the number of unique values in a column\n",
    "# select categorical columns with relatively low cardinality (convenient but arbitrary)\n",
    "low_cardinality_cols = [cname for cname in train_data.columns if\n",
    "                        train_data[cname].nunique() < 10 and\n",
    "                        train_data[cname].dtype == \"object\"]\n",
    "\n",
    "# select numeric columns\n",
    "numeric_cols = [cname for cname in train_data.columns if\n",
    "                train_data[cname].dtype in ['int64', 'float64']]\n",
    "\n",
    "# keep selected columns only\n",
    "my_cols = low_cardinality_cols + numeric_cols\n",
    "X = train_data[my_cols]\n",
    "X_test_full = test_data[my_cols]\n",
    "\n",
    "# break off validation set from training data\n",
    "X_train_full, X_valid_full, y_train_full, y_valid_full = train_test_split(X, y, \n",
    "                                                                          train_size=0.7, test_size=0.3,\n",
    "                                                                          random_state=0)"
   ]
  },
  {
   "cell_type": "code",
   "execution_count": null,
   "metadata": {},
   "outputs": [],
   "source": [
    "X_train_full.head()"
   ]
  }
 ],
 "metadata": {
  "kernelspec": {
   "display_name": "Python 3",
   "language": "python",
   "name": "python3"
  },
  "language_info": {
   "codemirror_mode": {
    "name": "ipython",
    "version": 3
   },
   "file_extension": ".py",
   "mimetype": "text/x-python",
   "name": "python",
   "nbconvert_exporter": "python",
   "pygments_lexer": "ipython3",
   "version": "3.6.5"
  }
 },
 "nbformat": 4,
 "nbformat_minor": 2
}
