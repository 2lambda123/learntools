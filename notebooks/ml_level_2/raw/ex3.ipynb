{
 "cells": [
  {
   "cell_type": "markdown",
   "metadata": {},
   "source": [
    "In this exercise, you will leverage what you learned in the two previous tutorials to deal with **categorical variables** and **missing values** in a challenging dataset.\n",
    "\n",
    "# Setup\n",
    "\n",
    "The questions below will give you feedback on your work. Run the following cell to set up the feedback system."
   ]
  },
  {
   "cell_type": "code",
   "execution_count": null,
   "metadata": {},
   "outputs": [],
   "source": [
    "# Set up code checking\n",
    "from learntools.core import binder\n",
    "binder.bind(globals())\n",
    "from learntools.ml_level_2.ex3 import *\n",
    "print(\"Setup Complete\")"
   ]
  },
  {
   "cell_type": "markdown",
   "metadata": {},
   "source": [
    "You will work with data from the [Housing Prices Competition for Kaggle Learn Users](https://www.kaggle.com/c/home-data-for-ml-course). \n",
    "\n",
    "![Ames Housing dataset image](./images/ex1_housesbanner.png)\n",
    "\n",
    "With 79 explanatory variables describing (almost) every aspect of residential homes in Ames, Iowa, your goal is to predict the final price of each home.  \n",
    "\n",
    "Run the next code cell without changes to load the training and validation sets in `X_train`, `X_valid`, `y_train`, and `y_valid`.  The test set is loaded in `X_test`."
   ]
  },
  {
   "cell_type": "code",
   "execution_count": null,
   "metadata": {},
   "outputs": [],
   "source": [
    "import pandas as pd\n",
    "from sklearn.model_selection import train_test_split\n",
    "\n",
    "# Read the data\n",
    "X = pd.read_csv('../input/home-data-for-ml-course/train.csv', index_col='Id')\n",
    "X_test = pd.read_csv('../input/home-data-for-ml-course/test.csv', index_col='Id')\n",
    "\n",
    "# Remove rows with missing target, separate target from predictors\n",
    "X.dropna(axis=0, subset=['SalePrice'], inplace=True)\n",
    "y = X.SalePrice\n",
    "X.drop(['SalePrice'], axis=1, inplace=True)\n",
    "\n",
    "# Break off validation set from training data\n",
    "X_train, X_valid, y_train, y_valid = train_test_split(X, y, train_size=0.8, test_size=0.2,\n",
    "                                                      random_state=0)\n",
    "\n",
    "# \"Cardinality\" means the number of unique values in a column\n",
    "# Select categorical columns with relatively low cardinality (convenient but arbitrary)\n",
    "low_cardinality_cols = [cname for cname in X_train.columns if\n",
    "                        X_train[cname].nunique() < 10 and X_train[cname].dtype == \"object\"]\n",
    "\n",
    "# Select numeric columns\n",
    "numeric_cols = [cname for cname in X_train.columns if X_train[cname].dtype in ['int64', 'float64']]\n",
    "\n",
    "# Keep selected columns only\n",
    "my_cols = low_cardinality_cols + numeric_cols\n",
    "X_train = X_train[my_cols]\n",
    "X_valid = X_valid[my_cols]\n",
    "X_test = X_test[my_cols]"
   ]
  },
  {
   "cell_type": "markdown",
   "metadata": {},
   "source": [
    "Use the next code cell to print the first several rows of the data."
   ]
  },
  {
   "cell_type": "code",
   "execution_count": null,
   "metadata": {},
   "outputs": [],
   "source": [
    "X_train.head()"
   ]
  },
  {
   "cell_type": "markdown",
   "metadata": {},
   "source": [
    "If you try to use the data as-is to train a random forest model, you'll get an error.  This is because the data currently contains categorical variables and missing data that must be preprocessed.\n",
    "\n",
    "In the first two steps of this exercise, you'll preprocess the data.  Then, in the third (and final!) step, you'll fit a random forest model and test its performance.\n",
    "\n",
    "![Exercise Steps Visualized](./images/ex2_steps.png)\n",
    "\n",
    "# Step 1: Deal with categorical variables\n",
    "\n",
    "In this step, you'll preprocess the training and validation sets in `X_train` and `X_valid`.  The preprocessed datasets with encoded categorical variables should be stored in `X_train_1` and `X_valid_1`.  \n",
    "\n",
    "In order for this step to be marked as correct, `X_train_1` and `X_valid_1` should have any categorical variables in a format that is recognizable by a scikit-learn random forest model."
   ]
  },
  {
   "cell_type": "code",
   "execution_count": null,
   "metadata": {},
   "outputs": [],
   "source": [
    "X_train_1 = ____\n",
    "X_valid_1 = ____\n",
    "\n",
    "# Check your answer\n",
    "step_1.check()"
   ]
  },
  {
   "cell_type": "code",
   "execution_count": null,
   "metadata": {},
   "outputs": [],
   "source": [
    "#%%RM_IF(PROD)%\n",
    "# One-hot encode categorical data\n",
    "X_train_1 = pd.get_dummies(X_train)\n",
    "X_valid_1 = pd.get_dummies(X_valid)\n",
    "\n",
    "# Ensure columns are in same order in both datasets\n",
    "X_train_1, X_valid_1 = X_train_1.align(X_valid_1, join='inner', axis=1)\n",
    "\n",
    "step_1.assert_check_passed()"
   ]
  },
  {
   "cell_type": "code",
   "execution_count": null,
   "metadata": {},
   "outputs": [],
   "source": [
    "# Lines below will give you a hint or solution code\n",
    "#_COMMENT_IF(PROD)_\n",
    "step_1.hint()\n",
    "#_COMMENT_IF(PROD)_\n",
    "step_1.solution()"
   ]
  },
  {
   "cell_type": "markdown",
   "metadata": {},
   "source": [
    "# Step 2: Deal with missing values\n",
    "\n",
    "Now, you'll need to deal with missing values.  Use `X_train_1` and `X_valid_1` as a starting point.  The preprocessed datasets with missing values either removed or imputed should be stored in `X_train_2` and `X_valid_2`.\n",
    "\n",
    "In order for this step to be marked as correct, `X_train_2` and `X_valid_2` should not have any missing values (_and any categorical variables should be properly encoded -- but you get this for free from your work in Step 1!_)."
   ]
  },
  {
   "cell_type": "code",
   "execution_count": null,
   "metadata": {},
   "outputs": [],
   "source": [
    "X_train_2 = ____\n",
    "X_valid_2 = ____\n",
    "\n",
    "# Check your answer\n",
    "step_2.check()"
   ]
  },
  {
   "cell_type": "code",
   "execution_count": null,
   "metadata": {},
   "outputs": [],
   "source": [
    "#%%RM_IF(PROD)%\n",
    "from sklearn.impute import SimpleImputer\n",
    "\n",
    "# Make copy to avoid changing original data (when imputing)\n",
    "X_train_imp = X_train_1.copy()\n",
    "X_valid_imp = X_valid_1.copy()\n",
    "\n",
    "# Get names of columns with missing values\n",
    "cols_with_missing = [col for col in X_train_1.columns if X_train_1[col].isnull().any()]\n",
    "\n",
    "# Make new columns indicating what will be imputed\n",
    "for col in cols_with_missing:\n",
    "    X_train_imp[col + '_was_missing'] = X_train_1[col].isnull()\n",
    "    X_valid_imp[col + '_was_missing'] = X_valid_1[col].isnull()\n",
    "    \n",
    "# Imputation\n",
    "my_imputer = SimpleImputer()\n",
    "X_train_2 = pd.DataFrame(my_imputer.fit_transform(X_train_imp))\n",
    "X_valid_2 = pd.DataFrame(my_imputer.transform(X_valid_imp))\n",
    "\n",
    "# Imputation removed column names; put them back\n",
    "X_train_2.columns = X_train_imp.columns\n",
    "X_valid_2.columns = X_valid_imp.columns\n",
    "\n",
    "step_2.assert_check_passed()"
   ]
  },
  {
   "cell_type": "code",
   "execution_count": null,
   "metadata": {},
   "outputs": [],
   "source": [
    "# Lines below will give you a hint or solution code\n",
    "#_COMMENT_IF(PROD)_\n",
    "step_2.hint()\n",
    "#_COMMENT_IF(PROD)_\n",
    "step_2.solution()"
   ]
  },
  {
   "cell_type": "markdown",
   "metadata": {},
   "source": [
    "# Step 3: Test your performance\n",
    "\n",
    "Now that your data is preprocessed, you're ready to plug it in to a model!  You'll use the same `score_dataset()` function from the previous tutorial.  This function reports the [mean absolute error](https://en.wikipedia.org/wiki/Mean_absolute_error) (MAE) from a random forest model."
   ]
  },
  {
   "cell_type": "code",
   "execution_count": null,
   "metadata": {},
   "outputs": [],
   "source": [
    "from sklearn.ensemble import RandomForestRegressor\n",
    "from sklearn.metrics import mean_absolute_error\n",
    "\n",
    "# Function for comparing different approaches\n",
    "def score_dataset(X_train, X_valid, y_train, y_valid):\n",
    "    model = RandomForestRegressor(n_estimators=100, random_state=0)\n",
    "    model.fit(X_train, y_train)\n",
    "    preds = model.predict(X_valid)\n",
    "    return mean_absolute_error(y_valid, preds)"
   ]
  },
  {
   "cell_type": "markdown",
   "metadata": {},
   "source": [
    "Run the code cell below without changes to obtain your MAE score.  \n",
    "\n",
    "In order for this step to be marked as correct, your MAE score must be less than 18000.  If your MAE score is too high, please revisit Step 1 and Step 2 above to test alternative preprocessing techniques."
   ]
  },
  {
   "cell_type": "code",
   "execution_count": null,
   "metadata": {},
   "outputs": [],
   "source": [
    "score = score_dataset(X_train_2, X_valid_2, y_train, y_valid)\n",
    "print('MAE score:', score)\n",
    "\n",
    "# Check your answer\n",
    "step_3.check()"
   ]
  },
  {
   "cell_type": "code",
   "execution_count": null,
   "metadata": {},
   "outputs": [],
   "source": [
    "#%%RM_IF(PROD)%\n",
    "score = score_dataset(X_train_2, X_valid_2, y_train, y_valid)\n",
    "print('MAE score:', score)\n",
    "\n",
    "step_3.assert_check_passed()"
   ]
  },
  {
   "cell_type": "code",
   "execution_count": null,
   "metadata": {},
   "outputs": [],
   "source": [
    "# Line below will give you a hint \n",
    "#_COMMENT_IF(PROD)_\n",
    "step_3.hint()"
   ]
  },
  {
   "cell_type": "markdown",
   "metadata": {},
   "source": [
    "# Keep going\n",
    "\n",
    "Move on to learn all about how to use **[pipelines](#$NEXT_NOTEBOOK_URL$)** to improve your machine learning code!"
   ]
  }
 ],
 "metadata": {
  "kernelspec": {
   "display_name": "Python 3",
   "language": "python",
   "name": "python3"
  },
  "language_info": {
   "codemirror_mode": {
    "name": "ipython",
    "version": 3
   },
   "file_extension": ".py",
   "mimetype": "text/x-python",
   "name": "python",
   "nbconvert_exporter": "python",
   "pygments_lexer": "ipython3",
   "version": "3.6.5"
  }
 },
 "nbformat": 4,
 "nbformat_minor": 2
}
