{
 "cells": [
  {
   "cell_type": "markdown",
   "metadata": {},
   "source": [
    "### Welcome to [Kaggle Learn](https://www.kaggle.com/learn/overview)'s _Intermediate Machine Learning_ micro-course!\n",
    "\n",
    "In this course, you will accelerate your machine learning expertise by learning how to:\n",
    "- tackle data types often found in real-world datasets (**missing values**, **categorical variables**),\n",
    "- use **pipelines** to improve the quality of your machine learning code,\n",
    "- leverage advanced techniques for model validation (**cross-validation**),\n",
    "- build state-of-the-art models that are widely used to win Kaggle competitions (**XGBoost**), and\n",
    "- avoid a common and important data science mistake (**leakage**).\n",
    "\n",
    "# Prerequisites\n",
    "\n",
    "...\n",
    "\n",
    "# Measure your progress\n",
    "\n",
    "In the hands-on coding exercises, you'll work with data from the [Housing Prices Competition for Kaggle Learn Users](https://www.kaggle.com/c/home-data-for-ml-course). \n",
    "\n",
    "learn about topics that will help you to gradually perform better and better"
   ]
  },
  {
   "cell_type": "code",
   "execution_count": null,
   "metadata": {},
   "outputs": [],
   "source": []
  }
 ],
 "metadata": {
  "kernelspec": {
   "display_name": "Python 3",
   "language": "python",
   "name": "python3"
  },
  "language_info": {
   "codemirror_mode": {
    "name": "ipython",
    "version": 3
   },
   "file_extension": ".py",
   "mimetype": "text/x-python",
   "name": "python",
   "nbconvert_exporter": "python",
   "pygments_lexer": "ipython3",
   "version": "3.6.5"
  }
 },
 "nbformat": 4,
 "nbformat_minor": 2
}
