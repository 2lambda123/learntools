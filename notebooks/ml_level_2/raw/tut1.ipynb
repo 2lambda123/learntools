{
 "cells": [
  {
   "cell_type": "markdown",
   "metadata": {},
   "source": [
    "### Welcome to [Kaggle Learn](https://www.kaggle.com/learn/overview)'s _Intermediate Machine Learning_ micro-course!\n",
    "\n",
    "insert intro here\n",
    "\n",
    "# Prerequisites\n",
    "\n",
    "...\n",
    "\n",
    "# Measure your progress\n",
    "\n",
    "In the hands-on coding exercises, you'll work with data from the [Housing Prices Competition for Kaggle Learn Users](https://www.kaggle.com/c/home-data-for-ml-course). \n",
    "\n",
    "learn about topics that will help you to gradually perform better and better"
   ]
  },
  {
   "cell_type": "code",
   "execution_count": null,
   "metadata": {},
   "outputs": [],
   "source": []
  }
 ],
 "metadata": {
  "kernelspec": {
   "display_name": "Python 3",
   "language": "python",
   "name": "python3"
  },
  "language_info": {
   "codemirror_mode": {
    "name": "ipython",
    "version": 3
   },
   "file_extension": ".py",
   "mimetype": "text/x-python",
   "name": "python",
   "nbconvert_exporter": "python",
   "pygments_lexer": "ipython3",
   "version": "3.6.5"
  }
 },
 "nbformat": 4,
 "nbformat_minor": 2
}
