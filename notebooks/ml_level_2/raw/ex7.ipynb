{
 "cells": [
  {
   "cell_type": "markdown",
   "metadata": {},
   "source": [
    "Most people find target leakage very tricky until they've thought about it for a long time.\n",
    "\n",
    "So, before trying to think about leakage in the housing price example, we'll go through a few examples in other applications. Things will feel more familiar once you come back to a question about house prices.\n",
    "\n",
    "# Setup\n",
    "\n",
    "The questions below will give you feedback on your answers. Run the following cell to set up the feedback system."
   ]
  },
  {
   "cell_type": "code",
   "execution_count": 1,
   "metadata": {},
   "outputs": [
    {
     "name": "stdout",
     "output_type": "stream",
     "text": [
      "Setup Complete\n"
     ]
    }
   ],
   "source": [
    "# Set up code checking\n",
    "from learntools.core import binder\n",
    "binder.bind(globals())\n",
    "from learntools.ml_level_2.ex7 import *\n",
    "print(\"Setup Complete\")"
   ]
  },
  {
   "cell_type": "markdown",
   "metadata": {},
   "source": [
    "# 1. The Data Science of Shoelaces\n",
    "\n",
    "Nike has hired you as a data science consultant to help them save money on shoe materials. Your first assignment is to review a model one of their employees built to predict how many shoelaces they'll need each month. The features going into the machine learning model include:\n",
    "- What month is it (January, February, etc)\n",
    "- Advertising expenditures in the previous month\n",
    "- Various macroeconomic features (like the unemployment rate) as of the beginning of the month\n",
    "- The amount of leather they ended up using that month\n",
    "\n",
    "The results show the model is almost perfectly accurate if you include the feature about how much leather they purchased. But it is only moderately accurate if you leave that feature out. You realize this is because the amount of leather they use is a perfect indicator of how many shoes they produce, which in turn tells you how many shoelaces they need.\n",
    "\n",
    "Do you think the _leather used_ feature constitutes a source of data leakage? If your answer is \"it depends,\" what does it depend on?\n",
    "\n",
    "After you have thought about your answer, check it against the solution below"
   ]
  },
  {
   "cell_type": "code",
   "execution_count": 2,
   "metadata": {},
   "outputs": [
    {
     "data": {
      "application/javascript": [
       "parent.postMessage({\"jupyterEvent\": \"custom.exercise_interaction\", \"data\": {\"interactionType\": 3, \"learnTutorialId\": -1, \"questionId\": \"1_DataScienceOfShoelaces\", \"learnToolsVersion\": \"0.2.12\", \"valueTowardsCompletion\": 0.0, \"failureMessage\": \"\", \"exceptionClass\": \"\", \"trace\": \"\", \"outcomeType\": 4}}, \"*\")"
      ],
      "text/plain": [
       "<IPython.core.display.Javascript object>"
      ]
     },
     "metadata": {},
     "output_type": "display_data"
    },
    {
     "data": {
      "text/markdown": [
       "<span style=\"color:#33cc99\">Solution:</span> \n",
       "\n",
       "    This is tricky and it depends on details of how data is collected (which is common     when thinking about leakage).\n",
       "\n",
       "    Would you at the beginning of the month how much leather will be used that month?     If so, this is ok. But if that is determined during the month, you would not have access     to it when you make the prediction.\n",
       "\n",
       "    If you have a guess at the beginning of the month, and it is subsequently changed     during the month, the actual amount used during the month cannot be used as a     feature (because it causes leakage).\n",
       "    "
      ],
      "text/plain": [
       "Solution: \n",
       "\n",
       "    This is tricky and it depends on details of how data is collected (which is common     when thinking about leakage).\n",
       "\n",
       "    Would you at the beginning of the month how much leather will be used that month?     If so, this is ok. But if that is determined during the month, you would not have access     to it when you make the prediction.\n",
       "\n",
       "    If you have a guess at the beginning of the month, and it is subsequently changed     during the month, the actual amount used during the month cannot be used as a     feature (because it causes leakage).\n",
       "    "
      ]
     },
     "metadata": {},
     "output_type": "display_data"
    }
   ],
   "source": [
    "#_COMMENT_IF(PROD)_\n",
    "q_1.solution()"
   ]
  },
  {
   "cell_type": "markdown",
   "metadata": {},
   "source": [
    "# 2. Return of the Shoelaces\n",
    "\n",
    "You have a new idea. You could use the amount of leather Nike ordered (rather than the amount they actually used) leading up to a given month as a predictor in your shoelace model.\n",
    "\n",
    "Does this change your answer about whether there is a leakage problem? If you answer \"it depends,\" what does it depend on?"
   ]
  },
  {
   "cell_type": "code",
   "execution_count": 3,
   "metadata": {},
   "outputs": [
    {
     "data": {
      "application/javascript": [
       "parent.postMessage({\"jupyterEvent\": \"custom.exercise_interaction\", \"data\": {\"interactionType\": 3, \"learnTutorialId\": -1, \"questionId\": \"2_RevengeOfShoelaces\", \"learnToolsVersion\": \"0.2.12\", \"valueTowardsCompletion\": 0.0, \"failureMessage\": \"\", \"exceptionClass\": \"\", \"trace\": \"\", \"outcomeType\": 4}}, \"*\")"
      ],
      "text/plain": [
       "<IPython.core.display.Javascript object>"
      ]
     },
     "metadata": {},
     "output_type": "display_data"
    },
    {
     "data": {
      "text/markdown": [
       "<span style=\"color:#33cc99\">Solution:</span> \n",
       "    This could be fine, but it depends on whether they order shoelaces first or leather first.\n",
       "\n",
       "    If they order shoelaces first, you won't know how much leather they've ordered     when you to predict their shoelace needs.\n",
       "\n",
       "    If they order leather first, then you'll have that number available when you place     your shoelace order, and you should be ok.\n",
       "    "
      ],
      "text/plain": [
       "Solution: \n",
       "    This could be fine, but it depends on whether they order shoelaces first or leather first.\n",
       "\n",
       "    If they order shoelaces first, you won't know how much leather they've ordered     when you to predict their shoelace needs.\n",
       "\n",
       "    If they order leather first, then you'll have that number available when you place     your shoelace order, and you should be ok.\n",
       "    "
      ]
     },
     "metadata": {},
     "output_type": "display_data"
    }
   ],
   "source": [
    "#_COMMENT_IF(PROD)_\n",
    "q_2.solution()"
   ]
  },
  {
   "cell_type": "markdown",
   "metadata": {},
   "source": [
    "# 3. Getting Rich With Cryptocurrencies?\n",
    "\n",
    "You saved Nike so much money that they gave you a bonus. Congratulations.\n",
    "\n",
    "You're friend, who is also a data scientist, says he has built a model that will let you turn your bonus into millions of dollars. Specifically, his model predicts the price of a new cryptocurrency (like Bitcoin, but a newer one) one day ahead of the moment of prediction. His plan is to purchase the cryptocurrency whenever the model says the price of the currency (in dollars) is about to go up.\n",
    "\n",
    "The most important features in his model are:\n",
    "- Current price of the currency\n",
    "- Amount of the currency sold in the last 24 hours\n",
    "- Change in the currency price in the last 24 hours\n",
    "- Change in the currency price in the last 1 hour\n",
    "- Number of new tweets in the last 24 hours that mention the currency\n",
    "\n",
    "The value of the cryptocurrency in dollars has fluctuated up and down by over \\$100 in the last year, and yet his model's average error is less than \\$1. He says this is proof his model is accurate, and you should invest with him, buying the currency whenever the model says it is about to go up.\n",
    "\n",
    "Is he right? If there is a problem with his model, what is it?"
   ]
  },
  {
   "cell_type": "code",
   "execution_count": 4,
   "metadata": {},
   "outputs": [
    {
     "data": {
      "application/javascript": [
       "parent.postMessage({\"jupyterEvent\": \"custom.exercise_interaction\", \"data\": {\"interactionType\": 3, \"learnTutorialId\": -1, \"questionId\": \"3_CryptoWealthJK\", \"learnToolsVersion\": \"0.2.12\", \"valueTowardsCompletion\": 0.0, \"failureMessage\": \"\", \"exceptionClass\": \"\", \"trace\": \"\", \"outcomeType\": 4}}, \"*\")"
      ],
      "text/plain": [
       "<IPython.core.display.Javascript object>"
      ]
     },
     "metadata": {},
     "output_type": "display_data"
    },
    {
     "data": {
      "text/markdown": [
       "<span style=\"color:#33cc99\">Solution:</span> \n",
       "    There is no source of leakage here.\n",
       "\n",
       "    These features should be available at the moment you want to make a predition, and     they're unlikely to be changed in the training data after the prediction target is determined.\n",
       "\n",
       "    But, the way he describes accuracy could be misleading if you aren't careful.\n",
       "\n",
       "    If the price moves gradually, today's price will be an accurate predictor of tomorrow's     price, but it may not tell you whether it's a good time to invest.\n",
       "\n",
       "    For instance, if it is $100 today, a model predicting a price of $100 tomorrow may     seem accurate, even if it can't tell you whether the price is going up or down from the current price.\n",
       "    A better prediction target would be the change in price over the next day.\n",
       "\n",
       "    If you can consistently predict whether the price is about to go up or down (and by how much),     you may have a winning investment opportunity.\n",
       "    "
      ],
      "text/plain": [
       "Solution: \n",
       "    There is no source of leakage here.\n",
       "\n",
       "    These features should be available at the moment you want to make a predition, and     they're unlikely to be changed in the training data after the prediction target is determined.\n",
       "\n",
       "    But, the way he describes accuracy could be misleading if you aren't careful.\n",
       "\n",
       "    If the price moves gradually, today's price will be an accurate predictor of tomorrow's     price, but it may not tell you whether it's a good time to invest.\n",
       "\n",
       "    For instance, if it is $100 today, a model predicting a price of $100 tomorrow may     seem accurate, even if it can't tell you whether the price is going up or down from the current price.\n",
       "    A better prediction target would be the change in price over the next day.\n",
       "\n",
       "    If you can consistently predict whether the price is about to go up or down (and by how much),     you may have a winning investment opportunity.\n",
       "    "
      ]
     },
     "metadata": {},
     "output_type": "display_data"
    }
   ],
   "source": [
    "#_COMMENT_IF(PROD)_\n",
    "q_3.solution()"
   ]
  },
  {
   "cell_type": "markdown",
   "metadata": {},
   "source": [
    "# 4. Preventing Infections\n",
    "\n",
    "An agency that provides healthcare wants to predict which patients from a rare surgery are at risk of infection, so it can alert the nurses to be especially careful when following up with those patients.\n",
    "\n",
    "You want to build a model. Each row in the modeling dataset will be a single patient who received the surgery, and the prediction target will be whether they got an infection.\n",
    "\n",
    "Some surgeons may do the procedure in a manner that raises or lowers the risk of infection. But how best to incorporate the surgeon information into the model?\n",
    "\n",
    "You have a clever idea. \n",
    "1. Take all surgeries by each surgeon and calculate the infection rate among those surgeons\n",
    "2. For each patient in the data, find out who the surgeon was and plug in that surgeon's average infection rate as a feature.\n",
    "\n",
    "Does this pose any leakage issues?\n",
    "Does it pose any train-test contamination issues?"
   ]
  },
  {
   "cell_type": "code",
   "execution_count": 5,
   "metadata": {},
   "outputs": [
    {
     "data": {
      "application/javascript": [
       "parent.postMessage({\"jupyterEvent\": \"custom.exercise_interaction\", \"data\": {\"interactionType\": 3, \"learnTutorialId\": -1, \"questionId\": \"4_PreventingInfections\", \"learnToolsVersion\": \"0.2.12\", \"valueTowardsCompletion\": 0.0, \"failureMessage\": \"\", \"exceptionClass\": \"\", \"trace\": \"\", \"outcomeType\": 4}}, \"*\")"
      ],
      "text/plain": [
       "<IPython.core.display.Javascript object>"
      ]
     },
     "metadata": {},
     "output_type": "display_data"
    },
    {
     "data": {
      "text/markdown": [
       "<span style=\"color:#33cc99\">Solution:</span> \n",
       "    This poses a risk of both target leakage and train-test contamination (though you may be     able to avoid both if you are careful).\n",
       "\n",
       "    You have leakage if a given patient's outcome contributes to the infection rate for his surgeon,     which is then plugged back into the prediction model for whether that patient becomes infected.\n",
       "\n",
       "    You can avoid leakage if you calculate the surgeon's infection rate by using only the surgeries before     the patient we are predicting for. Calculating this for each surgery in your training data may be a little tricky. \n",
       "    You also have a train-test contamination problem if you calculate this using all     surgeries a surgeon performed, including those from the test-set. The result     would be that your model could look very accurate on the test set, even if it wouldn't     generalize well to new patients after the model is deployed. This would happen     because the surgeon-risk feature accounts for data in the test set.\n",
       "\n",
       "    Test sets exist to estimate how the model will do when seeing new data. So this     contamination defeats the purpose of the test set.\n",
       "    "
      ],
      "text/plain": [
       "Solution: \n",
       "    This poses a risk of both target leakage and train-test contamination (though you may be     able to avoid both if you are careful).\n",
       "\n",
       "    You have leakage if a given patient's outcome contributes to the infection rate for his surgeon,     which is then plugged back into the prediction model for whether that patient becomes infected.\n",
       "\n",
       "    You can avoid leakage if you calculate the surgeon's infection rate by using only the surgeries before     the patient we are predicting for. Calculating this for each surgery in your training data may be a little tricky. \n",
       "    You also have a train-test contamination problem if you calculate this using all     surgeries a surgeon performed, including those from the test-set. The result     would be that your model could look very accurate on the test set, even if it wouldn't     generalize well to new patients after the model is deployed. This would happen     because the surgeon-risk feature accounts for data in the test set.\n",
       "\n",
       "    Test sets exist to estimate how the model will do when seeing new data. So this     contamination defeats the purpose of the test set.\n",
       "    "
      ]
     },
     "metadata": {},
     "output_type": "display_data"
    }
   ],
   "source": [
    "#_COMMENT_IF(PROD)_\n",
    "q_4.solution()"
   ]
  },
  {
   "cell_type": "markdown",
   "metadata": {},
   "source": [
    "# 5. Housing Prices\n",
    "\n",
    "Here are 5 features that could be used to predict housing prices. You will build a model to be deployed on an ongoing basis (predicting the price of a house when you put the house info into a website). \n",
    "\n",
    "You have historic data to train and validate the model.\n",
    "\n",
    "Which of the following features is most likely to be a source of leakage?\n",
    "\n",
    "1. Size of the house (in square meters)\n",
    "2. Average sales price of homes on that block\n",
    "3. Latitude and longitude of the house\n",
    "4. Whether the house is part of an apartment building\n"
   ]
  },
  {
   "cell_type": "code",
   "execution_count": 6,
   "metadata": {},
   "outputs": [
    {
     "data": {
      "application/javascript": [
       "parent.postMessage({\"jupyterEvent\": \"custom.exercise_interaction\", \"data\": {\"outcomeType\": 4, \"interactionType\": 1, \"learnTutorialId\": -1, \"questionId\": \"5_HomeAgainLeakage\", \"learnToolsVersion\": \"0.2.12\", \"valueTowardsCompletion\": 0.0, \"failureMessage\": \"\", \"exceptionClass\": \"\", \"trace\": \"\"}}, \"*\")"
      ],
      "text/plain": [
       "<IPython.core.display.Javascript object>"
      ]
     },
     "metadata": {},
     "output_type": "display_data"
    },
    {
     "data": {
      "text/markdown": [
       "<span style=\"color:#ccaa33\">Check:</span> When you've updated the starter code, `check()` will tell you whether your code is correct. You need to update the code that creates variable `potential_leakage_feature`"
      ],
      "text/plain": [
       "Check: When you've updated the starter code, `check()` will tell you whether your code is correct. You need to update the code that creates variable `potential_leakage_feature`"
      ]
     },
     "metadata": {},
     "output_type": "display_data"
    }
   ],
   "source": [
    "# Put either a number for the following answer. Either 1, 2, 3 or 4.\n",
    "potential_leakage_feature = ____\n",
    "q_5.check()"
   ]
  },
  {
   "cell_type": "code",
   "execution_count": 7,
   "metadata": {},
   "outputs": [
    {
     "data": {
      "application/javascript": [
       "parent.postMessage({\"jupyterEvent\": \"custom.exercise_interaction\", \"data\": {\"outcomeType\": 2, \"failureMessage\": \"Try again. It is not feature 1\", \"interactionType\": 1, \"learnTutorialId\": -1, \"questionId\": \"5_HomeAgainLeakage\", \"learnToolsVersion\": \"0.2.12\", \"valueTowardsCompletion\": 0.0, \"exceptionClass\": \"\", \"trace\": \"\"}}, \"*\")"
      ],
      "text/plain": [
       "<IPython.core.display.Javascript object>"
      ]
     },
     "metadata": {},
     "output_type": "display_data"
    },
    {
     "data": {
      "text/markdown": [
       "<span style=\"color:#cc3333\">Incorrect:</span> Try again. It is not feature 1"
      ],
      "text/plain": [
       "Incorrect: Try again. It is not feature 1"
      ]
     },
     "metadata": {},
     "output_type": "display_data"
    }
   ],
   "source": [
    "#_RM_IF(PROD)_\n",
    "potential_leakage_feature = 1\n",
    "q_5.check()"
   ]
  },
  {
   "cell_type": "code",
   "execution_count": 8,
   "metadata": {},
   "outputs": [
    {
     "data": {
      "application/javascript": [
       "parent.postMessage({\"jupyterEvent\": \"custom.exercise_interaction\", \"data\": {\"outcomeType\": 1, \"valueTowardsCompletion\": 1.0, \"interactionType\": 1, \"learnTutorialId\": -1, \"questionId\": \"5_HomeAgainLeakage\", \"learnToolsVersion\": \"0.2.12\", \"failureMessage\": \"\", \"exceptionClass\": \"\", \"trace\": \"\"}}, \"*\")"
      ],
      "text/plain": [
       "<IPython.core.display.Javascript object>"
      ]
     },
     "metadata": {},
     "output_type": "display_data"
    },
    {
     "data": {
      "text/markdown": [
       "<span style=\"color:#33cc33\">Correct</span>"
      ],
      "text/plain": [
       "Correct"
      ]
     },
     "metadata": {},
     "output_type": "display_data"
    }
   ],
   "source": [
    "#_RM_IF(PROD)_\n",
    "potential_leakage_feature = 2\n",
    "q_5.check()"
   ]
  },
  {
   "cell_type": "code",
   "execution_count": 9,
   "metadata": {},
   "outputs": [],
   "source": [
    "# q_5.hint()\n",
    "# q_5.solution()"
   ]
  },
  {
   "cell_type": "markdown",
   "metadata": {},
   "source": [
    "# Conclusion\n",
    "Leakage is a hard and subtle issue. You should be proud if you picked up on the issues in these examples.\n",
    "\n",
    "Now you have the tools to make highly accurate models, and pick up on the most difficult practical problems that arise with applying these models to solve real problems.\n",
    "\n",
    "There is still a lot of room to build knowledge and experience. Try out a [Machine Learning Competition](https://www.kaggle.com/competitions) or look through our [Datasets](https://kaggle.com/datasets) to practice your new skills.\n",
    "\n",
    "Again, Congratulations!"
   ]
  }
 ],
 "metadata": {
  "kernelspec": {
   "display_name": "Python 3",
   "language": "python",
   "name": "python3"
  },
  "language_info": {
   "codemirror_mode": {
    "name": "ipython",
    "version": 3
   },
   "file_extension": ".py",
   "mimetype": "text/x-python",
   "name": "python",
   "nbconvert_exporter": "python",
   "pygments_lexer": "ipython3",
   "version": "3.6.7"
  }
 },
 "nbformat": 4,
 "nbformat_minor": 2
}
