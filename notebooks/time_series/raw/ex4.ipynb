{
 "cells": [
  {
   "cell_type": "markdown",
   "id": "offensive-fundamental",
   "metadata": {},
   "source": [
    "# Introduction #\n",
    "\n",
    "Run this cell to set everything up!"
   ]
  },
  {
   "cell_type": "code",
   "execution_count": null,
   "id": "unexpected-roommate",
   "metadata": {},
   "outputs": [],
   "source": [
    "# Setup feedback system\n",
    "from learntools.core import binder\n",
    "binder.bind(globals())\n",
    "from learntools.time_series.ex4 import *\n",
    "from learntools.time_series.utils import plot_lags, make_lag_features\n",
    "\n",
    "# Setup notebook\n",
    "import warnings\n",
    "from pathlib import Path\n",
    "\n",
    "import pandas as pd\n",
    "import matplotlib.pyplot as plt\n",
    "import numpy as np\n",
    "import seaborn as sns\n",
    "from sklearn.linear_model import LinearRegression\n",
    "from sklearn.metrics import mean_squared_log_error\n",
    "from statsmodels.graphics.tsaplots import plot_pacf\n",
    "from statsmodels.tsa.deterministic import CalendarFourier, DeterministicProcess\n",
    "from statsmodels.tsa.tsatools import lagmat\n",
    "\n",
    "warnings.simplefilter(\"ignore\")\n",
    "\n",
    "plt.style.use(\"seaborn-whitegrid\")\n",
    "plt.rc(\n",
    "    \"figure\",\n",
    "    autolayout=True,\n",
    "    figsize=(11, 4),\n",
    "    titlesize=18,\n",
    "    titleweight='bold',\n",
    ")\n",
    "plt.rc(\n",
    "    \"axes\",\n",
    "    labelweight=\"bold\",\n",
    "    labelsize=\"large\",\n",
    "    titleweight=\"bold\",\n",
    "    titlesize=16,\n",
    "    titlepad=10,\n",
    ")\n",
    "plot_params = dict(\n",
    "    color=\"0.75\",\n",
    "    style=\".-\",\n",
    "    markeredgecolor=\"0.25\",\n",
    "    markerfacecolor=\"0.25\",\n",
    "    legend=False,\n",
    ")\n",
    "%config InlineBackend.figure_format = 'retina'\n",
    "\n",
    "\n",
    "comp_dir = Path('../input/store-sales-time-series-forecasting')\n",
    "\n",
    "store_sales = pd.read_csv(\n",
    "    comp_dir / 'train.csv',\n",
    "    usecols=['store_nbr', 'family', 'date', 'sales', 'onpromotion'],\n",
    "    dtype={\n",
    "        'store_nbr': 'category',\n",
    "        'family': 'category',\n",
    "        'sales': 'float32',\n",
    "        'onpromotion': 'float32',\n",
    "    },\n",
    "    parse_dates=['date'],\n",
    "    infer_datetime_format=True,\n",
    ")\n",
    "store_sales['date'] = store_sales.date.dt.to_period('D')\n",
    "store_sales = store_sales.set_index(['store_nbr', 'family', 'date']).sort_index()\n",
    "average_sales = store_sales.groupby('date').mean().squeeze().loc['2017']\n",
    "\n",
    "oil = pd.read_csv(\n",
    "    comp_dir / \"oil.csv\",\n",
    "    dtype='float32',\n",
    "    parse_dates=[\"date\"],\n",
    "    infer_datetime_format=True,\n",
    ")\n",
    "oil = oil.set_index('date').to_period('D').squeeze()"
   ]
  },
  {
   "cell_type": "markdown",
   "id": "horizontal-grave",
   "metadata": {},
   "source": [
    "-------------------------------------------------------------------------------\n"
   ]
  },
  {
   "cell_type": "code",
   "execution_count": null,
   "id": "responsible-metallic",
   "metadata": {},
   "outputs": [],
   "source": [
    "N = 250\n",
    "time = np.linspace(0, 100, num=N)\n",
    "error_1 = np.random.normal(size=N, scale=10.0)\n",
    "error_2 = np.random.normal(size=N, scale=2.0)\n",
    "\n",
    "trending = pd.Series(time + error_1)\n",
    "seasonal = pd.Series(10 * np.sin(20*2*np.pi*time/100) + error_2)\n",
    "\n",
    "fig, (ax1, ax2) = plt.subplots(2, 1, figsize=(11, 6))\n",
    "ax1 = trending.plot(ax=ax1)\n",
    "ax1.set_title(\"Trending\")\n",
    "ax2 = seasonal.plot(ax=ax2)\n",
    "ax2.set_title(\"Seasonal\");"
   ]
  },
  {
   "cell_type": "code",
   "execution_count": null,
   "id": "destroyed-munich",
   "metadata": {},
   "outputs": [],
   "source": [
    "fig = plot_lags(trending, lags=8, nrows=2)\n",
    "fig.suptitle('Trending', fontweight='bold', fontsize=16);\n",
    "\n",
    "fig = plot_lags(seasonal, lags=8, nrows=2)\n",
    "fig.suptitle('Seasonal', fontweight='bold', fontsize=16);"
   ]
  },
  {
   "cell_type": "markdown",
   "id": "competitive-pipeline",
   "metadata": {},
   "source": [
    "# 1) Examine the relationship between time and serial dependence\n",
    "\n"
   ]
  },
  {
   "cell_type": "code",
   "execution_count": null,
   "id": "dedicated-folks",
   "metadata": {
    "lines_to_next_cell": 2
   },
   "outputs": [],
   "source": [
    "# View the solution (Run this cell to receive credit!)\n",
    "q_1.check()"
   ]
  },
  {
   "cell_type": "markdown",
   "id": "latin-cologne",
   "metadata": {},
   "source": [
    "-------------------------------------------------------------------------------\n",
    "\n",
    "Since we're interested in what *new* information we can capture through lag features, let's remove from *Store Sales* the parts we've already captured: the trend and the seasons. Removing from a series its trend or seasons is called **detrending** or **deseasonalizing** the series.\n",
    "\n",
    "Use the code in the next cell to deseasonalize *Average Store Sales*."
   ]
  },
  {
   "cell_type": "code",
   "execution_count": null,
   "id": "bright-partner",
   "metadata": {},
   "outputs": [],
   "source": [
    "y = average_sales.loc[:, 'sales']\n",
    "\n",
    "fourier = CalendarFourier(freq='M', order=4)\n",
    "dp = DeterministicProcess(\n",
    "    constant=True,\n",
    "    index=y.index,\n",
    "    order=1,\n",
    "    seasonal=True,\n",
    "    drop=True,\n",
    "    additional_terms=[fourier],\n",
    ")\n",
    "X_time = dp.in_sample()\n",
    "X_time['NewYearsDay'] = (X_time.index.dayofyear == 1)\n",
    "\n",
    "model = LinearRegression()\n",
    "model.fit(X_time, y)\n",
    "sales_deseasoned = y - model.predict(X_time)\n",
    "sales_deseasoned.name = 'sales_deseasoned'\n",
    "\n",
    "ax = sales_deseasoned.plot()\n",
    "ax.set_title(\"Average Store Sales (deseasonalized)\");"
   ]
  },
  {
   "cell_type": "markdown",
   "id": "limited-building",
   "metadata": {},
   "source": [
    "Now let's examine our deseasonalized series for serial dependence.\n",
    "\n",
    "First take a look at the partial autocorrelation correlogram. Do any of the lags seem significant?"
   ]
  },
  {
   "cell_type": "code",
   "execution_count": null,
   "id": "handmade-upset",
   "metadata": {},
   "outputs": [],
   "source": [
    "plot_pacf(sales_deseasoned, lags=8);"
   ]
  },
  {
   "cell_type": "markdown",
   "id": "manual-slovakia",
   "metadata": {},
   "source": [
    "Now look at the lag plot."
   ]
  },
  {
   "cell_type": "code",
   "execution_count": null,
   "id": "lined-subdivision",
   "metadata": {},
   "outputs": [],
   "source": [
    "plot_lags(sales_deseasoned, lags=8, nrows=2);"
   ]
  },
  {
   "cell_type": "markdown",
   "id": "conscious-nutrition",
   "metadata": {},
   "source": [
    "Do you notice any potentially useful relationships that weren't apparent from the correlogram?"
   ]
  },
  {
   "cell_type": "markdown",
   "id": "pediatric-termination",
   "metadata": {},
   "source": [
    "# 2) Examine serial dependence in *Store Sales*\n",
    "\n",
    "After you've thought about your answer, run the next cell."
   ]
  },
  {
   "cell_type": "code",
   "execution_count": null,
   "id": "photographic-hormone",
   "metadata": {},
   "outputs": [],
   "source": [
    "# View the solution (Run this cell to receive credit!)\n",
    "q_2.check()"
   ]
  },
  {
   "cell_type": "markdown",
   "id": "dated-testing",
   "metadata": {},
   "source": [
    "-------------------------------------------------------------------------------\n",
    "\n",
    "Recall from the tutorial that a *leading indicator* is a series that can be used to predict the target at a future time -- a leading indicator provides \"advance notice\" of changes in the target.\n",
    "\n",
    "The competition dataset includes two time series that could potentially be useful as leading indicators: \n",
    "- `onpromotion`: number of items on a special promotion that day, and\n",
    "- `oil`: daily oil price.\n",
    "\n",
    "We have values for both of these series throughout the training and test periods.\n",
    "\n",
    "Use the next cell to examine lags for `onpromotion`."
   ]
  },
  {
   "cell_type": "code",
   "execution_count": null,
   "id": "naval-cleaner",
   "metadata": {},
   "outputs": [],
   "source": [
    "onpromotion = average_sales.loc[:, 'onpromotion']\n",
    "\n",
    "plot_lags(onpromotion['2017-01-02' :], y['2017-01-02' :], lags=8, nrows=2);"
   ]
  },
  {
   "cell_type": "markdown",
   "id": "nasty-moldova",
   "metadata": {},
   "source": [
    "And use this cell to examine lags for `oil`."
   ]
  },
  {
   "cell_type": "code",
   "execution_count": null,
   "id": "several-intensity",
   "metadata": {},
   "outputs": [],
   "source": [
    "y_oil, oil = y.align(oil, join='inner')\n",
    "\n",
    "plot_lags(oil, y_oil, lags=8, nrows=2);"
   ]
  },
  {
   "cell_type": "markdown",
   "id": "documentary-membrane",
   "metadata": {},
   "source": [
    "# 3) Examine time series features\n",
    "\n",
    "Which of these series do the plots suggest might be useful to include as features?"
   ]
  },
  {
   "cell_type": "code",
   "execution_count": null,
   "id": "bibliographic-stereo",
   "metadata": {},
   "outputs": [],
   "source": [
    "q_3.check()"
   ]
  },
  {
   "cell_type": "markdown",
   "id": "handed-harvest",
   "metadata": {},
   "source": [
    "-------------------------------------------------------------------------------\n",
    "\n",
    "# 4) Create time series features\n",
    "\n",
    "Create the features indicated in the solution to Question 3. If no features from that series would be useful, use an empty dataframe `pd.DataFrame()` as your answer."
   ]
  },
  {
   "cell_type": "code",
   "execution_count": null,
   "id": "tested-sending",
   "metadata": {},
   "outputs": [],
   "source": [
    "# YOUR CODE HERE\n",
    "X_lags = ____\n",
    "\n",
    "# YOUR CODE HERE\n",
    "X_promo = ____\n",
    "\n",
    "# YOUR CODE HERE\n",
    "X_oil = ____\n",
    "\n",
    "#_UNCOMMENT_IF(PROD)_\n",
    "#X = pd.concat([X_lags, X_promo, X_oil], axis=1)\n",
    "\n",
    "# Check your answer\n",
    "q_4.check()"
   ]
  },
  {
   "cell_type": "code",
   "execution_count": null,
   "id": "pressed-personal",
   "metadata": {},
   "outputs": [],
   "source": [
    "# Lines below will give you a hint or solution code\n",
    "#_COMMENT_IF(PROD)_\n",
    "q_4.hint()\n",
    "#_COMMENT_IF(PROD)_\n",
    "q_4.solution()"
   ]
  },
  {
   "cell_type": "code",
   "execution_count": null,
   "id": "animal-active",
   "metadata": {},
   "outputs": [],
   "source": [
    "#%%RM_IF(PROD)%%\n",
    "X_lags = make_lag_features(y_deseason, lags=1)\n",
    "\n",
    "X_promo = pd.concat([\n",
    "    make_lag_features(onpromotion, lags=1),\n",
    "    onpromotion,\n",
    "    make_lag_features(onpromotion, lags=-1),\n",
    "], axis=1)\n",
    "\n",
    "X_oil = pd.DataFrame()\n",
    "\n",
    "X = pd.concat([X_time, X_lags, X_promo, X_oil], axis=1).dropna()\n",
    "y, X = y.align(X, join='inner')\n",
    "\n",
    "q_4.assert_check_passed()"
   ]
  },
  {
   "cell_type": "markdown",
   "id": "compact-division",
   "metadata": {},
   "source": [
    "Use the code in the next cell if you'd like to see predictions from the resulting model."
   ]
  },
  {
   "cell_type": "code",
   "execution_count": null,
   "id": "severe-tumor",
   "metadata": {},
   "outputs": [],
   "source": [
    "from sklearn.model_selection import train_test_split\n",
    "\n",
    "X_train, X_valid, y_train, y_valid = train_test_split(X, y, test_size=30, shuffle=False)\n",
    "\n",
    "model = LinearRegression(fit_intercept=False).fit(X_train, y_train)\n",
    "y_fit = pd.Series(model.predict(X_train), index=X_train.index).clip(0.0)\n",
    "y_pred = pd.Series(model.predict(X_valid), index=X_valid.index).clip(0.0)\n",
    "\n",
    "rmsle_train = mean_squared_log_error(y_train, y_fit) ** 0.5\n",
    "rmsle_valid = mean_squared_log_error(y_valid, y_pred) ** 0.5\n",
    "print(f'Training RMSLE: {rmsle_train:.5f}')\n",
    "print(f'Validation RMSLE: {rmsle_valid:.5f}')\n",
    "\n",
    "ax = y.plot(**plot_params, alpha=0.5, title=\"Average Sales\", ylabel=\"items sold\")\n",
    "ax = y_fit.plot(ax=ax, label=\"Fitted\", color='C0')\n",
    "ax = y_pred.plot(ax=ax, label=\"Forecast\", color='C3')\n",
    "ax.legend();"
   ]
  },
  {
   "cell_type": "markdown",
   "id": "entitled-electronics",
   "metadata": {},
   "source": [
    "-------------------------------------------------------------------------------\n",
    "\n",
    "# 5) Create statistical features\n",
    "\n",
    "Winners of Kaggle forecasting competitions have often included moving averages and other rolling statistics in their feature sets. Such features seem to be especially useful when used with GBDT algorithms like XGBoost.\n",
    "\n",
    "In Lesson 2 you learned how to compute moving averages to estimate trends. Computing rolling statistics to be used as features is similar except we need to take care to avoid lookahead leakage. First, the result should be set at the right end of the window instead of the center -- that is, we should use `center=False` (the default) in the `rolling` method. Second, the target should be lagged a step."
   ]
  },
  {
   "cell_type": "markdown",
   "id": "involved-retirement",
   "metadata": {},
   "source": [
    "Edit the code in the next cell to create the following features:\n",
    "- 14-day rolling median (`median`) of lagged target\n",
    "- 7-day rolling standard deviation (`std`) of lagged target\n",
    "- 7-day sum (`sum`) of items \"on promotion\", with centered window"
   ]
  },
  {
   "cell_type": "code",
   "execution_count": null,
   "id": "considered-startup",
   "metadata": {},
   "outputs": [],
   "source": [
    "y_lag = average_sales.loc[:, 'sales'].shift(1)  # lagged target\n",
    "onpromo = average_sales.loc[:, 'onpromotion']  # items on promotion\n",
    "\n",
    "# Statistical features\n",
    "X_stats = pd.concat({\n",
    "    # 28-day mean of lagged target\n",
    "    'mean_7': y_lag.rolling(7).mean(),\n",
    "    # YOUR CODE HERE: Edit to create the rolling statistic\n",
    "    # 14-day median of lagged target\n",
    "#_UNCOMMENT_IF(PROD)_\n",
    "#    'median_14': ____,\n",
    "    # 7-day rolling standard deviation of lagged target\n",
    "#_UNCOMMENT_IF(PROD)_\n",
    "#    'std_7': ____,\n",
    "    # 7-day sum of promotions with centered window\n",
    "#_UNCOMMENT_IF(PROD)_\n",
    "#    'promo_7': ____,\n",
    "}, axis=1).dropna()\n",
    "\n",
    "\n",
    "# Check your answer\n",
    "q_5.check()"
   ]
  },
  {
   "cell_type": "code",
   "execution_count": null,
   "id": "vocational-joint",
   "metadata": {},
   "outputs": [],
   "source": [
    "# Lines below will give you a hint or solution code\n",
    "#_COMMENT_IF(PROD)_\n",
    "q_5.hint()\n",
    "#_COMMENT_IF(PROD)_\n",
    "q_5.solution()"
   ]
  },
  {
   "cell_type": "code",
   "execution_count": null,
   "id": "announced-funds",
   "metadata": {},
   "outputs": [],
   "source": [
    "#%%RM_IF(PROD)%%\n",
    "y_lag = average_sales.loc[:, 'sales'].shift(1)\n",
    "onpromo = average_sales.loc[:, 'onpromotion']\n",
    "\n",
    "X_stats = pd.concat({\n",
    "    'mean_7': y_lag.rolling(7).mean(),\n",
    "    'median_14': y_lag.rolling(14).median(),\n",
    "    'std_7': y_lag.rolling(7).std(),\n",
    "    'promo_7': onpromo.rolling(7, center=True).sum(),\n",
    "}, axis=1).dropna()\n",
    "\n",
    "\n",
    "q_5.assert_check_passed()"
   ]
  },
  {
   "cell_type": "markdown",
   "id": "according-allowance",
   "metadata": {},
   "source": [
    "Check out the Pandas [`Window` documentation](https://pandas.pydata.org/pandas-docs/stable/reference/window.html) for more statistics you can compute. Also try \"exponential weighted\" windows by using `ewm` in place of `rolling`; exponential decay is often a more realistic representation of how effects propagate over time.\n",
    "\n",
    "-------------------------------------------------------------------------------\n",
    "\n",
    "# (Optional) Explore non-linear dynamics\n"
   ]
  },
  {
   "cell_type": "code",
   "execution_count": null,
   "id": "impossible-captain",
   "metadata": {
    "lines_to_next_cell": 2
   },
   "outputs": [],
   "source": []
  },
  {
   "cell_type": "markdown",
   "id": "endless-marketplace",
   "metadata": {},
   "source": [
    "# Keep Going #"
   ]
  }
 ],
 "metadata": {
  "jupytext": {
   "cell_metadata_filter": "-all",
   "formats": "ipynb,md"
  },
  "kernelspec": {
   "display_name": "Python 3",
   "language": "python",
   "name": "python3"
  },
  "language_info": {
   "codemirror_mode": {
    "name": "ipython",
    "version": 3
   },
   "file_extension": ".py",
   "mimetype": "text/x-python",
   "name": "python",
   "nbconvert_exporter": "python",
   "pygments_lexer": "ipython3",
   "version": "3.6.5"
  }
 },
 "nbformat": 4,
 "nbformat_minor": 5
}
