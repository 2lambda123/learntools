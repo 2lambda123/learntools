{
 "cells": [
  {
   "cell_type": "markdown",
   "metadata": {},
   "source": [
    "# Introduction #\n",
    "\n",
    "Run this cell to set everything up!"
   ]
  },
  {
   "cell_type": "code",
   "execution_count": null,
   "metadata": {},
   "outputs": [],
   "source": [
    "# Setup feedback system\n",
    "from learntools.core import binder\n",
    "binder.bind(globals())\n",
    "from learntools.time_series.ex4 import *\n",
    "\n",
    "# Setup notebook\n",
    "from pathlib import Path\n",
    "import warnings\n",
    "\n",
    "import matplotlib.pyplot as plt\n",
    "import numpy as np\n",
    "import pandas as pd\n",
    "from matplotlib.offsetbox import AnchoredText\n",
    "from sklearn.linear_model import LinearRegression\n",
    "from statsmodels.graphics.tsaplots import plot_acf, plot_pacf\n",
    "from statsmodels.tsa.ar_model import ar_select_order\n",
    "from statsmodels.tsa.deterministic import (CalendarFourier,\n",
    "                                           CalendarSeasonality,\n",
    "                                           CalendarTimeTrend)\n",
    "from statsmodels.tsa.tsatools import lagmat\n",
    "\n",
    "warnings.simplefilter(\"ignore\")\n",
    "\n",
    "# Set Matplotlib defaults\n",
    "plt.style.use(\"seaborn-whitegrid\")\n",
    "plt.rc(\"figure\", autolayout=True, figsize=(11, 5))\n",
    "plt.rc(\n",
    "    \"axes\",\n",
    "    labelweight=\"bold\",\n",
    "    labelsize=\"large\",\n",
    "    titleweight=\"bold\",\n",
    "    titlesize=16,\n",
    "    titlepad=10,\n",
    ")\n",
    "\n",
    "\n",
    "# Utility functions\n",
    "def add_trend(X, freq=\"D\", order=1):\n",
    "    base_period = X.index[0]\n",
    "    trend = CalendarTimeTrend(\n",
    "        freq=freq, order=order, constant=False, base_period=base_period,\n",
    "    )\n",
    "    X = X.join(trend.in_sample(X.index))\n",
    "    return X\n",
    "\n",
    "\n",
    "def add_seasonal(X, freq=\"D\", period=\"W\"):\n",
    "    seasonality = CalendarSeasonality(freq=\"D\", period=\"W\")\n",
    "    X = X.join(seasonality.in_sample(X.index))\n",
    "    return X\n",
    "\n",
    "\n",
    "def add_fourier(X, freq=\"A\", order=52):\n",
    "    fourier = CalendarFourier(freq=freq, order=order)\n",
    "    X = X.join(fourier.in_sample(X.index))\n",
    "    return X\n",
    "\n",
    "\n",
    "def lagplot(ts, ts2=None, lag=1, ax=None):\n",
    "    ts_lag = ts.shift(lag) if ts2 is None else ts2.shift(lag)\n",
    "    corr = ts.corr(ts_lag)\n",
    "    if ax is None:\n",
    "        fig, ax = plt.subplots()\n",
    "    ax.plot(ts, ts_lag, \".\")\n",
    "    ax.set_aspect(\"equal\")\n",
    "    at = AnchoredText(\n",
    "        f\"{corr:.2f}\", prop=dict(size=18), frameon=True, loc=\"upper left\",\n",
    "    )\n",
    "    at.patch.set_boxstyle(\"square, pad=0.0\")\n",
    "    ax.add_artist(at)\n",
    "    ax.set(title=f\"Lag {lag}\", xlabel=ts.name, ylabel=ts_lag.name)\n",
    "    return ax\n",
    "\n",
    "\n",
    "def plot_ccf(x, y, lags=10, ax=None):\n",
    "    if ax is None:\n",
    "        fig, ax = plt.subplots()\n",
    "    ax.xcorr(\n",
    "        x, y, maxlags=lags, usevlines=True, normed=True, lw=2, color=\"C0\",\n",
    "    )\n",
    "    ax.set_xticks(np.arange(-lags, lags + 1, dtype=np.int8))\n",
    "    ax.set(\n",
    "        xlabel=\"Lag\",\n",
    "        ylabel=\"Correlation\",\n",
    "        title=\"Cross-Correlation\",\n",
    "    )\n",
    "    return ax\n",
    "\n",
    "\n",
    "# Load 1C data\n",
    "data_dir = Path(\"../input/ts-course-data\")\n",
    "df_train = pd.read_csv(data_dir / \"1c_train.csv\", parse_dates=[\"date\"])\n",
    "\n",
    "# Aggregate item sales into a single time series\n",
    "ts = df_train.pivot_table(\n",
    "    index=\"date\", values=[\"item_cnt_day\", \"item_price\"],\n",
    "    aggfunc={\"item_cnt_day\": \"sum\", \"item_price\": \"mean\"}\n",
    ").to_period(\"D\")\n",
    "ts_cnt = ts[\"item_cnt_day\"]\n",
    "ts_price = ts[\"item_price\"]"
   ]
  },
  {
   "cell_type": "markdown",
   "metadata": {},
   "source": [
    "-------------------------------------------------------------------------------\n",
    "\n",
    "Identify whether the following features are deterministic or stochastic:\n",
    "- the daily average temperature\n",
    "- whether a day is a weekend or a weekday\n",
    "\n",
    "# 1) Deterministic or Stochastic\n",
    "\n",
    "After you've thought about your answer, run this cell for the solution."
   ]
  },
  {
   "cell_type": "code",
   "execution_count": null,
   "metadata": {},
   "outputs": [],
   "source": [
    "# View the solution (Run this cell to receive credit!)\n",
    "q_1.check()"
   ]
  },
  {
   "cell_type": "markdown",
   "metadata": {},
   "source": [
    "-------------------------------------------------------------------------------\n",
    "\n",
    "Run this cell to see the data deseasonalized by weekly seasonality."
   ]
  },
  {
   "cell_type": "code",
   "execution_count": null,
   "metadata": {},
   "outputs": [],
   "source": [
    "X = pd.DataFrame(index=ts_cnt.index)\n",
    "X = add_trend(X)\n",
    "X = add_seasonal(X)\n",
    "y_cnt = ts_cnt.clip(0.0)\n",
    "model = LinearRegression().fit(X, y_cnt)\n",
    "fitted = pd.Series(model.predict(X), y_cnt.index, name=\"item_cnt_day\")\n",
    "\n",
    "resid_cnt = y_cnt - fitted\n",
    "resid_cnt.plot();"
   ]
  },
  {
   "cell_type": "markdown",
   "metadata": {},
   "source": [
    "Here are the ACF and PACF plots."
   ]
  },
  {
   "cell_type": "code",
   "execution_count": null,
   "metadata": {},
   "outputs": [],
   "source": [
    "# TODO: maybe auto-lag plots, too\n",
    "_, (ax1, ax2) = plt.subplots(2, 1, sharex=True, figsize=(11, 7))\n",
    "plot_acf(resid_cnt, ax=ax1)\n",
    "plot_pacf(resid_cnt, ax=ax2);"
   ]
  },
  {
   "cell_type": "markdown",
   "metadata": {},
   "source": [
    "# 2) Detecting Autocorrelation and the AR/MA Properties\n",
    "\n",
    "Do the above plots give evidence of autocorrelation? What can you say about the AR/MA orders of the series?\n",
    "\n",
    "After you've thought about your answer, run this cell for the solution."
   ]
  },
  {
   "cell_type": "code",
   "execution_count": null,
   "metadata": {},
   "outputs": [],
   "source": [
    "# View the solution (Run this cell to receive credit!)\n",
    "q_2.check()"
   ]
  },
  {
   "cell_type": "markdown",
   "metadata": {},
   "source": [
    "Now try confirming this with the statsmodels `ar_select_order` function."
   ]
  },
  {
   "cell_type": "code",
   "execution_count": null,
   "metadata": {},
   "outputs": [],
   "source": [
    "lags = ar_select_order(\n",
    "    ts_cnt, maxlag=7, trend=\"ct\", seasonal=True, glob=True, missing=\"drop\"\n",
    ").ar_lags\n",
    "print(\"Detected AR Order: \", lags)"
   ]
  },
  {
   "cell_type": "markdown",
   "metadata": {},
   "source": [
    "Do the answers agree?\n",
    "\n",
    "-------------------------------------------------------------------------------\n",
    "\n",
    "This shows the cross-correlation of the daily change in rentals with the daily change in temperature."
   ]
  },
  {
   "cell_type": "code",
   "execution_count": null,
   "metadata": {},
   "outputs": [],
   "source": [
    "# TODO: maybe cross-lag plots, too\n",
    "plot_ccf(ts_cnt.diff().dropna(), ts_price.diff().dropna(), lags=7);"
   ]
  },
  {
   "cell_type": "markdown",
   "metadata": {},
   "source": [
    "# 3) Detecting Cross-correlation\n",
    "\n",
    "Do the above plots give evidence of cross-correlation? If so, which series appears to be leading?"
   ]
  },
  {
   "cell_type": "code",
   "execution_count": null,
   "metadata": {},
   "outputs": [],
   "source": [
    "# View the solution (Run this cell to receive credit!)\n",
    "q_3.check()"
   ]
  },
  {
   "cell_type": "markdown",
   "metadata": {},
   "source": [
    "-------------------------------------------------------------------------------\n",
    "\n",
    "# 4) Create Lag Features\n",
    "\n",
    "Based on the conclusions above, join the appropriate lag features to your feature set."
   ]
  },
  {
   "cell_type": "code",
   "execution_count": null,
   "metadata": {
    "lines_to_next_cell": 0
   },
   "outputs": [],
   "source": [
    "# YOUR CODE HERE\n",
    "#_UNCOMMENT_IF(PROD)_\n",
    "#____\n",
    "\n",
    "# Check your answer\n",
    "q_4.check()"
   ]
  },
  {
   "cell_type": "code",
   "execution_count": null,
   "metadata": {
    "lines_to_next_cell": 0
   },
   "outputs": [],
   "source": [
    "# Lines below will give you a hint or solution code\n",
    "#_COMMENT_IF(PROD)_\n",
    "q_4.hint()\n",
    "#_COMMENT_IF(PROD)_\n",
    "q_4.solution()"
   ]
  },
  {
   "cell_type": "code",
   "execution_count": null,
   "metadata": {},
   "outputs": [],
   "source": [
    "#%%RM_IF(PROD)%%\n",
    "X_cnt_lag = lagmat(ts_cnt, maxlag=6, use_pandas=True, trim=\"both\")\n",
    "X_cnt_lag = X_cnt_lag.iloc[:, [0, 2, 5]]\n",
    "X_cnt_lag.dropna(inplace=True)\n",
    "\n",
    "X_price_lag = lagmat(ts_price, maxlag=1, use_pandas=True, trim=\"both\")\n",
    "X_price_lag.dropna(inplace=True)\n",
    "\n",
    "q_4.assert_check_passed()"
   ]
  },
  {
   "cell_type": "markdown",
   "metadata": {},
   "source": [
    "-------------------------------------------------------------------------------\n",
    "\n",
    "# 5) Create MA Features\n",
    "\n",
    "Now create the appropriate moving-average features."
   ]
  },
  {
   "cell_type": "code",
   "execution_count": null,
   "metadata": {
    "lines_to_next_cell": 0
   },
   "outputs": [],
   "source": [
    "# YOUR CODE HERE\n",
    "#_UNCOMMENT_IF(PROD)_\n",
    "#____\n",
    "\n",
    "# Check your answer\n",
    "q_5.check()"
   ]
  },
  {
   "cell_type": "code",
   "execution_count": null,
   "metadata": {
    "lines_to_next_cell": 0
   },
   "outputs": [],
   "source": [
    "# Lines below will give you a hint or solution code\n",
    "#_COMMENT_IF(PROD)_\n",
    "q_5.hint()\n",
    "#_COMMENT_IF(PROD)_\n",
    "q_5.solution()"
   ]
  },
  {
   "cell_type": "code",
   "execution_count": null,
   "metadata": {},
   "outputs": [],
   "source": [
    "#%%RM_IF(PROD)%%\n",
    "X_ma = pd.DataFrame(index=ts_cnt.index)\n",
    "X_ma[\"item_cnt_day_MA\"] = ts_cnt.shift(1).ewm(alpha=0.3).mean()\n",
    "X_ma[\"item_price_MA\"] = ts_price.shift(1).ewm(alpha=0.3).mean()\n",
    "\n",
    "q_5.assert_check_passed()"
   ]
  },
  {
   "cell_type": "markdown",
   "metadata": {},
   "source": [
    "Run the cell below to see your model with all the features you've created so far: trend, seasonality, and lag.\n"
   ]
  },
  {
   "cell_type": "code",
   "execution_count": null,
   "metadata": {
    "lines_to_next_cell": 0
   },
   "outputs": [],
   "source": [
    "# TODO: move this\n",
    "def create_features_4(ts_cnt, ts_price):\n",
    "    X = pd.DataFrame(index=ts_cnt.index)\n",
    "    X = add_trend(X)\n",
    "    X = add_seasonal(X)\n",
    "    X = add_fourier(X, order=52)\n",
    "    X_cnt_lag = lagmat(ts_cnt, maxlag=6, use_pandas=True, trim=\"both\")\n",
    "    X_cnt_lag = X_cnt_lag.iloc[:, [0, 2, 5]]\n",
    "    X_price_lag = lagmat(ts_price, maxlag=1, use_pandas=True, trim=\"both\")\n",
    "    X_ma = pd.DataFrame(index=ts_cnt.index)\n",
    "    X_ma[\"item_cnt_day_MA\"] = ts_cnt.shift(1).ewm(alpha=0.3).mean()\n",
    "    X_ma[\"item_price_MA\"] = ts_price.shift(1).ewm(alpha=0.3).mean()\n",
    "    X = X.join(X_cnt_lag)\n",
    "    X = X.join(X_price_lag)\n",
    "    X = X.join(X_ma)\n",
    "    X.dropna(inplace=True)\n",
    "    return X\n",
    "\n",
    "\n",
    "X = create_features_4(ts_cnt, ts_price)\n",
    "y = ts_cnt.loc[X.index]\n",
    "lag_model = LinearRegression()\n",
    "lag_model.fit(X, y)\n",
    "\n",
    "lag_fit = pd.Series(lag_model.predict(X).reshape(-1), index=y.index)\n",
    "ax = ts_cnt.plot(\n",
    "    color=\"0.25\", style=\".\", title=\"Total Sales\", ylabel=\"items sold\"\n",
    ")\n",
    "lag_fit.plot(ax=ax, label=\"Linear Trend\")\n",
    "_ = plt.legend()"
   ]
  },
  {
   "cell_type": "markdown",
   "metadata": {},
   "source": []
  },
  {
   "cell_type": "markdown",
   "metadata": {},
   "source": [
    "# Keep Going #"
   ]
  }
 ],
 "metadata": {
  "jupytext": {
   "cell_metadata_filter": "-all",
   "formats": "ipynb"
  },
  "kernelspec": {
   "display_name": "Python 3",
   "language": "python",
   "name": "python3"
  },
  "language_info": {
   "codemirror_mode": {
    "name": "ipython",
    "version": 3
   },
   "file_extension": ".py",
   "mimetype": "text/x-python",
   "name": "python",
   "nbconvert_exporter": "python",
   "pygments_lexer": "ipython3",
   "version": "3.6.5"
  }
 },
 "nbformat": 4,
 "nbformat_minor": 4
}
