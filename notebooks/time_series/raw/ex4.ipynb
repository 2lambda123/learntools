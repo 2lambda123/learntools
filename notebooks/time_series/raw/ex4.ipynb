{
 "cells": [
  {
   "cell_type": "markdown",
   "id": "vanilla-locking",
   "metadata": {},
   "source": [
    "# Introduction #\n",
    "\n",
    "Run this cell to set everything up!"
   ]
  },
  {
   "cell_type": "code",
   "execution_count": null,
   "id": "southwest-explosion",
   "metadata": {},
   "outputs": [],
   "source": [
    "# Setup feedback system\n",
    "from learntools.core import binder\n",
    "binder.bind(globals())\n",
    "from learntools.time_series.ex4 import *\n",
    "\n",
    "# Setup notebook\n",
    "from pathlib import Path\n",
    "from learntools.time_series.style import *  # plot style settings\n",
    "from learntools.time_series.utils import plot_lags, make_lags, make_leads\n",
    "\n",
    "import pandas as pd\n",
    "import matplotlib.pyplot as plt\n",
    "import numpy as np\n",
    "import seaborn as sns\n",
    "from sklearn.linear_model import LinearRegression\n",
    "from sklearn.metrics import mean_squared_log_error\n",
    "from statsmodels.graphics.tsaplots import plot_pacf\n",
    "from statsmodels.tsa.deterministic import CalendarFourier, DeterministicProcess\n",
    "\n",
    "\n",
    "comp_dir = Path('../input/store-sales-time-series-forecasting')\n",
    "\n",
    "store_sales = pd.read_csv(\n",
    "    comp_dir / 'train.csv',\n",
    "    usecols=['store_nbr', 'family', 'date', 'sales', 'onpromotion'],\n",
    "    dtype={'store_nbr': 'category', 'family': 'category', 'sales': 'float32', 'onpromotion': 'uint32'},\n",
    "    parse_dates=['date'],\n",
    "    infer_datetime_format=True,\n",
    ")\n",
    "store_sales['date'] = store_sales.date.dt.to_period('D')\n",
    "store_sales = store_sales.set_index(['store_nbr', 'family', 'date']).sort_index()\n",
    "average_sales = store_sales.groupby('date').mean().squeeze().loc['2017']\n",
    "\n",
    "oil = pd.read_csv(\n",
    "    comp_dir / \"oil.csv\",\n",
    "    dtype='float32',\n",
    "    parse_dates=[\"date\"],\n",
    "    infer_datetime_format=True,\n",
    ")\n",
    "oil = oil.set_index('date').to_period('D').squeeze()"
   ]
  },
  {
   "cell_type": "markdown",
   "id": "popular-suspension",
   "metadata": {},
   "source": [
    "-------------------------------------------------------------------------------\n",
    "\n",
    "Time dependent patterns (like trend and seasonality) can show up in lag plots and correlograms as serial dependence, too. In this question, we'll try to get a better understanding of this relationship.\n",
    "\n",
    "Run this cell to see a couple of series with time dependence: one with a trend and one with a weekly seasonality."
   ]
  },
  {
   "cell_type": "code",
   "execution_count": null,
   "id": "physical-steam",
   "metadata": {},
   "outputs": [],
   "source": [
    "N = 365\n",
    "time = np.arange(N)\n",
    "error_1 = np.random.normal(size=N, scale=10.0)\n",
    "error_2 = np.random.normal(size=N, scale=1.0)\n",
    "idx = pd.period_range(start='2021-01-01', freq='D', periods=365)\n",
    "\n",
    "trending = pd.Series(time + error_1, index=idx, name=\"Trending\")\n",
    "seasonal = pd.Series(10 * np.sin(52.14*2*np.pi*time/365) + error_2, index=idx, name=\"Seasonal\")\n",
    "\n",
    "fig, (ax1, ax2) = plt.subplots(2, 1, figsize=(11, 6), sharex=True)\n",
    "ax1 = trending.plot(ax=ax1)\n",
    "ax1.set_ylabel(\"Trending\")\n",
    "ax2 = seasonal.plot(ax=ax2)\n",
    "ax2.set_ylabel(\"Seasonal\");"
   ]
  },
  {
   "cell_type": "markdown",
   "id": "every-holder",
   "metadata": {},
   "source": [
    "Now run this cell to see lag plots of the two series."
   ]
  },
  {
   "cell_type": "code",
   "execution_count": null,
   "id": "pleased-emerald",
   "metadata": {
    "lines_to_next_cell": 2
   },
   "outputs": [],
   "source": [
    "fig = plot_lags(trending, lags=4, nrows=1)\n",
    "fig.suptitle('Trending', fontweight='bold', fontsize=16);\n",
    "\n",
    "fig = plot_lags(seasonal, lags=8, nrows=2)\n",
    "fig.suptitle('Seasonal', fontweight='bold', fontsize=16);"
   ]
  },
  {
   "cell_type": "markdown",
   "id": "saving-budget",
   "metadata": {},
   "source": [
    "# 1) Explain the relationship between time and serial dependence\n",
    "\n",
    "Can you explain these two lag plots? Why is there almost perfect correlation for every lag in the trending series? What creates the positive to negative to positive correlation in the seasonal series? What do the seven clusters represent?"
   ]
  },
  {
   "cell_type": "code",
   "execution_count": null,
   "id": "above-selling",
   "metadata": {},
   "outputs": [],
   "source": [
    "# View the solution (Run this cell to receive credit!)\n",
    "q_1.check()"
   ]
  },
  {
   "cell_type": "code",
   "execution_count": null,
   "id": "reliable-environment",
   "metadata": {},
   "outputs": [],
   "source": [
    "# \n",
    "q_1.hint()"
   ]
  },
  {
   "cell_type": "markdown",
   "id": "fabulous-sunrise",
   "metadata": {},
   "source": [
    "-------------------------------------------------------------------------------\n",
    "\n",
    "Since we're interested in what *new* information we can capture through lag features, let's remove from *Store Sales* the parts we've already captured: the trend and the seasons.\n",
    "\n",
    "Use the code in the next cell to deseasonalize *Average Store Sales*. We'll store the result in a variable `y_deseason`."
   ]
  },
  {
   "cell_type": "code",
   "execution_count": null,
   "id": "fuzzy-senator",
   "metadata": {},
   "outputs": [],
   "source": [
    "y = average_sales.loc[:, 'sales']\n",
    "\n",
    "fourier = CalendarFourier(freq='M', order=4)\n",
    "dp = DeterministicProcess(\n",
    "    constant=True,\n",
    "    index=y.index,\n",
    "    order=1,\n",
    "    seasonal=True,\n",
    "    drop=True,\n",
    "    additional_terms=[fourier],\n",
    ")\n",
    "X_time = dp.in_sample()\n",
    "X_time['NewYearsDay'] = (X_time.index.dayofyear == 1)\n",
    "\n",
    "model = LinearRegression(fit_intercept=False)\n",
    "model.fit(X_time, y)\n",
    "y_deseason = y - model.predict(X_time)\n",
    "y_deseason.name = 'sales_deseasoned'\n",
    "\n",
    "ax = y_deseason.plot()\n",
    "ax.set_title(\"Average Store Sales (deseasonalized)\");"
   ]
  },
  {
   "cell_type": "markdown",
   "id": "coral-context",
   "metadata": {},
   "source": [
    "Now let's examine our deseasonalized series for serial dependence. Take a look at the partial autocorrelation correlogram and lag plot."
   ]
  },
  {
   "cell_type": "code",
   "execution_count": null,
   "id": "genetic-present",
   "metadata": {},
   "outputs": [],
   "source": [
    "plot_pacf(y_deseason, lags=8);\n",
    "plot_lags(y_deseason, lags=8, nrows=2);"
   ]
  },
  {
   "cell_type": "markdown",
   "id": "acting-language",
   "metadata": {},
   "source": [
    "# 2) Examine serial dependence in *Store Sales*\n",
    "\n",
    "Are any of the lags significant according to the correlogram? Does the lag plot suggest any relationships that weren't apparent from the correlogram?\n",
    "\n",
    "After you've thought about your answer, run the next cell."
   ]
  },
  {
   "cell_type": "code",
   "execution_count": null,
   "id": "working-cabinet",
   "metadata": {},
   "outputs": [],
   "source": [
    "# View the solution (Run this cell to receive credit!)\n",
    "q_2.check()"
   ]
  },
  {
   "cell_type": "markdown",
   "id": "unusual-metabolism",
   "metadata": {},
   "source": [
    "-------------------------------------------------------------------------------\n",
    "\n",
    "Recall from the tutorial that a *leading indicator* is a series that can be used to predict the target at a future time -- a leading indicator provides \"advance notice\" of changes in the target.\n",
    "\n",
    "The competition dataset includes two time series that could potentially be useful as leading indicators: \n",
    "- `onpromotion`: number of items on a special promotion that day, and\n",
    "- `oil`: daily oil price.\n",
    "\n",
    "We have values for both of these series throughout the training and test periods.\n",
    "\n",
    "Use the next cell to examine lags for `onpromotion`."
   ]
  },
  {
   "cell_type": "code",
   "execution_count": null,
   "id": "affecting-optimization",
   "metadata": {},
   "outputs": [],
   "source": [
    "onpromotion = average_sales.loc[:, 'onpromotion']\n",
    "\n",
    "plot_lags(onpromotion['2017-01-02' :], y['2017-01-02' :], lags=8, nrows=2);"
   ]
  },
  {
   "cell_type": "markdown",
   "id": "variable-treatment",
   "metadata": {},
   "source": [
    "And use this cell to examine lags for `oil`."
   ]
  },
  {
   "cell_type": "code",
   "execution_count": null,
   "id": "armed-spoke",
   "metadata": {},
   "outputs": [],
   "source": [
    "y_oil, oil = y.align(oil, join='inner')\n",
    "\n",
    "plot_lags(oil, y_oil, lags=8, nrows=2);"
   ]
  },
  {
   "cell_type": "markdown",
   "id": "intense-cylinder",
   "metadata": {},
   "source": [
    "# 3) Examine time series features\n",
    "\n",
    "Which of these series do the plots suggest might be useful to include as features?"
   ]
  },
  {
   "cell_type": "code",
   "execution_count": null,
   "id": "rubber-small",
   "metadata": {},
   "outputs": [],
   "source": [
    "q_3.check()"
   ]
  },
  {
   "cell_type": "markdown",
   "id": "likely-discretion",
   "metadata": {},
   "source": [
    "-------------------------------------------------------------------------------\n",
    "\n",
    "# 4) Create time series features\n",
    "\n",
    "Create the features indicated in the solution to Question 3. If no features from that series would be useful, use an empty dataframe `pd.DataFrame()` as your answer."
   ]
  },
  {
   "cell_type": "code",
   "execution_count": null,
   "id": "interested-massachusetts",
   "metadata": {},
   "outputs": [],
   "source": [
    "# YOUR CODE HERE: Make features from `y_deseason`\n",
    "X_lags = ____\n",
    "\n",
    "# YOUR CODE HERE: Make features from `onpromotion`\n",
    "# You may want to use `pd.concat`\n",
    "X_promo = ____\n",
    "\n",
    "# YOUR CODE HERE: Make features from `oil`\n",
    "X_oil = ____\n",
    "\n",
    "#_UNCOMMENT_IF(PROD)_\n",
    "#X = pd.concat([X_lags, X_promo, X_oil], axis=1)\n",
    "#_UNCOMMENT_IF(PROD)_\n",
    "#y, X = y.align(X, join='inner')\n",
    "\n",
    "# Check your answer\n",
    "q_4.check()"
   ]
  },
  {
   "cell_type": "code",
   "execution_count": null,
   "id": "filled-eight",
   "metadata": {},
   "outputs": [],
   "source": [
    "# Lines below will give you a hint or solution code\n",
    "#_COMMENT_IF(PROD)_\n",
    "q_4.hint()\n",
    "#_COMMENT_IF(PROD)_\n",
    "q_4.solution()"
   ]
  },
  {
   "cell_type": "code",
   "execution_count": null,
   "id": "unnecessary-hurricane",
   "metadata": {},
   "outputs": [],
   "source": [
    "#%%RM_IF(PROD)%%\n",
    "X_lags = make_lags(y_deseason, lags=2)\n",
    "\n",
    "X_promo = pd.concat([\n",
    "    make_lags(onpromotion, lags=1),\n",
    "    onpromotion,\n",
    "    make_leads(onpromotion, leads=1),\n",
    "], axis=1)\n",
    "\n",
    "X_oil = pd.DataFrame()\n",
    "\n",
    "X = pd.concat([X_time, X_lags, X_promo, X_oil], axis=1).dropna()\n",
    "y, X = y.align(X, join='inner')\n",
    "\n",
    "q_4.assert_check_failed()"
   ]
  },
  {
   "cell_type": "code",
   "execution_count": null,
   "id": "fifteen-dressing",
   "metadata": {},
   "outputs": [],
   "source": [
    "#%%RM_IF(PROD)%%\n",
    "X_lags = make_lags(y_deseason, lags=1)\n",
    "\n",
    "X_promo = pd.concat([\n",
    "    make_lags(onpromotion, lags=2),\n",
    "    onpromotion,\n",
    "    make_leads(onpromotion, leads=1),\n",
    "], axis=1)\n",
    "\n",
    "X_oil = pd.DataFrame()\n",
    "\n",
    "X = pd.concat([X_time, X_lags, X_promo, X_oil], axis=1).dropna()\n",
    "y, X = y.align(X, join='inner')\n",
    "\n",
    "q_4.assert_check_failed()"
   ]
  },
  {
   "cell_type": "code",
   "execution_count": null,
   "id": "arbitrary-wayne",
   "metadata": {},
   "outputs": [],
   "source": [
    "#%%RM_IF(PROD)%%\n",
    "X_lags = make_lags(y_deseason, lags=1)\n",
    "\n",
    "X_promo = pd.concat([\n",
    "    make_lags(onpromotion, lags=1),\n",
    "#    onpromotion,\n",
    "    make_leads(onpromotion, leads=1),\n",
    "], axis=1)\n",
    "\n",
    "X_oil = pd.DataFrame()\n",
    "\n",
    "X = pd.concat([X_time, X_lags, X_promo, X_oil], axis=1).dropna()\n",
    "y, X = y.align(X, join='inner')\n",
    "\n",
    "q_4.assert_check_failed()"
   ]
  },
  {
   "cell_type": "code",
   "execution_count": null,
   "id": "acting-suspension",
   "metadata": {},
   "outputs": [],
   "source": [
    "#%%RM_IF(PROD)%%\n",
    "X_lags = make_lags(y_deseason, lags=1)\n",
    "\n",
    "X_promo = pd.concat([\n",
    "    make_lags(onpromotion, lags=1),\n",
    "    onpromotion,\n",
    "    make_leads(onpromotion, leads=1),\n",
    "], axis=1)\n",
    "\n",
    "X_oil = make_lags(oil, lags=1)\n",
    "\n",
    "X = pd.concat([X_time, X_lags, X_promo, X_oil], axis=1).dropna()\n",
    "y, X = y.align(X, join='inner')\n",
    "\n",
    "q_4.assert_check_failed()"
   ]
  },
  {
   "cell_type": "code",
   "execution_count": null,
   "id": "hired-sweet",
   "metadata": {},
   "outputs": [],
   "source": [
    "#%%RM_IF(PROD)%%\n",
    "X_lags = pd.DataFrame()\n",
    "\n",
    "X_promo = pd.concat([\n",
    "    make_lags(onpromotion, lags=1),\n",
    "    onpromotion,\n",
    "    make_leads(onpromotion, leads=1),\n",
    "], axis=1)\n",
    "\n",
    "X_oil = pd.DataFrame()\n",
    "\n",
    "X = pd.concat([X_time, X_lags, X_promo, X_oil], axis=1).dropna()\n",
    "y, X = y.align(X, join='inner')\n",
    "\n",
    "q_4.assert_check_failed()"
   ]
  },
  {
   "cell_type": "code",
   "execution_count": null,
   "id": "dress-flashing",
   "metadata": {},
   "outputs": [],
   "source": [
    "#%%RM_IF(PROD)%%\n",
    "X_lags = make_lags(y_deseason, lags=1)\n",
    "\n",
    "X_promo = pd.concat([\n",
    "    make_lags(onpromotion, lags=1),\n",
    "    onpromotion,\n",
    "    make_leads(onpromotion, leads=1),\n",
    "], axis=1)\n",
    "\n",
    "X_oil = pd.DataFrame()\n",
    "\n",
    "X = pd.concat([X_time, X_lags, X_promo, X_oil], axis=1).dropna()\n",
    "y, X = y.align(X, join='inner')\n",
    "\n",
    "q_4.assert_check_passed()"
   ]
  },
  {
   "cell_type": "markdown",
   "id": "statutory-glossary",
   "metadata": {},
   "source": [
    "Use the code in the next cell if you'd like to see predictions from the resulting model."
   ]
  },
  {
   "cell_type": "code",
   "execution_count": null,
   "id": "pharmaceutical-genome",
   "metadata": {},
   "outputs": [],
   "source": [
    "from sklearn.model_selection import train_test_split\n",
    "\n",
    "X_train, X_valid, y_train, y_valid = train_test_split(X, y, test_size=30, shuffle=False)\n",
    "\n",
    "model = LinearRegression(fit_intercept=False).fit(X_train, y_train)\n",
    "y_fit = pd.Series(model.predict(X_train), index=X_train.index).clip(0.0)\n",
    "y_pred = pd.Series(model.predict(X_valid), index=X_valid.index).clip(0.0)\n",
    "\n",
    "rmsle_train = mean_squared_log_error(y_train, y_fit) ** 0.5\n",
    "rmsle_valid = mean_squared_log_error(y_valid, y_pred) ** 0.5\n",
    "print(f'Training RMSLE: {rmsle_train:.5f}')\n",
    "print(f'Validation RMSLE: {rmsle_valid:.5f}')\n",
    "\n",
    "ax = y.plot(**plot_params, alpha=0.5, title=\"Average Sales\", ylabel=\"items sold\")\n",
    "ax = y_fit.plot(ax=ax, label=\"Fitted\", color='C0')\n",
    "ax = y_pred.plot(ax=ax, label=\"Forecast\", color='C3')\n",
    "ax.legend();"
   ]
  },
  {
   "cell_type": "markdown",
   "id": "fuzzy-layout",
   "metadata": {},
   "source": [
    "-------------------------------------------------------------------------------\n",
    "\n",
    "Winners of Kaggle forecasting competitions have often included moving averages and other rolling statistics in their feature sets. Such features seem to be especially useful when used with GBDT algorithms like XGBoost.\n",
    "\n",
    "In Lesson 2 you learned how to compute moving averages to estimate trends. Computing rolling statistics to be used as features is similar except we need to take care to avoid lookahead leakage. First, the result should be set at the right end of the window instead of the center -- that is, we should use `center=False` (the default) in the `rolling` method. Second, the target should be lagged a step."
   ]
  },
  {
   "cell_type": "markdown",
   "id": "harmful-gender",
   "metadata": {},
   "source": [
    "# 5) Create statistical features\n",
    "\n",
    "Edit the code in the next cell to create the following features:\n",
    "- 14-day rolling median (`median`) of lagged target\n",
    "- 7-day rolling standard deviation (`std`) of lagged target\n",
    "- 7-day sum (`sum`) of items \"on promotion\", with centered window"
   ]
  },
  {
   "cell_type": "code",
   "execution_count": null,
   "id": "apparent-faculty",
   "metadata": {},
   "outputs": [],
   "source": [
    "y_lag = average_sales.loc[:, 'sales'].shift(1)  # lagged target\n",
    "onpromo = average_sales.loc[:, 'onpromotion']  # items on promotion\n",
    "\n",
    "# 28-day mean of lagged target\n",
    "mean_7 = y_lag.rolling(7).mean()\n",
    "# YOUR CODE HERE: 14-day median of lagged target\n",
    "median_14 = ____\n",
    "# YOUR CODE HERE: 7-day rolling standard deviation of lagged target\n",
    "std_7 = ____\n",
    "# YOUR CODE HERE: 7-day sum of promotions with centered window\n",
    "promo_7 = ____\n",
    "\n",
    "\n",
    "# Check your answer\n",
    "q_5.check()"
   ]
  },
  {
   "cell_type": "code",
   "execution_count": null,
   "id": "numeric-constraint",
   "metadata": {},
   "outputs": [],
   "source": [
    "# Lines below will give you a hint or solution code\n",
    "#_COMMENT_IF(PROD)_\n",
    "q_5.hint()\n",
    "#_COMMENT_IF(PROD)_\n",
    "q_5.solution()"
   ]
  },
  {
   "cell_type": "code",
   "execution_count": null,
   "id": "headed-karen",
   "metadata": {},
   "outputs": [],
   "source": [
    "#%%RM_IF(PROD)%%\n",
    "y_lag = average_sales.loc[:, 'sales'].shift(1)\n",
    "onpromo = average_sales.loc[:, 'onpromotion']\n",
    "\n",
    "mean_7 = y_lag.rolling(7).mean()\n",
    "median_14 = y_lag.rolling(7).median()\n",
    "std_7 = y_lag.rolling(7).std()\n",
    "promo_7 = onpromo.rolling(7, center=True).sum()\n",
    "\n",
    "q_5.assert_check_failed()"
   ]
  },
  {
   "cell_type": "code",
   "execution_count": null,
   "id": "radio-rough",
   "metadata": {},
   "outputs": [],
   "source": [
    "#%%RM_IF(PROD)%%\n",
    "y_lag = average_sales.loc[:, 'sales'].shift(1)\n",
    "onpromo = average_sales.loc[:, 'onpromotion']\n",
    "\n",
    "mean_7 = y_lag.rolling(7).mean()\n",
    "median_14 = y_lag.rolling(14).median()\n",
    "std_7 = y_lag.rolling(14).std()\n",
    "promo_7 = onpromo.rolling(7, center=True).sum()\n",
    "\n",
    "q_5.assert_check_failed()"
   ]
  },
  {
   "cell_type": "code",
   "execution_count": null,
   "id": "intense-township",
   "metadata": {},
   "outputs": [],
   "source": [
    "#%%RM_IF(PROD)%%\n",
    "y_lag = average_sales.loc[:, 'sales'].shift(1)\n",
    "onpromo = average_sales.loc[:, 'onpromotion']\n",
    "\n",
    "mean_7 = y_lag.rolling(7).mean()\n",
    "median_14 = y_lag.rolling(14).median()\n",
    "std_7 = y_lag.rolling(7).std()\n",
    "promo_7 = onpromo.rolling(14, center=True).sum()\n",
    "\n",
    "q_5.assert_check_failed()"
   ]
  },
  {
   "cell_type": "code",
   "execution_count": null,
   "id": "veterinary-fiber",
   "metadata": {},
   "outputs": [],
   "source": [
    "#%%RM_IF(PROD)%%\n",
    "y_lag = average_sales.loc[:, 'sales'].shift(1)\n",
    "onpromo = average_sales.loc[:, 'onpromotion']\n",
    "\n",
    "mean_7 = y_lag.rolling(7).mean()\n",
    "median_14 = y_lag.rolling(14).median()\n",
    "std_7 = y_lag.rolling(7).std()\n",
    "promo_7 = onpromo.rolling(7, center=False).sum()\n",
    "\n",
    "q_5.assert_check_failed()"
   ]
  },
  {
   "cell_type": "code",
   "execution_count": null,
   "id": "skilled-reviewer",
   "metadata": {},
   "outputs": [],
   "source": [
    "#%%RM_IF(PROD)%%\n",
    "y_lag = average_sales.loc[:, 'sales'].shift(1)\n",
    "onpromo = average_sales.loc[:, 'onpromotion']\n",
    "\n",
    "mean_7 = y_lag.rolling(7).mean()\n",
    "median_14 = y_lag.rolling(14).mean()\n",
    "std_7 = y_lag.rolling(7).std()\n",
    "promo_7 = onpromo.rolling(7, center=True).sum()\n",
    "\n",
    "q_5.assert_check_failed()"
   ]
  },
  {
   "cell_type": "code",
   "execution_count": null,
   "id": "hawaiian-slovenia",
   "metadata": {},
   "outputs": [],
   "source": [
    "#%%RM_IF(PROD)%%\n",
    "y_lag = average_sales.loc[:, 'sales'].shift(1)\n",
    "onpromo = average_sales.loc[:, 'onpromotion']\n",
    "\n",
    "mean_7 = y_lag.rolling(7).mean()\n",
    "median_14 = y_lag.rolling(14).median()\n",
    "std_7 = y_lag.rolling(7).std()\n",
    "promo_7 = y_lag.rolling(7, center=True).sum()\n",
    "\n",
    "q_5.assert_check_failed()"
   ]
  },
  {
   "cell_type": "code",
   "execution_count": null,
   "id": "innocent-iceland",
   "metadata": {},
   "outputs": [],
   "source": [
    "#%%RM_IF(PROD)%%\n",
    "y_lag = average_sales.loc[:, 'sales'].shift(1)\n",
    "onpromo = average_sales.loc[:, 'onpromotion']\n",
    "\n",
    "mean_7 = y_lag.rolling(7).mean()\n",
    "median_14 = y_lag.rolling(14).median()\n",
    "std_7 = y_lag.rolling(7).std()\n",
    "promo_7 = onpromo.rolling(7, center=True).sum()\n",
    "\n",
    "q_5.assert_check_passed()"
   ]
  },
  {
   "cell_type": "markdown",
   "id": "metropolitan-senior",
   "metadata": {},
   "source": [
    "Check out the Pandas [`Window` documentation](https://pandas.pydata.org/pandas-docs/stable/reference/window.html) for more statistics you can compute. Also try \"exponential weighted\" windows by using `ewm` in place of `rolling`; exponential decay is often a more realistic representation of how effects propagate over time.\n",
    "\n",
    "-------------------------------------------------------------------------------\n",
    "\n",
    "# (Optional) Explore serial dependence\n"
   ]
  },
  {
   "cell_type": "code",
   "execution_count": null,
   "id": "inclusive-cambodia",
   "metadata": {
    "lines_to_next_cell": 2
   },
   "outputs": [],
   "source": []
  },
  {
   "cell_type": "markdown",
   "id": "competent-influence",
   "metadata": {},
   "source": [
    "# Keep Going #"
   ]
  }
 ],
 "metadata": {
  "jupytext": {
   "cell_metadata_filter": "-all",
   "formats": "ipynb,md"
  },
  "kernelspec": {
   "display_name": "Python 3",
   "language": "python",
   "name": "python3"
  },
  "language_info": {
   "codemirror_mode": {
    "name": "ipython",
    "version": 3
   },
   "file_extension": ".py",
   "mimetype": "text/x-python",
   "name": "python",
   "nbconvert_exporter": "python",
   "pygments_lexer": "ipython3",
   "version": "3.6.5"
  }
 },
 "nbformat": 4,
 "nbformat_minor": 5
}
