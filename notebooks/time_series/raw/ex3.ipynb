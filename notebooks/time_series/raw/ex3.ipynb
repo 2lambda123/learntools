{
 "cells": [
  {
   "cell_type": "markdown",
   "id": "authentic-alfred",
   "metadata": {},
   "source": [
    "# Introduction #\n",
    "\n",
    "Run this cell to set everything up!"
   ]
  },
  {
   "cell_type": "code",
   "execution_count": null,
   "id": "painted-education",
   "metadata": {},
   "outputs": [],
   "source": [
    "# Setup feedback system\n",
    "from learntools.core import binder\n",
    "binder.bind(globals())\n",
    "from learntools.time_series.ex3 import *\n",
    "\n",
    "# Setup notebook\n",
    "import warnings\n",
    "from pathlib import Path\n",
    "\n",
    "import pandas as pd\n",
    "import matplotlib.pyplot as plt\n",
    "import numpy as np\n",
    "import seaborn as sns\n",
    "from sklearn.linear_model import LinearRegression\n",
    "from statsmodels.tsa.deterministic import CalendarFourier, DeterministicProcess\n",
    "\n",
    "warnings.simplefilter(\"ignore\")\n",
    "\n",
    "plt.style.use(\"seaborn-whitegrid\")\n",
    "plt.rc(\n",
    "    \"figure\",\n",
    "    autolayout=True,\n",
    "    figsize=(11, 4),\n",
    "    titlesize=18,\n",
    "    titleweight='bold',\n",
    ")\n",
    "plt.rc(\n",
    "    \"axes\",\n",
    "    labelweight=\"bold\",\n",
    "    labelsize=\"large\",\n",
    "    titleweight=\"bold\",\n",
    "    titlesize=16,\n",
    "    titlepad=10,\n",
    ")\n",
    "plot_params = dict(\n",
    "    color=\"0.75\",\n",
    "    style=\".-\",\n",
    "    markeredgecolor=\"0.25\",\n",
    "    markerfacecolor=\"0.25\",\n",
    "    legend=False,\n",
    ")\n",
    "%config InlineBackend.figure_format = 'retina'\n",
    "\n",
    "\n",
    "def seasonal_plot(X, y, period, freq, ax=None):\n",
    "    if ax is None:\n",
    "        _, ax = plt.subplots()\n",
    "    palette = sns.color_palette(\"husl\", n_colors=X[period].nunique(),)\n",
    "    ax = sns.lineplot(\n",
    "        x=freq,\n",
    "        y=y,\n",
    "        hue=period,\n",
    "        data=X,\n",
    "        ci=False,\n",
    "        ax=ax,\n",
    "        palette=palette,\n",
    "        legend=False,\n",
    "    )\n",
    "    ax.set_title(f\"Seasonal Plot ({period}/{freq})\")\n",
    "    for line, name in zip(ax.lines, X[period].unique()):\n",
    "        y_ = line.get_ydata()[-1]\n",
    "        ax.annotate(\n",
    "            name,\n",
    "            xy=(1, y_),\n",
    "            xytext=(6, 0),\n",
    "            color=line.get_color(),\n",
    "            xycoords=ax.get_yaxis_transform(),\n",
    "            textcoords=\"offset points\",\n",
    "            size=14,\n",
    "            va=\"center\",\n",
    "        )\n",
    "    return ax\n",
    "\n",
    "\n",
    "def plot_periodogram(ts, detrend='linear', ax=None):\n",
    "    from scipy.signal import periodogram\n",
    "    fs = pd.Timedelta(\"1Y\") / pd.Timedelta(\"1D\")\n",
    "    freqencies, spectrum = periodogram(\n",
    "        ts,\n",
    "        fs=fs,\n",
    "        detrend=detrend,\n",
    "        window=\"boxcar\",\n",
    "        scaling='spectrum',\n",
    "    )\n",
    "    if ax is None:\n",
    "        _, ax = plt.subplots()\n",
    "    ax.step(freqencies, spectrum, color=\"purple\")\n",
    "    ax.set_xscale(\"log\")\n",
    "    ax.set_xticks([1, 2, 4, 6, 12, 26, 52, 104])\n",
    "    ax.set_xticklabels(\n",
    "        [\n",
    "            \"Annual (1)\",\n",
    "            \"Semiannual (2)\",\n",
    "            \"Quarterly (4)\",\n",
    "            \"Bimonthly (6)\",\n",
    "            \"Monthly (12)\",\n",
    "            \"Biweekly (26)\",\n",
    "            \"Weekly (52)\",\n",
    "            \"Semiweekly (104)\",\n",
    "        ],\n",
    "        rotation=30,\n",
    "    )\n",
    "    ax.ticklabel_format(axis=\"y\", style=\"sci\", scilimits=(0, 0))\n",
    "    ax.set_ylabel(\"Variance\")\n",
    "    ax.set_title(\"Periodogram\")\n",
    "    return ax\n",
    "\n",
    "\n",
    "comp_dir = Path('../input/store-sales-time-series-forecasting')\n",
    "\n",
    "holidays_events = pd.read_csv(\n",
    "    comp_dir / \"holidays_events.csv\",\n",
    "    parse_dates=['date'],\n",
    "    infer_datetime_format=True,\n",
    ").set_index('date').to_period('D')\n",
    "\n",
    "store_sales = pd.read_csv(\n",
    "    comp_dir / 'train.csv',\n",
    "    usecols=['store_nbr', 'family', 'date', 'sales'],\n",
    "    dtype={\n",
    "        'store_nbr': 'category',\n",
    "        'family': 'category',\n",
    "        'sales': 'float32',\n",
    "    },\n",
    "    parse_dates=['date'],\n",
    "    infer_datetime_format=True,\n",
    ")\n",
    "store_sales['date'] = store_sales.date.dt.to_period('D')\n",
    "store_sales = store_sales.set_index(['store_nbr', 'family', 'date']).sort_index()\n",
    "\n",
    "mean_sales = store_sales.groupby('date').mean().squeeze()\n",
    "\n",
    "test_ids = pd.read_csv(\n",
    "    comp_dir / 'test.csv',\n",
    "    usecols=['store_nbr', 'family', 'date', 'id'],\n",
    "    dtype={\n",
    "        'store_nbr': 'category',\n",
    "        'family': 'category',\n",
    "        'id': 'uint64',\n",
    "    },\n",
    "    parse_dates=['date'],\n",
    "    infer_datetime_format=True,\n",
    ")\n",
    "test_ids['date'] = test_ids.date.dt.to_period('D')\n",
    "test_ids = test_ids.set_index(['store_nbr', 'family', 'date']).sort_index()"
   ]
  },
  {
   "cell_type": "markdown",
   "id": "antique-harris",
   "metadata": {},
   "source": [
    "Splits."
   ]
  },
  {
   "cell_type": "code",
   "execution_count": null,
   "id": "certified-punishment",
   "metadata": {},
   "outputs": [],
   "source": [
    "y = mean_sales.loc[\"2017\"]\n",
    "y_train = y.iloc[:-16]\n",
    "y_valid = y.iloc[-16:]"
   ]
  },
  {
   "cell_type": "markdown",
   "id": "sunset-chaos",
   "metadata": {},
   "source": [
    "-------------------------------------------------------------------------------\n",
    "\n",
    "Examine the following seasonal plot:"
   ]
  },
  {
   "cell_type": "code",
   "execution_count": null,
   "id": "understood-occasion",
   "metadata": {},
   "outputs": [],
   "source": [
    "X = y.to_frame()\n",
    "X[\"week\"] = X.index.week\n",
    "X[\"day\"] = X.index.dayofweek\n",
    "seasonal_plot(X, y='sales', period='week', freq='day');"
   ]
  },
  {
   "cell_type": "markdown",
   "id": "after-draft",
   "metadata": {},
   "source": [
    "And also the periodogram:"
   ]
  },
  {
   "cell_type": "code",
   "execution_count": null,
   "id": "every-tribe",
   "metadata": {},
   "outputs": [],
   "source": [
    "plot_periodogram(mean_sales);"
   ]
  },
  {
   "cell_type": "markdown",
   "id": "acoustic-certificate",
   "metadata": {},
   "source": [
    "# 1) Determine seasonality\n",
    "\n",
    "What kind of seasonality do you see evidence of? Once you've thought about it, run the next cell for some discussion."
   ]
  },
  {
   "cell_type": "code",
   "execution_count": null,
   "id": "recreational-omega",
   "metadata": {},
   "outputs": [],
   "source": [
    "# View the solution (Run this cell to receive credit!)\n",
    "q_1.check()"
   ]
  },
  {
   "cell_type": "markdown",
   "id": "alpha-pendant",
   "metadata": {},
   "source": [
    "-------------------------------------------------------------------------------\n",
    "\n",
    "# 2) Create seasonal features\n",
    "\n",
    "Use `DeterministicProcess` and `CalendarFourier` to create:\n",
    "- indicators for weekly seasons and\n",
    "- Fourier features of order 4 for monthly seasons."
   ]
  },
  {
   "cell_type": "code",
   "execution_count": null,
   "id": "applicable-wrist",
   "metadata": {
    "lines_to_next_cell": 0
   },
   "outputs": [],
   "source": [
    "# YOUR CODE HERE\n",
    "fourier = ____\n",
    "dp = DeterministicProcess(\n",
    "    index=y_train.index,\n",
    "    constant=True,\n",
    "    order=1,\n",
    "    # YOUR CODE HERE\n",
    "    # ____\n",
    "    drop=True,\n",
    ")\n",
    "X = dp.in_sample()\n",
    "\n",
    "# Check your answer\n",
    "q_2.check()"
   ]
  },
  {
   "cell_type": "code",
   "execution_count": null,
   "id": "occupational-starter",
   "metadata": {
    "lines_to_next_cell": 0
   },
   "outputs": [],
   "source": [
    "# Lines below will give you a hint or solution code\n",
    "#_COMMENT_IF(PROD)_\n",
    "q_2.hint()\n",
    "#_COMMENT_IF(PROD)_\n",
    "q_2.solution()"
   ]
  },
  {
   "cell_type": "code",
   "execution_count": null,
   "id": "given-produce",
   "metadata": {},
   "outputs": [],
   "source": [
    "#%%RM_IF(PROD)%%\n",
    "fourier = CalendarFourier(freq='M', order=4)\n",
    "dp = DeterministicProcess(\n",
    "    index=y_train.index,\n",
    "    constant=True,\n",
    "    order=1,\n",
    "    seasonal=True,\n",
    "    additional_terms=[fourier],\n",
    "    drop=True,\n",
    ")\n",
    "X_train = dp.in_sample()\n",
    "\n",
    "q_2.assert_check_passed()"
   ]
  },
  {
   "cell_type": "markdown",
   "id": "economic-particular",
   "metadata": {},
   "source": [
    "# 3) Create holiday indicator\n"
   ]
  },
  {
   "cell_type": "code",
   "execution_count": null,
   "id": "suspected-permit",
   "metadata": {},
   "outputs": [],
   "source": [
    "X_train['NewYear'] = (X_train.index.dayofyear == 1)"
   ]
  },
  {
   "cell_type": "markdown",
   "id": "endangered-pledge",
   "metadata": {},
   "source": [
    "-------------------------------------------------------------------------------\n",
    "\n",
    "Now run this cell to fit the seasonal model."
   ]
  },
  {
   "cell_type": "code",
   "execution_count": null,
   "id": "smaller-librarian",
   "metadata": {},
   "outputs": [],
   "source": [
    "model = LinearRegression().fit(X_train, y_train)\n",
    "y_pred = pd.Series(\n",
    "    model.predict(X_train),\n",
    "    index=X_train.index,\n",
    "    name='Fitted',\n",
    ")\n",
    "\n",
    "y_pred = pd.Series(model.predict(X_train), index=X_train.index)\n",
    "ax = y_train.plot(**plot_params, alpha=0.5, title=\"Average Sales\", ylabel=\"items sold\")\n",
    "ax = y_pred.plot(ax=ax, label=\"Seasonal\")\n",
    "ax.legend();"
   ]
  },
  {
   "cell_type": "markdown",
   "id": "infinite-roman",
   "metadata": {},
   "source": [
    "Run the next cell to see the deseasonalized series with holidays indicated."
   ]
  },
  {
   "cell_type": "code",
   "execution_count": null,
   "id": "valuable-cornwall",
   "metadata": {},
   "outputs": [],
   "source": [
    "y_deseason = y_train - y_pred\n",
    "\n",
    "holidays = holidays_events['2017'].index.intersection(y_deseason.index)\n",
    "\n",
    "ax = y_deseason.plot(**plot_params)\n",
    "plt.plot_date(holidays, y_deseason[holidays], color='C3')\n",
    "ax.set_title('Holidays in holidays_events.csv')"
   ]
  },
  {
   "cell_type": "markdown",
   "id": "solved-utilization",
   "metadata": {},
   "source": [
    "You might like to experiment with creating additional holiday indicators.\n",
    "\n",
    "-------------------------------------------------------------------------------\n",
    "\n",
    "# 5) Examine Deseasonalized Series\n",
    "\n",
    "Does there appear to be any regular or periodic behavior still present? How could you check?"
   ]
  },
  {
   "cell_type": "code",
   "execution_count": null,
   "id": "empirical-signature",
   "metadata": {},
   "outputs": [],
   "source": [
    "# View the solution (Run this cell to receive credit!)\n",
    "q_5.check()"
   ]
  },
  {
   "cell_type": "markdown",
   "id": "missing-karaoke",
   "metadata": {},
   "source": [
    "Look now at the periodogram of the deseasonalized series."
   ]
  },
  {
   "cell_type": "code",
   "execution_count": null,
   "id": "collectible-martin",
   "metadata": {},
   "outputs": [],
   "source": [
    "fig, (ax1, ax2) = plt.subplots(2, 1, sharex=True, sharey=True, figsize=(10, 7))\n",
    "ax1 = plot_periodogram(y_train, ax=ax1)\n",
    "ax1.set_title(\"Product Sales Frequency Components\")\n",
    "ax2 = plot_periodogram(y_deseason, ax=ax2);\n",
    "ax2.set_title(\"Deseasonalized\");"
   ]
  },
  {
   "cell_type": "markdown",
   "id": "indonesian-collar",
   "metadata": {},
   "source": [
    "Based on this periodogram, how effectively does it appear your model captured the seasonality in this series? Does it agree with your observations of the deseasonalized series?\n",
    "\n",
    "-------------------------------------------------------------------------------\n",
    "\n",
    "Sometimes a logarithmic transform is effective at stabilizing the changes in a series.\n",
    "\n",
    "```\n",
    "log(trend * seasons * error) = log(trend) + log(seasons) + log(error)\n",
    "```\n",
    "\n",
    "The next cell plots the change in store sales after a log-transform. Notice how the variation in the transformed series, instead of increasing over time, appears to be almost constant from start to finish."
   ]
  },
  {
   "cell_type": "code",
   "execution_count": null,
   "id": "enormous-outreach",
   "metadata": {
    "lines_to_next_cell": 2
   },
   "outputs": [],
   "source": [
    "import numpy as np\n",
    "\n",
    "fig, (ax1, ax2) = plt.subplots(2, 1, sharex=True, figsize=(10, 7))\n",
    "mean_sales.plot(ax=ax1)\n",
    "ax1.set_title(\"Sales\")\n",
    "ax2 = np.log1p(mean_sales).plot(ax=ax2)\n",
    "ax2.set_title(\"Log Sales\");"
   ]
  },
  {
   "cell_type": "markdown",
   "id": "intended-ethics",
   "metadata": {},
   "source": [
    "# 6) Understand log transforms and the RMSLE metric\n"
   ]
  },
  {
   "cell_type": "code",
   "execution_count": null,
   "id": "grand-forward",
   "metadata": {
    "lines_to_next_cell": 2
   },
   "outputs": [],
   "source": [
    "from sklearn.metrics import mean_squared_log_error\n",
    "\n",
    "X_valid = dp.out_of_sample(steps=16)\n",
    "X_valid['NewYear'] = False\n",
    "\n",
    "rmsle_train = mean_squared_log_error(y_train, y_pred) ** 0.5\n",
    "rmsle_valid = mean_squared_log_error(y_valid, model.predict(X_valid)) ** 0.5\n",
    "\n",
    "print(f'Training RMSLE: {rmsle_train:.5f}')\n",
    "print(f'Validation RMSLE: {rmsle_valid:.5f}')"
   ]
  },
  {
   "cell_type": "code",
   "execution_count": null,
   "id": "passive-payment",
   "metadata": {
    "lines_to_next_cell": 2
   },
   "outputs": [],
   "source": [
    "from sklearn.metrics import mean_squared_error\n",
    "\n",
    "model = LinearRegression().fit(X_train, np.log1p(y_train))\n",
    "y_pred = pd.Series(\n",
    "    model.predict(X_train),\n",
    "    index=X_train.index,\n",
    "    name='Fitted',\n",
    ")\n",
    "\n",
    "rmsle_train = mean_squared_error(np.log1p(y_train), y_pred) ** 0.5\n",
    "rmsle_valid = mean_squared_error(np.log1p(y_valid), model.predict(X_valid)) ** 0.5\n",
    "\n",
    "print(f'Training RMSLE: {rmsle_train:.5f}')\n",
    "print(f'Validation RMSLE: {rmsle_valid:.5f}')"
   ]
  },
  {
   "cell_type": "markdown",
   "id": "suburban-secretariat",
   "metadata": {},
   "source": [
    "-------------------------------------------------------------------------------\n"
   ]
  },
  {
   "cell_type": "markdown",
   "id": "interesting-budapest",
   "metadata": {},
   "source": [
    "# Keep Going #"
   ]
  }
 ],
 "metadata": {
  "jupytext": {
   "cell_metadata_filter": "-all",
   "formats": "ipynb,md"
  },
  "kernelspec": {
   "display_name": "Python 3",
   "language": "python",
   "name": "python3"
  },
  "language_info": {
   "codemirror_mode": {
    "name": "ipython",
    "version": 3
   },
   "file_extension": ".py",
   "mimetype": "text/x-python",
   "name": "python",
   "nbconvert_exporter": "python",
   "pygments_lexer": "ipython3",
   "version": "3.6.5"
  }
 },
 "nbformat": 4,
 "nbformat_minor": 5
}
