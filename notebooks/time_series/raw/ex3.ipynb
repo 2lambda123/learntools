{
 "cells": [
  {
   "cell_type": "markdown",
   "metadata": {},
   "source": [
    "# Introduction #\n",
    "\n",
    "Run this cell to set everything up!"
   ]
  },
  {
   "cell_type": "code",
   "execution_count": null,
   "metadata": {},
   "outputs": [],
   "source": [
    "# Setup feedback system\n",
    "from learntools.core import binder\n",
    "binder.bind(globals())\n",
    "from learntools.time_series.ex3 import *\n",
    "\n",
    "# Setup notebook\n",
    "import holidays\n",
    "import matplotlib.pyplot as plt\n",
    "import pandas as pd\n",
    "import seaborn as sns\n",
    "from fbprophet import Prophet\n",
    "from pathlib import Path\n",
    "from scipy.signal import periodogram\n",
    "from sklearn.linear_model import LinearRegression\n",
    "from statsmodels.tsa.deterministic import CalendarTimeTrend, CalendarFourier, CalendarSeasonality\n",
    "\n",
    "\n",
    "# Set Matplotlib defaults\n",
    "plt.style.use(\"seaborn-whitegrid\")\n",
    "plt.rc(\"figure\", autolayout=True, figsize=(11, 5))\n",
    "plt.rc(\n",
    "    \"axes\",\n",
    "    labelweight=\"bold\",\n",
    "    labelsize=\"large\",\n",
    "    titleweight=\"bold\",\n",
    "    titlesize=16,\n",
    "    titlepad=10,\n",
    ")\n",
    "\n",
    "\n",
    "def plot_periodogram(ts, freq=None, ax=None):\n",
    "    if freq is None:\n",
    "        freq = pd.Timedelta(\"1 Y\") / pd.Timedelta(\"1 D\")\n",
    "    freqencies, spec_density = periodogram(ts, fs=freq)\n",
    "    if ax is None:\n",
    "        _, ax = plt.subplots()\n",
    "    ax.step(freqencies, spec_density, color=\"purple\")\n",
    "    ax.set_xscale(\"log\")\n",
    "    ax.set_xticks([1, 4, 6, 12, 26, 52, 104])\n",
    "    ax.set_xticklabels(\n",
    "        [\n",
    "            \"Yearly\",\n",
    "            \"Quarterly\",\n",
    "            \"Bimonthly\",\n",
    "            \"Monthly\",\n",
    "            \"Biweekly\",\n",
    "            \"Weekly\",\n",
    "            \"Semiweekly\",\n",
    "        ],\n",
    "        rotation=30,\n",
    "    )\n",
    "    ax.ticklabel_format(axis=\"y\", style=\"sci\", scilimits=(0, 0))\n",
    "    ax.set_ylabel(\"Density\")\n",
    "    return ax\n",
    "\n",
    "\n",
    "# Load 1C data\n",
    "data_dir = Path(\"../input/ts-course-data\")\n",
    "df_train = pd.read_csv(data_dir / \"1c_train.csv\", parse_dates=[\"date\"])\n",
    "\n",
    "# Aggregate item sales into a single time series\n",
    "ts = df_train.pivot_table(index=\"date\", values=\"item_cnt_day\", aggfunc=\"sum\")\n",
    "ts = ts[\"item_cnt_day\"]\n",
    "ts = ts.to_period(\"D\")"
   ]
  },
  {
   "cell_type": "markdown",
   "metadata": {},
   "source": [
    "-------------------------------------------------------------------------------\n",
    "\n",
    "Examine the following seasonal plots. First, a plot of monthly sales over each year:"
   ]
  },
  {
   "cell_type": "code",
   "execution_count": null,
   "metadata": {},
   "outputs": [],
   "source": [
    "y = ts.to_frame()\n",
    "y[\"month\"] = y.index.month\n",
    "y[\"year\"] = y.index.year.astype(\"category\")\n",
    "sns.lineplot(x=\"month\", y=\"item_cnt_day\", hue=\"year\", data=y);"
   ]
  },
  {
   "cell_type": "markdown",
   "metadata": {},
   "source": [
    "And now a plot of daily sales over each week:"
   ]
  },
  {
   "cell_type": "code",
   "execution_count": null,
   "metadata": {
    "lines_to_next_cell": 2
   },
   "outputs": [],
   "source": [
    "y = ts.to_frame()\n",
    "y[\"day\"] = y.index.dayofweek\n",
    "y[\"week\"] = y.index.weekofyear\n",
    "sns.lineplot(x=\"day\", y=\"item_cnt_day\", hue=\"week\", data=y, ci=None);"
   ]
  },
  {
   "cell_type": "markdown",
   "metadata": {},
   "source": [
    "# 1) Seasonal Plots\n",
    "\n",
    "What kind of seasonality do you see in the series of item sales?"
   ]
  },
  {
   "cell_type": "code",
   "execution_count": null,
   "metadata": {},
   "outputs": [],
   "source": [
    "# View the solution (Run this cell to receive credit!)\n",
    "q_1.check()"
   ]
  },
  {
   "cell_type": "markdown",
   "metadata": {},
   "source": [
    "-------------------------------------------------------------------------------"
   ]
  },
  {
   "cell_type": "markdown",
   "metadata": {},
   "source": [
    "# 2) Create Seasonal Indicators\n",
    "\n",
    "Now create seasonal indicators for a weekly period. (Hint: the *frequency* is given in days.)"
   ]
  },
  {
   "cell_type": "code",
   "execution_count": null,
   "metadata": {
    "lines_to_next_cell": 0
   },
   "outputs": [],
   "source": [
    "# YOUR CODE HERE\n",
    "#_UNCOMMENT_IF(PROD)_\n",
    "#____\n",
    "\n",
    "# Check your answer\n",
    "q_2.check()"
   ]
  },
  {
   "cell_type": "code",
   "execution_count": null,
   "metadata": {
    "lines_to_next_cell": 0
   },
   "outputs": [],
   "source": [
    "# Lines below will give you a hint or solution code\n",
    "#_COMMENT_IF(PROD)_\n",
    "q_2.hint()\n",
    "#_COMMENT_IF(PROD)_\n",
    "q_2.solution()"
   ]
  },
  {
   "cell_type": "code",
   "execution_count": null,
   "metadata": {
    "lines_to_next_cell": 2
   },
   "outputs": [],
   "source": [
    "#%%RM_IF(PROD)%%\n",
    "X_season = pd.DataFrame(index=ts.index)\n",
    "\n",
    "seasonality = CalendarSeasonality(freq=\"D\", period=\"W\")\n",
    "X_season = X_season.join(seasonality.in_sample(X_season.index))\n",
    "\n",
    "q_2.assert_check_passed()"
   ]
  },
  {
   "cell_type": "code",
   "execution_count": null,
   "metadata": {},
   "outputs": [],
   "source": [
    "print(X_season)"
   ]
  },
  {
   "cell_type": "markdown",
   "metadata": {},
   "source": [
    "-------------------------------------------------------------------------------\n",
    "\n",
    "Now look at the periodogram of the sales series:"
   ]
  },
  {
   "cell_type": "code",
   "execution_count": null,
   "metadata": {},
   "outputs": [],
   "source": [
    "ax = plot_periodogram(ts)\n",
    "_ = ax.set_title(\"Item Sales Frequency Components\")"
   ]
  },
  {
   "cell_type": "markdown",
   "metadata": {},
   "source": [
    "# 3) Create Seasonal Fourier Features\n",
    "\n",
    "Based on the periodogram above, create Fourier features for an annual (yearly) seasonality with the appropriate order."
   ]
  },
  {
   "cell_type": "code",
   "execution_count": null,
   "metadata": {
    "lines_to_next_cell": 0
   },
   "outputs": [],
   "source": [
    "# YOUR CODE HERE\n",
    "#_UNCOMMENT_IF(PROD)_\n",
    "#____\n",
    "\n",
    "# Check your answer\n",
    "q_3.check()"
   ]
  },
  {
   "cell_type": "code",
   "execution_count": null,
   "metadata": {
    "lines_to_next_cell": 0
   },
   "outputs": [],
   "source": [
    "# Lines below will give you a hint or solution code\n",
    "#_COMMENT_IF(PROD)_\n",
    "q_3.hint()\n",
    "#_COMMENT_IF(PROD)_\n",
    "q_3.solution()"
   ]
  },
  {
   "cell_type": "code",
   "execution_count": null,
   "metadata": {
    "lines_to_next_cell": 2
   },
   "outputs": [],
   "source": [
    "#%%RM_IF(PROD)%%\n",
    "X_fourier = pd.DataFrame(index=ts.index)\n",
    "\n",
    "fourier = CalendarFourier(freq=\"A\", order=52)\n",
    "X_fourier = X_fourier.join(fourier.in_sample(X_fourier.index))\n",
    "\n",
    "q_3.assert_check_passed()"
   ]
  },
  {
   "cell_type": "code",
   "execution_count": null,
   "metadata": {},
   "outputs": [],
   "source": [
    "print(X_fourier)"
   ]
  },
  {
   "cell_type": "markdown",
   "metadata": {},
   "source": [
    "-------------------------------------------------------------------------------"
   ]
  },
  {
   "cell_type": "markdown",
   "metadata": {},
   "source": [
    "# 4) Create Holiday Indicators\n",
    "\n",
    "Join holiday indicators for Russia (`\"RU\"` country code) to your feature set."
   ]
  },
  {
   "cell_type": "code",
   "execution_count": null,
   "metadata": {
    "lines_to_next_cell": 0
   },
   "outputs": [],
   "source": [
    "# YOUR CODE HERE\n",
    "#_UNCOMMENT_IF(PROD)_\n",
    "#____\n",
    "\n",
    "# Check your answer\n",
    "q_4.check()"
   ]
  },
  {
   "cell_type": "code",
   "execution_count": null,
   "metadata": {
    "lines_to_next_cell": 0
   },
   "outputs": [],
   "source": [
    "# Lines below will give you a hint or solution code\n",
    "#_COMMENT_IF(PROD)_\n",
    "q_4.hint()\n",
    "#_COMMENT_IF(PROD)_\n",
    "q_4.solution()"
   ]
  },
  {
   "cell_type": "code",
   "execution_count": null,
   "metadata": {},
   "outputs": [],
   "source": [
    "#%%RM_IF(PROD)%%\n",
    "# Solution 1\n",
    "X_holiday = pd.DataFrame(index=ts.index)\n",
    "\n",
    "ru_holidays = holidays.RU(years=ts.index.year.unique()).items()  # returns pairs (date, name)\n",
    "date, name = list(zip(*ru_holidays))  # unzip pairs into separate lists\n",
    "\n",
    "X_holiday = X_holiday.join(pd.Series(\n",
    "    name,\n",
    "    index=pd.PeriodIndex(date, freq=\"D\"),\n",
    "    name=\"holiday\",\n",
    "))\n",
    "X_holiday = pd.get_dummies(X_holiday, drop_first=True)\n",
    "\n",
    "\n",
    "# Solution 2\n",
    "X_holiday = pd.DataFrame(index=ts.index).to_timestamp()\n",
    "\n",
    "prophet = Prophet()\n",
    "prophet.add_country_holidays(\"RU\")\n",
    "X_holiday = X_holiday.join(\n",
    "    prophet.construct_holiday_dataframe(\n",
    "        pd.period_range(start=ts.index[0], end=ts.index[-1], freq=\"D\")\n",
    "    ).set_index(\"ds\"))\n",
    "X_holiday = pd.get_dummies(X_holiday, drop_first=True).to_period(\"D\")\n",
    "\n",
    "\n",
    "q_4.assert_check_passed()"
   ]
  },
  {
   "cell_type": "markdown",
   "metadata": {},
   "source": [
    "<mark>maybe wrap this into a function for easier use</mark>\n"
   ]
  },
  {
   "cell_type": "code",
   "execution_count": null,
   "metadata": {
    "lines_to_next_cell": 2
   },
   "outputs": [],
   "source": [
    "print(X_holiday)"
   ]
  },
  {
   "cell_type": "markdown",
   "metadata": {},
   "source": [
    "-------------------------------------------------------------------------------\n",
    "\n",
    "# 4) Fit Seasonal Model\n",
    "\n",
    "Create a seasonal model using scikit-learn's `LinearRegression`.\n"
   ]
  },
  {
   "cell_type": "code",
   "execution_count": null,
   "metadata": {
    "lines_to_next_cell": 0
   },
   "outputs": [],
   "source": [
    "# YOUR CODE HERE\n",
    "#_UNCOMMENT_IF(PROD)_\n",
    "#____\n",
    "\n",
    "# Check your answer\n",
    "q_4.check()"
   ]
  },
  {
   "cell_type": "code",
   "execution_count": null,
   "metadata": {
    "lines_to_next_cell": 0
   },
   "outputs": [],
   "source": [
    "# Lines below will give you a hint or solution code\n",
    "#_COMMENT_IF(PROD)_\n",
    "q_4.hint()\n",
    "#_COMMENT_IF(PROD)_\n",
    "q_4.solution()"
   ]
  },
  {
   "cell_type": "code",
   "execution_count": null,
   "metadata": {},
   "outputs": [],
   "source": [
    "#%%RM_IF(PROD)%%\n",
    "def create_features(ts, trend_order=1, fourier_order=12):\n",
    "    \"\"\"Recreates features from earlier questions to ensure consistency.\"\"\"\n",
    "    X = pd.DataFrame(index=ts.index)\n",
    "    trend = CalendarTimeTrend(\n",
    "        freq=\"D\", order=trend_order, base_period=X.index[0]\n",
    "    )\n",
    "    X = X.join(trend.in_sample(X.index))\n",
    "    seasonality = CalendarSeasonality(freq=\"D\", period=\"W\")\n",
    "    X = X.join(seasonality.in_sample(X.index))\n",
    "    fourier = CalendarFourier(freq=\"A\", order=fourier_order)\n",
    "    X = X.join(fourier.in_sample(X.index))\n",
    "    # holidays\n",
    "    # prophet = Prophet()\n",
    "    # prophet.add_country_holidays(\"RU\")\n",
    "    # X = X.join(\n",
    "    #     prophet.construct_holiday_dataframe(\n",
    "    #         pd.date_range(start=ts.index[0], end=ts.index[-1], freq=\"D\")\n",
    "    #     ).set_index(\"ds\").to_period(\"D\"))\n",
    "    # X = pd.get_dummies(X, drop_first=True)\n",
    "    return X\n",
    "\n",
    "\n",
    "X = create_features(ts, fourier_order=110)\n",
    "\n",
    "seasonal_model = LinearRegression()\n",
    "seasonal_model.fit(X, ts)\n",
    "\n",
    "\n",
    "q_4.assert_check_passed()"
   ]
  },
  {
   "cell_type": "markdown",
   "metadata": {},
   "source": [
    "<mark>move `create_features` to learntools import, maybe; need for checking code anyway</mark>"
   ]
  },
  {
   "cell_type": "markdown",
   "metadata": {},
   "source": [
    "Run the cell below to see the result!"
   ]
  },
  {
   "cell_type": "code",
   "execution_count": null,
   "metadata": {},
   "outputs": [],
   "source": [
    "# plot seasonal plus trend\n",
    "seasonal_fit = pd.Series(seasonal_model.predict(X).reshape(-1), index=ts.index)\n",
    "ax = ts.plot(color=\"0.25\", style=\".\", title=\"Total Sales\", ylabel=\"items sold\")\n",
    "seasonal_fit.plot(ax=ax, label=\"Linear Trend\")\n",
    "plt.legend();"
   ]
  },
  {
   "cell_type": "markdown",
   "metadata": {},
   "source": [
    "The weekly and yearly seasonal features appear to be fitting the data well. But what about the holiday indicators?\n",
    "\n",
    "-------------------------------------------------------------------------------\n",
    "\n",
    "Run this cell to see the detrended and deseasonalized series."
   ]
  },
  {
   "cell_type": "code",
   "execution_count": null,
   "metadata": {},
   "outputs": [],
   "source": [
    "deseasonalized = ts - seasonal_fit\n",
    "ax = deseasonalized.plot()"
   ]
  },
  {
   "cell_type": "markdown",
   "metadata": {},
   "source": [
    "# 5) Examine Deseasonalized Series\n",
    "\n",
    "Does there appear to be any regular or periodic behavior still present? How could you check?"
   ]
  },
  {
   "cell_type": "code",
   "execution_count": null,
   "metadata": {},
   "outputs": [],
   "source": [
    "# View the solution (Run this cell to receive credit!)\n",
    "q_5.check()"
   ]
  },
  {
   "cell_type": "markdown",
   "metadata": {},
   "source": [
    "Look now at the periodogram of the deseasonalized series."
   ]
  },
  {
   "cell_type": "code",
   "execution_count": null,
   "metadata": {},
   "outputs": [],
   "source": [
    "fig, (ax1, ax2) = plt.subplots(2, 1, sharex=True, sharey=True, figsize=(10, 7))\n",
    "ax1 = plot_periodogram(ts, ax=ax1)\n",
    "ax1.set_title(\"Item Sales Frequency Components\")\n",
    "ax2 = plot_periodogram(deseasonalized, ax=ax2);\n",
    "ax2.set_title(\"Deseasonalized\")\n",
    "plt.show()"
   ]
  },
  {
   "cell_type": "markdown",
   "metadata": {},
   "source": [
    "Based on this periodogram, does it seem like your seasonal features captured all (or almost all) of the seasonality in this series? Does it confirm your observations of the deseasonalized series?\n",
    "\n",
    "You might try varying the number of Fourier components to see what effect that has on the periodogram of the deseasonalized series.\n",
    "\n",
    "# Keep Going #"
   ]
  }
 ],
 "metadata": {
  "jupytext": {
   "cell_metadata_filter": "-all",
   "formats": "ipynb"
  },
  "kernelspec": {
   "display_name": "Python 3",
   "language": "python",
   "name": "python3"
  },
  "language_info": {
   "codemirror_mode": {
    "name": "ipython",
    "version": 3
   },
   "file_extension": ".py",
   "mimetype": "text/x-python",
   "name": "python",
   "nbconvert_exporter": "python",
   "pygments_lexer": "ipython3",
   "version": "3.6.5"
  }
 },
 "nbformat": 4,
 "nbformat_minor": 4
}
