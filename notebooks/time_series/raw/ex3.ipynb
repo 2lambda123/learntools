{
 "cells": [
  {
   "cell_type": "markdown",
   "id": "smart-environment",
   "metadata": {},
   "source": [
    "# Introduction #\n",
    "\n",
    "Run this cell to set everything up!"
   ]
  },
  {
   "cell_type": "code",
   "execution_count": null,
   "id": "assigned-writer",
   "metadata": {},
   "outputs": [],
   "source": [
    "# Setup feedback system\n",
    "from learntools.core import binder\n",
    "binder.bind(globals())\n",
    "from learntools.time_series.ex3 import *\n",
    "\n",
    "# Setup notebook\n",
    "import warnings\n",
    "from pathlib import Path\n",
    "\n",
    "import pandas as pd\n",
    "import matplotlib.pyplot as plt\n",
    "import numpy as np\n",
    "import seaborn as sns\n",
    "from sklearn.linear_model import LinearRegression\n",
    "from statsmodels.tsa.deterministic import CalendarFourier, DeterministicProcess\n",
    "\n",
    "warnings.simplefilter(\"ignore\")\n",
    "\n",
    "plt.style.use(\"seaborn-whitegrid\")\n",
    "plt.rc(\n",
    "    \"figure\",\n",
    "    autolayout=True,\n",
    "    figsize=(11, 4),\n",
    "    titlesize=18,\n",
    "    titleweight='bold',\n",
    ")\n",
    "plt.rc(\n",
    "    \"axes\",\n",
    "    labelweight=\"bold\",\n",
    "    labelsize=\"large\",\n",
    "    titleweight=\"bold\",\n",
    "    titlesize=16,\n",
    "    titlepad=10,\n",
    ")\n",
    "plot_params = dict(\n",
    "    color=\"0.75\",\n",
    "    style=\".-\",\n",
    "    markeredgecolor=\"0.25\",\n",
    "    markerfacecolor=\"0.25\",\n",
    "    legend=False,\n",
    ")\n",
    "%config InlineBackend.figure_format = 'retina'\n",
    "\n",
    "\n",
    "def seasonal_plot(X, y, period, freq, ax=None):\n",
    "    if ax is None:\n",
    "        _, ax = plt.subplots()\n",
    "    palette = sns.color_palette(\"husl\", n_colors=X[period].nunique(),)\n",
    "    ax = sns.lineplot(\n",
    "        x=freq,\n",
    "        y=y,\n",
    "        hue=period,\n",
    "        data=X,\n",
    "        ci=False,\n",
    "        ax=ax,\n",
    "        palette=palette,\n",
    "        legend=False,\n",
    "    )\n",
    "    ax.set_title(f\"Seasonal Plot ({period}/{freq})\")\n",
    "    for line, name in zip(ax.lines, X[period].unique()):\n",
    "        y_ = line.get_ydata()[-1]\n",
    "        ax.annotate(\n",
    "            name,\n",
    "            xy=(1, y_),\n",
    "            xytext=(6, 0),\n",
    "            color=line.get_color(),\n",
    "            xycoords=ax.get_yaxis_transform(),\n",
    "            textcoords=\"offset points\",\n",
    "            size=14,\n",
    "            va=\"center\",\n",
    "        )\n",
    "    return ax\n",
    "\n",
    "\n",
    "def plot_periodogram(ts, detrend='linear', ax=None):\n",
    "    from scipy.signal import periodogram\n",
    "    fs = pd.Timedelta(\"1Y\") / pd.Timedelta(\"1D\")\n",
    "    freqencies, spectrum = periodogram(\n",
    "        ts,\n",
    "        fs=fs,\n",
    "        detrend=detrend,\n",
    "        window=\"boxcar\",\n",
    "        scaling='spectrum',\n",
    "    )\n",
    "    if ax is None:\n",
    "        _, ax = plt.subplots()\n",
    "    ax.step(freqencies, spectrum, color=\"purple\")\n",
    "    ax.set_xscale(\"log\")\n",
    "    ax.set_xticks([1, 2, 4, 6, 12, 26, 52, 104])\n",
    "    ax.set_xticklabels(\n",
    "        [\n",
    "            \"Annual (1)\",\n",
    "            \"Semiannual (2)\",\n",
    "            \"Quarterly (4)\",\n",
    "            \"Bimonthly (6)\",\n",
    "            \"Monthly (12)\",\n",
    "            \"Biweekly (26)\",\n",
    "            \"Weekly (52)\",\n",
    "            \"Semiweekly (104)\",\n",
    "        ],\n",
    "        rotation=30,\n",
    "    )\n",
    "    ax.ticklabel_format(axis=\"y\", style=\"sci\", scilimits=(0, 0))\n",
    "    ax.set_ylabel(\"Variance\")\n",
    "    ax.set_title(\"Periodogram\")\n",
    "    return ax\n",
    "\n",
    "\n",
    "comp_dir = Path('../input/store-sales-time-series-forecasting')\n",
    "\n",
    "holidays_events = pd.read_csv(\n",
    "    comp_dir / \"holidays_events.csv\",\n",
    "    parse_dates=['date'],\n",
    "    infer_datetime_format=True,\n",
    ").set_index('date').to_period('D')\n",
    "\n",
    "store_sales = pd.read_csv(\n",
    "    comp_dir / 'train.csv',\n",
    "    usecols=['store_nbr', 'family', 'date', 'sales'],\n",
    "    dtype={\n",
    "        'store_nbr': 'category',\n",
    "        'family': 'category',\n",
    "        'sales': 'float32',\n",
    "    },\n",
    "    parse_dates=['date'],\n",
    "    infer_datetime_format=True,\n",
    ")\n",
    "store_sales['date'] = store_sales.date.dt.to_period('D')\n",
    "store_sales = store_sales.set_index(['store_nbr', 'family', 'date']).sort_index()\n",
    "average_sales = (\n",
    "    store_sales\n",
    "    .groupby('date').mean()\n",
    "    .squeeze()\n",
    "    .loc['2017']\n",
    ")"
   ]
  },
  {
   "cell_type": "markdown",
   "id": "attached-switch",
   "metadata": {},
   "source": [
    "-------------------------------------------------------------------------------\n",
    "\n",
    "Examine the following seasonal plot:"
   ]
  },
  {
   "cell_type": "code",
   "execution_count": null,
   "id": "affecting-marking",
   "metadata": {},
   "outputs": [],
   "source": [
    "X = average_sales.to_frame()\n",
    "X[\"week\"] = X.index.week\n",
    "X[\"day\"] = X.index.dayofweek\n",
    "seasonal_plot(X, y='sales', period='week', freq='day');"
   ]
  },
  {
   "cell_type": "markdown",
   "id": "suffering-howard",
   "metadata": {},
   "source": [
    "And also the periodogram:"
   ]
  },
  {
   "cell_type": "code",
   "execution_count": null,
   "id": "reasonable-present",
   "metadata": {},
   "outputs": [],
   "source": [
    "plot_periodogram(average_sales);"
   ]
  },
  {
   "cell_type": "markdown",
   "id": "passing-austin",
   "metadata": {},
   "source": [
    "# 1) Determine seasonality\n",
    "\n",
    "What kind of seasonality do you see evidence of? Once you've thought about it, run the next cell for some discussion."
   ]
  },
  {
   "cell_type": "code",
   "execution_count": null,
   "id": "revised-brush",
   "metadata": {},
   "outputs": [],
   "source": [
    "# View the solution (Run this cell to receive credit!)\n",
    "q_1.check()"
   ]
  },
  {
   "cell_type": "markdown",
   "id": "occasional-thinking",
   "metadata": {},
   "source": [
    "-------------------------------------------------------------------------------\n",
    "\n",
    "# 2) Create seasonal features\n",
    "\n",
    "Use `DeterministicProcess` and `CalendarFourier` to create:\n",
    "- indicators for weekly seasons and\n",
    "- Fourier features of order 4 for monthly seasons."
   ]
  },
  {
   "cell_type": "code",
   "execution_count": null,
   "id": "standard-footage",
   "metadata": {},
   "outputs": [],
   "source": [
    "y = average_sales.copy()\n",
    "\n",
    "# YOUR CODE HERE\n",
    "fourier = ____\n",
    "dp = DeterministicProcess(\n",
    "    index=y.index,\n",
    "    constant=True,\n",
    "    order=1,\n",
    "    # YOUR CODE HERE\n",
    "    # ____\n",
    "    drop=True,\n",
    ")\n",
    "X = dp.in_sample()\n",
    "\n",
    "# Check your answer\n",
    "q_2.check()"
   ]
  },
  {
   "cell_type": "code",
   "execution_count": null,
   "id": "anticipated-proposition",
   "metadata": {},
   "outputs": [],
   "source": [
    "# Lines below will give you a hint or solution code\n",
    "#_COMMENT_IF(PROD)_\n",
    "q_2.hint()\n",
    "#_COMMENT_IF(PROD)_\n",
    "q_2.solution()"
   ]
  },
  {
   "cell_type": "code",
   "execution_count": null,
   "id": "multiple-hardwood",
   "metadata": {
    "lines_to_next_cell": 2
   },
   "outputs": [],
   "source": [
    "#%%RM_IF(PROD)%%\n",
    "y = average_sales.copy()\n",
    "fourier = CalendarFourier(freq='M', order=4)\n",
    "dp = DeterministicProcess(\n",
    "    index=y.index,\n",
    "    constant=True,\n",
    "    order=1,\n",
    "    seasonal=True,\n",
    "    additional_terms=[fourier],\n",
    "    drop=True,\n",
    ")\n",
    "X = dp.in_sample()\n",
    "\n",
    "q_2.assert_check_passed()"
   ]
  },
  {
   "cell_type": "markdown",
   "id": "excellent-asbestos",
   "metadata": {},
   "source": [
    "Now run this cell to fit the seasonal model."
   ]
  },
  {
   "cell_type": "code",
   "execution_count": null,
   "id": "thrown-mystery",
   "metadata": {},
   "outputs": [],
   "source": [
    "model = LinearRegression().fit(X, y)\n",
    "y_pred = pd.Series(\n",
    "    model.predict(X),\n",
    "    index=X.index,\n",
    "    name='Fitted',\n",
    ")\n",
    "\n",
    "y_pred = pd.Series(model.predict(X), index=X.index)\n",
    "ax = y.plot(**plot_params, alpha=0.5, title=\"Average Sales\", ylabel=\"items sold\")\n",
    "ax = y_pred.plot(ax=ax, label=\"Seasonal\")\n",
    "ax.legend();"
   ]
  },
  {
   "cell_type": "markdown",
   "id": "sophisticated-class",
   "metadata": {},
   "source": [
    "-------------------------------------------------------------------------------"
   ]
  },
  {
   "cell_type": "markdown",
   "id": "homeless-poultry",
   "metadata": {},
   "source": [
    "Run the next cell to see the deseasonalized series with holidays indicated."
   ]
  },
  {
   "cell_type": "code",
   "execution_count": null,
   "id": "smart-religion",
   "metadata": {},
   "outputs": [],
   "source": [
    "y_deseason = y - y_pred\n",
    "\n",
    "# Dates of national and regional holidays in the training set\n",
    "holidays = (\n",
    "    holidays_events\n",
    "    .query(\"locale in ['National', 'Regional']\")\n",
    "    .loc['2017-01':'2017-08-15', :]\n",
    "    .index\n",
    ")\n",
    "\n",
    "ax = y_deseason.plot(**plot_params)\n",
    "plt.plot_date(holidays, y_deseason[holidays], color='C3')\n",
    "ax.set_title('National and Regional Holidays')"
   ]
  },
  {
   "cell_type": "markdown",
   "id": "competitive-hurricane",
   "metadata": {},
   "source": [
    "# 3) Explore holiday events\n",
    "\n",
    "Does it appear that features representing holidays could be useful to include?"
   ]
  },
  {
   "cell_type": "code",
   "execution_count": null,
   "id": "funded-cigarette",
   "metadata": {},
   "outputs": [],
   "source": [
    "# View the solution (Run this cell to receive credit!)\n",
    "q_3.check()"
   ]
  },
  {
   "cell_type": "markdown",
   "id": "narrative-curve",
   "metadata": {},
   "source": [
    "A one-hot encoding would work well.\n"
   ]
  },
  {
   "cell_type": "code",
   "execution_count": null,
   "id": "permanent-forth",
   "metadata": {},
   "outputs": [],
   "source": [
    "#X['NewYear'] = "
   ]
  },
  {
   "cell_type": "markdown",
   "id": "amazing-selling",
   "metadata": {},
   "source": [
    "-------------------------------------------------------------------------------\n",
    "\n",
    "# 4) Check for remaining seasonality\n",
    "\n",
    "Does there appear to be any regular or periodic behavior still present? How could you check?"
   ]
  },
  {
   "cell_type": "code",
   "execution_count": null,
   "id": "thermal-candidate",
   "metadata": {},
   "outputs": [],
   "source": [
    "# View the solution (Run this cell to receive credit!)\n",
    "q_4.check()"
   ]
  },
  {
   "cell_type": "markdown",
   "id": "unlikely-teach",
   "metadata": {},
   "source": [
    "Look at the periodogram of the deseasonalized series."
   ]
  },
  {
   "cell_type": "code",
   "execution_count": null,
   "id": "weird-romania",
   "metadata": {},
   "outputs": [],
   "source": [
    "fig, (ax1, ax2) = plt.subplots(2, 1, sharex=True, sharey=True, figsize=(10, 7))\n",
    "ax1 = plot_periodogram(y, ax=ax1)\n",
    "ax1.set_title(\"Product Sales Frequency Components\")\n",
    "ax2 = plot_periodogram(y_deseason, ax=ax2);\n",
    "ax2.set_title(\"Deseasonalized\");"
   ]
  },
  {
   "cell_type": "markdown",
   "id": "capable-handling",
   "metadata": {},
   "source": [
    "Based on this periodogram, how effectively does it appear your model captured the seasonality in this series? Does it agree with your observations of the deseasonalized series?\n",
    "\n",
    "-------------------------------------------------------------------------------\n",
    "\n",
    "# (Optional) Understand log transforms and the RMSLE metric"
   ]
  },
  {
   "cell_type": "markdown",
   "id": "optional-particle",
   "metadata": {},
   "source": [
    "Sometimes a logarithmic transform is effective at stabilizing the variation in a series.\n",
    "\n",
    "```\n",
    "log(trend * seasons * error) = log(trend) + log(seasons) + log(error)\n",
    "```\n",
    "\n",
    "The next cell plots the change in store sales after a log-transform. Notice how the variation in the transformed series, instead of increasing over time, appears to be almost constant from start to finish."
   ]
  },
  {
   "cell_type": "code",
   "execution_count": null,
   "id": "north-bradley",
   "metadata": {
    "lines_to_next_cell": 2
   },
   "outputs": [],
   "source": [
    "import numpy as np\n",
    "\n",
    "fig, (ax1, ax2) = plt.subplots(2, 1, sharex=True, figsize=(10, 7))\n",
    "average_sales.plot(ax=ax1)\n",
    "ax1.set_title(\"Sales\")\n",
    "ax2 = np.log1p(average_sales).plot(ax=ax2)\n",
    "ax2.set_title(\"Log Sales\");"
   ]
  },
  {
   "cell_type": "code",
   "execution_count": null,
   "id": "unavailable-account",
   "metadata": {
    "lines_to_next_cell": 2
   },
   "outputs": [],
   "source": [
    "from sklearn.metrics import mean_squared_log_error\n",
    "\n",
    "X_valid = dp.out_of_sample(steps=16)\n",
    "X_valid['NewYear'] = False\n",
    "\n",
    "rmsle_train = mean_squared_log_error(y_train, y_pred) ** 0.5\n",
    "rmsle_valid = mean_squared_log_error(y_valid, model.predict(X_valid)) ** 0.5\n",
    "\n",
    "print(f'Training RMSLE: {rmsle_train:.5f}')\n",
    "print(f'Validation RMSLE: {rmsle_valid:.5f}')"
   ]
  },
  {
   "cell_type": "code",
   "execution_count": null,
   "id": "objective-receiver",
   "metadata": {
    "lines_to_next_cell": 2
   },
   "outputs": [],
   "source": [
    "from sklearn.metrics import mean_squared_error\n",
    "\n",
    "model = LinearRegression().fit(X, np.log1p(y_train))\n",
    "y_pred = pd.Series(\n",
    "    model.predict(X),\n",
    "    index=X.index,\n",
    "    name='Fitted',\n",
    ")\n",
    "\n",
    "rmsle_train = mean_squared_error(np.log1p(y_train), y_pred) ** 0.5\n",
    "rmsle_valid = mean_squared_error(np.log1p(y_valid), model.predict(X_valid)) ** 0.5\n",
    "\n",
    "print(f'Training RMSLE: {rmsle_train:.5f}')\n",
    "print(f'Validation RMSLE: {rmsle_valid:.5f}')"
   ]
  },
  {
   "cell_type": "markdown",
   "id": "young-indonesia",
   "metadata": {},
   "source": [
    "-------------------------------------------------------------------------------\n"
   ]
  },
  {
   "cell_type": "markdown",
   "id": "coordinated-howard",
   "metadata": {},
   "source": [
    "# Keep Going #"
   ]
  }
 ],
 "metadata": {
  "jupytext": {
   "cell_metadata_filter": "-all",
   "formats": "ipynb,md"
  },
  "kernelspec": {
   "display_name": "Python 3",
   "language": "python",
   "name": "python3"
  },
  "language_info": {
   "codemirror_mode": {
    "name": "ipython",
    "version": 3
   },
   "file_extension": ".py",
   "mimetype": "text/x-python",
   "name": "python",
   "nbconvert_exporter": "python",
   "pygments_lexer": "ipython3",
   "version": "3.6.5"
  }
 },
 "nbformat": 4,
 "nbformat_minor": 5
}
