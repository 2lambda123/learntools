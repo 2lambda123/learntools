{
 "cells": [
  {
   "cell_type": "markdown",
   "metadata": {},
   "source": [
    "# Introduction #"
   ]
  },
  {
   "cell_type": "markdown",
   "metadata": {},
   "source": [
    "Run this cell to set everything up!"
   ]
  },
  {
   "cell_type": "code",
   "execution_count": null,
   "metadata": {
    "lines_to_next_cell": 0
   },
   "outputs": [],
   "source": [
    "# Setup feedback system\n",
    "from learntools.core import binder\n",
    "binder.bind(globals())\n",
    "from learntools.time_series.ex2 import *\n",
    "\n",
    "# Setup notebook\n",
    "import matplotlib.pyplot as plt\n",
    "import pandas as pd\n",
    "from fbprophet import Prophet\n",
    "from pathlib import Path\n",
    "from sklearn.linear_model import LinearRegression\n",
    "from statsmodels.tsa.deterministic import CalendarTimeTrend\n",
    "\n",
    "# Set Matplotlib defaults\n",
    "plt.style.use(\"seaborn-whitegrid\")\n",
    "plt.rc(\"figure\", autolayout=True, figsize=(11, 5))\n",
    "plt.rc(\n",
    "    \"axes\",\n",
    "    labelweight=\"bold\",\n",
    "    labelsize=\"large\",\n",
    "    titleweight=\"bold\",\n",
    "    titlesize=16,\n",
    "    titlepad=10,\n",
    ")\n",
    "\n",
    "\n",
    "# Load 1C data\n",
    "data_dir = Path(\"../input/ts-course-data\")\n",
    "df_train = pd.read_csv(data_dir / \"1c_train.csv\", parse_dates=[\"date\"])\n",
    "\n",
    "# Aggregate item sales into a single time series\n",
    "ts = df_train.pivot_table(index=\"date\", values=\"item_cnt_day\", aggfunc=\"sum\")\n",
    "ts = ts[\"item_cnt_day\"]\n",
    "\n",
    "# Plot\n",
    "ts.plot(color=\"0.25\", title=\"Total Sales\", ylabel=\"items sold\");"
   ]
  },
  {
   "cell_type": "markdown",
   "metadata": {},
   "source": [
    "-------------------------------------------------------------------------------"
   ]
  },
  {
   "cell_type": "markdown",
   "metadata": {},
   "source": [
    "# 1) Make Trend Plot\n",
    "\n",
    "Visualize the trend by creating a 365-day moving-average plot with a centered window."
   ]
  },
  {
   "cell_type": "code",
   "execution_count": null,
   "metadata": {
    "lines_to_next_cell": 0
   },
   "outputs": [],
   "source": [
    "# YOUR CODE HERE\n",
    "#_UNCOMMENT_IF(PROD)_\n",
    "#ax = ____\n",
    "\n",
    "# Check your answer\n",
    "q_1.check()"
   ]
  },
  {
   "cell_type": "code",
   "execution_count": null,
   "metadata": {
    "lines_to_next_cell": 0
   },
   "outputs": [],
   "source": [
    "# Lines below will give you a hint or solution code\n",
    "#_COMMENT_IF(PROD)_\n",
    "q_1.hint()\n",
    "#_COMMENT_IF(PROD)_\n",
    "q_1.solution()"
   ]
  },
  {
   "cell_type": "code",
   "execution_count": null,
   "metadata": {},
   "outputs": [],
   "source": [
    "#%%RM_IF(PROD)%%\n",
    "ts.rolling(365, center=True).mean().plot();\n",
    "\n",
    "q_1.assert_check_passed()"
   ]
  },
  {
   "cell_type": "markdown",
   "metadata": {},
   "source": [
    "How does this moving-average compare to the trend component created by Prophet? Run the next cell if you'd like to see it again."
   ]
  },
  {
   "cell_type": "code",
   "execution_count": null,
   "metadata": {},
   "outputs": [],
   "source": [
    "df = pd.DataFrame(dict(ds=ts.index, y=ts))\n",
    "prophet = Prophet(seasonality_mode=\"multiplicative\")\n",
    "prophet.fit(df)\n",
    "y_pred = prophet.predict(df)\n",
    "prophet.plot_components(y_pred);"
   ]
  },
  {
   "cell_type": "markdown",
   "metadata": {},
   "source": [
    "--------------------------------------------------------------------------------"
   ]
  },
  {
   "cell_type": "markdown",
   "metadata": {},
   "source": [
    "# 1) Create a Trend Feature\n",
    "\n",
    "Create a linear trend feature using the `CalendarTimeTrend` function from `statsmodels`."
   ]
  },
  {
   "cell_type": "code",
   "execution_count": null,
   "metadata": {
    "lines_to_next_cell": 0
   },
   "outputs": [],
   "source": [
    "X = pd.DataFrame(index=ts.index).to_period(\"D\")\n",
    "\n",
    "# YOUR CODE HERE: Instantiate CalendarTimeTrend\n",
    "#_UNCOMMENT_IF(PROD)_\n",
    "#trend = ____\n",
    "# YOUR CODE HERE: Create the feature and join to X\n",
    "#_UNCOMMENT_IF(PROD)_\n",
    "#X = ____\n",
    "\n",
    "\n",
    "# Check your answer\n",
    "q_1.check()"
   ]
  },
  {
   "cell_type": "code",
   "execution_count": null,
   "metadata": {
    "lines_to_next_cell": 0
   },
   "outputs": [],
   "source": [
    "# Lines below will give you a hint or solution code\n",
    "#_COMMENT_IF(PROD)_\n",
    "q_1.hint()\n",
    "#_COMMENT_IF(PROD)_\n",
    "q_1.solution()"
   ]
  },
  {
   "cell_type": "code",
   "execution_count": null,
   "metadata": {},
   "outputs": [],
   "source": [
    "#%%RM_IF(PROD)%%\n",
    "X = pd.DataFrame(index=ts.index).to_period(\"D\")\n",
    "\n",
    "trend = CalendarTimeTrend(\n",
    "    freq=\"D\", order=1, constant=False, base_period=X.index[0]\n",
    ")\n",
    "X = X.join(trend.in_sample(X.index))\n",
    "\n",
    "\n",
    "q_1.assert_check_passed()"
   ]
  },
  {
   "cell_type": "markdown",
   "metadata": {},
   "source": [
    "Run the next cell if you'd like to see the result."
   ]
  },
  {
   "cell_type": "code",
   "execution_count": null,
   "metadata": {},
   "outputs": [],
   "source": [
    "print(X)"
   ]
  },
  {
   "cell_type": "markdown",
   "metadata": {},
   "source": [
    "--------------------------------------------------------------------------------"
   ]
  },
  {
   "cell_type": "markdown",
   "metadata": {},
   "source": [
    "# 2) Fit Linear Trend Model\n",
    "\n",
    "Using the `LinearRegression` model from scikit-learn, fit a linear trend model to `ts` on the feature set `X` you just created."
   ]
  },
  {
   "cell_type": "code",
   "execution_count": null,
   "metadata": {
    "lines_to_next_cell": 0
   },
   "outputs": [],
   "source": [
    "# YOUR CODE HERE: Create the trend model\n",
    "#_UNCOMMENT_IF(PROD)_\n",
    "#trend_model = ____\n",
    "# YOUR CODE HERE: Fit the model to ts using X\n",
    "#_UNCOMMENT_IF(PROD)_\n",
    "#____\n",
    "\n",
    "# Check your answer\n",
    "q_2.check()"
   ]
  },
  {
   "cell_type": "code",
   "execution_count": null,
   "metadata": {
    "lines_to_next_cell": 0
   },
   "outputs": [],
   "source": [
    "# Lines below will give you a hint or solution code\n",
    "#_COMMENT_IF(PROD)_\n",
    "q_2.hint()\n",
    "#_COMMENT_IF(PROD)_\n",
    "q_2.solution()"
   ]
  },
  {
   "cell_type": "code",
   "execution_count": null,
   "metadata": {},
   "outputs": [],
   "source": [
    "#%%RM_IF(PROD)%%\n",
    "trend_model = LinearRegression()\n",
    "trend_model.fit(X, ts)\n",
    "\n",
    "q_2.assert_check_passed()"
   ]
  },
  {
   "cell_type": "markdown",
   "metadata": {},
   "source": [
    "You can see the a plot of the result by running the next cell."
   ]
  },
  {
   "cell_type": "code",
   "execution_count": null,
   "metadata": {
    "lines_to_next_cell": 2
   },
   "outputs": [],
   "source": [
    "trend_fit = pd.Series(trend_model.predict(X), index=ts.index)\n",
    "ax = ts.plot(color=\"0.25\", style=\".\", title=\"Total Sales\", ylabel=\"items sold\")\n",
    "trend_fit.plot(ax=ax, linewidth=3, label=\"Linear Trend\")\n",
    "plt.legend();"
   ]
  },
  {
   "cell_type": "markdown",
   "metadata": {},
   "source": [
    "--------------------------------------------------------------------------------"
   ]
  },
  {
   "cell_type": "markdown",
   "metadata": {},
   "source": [
    "# 2) Create a Quadratic Trend Feature\n",
    "\n",
    "Now create a trend feature of order 2."
   ]
  },
  {
   "cell_type": "code",
   "execution_count": null,
   "metadata": {
    "lines_to_next_cell": 0
   },
   "outputs": [],
   "source": [
    "# YOUR CODE HERE\n",
    "#_UNCOMMENT_IF(PROD)_\n",
    "#____\n",
    "\n",
    "# Check your answer\n",
    "q_2.check()"
   ]
  },
  {
   "cell_type": "code",
   "execution_count": null,
   "metadata": {
    "lines_to_next_cell": 0
   },
   "outputs": [],
   "source": [
    "# Lines below will give you a hint or solution code\n",
    "#_COMMENT_IF(PROD)_\n",
    "q_2.hint()\n",
    "#_COMMENT_IF(PROD)_\n",
    "q_2.solution()"
   ]
  },
  {
   "cell_type": "code",
   "execution_count": null,
   "metadata": {},
   "outputs": [],
   "source": [
    "#%%RM_IF(PROD)%%\n",
    "X_2 = pd.DataFrame(index=ts.index).to_period(\"D\")\n",
    "\n",
    "trend_2 = CalendarTimeTrend(\n",
    "    freq=\"D\", order=2, constant=False, base_period=X_2.index[0]\n",
    ")\n",
    "X_2 = X_2.join(trend_2.in_sample(X_2.index))\n",
    "\n",
    "q_2.assert_check_passed()"
   ]
  },
  {
   "cell_type": "markdown",
   "metadata": {},
   "source": [
    "Run the next cell if you'd like to see the result."
   ]
  },
  {
   "cell_type": "code",
   "execution_count": null,
   "metadata": {},
   "outputs": [],
   "source": [
    "print(X_2)"
   ]
  },
  {
   "cell_type": "markdown",
   "metadata": {},
   "source": [
    "And this cell will show you a plot of the quadratic trend.\n"
   ]
  },
  {
   "cell_type": "code",
   "execution_count": null,
   "metadata": {
    "lines_to_next_cell": 2
   },
   "outputs": [],
   "source": [
    "trend_model_2 = LinearRegression().fit(X_2, ts)\n",
    "trend_fit_2 = pd.Series(trend_model_2.predict(X_2), index=ts.index)\n",
    "ax = ts.plot(color=\"0.25\", style=\".\", title=\"Total Sales\", ylabel=\"items sold\")\n",
    "trend_fit_2.plot(ax=ax, linewidth=3, label=\"Quadratic Trend\")\n",
    "plt.legend();"
   ]
  },
  {
   "cell_type": "markdown",
   "metadata": {},
   "source": [
    "# 3) Detrend Series\n",
    "\n",
    "Now, using either of the trend predictions you made, detrend the item sales series and plot the result."
   ]
  },
  {
   "cell_type": "code",
   "execution_count": null,
   "metadata": {
    "lines_to_next_cell": 0
   },
   "outputs": [],
   "source": [
    "# YOUR CODE HERE\n",
    "#_UNCOMMENT_IF(PROD)_\n",
    "#detrended = ____\n",
    "\n",
    "# Check your answer\n",
    "q_3.check()"
   ]
  },
  {
   "cell_type": "code",
   "execution_count": null,
   "metadata": {
    "lines_to_next_cell": 0
   },
   "outputs": [],
   "source": [
    "# Lines below will give you a hint or solution code\n",
    "#_COMMENT_IF(PROD)_\n",
    "q_3.hint()\n",
    "#_COMMENT_IF(PROD)_\n",
    "q_3.solution()"
   ]
  },
  {
   "cell_type": "code",
   "execution_count": null,
   "metadata": {},
   "outputs": [],
   "source": [
    "#%%RM_IF(PROD)%%\n",
    "# Solution 1\n",
    "detrended = ts - trend_fit\n",
    "detrended.plot()\n",
    "\n",
    "# Solution 2\n",
    "detrended_2 = ts - trend_fit_2\n",
    "detrended_2.plot()\n",
    "\n",
    "q_3.assert_check_passed()"
   ]
  },
  {
   "cell_type": "markdown",
   "metadata": {},
   "source": [
    "Does it appear that the trend model you chose was able to effectively detrend the sales series? You might like to try detrending with the other trend model and comparing the results.\n",
    "\n",
    "----\n",
    "\n",
    "# 4) Create Change and Percent Change Series\n",
    "\n",
    "Create series for the change in sales and the percent change in sales."
   ]
  },
  {
   "cell_type": "code",
   "execution_count": null,
   "metadata": {
    "lines_to_next_cell": 0
   },
   "outputs": [],
   "source": [
    "# YOUR CODE HERE\n",
    "#_UNCOMMENT_IF(PROD)_\n",
    "#ts_change = ____\n",
    "#_UNCOMMENT_IF(PROD)_\n",
    "#ts_pct_change = ____\n",
    "\n",
    "# Check your answer\n",
    "q_4.check()"
   ]
  },
  {
   "cell_type": "code",
   "execution_count": null,
   "metadata": {
    "lines_to_next_cell": 0
   },
   "outputs": [],
   "source": [
    "# Lines below will give you a hint or solution code\n",
    "#_COMMENT_IF(PROD)_\n",
    "q_4.hint()\n",
    "#_COMMENT_IF(PROD)_\n",
    "q_4.solution()"
   ]
  },
  {
   "cell_type": "code",
   "execution_count": null,
   "metadata": {},
   "outputs": [],
   "source": [
    "#%%RM_IF(PROD)%%\n",
    "ts_change = ts.diff()\n",
    "ts_pct_change = ts.pct_change() * 100\n",
    "\n",
    "q_4.assert_check_passed()"
   ]
  },
  {
   "cell_type": "markdown",
   "metadata": {},
   "source": [
    "Run the next cell if you'd like to see the results."
   ]
  },
  {
   "cell_type": "code",
   "execution_count": null,
   "metadata": {},
   "outputs": [],
   "source": [
    "fig, (ax1, ax2) = plt.subplots(2, 1, sharex=True, figsize=(10, 7))\n",
    "ts_change.plot(ax=ax1)\n",
    "ax1.set_title(\"Change in Sales\")\n",
    "ts_pct_change.plot(ax=ax2)\n",
    "ax2.set_title(\"Percent Change in Sales\");"
   ]
  },
  {
   "cell_type": "markdown",
   "metadata": {},
   "source": [
    "# (Optional) Look at Log-Sales\n",
    "\n",
    "Sometimes a logarithmic transform is effective at stabilizing the changes in a series. The next cell plots the change in store sales after a log-transform. What effect did this transform have on the series of differences?"
   ]
  },
  {
   "cell_type": "code",
   "execution_count": null,
   "metadata": {},
   "outputs": [],
   "source": [
    "import numpy as np\n",
    "\n",
    "fig, (ax1, ax2) = plt.subplots(2, 1, sharex=True, figsize=(10, 7))\n",
    "ts_change.plot(ax=ax1)\n",
    "ax1.set_title(\"Change in Sales\")\n",
    "(np.log1p(ts).diff()).plot(ax=ax2)\n",
    "ax2.set_title(\"Change in Log-Sales\")"
   ]
  },
  {
   "cell_type": "markdown",
   "metadata": {},
   "source": [
    "# (Optional) Look at Splines\n",
    "\n",
    "The trends Prophet creates are actually a little more flexible than what we can easily do with linear regression. You can get the same effect, however, using \"splines\". The *MARS* algorithm in the `pyearth` library is easy to use."
   ]
  },
  {
   "cell_type": "code",
   "execution_count": null,
   "metadata": {},
   "outputs": [],
   "source": [
    "from pyearth import Earth\n",
    "\n",
    "trend_model = Earth()\n",
    "# etc."
   ]
  },
  {
   "cell_type": "markdown",
   "metadata": {},
   "source": [
    "# Keep Going #"
   ]
  }
 ],
 "metadata": {
  "jupytext": {
   "cell_metadata_filter": "-all",
   "formats": "ipynb"
  },
  "kernelspec": {
   "display_name": "Python 3",
   "language": "python",
   "name": "python3"
  },
  "language_info": {
   "codemirror_mode": {
    "name": "ipython",
    "version": 3
   },
   "file_extension": ".py",
   "mimetype": "text/x-python",
   "name": "python",
   "nbconvert_exporter": "python",
   "pygments_lexer": "ipython3",
   "version": "3.6.5"
  }
 },
 "nbformat": 4,
 "nbformat_minor": 4
}
