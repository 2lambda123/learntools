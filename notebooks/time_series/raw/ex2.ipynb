{
 "cells": [
  {
   "cell_type": "markdown",
   "id": "automotive-adrian",
   "metadata": {},
   "source": [
    "\n",
    "# Introduction #"
   ]
  },
  {
   "cell_type": "markdown",
   "id": "agricultural-algorithm",
   "metadata": {},
   "source": [
    "Run this cell to set everything up!"
   ]
  },
  {
   "cell_type": "code",
   "execution_count": null,
   "id": "portuguese-admission",
   "metadata": {
    "lines_to_next_cell": 0
   },
   "outputs": [],
   "source": [
    "# Setup feedback system\n",
    "from learntools.core import binder\n",
    "binder.bind(globals())\n",
    "from learntools.time_series.ex2 import *\n",
    "\n",
    "# Setup notebook\n",
    "import warnings\n",
    "from pathlib import Path\n",
    "\n",
    "import pandas as pd\n",
    "import matplotlib.pyplot as plt\n",
    "import numpy as np\n",
    "import seaborn as sns\n",
    "from sklearn.linear_model import LinearRegression\n",
    "\n",
    "warnings.simplefilter(\"ignore\")\n",
    "\n",
    "plt.style.use(\"seaborn-whitegrid\")\n",
    "plt.rc(\n",
    "    \"figure\",\n",
    "    autolayout=True,\n",
    "    figsize=(11, 4),\n",
    "    titlesize=18,\n",
    "    titleweight='bold',\n",
    ")\n",
    "plt.rc(\n",
    "    \"axes\",\n",
    "    labelweight=\"bold\",\n",
    "    labelsize=\"large\",\n",
    "    titleweight=\"bold\",\n",
    "    titlesize=16,\n",
    "    titlepad=10,\n",
    ")\n",
    "plot_params = dict(\n",
    "    color=\"0.75\",\n",
    "    style=\".-\",\n",
    "    markeredgecolor=\"0.25\",\n",
    "    markerfacecolor=\"0.25\",\n",
    "    legend=False,\n",
    ")\n",
    "%config InlineBackend.figure_format = 'retina'\n",
    "\n",
    "data_dir = Path('../input/ts-course-data/')\n",
    "comp_dir = Path('../input/store-sales-time-series-forecasting')\n",
    "\n",
    "retail_sales = pd.read_csv(\n",
    "    data_dir / \"us-retail-sales.csv\",\n",
    "    parse_dates=['Month'],\n",
    "    index_col='Month',\n",
    ").to_period('D')\n",
    "food_sales = retail_sales.loc[:, 'FoodAndBeverage']\n",
    "auto_sales = retail_sales.loc[:, 'Automobiles']\n",
    "\n",
    "dtype = {\n",
    "    'store_nbr': 'category',\n",
    "    'family': 'category',\n",
    "    'sales': 'float32',\n",
    "    'onpromotion': 'uint64',\n",
    "}\n",
    "store_sales = pd.read_csv(\n",
    "    comp_dir / 'train.csv',\n",
    "    dtype=dtype,\n",
    "    parse_dates=['date'],\n",
    "    infer_datetime_format=True,\n",
    ")\n",
    "store_sales = store_sales.set_index('date').to_period('D')\n",
    "store_sales = store_sales.set_index(['store_nbr', 'family'], append=True)\n",
    "average_sales = store_sales.groupby('date').mean()['sales']"
   ]
  },
  {
   "cell_type": "markdown",
   "id": "mental-apparatus",
   "metadata": {},
   "source": [
    "-------------------------------------------------------------------------------"
   ]
  },
  {
   "cell_type": "markdown",
   "id": "spanish-extension",
   "metadata": {},
   "source": [
    "# 1) Determine trend with a moving average plot\n",
    "\n",
    "The *US Retail Sales* dataset contains monthly sales data for a number of retail industries in the United States. Run the next cell to see a plot of the *Food and Beverage* series."
   ]
  },
  {
   "cell_type": "code",
   "execution_count": null,
   "id": "potential-marijuana",
   "metadata": {},
   "outputs": [],
   "source": [
    "ax = food_sales.plot(**plot_params)\n",
    "ax.set(title=\"US Food and Beverage Sales\", ylabel=\"Millions of Dollars\")"
   ]
  },
  {
   "cell_type": "markdown",
   "id": "corporate-forest",
   "metadata": {},
   "source": [
    "Now make a moving average plot to estimate the trend for this series."
   ]
  },
  {
   "cell_type": "code",
   "execution_count": null,
   "id": "graphic-israeli",
   "metadata": {
    "lines_to_next_cell": 0
   },
   "outputs": [],
   "source": [
    "# YOUR CODE HERE: Add methods to `food_sales` to compute a moving\n",
    "# average with appropriate parameters for trend estimation.\n",
    "trend = food_sales\n",
    "\n",
    "\n",
    "ax = food_sales.plot(**plot_params, alpha=0.5)\n",
    "ax = trend.plot(ax=ax, linewidth=3)"
   ]
  },
  {
   "cell_type": "code",
   "execution_count": null,
   "id": "cathedral-review",
   "metadata": {
    "lines_to_next_cell": 0
   },
   "outputs": [],
   "source": [
    "# Uncomment to get a hint or solution\n",
    "#_COMMENT_IF(PROD)_\n",
    "q_1.hint()\n",
    "#_COMMENT_IF(PROD)_\n",
    "q_1.solution()"
   ]
  },
  {
   "cell_type": "code",
   "execution_count": null,
   "id": "limiting-ribbon",
   "metadata": {
    "lines_to_next_cell": 0
   },
   "outputs": [],
   "source": [
    "#%%RM_IF(PROD)%%\n",
    "trend = food_sales\n",
    "\n",
    "#q_1.assert_check_failed()"
   ]
  },
  {
   "cell_type": "code",
   "execution_count": null,
   "id": "supreme-satin",
   "metadata": {
    "lines_to_next_cell": 0
   },
   "outputs": [],
   "source": [
    "#%%RM_IF(PROD)%%\n",
    "trend = food_sales.rolling(\n",
    "    window=365,\n",
    "    center=True,\n",
    "    min_periods=183,\n",
    ").mean()\n",
    "\n",
    "#q_1.assert_check_failed()"
   ]
  },
  {
   "cell_type": "code",
   "execution_count": null,
   "id": "current-controversy",
   "metadata": {
    "lines_to_next_cell": 0
   },
   "outputs": [],
   "source": [
    "#%%RM_IF(PROD)%%\n",
    "trend = food_sales.rolling(\n",
    "    window=12,\n",
    "    center=False,\n",
    "    min_periods=6,\n",
    ").mean()\n",
    "\n",
    "#q_1.assert_check_failed()"
   ]
  },
  {
   "cell_type": "code",
   "execution_count": null,
   "id": "alike-citizen",
   "metadata": {
    "lines_to_next_cell": 0
   },
   "outputs": [],
   "source": [
    "#%%RM_IF(PROD)%%\n",
    "trend = food_sales.rolling(\n",
    "    window=12,\n",
    "    center=False,\n",
    "    min_periods=6,\n",
    ").std()\n",
    "\n",
    "#q_1.assert_check_failed()"
   ]
  },
  {
   "cell_type": "code",
   "execution_count": null,
   "id": "israeli-stylus",
   "metadata": {
    "lines_to_next_cell": 0
   },
   "outputs": [],
   "source": [
    "#%%RM_IF(PROD)%%\n",
    "trend = food_sales.rolling(\n",
    "    window=12,\n",
    "    center=True,\n",
    "    min_periods=6,\n",
    ")\n",
    "\n",
    "#q_1.assert_check_failed()"
   ]
  },
  {
   "cell_type": "code",
   "execution_count": null,
   "id": "downtown-seminar",
   "metadata": {},
   "outputs": [],
   "source": [
    "#%%RM_IF(PROD)%%\n",
    "trend = food_sales.rolling(\n",
    "    window=12,\n",
    "    center=True,\n",
    "    min_periods=6,\n",
    ").mean()\n",
    "\n",
    "ax = food_sales.plot(**plot_params, alpha=0.5)\n",
    "ax = trend.plot(ax=ax, linewidth=3)\n",
    "\n",
    "q_1.assert_check_passed()"
   ]
  },
  {
   "cell_type": "markdown",
   "id": "devoted-trout",
   "metadata": {},
   "source": [
    "-------------------------------------------------------------------------------\n",
    "\n",
    "# 2) Identify trend\n",
    "\n",
    "What order polynomial trend might be appropriate for the *Food and Beverage Sales* series? Can you think of a non-polynomial curve that might work even better?\n",
    "\n",
    "Once you've thought about it, run this cell for some discussion."
   ]
  },
  {
   "cell_type": "code",
   "execution_count": null,
   "id": "immune-plymouth",
   "metadata": {},
   "outputs": [],
   "source": [
    "# View the solution (Run this cell to receive credit!)\n",
    "q_2.check()"
   ]
  },
  {
   "cell_type": "markdown",
   "id": "surrounded-titanium",
   "metadata": {},
   "source": [
    "-------------------------------------------------------------------------------\n",
    "\n",
    "We'll continue using the time series of average sales in this lesson. Run this cell to see a moving average plot of `average_sales` estimating the trend."
   ]
  },
  {
   "cell_type": "code",
   "execution_count": null,
   "id": "different-transmission",
   "metadata": {},
   "outputs": [],
   "source": [
    "trend = average_sales.rolling(\n",
    "    window=365,\n",
    "    center=True,\n",
    "    min_periods=183,\n",
    ").mean()\n",
    "\n",
    "ax = average_sales.plot(**plot_params, alpha=0.5)\n",
    "ax = trend.plot(ax=ax, linewidth=3);"
   ]
  },
  {
   "cell_type": "markdown",
   "id": "plastic-lobby",
   "metadata": {},
   "source": [
    "# 3) Create a Trend Feature\n",
    "\n",
    "Use `DeterministicProcess` to create a feature set for a cubic trend model. Also create features for a 90-day forecast."
   ]
  },
  {
   "cell_type": "code",
   "execution_count": null,
   "id": "amino-scholar",
   "metadata": {},
   "outputs": [],
   "source": [
    "from statsmodels.tsa.deterministic import DeterministicProcess\n",
    "\n",
    "y = average_sales.copy()  # the target\n",
    "\n",
    "# YOUR CODE HERE: Instantiate `DeterministicProcess` with arguments\n",
    "# appropriate for a quadratic trend model\n",
    "dp = ____\n",
    "\n",
    "# YOUR CODE HERE: Create the feature set for the dates given in y.index\n",
    "X = ____\n",
    "\n",
    "# YOUR CODE HERE: Create features for a 16-day forecast.\n",
    "X_fore = ____\n",
    "\n",
    "\n",
    "# Check your answer\n",
    "q_3.check()"
   ]
  },
  {
   "cell_type": "code",
   "execution_count": null,
   "id": "vulnerable-assignment",
   "metadata": {},
   "outputs": [],
   "source": [
    "# Lines below will give you a hint or solution code\n",
    "q_3.hint()\n",
    "q_3.solution()"
   ]
  },
  {
   "cell_type": "code",
   "execution_count": null,
   "id": "knowing-methodology",
   "metadata": {},
   "outputs": [],
   "source": [
    "#%%RM_IF(PROD)%%\n",
    "from statsmodels.tsa.deterministic import DeterministicProcess\n",
    "\n",
    "dp = DeterministicProcess(index=y.index, order=3)\n",
    "X = dp.in_sample()\n",
    "X_fore = dp.out_of_sample(steps=90)\n",
    "\n",
    "q_3.assert_check_passed()"
   ]
  },
  {
   "cell_type": "markdown",
   "id": "cooked-armstrong",
   "metadata": {},
   "source": [
    "You can see the a plot of the result by running the next cell."
   ]
  },
  {
   "cell_type": "code",
   "execution_count": null,
   "id": "dense-military",
   "metadata": {},
   "outputs": [],
   "source": [
    "model = LinearRegression(fit_intercept=False)\n",
    "model.fit(X, y)\n",
    "\n",
    "y_pred = pd.Series(model.predict(X), index=X.index)\n",
    "y_fore = pd.Series(model.predict(X_fore), index=X_fore.index)\n",
    "\n",
    "ax = y.plot(**plot_params, alpha=0.5, title=\"Average Sales\", ylabel=\"items sold\")\n",
    "ax = y_pred.plot(ax=ax, linewidth=3, label=\"Trend\", color='C0')\n",
    "ax = y_fore.plot(ax=ax, linewidth=3, label=\"Trend Forecast\", color='C3')\n",
    "ax.legend();"
   ]
  },
  {
   "cell_type": "markdown",
   "id": "forty-leather",
   "metadata": {},
   "source": [
    "--------------------------------------------------------------------------------\n",
    "\n",
    "# 4) Understand risks of forecasting with high-order polynomials\n",
    "\n"
   ]
  },
  {
   "cell_type": "code",
   "execution_count": null,
   "id": "upset-dubai",
   "metadata": {},
   "outputs": [],
   "source": [
    "# View the solution (Run this cell to receive credit!)\n",
    "q_4.check()"
   ]
  },
  {
   "cell_type": "markdown",
   "id": "massive-final",
   "metadata": {},
   "source": [
    "--------------------------------------------------------------------------------\n",
    "\n",
    "# (Optional) Fit trend with splines\n",
    "\n",
    "The *Multivariate Adaptive Regression Splines* (MARS) algorithm in the `pyearth` library is powerful and easy to use. There are a lot of hyperparameters you may want to investigate."
   ]
  },
  {
   "cell_type": "code",
   "execution_count": null,
   "id": "rapid-begin",
   "metadata": {},
   "outputs": [],
   "source": [
    "from pyearth import Earth\n",
    "\n",
    "# Target and features are the same as before\n",
    "y = average_sales.copy()\n",
    "dp = DeterministicProcess(index=y.index, order=1)\n",
    "X = dp.in_sample()\n",
    "\n",
    "# Fit a MARS model with `Earth`\n",
    "model = Earth()\n",
    "model.fit(X, y)\n",
    "\n",
    "y_pred = pd.Series(model.predict(X), index=X.index)\n",
    "\n",
    "ax = y.plot(**plot_params, title=\"Average Sales\", ylabel=\"items sold\")\n",
    "ax = y_pred.plot(ax=ax, linewidth=3, label=\"Trend\")"
   ]
  },
  {
   "cell_type": "markdown",
   "id": "ambient-humidity",
   "metadata": {},
   "source": [
    "Forecasting complicated trends like this will typically be difficult, if not impossible. With historical data, however, you can use them to isolate other patterns in a time series by *detrending*."
   ]
  },
  {
   "cell_type": "code",
   "execution_count": null,
   "id": "union-routine",
   "metadata": {},
   "outputs": [],
   "source": [
    "y_detrended = y - y_pred   # remove the trend from store_sales\n",
    "\n",
    "y_detrended.plot(**plot_params, title=\"Detrended Average Sales\");"
   ]
  },
  {
   "cell_type": "markdown",
   "id": "documented-foster",
   "metadata": {},
   "source": [
    "--------------------------------------------------------------------------------\n",
    "\n",
    "# (Optional) Trends in variation\n",
    "\n",
    "The trends we've looked at so far have all be trends in the mean. As we mentioned in the tutorial, other properties of a time series can also display trends. Trends in variation are especially common.\n",
    "\n",
    "The next cell demonstrates how to visualize a trend in standard deviation."
   ]
  },
  {
   "cell_type": "code",
   "execution_count": null,
   "id": "caroline-edmonton",
   "metadata": {},
   "outputs": [],
   "source": [
    "rolling_std = average_sales.rolling(\n",
    "    window=365,\n",
    "    center=True,\n",
    "    min_periods=183,\n",
    "    win_type='triang',  # add \"triangular\" weighting to observations in window\n",
    ").std()\n",
    "\n",
    "fig , (ax1, ax2) = plt.subplots(2, 1, figsize=(11, 6))\n",
    "ax1 = average_sales.plot(ax=ax1, **plot_params, alpha=0.5)\n",
    "ax2 = rolling_std.plot(ax=ax2, linewidth=2.5)"
   ]
  },
  {
   "cell_type": "markdown",
   "id": "collectible-cream",
   "metadata": {},
   "source": [
    "Plots like these can help you choose good training sets for your forecasting model. Years prior to 2016 seem to be fairly different from the years after, suggesting they may not be as useful as training data.\n",
    "\n",
    "# Keep Going #\n"
   ]
  }
 ],
 "metadata": {
  "jupytext": {
   "formats": "md,ipynb"
  },
  "kernelspec": {
   "display_name": "Python 3",
   "language": "python",
   "name": "python3"
  },
  "language_info": {
   "codemirror_mode": {
    "name": "ipython",
    "version": 3
   },
   "file_extension": ".py",
   "mimetype": "text/x-python",
   "name": "python",
   "nbconvert_exporter": "python",
   "pygments_lexer": "ipython3",
   "version": "3.6.5"
  }
 },
 "nbformat": 4,
 "nbformat_minor": 5
}
