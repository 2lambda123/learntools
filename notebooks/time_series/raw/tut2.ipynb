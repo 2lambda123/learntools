{
 "cells": [
  {
   "cell_type": "markdown",
   "metadata": {},
   "source": [
    "# Introduction #\n",
    "\n",
    "In this lesson and the next, you'll learn how add trend and seasonal components to any machine learning model through feature engineering. This lesson is about modeling trend.\n",
    "\n",
    "# Trend #\n",
    "\n",
    "The **trend** of a time series is a long-term change in the mean of the series. For a change to be part of the trend, it should occur over a longer period than any seasonal changes. For example, if a time series had weekly seasonality, any trend would have to be a change over a period longer than seven days.\n",
    "\n",
    "In addition, we require that the trend should depend only on the time the observation was taken, that it should be a *time dependent* property of the series and not a serially dependent property. This is to distinguish a trend (which should be predictable) from a purely random accumulation (which is not predictable).\n",
    "\n",
    "<img>Trend vs. random walk</img>\n",
    "\n",
    "# Moving Average Plots #\n",
    "\n",
    "We can make the trend in a series more apparent by averaging over the seasonal periods in a **moving average plot**. With a moving average plot, we compute the average of values within a *sliding window*. Each point on the graph represents the average of all the points that fall within the window on either side.\n",
    "\n",
    "<figure style=\"padding: 1em;\">\n",
    "<img src=\"https://i.imgur.com/EZOXiPs.gif\" width=400, alt=\"An animated plot showing an undulating curve slowly increasing with a moving average line developing from left to right within a window of 12 points (in red).\">\n",
    "<figcaption style=\"textalign: center; font-style: italic\"><center>\n",
    "</center></figcaption>\n",
    "</figure>\n",
    "\n",
    "Choose a window size at least as long as the longest seasonality in the series. This helps to isolate the trend by smoothing over any seasonal effects. The series above has monthly observations and a yearly seasonality, so we chose a moving window of size 12.\n",
    "\n",
    "<note>TODO: explain animation more</note>\n",
    "\n",
    "When used for visualization, taking the average at the center of the window is best so the trend doesn't appear lagged. Moving averages are also sometimes used as features. In this case, you would want to take the average only of past values to avoid leaking information backward from the future.\n",
    "\n",
    "# Trend Models #\n",
    "\n",
    "In this course, we'll create features that capture important temporal patterns, and use scikit-learn's `LinearRegression` model to combine these features into an additive model very much like Prophet's.\n",
    "\n",
    "```\n",
    "target = trend + remainder\n",
    "```\n",
    "\n",
    "Because the trend depends only on time, we can model it by using a time-step feature in our training data. Such a feature is called a **time dummy**, which is essentially an ordinal encoding for a column of timestamps:\n",
    "\n",
    "| Date    | Time  |\n",
    "|---------|-------|\n",
    "| 1959-06 | 1.0   |\n",
    "| 1959-07 | 2.0   |\n",
    "| 1959-08 | 3.0   |\n",
    "| 1959-09 | 4.0   |\n",
    "| 1959-11 | 6.0   |\n",
    "| ...     | ...   |\n",
    "\n",
    "A time dummy implicitly includes all the timestamps within the range of dates of the time series, including missing values. Generally, this means that if your time series skips a date, your time dummy should skip the corresponding code. Above, the `Date` column skipped `1959-11`, so `Time` needed to skip `5.0`. This only applies to timestamps that are truly missing, however. Many financial time series only include business days, for instance, but we still wouldn't include weekends or holidays in the trend because we assume nothing happened then."
   ]
  },
  {
   "cell_type": "markdown",
   "metadata": {},
   "source": [
    "Trend in a time series can manifest itself in curves with a variety of shapes. Two simple trend patters, linear and quadratic, are displayed here:\n",
    "\n",
    "<figure style=\"padding: 1em;\">\n",
    "<img src=\"https://i.imgur.com/KFYlgGm.png\" width=400, alt=\"Above, Cars Sold in Quebec: an undulating plot gradually increasing from 1960-01 to 1968-12 with a linear trend-line superimposed. Below, Plastics Production in Australia: an undulating plot with a concave-up quadratic trend-line superimposed.\">\n",
    "<figcaption style=\"textalign: center; font-style: italic\"><center><strong>Top:</strong> Series with a linear trend. <strong>Below:</strong> Series with a quadratic trend.\n",
    "</center></figcaption>\n",
    "</figure>\n",
    "\n",
    "A linear model will create a linear trend line when given the time dummy. To create a quadratic trend line, we only need to include an additional column with the time dummy's squared values:\n",
    "\n",
    "| Date    | Time  (linear) | Time Squared (quadratic)  |\n",
    "|---------|----------------|---------------------------|\n",
    "| 1959-06 | 1.0            | 1.0                       |\n",
    "| 1959-07 | 2.0            | 4.0                       |\n",
    "| 1959-08 | 3.0            | 9.0                       |\n",
    "| 1959-09 | 4.0            | 16.0                      |\n",
    "| 1959-11 | 6.0            | 36.0                      |\n",
    "| ...     | ...            | ...                       |"
   ]
  },
  {
   "cell_type": "markdown",
   "metadata": {},
   "source": [
    "It's possible to create higher-order polynomial trends by taking higher powers of the time dummy, but polynomials of higher order can diverge rapidly outside the training data making them unreliable when used for forecasting. When the trend can't be fit with a linear or quadratic curve, it's usually best to use an alternative regression algorithm. We'll mention a few of these alternatives in the next section.\n",
    "\n",
    "# Other Kinds of Trend\n",
    "\n",
    "Trend can manifest in a time series in a variety of ways. \n",
    "\n",
    "Here are some time series whose trend doesn't fit the linear or quadratic pattern:\n",
    "\n",
    "<figure style=\"padding: 1em;\">\n",
    "<img src=\"https://i.imgur.com/7cxTLCt.png\" width=400, alt=\"\">\n",
    "<figcaption style=\"textalign: center; font-style: italic\"><center>Trend patterns in four time series. <strong>Top left:</strong> Irregular trend. <strong>Top right:</strong> No trend. <strong>Bottom left:</strong> Trend saturating downwards. <strong>Bottom right:</strong> Trend with changepoints.\n",
    "</center></figcaption>\n",
    "</figure>"
   ]
  },
  {
   "cell_type": "markdown",
   "metadata": {},
   "source": [
    "- MARS for trend with changepoints\n",
    "- GAM for flexible with interactions\n",
    "\n",
    "GAMs you can find in the `statsmodels` and `pygam` libraries. MARS you can find in `py-earth`.\n",
    "\n",
    "<blockquote style=\"margin-right:auto; margin-left:auto; background-color: #ebf9ff; padding: 1em; margin:24px;\">\n",
    "<strong>statsmodels</strong>\n",
    "\n",
    "[`statsmodels`](https://www.statsmodels.org/stable/index.html) is a Python library for statistical models and estimation -- it's like the scikit-learn of classical regression and implements a lot of R's core functionality.\n",
    "\n",
    "In addition to ordinary regression, `statsmodels` also has a comprehensive set of tools for time series analysis, much of which we'll make use of in this course.\n",
    "</blockquote>\n",
    "\n",
    "# Example - Tunnel Traffic #\n",
    "\n",
    "In this example we'll create a trend model for the *Tunnel Traffic* dataset using scikit-learn's `LinearRegression`. *Tunnel Traffic* contains the number of vehicles traveling through the Baregg Tunnel in Switzerland each day from November 2003 to November 2005. Though not required for the exercise, you might like to examine the code in the hidden cell to see how to use Pandas to prepare a time series."
   ]
  },
  {
   "cell_type": "code",
   "execution_count": null,
   "metadata": {},
   "outputs": [],
   "source": [
    "#$HIDE_INPUT$\n",
    "from pathlib import Path\n",
    "from warnings import simplefilter\n",
    "\n",
    "import matplotlib.pyplot as plt\n",
    "import numpy as np\n",
    "import pandas as pd\n",
    "\n",
    "simplefilter(\"ignore\")  # ignore warnings to clean up output cells\n",
    "\n",
    "# Set Matplotlib defaults\n",
    "plt.style.use(\"seaborn-whitegrid\")\n",
    "plt.rc(\"figure\", autolayout=True, figsize=(11, 5))\n",
    "plt.rc(\n",
    "    \"axes\",\n",
    "    labelweight=\"bold\",\n",
    "    labelsize=\"large\",\n",
    "    titleweight=\"bold\",\n",
    "    titlesize=14,\n",
    "    titlepad=10,\n",
    ")\n",
    "plot_params = dict(\n",
    "    color=\"0.75\",\n",
    "    style=\".-\",\n",
    "    markeredgecolor=\"0.25\",\n",
    "    markerfacecolor=\"0.25\",\n",
    "    legend=False,\n",
    ")\n",
    "\n",
    "\n",
    "# Load Tunnel Traffic dataset\n",
    "data_dir = Path(\"../input/ts-course-data\")\n",
    "tunnel = pd.read_csv(data_dir / \"tunnel.csv\", parse_dates=[\"Day\"])\n",
    "\n",
    "# Create a time series in Pandas by setting the index to a date\n",
    "# column. We parsed \"Day\" as a date type by using `parse_dates` when\n",
    "# loading the data.\n",
    "tunnel = tunnel.set_index(\"Day\")\n",
    "\n",
    "# By default, Pandas creates a `DatetimeIndex` with dtype\n",
    "# `datetime64`. I find that a `PeriodIndex` is easier to work with,\n",
    "# but this is just a matter of preference. See the Pandas\n",
    "# documentation for details on the difference.\n",
    "tunnel = tunnel.to_period()\n",
    "\n",
    "tunnel.plot(title=\"Tunnel Traffic\", **plot_params);"
   ]
  },
  {
   "cell_type": "markdown",
   "metadata": {},
   "source": [
    "To see what kind of trend this series has, let's make a moving average plot. The *Tunnel Traffic* series has an annual seasonality, so we'll use a 365-day window. (You'll learn how to estimate seasonality in the next lesson.)\n",
    "\n",
    "To create a moving average, first use the `rolling` method to begin a windowed computation. Follow this by the `mean` method to compute the average over the window."
   ]
  },
  {
   "cell_type": "code",
   "execution_count": null,
   "metadata": {},
   "outputs": [],
   "source": [
    "moving_average = tunnel.rolling(\n",
    "    window=365,\n",
    "    center=True,  # puts the average at the center of the window\n",
    "    min_periods=183,  # choose about half the window size\n",
    ").mean()\n",
    "\n",
    "ax = tunnel.plot(style=\".\", color=\"0.5\")\n",
    "moving_average.plot(\n",
    "    ax=ax, linewidth=3, title=\"Tunnel Traffic - 365-Day Moving Average\", legend=False,\n",
    ");"
   ]
  },
  {
   "cell_type": "markdown",
   "metadata": {},
   "source": [
    "`DeterministicProcess` is a utility from the `statsmodels` library for creating time series features. It accomodates missing timestamps and can generate features for times outside of the training data (much like Prophet's `make_future_dataframe` we saw in Lesson 1). The `constant` argument creates a feature for the level, and the `order` argument creates a feature for the trend, where \"order\" refers to polynomial order: 1 is linear, 2 is quadratic, and so on. The moving average plot suggests that the trend is fairly close to linear, so we'll create a time dummy of order 1."
   ]
  },
  {
   "cell_type": "code",
   "execution_count": null,
   "metadata": {},
   "outputs": [],
   "source": [
    "from statsmodels.tsa.deterministic import DeterministicProcess\n",
    "\n",
    "dp = DeterministicProcess(\n",
    "    index=tunnel.index,  # dates from the training data\n",
    "    constant=True,       # the level\n",
    "    order=1,             # the trend\n",
    "    drop=True,           # drop terms to avoid collinearity\n",
    ")\n",
    "X = dp.in_sample()  # features for the training data\n",
    "\n",
    "X.head(10)"
   ]
  },
  {
   "cell_type": "markdown",
   "metadata": {},
   "source": [
    "(Technical note: A \"deterministic process\" is a time series that is non-random or completely determined. Our trend and seasonal features are deterministic because they depend only on the dates and times, which are fixed. In contrast, a \"stochastic process\" is a series that is random or unpredictable to some degree. Anything truly requiring a forecast -- like tunnel traffic -- is stochastic. We'll return to the distinction between deterministic and stochastic in Lesson 4.)\n",
    "\n",
    "Now let's create the trend model. As mentioned before, we'll use `LinearRegression` from scikit-learn."
   ]
  },
  {
   "cell_type": "code",
   "execution_count": null,
   "metadata": {},
   "outputs": [],
   "source": [
    "from sklearn.linear_model import LinearRegression\n",
    "\n",
    "y = tunnel[\"NumVehicles\"]  # the target\n",
    "\n",
    "model = LinearRegression(fit_intercept=False)  # the intercept is the same as the `const` feature\n",
    "model.fit(X, y)\n",
    "\n",
    "y_pred = pd.Series(\n",
    "    model.predict(X),\n",
    "    index=X.index,\n",
    ")\n",
    "\n",
    "\n",
    "ax = tunnel.plot(style=\".\", color=\"0.5\", title=\"Tunnel Traffic - Linear Trend\")\n",
    "y_pred.plot(ax=ax, linewidth=3, label=\"Trend\");"
   ]
  },
  {
   "cell_type": "markdown",
   "metadata": {},
   "source": [
    "The trend discovered by our `LinearRegression` model is almost identical to the moving average plot, which suggests that a linear trend was the right decision in this case.\n",
    "\n",
    "To make a forecast, we apply our model to \"out of sample\" features. \"Out of sample\" refers to times outside of the observation period of the training data, which would include the future times of a forecast. Here's how we could make a 30-day forecast:"
   ]
  },
  {
   "cell_type": "code",
   "execution_count": null,
   "metadata": {},
   "outputs": [],
   "source": [
    "X = dp.out_of_sample(steps=30)\n",
    "\n",
    "y_fore = pd.Series(\n",
    "    model.predict(X),\n",
    "    index=X.index,\n",
    ")\n",
    "\n",
    "y_fore.head(10)"
   ]
  },
  {
   "cell_type": "markdown",
   "metadata": {},
   "source": [
    "Let's plot a portion of the series to see the forecast trend:"
   ]
  },
  {
   "cell_type": "code",
   "execution_count": null,
   "metadata": {
    "lines_to_next_cell": 2
   },
   "outputs": [],
   "source": [
    "ax = tunnel[\"2005-05\":].plot(title=\"Tunnel Traffic - Linear Trend Forecast\", **plot_params)\n",
    "ax = y_pred[\"2005-05\":].plot(ax=ax, linewidth=3, label=\"Trend\")\n",
    "ax = y_fore.plot(ax=ax, linewidth=3, label=\"Trend Forecast\", color=\"C3\")\n",
    "ax.legend();"
   ]
  },
  {
   "cell_type": "markdown",
   "metadata": {},
   "source": [
    "# Your Turn #\n"
   ]
  }
 ],
 "metadata": {
  "jupytext": {
   "cell_metadata_filter": "-all",
   "formats": "ipynb"
  },
  "kernelspec": {
   "display_name": "Python 3",
   "language": "python",
   "name": "python3"
  },
  "language_info": {
   "codemirror_mode": {
    "name": "ipython",
    "version": 3
   },
   "file_extension": ".py",
   "mimetype": "text/x-python",
   "name": "python",
   "nbconvert_exporter": "python",
   "pygments_lexer": "ipython3",
   "version": "3.6.5"
  }
 },
 "nbformat": 4,
 "nbformat_minor": 4
}
