{
 "cells": [
  {
   "cell_type": "markdown",
   "metadata": {},
   "source": [
    "# Introduction #"
   ]
  },
  {
   "cell_type": "markdown",
   "metadata": {},
   "source": [
    "In this lesson and the next, you'll learn how add trend and seasonal components to any machine learning model through feature engineering. This lesson is about modeling trend.\n",
    "\n",
    "# Moving Average Plots #\n",
    "\n",
    "The **trend** of a time series is a long-term change in the *level* of the series (the value of the observations, in other words). For a change to be a part of the trend, it should occur over a longer period than any seasonal effects. If a time series only had weekly seasonality, for instance, any change over a period longer than seven days would be a part of the trend.\n",
    "\n",
    "We can make the trend in a series more apparent by averaging over the seasonal periods in a **moving average plot**. With a moving average plot, we compute the average of values within a *sliding window*. Each point on the graph represents the average of all the points that fall within the window on either side.\n",
    "\n",
    "<img>CO2 yearly MA animation</img>\n",
    "\n",
    "To make the trend in a series apparent, we should choose a window size at least as large as the largest seasonal period. The series in the plot above has a yearly seasonality. To see its trend, we therefore chose a moving window of size 12.\n",
    "\n",
    "Plots like these can help you determine what kind of trend you want your model to capture, whether a straight-line linear trend is sufficient, or whether a curved quadratic trend or something with changepoints would be better.\n",
    "\n",
    "# Trend Models #\n",
    "\n",
    "In this course, we'll create features that capture important temporal patterns, and use scikit-learn's `LinearRegression` model to combine these features into an additive model very much like Prophet.\n",
    "\n",
    "```\n",
    "target = trend + remainder\n",
    "```\n",
    "\n",
    "A common way to model time dependence is through a **time dummy**. A time dummy is a feature that . It's essentially an ordinal encoding (aka, label encoding) for a column of timestamps. It's important when creating a time dummy for linear regression that the codes are spaced in proportion to the timestamps. If your time series skips a date, for instance, your time dummy should skip the corresponding code:\n",
    "\n",
    "<fig>Show time dummy</fig>\n",
    "\n",
    "Leaving off the remainder, a linear trend model as this form:\n",
    "\n",
    "```\n",
    "target = level + slope * time\n",
    "```\n",
    "\n",
    "The *CO2* dataset exhibits a strong linear trend.\n",
    "\n",
    "<img>CO2 with linear trend</img>\n",
    "\n",
    "Time series with a curving trend can be modeled with *polynomial features*. Create polynomial features by taking powers of the time dummy. To fit a quadratic trend, for instance, you would add a squared feature.\n",
    "\n",
    "<img>quadratic trend</img>\n",
    "\n",
    "Higher-order polynomials often change rapidly outside of the data they were fit to. This means it's rarely a good idea to use polynomial trend models with degree higher than 2 or perhaps 3, especially for long-term forecasts.\n",
    "\n",
    "<img>diverging polynomials</img>\n",
    "\n",
    "For time series with changing trajectories, it's better to use a model that can capture changepoints.\n",
    "\n",
    "# Trend with Changepoints #\n",
    "\n",
    "- *Dutch Sales*"
   ]
  },
  {
   "cell_type": "markdown",
   "metadata": {},
   "source": [
    "# Other Kinds of Trend #\n",
    "\n",
    "- *Motorcycles* (irregular)\n",
    "- *Height of River* (no trend)\n",
    "- *Pepper Prices* (irregular/no trend)\n",
    "- *Marathon Times* (saturating)\n",
    "- *Cement* (with changepoints)\n",
    "\n",
    "# Example - Tunnel Traffic #\n",
    "\n",
    "This hidden cell loads the data for this example. Note how we've created a time series by setting the index to a series of dates. Though not required for the exercise, you might like to examine the code for details."
   ]
  },
  {
   "cell_type": "code",
   "execution_count": null,
   "metadata": {},
   "outputs": [],
   "source": [
    "#$HIDE_INPUT$\n",
    "from pathlib import Path\n",
    "from warnings import simplefilter\n",
    "\n",
    "import matplotlib.pyplot as plt\n",
    "import numpy as np\n",
    "import pandas as pd\n",
    "\n",
    "simplefilter(\"ignore\")\n",
    "\n",
    "# Set Matplotlib defaults\n",
    "plt.style.use(\"seaborn-whitegrid\")\n",
    "plt.rc(\"figure\", autolayout=True, figsize=(11, 5))\n",
    "plt.rc(\n",
    "    \"axes\",\n",
    "    labelweight=\"bold\",\n",
    "    labelsize=\"large\",\n",
    "    titleweight=\"bold\",\n",
    "    titlesize=14,\n",
    "    titlepad=10,\n",
    ")\n",
    "\n",
    "plot_params = dict(\n",
    "    color=\"0.75\",\n",
    "    style=\".-\",\n",
    "    markeredgecolor=\"0.25\",\n",
    "    markerfacecolor=\"0.25\",\n",
    "    legend=False,\n",
    ")\n",
    "\n",
    "\n",
    "data_dir = Path(\"../input/ts-course-data\")\n",
    "tunnel = pd.read_csv(data_dir / \"tunnel.csv\", parse_dates=[\"Day\"])\n",
    "# Create a time series in Pandas by setting the index to a date column\n",
    "tunnel = tunnel.set_index(\"Day\")\n",
    "# By default, Pandas creates `DatetimeIndex` with dtype `datetime64`.\n",
    "# A `PeriodIndex` is easier to work with when creating features, however.\n",
    "tunnel = tunnel.to_period()\n",
    "\n",
    "tunnel.head()"
   ]
  },
  {
   "cell_type": "markdown",
   "metadata": {},
   "source": [
    "First we'll look at a moving average plot. Since this series has an annual seasonality, we'll use a 365-day window to estimate the trend. In Pandas, use the `rolling` method to create windowed computations, followed by the `mean` method to compute the average."
   ]
  },
  {
   "cell_type": "code",
   "execution_count": null,
   "metadata": {},
   "outputs": [],
   "source": [
    "moving_average = tunnel.rolling(\n",
    "    window=365,\n",
    "    center=True,  # otherwise the trend will be offset\n",
    "    min_periods=183,  # choose about half the window size\n",
    ").mean()\n",
    "\n",
    "ax = tunnel.plot(style=\".\", color=\"0.5\")\n",
    "moving_average.plot(ax=ax, linewidth=3, title=\"365-Day Moving Average\", legend=False);"
   ]
  },
  {
   "cell_type": "markdown",
   "metadata": {},
   "source": [
    "The plot suggests that the trend is fairly close to linear, so that's the kind of feature we'll create.\n",
    "\n",
    "Now we'll create the trend features. `CalendarTimeTrend` from the `statsmodels` library makes it easy to create trend features in a robust way. In particular, it will give the correct encoding even when a series has missing dates."
   ]
  },
  {
   "cell_type": "code",
   "execution_count": null,
   "metadata": {},
   "outputs": [],
   "source": [
    "from statsmodels.tsa.deterministic import CalendarTimeTrend\n",
    "\n",
    "ctt = CalendarTimeTrend(\n",
    "    freq=\"D\",  # daily timestamps\n",
    "    order=1,  # order 1 for linear, order 2 for quadratic\n",
    "    constant=True,  # to also include the level (the default)\n",
    "    base_period=tunnel.index[0],  # what date should be coded as 1\n",
    ")\n",
    "X = pd.DataFrame(\n",
    "    ctt.in_sample(tunnel.index),  # use the `in_sample` method to create the features\n",
    "    index=tunnel.index,\n",
    ")\n",
    "y = tunnel[\"NumVehicles\"]  # the target\n",
    "\n",
    "X"
   ]
  },
  {
   "cell_type": "markdown",
   "metadata": {},
   "source": [
    "Notice the features `CalendarTimeTrend` created. The `const` feature is what models the level, and the `trend` feature is what models the trend.\n",
    "\n",
    "Now let's create the trend model. As mentioned before, we'll use `LinearRegression` from scikit-learn to create an additive model. For now, we'll just look at the predictions on the training data, and save forecasting for our in-depth look in Lesson 5."
   ]
  },
  {
   "cell_type": "code",
   "execution_count": null,
   "metadata": {},
   "outputs": [],
   "source": [
    "from sklearn.linear_model import LinearRegression\n",
    "\n",
    "model = LinearRegression(fit_intercept=False)  # the intercept is the same as the `const` feature\n",
    "model.fit(X, y)\n",
    "\n",
    "y_pred = pd.Series(\n",
    "    model.predict(X),\n",
    "    index=tunnel.index,\n",
    ")\n",
    "\n",
    "\n",
    "ax = tunnel.plot(color=\"0.25\", style=\".\", title=\"Tunnel Traffic - Linear Trend\")\n",
    "y_pred.plot(ax=ax, linewidth=3, label=\"Trend\");"
   ]
  },
  {
   "cell_type": "markdown",
   "metadata": {},
   "source": [
    "The trend discovered by our `LinearRegression` model is almost identical to the moving average plot, which suggests that a linear trend was the right decision in this case.\n",
    "\n",
    "# Your Turn #"
   ]
  }
 ],
 "metadata": {
  "jupytext": {
   "cell_metadata_filter": "-all",
   "formats": "ipynb"
  },
  "kernelspec": {
   "display_name": "Python 3",
   "language": "python",
   "name": "python3"
  },
  "language_info": {
   "codemirror_mode": {
    "name": "ipython",
    "version": 3
   },
   "file_extension": ".py",
   "mimetype": "text/x-python",
   "name": "python",
   "nbconvert_exporter": "python",
   "pygments_lexer": "ipython3",
   "version": "3.6.5"
  }
 },
 "nbformat": 4,
 "nbformat_minor": 4
}
