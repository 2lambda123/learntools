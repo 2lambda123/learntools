{
 "cells": [
  {
   "cell_type": "markdown",
   "metadata": {},
   "source": [
    "# Introduction #"
   ]
  },
  {
   "cell_type": "markdown",
   "metadata": {},
   "source": [
    "You'll learn how to discover seasonality through data visualization and how to create two kinds of seasonal features.\n",
    "\n",
    "# Seasonal Plots #\n",
    "\n",
    "Just like we used a moving-average plot to visualize the trend in a series, we can use a **seasonal plot** to discover seasonal patterns.\n",
    "\n",
    "When making a seasonal plot, you want to decide on the *period* of seasonality as well as the *frequency* with which to plot points within each period. We might want to know how a website's traffic varies over a year (the period) from month to month (the frequency), or how the traffic varies over a day (the period) from hour to hour (the frequency)."
   ]
  },
  {
   "cell_type": "code",
   "execution_count": null,
   "metadata": {},
   "outputs": [],
   "source": [
    "#$HIDE_INPUT$\n",
    "from pathlib import Path\n",
    "from warnings import simplefilter\n",
    "\n",
    "import matplotlib.pyplot as plt\n",
    "import pandas as pd\n",
    "import seaborn as sns\n",
    "\n",
    "\n",
    "# annotations: https://stackoverflow.com/a/49238256/5769929\n",
    "def seasonal_plot(X, target, period, freq, ax=None):\n",
    "    if ax is None:\n",
    "        _, ax = plt.subplots()\n",
    "    palette = sns.color_palette(\"husl\", n_colors=X[period].nunique(),)\n",
    "    ax = sns.lineplot(\n",
    "        x=freq,\n",
    "        y=target,\n",
    "        hue=period,\n",
    "        data=X,\n",
    "        ci=False,\n",
    "        ax=ax,\n",
    "        palette=palette,\n",
    "        legend=False,\n",
    "    )\n",
    "    ax.set_title(f\"Seasonal Plot ({period}/{freq})\")\n",
    "    for line, name in zip(ax.lines, X[period].unique()):\n",
    "        y = line.get_ydata()[-1]\n",
    "        ax.annotate(\n",
    "            name,\n",
    "            xy=(1, y),\n",
    "            xytext=(6, 0),\n",
    "            color=line.get_color(),\n",
    "            xycoords=ax.get_yaxis_transform(),\n",
    "            textcoords=\"offset points\",\n",
    "            size=14,\n",
    "            va=\"center\",\n",
    "        )\n",
    "    return ax\n",
    "\n",
    "\n",
    "simplefilter(\"ignore\")\n",
    "\n",
    "# Set Matplotlib defaults\n",
    "plt.style.use(\"seaborn-whitegrid\")\n",
    "plt.rc(\"figure\", autolayout=True, figsize=(11, 5))\n",
    "plt.rc(\n",
    "    \"axes\",\n",
    "    labelweight=\"bold\",\n",
    "    labelsize=\"large\",\n",
    "    titleweight=\"bold\",\n",
    "    titlesize=14,\n",
    "    titlepad=10,\n",
    ")\n",
    "\n",
    "\n",
    "data_dir = Path(\"/home/kaggle/datasets/wikipedia-trends/\")\n",
    "df = pd.read_csv(\n",
    "    data_dir / \"trig.csv\",\n",
    "    parse_dates=[\"date\"],\n",
    "    usecols=[\"date\", \"views\"],\n",
    "    index_col=\"date\",\n",
    ").to_period(\"D\")\n",
    "\n",
    "X = df[\"2016\":\"2019\"][df.views < 4000]\n",
    "X[\"dayofweek\"] = X.index.dayofweek\n",
    "X[\"week\"] = X.index.week\n",
    "X[\"month\"] = X.index.month\n",
    "X[\"year\"] = X.index.year\n",
    "\n",
    "fig, (ax0, ax1) = plt.subplots(2, 1, figsize=(11, 7))\n",
    "ax = seasonal_plot(X, \"views\", period=\"week\", freq=\"dayofweek\", ax=ax0)\n",
    "_ = seasonal_plot(X, \"views\", period=\"year\", freq=\"month\", ax=ax1)"
   ]
  },
  {
   "cell_type": "markdown",
   "metadata": {},
   "source": [
    "The figure illustrates some of the variety of seasonal patterns you might find in a time series.\n",
    "- Wiki Trends\n",
    "- Bank Calls\n",
    "\n",
    "# Seasonal Indicators #\n",
    "\n",
    "One way to model seasonality is through *seasonal indicators*. \n",
    "\n",
    "The observation to make from the seasonal plots is that each point in the season has a different level.\n",
    "\n",
    "The set of indicators created by a one-hot encoded category is like a function that...\n",
    "\n",
    "Adding a set of seasonal indicators means the linear regression model can learn to shift the overall level from season-to-season.\n",
    "\n",
    "- CO2\n",
    "\n",
    "The seasonality accounts for the deviation from the trend-line."
   ]
  },
  {
   "cell_type": "markdown",
   "metadata": {},
   "source": [
    "How could we capture this effect in our model?\n",
    "\n",
    "- Wiki Trends\n",
    "\n",
    "Seasonal indicators are best when you have only a few categories to encode, like months within a year (12) or days within a week (7). When the seasonality is of high-frequency, like days within a year, it's better to use our next method.\n",
    "\n",
    "# Fourier Features and the Periodogram #\n",
    "\n",
    "- Wiki Trends\n",
    "\n",
    "with far fewer features than would be required with indicators, and creating less risk of overfitting. An annual seasonality occuring over days would need 365 indicators, but you might be able to model the same pattern with only 10 or 20 fourier features."
   ]
  },
  {
   "cell_type": "markdown",
   "metadata": {},
   "source": [
    "With indicators, we modeled changes in a series over time. Another approach is to model changes over frequency. (timepoint vs. cycle)\n"
   ]
  },
  {
   "cell_type": "markdown",
   "metadata": {},
   "source": [
    "# Example - Tunnel Traffic #\n",
    "\n",
    "We'll continue once more with the *Tunnel Traffic* dataset. This hidden cell loads the data and defines three functions, `seasonal_plot`, `plot_periodogram` and `add_trend`."
   ]
  },
  {
   "cell_type": "code",
   "execution_count": null,
   "metadata": {},
   "outputs": [],
   "source": [
    "#$HIDE_INPUT$\n",
    "from pathlib import Path\n",
    "from warnings import simplefilter\n",
    "\n",
    "import matplotlib.pyplot as plt\n",
    "import pandas as pd\n",
    "import seaborn as sns\n",
    "from scipy.signal import periodogram\n",
    "from sklearn.linear_model import LinearRegression\n",
    "from statsmodels.tsa.deterministic import CalendarTimeTrend\n",
    "\n",
    "simplefilter(\"ignore\")\n",
    "\n",
    "# Set Matplotlib defaults\n",
    "plt.style.use(\"seaborn-whitegrid\")\n",
    "plt.rc(\"figure\", autolayout=True, figsize=(11, 5))\n",
    "plt.rc(\n",
    "    \"axes\",\n",
    "    labelweight=\"bold\",\n",
    "    labelsize=\"large\",\n",
    "    titleweight=\"bold\",\n",
    "    titlesize=16,\n",
    "    titlepad=10,\n",
    ")\n",
    "plot_params = dict(\n",
    "    color=\"0.75\",\n",
    "    style=\".-\",\n",
    "    markeredgecolor=\"0.25\",\n",
    "    markerfacecolor=\"0.25\",\n",
    "    legend=False,\n",
    ")\n",
    "\n",
    "\n",
    "# annotations: https://stackoverflow.com/a/49238256/5769929\n",
    "def seasonal_plot(X, target, period, freq, ax=None):\n",
    "    if ax is None:\n",
    "        _, ax = plt.subplots()\n",
    "    palette = sns.color_palette(\"husl\", n_colors=X[period].nunique(),)\n",
    "    ax = sns.lineplot(\n",
    "        x=freq,\n",
    "        y=target,\n",
    "        hue=period,\n",
    "        data=X,\n",
    "        ci=False,\n",
    "        ax=ax,\n",
    "        palette=palette,\n",
    "        legend=False,\n",
    "    )\n",
    "    ax.set_title(f\"Seasonal Plot ({period}/{freq})\")\n",
    "    for line, name in zip(ax.lines, X[period].unique()):\n",
    "        y = line.get_ydata()[-1]\n",
    "        ax.annotate(\n",
    "            name,\n",
    "            xy=(1, y),\n",
    "            xytext=(6, 0),\n",
    "            color=line.get_color(),\n",
    "            xycoords=ax.get_yaxis_transform(),\n",
    "            textcoords=\"offset points\",\n",
    "            size=14,\n",
    "            va=\"center\",\n",
    "        )\n",
    "    return ax\n",
    "\n",
    "def plot_periodogram(ts, ax=None):\n",
    "    freqencies, coefficient = periodogram(ts, fs=365.25)\n",
    "    if ax is None:\n",
    "        _, ax = plt.subplots()\n",
    "    ax.step(freqencies, coefficient, color=\"purple\")\n",
    "    ax.set_xscale(\"log\")\n",
    "    ax.set_xticks([1, 2, 4, 6, 12, 26, 52])\n",
    "    ax.set_xticklabels(\n",
    "        [\n",
    "            \"Annually\",\n",
    "            \"Semiannually\",\n",
    "            \"Quarterly\",\n",
    "            \"Bimonthly\",\n",
    "            \"Monthly\",\n",
    "            \"Biweekly\",\n",
    "            \"Weekly\",\n",
    "        ],\n",
    "        rotation=30,\n",
    "    )\n",
    "    ax.ticklabel_format(axis=\"y\", style=\"sci\", scilimits=(0, 0))\n",
    "    ax.set_ylabel(\"Periodogram Coefficient\")\n",
    "    ax.set_title(\"Periodogram for an Annual Period with Daily Frequency\")\n",
    "    return ax\n",
    "\n",
    "\n",
    "def add_trend(X, freq=\"D\", order=1):\n",
    "    trend = CalendarTimeTrend(\n",
    "        freq=freq, order=order, constant=False, base_period=X.index[0],\n",
    "    )\n",
    "    return X.join(trend.in_sample(X.index))\n",
    "\n",
    "\n",
    "data_dir = Path(\"../input/ts-course-data\")\n",
    "tunnel = pd.read_csv(data_dir / \"tunnel.csv\", parse_dates=[\"Day\"])\n",
    "tunnel = tunnel.set_index(\"Day\").to_period(\"D\")"
   ]
  },
  {
   "cell_type": "markdown",
   "metadata": {},
   "source": [
    "The easiest way to create a seasonal plot in Python is to create a categorical feature for each period and frequency of interest and use seaborn to separate the seasons."
   ]
  },
  {
   "cell_type": "code",
   "execution_count": null,
   "metadata": {},
   "outputs": [],
   "source": [
    "X = tunnel.copy()\n",
    "\n",
    "# days within a week\n",
    "X[\"day\"] = X.index.dayofweek  # the frequency\n",
    "X[\"week\"] = X.index.week  # the period\n",
    "\n",
    "# months within a year\n",
    "X[\"month\"] = X.index.month  # use `dt` instead of `index` if your\n",
    "                            # timestamps are in a column\n",
    "X[\"year\"] = X.index.year  # you can also get things like quarter,\n",
    "                          # weekday, weekofyear, ...\n",
    "\n",
    "fig, (ax0, ax1) = plt.subplots(2, 1, figsize=(11, 8))\n",
    "seasonal_plot(X, y=\"NumVehicles\", period=\"year\", freq=\"month\", ax=ax0)\n",
    "seasonal_plot(X, y=\"NumVehicles\", period=\"week\", freq=\"day\", ax=ax1);"
   ]
  },
  {
   "cell_type": "markdown",
   "metadata": {},
   "source": [
    "We have pretty clear seasonality, both yearly (annual) and weekly. Just like for trend features, we'll use a function from statsmodels to create the seasonal indicators."
   ]
  },
  {
   "cell_type": "code",
   "execution_count": null,
   "metadata": {
    "lines_to_next_cell": 2
   },
   "outputs": [],
   "source": [
    "from statsmodels.tsa.deterministic import CalendarSeasonality\n",
    "\n",
    "cs = CalendarSeasonality(freq=\"D\", period=\"W\")\n",
    "X_weekly = cs.in_sample(tunnel.index)\n",
    "\n",
    "X_weekly.head()"
   ]
  },
  {
   "cell_type": "markdown",
   "metadata": {},
   "source": [
    "Now let's look at a periodogram for this series:"
   ]
  },
  {
   "cell_type": "code",
   "execution_count": null,
   "metadata": {},
   "outputs": [],
   "source": [
    "plot_periodogram(tunnel.NumVehicles);"
   ]
  },
  {
   "cell_type": "markdown",
   "metadata": {},
   "source": [
    "The periodogram agrees with the seasonal plots above: ..."
   ]
  },
  {
   "cell_type": "code",
   "execution_count": null,
   "metadata": {
    "lines_to_next_cell": 2
   },
   "outputs": [],
   "source": [
    "from statsmodels.tsa.deterministic import CalendarFourier\n",
    "\n",
    "fourier = CalendarFourier(freq=\"A\", order=12)\n",
    "X_annual = fourier.in_sample(tunnel.index)\n",
    "\n",
    "X_annual.iloc[:, :6].head()  # the first few pairs of fourier features"
   ]
  },
  {
   "cell_type": "code",
   "execution_count": null,
   "metadata": {},
   "outputs": [],
   "source": [
    "X = X_weekly.join(X_annual)\n",
    "X = add_trend(X, order=1)\n",
    "y = tunnel.NumVehicles.copy()\n",
    "\n",
    "model = LinearRegression()\n",
    "model.fit(X, y)\n",
    "\n",
    "y_pred = model.predict(X)\n",
    "y_pred = pd.Series(y_pred, index=y.index)\n",
    "\n",
    "ax = y.plot(style=\".\", color=\"0.25\")\n",
    "_ = y_pred.plot(ax=ax)"
   ]
  },
  {
   "cell_type": "markdown",
   "metadata": {},
   "source": [
    "Not too bad! The model we created through feature engineering is functionally almost identical to the model from Lesson 1. In the next lesson, you'll learn how to extend it even further by including time series themselves as features.\n",
    "\n",
    "# Your Turn #"
   ]
  }
 ],
 "metadata": {
  "jupytext": {
   "cell_metadata_filter": "-all",
   "formats": "ipynb"
  },
  "kernelspec": {
   "display_name": "Python 3",
   "language": "python",
   "name": "python3"
  },
  "language_info": {
   "codemirror_mode": {
    "name": "ipython",
    "version": 3
   },
   "file_extension": ".py",
   "mimetype": "text/x-python",
   "name": "python",
   "nbconvert_exporter": "python",
   "pygments_lexer": "ipython3",
   "version": "3.6.5"
  }
 },
 "nbformat": 4,
 "nbformat_minor": 4
}
