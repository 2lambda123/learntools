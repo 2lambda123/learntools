{
 "cells": [
  {
   "cell_type": "markdown",
   "metadata": {},
   "source": [
    "# Introduction #\n",
    "\n",
    "In the previous two lessons, we learned how to model the temporally-dependent nature of time series through trend and seasonality.\n",
    "\n",
    "In this lesson, we'll learn how to model the serially-dependent nature of time series, how the past can affect the future.\n",
    "\n",
    "# Cycles #\n",
    "\n",
    "In addition to trend and seasonality, time series can display **cyclic** behavior. Cycles are fluctuations in a time series associated with how the value in a series at one time depends on values at previous times.\n",
    "\n",
    "Mean reversion.\n",
    "\n",
    "Cyclic behavior is characteristic of a system that reacts on itself.\n",
    "\n",
    "What distinguishes cycles from seasons is irregularity. Cycles might be irregular either in duration or in magnitude.\n",
    "\n",
    "<img>examples of cyclic behavior</img>\n",
    "\n",
    "- business cycles\n",
    "- predator-prey cycles\n",
    "- sunspot cycles\n",
    "- flu cycles\n",
    "- chemical cycles\n",
    "\n",
    "It's possible for series to have trend and seasonality in addition to cyclic behavior, though distinguishing the three can sometimes be difficult: very long cycles can resemble trend and very regular cycles can resemble seasons. For the purposes of creating a forecasting model, however, the distinction may not matter so long as you're able to capture the behavior of the series through the forecasting period.\n",
    "\n",
    "The features we created for trend and seasonality are sometimes called *deterministic*. (You may have noticed they came from the `deterministic` module in statsmodels.) A deterministic feature doesn't need to be forecast: it's values are completely determined ahead of time. The trend and seasonality features are deterministic because they only depend on the calendar, which is fixed.\n",
    "\n",
    "How something is presently can often tell you a lot about what it will be like in the future.\n",
    "\n",
    "It can also happen that the fluctations don't decay back towards a mean. In this case, you have a *highly-persistant* series. We'll discuss how to handle these kinds of series in Lesson 7.\n",
    "\n",
    "# Serial Dependence and Lag Features #\n",
    "\n",
    "The most common kind of nondeterministic feature is the target itself, or rather, values of the target from the past. If you wanted to predict the size of a fish population this year, you could include as a predictor the size of the population the previous year.\n",
    "\n",
    "<mark>table</mark>\n",
    "\n",
    "Notice that we've actually created a new column with shifted values of `Population`. The target has now re-entered the model as a feature. Features created from time-shifted series in this way are called **lag** features. Most nondeterministic features are lag features.\n",
    "\n",
    "One way to determine if your target has a temporal relationship to a feature is by plotting it against the lagged feature.\n",
    "\n",
    "<note>TODO: lag plots</note>\n",
    "<figure style=\"padding: 1em;\">\n",
    "<img src=\"\" width=400, alt=\"\">\n",
    "<figcaption style=\"textalign: center; font-style: italic\"><center></center></figcaption>\n",
    "</figure>\n"
   ]
  },
  {
   "cell_type": "markdown",
   "metadata": {},
   "source": [
    "Correlation of a time series with past-values of itself is called *autocorrelation*. A plot of a series' autocorrelation as a function of the lag is called an *ACF plot*. Correlation of a time series with another time series is called *cross-correlation*.\n",
    "\n",
    "There are two kinds of plots you can use to determine which lag features to create from the target. The autocorrelation plot simply shows you the correlation a series has with each of its lags.\n",
    "\n",
    "A *partial autocorrelation* plot, on the other hand, only shows you the *additional* correlation coming from each lag. A partial autocorrelation plot will tell you which lag features to create. For feature engineering purposes, a \n",
    "\n",
    "<note>TODO: acf & pacf</note>\n",
    "<figure style=\"padding: 1em;\">\n",
    "<img src=\"\" width=400, alt=\"\">\n",
    "<figcaption style=\"textalign: center; font-style: italic\"><center></center></figcaption>\n",
    "</figure>\n",
    "\n",
    "The most useful situation is when you have a time series feature that's correlated with *future* values of the target -- when, in other words, knowing the feature today can tell you about your target tomorrow. These kinds of features are called **leading indicators**. A leading indicator gives you advance notice of potential changes in what you're trying to forecast. For example, online product reviews might be a leading indicator of future business success.\n",
    "\n",
    "A cross-correlation plot illustrates the relationship:\n",
    "\n",
    "<figure style=\"padding: 1em;\">\n",
    "<img src=\"\" width=400, alt=\"\">\n",
    "<figcaption style=\"textalign: center; font-style: italic\"><center></center></figcaption>\n",
    "</figure>"
   ]
  },
  {
   "cell_type": "markdown",
   "metadata": {},
   "source": [
    "# Stationarity #\n",
    "\n",
    "A time series is **stationary** when its statistical properties are unchanging from step to step. Series with trend or seasonality are *not* stationary: trend describes a mean that is moving upwards or downwards, while seasonality describes a mean that varies periodically. (Remember the moving-average and seasonal plots.)"
   ]
  },
  {
   "cell_type": "markdown",
   "metadata": {},
   "source": [
    "# Modeling Autocorrelation #\n",
    "\n",
    "A model that includes past values of the target as features is called an **autoregressive** model. \n",
    "\n",
    "- **distributed lag model**\n",
    "\n",
    "Extending our linear regression model with a lagged target, we would have:\n",
    "\n",
    "```\n",
    "target = a * target_lag_1 + b * trend + c * seasonality\n",
    "```\n",
    "\n",
    "# Example - Flu Trends #\n",
    "\n",
    "The *Flu Trends* dataset contains records of doctor's visits for the flu together with the popularity of flu-related search terms as captured by Google Trends, for weeks between 2009 and 2016. Our goal is to forecast the number of flu cases for the coming weeks."
   ]
  },
  {
   "cell_type": "code",
   "execution_count": null,
   "metadata": {},
   "outputs": [],
   "source": [
    "#$HIDE_INPUT$\n",
    "from pathlib import Path\n",
    "from warnings import simplefilter\n",
    "\n",
    "import matplotlib.pyplot as plt\n",
    "import numpy as np\n",
    "import pandas as pd\n",
    "import seaborn as sns\n",
    "from scipy.signal import periodogram\n",
    "from sklearn.linear_model import LinearRegression\n",
    "from statsmodels.graphics.tsaplots import plot_acf, plot_pacf\n",
    "from statsmodels.tsa.ar_model import ar_select_order\n",
    "from statsmodels.tsa.tsatools import lagmat\n",
    "\n",
    "simplefilter(\"ignore\")\n",
    "\n",
    "# Set Matplotlib defaults\n",
    "plt.style.use(\"seaborn-whitegrid\")\n",
    "plt.rc(\"figure\", autolayout=True, figsize=(11, 5))\n",
    "plt.rc(\n",
    "    \"axes\",\n",
    "    labelweight=\"bold\",\n",
    "    labelsize=\"large\",\n",
    "    titleweight=\"bold\",\n",
    "    titlesize=16,\n",
    "    titlepad=10,\n",
    ")\n",
    "plot_params = dict(\n",
    "    color=\"0.75\",\n",
    "    style=\".-\",\n",
    "    markeredgecolor=\"0.25\",\n",
    "    markerfacecolor=\"0.25\",\n",
    "    legend=False,\n",
    ")\n",
    "\n",
    "\n",
    "def plot_ccf(x, y, lags=10, ax=None):\n",
    "    from matplotlib.ticker import MaxNLocator\n",
    "    if ax is None:\n",
    "        fig, ax = plt.subplots()\n",
    "    ax.xcorr(\n",
    "        x, y, maxlags=lags, usevlines=True, normed=True, lw=2, color=\"C3\",\n",
    "    )\n",
    "    ax.xcorr(\n",
    "        x, y, maxlags=lags, usevlines=False, normed=True, ms=4, color=\"C3\",\n",
    "    )\n",
    "    # ax.set_xticks(np.arange(-lags, lags + 1, dtype=np.int8))\n",
    "    ax.xaxis.set_major_locator(MaxNLocator(integer=True))\n",
    "    ax.set(\n",
    "        xlabel=\"Lag\", ylabel=\"Correlation\", title=\"Cross-Correlation\",\n",
    "    )\n",
    "    return ax\n",
    "\n",
    "\n",
    "data_dir = Path(\"../input/ts-course-data\")\n",
    "flu_trends = pd.read_csv(data_dir / \"flu-trends.csv\")\n",
    "flu_trends.set_index(\n",
    "    pd.PeriodIndex(flu_trends.Week, freq=\"W\"),\n",
    "    inplace=True,\n",
    ")\n",
    "flu_trends.drop(\"Week\", axis=1, inplace=True)\n",
    "\n",
    "flu_trends.FluVisits.plot(subplots=True, title=\"Flu Visits\", **plot_params);"
   ]
  },
  {
   "cell_type": "markdown",
   "metadata": {},
   "source": [
    "This data shows irregular cycles instead of a regular seasonality: the peak tends to occur around the new year, but sometimes earlier or later, sometimes larger or smaller. This irregularity means that modeling this series with seasonal features won't likely be very successful. Instead, we'll use lag features. This way, the model can learn to react as the case numbers rise and fall.\n",
    "\n",
    "We'll look at two models. In the first, we'll only use lagged values of the series itself as features. In the second, we'll only use lagged values of Google Trends.\n",
    "\n",
    "Let's take a look at the lag and autocorrelation plots first:"
   ]
  },
  {
   "cell_type": "code",
   "execution_count": null,
   "metadata": {},
   "outputs": [],
   "source": [
    "fig, (ax0, ax1) = plt.subplots(2, 1, figsize=(11, 7), sharex=True)\n",
    "_ = plot_acf(flu_trends.FluVisits, ax=ax0)\n",
    "_ = plot_pacf(flu_trends.FluVisits, ax=ax1)"
   ]
  },
  {
   "cell_type": "markdown",
   "metadata": {},
   "source": [
    "These show an AR effect at lags 1, 2, 3, and 4, which we can verify with AR selection:"
   ]
  },
  {
   "cell_type": "code",
   "execution_count": null,
   "metadata": {},
   "outputs": [],
   "source": [
    "ar_res = ar_select_order(flu_trends.FluVisits, maxlag=8)\n",
    "print(ar_res.ar_lags)"
   ]
  },
  {
   "cell_type": "markdown",
   "metadata": {},
   "source": [
    "Now let's create the corresponding lag features:"
   ]
  },
  {
   "cell_type": "code",
   "execution_count": null,
   "metadata": {},
   "outputs": [],
   "source": [
    "def add_lags(X, y, lags=[1]):\n",
    "    X_lag = lagmat(y, maxlag=max(lags), use_pandas=True, trim=\"both\")\n",
    "    X_lag = X_lag.iloc[:, [lag - 1 for lag in lags]]\n",
    "    X = X.join(X_lag).dropna()\n",
    "    y = y.loc[X.index]\n",
    "    return X, y\n",
    "\n",
    "\n",
    "X = pd.DataFrame(index=flu_trends.index)\n",
    "y = flu_trends.FluVisits\n",
    "\n",
    "X, y = add_lags(X, y, lags=[1, 2, 3, 4])\n",
    "\n",
    "X.head()"
   ]
  },
  {
   "cell_type": "markdown",
   "metadata": {},
   "source": [
    "And now we'll fit a model and look at the regression curve and residuals:"
   ]
  },
  {
   "cell_type": "code",
   "execution_count": null,
   "metadata": {},
   "outputs": [],
   "source": [
    "model = LinearRegression()\n",
    "model.fit(X, y)\n",
    "y_pred = model.predict(X)\n",
    "y_pred = pd.Series(y_pred, index=y.index)\n",
    "\n",
    "ax = y.plot(**plot_params)\n",
    "_ = y_pred.plot(ax=ax)"
   ]
  },
  {
   "cell_type": "markdown",
   "metadata": {},
   "source": [
    "The model does seem to be unable to anticipate when the case numbers make sudden changes in direction though, and so its predictions are always a week behind."
   ]
  },
  {
   "cell_type": "code",
   "execution_count": null,
   "metadata": {},
   "outputs": [],
   "source": [
    "ax = y[\"2014-11-01\":\"2015-03-01\"].plot(**plot_params)\n",
    "_ = y_pred[\"2014-11-01\":\"2015-03-01\"].plot(ax=ax)"
   ]
  },
  {
   "cell_type": "markdown",
   "metadata": {},
   "source": [
    "Now let's imagine an alternate scenario. Let's suppose that data about flu visits is unavailable. Instead, we'll use search term related to the flu.\n",
    "\n",
    "We can anticipate these changes if we use a leading indicator. Let's look at a cross correlation plot to see if the Google Trends feature could provide this:"
   ]
  },
  {
   "cell_type": "code",
   "execution_count": null,
   "metadata": {},
   "outputs": [],
   "source": [
    "visit_diff = flu_trends.FluVisits.diff().dropna()\n",
    "symptoms_diff = flu_trends.FluSymptoms.diff().dropna()\n",
    "_ = plot_ccf(visit_diff, symptoms_diff, lags=12)"
   ]
  },
  {
   "cell_type": "markdown",
   "metadata": {},
   "source": [
    "Sure enough, the rise in Google Trends tends to lead the rise in doctors' visits by a week or two. \n",
    "\n",
    "Let's create the lag features and fit a model to see how well we can fit case numbers through search-term popularity:"
   ]
  },
  {
   "cell_type": "code",
   "execution_count": null,
   "metadata": {},
   "outputs": [],
   "source": [
    "X = pd.DataFrame(index=flu_trends.index)\n",
    "y = flu_trends.FluVisits.copy()\n",
    "\n",
    "X, _ = add_lags(X, flu_trends.drop(\"FluVisits\", axis=1), lags=[1])\n",
    "y = y[X.index]\n",
    "\n",
    "model = LinearRegression(normalize=True)\n",
    "model.fit(X, y)\n",
    "y_pred_2 = model.predict(X)\n",
    "y_pred_2 = pd.Series(y_pred_2, index=y.index)\n",
    "\n",
    "ax = y.plot(**plot_params)\n",
    "_ = y_pred_2.plot(ax=ax)"
   ]
  },
  {
   "cell_type": "code",
   "execution_count": null,
   "metadata": {},
   "outputs": [],
   "source": [
    "ax = (y - y_pred).plot()\n",
    "_ = (y - y_pred_2).plot(ax=ax)"
   ]
  },
  {
   "cell_type": "markdown",
   "metadata": {},
   "source": [
    "Comparing the residuals, we can see that the fitted predictions...\n",
    "\n",
    "# Your Turn #"
   ]
  }
 ],
 "metadata": {
  "jupytext": {
   "cell_metadata_filter": "-all",
   "formats": "ipynb"
  },
  "kernelspec": {
   "display_name": "Python 3",
   "language": "python",
   "name": "python3"
  },
  "language_info": {
   "codemirror_mode": {
    "name": "ipython",
    "version": 3
   },
   "file_extension": ".py",
   "mimetype": "text/x-python",
   "name": "python",
   "nbconvert_exporter": "python",
   "pygments_lexer": "ipython3",
   "version": "3.6.5"
  }
 },
 "nbformat": 4,
 "nbformat_minor": 4
}
