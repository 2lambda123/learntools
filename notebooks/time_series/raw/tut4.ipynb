{
 "cells": [
  {
   "cell_type": "markdown",
   "id": "preceding-paris",
   "metadata": {},
   "source": [
    "# Introduction #\n",
    "\n",
    "In the previous two lessons, we learned how to model the time-dependent nature of time series through trend and seasonality.\n",
    "\n",
    "In this lesson, we'll learn how to model the serially-dependent nature of time series, how the past can affect the future.\n",
    "\n",
    "Plotting the target series against its lagged values can reveal a relationship that might not be evident when the series is plotted against time. \n",
    "\n",
    "<figure style=\"padding: 1em;\">\n",
    "<img src=\"https://i.imgur.com/rQEt43N.png\" width=400, alt=\"\">\n",
    "<figcaption style=\"textalign: center; font-style: italic\"><center>Two time series with serial dependence. On the left each series is plotted over time. On the right is the same series with each value plotted against the value one step before.\n",
    "</center></figcaption>\n",
    "</figure>\n",
    "\n",
    "Time dependence is shown in the graphs on the left, while serial dependence is shown in graphs on the right.\n",
    "\n",
    "With trend and seasonality, we trained models to fit curves to plots like those on the left; the models were learning time dependence. The goal in this lesson is to train models to fit curves to plots like those on the right; the models will learn serial dependence.\n",
    "\n",
    "# Cycles #\n",
    "\n",
    "In addition to trend and seasonality, time series can display **cyclic** behavior. Cycles are fluctuations in a time series associated with how the value in a series at one time depends on values at previous times. Cyclic behavior is characteristic of systems that can affect themselves, like economies, disease outbreaks, animal populations, and natural phenomena.\n",
    "\n",
    "<figure style=\"padding: 1em;\">\n",
    "<img src=\"https://i.imgur.com/rQEt43N.png\" width=400, alt=\"\">\n",
    "<figcaption style=\"textalign: center; font-style: italic\"><center>Several time series exhibiting cyclic behavior.\n",
    "</center></figcaption>\n",
    "</figure>\n",
    "\n",
    "The fluctuating patterns of seasonality and cyclic behavior appear similar. What distinguishes cyclic behavior is often its irregularity. As you can see from the plots above, cycles can vary in magnitude and duration, apparently at random. Seasonality, on the other hand, tends to conform rigidly to particular dates and times. What happens in a cycle is less about the particular time, and more about what has happened just before. The distinction isn't strict, however, and the fluctuations in some series could just as well be modeled either as seasons or cycles, or even some combination of the two.\n",
    "\n",
    "Cycles often follow a pattern of accumulation and decay back to a baseline or else fluctuations around a mean. Sometimes, though, a series can continually accumulate change without ever \"mean reverting\", which makes it difficult to model. Often the changes themselves will show cyclic behavior, and we might prefer to forecast the series of changes instead.\n",
    "\n",
    "<figure style=\"padding: 1em;\">\n",
    "<img src=\"\" width=400, alt=\"\">\n",
    "<figcaption style=\"textalign: center; font-style: italic\"><center>Change series.\n",
    "</center></figcaption>\n",
    "</figure>\n",
    "\n",
    "# Lag Plots and the Lag Embedding #\n",
    "\n",
    "<note>Reorganize. Do 1. lag plots, 2. interpret lag plots, 3. lag embedding, 4. diff + lag plot</note>\n",
    "\n",
    "We can help our model capture serial dependence by using the \"lags\" of a time series as features. \"Lagging\" a time series means altering the series so that its observations appear to have occured with a delay. Shifting the observations forward by one step is equivalent to adding one step to the time index: either operation would give you the \"1st lag\" of the series. \n",
    "\n",
    "<img>lag diagram?</img>\n",
    "\n",
    "Lagged features make information from previous time steps available in later time steps. The goal is to include as many lags as needed to give each time step a \"complete set\" of information from the past. Such a complete set of lags is known as a **lag embedding** for the time series.\n",
    "\n",
    "<note>table: lag embedding of fluview</note>\n",
    "\n",
    "In principal information could persist indefinitely from step to step, but practically influence from previous steps will decay so quickly that no more than a few lags are needed to capture everything of importance. (Using moving averages as features can be beneficial, too.)\n",
    "\n",
    "Visualizations can help determine which lags should go in the embedding. A great place to start is with a lag plot. A **lag plot** is simply a scatter plot of the time series against one of its lags:\n",
    "\n",
    "<figure style=\"padding: 1em;\">\n",
    "<img src=\";https://i.imgur.com/wGAtQIe.png\" width=400, alt=\"\">\n",
    "<figcaption style=\"textalign: center; font-style: italic\"><center>\n",
    "</center></figcaption>\n",
    "</figure>\n",
    "\n",
    "To see time-dependent properties (like trend and seasonality), we plotted time series against the time index, like in the moving-average and seasonal plots. The goal of those sections was essentially to fit curves to those plots, which we accomplished by creating new kinds of features. The goal of modeling serial dependence is essentially to fit curves to lag plots.\n",
    "\n",
    "The **autocorrelation** of a time series is the correlation a series has with its lags. Correlation is a measure of *linear* dependence, so the autocorrelations tell you how well a line can fit each of the lag plots. (We can see in the plots above that this sometimes isn't very well.)\n",
    "\n",
    "*Non*-linear relationships seem to be the rule rather than the exception in real-world time series, so it's a good idea to look at the complete lag plot when designing your forecasting model, instead of just the autocorrelations. (We'll learn how to capture these kinds of non-linear relationships with XGBoost in Lesson 6.)\n",
    "\n",
    "Whenever changes in a series persist for a while, it can be hard to tell which lags really contain new information, and which just contain information that has carried over from previous lags. A lag plot of *changes* in the series can help distinguish which terms are really informative.\n",
    "\n",
    "<figure style=\"padding: 1em;\">\n",
    "<img src=\";https://i.imgur.com/wGAtQIe.png\" width=400, alt=\"\">\n",
    "<figcaption style=\"textalign: center; font-style: italic\"><center>\n",
    "</center></figcaption>\n",
    "</figure>\n",
    "\n",
    "From these plots it appears the first two lags are the most informative ones.\n",
    "\n",
    "# Example - Flu Trends #\n",
    "\n",
    "The *Flu Trends* dataset contains records of doctor's visits for the flu together with the popularity of flu-related search terms as captured by Google Trends, for weeks between 2009 and 2016. Our goal is to forecast the number of flu cases for the coming weeks."
   ]
  },
  {
   "cell_type": "code",
   "execution_count": null,
   "id": "proof-actor",
   "metadata": {},
   "outputs": [],
   "source": [
    "#$HIDE_INPUT$\n",
    "from pathlib import Path\n",
    "from warnings import simplefilter\n",
    "\n",
    "import matplotlib.pyplot as plt\n",
    "import numpy as np\n",
    "import pandas as pd\n",
    "import seaborn as sns\n",
    "from scipy.signal import periodogram\n",
    "from sklearn.linear_model import LinearRegression\n",
    "from statsmodels.graphics.tsaplots import plot_acf, plot_pacf\n",
    "from statsmodels.tsa.ar_model import ar_select_order\n",
    "from statsmodels.tsa.tsatools import lagmat\n",
    "\n",
    "simplefilter(\"ignore\")\n",
    "\n",
    "# Set Matplotlib defaults\n",
    "plt.style.use(\"seaborn-whitegrid\")\n",
    "plt.rc(\"figure\", autolayout=True, figsize=(11, 5))\n",
    "plt.rc(\n",
    "    \"axes\",\n",
    "    labelweight=\"bold\",\n",
    "    labelsize=\"large\",\n",
    "    titleweight=\"bold\",\n",
    "    titlesize=16,\n",
    "    titlepad=10,\n",
    ")\n",
    "plot_params = dict(\n",
    "    color=\"0.75\",\n",
    "    style=\".-\",\n",
    "    markeredgecolor=\"0.25\",\n",
    "    markerfacecolor=\"0.25\",\n",
    "#    legend=False,\n",
    ")\n",
    "\n",
    "\n",
    "\n",
    "data_dir = Path(\"../input/ts-course-data\")\n",
    "flu_trends = pd.read_csv(data_dir / \"flu-trends.csv\")\n",
    "flu_trends.set_index(\n",
    "    pd.PeriodIndex(flu_trends.Week, freq=\"W\"),\n",
    "    inplace=True,\n",
    ")\n",
    "flu_trends.drop(\"Week\", axis=1, inplace=True)\n",
    "\n",
    "ax = flu_trends.FluVisits.plot(**plot_params)\n",
    "ax.set(ylabel=\"Office Visits\")"
   ]
  },
  {
   "cell_type": "markdown",
   "id": "adapted-sheriff",
   "metadata": {},
   "source": [
    "This data shows irregular cycles instead of a regular seasonality: the peak tends to occur around the new year, but sometimes earlier or later, sometimes larger or smaller. This irregularity means that modeling this series with seasonal features won't likely be very successful. Instead, we'll use lag features. This way, the model can learn to react as the case numbers rise and fall.\n",
    "\n",
    "We'll look at two models. In the first, we'll only use lagged values of the series itself as features. In the second, we'll only use lagged values of Google Trends.\n",
    "\n",
    "Let's take a look at the lag and autocorrelation plots first:"
   ]
  },
  {
   "cell_type": "code",
   "execution_count": null,
   "id": "cellular-soundtrack",
   "metadata": {},
   "outputs": [],
   "source": [
    "fig, (ax0, ax1) = plt.subplots(2, 1, figsize=(11, 7), sharex=True)\n",
    "_ = plot_acf(flu_trends.FluVisits, ax=ax0)\n",
    "_ = plot_pacf(flu_trends.FluVisits, ax=ax1)"
   ]
  },
  {
   "cell_type": "markdown",
   "id": "concrete-transmission",
   "metadata": {},
   "source": [
    "These show an AR effect at lags 1, 2, 3, and 4, which we can verify with AR selection:"
   ]
  },
  {
   "cell_type": "code",
   "execution_count": null,
   "id": "minus-mattress",
   "metadata": {},
   "outputs": [],
   "source": [
    "ar_res = ar_select_order(flu_trends.FluVisits, maxlag=8)\n",
    "print(ar_res.ar_lags)"
   ]
  },
  {
   "cell_type": "markdown",
   "id": "assured-crowd",
   "metadata": {},
   "source": [
    "Now let's create the corresponding lag features:"
   ]
  },
  {
   "cell_type": "code",
   "execution_count": null,
   "id": "hearing-cookbook",
   "metadata": {},
   "outputs": [],
   "source": [
    "from statsmodels.tsa.tsatools import lagmat\n",
    "\n",
    "y = flu_trends.FluVisits\n",
    "X = lagmat(y, maxlag=4, use_pandas=True)\n",
    "\n",
    "X.head()"
   ]
  },
  {
   "cell_type": "markdown",
   "id": "eight-mambo",
   "metadata": {},
   "source": [
    "And now we'll fit a model and look at the regression curve and residuals:"
   ]
  },
  {
   "cell_type": "code",
   "execution_count": null,
   "id": "exposed-priest",
   "metadata": {},
   "outputs": [],
   "source": [
    "model = LinearRegression()\n",
    "model.fit(X, y)\n",
    "y_pred = model.predict(X)\n",
    "y_pred = pd.Series(y_pred, index=y.index)\n",
    "\n",
    "ax = y.plot(**plot_params)\n",
    "_ = y_pred.plot(ax=ax)"
   ]
  },
  {
   "cell_type": "markdown",
   "id": "empirical-honolulu",
   "metadata": {},
   "source": [
    "The model does seem to be unable to anticipate when the case numbers make sudden changes in direction though, and so its predictions are always a week behind."
   ]
  },
  {
   "cell_type": "code",
   "execution_count": null,
   "id": "coastal-solomon",
   "metadata": {},
   "outputs": [],
   "source": [
    "ax = y[\"2014-11-01\":\"2015-03-01\"].plot(**plot_params)\n",
    "_ = y_pred[\"2014-11-01\":\"2015-03-01\"].plot(ax=ax)"
   ]
  },
  {
   "cell_type": "markdown",
   "id": "built-intelligence",
   "metadata": {},
   "source": [
    "Now let's imagine an alternate scenario. Let's suppose that data about flu visits is unavailable. Instead, we'll use search terms related to the flu."
   ]
  },
  {
   "cell_type": "code",
   "execution_count": null,
   "id": "strange-honor",
   "metadata": {},
   "outputs": [],
   "source": [
    "#$HIDE_INPUT$\n",
    "ax = flu_trends.plot(\n",
    "    y=[\"ExposedToFlu\", \"DoIHaveTheFlu\", \"HavingTheFlu\"],\n",
    "    subplots=True,\n",
    "    ylabel=\"Popularity\",\n",
    "    sharey=True,\n",
    "    **plot_params,\n",
    ")"
   ]
  },
  {
   "cell_type": "markdown",
   "id": "rolled-alfred",
   "metadata": {},
   "source": [
    "We can anticipate these changes if we use a leading indicator. Let's look at a cross correlation plot to see if the Google Trends feature could provide this:"
   ]
  },
  {
   "cell_type": "code",
   "execution_count": null,
   "id": "abandoned-estimate",
   "metadata": {},
   "outputs": [],
   "source": [
    "visit_diff = flu_trends.FluVisits.diff().dropna()\n",
    "symptoms_diff = flu_trends.FluSymptoms.diff().dropna()\n",
    "_ = plot_ccf(visit_diff, symptoms_diff, lags=12)"
   ]
  },
  {
   "cell_type": "markdown",
   "id": "subtle-retreat",
   "metadata": {},
   "source": [
    "Sure enough, the rise in Google Trends tends to lead the rise in doctors' visits by a week or two. \n",
    "\n",
    "Let's create the lag features and fit a model to see how well we can fit case numbers through search-term popularity:"
   ]
  },
  {
   "cell_type": "code",
   "execution_count": null,
   "id": "administrative-shepherd",
   "metadata": {},
   "outputs": [],
   "source": [
    "X = pd.DataFrame(index=flu_trends.index)\n",
    "y = flu_trends.FluVisits.copy()\n",
    "\n",
    "X, _ = add_lags(X, flu_trends.drop(\"FluVisits\", axis=1), lags=[1])\n",
    "y = y[X.index]\n",
    "\n",
    "model = LinearRegression(normalize=True)\n",
    "model.fit(X, y)\n",
    "y_pred_2 = model.predict(X)\n",
    "y_pred_2 = pd.Series(y_pred_2, index=y.index)\n",
    "\n",
    "ax = y.plot(**plot_params)\n",
    "_ = y_pred_2.plot(ax=ax)"
   ]
  },
  {
   "cell_type": "markdown",
   "id": "collaborative-indication",
   "metadata": {},
   "source": [
    "# Your Turn #"
   ]
  }
 ],
 "metadata": {
  "jupytext": {
   "cell_metadata_filter": "-all",
   "formats": "ipynb,md"
  },
  "kernelspec": {
   "display_name": "Python 3",
   "language": "python",
   "name": "python3"
  }
 },
 "nbformat": 4,
 "nbformat_minor": 5
}
