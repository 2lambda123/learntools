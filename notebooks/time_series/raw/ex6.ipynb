{
 "cells": [
  {
   "cell_type": "markdown",
   "metadata": {},
   "source": [
    "# Introduction #\n",
    "\n",
    "Run this cell to set everything up!"
   ]
  },
  {
   "cell_type": "code",
   "execution_count": null,
   "metadata": {
    "lines_to_next_cell": 2
   },
   "outputs": [],
   "source": [
    "# Setup feedback system\n",
    "from learntools.core import binder\n",
    "binder.bind(globals())\n",
    "from learntools.time_series.ex6 import *\n",
    "\n",
    "# Setup notebook\n",
    "import holidays\n",
    "import matplotlib.pyplot as plt\n",
    "import numpy as np\n",
    "import pandas as pd\n",
    "import seaborn as sns\n",
    "from pathlib import Path\n",
    "from sklearn.linear_model import LinearRegression\n",
    "from sklearn.metrics import mean_squared_error\n",
    "from statsmodels.tsa.deterministic import (CalendarFourier,\n",
    "                                           CalendarSeasonality,\n",
    "                                           CalendarTimeTrend)\n",
    "from xgboost import XGBRegressor\n",
    "\n",
    "\n",
    "# Set Matplotlib defaults\n",
    "plt.style.use(\"seaborn-whitegrid\")\n",
    "plt.rc(\"figure\", autolayout=True, figsize=(11, 5))\n",
    "plt.rc(\n",
    "    \"axes\",\n",
    "    labelweight=\"bold\",\n",
    "    labelsize=\"large\",\n",
    "    titleweight=\"bold\",\n",
    "    titlesize=16,\n",
    "    titlepad=10,\n",
    ")\n",
    "\n",
    "\n",
    "def add_trend(X, freq=\"D\", order=1):\n",
    "    base_period = X.index[0]\n",
    "    trend = CalendarTimeTrend(\n",
    "        freq=freq, order=order, constant=False, base_period=base_period,\n",
    "    )\n",
    "    X = X.join(trend.in_sample(X.index))\n",
    "    return X\n",
    "\n",
    "\n",
    "def add_seasonal(X, freq=\"D\", period=\"W\"):\n",
    "    seasonality = CalendarSeasonality(freq=\"D\", period=\"W\")\n",
    "    X = X.join(seasonality.in_sample(X.index))\n",
    "    return X\n",
    "\n",
    "\n",
    "def add_fourier(X, freq=\"A\", order=52):\n",
    "    fourier = CalendarFourier(freq=freq, order=order)\n",
    "    X = pd.concat([X, fourier.in_sample(X.index)], axis=1)\n",
    "    return X\n",
    "\n",
    "\n",
    "def add_lags(X, y, maxlag=1):\n",
    "    X = X.join(lagmat(y, maxlag=maxlag, use_pandas=True, trim=\"both\"))\n",
    "    return X, y\n",
    "\n",
    "\n",
    "# Load 1C data\n",
    "data_dir = Path(\"../input/ts-course-data\")\n",
    "df = pd.read_csv(data_dir / \"1c_train.csv\", parse_dates=[\"date\"])\n",
    "df[\"date\"] = df.date.dt.to_period(\"D\")\n",
    "df_items = pd.read_csv(data_dir / \"1c_items.csv\", index_col=\"item_id\")\n",
    "\n",
    "# Make series for each item a column\n",
    "ts_cnt = df.pivot_table(\n",
    "    index=\"date\", values=\"item_cnt_day\", columns=\"item_id\", aggfunc=\"sum\"\n",
    ")\n",
    "\n",
    "ts_valid = ts_cnt.iloc[-90:]\n",
    "ts_train = ts_cnt.drop(ts_valid.index)\n",
    "df_train = df[df.date < ts_valid.index[0]]\n",
    "df_valid = df[df.date >= ts_valid.index[0]]"
   ]
  },
  {
   "cell_type": "markdown",
   "metadata": {},
   "source": [
    "-------------------------------------------------------------------------------"
   ]
  },
  {
   "cell_type": "markdown",
   "metadata": {},
   "source": [
    "# 0) Forecast with Only Global Model\n"
   ]
  },
  {
   "cell_type": "code",
   "execution_count": null,
   "metadata": {
    "lines_to_next_cell": 0
   },
   "outputs": [],
   "source": [
    "# YOUR CODE HERE\n",
    "#_UNCOMMENT_IF(PROD)_\n",
    "#____\n",
    "\n",
    "# Check your answer\n",
    "q_0.check()"
   ]
  },
  {
   "cell_type": "code",
   "execution_count": null,
   "metadata": {
    "lines_to_next_cell": 0
   },
   "outputs": [],
   "source": [
    "# Lines below will give you a hint or solution code\n",
    "#_COMMENT_IF(PROD)_\n",
    "q_0.hint()\n",
    "#_COMMENT_IF(PROD)_\n",
    "q_0.solution()"
   ]
  },
  {
   "cell_type": "code",
   "execution_count": null,
   "metadata": {
    "lines_to_next_cell": 2
   },
   "outputs": [],
   "source": [
    "#%%RM_IF(PROD)%%\n",
    "def get_time_features(X):\n",
    "    X[\"Year\"] = X.index.year\n",
    "    X[\"Month\"] = X.index.month\n",
    "    X[\"DayOfMonth\"] = X.index.day\n",
    "    X[\"DayOfWeek\"] = X.index.dayofweek\n",
    "    X[\"WeekOfYear\"] = X.index.weekofyear\n",
    "    return X\n",
    "\n",
    "\n",
    "def get_data_splits(df):\n",
    "    df = df.sort_values(by=\"date\")\n",
    "    dates = df.date.unique()\n",
    "    X = pd.DataFrame(index=pd.PeriodIndex(dates, name=\"date\"))\n",
    "    X = get_time_features(X)\n",
    "    ts = df.set_index([\"item_id\", \"date\"]).sort_index(level=0)\n",
    "    X = X.join(ts)\n",
    "    y = X.pop(\"item_cnt_day\")\n",
    "    y = y.clip(0.0)\n",
    "    for colname in X.select_dtypes([\"object\", \"category\"]):\n",
    "        X[colname], _ = X[colname].factorize()\n",
    "    idx_train = X.index[df.date < dates[-90]]\n",
    "    idx_valid = X.index[df.date >= dates[-90]]\n",
    "    return (\n",
    "        X.loc[idx_train],\n",
    "        y.loc[idx_train],\n",
    "        X.loc[idx_valid],\n",
    "        y.loc[idx_valid],\n",
    "    )\n",
    "\n",
    "\n",
    "X_train, y_train, X_valid, y_valid = get_data_splits(df)\n",
    "\n",
    "model = XGBRegressor(eval_set=[X_valid, y_valid], eval_metric=\"rmse\")\n",
    "model.fit(X_train, y_train)\n",
    "\n",
    "\n",
    "q_0.assert_check_passed()"
   ]
  },
  {
   "cell_type": "markdown",
   "metadata": {},
   "source": [
    "Evaluate."
   ]
  },
  {
   "cell_type": "code",
   "execution_count": null,
   "metadata": {
    "lines_to_next_cell": 2
   },
   "outputs": [],
   "source": [
    "y_pred = pd.Series(model.predict(X_train), index=y_train.index).clip(0.0)\n",
    "y_fore = pd.Series(model.predict(X_valid), index=y_valid.index).clip(0.0)\n",
    "rmse_train = np.sqrt(((y_train - y_pred) ** 2).mean())\n",
    "rmse_valid = np.sqrt(((y_valid - y_fore) ** 2).mean())\n",
    "print(rmse_train, rmse_valid)"
   ]
  },
  {
   "cell_type": "code",
   "execution_count": null,
   "metadata": {
    "lines_to_next_cell": 2
   },
   "outputs": [],
   "source": [
    "for item in df.item_id.unique()[:20]:\n",
    "    ax = y[item].plot(style=\".\", color=\"0.25\")\n",
    "    _ = y_pred[item].plot(ax=ax)\n",
    "    plt.show()"
   ]
  },
  {
   "cell_type": "markdown",
   "metadata": {},
   "source": [
    "-------------------------------------------------------------------------------"
   ]
  },
  {
   "cell_type": "code",
   "execution_count": null,
   "metadata": {
    "lines_to_next_cell": 2
   },
   "outputs": [],
   "source": [
    "def make_local_features(ts):\n",
    "    X = pd.DataFrame(index=ts.index)\n",
    "    X = add_trend(X)\n",
    "    X = add_seasonal(X)\n",
    "    return X\n",
    "\n",
    "\n",
    "X = make_local_features(ts_cnt)"
   ]
  },
  {
   "cell_type": "markdown",
   "metadata": {},
   "source": [
    "# 1) Make local forecasts\n",
    "\n",
    "Create local forecasts using the `LinearRegression` model"
   ]
  },
  {
   "cell_type": "code",
   "execution_count": null,
   "metadata": {
    "lines_to_next_cell": 2
   },
   "outputs": [],
   "source": [
    "forecast = {}\n",
    "for item in ts_train:\n",
    "    y = ts_cnt.loc[:, item].dropna().clip(0.0)\n",
    "    y_train = ts_train.loc[:, item].dropna().clip(0.0)\n",
    "    X_train = X.loc[y_train.index, :]\n",
    "    model = LinearRegression()\n",
    "    model.fit(X_train, y_train)\n",
    "    forecast[item] = pd.Series(\n",
    "        model.predict(X.loc[y.index, :]), index=y.index,\n",
    "    )\n",
    "\n",
    "ts_local = pd.DataFrame(forecast)\n",
    "local_train = ts_local.loc[ts_train.index]\n",
    "local_valid = ts_local.loc[ts_valid.index]"
   ]
  },
  {
   "cell_type": "markdown",
   "metadata": {},
   "source": [
    "Run this cell to see the error using only the local models."
   ]
  },
  {
   "cell_type": "code",
   "execution_count": null,
   "metadata": {},
   "outputs": [],
   "source": [
    "rmse = np.sqrt(np.nanmean((ts_valid - local_valid) ** 2))\n",
    "print(f\"RMSE: {rmse}\")"
   ]
  },
  {
   "cell_type": "markdown",
   "metadata": {},
   "source": [
    "Now run this to detrend."
   ]
  },
  {
   "cell_type": "code",
   "execution_count": null,
   "metadata": {
    "lines_to_next_cell": 2
   },
   "outputs": [],
   "source": [
    "# Detrend\n",
    "ts_detrended = ts_cnt - ts_local"
   ]
  },
  {
   "cell_type": "markdown",
   "metadata": {},
   "source": [
    "Run this cell to see the result."
   ]
  },
  {
   "cell_type": "code",
   "execution_count": null,
   "metadata": {},
   "outputs": [],
   "source": [
    "items = ts_train.sample(4, axis=1)\n",
    "for item in items:\n",
    "    fig, ax = plt.subplots(figsize=(11, 3))\n",
    "    s, y = df_items.loc[item, [\"shop\", \"item\"]]\n",
    "    title = f\"{s} {y} (Detrended)\"\n",
    "    ts_detrended[item].plot(ax=ax, color=\"C0\", title=title)\n",
    "    plt.show()"
   ]
  },
  {
   "cell_type": "markdown",
   "metadata": {},
   "source": [
    "-------------------------------------------------------------------------------"
   ]
  },
  {
   "cell_type": "markdown",
   "metadata": {},
   "source": [
    "# 3) Define Global Features\n"
   ]
  },
  {
   "cell_type": "code",
   "execution_count": null,
   "metadata": {
    "lines_to_next_cell": 2
   },
   "outputs": [],
   "source": [
    "def get_data(X):\n",
    "    X[\"Year\"] = X.index.year\n",
    "    X[\"Month\"] = X.index.month\n",
    "    X[\"DayOfMonth\"] = X.index.day\n",
    "    X[\"DayOfWeek\"] = X.index.dayofweek\n",
    "    X[\"WeekOfYear\"] = X.index.weekofyear\n",
    "    for colname in X.select_dtypes([\"object\", \"category\"]):\n",
    "        X[colname], _ = X[colname].factorize()\n",
    "    return X\n",
    "\n",
    "\n",
    "X_train = df_train[[\"date\", \"item_id\", \"shop\", \"item\"]].set_index(\"date\")\n",
    "X_valid = df_valid[[\"date\", \"item_id\", \"shop\", \"item\"]].set_index(\"date\")\n",
    "X_train = get_data(X_train).set_index(\"item_id\", append=True).sort_index()\n",
    "X_valid = get_data(X_valid).set_index(\"item_id\", append=True).sort_index()\n",
    "\n",
    "y = ts_detrended.melt(ignore_index=False).dropna()\n",
    "y = y.reset_index().set_index([\"date\", \"item_id\"])\n",
    "y = y.value\n",
    "y.name = \"item_cnt_day\"\n",
    "\n",
    "y_train = y.loc[X_train.index].sort_index()\n",
    "y_valid = y.loc[X_valid.index].sort_index()\n",
    "\n",
    "X_train[\"Sales MA\"] = (\n",
    "    ts_train\n",
    "    .shift(1)\n",
    "    .ewm(halflife=7)\n",
    "    .mean()\n",
    "    .melt(ignore_index=False)\n",
    "    .set_index(\"item_id\", append=True)\n",
    "    .fillna(0.0)\n",
    ")\n",
    "X_valid[\"Sales MA\"] = (\n",
    "    ts_valid\n",
    "    .shift(1)\n",
    "    .ewm(halflife=7)\n",
    "    .mean()\n",
    "    .melt(ignore_index=False)\n",
    "    .set_index(\"item_id\", append=True)\n",
    "    .fillna(0.0)\n",
    ")\n"
   ]
  },
  {
   "cell_type": "markdown",
   "metadata": {},
   "source": [
    "-------------------------------------------------------------------------------"
   ]
  },
  {
   "cell_type": "markdown",
   "metadata": {},
   "source": [
    "# 4) Forecast with global model\n"
   ]
  },
  {
   "cell_type": "code",
   "execution_count": null,
   "metadata": {
    "lines_to_next_cell": 2
   },
   "outputs": [],
   "source": [
    "model = XGBRegressor()\n",
    "model.fit(X_train, y_train)\n",
    "y_pred = model.predict(X_train)\n",
    "y_pred = pd.DataFrame({\"item_cnt_day\": y_pred}, index=y_train.index)\n",
    "y_pred = y_pred.reset_index().pivot_table(\n",
    "    index=\"date\", columns=\"item_id\", values=\"item_cnt_day\"\n",
    ")\n",
    "y_pred = y_pred + local_train\n",
    "y_pred = y_pred.clip(0.0)\n",
    "\n",
    "y_forecast = model.predict(X_valid)\n",
    "y_forecast = pd.DataFrame({\"item_cnt_day\": y_forecast}, index=y_valid.index)\n",
    "y_forecast = y_forecast.reset_index(level=1).pivot(\n",
    "    columns=\"item_id\", values=\"item_cnt_day\"\n",
    ")\n",
    "y_forecast = y_forecast + local_valid\n",
    "y_forecast = y_forecast.clip(0.0)\n",
    "y_forecast = y_forecast.melt(ignore_index=False).rename(columns={\"variable\": \"item_id\", \"value\": \"item_cnt_day\"}).set_index(\"item_id\", append=True).dropna().sort_index(level=0)[\"item_cnt_day\"]"
   ]
  },
  {
   "cell_type": "markdown",
   "metadata": {},
   "source": [
    "This will show you the errors."
   ]
  },
  {
   "cell_type": "code",
   "execution_count": null,
   "metadata": {
    "lines_to_next_cell": 2
   },
   "outputs": [],
   "source": [
    "rmse_is = np.sqrt(np.nanmean((ts_train - y_pred) ** 2))\n",
    "print(f\"In-Sample RMSE: {rmse_is}\")\n",
    "\n",
    "rmse_oos = np.sqrt(np.nanmean((y_valid - y_forecast) ** 2))\n",
    "print(f\"Out-of-Sample RMSE: {rmse_oos}\")"
   ]
  },
  {
   "cell_type": "markdown",
   "metadata": {},
   "source": [
    "Run this to see some of the forecast series.\n"
   ]
  },
  {
   "cell_type": "code",
   "execution_count": null,
   "metadata": {
    "lines_to_next_cell": 2
   },
   "outputs": [],
   "source": [
    "items = ts_train.sample(4, axis=1)\n",
    "for item in items:\n",
    "    fig, ax = plt.subplots(figsize=(11, 3))\n",
    "    s, y = df_items.loc[item, :]\n",
    "    title = f\"{s} {y}\"\n",
    "    ax = ts_train[item].plot(color=\"0.25\", style=\".\")\n",
    "    y_pred[item].plot(ax=ax, color=\"C0\", title=title)\n",
    "    plt.show()"
   ]
  },
  {
   "cell_type": "markdown",
   "metadata": {},
   "source": [
    "# Next Steps #"
   ]
  },
  {
   "cell_type": "markdown",
   "metadata": {},
   "source": [
    "# References #\n",
    "\n",
    "Here are some great resources you might like to consult for more on time series and forecasting. They all played a part in shaping this course:\n",
    "\n",
    "- *Learnings from Kaggle's forecasting competitions*, an article by Casper Solheim Bojer and Jens Peder Meldgaard.\n",
    "- *Forecasting: Principles and Practice*, a book by Rob J Hyndmann and George Athanasopoulos.\n",
    "- *Practical Time Series Forecasting with R*, a book by Galit Shmueli and Kenneth C. Lichtendahl Jr.\n",
    "- *Time Series Analysis and Its Applications*, a book by Robert H. Shumway and David S. Stoffer.\n",
    "- *Machine learning strategies for time series forecasting*, an article by Gianluca Bontempi, Souhaib Ben Taieb, and Yann-Aël Le Borgne.\n",
    "- *On the use of cross-validation for time series predictor evaluation*, an article by Christoph Bergmeir and José M. Benítez.\n"
   ]
  }
 ],
 "metadata": {
  "jupytext": {
   "cell_metadata_filter": "-all",
   "formats": "ipynb"
  },
  "kernelspec": {
   "display_name": "Python 3",
   "language": "python",
   "name": "python3"
  },
  "language_info": {
   "codemirror_mode": {
    "name": "ipython",
    "version": 3
   },
   "file_extension": ".py",
   "mimetype": "text/x-python",
   "name": "python",
   "nbconvert_exporter": "python",
   "pygments_lexer": "ipython3",
   "version": "3.6.5"
  }
 },
 "nbformat": 4,
 "nbformat_minor": 4
}
