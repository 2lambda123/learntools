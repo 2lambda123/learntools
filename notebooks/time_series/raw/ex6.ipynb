{
 "cells": [
  {
   "cell_type": "markdown",
   "metadata": {},
   "source": [
    "# Introduction #\n",
    "\n",
    "Run this cell to set everything up!"
   ]
  },
  {
   "cell_type": "code",
   "execution_count": null,
   "metadata": {
    "lines_to_next_cell": 2
   },
   "outputs": [],
   "source": [
    "# Setup feedback system\n",
    "from learntools.core import binder\n",
    "binder.bind(globals())\n",
    "from learntools.time_series.ex6 import *\n",
    "\n",
    "# Setup notebook\n",
    "import holidays\n",
    "import matplotlib.pyplot as plt\n",
    "import numpy as np\n",
    "import pandas as pd\n",
    "import seaborn as sns\n",
    "from pathlib import Path\n",
    "from sklearn.linear_model import LinearRegression\n",
    "from sklearn.metrics import mean_squared_error\n",
    "from statsmodels.tsa.deterministic import (CalendarFourier,\n",
    "                                           CalendarSeasonality,\n",
    "                                           CalendarTimeTrend)\n",
    "from xgboost import XGBRegressor\n",
    "\n",
    "\n",
    "# Set Matplotlib defaults\n",
    "plt.style.use(\"seaborn-whitegrid\")\n",
    "plt.rc(\"figure\", autolayout=True, figsize=(11, 5))\n",
    "plt.rc(\n",
    "    \"axes\",\n",
    "    labelweight=\"bold\",\n",
    "    labelsize=\"large\",\n",
    "    titleweight=\"bold\",\n",
    "    titlesize=16,\n",
    "    titlepad=10,\n",
    ")\n",
    "\n",
    "\n",
    "def add_trend(X, freq=\"D\", order=1):\n",
    "    base_period = X.index[0]\n",
    "    trend = CalendarTimeTrend(\n",
    "        freq=freq, order=order, constant=False, base_period=base_period,\n",
    "    )\n",
    "    X = X.join(trend.in_sample(X.index))\n",
    "    return X\n",
    "\n",
    "\n",
    "def add_seasonal(X, freq=\"D\", period=\"W\"):\n",
    "    seasonality = CalendarSeasonality(freq=\"D\", period=\"W\")\n",
    "    X = X.join(seasonality.in_sample(X.index))\n",
    "    return X\n",
    "\n",
    "\n",
    "def add_fourier(X, freq=\"A\", order=52):\n",
    "    fourier = CalendarFourier(freq=freq, order=order)\n",
    "    X = X.join(fourier.in_sample(X.index))\n",
    "    return X\n",
    "\n",
    "\n",
    "def add_lags(X, y, maxlag=1):\n",
    "    X = X.join(lagmat(y, maxlag=maxlag, use_pandas=True, trim=\"both\"))\n",
    "    return X, y\n",
    "\n",
    "\n",
    "# Load 1C data\n",
    "data_dir = Path(\"../input/ts-course-data\")\n",
    "df_train = pd.read_csv(data_dir / \"1c_train.csv\", parse_dates=[\"date\"])\n",
    "df_items = pd.read_csv(data_dir / \"1c_items.csv\", index_col=\"item_id\")\n",
    "\n",
    "# Make series for each item a column\n",
    "ts_cnt = df_train.pivot_table(\n",
    "    index=\"date\", values=\"item_cnt_day\", columns=\"item_id\", aggfunc=\"sum\"\n",
    ")\n",
    "ts_cnt = ts_cnt.to_period(\"D\")\n",
    "\n",
    "ts_valid = ts_cnt.iloc[-90:]\n",
    "ts_train = ts_cnt.drop(ts_valid.index)"
   ]
  },
  {
   "cell_type": "markdown",
   "metadata": {},
   "source": [
    "-------------------------------------------------------------------------------\n"
   ]
  },
  {
   "cell_type": "code",
   "execution_count": null,
   "metadata": {
    "lines_to_next_cell": 2
   },
   "outputs": [],
   "source": [
    "def make_local_features(ts):\n",
    "    X = pd.DataFrame(index=ts.index)\n",
    "    X = add_trend(X)\n",
    "    X = add_seasonal(X)\n",
    "    return X\n",
    "\n",
    "\n",
    "X = make_local_features(ts_cnt)"
   ]
  },
  {
   "cell_type": "markdown",
   "metadata": {},
   "source": [
    "# 1) Make local forecasts\n",
    "\n",
    "Create local forecasts using the `LinearRegression` model"
   ]
  },
  {
   "cell_type": "code",
   "execution_count": null,
   "metadata": {
    "lines_to_next_cell": 2
   },
   "outputs": [],
   "source": [
    "forecast = {}\n",
    "for item in ts_train:\n",
    "    y = ts_cnt.loc[:, item].dropna().clip(0.0)\n",
    "    y_train = ts_train.loc[:, item].dropna().clip(0.0)\n",
    "    X_train = X.loc[y_train.index, :]\n",
    "    model = LinearRegression()\n",
    "    model.fit(X_train, y_train)\n",
    "    forecast[item] = pd.Series(\n",
    "        model.predict(X.loc[y.index, :]), index=y.index,\n",
    "    )\n",
    "\n",
    "ts_local = pd.DataFrame(forecast)\n",
    "local_train = ts_local.loc[ts_train.index]\n",
    "local_valid = ts_local.loc[ts_valid.index]"
   ]
  },
  {
   "cell_type": "markdown",
   "metadata": {},
   "source": [
    "Run this cell to see the error using only the local models."
   ]
  },
  {
   "cell_type": "code",
   "execution_count": null,
   "metadata": {},
   "outputs": [],
   "source": [
    "rmse = np.sqrt(np.nanmean((ts_valid - local_valid) ** 2))\n",
    "print(f\"RMSE: {rmse}\")"
   ]
  },
  {
   "cell_type": "markdown",
   "metadata": {},
   "source": [
    "-------------------------------------------------------------------------------"
   ]
  },
  {
   "cell_type": "markdown",
   "metadata": {},
   "source": [
    "# 2) Detrend with local forecasts\n"
   ]
  },
  {
   "cell_type": "code",
   "execution_count": null,
   "metadata": {
    "lines_to_next_cell": 2
   },
   "outputs": [],
   "source": [
    "# Detrend\n",
    "ts_detrended = ts_cnt - ts_local"
   ]
  },
  {
   "cell_type": "markdown",
   "metadata": {},
   "source": [
    "Run this cell to see the result."
   ]
  },
  {
   "cell_type": "code",
   "execution_count": null,
   "metadata": {},
   "outputs": [],
   "source": [
    "items = ts_train.sample(4, axis=1)\n",
    "for item in items:\n",
    "    fig, ax = plt.subplots(figsize=(11, 3))\n",
    "    s, y = df_items.loc[item, :]\n",
    "    title = f\"{s} {y} (Detrended)\"\n",
    "    ts_detrended[item].plot(ax=ax, color=\"C0\", title=title)\n",
    "    plt.show()"
   ]
  },
  {
   "cell_type": "markdown",
   "metadata": {},
   "source": [
    "-------------------------------------------------------------------------------"
   ]
  },
  {
   "cell_type": "markdown",
   "metadata": {},
   "source": [
    "# 3) Define Global Features\n"
   ]
  },
  {
   "cell_type": "code",
   "execution_count": null,
   "metadata": {
    "lines_to_next_cell": 2
   },
   "outputs": [],
   "source": [
    "def get_data(ts, features):\n",
    "    X = pd.DataFrame(index=ts.index)\n",
    "    X[\"DayOfWeek\"] = X.index.dayofweek\n",
    "    X[\"DayOfYear\"] = X.index.dayofyear\n",
    "    X[\"Month\"] = X.index.month\n",
    "    X = add_fourier(X, order=52)\n",
    "    X = features.join(X.to_timestamp(), on=\"date\")\n",
    "    X.set_index(\"date\", inplace=True)\n",
    "    for colname in X.select_dtypes([\"object\", \"category\"]):\n",
    "        X[colname], _ = X[colname].factorize()\n",
    "    return X\n",
    "\n",
    "\n",
    "features_train = df_train[[\"date\", \"shop\", \"item\"]]\n",
    "features_valid = df_valid[[\"date\", \"shop\", \"item\"]]\n",
    "X_train = get_data(ts_train, features_train)\n",
    "X_valid = get_data(ts_valid, features_valid)\n",
    "\n",
    "y_train = ts_detrended.melt(ignore_index=False).dropna()\n",
    "y_train = y_train.reset_index().set_index([\"date\", \"item_id\"])\n",
    "y_train = y_train.value\n",
    "y_train.name = \"item_cnt_day\""
   ]
  },
  {
   "cell_type": "markdown",
   "metadata": {},
   "source": [
    "-------------------------------------------------------------------------------"
   ]
  },
  {
   "cell_type": "markdown",
   "metadata": {},
   "source": [
    "# 4) Forecast with global model\n"
   ]
  },
  {
   "cell_type": "code",
   "execution_count": null,
   "metadata": {
    "lines_to_next_cell": 2
   },
   "outputs": [],
   "source": [
    "\n",
    "\n",
    "model = XGBRegressor()\n",
    "model.fit(X_train, y_train)\n",
    "y_pred = model.predict(X_train)\n",
    "y_pred = pd.DataFrame({\"item_cnt_day\": y_pred}, index=y_train.index)\n",
    "y_pred = y_pred.reset_index().pivot_table(\n",
    "    index=\"date\", columns=\"item_id\", values=\"item_cnt_day\"\n",
    ")\n",
    "y_pred = y_pred + ts_trend\n",
    "y_pred = y_pred.clip(0.0)"
   ]
  },
  {
   "cell_type": "markdown",
   "metadata": {},
   "source": [
    "Run this to see the result.\n"
   ]
  },
  {
   "cell_type": "code",
   "execution_count": null,
   "metadata": {},
   "outputs": [],
   "source": [
    "items = ts_train.sample(4, axis=1)\n",
    "for item in items:\n",
    "    fig, ax = plt.subplots(figsize=(11, 3))\n",
    "    s, y = df_items.loc[item, :]\n",
    "    title = f\"{s} {y}\"\n",
    "    ax = ts_train[item].plot(color=\"0.25\", style=\".\")\n",
    "    y_pred[item].plot(ax=ax, color=\"C0\", title=title)\n",
    "    plt.show()"
   ]
  },
  {
   "cell_type": "markdown",
   "metadata": {},
   "source": [
    "And this to see the final error."
   ]
  },
  {
   "cell_type": "code",
   "execution_count": null,
   "metadata": {},
   "outputs": [],
   "source": [
    "rmse = np.sqrt(np.nanmean((ts - ts_trend) ** 2))\n",
    "print(f\"RMSE: {rmse}\")"
   ]
  },
  {
   "cell_type": "markdown",
   "metadata": {},
   "source": [
    "# Keep Going #"
   ]
  }
 ],
 "metadata": {
  "jupytext": {
   "cell_metadata_filter": "-all",
   "formats": "ipynb"
  },
  "kernelspec": {
   "display_name": "Python 3",
   "language": "python",
   "name": "python3"
  },
  "language_info": {
   "codemirror_mode": {
    "name": "ipython",
    "version": 3
   },
   "file_extension": ".py",
   "mimetype": "text/x-python",
   "name": "python",
   "nbconvert_exporter": "python",
   "pygments_lexer": "ipython3",
   "version": "3.6.5"
  }
 },
 "nbformat": 4,
 "nbformat_minor": 4
}
