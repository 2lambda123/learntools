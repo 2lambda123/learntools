{
 "cells": [
  {
   "cell_type": "markdown",
   "id": "greenhouse-temple",
   "metadata": {},
   "source": [
    "# Introduction #\n",
    "\n",
    "Run this cell to set everything up!"
   ]
  },
  {
   "cell_type": "code",
   "execution_count": null,
   "id": "capital-session",
   "metadata": {
    "lines_to_next_cell": 2
   },
   "outputs": [],
   "source": [
    "# Setup feedback system\n",
    "from learntools.core import binder\n",
    "binder.bind(globals())\n",
    "from learntools.time_series.ex6 import *\n",
    "\n",
    "# Setup notebook\n",
    "import warnings\n",
    "from pathlib import Path\n",
    "\n",
    "import pandas as pd\n",
    "import matplotlib.pyplot as plt\n",
    "import numpy as np\n",
    "import seaborn as sns\n",
    "from sklearn.linear_model import LinearRegression\n",
    "from sklearn.metrics import mean_squared_log_error\n",
    "from sklearn.model_selection import train_test_split\n",
    "from sklearn.multioutput import MultiOutputRegressor, RegressorChain\n",
    "from statsmodels.graphics.tsaplots import plot_pacf\n",
    "from statsmodels.tsa.deterministic import CalendarFourier, DeterministicProcess\n",
    "from statsmodels.tsa.tsatools import lagmat\n",
    "from xgboost import XGBRegressor\n",
    "\n",
    "warnings.simplefilter(\"ignore\")\n",
    "\n",
    "plt.style.use(\"seaborn-whitegrid\")\n",
    "plt.rc(\n",
    "    \"figure\",\n",
    "    autolayout=True,\n",
    "    figsize=(11, 4),\n",
    "    titlesize=18,\n",
    "    titleweight='bold',\n",
    ")\n",
    "plt.rc(\n",
    "    \"axes\",\n",
    "    labelweight=\"bold\",\n",
    "    labelsize=\"large\",\n",
    "    titleweight=\"bold\",\n",
    "    titlesize=16,\n",
    "    titlepad=10,\n",
    ")\n",
    "plot_params = dict(\n",
    "    color=\"0.75\",\n",
    "    style=\".-\",\n",
    "    markeredgecolor=\"0.25\",\n",
    "    markerfacecolor=\"0.25\",\n",
    "    legend=False,\n",
    ")\n",
    "%config InlineBackend.figure_format = 'retina'\n",
    "\n",
    "\n",
    "def plot_multistep(y, every=1, ax=None, palette_kwargs=None):\n",
    "    palette_kwargs_ = dict(palette='husl', n_colors=16, desat=None)\n",
    "    if palette_kwargs is not None:\n",
    "        palette_kwargs_.update(palette_kwargs)\n",
    "    palette = sns.color_palette(**palette_kwargs_)\n",
    "    if ax is None:\n",
    "        fig, ax = plt.subplots()\n",
    "    ax.set_prop_cycle(plt.cycler('color', palette))\n",
    "    for date, preds in y[::every].iterrows():\n",
    "        preds.index = pd.period_range(start=date, periods=len(preds))\n",
    "        preds.plot(ax=ax)\n",
    "    return ax\n",
    "\n",
    "\n",
    "comp_dir = Path('../input/store-sales-time-series-forecasting')\n",
    "\n",
    "store_sales = pd.read_csv(\n",
    "    comp_dir / 'train.csv',\n",
    "    usecols=['store_nbr', 'family', 'date', 'sales', 'onpromotion'],\n",
    "    dtype={\n",
    "        'store_nbr': 'category',\n",
    "        'family': 'category',\n",
    "        'sales': 'float32',\n",
    "        'onpromotion': 'float32',\n",
    "    },\n",
    "    parse_dates=['date'],\n",
    "    infer_datetime_format=True,\n",
    ")\n",
    "store_sales['date'] = store_sales.date.dt.to_period('D')\n",
    "store_sales = store_sales.set_index(['store_nbr', 'family', 'date']).sort_index()\n",
    "mean_sales = store_sales.groupby('date').mean().squeeze().loc['2017']"
   ]
  },
  {
   "cell_type": "markdown",
   "id": "recorded-spanking",
   "metadata": {},
   "source": [
    "-------------------------------------------------------------------------------\n",
    "\n",
    "# 1) Define a forecasting task\n",
    "\n",
    "Here are some forecasting situations:\n",
    "- competing in a Kaggle forecasting competition\n",
    "- manager to forecast call volume at a customer service center to schedule operators\n",
    "- supervisor of a medical lab to forecast sample volume to schedule time on shared computer cluster\n",
    "- economist to forecast retail sales of household goods\n",
    "- manager of an ML team to forecast market prices of real estate; data availability is delayed\n",
    "\n",
    "Identify the parts of the forecasting task.\n"
   ]
  },
  {
   "cell_type": "code",
   "execution_count": null,
   "id": "returning-sessions",
   "metadata": {},
   "outputs": [],
   "source": [
    "a = 1\n",
    "b = 2\n",
    "c = 3"
   ]
  },
  {
   "cell_type": "markdown",
   "id": "involved-joshua",
   "metadata": {},
   "source": [
    "-------------------------------------------------------------------------------\n",
    "\n",
    "Run the next cell to see three datasets, each belonging to one of the tasks above.\n",
    "\n",
    "# 2) Match task to data\n",
    "\n",
    "Which dataset belongs with which task?"
   ]
  },
  {
   "cell_type": "code",
   "execution_count": null,
   "id": "fiscal-mattress",
   "metadata": {},
   "outputs": [],
   "source": [
    "a = 1\n",
    "b = 2\n",
    "c = 3"
   ]
  },
  {
   "cell_type": "markdown",
   "id": "intensive-looking",
   "metadata": {},
   "source": [
    "# 3) Prepare *Store Sales* for multistep forecasting\n",
    "\n",
    "The test set comprises the 16 days between `2017-08-16` and `2017-08-31`, while the last day of the training set is `2017-08-15`. Prepare *Store Sales* for a multistep forecast using 4 days of lags."
   ]
  },
  {
   "cell_type": "code",
   "execution_count": null,
   "id": "experimental-brooklyn",
   "metadata": {},
   "outputs": [],
   "source": [
    "def make_lag_features(y, lags):\n",
    "    return pd.concat(\n",
    "        [y.shift(i, freq='infer') for i in range(lags)],\n",
    "        axis=1,\n",
    "        join='inner',\n",
    "        keys=[f'y_lag_{i+1}' for i in range(lags)],\n",
    "    )\n",
    "\n",
    "\n",
    "def make_multistep_target(y, steps):\n",
    "    return pd.concat(\n",
    "        [y.shift(-i, freq='infer') for i in range(steps)],\n",
    "        axis=1,\n",
    "        join='inner',\n",
    "        keys=[f'y_{i+1}' for i in range(steps)],\n",
    "    )\n",
    "\n",
    "\n",
    "y = family_sales.copy()\n",
    "X = make_lag_features(y, lags=30)\n",
    "y = make_multistep_target(y, steps=16)\n",
    "y, X = y.align(X, join='inner', axis=0)"
   ]
  },
  {
   "cell_type": "markdown",
   "id": "naked-hacker",
   "metadata": {},
   "source": [
    "# 4) Compare forecasting strategies\n",
    "### MultiOutput Strategy\n"
   ]
  },
  {
   "cell_type": "code",
   "execution_count": null,
   "id": "driven-judgment",
   "metadata": {},
   "outputs": [],
   "source": [
    "X_train, X_valid, y_train, y_valid = train_test_split(X, y, test_size=1, shuffle=False)\n",
    "\n",
    "model = LinearRegression()\n",
    "model.fit(X_train, y_train)\n",
    "\n",
    "y_fit = pd.DataFrame(model.predict(X_train), index=X_train.index, columns=y.columns)\n",
    "y_pred = pd.DataFrame(model.predict(X_valid), index=X_valid.index, columns=y.columns)\n",
    "y_fit = y_fit.clip(0.0)\n",
    "y_pred = y_pred.clip(0.0)\n",
    "\n",
    "# Evaluate\n",
    "rmsle_train = mean_squared_log_error(y_train, y_fit) ** 0.5\n",
    "rmsle_valid = mean_squared_log_error(y_valid, y_pred) ** 0.5\n",
    "print(f'Training RMSLE: {rmsle_train:.5f}')\n",
    "print(f'Validation RMSLE: {rmsle_valid:.5f}')\n",
    "\n",
    "# Plot\n",
    "STORE_NBR, FAMILY = '1', 'BEVERAGES'\n",
    "y_ = store_sales.loc[:, 'sales'].unstack(['store_nbr', 'family']).loc['2017']\n",
    "fig, (ax1, ax2) = plt.subplots(2, 1, figsize=(11, 6))\n",
    "ax1 = y_.iloc[:-16].loc(axis=1)[STORE_NBR, FAMILY].plot(**plot_params, ax=ax1)\n",
    "ax1 = plot_multistep(y_fit.loc(axis=1)[:, STORE_NBR, FAMILY], ax=ax1)\n",
    "_ = ax1.legend(['Store Sales (train)', 'Forecast'])\n",
    "ax2 = y_.iloc[-16:].loc(axis=1)[STORE_NBR, FAMILY].plot(**plot_params, ax=ax2)\n",
    "ax2 = plot_multistep(y_pred.loc(axis=1)[:, STORE_NBR, FAMILY], ax=ax2)\n",
    "_ = ax2.legend(['Store Sales (valid)', 'Forecast'])\n"
   ]
  },
  {
   "cell_type": "markdown",
   "id": "awful-ranch",
   "metadata": {},
   "source": [
    "### DirRec Strategy\n"
   ]
  },
  {
   "cell_type": "code",
   "execution_count": null,
   "id": "paperback-absence",
   "metadata": {
    "lines_to_next_cell": 0
   },
   "outputs": [],
   "source": [
    "y_long = y.stack(['store_nbr', 'family'])\n",
    "X_long = X.stack(['store_nbr', 'family'])\n",
    "\n",
    "# Turn row labels into categorical feature columns with a label encoding\n",
    "X_long = X_long.reset_index(['store_nbr', 'family'])\n",
    "for colname in X_long.select_dtypes([\"object\", \"category\"]):\n",
    "    X_long[colname], _ = X_long[colname].factorize()\n",
    "\n",
    "idx_train, idx_valid = train_test_split(y.index, test_size=1, shuffle=False)\n",
    "X_train, X_valid = X_long.loc[idx_train], X_long.loc[idx_valid]\n",
    "y_train, y_valid = y_long.loc[idx_train], y_long.loc[idx_valid]\n",
    "\n",
    "model = RegressorChain(XGBRegressor(n_estimators=1000, tree_method='gpu_hist'))\n",
    "model.fit(X_train, y_train)\n",
    "y_fit = pd.DataFrame(model.predict(X_train), index=y_train.index, columns=y_long.columns)\n",
    "y_pred = pd.DataFrame(model.predict(X_valid), index=y_valid.index, columns=y_long.columns)\n",
    "y_fit = y_fit.clip(0.0)\n",
    "y_pred = y_pred.clip(0.0)\n",
    "\n",
    "# Evaluate\n",
    "rmsle_train = mean_squared_log_error(y_train, y_fit) ** 0.5\n",
    "rmsle_valid = mean_squared_log_error(y_valid, y_pred) ** 0.5\n",
    "print(f'Training RMSLE: {rmsle_train:.5f}')\n",
    "print(f'Validation RMSLE: {rmsle_valid:.5f}')\n",
    "\n",
    "# Plot\n",
    "STORE_NBR = '2'\n",
    "FAMILY = 'PRODUCE'\n",
    "key, level = (STORE_NBR, FAMILY), ['store_nbr', 'family']\n",
    "y_fit_ = y_fit.xs(key, level=level, axis=0)\n",
    "y_pred_ = y_pred.xs(key, level=level, axis=0)\n",
    "y_ = store_sales.loc[(STORE_NBR, FAMILY), 'sales']['2017']\n",
    "fig, (ax1, ax2) = plt.subplots(2, 1, figsize=(11, 6))\n",
    "ax1 = y_.iloc[:-16].plot(**plot_params, ax=ax1)\n",
    "ax1 = plot_multistep(y_fit_, ax=ax1)\n",
    "_ = ax1.legend(['Store Sales (train)', 'Forecast'])\n",
    "ax2 = y_.iloc[-16:].plot(**plot_params, ax=ax2)\n",
    "ax2 = plot_multistep(y_pred_, ax=ax2)\n",
    "_ = ax2.legend(['Store Sales (valid)', 'Forecast'])\n"
   ]
  },
  {
   "cell_type": "markdown",
   "id": "lyric-movie",
   "metadata": {},
   "source": []
  },
  {
   "cell_type": "markdown",
   "id": "thrown-receipt",
   "metadata": {},
   "source": [
    "# (Optional) \n",
    "# Next Steps #"
   ]
  },
  {
   "cell_type": "markdown",
   "id": "pointed-chicken",
   "metadata": {},
   "source": [
    "# References #\n",
    "\n",
    "Here are some great resources you might like to consult for more on time series and forecasting. They all played a part in shaping this course:\n",
    "\n",
    "- *Learnings from Kaggle's forecasting competitions*, an article by Casper Solheim Bojer and Jens Peder Meldgaard.\n",
    "- *Forecasting: Principles and Practice*, a book by Rob J Hyndmann and George Athanasopoulos.\n",
    "- *Practical Time Series Forecasting with R*, a book by Galit Shmueli and Kenneth C. Lichtendahl Jr.\n",
    "- *Time Series Analysis and Its Applications*, a book by Robert H. Shumway and David S. Stoffer.\n",
    "- *Machine learning strategies for time series forecasting*, an article by Gianluca Bontempi, Souhaib Ben Taieb, and Yann-Aël Le Borgne.\n",
    "- *On the use of cross-validation for time series predictor evaluation*, an article by Christoph Bergmeir and José M. Benítez.\n"
   ]
  }
 ],
 "metadata": {
  "jupytext": {
   "cell_metadata_filter": "-all",
   "formats": "ipynb,md"
  },
  "kernelspec": {
   "display_name": "Python 3",
   "language": "python",
   "name": "python3"
  },
  "language_info": {
   "codemirror_mode": {
    "name": "ipython",
    "version": 3
   },
   "file_extension": ".py",
   "mimetype": "text/x-python",
   "name": "python",
   "nbconvert_exporter": "python",
   "pygments_lexer": "ipython3",
   "version": "3.6.5"
  }
 },
 "nbformat": 4,
 "nbformat_minor": 5
}
