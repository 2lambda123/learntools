{
 "cells": [
  {
   "cell_type": "markdown",
   "id": "arranged-prisoner",
   "metadata": {},
   "source": [
    "# Introduction #\n",
    "\n",
    "Run this cell to set everything up!"
   ]
  },
  {
   "cell_type": "code",
   "execution_count": null,
   "id": "light-range",
   "metadata": {},
   "outputs": [],
   "source": [
    "# Setup feedback system\n",
    "from learntools.core import binder\n",
    "binder.bind(globals())\n",
    "from learntools.time_series.ex1 import *\n",
    "\n",
    "# Setup notebook\n",
    "from pathlib import Path\n",
    "\n",
    "import pandas as pd\n",
    "import matplotlib.pyplot as plt\n",
    "import numpy as np\n",
    "import seaborn as sns\n",
    "\n",
    "# Matplotlib defaults\n",
    "plt.style.use(\"seaborn-whitegrid\")\n",
    "plt.rc(\n",
    "    \"figure\",\n",
    "    autolayout=True,\n",
    "    figsize=(11, 4),\n",
    "    titlesize=18,\n",
    "    titleweight='bold',\n",
    ")\n",
    "plt.rc(\n",
    "    \"axes\",\n",
    "    labelweight=\"bold\",\n",
    "    labelsize=\"large\",\n",
    "    titleweight=\"bold\",\n",
    "    titlesize=16,\n",
    "    titlepad=10,\n",
    ")\n",
    "plot_params = dict(\n",
    "    color=\"0.75\",\n",
    "    style=\".-\",\n",
    "    markeredgecolor=\"0.25\",\n",
    "    markerfacecolor=\"0.25\",\n",
    "    legend=False,\n",
    ")\n",
    "%config InlineBackend.figure_format = 'retina'\n",
    "\n",
    "# Load data\n",
    "data_dir = Path('../input/ts-course-data/')\n",
    "comp_dir = Path('../input/store-sales-time-series-forecasting')\n",
    "\n",
    "book_sales = pd.read_csv(\n",
    "    data_dir / 'book_sales.csv',\n",
    "    index_col='Date',\n",
    "    parse_dates=['Date'],\n",
    ").drop('Paperback', axis=1)\n",
    "book_sales['Time'] = np.arange(len(book_sales.index))\n",
    "book_sales['Lag_1'] = book_sales['Hardcover'].shift(1)\n",
    "book_sales = book_sales.reindex(columns=['Hardcover', 'Time', 'Lag_1'])\n",
    "\n",
    "ar = pd.read_csv(data_dir / 'ar.csv')\n",
    "\n",
    "dtype = {\n",
    "    'store_nbr': 'category',\n",
    "    'family': 'category',\n",
    "    'sales': 'float32',\n",
    "    'onpromotion': 'uint64',\n",
    "}\n",
    "\n",
    "sales = pd.read_csv(\n",
    "    comp_dir / 'train.csv',\n",
    "    dtype=dtype,\n",
    "    parse_dates=['date'],\n",
    "    infer_datetime_format=True,\n",
    ")\n",
    "sales = sales.set_index('date').to_period('D')\n",
    "sales = sales.set_index(['store_nbr', 'family'], append=True)\n",
    "total_sales = sales.groupby('date').mean()['sales']"
   ]
  },
  {
   "cell_type": "markdown",
   "id": "noted-alexandria",
   "metadata": {},
   "source": [
    "--------------------------------------------------------------------------------"
   ]
  },
  {
   "cell_type": "markdown",
   "id": "miniature-seeking",
   "metadata": {},
   "source": [
    "# 1) Interpreting linear regression with the time dummy"
   ]
  },
  {
   "cell_type": "code",
   "execution_count": null,
   "id": "distinguished-million",
   "metadata": {},
   "outputs": [],
   "source": [
    "fig, ax = plt.subplots()\n",
    "ax.plot('Time', 'Hardcover', data=book_sales, color='0.75')\n",
    "ax = sns.regplot(x='Time', y='Hardcover', data=book_sales, ci=None, scatter_kws=dict(color='0.25'))\n",
    "ax.set_title('Time Plot of Hardcover Sales');"
   ]
  },
  {
   "cell_type": "markdown",
   "id": "western-administrator",
   "metadata": {},
   "source": [
    "The linear regression line has an equation of (approximately) `Hardcover = 3.33 * Time + 150.5`. Over 3 time steps, how much on average would you expect hardcover sales to change?"
   ]
  },
  {
   "cell_type": "code",
   "execution_count": null,
   "id": "likely-interference",
   "metadata": {},
   "outputs": [],
   "source": [
    "# Uncomment the next line for a hint\n",
    "q_1.hint()"
   ]
  },
  {
   "cell_type": "code",
   "execution_count": null,
   "id": "blocked-basketball",
   "metadata": {
    "lines_to_next_cell": 0
   },
   "outputs": [],
   "source": [
    "# View the solution (Run this cell to receive credit!)\n",
    "q_1.check()"
   ]
  },
  {
   "cell_type": "markdown",
   "id": "charged-dictionary",
   "metadata": {},
   "source": [
    "-------------------------------------------------------------------------------\n"
   ]
  },
  {
   "cell_type": "markdown",
   "id": "stone-superintendent",
   "metadata": {},
   "source": [
    "# 2) Interpreting linear regression with a lag feature\n",
    "\n",
    "Run the following cell."
   ]
  },
  {
   "cell_type": "code",
   "execution_count": null,
   "id": "indirect-motor",
   "metadata": {},
   "outputs": [],
   "source": [
    "fig, (ax1, ax2) = plt.subplots(2, 1, figsize=(11, 5), sharex=True)\n",
    "ax1 = ax1.plot(ar['ar1'])\n",
    "ax2 = ax2.plot(ar['ar2'])"
   ]
  },
  {
   "cell_type": "markdown",
   "id": "unsigned-removal",
   "metadata": {},
   "source": [
    "One of these series has the equation `target = 0.95 * lag_1 + error` and the other has the equation `target = -0.95 * lag_1 + error`, differing only by the sign on the lag feature. Can you tell which equation goes with each series?"
   ]
  },
  {
   "cell_type": "code",
   "execution_count": null,
   "id": "vietnamese-medication",
   "metadata": {},
   "outputs": [],
   "source": [
    "# Uncomment the next line for a hint\n",
    "q_2.hint()"
   ]
  },
  {
   "cell_type": "code",
   "execution_count": null,
   "id": "wrong-newark",
   "metadata": {},
   "outputs": [],
   "source": [
    "# View the solution (Run this cell to receive credit!)\n",
    "q_2.check()"
   ]
  },
  {
   "cell_type": "markdown",
   "id": "established-forth",
   "metadata": {},
   "source": [
    "-------------------------------------------------------------------------------"
   ]
  },
  {
   "cell_type": "markdown",
   "id": "derived-colleague",
   "metadata": {},
   "source": [
    "# 3) Fit a time feature to Store Sales\n",
    "\n"
   ]
  },
  {
   "cell_type": "code",
   "execution_count": null,
   "id": "polar-juvenile",
   "metadata": {
    "lines_to_next_cell": 0
   },
   "outputs": [],
   "source": [
    "# YOUR CODE HERE\n",
    "____\n",
    "\n",
    "# Check your answer\n",
    "q_3.check()"
   ]
  },
  {
   "cell_type": "code",
   "execution_count": null,
   "id": "executed-option",
   "metadata": {
    "lines_to_next_cell": 0
   },
   "outputs": [],
   "source": [
    "# Lines below will give you a hint or solution code\n",
    "q_3.hint()\n",
    "q_3.solution()"
   ]
  },
  {
   "cell_type": "code",
   "execution_count": null,
   "id": "inside-conditioning",
   "metadata": {},
   "outputs": [],
   "source": [
    "from sklearn.linear_model import LinearRegression\n",
    "\n",
    "df = total_sales.to_frame()\n",
    "\n",
    "# Time dummy\n",
    "df['time'] = np.arange(len(df.index))\n",
    "\n",
    "# Training data\n",
    "X = df.loc[:, ['time']]  # features\n",
    "y = df.loc[:, 'sales']  # target\n",
    "\n",
    "# Train the model\n",
    "model = LinearRegression()\n",
    "model.fit(X, y)\n",
    "\n",
    "# Store the fitted values as a time series with the same time index as\n",
    "# the training data\n",
    "y_pred = pd.Series(model.predict(X), index=X.index)"
   ]
  },
  {
   "cell_type": "code",
   "execution_count": null,
   "id": "systematic-lying",
   "metadata": {},
   "outputs": [],
   "source": [
    "ax = y.plot(**plot_params)\n",
    "ax = y_pred.plot(ax=ax, linewidth=3)\n",
    "ax.set_title('Time Plot of Total Store Sales');"
   ]
  },
  {
   "cell_type": "markdown",
   "id": "significant-rachel",
   "metadata": {},
   "source": [
    "-------------------------------------------------------------------------------\n",
    "\n",
    "# 4) Fit a lag feature to Store Sales\n"
   ]
  },
  {
   "cell_type": "code",
   "execution_count": null,
   "id": "fourth-depression",
   "metadata": {},
   "outputs": [],
   "source": [
    "# YOUR CODE HERE\n",
    "____\n",
    "\n",
    "# Check your answer\n",
    "q_4.check()"
   ]
  },
  {
   "cell_type": "code",
   "execution_count": null,
   "id": "packed-intranet",
   "metadata": {},
   "outputs": [],
   "source": [
    "# Lines below will give you a hint or solution code\n",
    "q_4.hint()\n",
    "q_4.solution()"
   ]
  },
  {
   "cell_type": "code",
   "execution_count": null,
   "id": "placed-freedom",
   "metadata": {},
   "outputs": [],
   "source": [
    "df = total_sales.to_frame()\n",
    "\n",
    "df['lag_1'] = df['sales'].shift(1)\n",
    "\n",
    "X = df.loc[:, ['lag_1']]\n",
    "X.dropna(inplace=True)  # drop missing values in the feature set\n",
    "y = df.loc[:, 'sales']  # create the target\n",
    "y, X = y.align(X, join='inner')  # drop corresponding values in target\n",
    "\n",
    "model = LinearRegression()\n",
    "model.fit(X, y)\n",
    "\n",
    "y_pred = pd.Series(model.predict(X), index=X.index)"
   ]
  },
  {
   "cell_type": "code",
   "execution_count": null,
   "id": "atlantic-jenny",
   "metadata": {},
   "outputs": [],
   "source": [
    "fig, ax = plt.subplots()\n",
    "ax.plot(X['lag_1'], y, '.', color='0.25')\n",
    "ax.plot(X['lag_1'], y_pred)\n",
    "ax.set_aspect('equal')\n",
    "ax.set_ylabel('sales')\n",
    "ax.set_xlabel('lag_1')\n",
    "ax.set_title('Lag Plot of Total Store Sales');"
   ]
  },
  {
   "cell_type": "markdown",
   "id": "floral-pizza",
   "metadata": {},
   "source": [
    "# Keep Going #"
   ]
  }
 ],
 "metadata": {
  "jupytext": {
   "formats": "md,ipynb"
  },
  "kernelspec": {
   "display_name": "Python 3",
   "language": "python",
   "name": "python3"
  },
  "language_info": {
   "codemirror_mode": {
    "name": "ipython",
    "version": 3
   },
   "file_extension": ".py",
   "mimetype": "text/x-python",
   "name": "python",
   "nbconvert_exporter": "python",
   "pygments_lexer": "ipython3",
   "version": "3.6.5"
  }
 },
 "nbformat": 4,
 "nbformat_minor": 5
}
