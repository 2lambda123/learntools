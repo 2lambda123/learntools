{
 "cells": [
  {
   "cell_type": "markdown",
   "id": "square-montana",
   "metadata": {},
   "source": [
    "# Welcome to Time Series! #"
   ]
  },
  {
   "cell_type": "markdown",
   "id": "angry-printer",
   "metadata": {},
   "source": [
    "In this course, you'll learn to:\n",
    "- a\n",
    "- b\n",
    "- c\n",
    "- d\n",
    "\n",
    "After completing the course, you'll be able to:\n",
    "- forecasting large, real-world datasets\n",
    "- Kaggle forecasting competitions\n",
    "\n",
    "As part of the exercises, you'll get a chance to participate in our [Store Forecasting](https://www.kaggle.com/c/29781) Getting Started competition. In this competition, you're tasked with forecasting sales for *Corporación Favorita* (a large Ecuadorian-based grocery retailer) in almost 1800 product categories.\n",
    "\n",
    "# What is a Time Series? #\n",
    "\n",
    "A **time series** is simply a set of observations recorded over time. Typically, the observations are taken over some common period, like daily or monthly, which we refer to as the \"frequency\" of the series. In this course, we'll represent a time series as a Pandas `Series` object with either a `PeriodIndex` (spans of time) or a `DatetimeIndex` (instants in time).\n",
    "\n",
    "Here are a few entries from a time series of monthly automobiles sales in the United States:"
   ]
  },
  {
   "cell_type": "code",
   "execution_count": null,
   "id": "casual-doctrine",
   "metadata": {},
   "outputs": [],
   "source": [
    "#$HIDE_INPUT$\n",
    "import pandas as pd\n",
    "\n",
    "# Read \n",
    "autos = (\n",
    "    pd.read_csv(\n",
    "        \"../input/ts-course-data/us-retail-sales.csv\",\n",
    "        usecols=[\"Month\", \"Automobiles\"],\n",
    "        parse_dates=[\"Month\"],\n",
    "        index_col=\"Month\",\n",
    "    )\n",
    "    .to_period(\"M\")\n",
    "    .loc[\"2009\":]\n",
    ")\n",
    "\n",
    "autos.head()"
   ]
  },
  {
   "cell_type": "markdown",
   "id": "seven-marathon",
   "metadata": {},
   "source": [
    "# Time Dependence and Serial Dependence #\n",
    "\n",
    "A time series' index is no less important than its observations. This indexing by time is what allows time series a characteristically rich behavior. It does this in two ways: first, by allowing a relationship between the times in the index and the values of the observations -- a **time dependence**; and, second, by allowing a relationship among observations through the ordering it imposes -- a **serial dependence**.\n",
    "\n",
    "Rephrasing, a time series exhibits:\n",
    "- **time dependence** if the value of an observation can be predicted from the time it occured, and,\n",
    "- **serial dependence** if the value of an observation can be predicted from previous observations.\n",
    "\n",
    "Practically, this means we can model time dependence by using the time index as a feature and serial dependence by using \"lagged\" copies of the observations as features. (We'll learn how in future lessons.)\n",
    "\n",
    "Data visualization helps us to know what kinds of relationships we should try to model. By plotting a time series' observations against its index, we can see its time dependence. By plotting a time series' observations against past observations, we can see its serial dependence.\n",
    "\n",
    "<figure style=\"padding: 1em;\">\n",
    "<img src=\"https://i.imgur.com/qL8h0Qi.png\" width=800, alt=\"\">\n",
    "<figcaption style=\"textalign: center; font-style: italic\"><center><strong>Left: </strong>This series has an obvious dependence on time, both in its upward movement (trend) and in its periodic movement (seasonality). <strong>Right: </strong>\n",
    "</center></figcaption>\n",
    "</figure>\n",
    "\n",
    "Sometimes, some pattern in a time series can appear as both time dependence and serial dependence. The trend in the *Auto Sales* series, for instance, appears both as the upward movement in the figure on the left and as the strong linear correlation in the figure on the right. This is just to say that these two kinds of dependence aren't entirely distinct (which sometimes makes modeling choices difficult), though it is possible to have one without the other.\n",
    "\n",
    "Time and serial dependence are fundamental to time series and are what make forecasting different from and uniquely challenging among machine learning tasks. Time and serial dependence will inform almost everything we do in this course.\n",
    "\n",
    "# Time Series Decomposition and Additive Models #\n",
    "\n",
    "A profitable strategy when working with a time series is to separate out its various patterns of dependence. *Trend* and *seasonality* are two kinds of time dependence especially common in business time series. (We'll learn more about them in Lessons 2 and 3.) They give the \"Season-Trend\" decomposition:\n",
    "\n",
    "<figure style=\"padding: 1em;\">\n",
    "<img src=\"https://i.imgur.com/7JZjtWu.png\" width=800, alt=\"\">\n",
    "<figcaption style=\"textalign: center; font-style: italic\"><center>Season-Trend decomposition of the <em>Auto Sales</em> time series. The \"residuals\" are another name for the error component (the \"left-over\" part).\n",
    "</center></figcaption>\n",
    "</figure>\n",
    "\n",
    "This kind of decomposition is an *additive* decomposition: add up all the components and you get back the original series.\n",
    "\n",
    "The idea that a time series can be represented as a sum of components motivates most of the models we'll create in this course. The *Prophet* algorithm we use in this lesson models a time series as:\n",
    "\n",
    "```\n",
    "target = trend + seasonality + holidays + error\n",
    "```\n",
    "\n",
    "where `error` is just anything that wasn't captured by the other components.\n",
    "\n",
    "In future lessons, we'll create models similar to the Prophet model through a combination of feature engineering and linear regression. We'll also see how we can use this additive decomposition strategy to create *hybrid models* that can accomodate combinations of algorithms, like XGBoost stacked on top of a trend model.\n",
    "\n",
    "# Example - Tunnel Traffic #\n",
    "\n",
    "Let's get a start on how to approach these problems by applying Facebook's Prophet forecaster to the *Tunnel Traffic* dataset. *Tunnel Traffic* is a time series describing the number of vehicles traveling through the Baregg Tunnel in Switzerland each day from November 2003 to November 2005. The hidden cell sets up the example."
   ]
  },
  {
   "cell_type": "code",
   "execution_count": null,
   "id": "similar-sucking",
   "metadata": {},
   "outputs": [],
   "source": [
    "#$HIDE_INPUT$\n",
    "from pathlib import Path\n",
    "\n",
    "import pandas as pd\n",
    "import matplotlib.pyplot as plt\n",
    "\n",
    "# Set Matplotlib defaults\n",
    "plt.style.use(\"seaborn-whitegrid\")\n",
    "plt.rc(\"figure\", autolayout=True, figsize=(11, 5))\n",
    "plt.rc(\n",
    "    \"axes\",\n",
    "    labelweight=\"bold\",\n",
    "    labelsize=\"large\",\n",
    "    titleweight=\"bold\",\n",
    "    titlesize=14,\n",
    "    titlepad=10,\n",
    ")\n",
    "%config InlineBackend.figure_format = 'retina'\n",
    "\n",
    "data_dir = Path(\"../input/ts-course-data\")\n",
    "tunnel = pd.read_csv(\n",
    "    data_dir / \"tunnel.csv\",\n",
    "    parse_dates=[\"Day\"],\n",
    "    index_col=\"Day\",\n",
    ")\n",
    "\n",
    "plot_params = dict(\n",
    "    color=\"0.75\",\n",
    "    style=\".-\",\n",
    "    markeredgecolor=\"0.25\",\n",
    "    markerfacecolor=\"0.25\",\n",
    "    legend=False,\n",
    ")\n",
    "\n",
    "tunnel.plot(\n",
    "    title=\"Tunnel Traffic\",\n",
    "    ylabel=\"Number of Vehicles\",\n",
    "    **plot_params,\n",
    ");"
   ]
  },
  {
   "cell_type": "markdown",
   "id": "related-expert",
   "metadata": {},
   "source": [
    "Our data is in a dataframe called `tunnel`. Note the two columns: a time index `Day`, and a column of observations `NumVehicles`."
   ]
  },
  {
   "cell_type": "code",
   "execution_count": null,
   "id": "interior-culture",
   "metadata": {},
   "outputs": [],
   "source": [
    "tunnel"
   ]
  },
  {
   "cell_type": "markdown",
   "id": "killing-ecology",
   "metadata": {},
   "source": [
    "As mentioned, Prophet is an additive model (similar to ordinary linear regression). We'll create a model using the trend and seasonal components we discussed above (leaving out holidays for now):\n",
    "\n",
    "```\n",
    "target = trend + seasonal + error\n",
    "```\n",
    "\n",
    "The trend and seasonality are components expressing time dependence, so for this example the only thing we'll need for training data is the target and the time index.\n",
    "\n",
    "The code cell below illustrates the Prophet workflow:"
   ]
  },
  {
   "cell_type": "code",
   "execution_count": null,
   "id": "republican-partnership",
   "metadata": {},
   "outputs": [],
   "source": [
    "from fbprophet import Prophet\n",
    "\n",
    "# Prophet requires the training data to be in a dataframe like this:\n",
    "df = pd.DataFrame({\n",
    "    \"ds\": tunnel.index,  # a column of timestamps named \"ds\", the only feature\n",
    "    \"y\": tunnel.NumVehicles,  # a column of observations named \"y\", the target\n",
    "})\n",
    "\n",
    "# You can customize the Prophet model in a number of ways, but the\n",
    "# defaults will work well here.\n",
    "prophet = Prophet(holidays=new_years)\n",
    "prophet.fit(df)\n",
    "\n",
    "# Now we create predictions from the training set, the fitted values.\n",
    "y_fit = prophet.predict()\n",
    "\n",
    "# Prophet returns a complete decomposition. `yhat` is the overall\n",
    "# predicted value. `weekly` and `yearly` are seasonal components.\n",
    "columns = [\"ds\", \"trend\", \"weekly\", \"yearly\", \"yhat\"]\n",
    "y_fit[columns].head()"
   ]
  },
  {
   "cell_type": "markdown",
   "id": "monthly-cyprus",
   "metadata": {},
   "source": [
    "Let's take a look at the components Prophet found. Do you recognize these characteristics in the original series?"
   ]
  },
  {
   "cell_type": "code",
   "execution_count": null,
   "id": "initial-intelligence",
   "metadata": {},
   "outputs": [],
   "source": [
    "prophet.plot_components(y_fit);"
   ]
  },
  {
   "cell_type": "markdown",
   "id": "blocked-cathedral",
   "metadata": {},
   "source": [
    "Prophet has a special method to create inputs for forecasting, which we will use to make a 90-day forecast:"
   ]
  },
  {
   "cell_type": "code",
   "execution_count": null,
   "id": "affected-romantic",
   "metadata": {},
   "outputs": [],
   "source": [
    "# Call `make_future_dataframe` after fitting the model to extend the\n",
    "# index of the training data. This will extend it 90 days into the\n",
    "# future:\n",
    "df_future = prophet.make_future_dataframe(periods=90)\n",
    "\n",
    "# We create the forecasts the same as before, but this time passing in\n",
    "# the new dataframe.\n",
    "y_pred = prophet.predict(df_future)\n",
    "\n",
    "# Prophet also computes uncertainty intervals, but we'll ignore those.\n",
    "prophet.plot(y_pred, uncertainty=False, figsize=(11, 5));"
   ]
  },
  {
   "cell_type": "markdown",
   "id": "celtic-technique",
   "metadata": {},
   "source": [
    "The fit Prophet found is pretty good. The weekly and yearly seasonality is clearly represented, though it does seem to have underestimated the amount of variation in some places, especially around the New Year's holiday. If we wanted to improve this model, we could try incorporating some holiday features.\n",
    "\n",
    "Prophet can model other components besides trend and seasonality, including holidays, changepoints, and categorical features. The library also has a number of useful plotting and diagnostic utilities. You can learn more from the official docs.\n",
    "\n",
    "# Your Turn #"
   ]
  }
 ],
 "metadata": {
  "jupytext": {
   "cell_metadata_filter": "-all",
   "formats": "ipynb,md"
  },
  "kernelspec": {
   "display_name": "Python 3",
   "language": "python",
   "name": "python3"
  },
  "language_info": {
   "codemirror_mode": {
    "name": "ipython",
    "version": 3
   },
   "file_extension": ".py",
   "mimetype": "text/x-python",
   "name": "python",
   "nbconvert_exporter": "python",
   "pygments_lexer": "ipython3",
   "version": "3.6.5"
  }
 },
 "nbformat": 4,
 "nbformat_minor": 5
}
