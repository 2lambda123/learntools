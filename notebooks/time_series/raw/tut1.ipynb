{
 "cells": [
  {
   "cell_type": "markdown",
   "metadata": {},
   "source": [
    "# Welcome to Time Series! #\n",
    "\n",
    "Have you ever wished you could predict the future? In this course you'll learn how!\n",
    "\n",
    "Time "
   ]
  },
  {
   "cell_type": "markdown",
   "metadata": {},
   "source": [
    "You'll learn how to:\n",
    "- make forecasts with the powerful and easy to use *Prophet* model\n",
    "- model time-dependent data through feature engineering\n",
    "- create custom forecasting models\n",
    "- avoid common mistakes with time dependent data\n",
    "- forecast multiple series by combining *local* and *global* models\n",
    "\n",
    "In the exercises you'll apply your new knowledge to the *1C Store Sales* dataset. Afterwards, complete our guided project for the *Predict Future Sales* Learn competition.\n",
    "\n",
    "This course focuses on *forecasting*, predicting the future, but you can apply many of the techniques you'll learn to other problems like time series classification, too.\n",
    "\n",
    "# The Nature of Forecating #\n",
    "\n",
    "A time series is simply data that's been observed over time. Examples of time series are:\n",
    "- the wholesale price of avocados each week\n",
    "- the number of visitors to Wikipedia each minute\n",
    "- the average daily rainfall in Seattle\n",
    "\n",
    "Time series are *sequential*: the order of the observations matters.\n",
    "\n",
    "The traditional machine learning problem requires that the data used for training and the data used for inference are drawn from the same population -- that they are, for all purposes, the same. In this sense, the problem of traditional machine learning is *interpolation*: filling in the blanks from the training data to the world at large.   In this sense, a forecasting problem is about *extrapolation*: making predictions about a future population that might look quite different than the one you trained your model on.\n",
    "\n",
    "Time series are characterized by *change*, change over time. We in particular don't make the assumption that each data point is drawn independently from some larger population, that any particular data point is interchangable with any other. This independence is what allows random sampling techniques like cross-validation or random forests, for instance.    Time series data are *dependent* data. With time series, order matters.\n",
    "\n",
    "You'll learn in this course techniques to capture this time dependence. You'll learn how, through feature engineering, to transform a forecasting problem into an ordinary supervised machine learning problem. By the end of this course, you'll know how to make forecasts using any of the machine learning libraries you may have used before -- like XGBoost, scikit-learn, or Keras -- and how to scale these techniques to forecast hundreds or thousands of time series simultaneously.\n",
    "\n",
    "# Time Series Components #\n",
    "\n",
    "The dependent nature of time series data exhibits itself in some typical ways. \n",
    "\n",
    "Two patterns are especially common: trend and seasonality. **Seasonality** in a time series refers to a periodic rise and fall in the series, typically following the calendar or clock... Temperatures tend to rise in the morning and fall at night, and rise in the first half of the year and fall in the second. The **trend** of a time series is the long-term trajectory of the series, any movement in the series over a period longer than its seasonality. Global temperatures rise and fall over the seasons, but have been trending upwards long-term.\n",
    "\n",
    "What's remaining after the trend and seasonality have been accounted for is an irregular part of the series, sometimes called the *error* or *remainder*. Sometimes the irregular part of a series will contain predictable patterns and can be forecast along with the trend and seasonality.\n",
    "\n",
    "<img>TS decomposition</img>\n",
    "\n",
    "Additional characteristics, like **changepoints** and **holidays**.\n",
    "\n",
    "# Forecasting with Prophet #\n",
    "\n",
    "Facebook developed their Prophet forecaster for ... It's a great way to get started with time series forecasting.\n",
    "\n",
    "In *additive* mode, the model is:\n",
    "`target = trend + seasonality + remainder`\n",
    "\n",
    "In *multiplicative* mode, the model is:\n",
    "`target = trend * seasonality * remainder`\n",
    "\n",
    "<img>Additive and multiplicative change</img>\n",
    "\n",
    "**Additive change** means the size of the fluctations is *constant*. This kind of change is typical of weather patterns or short-term energy demand. amount of rise and fall doesn't depend on the river's current level.\n",
    "\n",
    "**Multiplicative change** means the size of the fluctuations is *proportionate to the level* of the series. This kind of change is typical in economic time series: larger populations exhibit larger changes. Percent change means multiplicative change.\n",
    "\n",
    "Prophet also lets you specify additional properties the trend or seasonality might have. A **trend changepoint** is an abrupt change in the trajectory of a series. You might see a changepoint in the direction of your business's revenue at the start of a new marketing campaign, for instance.\n",
    "\n",
    "You can also tell Prophet to model **holidays**. Holidays include traditional holidays like New Year's Day, but could be any sort of exceptional event -- a 50%-off sale, a natural disaster, or an election, say.\n",
    "\n",
    "<img>Changepoints and holidays.</img>\n",
    "\n",
    "# Example - Tunnel Traffic #\n",
    "\n",
    "Let's see how Prophet works by applying it to the *Tunnel Traffic* dataset. This dataset contains the daily ... for a tunnel in Switzerland. The next hidden cell loads up the data."
   ]
  },
  {
   "cell_type": "code",
   "execution_count": null,
   "metadata": {},
   "outputs": [],
   "source": [
    "#$HIDE_INPUT$\n",
    "from pathlib import Path\n",
    "\n",
    "import pandas as pd\n",
    "import matplotlib.pyplot as plt\n",
    "\n",
    "# Set Matplotlib defaults\n",
    "plt.style.use(\"seaborn-whitegrid\")\n",
    "plt.rc(\"figure\", autolayout=True, figsize=(11, 5))\n",
    "plt.rc(\n",
    "    \"axes\",\n",
    "    labelweight=\"bold\",\n",
    "    labelsize=\"large\",\n",
    "    titleweight=\"bold\",\n",
    "    titlesize=14,\n",
    "    titlepad=10,\n",
    ")\n",
    "\n",
    "data_dir = Path(\"../input/ts-course-data\")\n",
    "tunnel = pd.read_csv(data_dir / \"tunnel.csv\", parse_dates=[\"Day\"])\n",
    "\n",
    "plot_params = dict(\n",
    "    color=\"0.75\",\n",
    "    style=\".-\",\n",
    "    markeredgecolor=\"0.25\",\n",
    "    markerfacecolor=\"0.25\",\n",
    "    legend=False,\n",
    ")\n",
    "\n",
    "tunnel.set_index(\"Day\").plot(\n",
    "    title=\"Number of Vehicles per Day\",\n",
    "    **plot_params,\n",
    ");"
   ]
  },
  {
   "cell_type": "markdown",
   "metadata": {},
   "source": [
    "Our data is in a dataframe called `tunnel`. Note the two columns: a column of timestamps, `Day`, and a column of observations, `NumVehicles`."
   ]
  },
  {
   "cell_type": "code",
   "execution_count": null,
   "metadata": {},
   "outputs": [],
   "source": [
    "tunnel.head()"
   ]
  },
  {
   "cell_type": "markdown",
   "metadata": {},
   "source": [
    "The code cell below illustrates how to instantiate the Prophet model and fit it to the time series."
   ]
  },
  {
   "cell_type": "code",
   "execution_count": null,
   "metadata": {},
   "outputs": [],
   "source": [
    "from fbprophet import Prophet\n",
    "\n",
    "# Prophet requires the training data to be in a dataframe like this:\n",
    "df = pd.DataFrame({\n",
    "    \"ds\": tunnel.Day,  # column of timestamps named \"ds\"\n",
    "    \"y\": tunnel.NumVehicles,  # column of observations named \"y\"\n",
    "})\n",
    "\n",
    "# Describe trend and seasonality when you instantiate the model\n",
    "prophet = Prophet(seasonality_mode=\"additive\")\n",
    "prophet.fit(df)\n",
    "\n",
    "y_pred = prophet.predict()\n",
    "prophet.plot_components(y_pred);  # show the trend and seasonality decomposition"
   ]
  },
  {
   "cell_type": "markdown",
   "metadata": {},
   "source": [
    "Take a look at the components Prophet found. Do you recognize these characteristics in the original series?\n",
    "\n",
    "Prophet has a special method to create dataframes for forecasting. After fitting the model, call `make_future_dateframe` with the number of timesteps into the future you want predictions for. We'll make a 90-day forecast."
   ]
  },
  {
   "cell_type": "code",
   "execution_count": null,
   "metadata": {},
   "outputs": [],
   "source": [
    "df_future = prophet.make_future_dataframe(periods=90)\n",
    "y_forecast = prophet.predict(df_future)\n",
    "\n",
    "prophet.plot(y_forecast, uncertainty=False, figsize=(11, 5));"
   ]
  },
  {
   "cell_type": "markdown",
   "metadata": {},
   "source": [
    "The fit Prophet found is pretty good: the weekly and yearly seasonality is clearly represented. It does seem to have underestimated the amount of variation, especially around the New Year's holiday. You'll learn how to include such holidays in the model in the exercise.\n",
    "\n",
    "Examining the residuals of a regression are a great way to see how you might be able to improve your model."
   ]
  },
  {
   "cell_type": "code",
   "execution_count": null,
   "metadata": {},
   "outputs": [],
   "source": [
    "residuals = pd.Series(\n",
    "    (df.y - y_forecast.yhat[:-90]).to_numpy(),\n",
    "    index=pd.DatetimeIndex(df.ds),\n",
    ")\n",
    "residuals.plot(title=\"Remainder (Residuals)\", **plot_params);"
   ]
  },
  {
   "cell_type": "markdown",
   "metadata": {},
   "source": [
    "And here we can more clearly see the regular parts of the series Prophet wasn't able to model: the New Year's holiday and perhaps something occuring around April.\n",
    "\n",
    "---------------------------------------------------------------------------\n",
    "\n",
    "Prophet is a powerful and flexible model for time series forecasting, and can do much more than we've described here. \n",
    "\n",
    "In the next two lessons, we'll see how to replicate Prophet. In lessons 4 and 6, we'll go beyond.\n",
    "\n",
    "# Your Turn #"
   ]
  }
 ],
 "metadata": {
  "jupytext": {
   "cell_metadata_filter": "-all",
   "formats": "ipynb"
  },
  "kernelspec": {
   "display_name": "Python 3",
   "language": "python",
   "name": "python3"
  },
  "language_info": {
   "codemirror_mode": {
    "name": "ipython",
    "version": 3
   },
   "file_extension": ".py",
   "mimetype": "text/x-python",
   "name": "python",
   "nbconvert_exporter": "python",
   "pygments_lexer": "ipython3",
   "version": "3.6.5"
  }
 },
 "nbformat": 4,
 "nbformat_minor": 4
}
