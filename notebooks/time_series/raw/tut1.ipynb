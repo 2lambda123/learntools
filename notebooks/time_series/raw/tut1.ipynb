{
 "cells": [
  {
   "cell_type": "markdown",
   "id": "aging-surprise",
   "metadata": {},
   "source": [
    "# Welcome to Time Series! #"
   ]
  },
  {
   "cell_type": "markdown",
   "id": "ideal-blond",
   "metadata": {},
   "source": [
    "# What is a Time Series? #\n",
    "\n",
    "A **time series** is a set of observations taken over time. Typically, the observations are taken over some common period, like daily or monthly. In this course, we'll represent a time series as Pandas `Series` object with either a `PeriodIndex` or a `DatetimeIndex`. Here are a few entries from a time series with monthly automobiles sales in the United States:\n",
    "\n",
    "| Index   | Sales |\n",
    "|---------|-------|\n",
    "| 2009-01 | 44342 |\n",
    "| 2009-02 | 44283 |\n",
    "| 2009-03 | 50742 |\n",
    "| 2009-04 | 49549 |\n",
    "| 2009-05 | 51414 |\n",
    "| ...     | ...   |"
   ]
  },
  {
   "cell_type": "markdown",
   "id": "durable-thanksgiving",
   "metadata": {},
   "source": [
    "A time series, on the other hand, can contain additional information about itself, either directly through the time index or through sequences of association in it's values. \n",
    "\n",
    "More specifically, there are two properties that are characteristic of time series:\n",
    "- **Time dependence**: the value of an observation can be predicted by the time it occured. Trend (Lesson 2) and seasonality (Lesson 3) are typical kinds of time dependence.\n",
    "- **Serial dependence**: the value of an observation can be predicted from previous observations. Autocorrelation (Lesson 4) is a typical kind of serial dependence.\n",
    "\n",
    "It's helpful to separate the kinds of dependence present in a time series into component series. This shows the *Automobile Sales* series decomposed into time-dependent trend and seasonal series together with a residual series having some (mild) autocorrelation:\n",
    "\n",
    "<img>auto decomp</img>\n",
    "\n",
    "Adding these components together would give us the original series again.\n",
    "\n",
    "Many time series in real-world applications will have both time dependence and serial dependence. A series that has neither appears as noise. These kinds of dependence provide a rich source of information that we can use to understand the behavior of a time series. In the first few lessons of this course, we'll learn how to model them through feature engineering to accomplish our task: forecasting.\n",
    "\n",
    "# Forecasting #\n",
    "\n",
    "Forecasting is different from other machine learning tasks and will require some modifications to common practices like inference, training, and validation. The reason is that the time and serial dependence often present in time series violate the usual properties we require of our data samples: that they are *independent and identically distributed* (or *iid.*). (Recall that this means that they have been selected at random all from the same source or generating process, basically.)\n",
    "\n",
    "- serial dependence violates independence\n",
    "- time dependence violates identically distributed\n",
    "\n",
    "Serial dependence violates the requirement that observations be independent. Among other problems, this puts us in danger of *data leaks* when we are creating data splits or engineering features through *lookahead*, using information from the future that wouldn't be available at the time of the forecast. (See our lesson on [Data Leakage](https://www.kaggle.com/alexisbcook/data-leakage) for more.) Data leakage is an especially common way to be misled about the quality of a forecasting model. The ways it can occur can be subtle, and we'll take special care in this course in learning how to avoid it.\n",
    "\n",
    "Time dependence means the loss of the \"identically distributed\" property, which is perhaps more serious. In the usual machine learning world of identically distributed data, regression is essentially the problem of curve-fitting, or of *interpolating* between points in the training set in a way that matches the true data distribution. In forecasting, we instead have the problem of *extrapolating* predictions to a potentially very different data distribution in the future.\n",
    "\n",
    "<img>interp vs. extrap: fitting a curve vs. extending a curve\n",
    "Fitting a trendline to *Automobile Sales*. Where should the trend go in the future?\n",
    "</img>\n",
    "\n",
    "The interpolation problem is how to \"fill in the blanks\" between the points in the training set. But in forecasting, there's no \"next point\" to connect the curve to, so how can we know where the curve should go next?\n",
    "\n",
    "# Example - Tunnel Traffic #\n",
    "\n",
    "As an introduction to how we'll address these challenges, let's...\n",
    "\n",
    "Let's get a start on how to approach these problems by applying Facebook's Prophet forecaster to the *Tunnel Traffic* dataset. *Tunnel Traffic* is a series describing the number of vehicles traveling through the Baregg Tunnel in Switzerland each day from November 2003 to November 2005. The hidden cell sets up the example."
   ]
  },
  {
   "cell_type": "code",
   "execution_count": null,
   "id": "stopped-lloyd",
   "metadata": {},
   "outputs": [],
   "source": [
    "#$HIDE_INPUT$\n",
    "from pathlib import Path\n",
    "\n",
    "import pandas as pd\n",
    "import matplotlib.pyplot as plt\n",
    "\n",
    "# Set Matplotlib defaults\n",
    "plt.style.use(\"seaborn-whitegrid\")\n",
    "plt.rc(\"figure\", autolayout=True, figsize=(11, 5))\n",
    "plt.rc(\n",
    "    \"axes\",\n",
    "    labelweight=\"bold\",\n",
    "    labelsize=\"large\",\n",
    "    titleweight=\"bold\",\n",
    "    titlesize=14,\n",
    "    titlepad=10,\n",
    ")\n",
    "\n",
    "data_dir = Path(\"../input/ts-course-data\")\n",
    "tunnel = pd.read_csv(data_dir / \"tunnel.csv\", parse_dates=[\"Day\"])\n",
    "\n",
    "plot_params = dict(\n",
    "    color=\"0.75\",\n",
    "    style=\".-\",\n",
    "    markeredgecolor=\"0.25\",\n",
    "    markerfacecolor=\"0.25\",\n",
    "    legend=False,\n",
    ")\n",
    "\n",
    "tunnel.set_index(\"Day\").plot(\n",
    "    title=\"Number of Vehicles per Day\",\n",
    "    **plot_params,\n",
    ");"
   ]
  },
  {
   "cell_type": "markdown",
   "id": "polished-cambridge",
   "metadata": {},
   "source": [
    "Our data is in a dataframe called `tunnel`. Note the two columns: a column of timestamps, `Day`, and a column of observations, `NumVehicles`."
   ]
  },
  {
   "cell_type": "code",
   "execution_count": null,
   "id": "aggressive-reserve",
   "metadata": {},
   "outputs": [],
   "source": [
    "tunnel.head()"
   ]
  },
  {
   "cell_type": "markdown",
   "id": "nuclear-plasma",
   "metadata": {},
   "source": [
    "Prophet is an additive model (similar to ordinary linear regression). It models a time series as a sum of time-dependent components. We'll create a model using the trend and seasonal components we discussed above:\n",
    "\n",
    "```\n",
    "target = trend + seasonal + residual\n",
    "```\n",
    "\n",
    "The code cell below illustrates the Prophet workflow:"
   ]
  },
  {
   "cell_type": "code",
   "execution_count": null,
   "id": "direct-national",
   "metadata": {},
   "outputs": [],
   "source": [
    "from fbprophet import Prophet\n",
    "\n",
    "# Prophet requires the training data to be in a dataframe like this:\n",
    "df = pd.DataFrame({\n",
    "    \"ds\": tunnel.Day,  # a column of timestamps named \"ds\"\n",
    "    \"y\": tunnel.NumVehicles,  # a column of observations named \"y\"\n",
    "})\n",
    "\n",
    "# You can customize the Prophet model in a number of ways, but the\n",
    "# defaults will work well here.\n",
    "prophet = Prophet()\n",
    "prophet.fit(df)\n",
    "\n",
    "# Create predictions from the training set\n",
    "y_pred = prophet.predict()\n",
    "\n",
    "# Prophet returns a complete decomposition. `yhat` is the overall\n",
    "# predicted value. `weekly` and `yearly` are seasonal components.\n",
    "columns = [\"ds\", \"trend\", \"weekly\", \"yearly\", \"yhat\"]\n",
    "y_pred[columns].head()"
   ]
  },
  {
   "cell_type": "markdown",
   "id": "disabled-behalf",
   "metadata": {},
   "source": [
    "Let's take a look at the components Prophet found. Do you recognize these characteristics in the original series?"
   ]
  },
  {
   "cell_type": "code",
   "execution_count": null,
   "id": "attractive-station",
   "metadata": {},
   "outputs": [],
   "source": [
    "prophet.plot_components(y_pred);"
   ]
  },
  {
   "cell_type": "markdown",
   "id": "improving-antique",
   "metadata": {},
   "source": [
    "We make predictions over some collection of test data (usually in an array or a dataframe). In forecasting, we instead make predictions over some number of time steps. The input for forecasting predictions then will be a time index, which we create by extending the index of the training data.\n",
    "\n",
    "Prophet has a special method to inputs for forecasting, which we will use to make a 90-day forecast:"
   ]
  },
  {
   "cell_type": "code",
   "execution_count": null,
   "id": "intellectual-trainer",
   "metadata": {},
   "outputs": [],
   "source": [
    "# Call `make_future_dataframe` after fitting the model to extend the\n",
    "# index of the training data. This will extend it 90 days into the\n",
    "# future:\n",
    "df_future = prophet.make_future_dataframe(periods=90)\n",
    "\n",
    "# We create the forecasts the same as before, but this time passing in\n",
    "# the new dataframe.\n",
    "y_forecast = prophet.predict(df_future)\n",
    "\n",
    "# Prophet also computes uncertainty intervals, but we'll ignore those.\n",
    "prophet.plot(y_forecast, uncertainty=False, figsize=(11, 5));"
   ]
  },
  {
   "cell_type": "markdown",
   "id": "pleased-idaho",
   "metadata": {},
   "source": [
    "The fit Prophet found is pretty good. The weekly and yearly seasonality is clearly represented, though it does seem to have underestimated the amount of variation, especially around the New Year's holiday.\n",
    "\n",
    "---------------------------------------------------------------------------\n",
    "\n",
    "Prophet can include other components besides trend and seasonality, including holidays, changepoints, and categorical features. It also has a number of useful plotting and diagnostic utilities. You can learn more from the [official docs](https://facebook.github.io/prophet/docs/quick_start.html).\n",
    "\n",
    "# Your Turn #"
   ]
  }
 ],
 "metadata": {
  "jupytext": {
   "cell_metadata_filter": "-all",
   "formats": "ipynb,md"
  },
  "kernelspec": {
   "display_name": "Python 3",
   "language": "python",
   "name": "python3"
  },
  "language_info": {
   "codemirror_mode": {
    "name": "ipython",
    "version": 3
   },
   "file_extension": ".py",
   "mimetype": "text/x-python",
   "name": "python",
   "nbconvert_exporter": "python",
   "pygments_lexer": "ipython3",
   "version": "3.6.5"
  }
 },
 "nbformat": 4,
 "nbformat_minor": 5
}
