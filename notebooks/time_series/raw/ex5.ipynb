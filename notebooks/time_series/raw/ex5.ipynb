{
 "cells": [
  {
   "cell_type": "markdown",
   "metadata": {},
   "source": [
    "# Introduction #\n",
    "\n",
    "Run this cell to set everything up!"
   ]
  },
  {
   "cell_type": "code",
   "execution_count": null,
   "metadata": {},
   "outputs": [],
   "source": [
    "# Setup feedback system\n",
    "from learntools.core import binder\n",
    "binder.bind(globals())\n",
    "from learntools.time_series.ex5 import *\n",
    "\n",
    "# Setup notebook\n",
    "import matplotlib.pyplot as plt\n",
    "import numpy as np\n",
    "import pandas as pd\n",
    "from pathlib import Path\n",
    "from sklearn.linear_model import LinearRegression\n",
    "from statsmodels.tsa.deterministic import (CalendarFourier,\n",
    "                                           CalendarSeasonality,\n",
    "                                           CalendarTimeTrend)\n",
    "from statsmodels.tsa.tsatools import lagmat\n",
    "\n",
    "\n",
    "# Set Matplotlib defaults\n",
    "plt.style.use(\"seaborn-whitegrid\")\n",
    "plt.rc(\"figure\", autolayout=True, figsize=(11, 5))\n",
    "plt.rc(\n",
    "    \"axes\",\n",
    "    labelweight=\"bold\",\n",
    "    labelsize=\"large\",\n",
    "    titleweight=\"bold\",\n",
    "    titlesize=16,\n",
    "    titlepad=10,\n",
    ")\n",
    "\n",
    "\n",
    "# Utility functions\n",
    "def add_trend(X, freq=\"D\", order=1):\n",
    "    base_period = X.index[0]\n",
    "    trend = CalendarTimeTrend(\n",
    "        freq=freq, order=order, constant=False, base_period=base_period,\n",
    "    )\n",
    "    X = X.join(trend.in_sample(X.index))\n",
    "    return X\n",
    "\n",
    "\n",
    "def add_seasonal(X, freq=\"D\", period=\"W\"):\n",
    "    seasonality = CalendarSeasonality(freq=\"D\", period=\"W\")\n",
    "    X = X.join(seasonality.in_sample(X.index))\n",
    "    return X\n",
    "\n",
    "\n",
    "def add_fourier(X, freq=\"A\", order=52):\n",
    "    fourier = CalendarFourier(freq=freq, order=order)\n",
    "    X = X.join(fourier.in_sample(X.index))\n",
    "    return X\n",
    "\n",
    "\n",
    "def add_lags(X, y, lags=[1]):\n",
    "    X_lag = lagmat(y, maxlag=max(lags), use_pandas=True, trim=\"both\")\n",
    "    X_lag = X_lag.iloc[:, [lag - 1 for lag in lags]]\n",
    "    X = X.join(X_lag).dropna()\n",
    "    y = y.loc[X.index]\n",
    "    return X, y \n",
    "\n",
    "\n",
    "# Load 1C data\n",
    "data_dir = Path(\"../input/ts-course-data\")\n",
    "df_train = pd.read_csv(data_dir / \"1c_train.csv\", parse_dates=[\"date\"])\n",
    "\n",
    "# Aggregate item sales into a single time series\n",
    "ts_cnt = df_train.pivot_table(index=\"date\", values=\"item_cnt_day\", aggfunc=\"sum\")\n",
    "ts_cnt = ts_cnt.to_period(\"D\")\n",
    "ts_cnt = ts_cnt[\"item_cnt_day\"]\n",
    "\n",
    "ts_valid = ts_cnt.iloc[-90:]\n",
    "ts_train = ts_cnt.drop(ts_valid.index)"
   ]
  },
  {
   "cell_type": "markdown",
   "metadata": {},
   "source": [
    "-------------------------------------------------------------------------------\n",
    "\n",
    "How would you define the forecasting goal in the following scenarios?\n",
    "1. TODO\n",
    "2. TODO\n",
    "3. TODO\n",
    "\n",
    "# 1) Defining the Forecasting Goal\n",
    "\n",
    "After you've thought about your answer, run this cell for the solution."
   ]
  },
  {
   "cell_type": "code",
   "execution_count": null,
   "metadata": {},
   "outputs": [],
   "source": [
    "# View the solution (Run this cell to receive credit!)\n",
    "q_1.check()"
   ]
  },
  {
   "cell_type": "markdown",
   "metadata": {},
   "source": [
    "-------------------------------------------------------------------------------\n",
    "\n",
    "Run this cell to create the features for the next question."
   ]
  },
  {
   "cell_type": "code",
   "execution_count": null,
   "metadata": {
    "lines_to_next_cell": 2
   },
   "outputs": [],
   "source": [
    "def make_deterministic_features(ts):\n",
    "    X = pd.DataFrame(index=ts.index)\n",
    "    X = add_trend(X, order=2)\n",
    "    X = add_seasonal(X)\n",
    "    X = add_fourier(X, order=52)\n",
    "    return X\n",
    "\n",
    "\n",
    "X = make_deterministic_features(ts_cnt)\n",
    "X_train = X.loc[ts_train.index, :]\n",
    "X_valid = X.loc[ts_valid.index, :]\n",
    "\n",
    "y = ts_cnt.copy()\n",
    "y_train = y.loc[ts_train.index]\n",
    "y_valid = y.loc[ts_valid.index]"
   ]
  },
  {
   "cell_type": "markdown",
   "metadata": {},
   "source": [
    "# 2) Deterministic Forecast\n",
    "\n",
    "Make a forecast on the validation set using only deterministic features."
   ]
  },
  {
   "cell_type": "code",
   "execution_count": null,
   "metadata": {
    "lines_to_next_cell": 0
   },
   "outputs": [],
   "source": [
    "# YOUR CODE HERE\n",
    "#_UNCOMMENT_IF(PROD)_\n",
    "#____\n",
    "\n",
    "# Check your answer\n",
    "q_2.check()"
   ]
  },
  {
   "cell_type": "code",
   "execution_count": null,
   "metadata": {
    "lines_to_next_cell": 0
   },
   "outputs": [],
   "source": [
    "# Lines below will give you a hint or solution code\n",
    "#_COMMENT_IF(PROD)_\n",
    "q_2.hint()\n",
    "#_COMMENT_IF(PROD)_\n",
    "q_2.solution()"
   ]
  },
  {
   "cell_type": "code",
   "execution_count": null,
   "metadata": {},
   "outputs": [],
   "source": [
    "#%%RM_IF(PROD)%%\n",
    "model = LinearRegression()\n",
    "model.fit(X_train, y_train)\n",
    "y_pred = pd.Series(model.predict(X_train), index=y_train.index)\n",
    "y_forecast = pd.Series(model.predict(X_valid), index=y_valid.index)\n",
    "\n",
    "rmse = np.sqrt(np.nanmean((y_valid - y_forecast) ** 2))\n",
    "print(f\"Validation RMSE: {rmse}\")\n",
    "\n",
    "q_2.assert_check_passed()"
   ]
  },
  {
   "cell_type": "markdown",
   "metadata": {},
   "source": [
    "Run this cell if you'd like to see a plot of your forecast."
   ]
  },
  {
   "cell_type": "code",
   "execution_count": null,
   "metadata": {},
   "outputs": [],
   "source": [
    "ax = ts_cnt.plot(style=\".\", color=\"0.25\")\n",
    "ax = y_pred.plot(ax=ax, color=\"C0\")\n",
    "y_forecast.plot(ax=ax, color=\"C3\");"
   ]
  },
  {
   "cell_type": "markdown",
   "metadata": {},
   "source": [
    "-------------------------------------------------------------------------------\n",
    "\n",
    "Run this cell to set up the training data for this question."
   ]
  },
  {
   "cell_type": "code",
   "execution_count": null,
   "metadata": {},
   "outputs": [],
   "source": [
    "X_det = make_deterministic_features(ts_cnt)\n",
    "X_train = X_det.loc[ts_train.index, :]\n",
    "y_train = ts_cnt.loc[X_train.index]\n",
    "X_train, y_train = add_lags(X_train, y_train, lags=[1, 2, 5])"
   ]
  },
  {
   "cell_type": "markdown",
   "metadata": {},
   "source": [
    "# 3) Recursive Forecast\n",
    "\n",
    "Make a forecast on the validation set with lag features using the recursive method."
   ]
  },
  {
   "cell_type": "code",
   "execution_count": null,
   "metadata": {
    "lines_to_next_cell": 0
   },
   "outputs": [],
   "source": [
    "# YOUR CODE HERE\n",
    "#_UNCOMMENT_IF(PROD)_\n",
    "#____\n",
    "\n",
    "# Check your answer\n",
    "q_3.check()"
   ]
  },
  {
   "cell_type": "code",
   "execution_count": null,
   "metadata": {
    "lines_to_next_cell": 0
   },
   "outputs": [],
   "source": [
    "# Lines below will give you a hint or solution code\n",
    "#_COMMENT_IF(PROD)_\n",
    "q_3.hint()\n",
    "#_COMMENT_IF(PROD)_\n",
    "q_3.solution()"
   ]
  },
  {
   "cell_type": "code",
   "execution_count": null,
   "metadata": {},
   "outputs": [],
   "source": [
    "#%%RM_IF(PROD)%%\n",
    "model = LinearRegression().fit(X_train, y_train)\n",
    "y_pred = pd.Series(model.predict(X_train), index=X_train.index)\n",
    "\n",
    "for date in y_valid.index:\n",
    "    X_train = X_det.loc[:date, :]\n",
    "    y_train[date] = np.nan\n",
    "    X_train, y_train = add_lags(X_train, y_train, lags=[1, 2, 5])\n",
    "    y_train[date] = model.predict(X_train.loc[[date], :])[0]\n",
    "\n",
    "y_fore = y_train[ts_valid.index]\n",
    "q_3.assert_check_passed()"
   ]
  },
  {
   "cell_type": "markdown",
   "metadata": {},
   "source": [
    "Run this cell if you'd like to see the forecast."
   ]
  },
  {
   "cell_type": "code",
   "execution_count": null,
   "metadata": {},
   "outputs": [],
   "source": [
    "ax = ts_cnt.plot(style=\".\", color=\"0.25\")\n",
    "ax = y_pred.plot(ax=ax, color=\"C0\")\n",
    "_ = y_fore.plot(ax=ax, color=\"C3\")"
   ]
  },
  {
   "cell_type": "markdown",
   "metadata": {},
   "source": [
    "-------------------------------------------------------------------------------"
   ]
  },
  {
   "cell_type": "markdown",
   "metadata": {},
   "source": [
    "# 4) Validate with Backtest\n",
    "\n",
    "Instead of using a validation set, use the backtesting method to test your model."
   ]
  },
  {
   "cell_type": "code",
   "execution_count": null,
   "metadata": {
    "lines_to_next_cell": 0
   },
   "outputs": [],
   "source": []
  },
  {
   "cell_type": "markdown",
   "metadata": {},
   "source": []
  },
  {
   "cell_type": "markdown",
   "metadata": {},
   "source": [
    "# Keep Going #"
   ]
  }
 ],
 "metadata": {
  "jupytext": {
   "cell_metadata_filter": "-all",
   "formats": "ipynb"
  },
  "kernelspec": {
   "display_name": "Python 3",
   "language": "python",
   "name": "python3"
  },
  "language_info": {
   "codemirror_mode": {
    "name": "ipython",
    "version": 3
   },
   "file_extension": ".py",
   "mimetype": "text/x-python",
   "name": "python",
   "nbconvert_exporter": "python",
   "pygments_lexer": "ipython3",
   "version": "3.6.5"
  }
 },
 "nbformat": 4,
 "nbformat_minor": 4
}
