{
 "cells": [
  {
   "cell_type": "markdown",
   "id": "adopted-cigarette",
   "metadata": {},
   "source": [
    "# Introduction #\n",
    "\n",
    "Run this cell to set everything up!"
   ]
  },
  {
   "cell_type": "code",
   "execution_count": 1,
   "id": "precious-creation",
   "metadata": {},
   "outputs": [],
   "source": [
    "# Setup feedback system\n",
    "from learntools.core import binder\n",
    "binder.bind(globals())\n",
    "from learntools.time_series.ex5 import *\n",
    "\n",
    "# Setup notebook\n",
    "import warnings\n",
    "from pathlib import Path\n",
    "\n",
    "import matplotlib.pyplot as plt\n",
    "import pandas as pd\n",
    "from sklearn.linear_model import LinearRegression\n",
    "from sklearn.preprocessing import LabelEncoder\n",
    "from statsmodels.tsa.deterministic import DeterministicProcess\n",
    "from xgboost import XGBRegressor\n",
    "\n",
    "warnings.simplefilter(\"ignore\")\n",
    "\n",
    "plt.style.use(\"seaborn-whitegrid\")\n",
    "plt.rc(\n",
    "    \"figure\",\n",
    "    autolayout=True,\n",
    "    figsize=(11, 4),\n",
    "    titlesize=18,\n",
    "    titleweight='bold',\n",
    ")\n",
    "plt.rc(\n",
    "    \"axes\",\n",
    "    labelweight=\"bold\",\n",
    "    labelsize=\"large\",\n",
    "    titleweight=\"bold\",\n",
    "    titlesize=16,\n",
    "    titlepad=10,\n",
    ")\n",
    "plot_params = dict(\n",
    "    color=\"0.75\",\n",
    "    style=\".-\",\n",
    "    markeredgecolor=\"0.25\",\n",
    "    markerfacecolor=\"0.25\",\n",
    "    legend=False,\n",
    ")\n",
    "%config InlineBackend.figure_format = 'retina'\n",
    "\n",
    "comp_dir = Path('../input/store-sales-time-series-forecasting')\n",
    "data_dir = Path(\"../input/ts-course-data\")\n",
    "\n",
    "store_sales = pd.read_csv(\n",
    "    comp_dir / 'train.csv',\n",
    "    usecols=['store_nbr', 'family', 'date', 'sales', 'onpromotion'],\n",
    "    dtype={\n",
    "        'store_nbr': 'category',\n",
    "        'family': 'category',\n",
    "        'sales': 'float32',\n",
    "    },\n",
    "    parse_dates=['date'],\n",
    "    infer_datetime_format=True,\n",
    ")\n",
    "store_sales['date'] = store_sales.date.dt.to_period('D')\n",
    "store_sales = store_sales.set_index(['store_nbr', 'family', 'date']).sort_index()\n",
    "\n",
    "family_sales = (\n",
    "    store_sales\n",
    "    .groupby(['family', 'date'])\n",
    "    .mean()\n",
    "    .unstack('family')\n",
    "    .loc['2017']\n",
    ")"
   ]
  },
  {
   "cell_type": "markdown",
   "id": "still-student",
   "metadata": {},
   "source": [
    "-------------------------------------------------------------------------------\n",
    "\n",
    "In the next two questions, you'll create a boosted hybrid for the *Store Sales* dataset.\n"
   ]
  },
  {
   "cell_type": "code",
   "execution_count": 2,
   "id": "developing-thought",
   "metadata": {},
   "outputs": [],
   "source": [
    "# You'll add fit and predict methods to this minimal class\n",
    "class BoostedHybrid:\n",
    "    def __init__(self, model_1, model_2):\n",
    "        self.model_1 = model_1\n",
    "        self.model_2 = model_2\n",
    "        self.y_columns = None  # store column names from fit method\n"
   ]
  },
  {
   "cell_type": "markdown",
   "id": "lesser-smile",
   "metadata": {},
   "source": [
    "# 1) Define fit method for boosted hybrid\n",
    "\n"
   ]
  },
  {
   "cell_type": "code",
   "execution_count": 3,
   "id": "fleet-covering",
   "metadata": {},
   "outputs": [
    {
     "data": {
      "application/javascript": [
       "parent.postMessage({\"jupyterEvent\": \"custom.exercise_interaction\", \"data\": {\"outcomeType\": 4, \"interactionType\": 1, \"questionType\": 2, \"questionId\": \"1_Q1\", \"learnToolsVersion\": \"0.3.4\", \"valueTowardsCompletion\": 0.0, \"failureMessage\": \"\", \"exceptionClass\": \"\", \"trace\": \"\"}}, \"*\")"
      ],
      "text/plain": [
       "<IPython.core.display.Javascript object>"
      ]
     },
     "metadata": {},
     "output_type": "display_data"
    },
    {
     "data": {
      "text/markdown": [
       "<span style=\"color:#ccaa33\">Check:</span> When you've updated the starter code, `check()` will tell you whether your code is correct. "
      ],
      "text/plain": [
       "Check: When you've updated the starter code, `check()` will tell you whether your code is correct. "
      ]
     },
     "metadata": {},
     "output_type": "display_data"
    }
   ],
   "source": [
    "def fit(self, X_1, X_2, y):\n",
    "    # YOUR CODE HERE: fit self.model_1\n",
    "    ____\n",
    "\n",
    "    y_fit = pd.DataFrame(\n",
    "        # YOUR CODE HERE: make predictions with self.model_1\n",
    "        ____,\n",
    "        index=X_1.index, columns=y.columns,\n",
    "    )\n",
    "\n",
    "    # YOUR CODE HERE: compute residuals\n",
    "    y_resid = ____\n",
    "    y_resid = y_resid.stack().squeeze() # wide to long\n",
    "\n",
    "    # YOUR CODE HERE: fit self.model_2 on residuals\n",
    "    self.model_2.fit(____, ____)\n",
    "\n",
    "    # Save column names for predict method\n",
    "    self.y_columns = y.columns\n",
    "    # Save data for question checking\n",
    "    self.y_fit = y_fit\n",
    "    self.y_resid = y_resid\n",
    "\n",
    "\n",
    "# Add method to class\n",
    "BoostedHybrid.fit = fit\n",
    "\n",
    "\n",
    "# Check your answer\n",
    "q_1.check()"
   ]
  },
  {
   "cell_type": "code",
   "execution_count": 4,
   "id": "basic-revolution",
   "metadata": {},
   "outputs": [
    {
     "data": {
      "application/javascript": [
       "parent.postMessage({\"jupyterEvent\": \"custom.exercise_interaction\", \"data\": {\"interactionType\": 2, \"questionType\": 2, \"questionId\": \"1_Q1\", \"learnToolsVersion\": \"0.3.4\", \"valueTowardsCompletion\": 0.0, \"failureMessage\": \"\", \"exceptionClass\": \"\", \"trace\": \"\", \"outcomeType\": 4}}, \"*\")"
      ],
      "text/plain": [
       "<IPython.core.display.Javascript object>"
      ]
     },
     "metadata": {},
     "output_type": "display_data"
    },
    {
     "data": {
      "text/markdown": [
       "<span style=\"color:#3366cc\">Hint:</span> Your solution should look like:\n",
       "```python\n",
       "def fit(self, X_1, X_2, y):\n",
       "    # Fit self.model_1\n",
       "    self.model_1.fit(X_1, y)\n",
       "\n",
       "    # Make predictions with self.model_1\n",
       "    y_fit = pd.DataFrame(\n",
       "        self.model_1.____(____), \n",
       "        index=X_1.index, columns=y.columns,\n",
       "    )\n",
       "\n",
       "    # Compute residuals\n",
       "    y_resid = y - ____\n",
       "    y_resid = y_resid.stack().squeeze() # wide to long\n",
       "\n",
       "    # Train model_2 on residuals\n",
       "    self.model_2.fit(____, ____)\n",
       "\n",
       "    # Save column names for predict method\n",
       "    self.y_columns = y.columns\n",
       "    # Save data for question checking\n",
       "    self.y_fit = y_fit\n",
       "    self.y_resid = y_resid\n",
       "\n",
       "\n",
       "# Add method to class\n",
       "BoostedHybrid.fit = fit\n",
       "```\n"
      ],
      "text/plain": [
       "Hint: Your solution should look like:\n",
       "```python\n",
       "def fit(self, X_1, X_2, y):\n",
       "    # Fit self.model_1\n",
       "    self.model_1.fit(X_1, y)\n",
       "\n",
       "    # Make predictions with self.model_1\n",
       "    y_fit = pd.DataFrame(\n",
       "        self.model_1.____(____), \n",
       "        index=X_1.index, columns=y.columns,\n",
       "    )\n",
       "\n",
       "    # Compute residuals\n",
       "    y_resid = y - ____\n",
       "    y_resid = y_resid.stack().squeeze() # wide to long\n",
       "\n",
       "    # Train model_2 on residuals\n",
       "    self.model_2.fit(____, ____)\n",
       "\n",
       "    # Save column names for predict method\n",
       "    self.y_columns = y.columns\n",
       "    # Save data for question checking\n",
       "    self.y_fit = y_fit\n",
       "    self.y_resid = y_resid\n",
       "\n",
       "\n",
       "# Add method to class\n",
       "BoostedHybrid.fit = fit\n",
       "```"
      ]
     },
     "metadata": {},
     "output_type": "display_data"
    },
    {
     "data": {
      "application/javascript": [
       "parent.postMessage({\"jupyterEvent\": \"custom.exercise_interaction\", \"data\": {\"interactionType\": 3, \"questionType\": 2, \"questionId\": \"1_Q1\", \"learnToolsVersion\": \"0.3.4\", \"valueTowardsCompletion\": 0.0, \"failureMessage\": \"\", \"exceptionClass\": \"\", \"trace\": \"\", \"outcomeType\": 4}}, \"*\")"
      ],
      "text/plain": [
       "<IPython.core.display.Javascript object>"
      ]
     },
     "metadata": {},
     "output_type": "display_data"
    },
    {
     "data": {
      "text/markdown": [
       "<span style=\"color:#33cc99\">Solution:</span> \n",
       "```python\n",
       "\n",
       "def fit(self, X_1, X_2, y):\n",
       "    # Train model_1\n",
       "    self.model_1.fit(X_1, y)\n",
       "\n",
       "    # Make predictions\n",
       "    y_fit = pd.DataFrame(\n",
       "        self.model_1.predict(X_1), \n",
       "        index=X_1.index, columns=y.columns,\n",
       "    )\n",
       "\n",
       "    # Compute residuals\n",
       "    y_resid = y - y_fit\n",
       "    y_resid = y_resid.stack().squeeze() # wide to long\n",
       "\n",
       "    # Train model_2 on residuals\n",
       "    self.model_2.fit(X_2, y_resid)\n",
       "\n",
       "    # Save column names for predict method\n",
       "    self.y_columns = y.columns\n",
       "    # Save data for question checking\n",
       "    self.y_fit = y_fit\n",
       "    self.y_resid = y_resid\n",
       "\n",
       "\n",
       "# Add method to class\n",
       "BoostedHybrid.fit = fit\n",
       "\n",
       "```"
      ],
      "text/plain": [
       "Solution: \n",
       "```python\n",
       "\n",
       "def fit(self, X_1, X_2, y):\n",
       "    # Train model_1\n",
       "    self.model_1.fit(X_1, y)\n",
       "\n",
       "    # Make predictions\n",
       "    y_fit = pd.DataFrame(\n",
       "        self.model_1.predict(X_1), \n",
       "        index=X_1.index, columns=y.columns,\n",
       "    )\n",
       "\n",
       "    # Compute residuals\n",
       "    y_resid = y - y_fit\n",
       "    y_resid = y_resid.stack().squeeze() # wide to long\n",
       "\n",
       "    # Train model_2 on residuals\n",
       "    self.model_2.fit(X_2, y_resid)\n",
       "\n",
       "    # Save column names for predict method\n",
       "    self.y_columns = y.columns\n",
       "    # Save data for question checking\n",
       "    self.y_fit = y_fit\n",
       "    self.y_resid = y_resid\n",
       "\n",
       "\n",
       "# Add method to class\n",
       "BoostedHybrid.fit = fit\n",
       "\n",
       "```"
      ]
     },
     "metadata": {},
     "output_type": "display_data"
    }
   ],
   "source": [
    "# Lines below will give you a hint or solution code\n",
    "#_COMMENT_IF(PROD)_\n",
    "q_1.hint()\n",
    "#_COMMENT_IF(PROD)_\n",
    "q_1.solution()"
   ]
  },
  {
   "cell_type": "code",
   "execution_count": 5,
   "id": "distant-regression",
   "metadata": {},
   "outputs": [
    {
     "data": {
      "application/javascript": [
       "parent.postMessage({\"jupyterEvent\": \"custom.exercise_interaction\", \"data\": {\"outcomeType\": 1, \"valueTowardsCompletion\": 0.25, \"interactionType\": 1, \"questionType\": 2, \"questionId\": \"1_Q1\", \"learnToolsVersion\": \"0.3.4\", \"failureMessage\": \"\", \"exceptionClass\": \"\", \"trace\": \"\"}}, \"*\")"
      ],
      "text/plain": [
       "<IPython.core.display.Javascript object>"
      ]
     },
     "metadata": {},
     "output_type": "display_data"
    },
    {
     "data": {
      "text/markdown": [
       "<span style=\"color:#33cc33\">Correct</span>"
      ],
      "text/plain": [
       "Correct"
      ]
     },
     "metadata": {},
     "output_type": "display_data"
    }
   ],
   "source": [
    "#%%RM_IF(PROD)%%\n",
    "def fit(self, X_1, X_2, y):\n",
    "    # Train model_1\n",
    "    self.model_1.fit(X_1, y)\n",
    "\n",
    "    # Make predictions\n",
    "    y_fit = pd.DataFrame(\n",
    "        self.model_1.predict(X_1), index=X_1.index, columns=y.columns,\n",
    "    )\n",
    "\n",
    "    # Compute residuals\n",
    "    y_resid = y - y_fit\n",
    "    y_resid = y_resid.stack().squeeze() # wide to long\n",
    "\n",
    "    # Train model_2 on residuals\n",
    "    self.model_2.fit(X_2, y_resid)\n",
    "\n",
    "    # Save column names for predict method\n",
    "    self.y_columns = y.columns\n",
    "    # Save data for question checking\n",
    "    self.y_fit = y_fit\n",
    "    self.y_resid = y_resid\n",
    "\n",
    "\n",
    "# Add method to class\n",
    "BoostedHybrid.fit = fit\n",
    "\n",
    "\n",
    "q_1.assert_check_passed()"
   ]
  },
  {
   "cell_type": "markdown",
   "id": "continuing-roberts",
   "metadata": {},
   "source": [
    "-------------------------------------------------------------------------------\n",
    "\n",
    "# 2) Define predict method for boosted hybrid\n",
    "\n"
   ]
  },
  {
   "cell_type": "code",
   "execution_count": 6,
   "id": "general-nature",
   "metadata": {},
   "outputs": [
    {
     "data": {
      "application/javascript": [
       "parent.postMessage({\"jupyterEvent\": \"custom.exercise_interaction\", \"data\": {\"outcomeType\": 4, \"interactionType\": 1, \"questionType\": 2, \"questionId\": \"2_Q2\", \"learnToolsVersion\": \"0.3.4\", \"valueTowardsCompletion\": 0.0, \"failureMessage\": \"\", \"exceptionClass\": \"\", \"trace\": \"\"}}, \"*\")"
      ],
      "text/plain": [
       "<IPython.core.display.Javascript object>"
      ]
     },
     "metadata": {},
     "output_type": "display_data"
    },
    {
     "data": {
      "text/markdown": [
       "<span style=\"color:#ccaa33\">Check:</span> When you've updated the starter code, `check()` will tell you whether your code is correct. "
      ],
      "text/plain": [
       "Check: When you've updated the starter code, `check()` will tell you whether your code is correct. "
      ]
     },
     "metadata": {},
     "output_type": "display_data"
    }
   ],
   "source": [
    "def predict(self, X_1, X_2):\n",
    "    y_pred = pd.DataFrame(\n",
    "        # YOUR CODE HERE: predict with self.model_1\n",
    "        ____,\n",
    "        index=X_1.index, columns=self.y_columns,\n",
    "    )\n",
    "    y_pred = y_pred.stack().squeeze()  # wide to long\n",
    "\n",
    "    # YOUR CODE HERE: add self.model_2 predictions to y_pred\n",
    "    y_pred += ____\n",
    "    \n",
    "    return y_pred.unstack()  # long to wide\n",
    "\n",
    "\n",
    "# Add method to class\n",
    "BoostedHybrid.predict = predict\n",
    "\n",
    "\n",
    "# Check your answer\n",
    "q_2.check()"
   ]
  },
  {
   "cell_type": "code",
   "execution_count": 7,
   "id": "outside-daisy",
   "metadata": {},
   "outputs": [
    {
     "data": {
      "application/javascript": [
       "parent.postMessage({\"jupyterEvent\": \"custom.exercise_interaction\", \"data\": {\"interactionType\": 2, \"questionType\": 2, \"questionId\": \"2_Q2\", \"learnToolsVersion\": \"0.3.4\", \"valueTowardsCompletion\": 0.0, \"failureMessage\": \"\", \"exceptionClass\": \"\", \"trace\": \"\", \"outcomeType\": 4}}, \"*\")"
      ],
      "text/plain": [
       "<IPython.core.display.Javascript object>"
      ]
     },
     "metadata": {},
     "output_type": "display_data"
    },
    {
     "data": {
      "text/markdown": [
       "<span style=\"color:#3366cc\">Hint:</span> Your solution should look like:\n",
       "```python\n",
       "def predict(self, X_1, X_2):\n",
       "    # Predict with model_1\n",
       "    y_pred = pd.DataFrame(\n",
       "        self.model_1.____(____), \n",
       "        index=X_1.index, columns=self.y_columns,\n",
       "    )\n",
       "    y_pred = y_pred.stack().squeeze()  # wide to long\n",
       "\n",
       "    # Add model_2 predictions to model_1 predictions\n",
       "    y_pred += self.model_2.____(____)\n",
       "\n",
       "    return y_pred.unstack()\n",
       "\n",
       "\n",
       "# Add method to class\n",
       "BoostedHybrid.predict = predict\n",
       "```\n"
      ],
      "text/plain": [
       "Hint: Your solution should look like:\n",
       "```python\n",
       "def predict(self, X_1, X_2):\n",
       "    # Predict with model_1\n",
       "    y_pred = pd.DataFrame(\n",
       "        self.model_1.____(____), \n",
       "        index=X_1.index, columns=self.y_columns,\n",
       "    )\n",
       "    y_pred = y_pred.stack().squeeze()  # wide to long\n",
       "\n",
       "    # Add model_2 predictions to model_1 predictions\n",
       "    y_pred += self.model_2.____(____)\n",
       "\n",
       "    return y_pred.unstack()\n",
       "\n",
       "\n",
       "# Add method to class\n",
       "BoostedHybrid.predict = predict\n",
       "```"
      ]
     },
     "metadata": {},
     "output_type": "display_data"
    },
    {
     "data": {
      "application/javascript": [
       "parent.postMessage({\"jupyterEvent\": \"custom.exercise_interaction\", \"data\": {\"interactionType\": 3, \"questionType\": 2, \"questionId\": \"2_Q2\", \"learnToolsVersion\": \"0.3.4\", \"valueTowardsCompletion\": 0.0, \"failureMessage\": \"\", \"exceptionClass\": \"\", \"trace\": \"\", \"outcomeType\": 4}}, \"*\")"
      ],
      "text/plain": [
       "<IPython.core.display.Javascript object>"
      ]
     },
     "metadata": {},
     "output_type": "display_data"
    },
    {
     "data": {
      "text/markdown": [
       "<span style=\"color:#33cc99\">Solution:</span> \n",
       "```python\n",
       "\n",
       "def predict(self, X_1, X_2):\n",
       "    # Predict with model_1\n",
       "    y_pred = pd.DataFrame(\n",
       "        self.model_1.predict(X_1), \n",
       "        index=X_1.index, columns=self.y_columns,\n",
       "    )\n",
       "    y_pred = y_pred.stack().squeeze()  # wide to long\n",
       "\n",
       "    # Add model_2 predictions to model_1 predictions\n",
       "    y_pred += self.model_2.predict(X_2)\n",
       "\n",
       "    return y_pred.unstack()\n",
       "\n",
       "\n",
       "# Add method to class\n",
       "BoostedHybrid.predict = predict\n",
       "\n",
       "```"
      ],
      "text/plain": [
       "Solution: \n",
       "```python\n",
       "\n",
       "def predict(self, X_1, X_2):\n",
       "    # Predict with model_1\n",
       "    y_pred = pd.DataFrame(\n",
       "        self.model_1.predict(X_1), \n",
       "        index=X_1.index, columns=self.y_columns,\n",
       "    )\n",
       "    y_pred = y_pred.stack().squeeze()  # wide to long\n",
       "\n",
       "    # Add model_2 predictions to model_1 predictions\n",
       "    y_pred += self.model_2.predict(X_2)\n",
       "\n",
       "    return y_pred.unstack()\n",
       "\n",
       "\n",
       "# Add method to class\n",
       "BoostedHybrid.predict = predict\n",
       "\n",
       "```"
      ]
     },
     "metadata": {},
     "output_type": "display_data"
    }
   ],
   "source": [
    "# Lines below will give you a hint or solution code\n",
    "#_COMMENT_IF(PROD)_\n",
    "q_2.hint()\n",
    "#_COMMENT_IF(PROD)_\n",
    "q_2.solution()"
   ]
  },
  {
   "cell_type": "code",
   "execution_count": 8,
   "id": "cosmetic-tampa",
   "metadata": {},
   "outputs": [
    {
     "data": {
      "application/javascript": [
       "parent.postMessage({\"jupyterEvent\": \"custom.exercise_interaction\", \"data\": {\"outcomeType\": 1, \"valueTowardsCompletion\": 0.25, \"interactionType\": 1, \"questionType\": 2, \"questionId\": \"2_Q2\", \"learnToolsVersion\": \"0.3.4\", \"failureMessage\": \"\", \"exceptionClass\": \"\", \"trace\": \"\"}}, \"*\")"
      ],
      "text/plain": [
       "<IPython.core.display.Javascript object>"
      ]
     },
     "metadata": {},
     "output_type": "display_data"
    },
    {
     "data": {
      "text/markdown": [
       "<span style=\"color:#33cc33\">Correct</span>"
      ],
      "text/plain": [
       "Correct"
      ]
     },
     "metadata": {},
     "output_type": "display_data"
    }
   ],
   "source": [
    "#%%RM_IF(PROD)%%\n",
    "def predict(self, X_1, X_2):\n",
    "    # Predict with model_1\n",
    "    y_pred = pd.DataFrame(\n",
    "        self.model_1.predict(X_1), index=X_1.index, columns=self.y_columns,\n",
    "    )\n",
    "    y_pred = y_pred.stack().squeeze()  # wide to long\n",
    "\n",
    "    # Add model_2 predictions to model_1 predictions\n",
    "    y_pred += self.model_2.predict(X_2)\n",
    "    return y_pred.unstack()\n",
    "\n",
    "\n",
    "# Add method to class\n",
    "BoostedHybrid.predict = predict\n",
    "\n",
    "\n",
    "q_2.assert_check_passed()"
   ]
  },
  {
   "cell_type": "markdown",
   "id": "divided-relations",
   "metadata": {},
   "source": [
    "-------------------------------------------------------------------------------"
   ]
  },
  {
   "cell_type": "code",
   "execution_count": 9,
   "id": "opposite-diving",
   "metadata": {},
   "outputs": [],
   "source": [
    "# Target series\n",
    "y = family_sales.loc[:, 'sales']\n",
    "\n",
    "\n",
    "# X_1: Features for Linear Regression\n",
    "dp = DeterministicProcess(index=y.index, order=1)\n",
    "X_1 = dp.in_sample()\n",
    "\n",
    "\n",
    "# X_2: Features for XGBoost\n",
    "X_2 = family_sales.drop('sales', axis=1).stack()  # onpromotion feature\n",
    "\n",
    "# Label encoding for 'family'\n",
    "le = LabelEncoder()  # from sklearn.preprocessing\n",
    "X_2 = X_2.reset_index('family')\n",
    "X_2['family'] = le.fit_transform(X_2['family'])\n",
    "\n",
    "# Label encoding for seasonality\n",
    "X_2[\"day\"] = X_2.index.day  # values are day of the month"
   ]
  },
  {
   "cell_type": "markdown",
   "id": "therapeutic-executive",
   "metadata": {},
   "source": [
    "# 3) Train boosted hybrid\n"
   ]
  },
  {
   "cell_type": "code",
   "execution_count": 10,
   "id": "affiliated-telescope",
   "metadata": {},
   "outputs": [
    {
     "data": {
      "application/javascript": [
       "parent.postMessage({\"jupyterEvent\": \"custom.exercise_interaction\", \"data\": {\"outcomeType\": 4, \"interactionType\": 1, \"questionType\": 2, \"questionId\": \"3_Q3\", \"learnToolsVersion\": \"0.3.4\", \"valueTowardsCompletion\": 0.0, \"failureMessage\": \"\", \"exceptionClass\": \"\", \"trace\": \"\"}}, \"*\")"
      ],
      "text/plain": [
       "<IPython.core.display.Javascript object>"
      ]
     },
     "metadata": {},
     "output_type": "display_data"
    },
    {
     "data": {
      "text/markdown": [
       "<span style=\"color:#ccaa33\">Check:</span> When you've updated the starter code, `check()` will tell you whether your code is correct. You need to update the code that creates variables `model`, `y_pred`"
      ],
      "text/plain": [
       "Check: When you've updated the starter code, `check()` will tell you whether your code is correct. You need to update the code that creates variables `model`, `y_pred`"
      ]
     },
     "metadata": {},
     "output_type": "display_data"
    }
   ],
   "source": [
    "# YOUR CODE HERE: Create LinearRegression + XGBoost hybrid\n",
    "model = ____\n",
    "\n",
    "# YOUR CODE HERE: Fit and predict\n",
    "#_UNCOMMENT_IF(PROD)_\n",
    "#model.fit(____, ____, ____)\n",
    "y_pred = ____\n",
    "\n",
    "#_UNCOMMENT_IF(PROD)_\n",
    "#y_pred = y_pred.clip(0.0)\n",
    "\n",
    "\n",
    "# Check your answer\n",
    "q_3.check()"
   ]
  },
  {
   "cell_type": "code",
   "execution_count": 11,
   "id": "rocky-friday",
   "metadata": {},
   "outputs": [
    {
     "data": {
      "application/javascript": [
       "parent.postMessage({\"jupyterEvent\": \"custom.exercise_interaction\", \"data\": {\"interactionType\": 2, \"questionType\": 2, \"questionId\": \"3_Q3\", \"learnToolsVersion\": \"0.3.4\", \"valueTowardsCompletion\": 0.0, \"failureMessage\": \"\", \"exceptionClass\": \"\", \"trace\": \"\", \"outcomeType\": 4}}, \"*\")"
      ],
      "text/plain": [
       "<IPython.core.display.Javascript object>"
      ]
     },
     "metadata": {},
     "output_type": "display_data"
    },
    {
     "data": {
      "text/markdown": [
       "<span style=\"color:#3366cc\">Hint:</span> Your solution should look like:\n",
       "```python\n",
       "# Create model\n",
       "model = BoostedHybrid(\n",
       "    model_1=____,\n",
       "    model_2=____,\n",
       ")\n",
       "model.fit(X_1, X_2, ____)\n",
       "\n",
       "y_pred = model.predict(____, ____)\n",
       "y_pred = y_pred.clip(0.0)\n",
       "```\n"
      ],
      "text/plain": [
       "Hint: Your solution should look like:\n",
       "```python\n",
       "# Create model\n",
       "model = BoostedHybrid(\n",
       "    model_1=____,\n",
       "    model_2=____,\n",
       ")\n",
       "model.fit(X_1, X_2, ____)\n",
       "\n",
       "y_pred = model.predict(____, ____)\n",
       "y_pred = y_pred.clip(0.0)\n",
       "```"
      ]
     },
     "metadata": {},
     "output_type": "display_data"
    },
    {
     "data": {
      "application/javascript": [
       "parent.postMessage({\"jupyterEvent\": \"custom.exercise_interaction\", \"data\": {\"interactionType\": 3, \"questionType\": 2, \"questionId\": \"3_Q3\", \"learnToolsVersion\": \"0.3.4\", \"valueTowardsCompletion\": 0.0, \"failureMessage\": \"\", \"exceptionClass\": \"\", \"trace\": \"\", \"outcomeType\": 4}}, \"*\")"
      ],
      "text/plain": [
       "<IPython.core.display.Javascript object>"
      ]
     },
     "metadata": {},
     "output_type": "display_data"
    },
    {
     "data": {
      "text/markdown": [
       "<span style=\"color:#33cc99\">Solution:</span> \n",
       "```python\n",
       "\n",
       "# Create model\n",
       "model = BoostedHybrid(\n",
       "    model_1=LinearRegression(),\n",
       "    model_2=XGBRegressor(),\n",
       ")\n",
       "model.fit(X_1, X_2, y)\n",
       "\n",
       "y_pred = model.predict(X_1, X_2)\n",
       "y_pred = y_pred.clip(0.0)\n",
       "\n",
       "```"
      ],
      "text/plain": [
       "Solution: \n",
       "```python\n",
       "\n",
       "# Create model\n",
       "model = BoostedHybrid(\n",
       "    model_1=LinearRegression(),\n",
       "    model_2=XGBRegressor(),\n",
       ")\n",
       "model.fit(X_1, X_2, y)\n",
       "\n",
       "y_pred = model.predict(X_1, X_2)\n",
       "y_pred = y_pred.clip(0.0)\n",
       "\n",
       "```"
      ]
     },
     "metadata": {},
     "output_type": "display_data"
    }
   ],
   "source": [
    "# Lines below will give you a hint or solution code\n",
    "#_COMMENT_IF(PROD)_\n",
    "q_3.hint()\n",
    "#_COMMENT_IF(PROD)_\n",
    "q_3.solution()"
   ]
  },
  {
   "cell_type": "code",
   "execution_count": 12,
   "id": "close-pride",
   "metadata": {},
   "outputs": [
    {
     "data": {
      "application/javascript": [
       "parent.postMessage({\"jupyterEvent\": \"custom.exercise_interaction\", \"data\": {\"outcomeType\": 2, \"failureMessage\": \"Predictions are incorrect. If your fit and predict methods are correct, try recreating the training data X_1, X_2, and y.\", \"interactionType\": 1, \"questionType\": 2, \"questionId\": \"3_Q3\", \"learnToolsVersion\": \"0.3.4\", \"valueTowardsCompletion\": 0.0, \"exceptionClass\": \"\", \"trace\": \"\"}}, \"*\")"
      ],
      "text/plain": [
       "<IPython.core.display.Javascript object>"
      ]
     },
     "metadata": {},
     "output_type": "display_data"
    },
    {
     "data": {
      "text/markdown": [
       "<span style=\"color:#cc3333\">Incorrect:</span> Predictions are incorrect. If your fit and predict methods are correct, try recreating the training data X_1, X_2, and y."
      ],
      "text/plain": [
       "Incorrect: Predictions are incorrect. If your fit and predict methods are correct, try recreating the training data X_1, X_2, and y."
      ]
     },
     "metadata": {},
     "output_type": "display_data"
    },
    {
     "ename": "AssertionError",
     "evalue": "Expected last outcome to be OutcomeType.PASS, but was OutcomeType.FAIL",
     "output_type": "error",
     "traceback": [
      "\u001b[0;31m---------------------------------------------------------------------------\u001b[0m",
      "\u001b[0;31mAssertionError\u001b[0m                            Traceback (most recent call last)",
      "\u001b[0;32m<ipython-input-12-6f5b22cff9ad>\u001b[0m in \u001b[0;36m<module>\u001b[0;34m\u001b[0m\n\u001b[1;32m     11\u001b[0m \u001b[0my_pred\u001b[0m \u001b[0;34m=\u001b[0m \u001b[0my_pred\u001b[0m\u001b[0;34m.\u001b[0m\u001b[0mclip\u001b[0m\u001b[0;34m(\u001b[0m\u001b[0;36m0.0\u001b[0m\u001b[0;34m)\u001b[0m\u001b[0;34m\u001b[0m\u001b[0;34m\u001b[0m\u001b[0m\n\u001b[1;32m     12\u001b[0m \u001b[0;34m\u001b[0m\u001b[0m\n\u001b[0;32m---> 13\u001b[0;31m \u001b[0mq_3\u001b[0m\u001b[0;34m.\u001b[0m\u001b[0massert_check_passed\u001b[0m\u001b[0;34m(\u001b[0m\u001b[0;34m)\u001b[0m\u001b[0;34m\u001b[0m\u001b[0;34m\u001b[0m\u001b[0m\n\u001b[0m",
      "\u001b[0;32m/home/jupyter/learntools/learntools/core/problem_view.py\u001b[0m in \u001b[0;36massert_check_passed\u001b[0;34m(self)\u001b[0m\n\u001b[1;32m    179\u001b[0m \u001b[0;34m\u001b[0m\u001b[0m\n\u001b[1;32m    180\u001b[0m     \u001b[0;32mdef\u001b[0m \u001b[0massert_check_passed\u001b[0m\u001b[0;34m(\u001b[0m\u001b[0mself\u001b[0m\u001b[0;34m)\u001b[0m\u001b[0;34m:\u001b[0m\u001b[0;34m\u001b[0m\u001b[0;34m\u001b[0m\u001b[0m\n\u001b[0;32m--> 181\u001b[0;31m         \u001b[0mself\u001b[0m\u001b[0;34m.\u001b[0m\u001b[0m_assert_last_outcome\u001b[0m\u001b[0;34m(\u001b[0m\u001b[0mtracking\u001b[0m\u001b[0;34m.\u001b[0m\u001b[0mOutcomeType\u001b[0m\u001b[0;34m.\u001b[0m\u001b[0mPASS\u001b[0m\u001b[0;34m)\u001b[0m\u001b[0;34m\u001b[0m\u001b[0;34m\u001b[0m\u001b[0m\n\u001b[0m",
      "\u001b[0;32m/home/jupyter/learntools/learntools/core/problem_view.py\u001b[0m in \u001b[0;36m_assert_last_outcome\u001b[0;34m(self, outcome)\u001b[0m\n\u001b[1;32m    170\u001b[0m         \u001b[0mself\u001b[0m\u001b[0;34m.\u001b[0m\u001b[0mcheck\u001b[0m\u001b[0;34m(\u001b[0m\u001b[0;34m)\u001b[0m\u001b[0;34m\u001b[0m\u001b[0;34m\u001b[0m\u001b[0m\n\u001b[1;32m    171\u001b[0m         assert self._last_outcome == outcome, (\"Expected last outcome to be {}, but was {}\".format(\n\u001b[0;32m--> 172\u001b[0;31m             outcome, self._last_outcome))\n\u001b[0m\u001b[1;32m    173\u001b[0m \u001b[0;34m\u001b[0m\u001b[0m\n\u001b[1;32m    174\u001b[0m     \u001b[0;32mdef\u001b[0m \u001b[0massert_check_unattempted\u001b[0m\u001b[0;34m(\u001b[0m\u001b[0mself\u001b[0m\u001b[0;34m)\u001b[0m\u001b[0;34m:\u001b[0m\u001b[0;34m\u001b[0m\u001b[0;34m\u001b[0m\u001b[0m\n",
      "\u001b[0;31mAssertionError\u001b[0m: Expected last outcome to be OutcomeType.PASS, but was OutcomeType.FAIL"
     ]
    }
   ],
   "source": [
    "#%%RM_IF(PROD)%%\n",
    "\n",
    "# Create model\n",
    "model = BoostedHybrid(\n",
    "    model_1=LinearRegression(),\n",
    "    model_2=XGBRegressor(),\n",
    ")\n",
    "model.fit(X_1, X_2, y)\n",
    "\n",
    "y_pred = model.predict(X_1, X_2)\n",
    "y_pred = y_pred.clip(0.0)\n",
    "\n",
    "q_3.assert_check_passed()"
   ]
  },
  {
   "cell_type": "markdown",
   "id": "promotional-appointment",
   "metadata": {},
   "source": [
    "-------------------------------------------------------------------------------"
   ]
  },
  {
   "cell_type": "code",
   "execution_count": null,
   "id": "involved-concept",
   "metadata": {},
   "outputs": [],
   "source": [
    "# Model 1 (trend)\n",
    "from pyearth import Earth\n",
    "from sklearn.linear_model import ElasticNet, Lasso, Ridge\n",
    "\n",
    "# Model 2\n",
    "from sklearn.ensemble import ExtraTreesRegressor, RandomForestRegressor\n",
    "from sklearn.neighbors import KNeighborsRegressor\n",
    "from sklearn.neural_network import MLPRegressor\n",
    "\n",
    "# Boosted Hybrid\n",
    "model = BoostedHybrid(\n",
    "    model_1=Ridge(),\n",
    "    model_2=KNeighborsRegressor(),\n",
    ")"
   ]
  },
  {
   "cell_type": "markdown",
   "id": "surprising-malaysia",
   "metadata": {},
   "source": [
    "These are just some suggestions. You might discover other algorithms you like in the scikit-learn [User Guide](https://scikit-learn.org/stable/supervised_learning.html).\n",
    "\n",
    "Use the code in this cell to see the predictions your hybrid makes."
   ]
  },
  {
   "cell_type": "code",
   "execution_count": null,
   "id": "russian-virgin",
   "metadata": {},
   "outputs": [],
   "source": [
    "y_train, y_valid = y[:\"2017-07-01\"], y[\"2017-07-02\":]\n",
    "X1_train, X1_valid = X_1[: \"2017-07-01\"], X_1[\"2017-07-02\" :]\n",
    "X2_train, X2_valid = X_2.loc[:\"2017-07-01\"], X_2.loc[\"2017-07-02\":]\n",
    "\n",
    "# Some of the algorithms above do best with certain kinds of\n",
    "# preprocessing on the features (like standardization), but this is\n",
    "# just a demo.\n",
    "model.fit(X1_train, X2_train, y_train)\n",
    "y_fit = model.predict(X1_train, X2_train).clip(0.0)\n",
    "y_pred = model.predict(X1_valid, X2_valid).clip(0.0)\n",
    "\n",
    "families = y.columns[0:6]\n",
    "axs = y.loc(axis=1)[families].plot(\n",
    "    subplots=True, sharex=True, figsize=(11, 9), **plot_params, alpha=0.5,\n",
    ")\n",
    "_ = y_fit.loc(axis=1)[families].plot(subplots=True, sharex=True, color='C0', ax=axs)\n",
    "_ = y_pred.loc(axis=1)[families].plot(subplots=True, sharex=True, color='C3', ax=axs)\n",
    "for ax, family in zip(axs, families):\n",
    "    ax.legend([])\n",
    "    ax.set_ylabel(family)"
   ]
  },
  {
   "cell_type": "markdown",
   "id": "ambient-andorra",
   "metadata": {},
   "source": [
    "# 4) Fit with different learning algorithms\n",
    "\n",
    "Once you're ready to move on, run the next cell for credit on this question."
   ]
  },
  {
   "cell_type": "code",
   "execution_count": null,
   "id": "contemporary-infrastructure",
   "metadata": {},
   "outputs": [],
   "source": [
    "# View the solution (Run this cell to receive credit!)\n",
    "q_4.check()"
   ]
  },
  {
   "cell_type": "markdown",
   "id": "cellular-belief",
   "metadata": {},
   "source": [
    "# (Optional) Create a stacked hybrid\n",
    "\n"
   ]
  },
  {
   "cell_type": "code",
   "execution_count": null,
   "id": "tamil-niger",
   "metadata": {
    "lines_to_next_cell": 2
   },
   "outputs": [],
   "source": []
  },
  {
   "cell_type": "markdown",
   "id": "nuclear-review",
   "metadata": {},
   "source": [
    "-------------------------------------------------------------------------------"
   ]
  },
  {
   "cell_type": "markdown",
   "id": "intensive-charity",
   "metadata": {},
   "source": [
    "# Keep Going #"
   ]
  }
 ],
 "metadata": {
  "jupytext": {
   "cell_metadata_filter": "-all",
   "formats": "ipynb,md"
  },
  "kernelspec": {
   "display_name": "Python 3",
   "language": "python",
   "name": "python3"
  },
  "language_info": {
   "codemirror_mode": {
    "name": "ipython",
    "version": 3
   },
   "file_extension": ".py",
   "mimetype": "text/x-python",
   "name": "python",
   "nbconvert_exporter": "python",
   "pygments_lexer": "ipython3",
   "version": "3.7.10"
  }
 },
 "nbformat": 4,
 "nbformat_minor": 5
}
