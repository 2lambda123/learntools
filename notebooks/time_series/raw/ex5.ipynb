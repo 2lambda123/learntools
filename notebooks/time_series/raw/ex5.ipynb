{
 "cells": [
  {
   "cell_type": "markdown",
   "id": "martial-procurement",
   "metadata": {},
   "source": [
    "# Introduction #\n",
    "\n",
    "Run this cell to set everything up!"
   ]
  },
  {
   "cell_type": "code",
   "execution_count": null,
   "id": "weekly-growth",
   "metadata": {},
   "outputs": [],
   "source": [
    "# Setup feedback system\n",
    "from learntools.core import binder\n",
    "binder.bind(globals())\n",
    "from learntools.time_series.ex5 import *\n",
    "\n",
    "# Setup notebook\n",
    "import warnings\n",
    "from pathlib import Path\n",
    "\n",
    "import pandas as pd\n",
    "import matplotlib.pyplot as plt\n",
    "import numpy as np\n",
    "import seaborn as sns\n",
    "from sklearn.linear_model import LinearRegression\n",
    "from sklearn.metrics import mean_squared_log_error\n",
    "from sklearn.model_selection import train_test_split\n",
    "from statsmodels.graphics.tsaplots import plot_pacf\n",
    "from statsmodels.tsa.deterministic import CalendarFourier, DeterministicProcess\n",
    "from statsmodels.tsa.tsatools import lagmat\n",
    "from xgboost import XGBRegressor\n",
    "\n",
    "warnings.simplefilter(\"ignore\")\n",
    "\n",
    "plt.style.use(\"seaborn-whitegrid\")\n",
    "plt.rc(\n",
    "    \"figure\",\n",
    "    autolayout=True,\n",
    "    figsize=(11, 4),\n",
    "    titlesize=18,\n",
    "    titleweight='bold',\n",
    ")\n",
    "plt.rc(\n",
    "    \"axes\",\n",
    "    labelweight=\"bold\",\n",
    "    labelsize=\"large\",\n",
    "    titleweight=\"bold\",\n",
    "    titlesize=16,\n",
    "    titlepad=10,\n",
    ")\n",
    "plot_params = dict(\n",
    "    color=\"0.75\",\n",
    "    style=\".-\",\n",
    "    markeredgecolor=\"0.25\",\n",
    "    markerfacecolor=\"0.25\",\n",
    "    legend=False,\n",
    ")\n",
    "%config InlineBackend.figure_format = 'retina'\n",
    "\n",
    "comp_dir = Path('../input/store-sales-time-series-forecasting')\n",
    "data_dir = Path(\"../input/ts-course-data\")\n",
    "\n",
    "store_sales = pd.read_csv(\n",
    "    comp_dir / 'train.csv',\n",
    "    usecols=['store_nbr', 'family', 'date', 'sales', 'onpromotion'],\n",
    "    dtype={\n",
    "        'store_nbr': 'category',\n",
    "        'family': 'category',\n",
    "        'sales': 'float32',\n",
    "    },\n",
    "    parse_dates=['date'],\n",
    "    infer_datetime_format=True,\n",
    ")\n",
    "store_sales['date'] = store_sales.date.dt.to_period('D')\n",
    "store_sales = store_sales.set_index(['store_nbr', 'family', 'date']).sort_index()\n",
    "\n",
    "family_sales = (\n",
    "    store_sales\n",
    "    .groupby(['family', 'date'])\n",
    "    .mean()\n",
    "    .unstack('family')\n",
    "    .loc['2017']\n",
    ")\n",
    "\n",
    "mean_sales = store_sales.groupby('date').mean().loc[:, 'sales'].to_timestamp()"
   ]
  },
  {
   "cell_type": "markdown",
   "id": "marked-advantage",
   "metadata": {},
   "source": [
    "-------------------------------------------------------------------------------\n",
    "\n",
    "- make boosted hybrid :: on families?\n",
    "- (opt) trends as features :: \n",
    "- (opt) extrapolating variation"
   ]
  },
  {
   "cell_type": "markdown",
   "id": "limited-comedy",
   "metadata": {},
   "source": [
    "-------------------------------------------------------------------------------\n",
    "\n",
    "The `STL` estimator from `statsmodels` library decomposes time series using a sort of \"moving regression\". It can be useful as a data exploration tool. One limitation is that it can't create separate cyclic components but will often include cycles in the trend.\n",
    "\n",
    "Run the next cell to see a season-trend decomposition of the average sales from the *Store Sales* collection."
   ]
  },
  {
   "cell_type": "code",
   "execution_count": null,
   "id": "sporting-advocacy",
   "metadata": {},
   "outputs": [],
   "source": [
    "from statsmodels.tsa.seasonal import STL\n",
    "\n",
    "res = STL(\n",
    "    mean_sales['2016':],  # try different years, if you like\n",
    "    period=28,  # the length of a season\n",
    ").fit()\n",
    "fig = res.plot()\n",
    "fig.set_size_inches(11, 7);"
   ]
  },
  {
   "cell_type": "markdown",
   "id": "robust-recognition",
   "metadata": {},
   "source": [
    "# 1) Examine season-trend decomposition\n",
    "\n",
    "What patterns do you see in this decomposition? Does it appear that the **Trend** component contains seasons or cycles? Do the residuals seem like random noise, or can you detect any patterns?\n",
    "\n",
    "After you've thought about your answer, run this cell for some discussion."
   ]
  },
  {
   "cell_type": "code",
   "execution_count": null,
   "id": "sophisticated-manchester",
   "metadata": {},
   "outputs": [],
   "source": [
    "# View the solution (Run this cell to receive credit!)\n",
    "q_1.check()"
   ]
  },
  {
   "cell_type": "markdown",
   "id": "theoretical-lobby",
   "metadata": {},
   "source": [
    "-------------------------------------------------------------------------------\n",
    "\n",
    "In the tutorial we saw how to pivot a dataset from long format to wide format. Pivoting can create multiple levels of indexes or columns, a `MultiIndex`. You can select from a `MultiIndex` by specifying the axis that you want in `loc`:\n",
    "\n",
    "```\n",
    "# Select BuildingMaterials in 1992 (long format)\n",
    "X.loc(axis=0)['1992', 'BuildingMaterials']\n",
    "\n",
    "# Select Sales of BuildingMaterials (wide format)\n",
    "X.loc(axis=1)['Sales', 'BuildingMaterials']\n",
    "```\n",
    "\n",
    "We'll work with the full *Store Sales* dataset for this question. Run the next cell to take a look. You can see that we're starting with the dataset in long format, with time series indexed by `store_nbr` and `family` along rows."
   ]
  },
  {
   "cell_type": "code",
   "execution_count": null,
   "id": "regular-rainbow",
   "metadata": {},
   "outputs": [],
   "source": [
    "store_sales"
   ]
  },
  {
   "cell_type": "markdown",
   "id": "integrated-columbus",
   "metadata": {},
   "source": [
    "# 2) Use MultiIndexes\n",
    "\n",
    "Perform the operations indicated in the following cell. The `store_nbr` feature is encoded as a `CategoricalDtype` for efficiency so be sure to use quotes (Yes: '10' / No: 10)."
   ]
  },
  {
   "cell_type": "code",
   "execution_count": null,
   "id": "dominant-compound",
   "metadata": {},
   "outputs": [],
   "source": [
    "# YOUR CODE HERE: Select family 'CELEBRATION' from store '4' in '2016' (long format)\n",
    "#_UNCOMMENT_IF(PROD)_\n",
    "#answer1 = store_sales.loc(axis=0)['4', ____, ____]\n",
    "\n",
    "store_sales_wide = store_sales.unstack(['store_nbr', 'family'])  # pivot long to wide\n",
    "\n",
    "# YOUR CODE HERE: Select 'sales' of 'BOOKS' from store '21'  (wide format)\n",
    "#_UNCOMMENT_IF(PROD)_\n",
    "#answer2 = store_sales_wide.loc(axis=____)['sales', ____, ____]\n",
    "\n",
    "\n",
    "# Check your answer\n",
    "q_2.check()"
   ]
  },
  {
   "cell_type": "code",
   "execution_count": null,
   "id": "isolated-florida",
   "metadata": {},
   "outputs": [],
   "source": [
    "# Lines below will give you a hint or solution code\n",
    "#_COMMENT_IF(PROD)_\n",
    "q_2.hint()\n",
    "#_COMMENT_IF(PROD)_\n",
    "q_2.solution()"
   ]
  },
  {
   "cell_type": "code",
   "execution_count": null,
   "id": "nearby-growing",
   "metadata": {},
   "outputs": [],
   "source": [
    "#%%RM_IF(PROD)%%\n",
    "answer1 = store_sales.loc(axis=0)['4', 'AUTOMOTIVE', '2016']\n",
    "store_sales_wide = store_sales.unstack(['store_nbr', 'family'])\n",
    "answer2 = store_sales_wide.loc(axis=1)['sales', '21', 'BOOKS']\n",
    "\n",
    "q_2.assert_check_passed()"
   ]
  },
  {
   "cell_type": "markdown",
   "id": "exclusive-peripheral",
   "metadata": {},
   "source": [
    "----------\n",
    "\n",
    "In the next question, you'll create a boosted hybrid for the *Store Sales* dataset.\n",
    "\n",
    "Run this cell to create the trend model for the first stage of the hybrid. This code follows the standard procedure you learned in Lesson 2."
   ]
  },
  {
   "cell_type": "code",
   "execution_count": null,
   "id": "naughty-debate",
   "metadata": {},
   "outputs": [],
   "source": [
    "# Get target series\n",
    "y = family_sales.loc[:, 'sales']\n",
    "\n",
    "# Create trend features\n",
    "dp = DeterministicProcess(index=y.index, order=1)\n",
    "X = dp.in_sample()\n",
    "\n",
    "# Fit trend model\n",
    "model = LinearRegression()\n",
    "model.fit(X_train, y_train)\n",
    "\n",
    "# Make predictions\n",
    "y_fit = pd.DataFrame(\n",
    "    model.predict(X_train),\n",
    "    index=y_train.index,\n",
    "    columns=y_train.columns,\n",
    ")"
   ]
  },
  {
   "cell_type": "markdown",
   "id": "discrete-image",
   "metadata": {},
   "source": [
    "And now run this cell to prepare the data for XGBoost."
   ]
  },
  {
   "cell_type": "code",
   "execution_count": null,
   "id": "active-referral",
   "metadata": {},
   "outputs": [],
   "source": [
    "y_fit = y_fit.stack().squeeze()  # wide to long\n",
    "\n",
    "X = family_sales.stack()  # wide to long\n",
    "y = X.pop('sales')  # grab target series\n",
    "\n",
    "# Label encoding for 'family' feature\n",
    "X = X.reset_index('family')\n",
    "for colname in X.select_dtypes([\"object\", \"category\"]):\n",
    "    X[colname], _ = X[colname].factorize()\n",
    "\n",
    "# Label encoding for seasonality\n",
    "X[\"day\"] = X.index.day  # values are day of the month"
   ]
  },
  {
   "cell_type": "markdown",
   "id": "norman-words",
   "metadata": {},
   "source": [
    "# 3) Create a boosted hybrid\n",
    "\n",
    "Modify the following code to train XGBoost on the residuals of the trend model and create the final predictions."
   ]
  },
  {
   "cell_type": "code",
   "execution_count": null,
   "id": "material-hygiene",
   "metadata": {},
   "outputs": [],
   "source": [
    "# YOUR CODE HERE: Create residuals (the collection of detrended\n",
    "# series) from the training set.\n",
    "y_resid = ____\n",
    "\n",
    "# Train XGBoost on the residuals\n",
    "xgb = XGBRegressor(random_state=0)\n",
    "#_UNCOMMENT_IF(PROD)_\n",
    "#xgb.fit(X_train, y_resid)\n",
    "\n",
    "# YOUR CODE HERE: Add the predicted residuals onto the predicted trends\n",
    "y_fit_boosted = ____\n",
    "\n",
    "# Ensure non-negative\n",
    "#_UNCOMMENT_IF(PROD)_\n",
    "#y_fit_boosted = y_fit_boosted.clip(0.0)\n",
    "\n",
    "\n",
    "# Check your answer\n",
    "q_3.check()"
   ]
  },
  {
   "cell_type": "code",
   "execution_count": null,
   "id": "mexican-basis",
   "metadata": {},
   "outputs": [],
   "source": [
    "# Lines below will give you a hint or solution code\n",
    "#_COMMENT_IF(PROD)_\n",
    "q_3.hint()\n",
    "#_COMMENT_IF(PROD)_\n",
    "q_3.solution()"
   ]
  },
  {
   "cell_type": "code",
   "execution_count": null,
   "id": "vietnamese-exclusive",
   "metadata": {},
   "outputs": [],
   "source": [
    "#%%RM_IF(PROD)%%\n",
    "# Create residuals (the collection of detrended series) from the training set\n",
    "y_resid = y_train - y_fit\n",
    "\n",
    "# Train XGBoost on the residuals\n",
    "xgb = XGBRegressor(n_estimators=1000, max_depth=10, learning_rate=1e-1)\n",
    "xgb.fit(X_train, y_resid)\n",
    "\n",
    "# Add the predicted residuals onto the predicted trends\n",
    "y_fit_boosted = xgb.predict(X_train) + y_fit\n",
    "# Ensure non-negative\n",
    "y_fit_boosted = y_fit_boosted.clip(0.0)\n",
    "\n",
    "q_3.assert_check_passed()"
   ]
  },
  {
   "cell_type": "markdown",
   "id": "waiting-kingdom",
   "metadata": {},
   "source": [
    "----------\n",
    "\n",
    "Winners of Kaggle forecasting competitions have often included moving averages and other rolling statistics in their feature sets. Such features seem to be especially useful when used with GBDT algorithms like XGBoost.\n",
    "\n",
    "In Lesson 2 you learned how to compute moving averages to estimate trends. Computing rolling statistics to be used as features is similar except we need to take care to avoid lookahead leakage. First, the result should be set at the right end of the window instead of the center -- that is, we should use `center=False` (the default) in the `rolling` method. Second, the target should be lagged a step.\n",
    "\n",
    "# 4) Feature engineering for XGBoost\n",
    "\n",
    "Edit the code in the next cell to create the following features:\n",
    "- 14-day rolling median (`median`) of lagged target\n",
    "- 7-day rolling standard deviation (`std`) of lagged target\n",
    "- 7-day sum (`sum`) of items \"on promotion\", with centered window"
   ]
  },
  {
   "cell_type": "code",
   "execution_count": null,
   "id": "genuine-boost",
   "metadata": {},
   "outputs": [],
   "source": [
    "y_lag = family_sales.loc[:, 'sales'].shift(1)  # lagged target\n",
    "onpromo = family_sales.loc[:, 'onpromotion']  # items on promotion\n",
    "\n",
    "# Statistical features\n",
    "X_stats = pd.concat({\n",
    "    # 28-day mean of lagged target\n",
    "    'mean_7': y_lag.rolling(7).mean(),\n",
    "    # YOUR CODE HERE: Edit to create the rolling statistic\n",
    "    # 14-day median of lagged target\n",
    "#_UNCOMMENT_IF(PROD)_\n",
    "#    'median_14': ____,\n",
    "    # 7-day rolling standard deviation of lagged target\n",
    "#_UNCOMMENT_IF(PROD)_\n",
    "#    'std_7': ____,\n",
    "    # 7-day sum of promotions with centered window\n",
    "#_UNCOMMENT_IF(PROD)_\n",
    "#    'promo_7': ____,\n",
    "}, axis=1).stack()\n",
    "\n",
    "\n",
    "X = family_sales.stack()  # wide to long\n",
    "y = X.pop('sales')  # grab target series\n",
    "X = pd.concat([X, X_stats], axis=1)  # join features\n",
    "\n",
    "\n",
    "# Check your answer\n",
    "q_5.check()"
   ]
  },
  {
   "cell_type": "code",
   "execution_count": null,
   "id": "nervous-highlight",
   "metadata": {},
   "outputs": [],
   "source": [
    "# Lines below will give you a hint or solution code\n",
    "#_COMMENT_IF(PROD)_\n",
    "q_5.hint()\n",
    "#_COMMENT_IF(PROD)_\n",
    "q_5.solution()"
   ]
  },
  {
   "cell_type": "code",
   "execution_count": null,
   "id": "banner-wyoming",
   "metadata": {},
   "outputs": [],
   "source": [
    "#%%RM_IF(PROD)%%\n",
    "y_lag = family_sales.loc[:, 'sales'].shift(1)\n",
    "onpromo = family_sales.loc[:, 'onpromotion']\n",
    "\n",
    "X_stats = pd.concat({\n",
    "    'mean_7': y_lag.rolling(7).mean(),\n",
    "    'median_14': y_lag.rolling(14).median(),\n",
    "    'std_7': y_lag.rolling(7).std(),\n",
    "    'promo_7': onpromo.rolling(7, center=True).sum(),\n",
    "}, axis=1).stack()\n",
    "\n",
    "\n",
    "X = family_sales.stack()\n",
    "y = X.pop('sales')\n",
    "X = pd.concat([X, X_stats], axis=1)\n",
    "\n",
    "q_5.assert_check_passed()"
   ]
  },
  {
   "cell_type": "markdown",
   "id": "collected-stick",
   "metadata": {},
   "source": [
    "Check out the Pandas [`Window` documentation](https://pandas.pydata.org/pandas-docs/stable/reference/window.html) for more statistics you can compute. Also try \"exponential weighted\" windows by using `ewm` in place of `rolling`; exponential decay is often a more realistic representation of how effects propagate over time.\n",
    "\n",
    "----------\n",
    "\n",
    "# (Optional) Create a stacked hybrid\n",
    "\n"
   ]
  },
  {
   "cell_type": "code",
   "execution_count": null,
   "id": "clinical-navigation",
   "metadata": {
    "lines_to_next_cell": 2
   },
   "outputs": [],
   "source": []
  },
  {
   "cell_type": "markdown",
   "id": "distributed-correspondence",
   "metadata": {},
   "source": [
    "-------------------------------------------------------------------------------"
   ]
  },
  {
   "cell_type": "markdown",
   "id": "durable-lodging",
   "metadata": {},
   "source": [
    "# Keep Going #"
   ]
  }
 ],
 "metadata": {
  "jupytext": {
   "cell_metadata_filter": "-all",
   "formats": "ipynb,md"
  },
  "kernelspec": {
   "display_name": "Python 3",
   "language": "python",
   "name": "python3"
  },
  "language_info": {
   "codemirror_mode": {
    "name": "ipython",
    "version": 3
   },
   "file_extension": ".py",
   "mimetype": "text/x-python",
   "name": "python",
   "nbconvert_exporter": "python",
   "pygments_lexer": "ipython3",
   "version": "3.6.5"
  }
 },
 "nbformat": 4,
 "nbformat_minor": 5
}
