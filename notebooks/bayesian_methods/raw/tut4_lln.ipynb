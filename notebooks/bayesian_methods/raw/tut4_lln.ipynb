{
 "cells": [
  {
   "cell_type": "markdown",
   "metadata": {},
   "source": [
    "```\n",
    "Original content created by Cam Davidson-Pilon\n",
    "\n",
    "Ported to Python 3 and PyMC3 by Max Margenot (@clean_utensils) and Thomas Wiecki (@twiecki) at Quantopian (@quantopian)\n",
    "\n",
    "Adapted to Kaggle Learn by Dan Becker\n",
    "```\n",
    "______\n",
    "\n",
    "## The greatest theorem never told\n",
    "\n",
    "\n",
    "This chapter focuses on an idea that is always bouncing around our minds, but is rarely made explicit outside books devoted to statistics. In fact, we've been using this simple idea in every example thus far. "
   ]
  },
  {
   "cell_type": "markdown",
   "metadata": {},
   "source": [
    "### The Law of Large Numbers\n",
    "\n",
    "Let $Z_i$ be $N$ independent samples from some probability distribution. According to *the Law of Large numbers*,  so long as the expected value $E[Z]$ is finite, the following holds,\n",
    "\n",
    "$$\\frac{1}{N} \\sum_{i=1}^N Z_i \\rightarrow E[ Z ],  \\;\\;\\; N \\rightarrow \\infty.$$\n",
    "\n",
    "In words:\n",
    "\n",
    ">   The average of a sequence of random variables from the same distribution converges to the expected value of that distribution.\n",
    "\n",
    "This may seem like a boring result, but it will be the most useful tool you use."
   ]
  },
  {
   "cell_type": "markdown",
   "metadata": {},
   "source": [
    "### Intuition \n",
    "\n",
    "If the above Law is somewhat surprising,  it can be made more clear by examining a simple example. \n",
    "\n",
    "Consider a random variable $Z$ that can take only two values, $c_1$ and $c_2$. Suppose we have a large number of samples of $Z$, denoting a specific sample $Z_i$. The Law says that we can approximate the expected value of $Z$ by averaging over all samples. Consider the average:\n",
    "\n",
    "\n",
    "$$ \\frac{1}{N} \\sum_{i=1}^N \\;Z_i $$\n",
    "\n",
    "\n",
    "By construction, $Z_i$ can only take on $c_1$ or $c_2$, hence we can partition the sum over these two values:\n",
    "\n",
    "\\begin{align}\n",
    "\\frac{1}{N} \\sum_{i=1}^N \\;Z_i\n",
    "& =\\frac{1}{N} \\big(  \\sum_{ Z_i = c_1}c_1 + \\sum_{Z_i=c_2}c_2 \\big) \\\\\\\\[5pt]\n",
    "& = c_1 \\sum_{ Z_i = c_1}\\frac{1}{N} + c_2 \\sum_{ Z_i = c_2}\\frac{1}{N} \\\\\\\\[5pt]\n",
    "& = c_1 \\times \\text{ (approximate frequency of $c_1$) } \\\\\\\\ \n",
    "& \\;\\;\\;\\;\\;\\;\\;\\;\\; + c_2 \\times \\text{ (approximate frequency of $c_2$) } \\\\\\\\[5pt]\n",
    "& \\approx c_1 \\times P(Z = c_1) + c_2 \\times P(Z = c_2 ) \\\\\\\\[5pt]\n",
    "& = E[Z]\n",
    "\\end{align}\n",
    "\n",
    "\n",
    "Equality holds in the limit, but we can get closer and closer by using more and more samples in the average. This Law holds for almost *any distribution*, minus some important cases we will encounter later.\n",
    "\n",
    "##### Example\n",
    "____\n",
    "\n",
    "\n",
    "Below is a diagram of the Law of Large numbers in action for three different sequences of Poisson random variables. \n",
    "\n",
    " We sample `sample_size = 100000` Poisson random variables with parameter $\\lambda = 4.5$. (Recall the expected value of a Poisson random variable is equal to its parameter.) We calculate the average for the first $n$ samples, for $n=1$ to `sample_size`. "
   ]
  },
  {
   "cell_type": "code",
   "execution_count": null,
   "metadata": {
    "collapsed": false
   },
   "outputs": [],
   "source": [
    "%matplotlib inline\n",
    "import numpy as np\n",
    "from IPython.core.pylabtools import figsize\n",
    "import matplotlib.pyplot as plt\n",
    "\n",
    "figsize( 12.5, 5 )\n",
    "\n",
    "sample_size = 100000\n",
    "expected_value = lambda_ = 4.5\n",
    "poi = np.random.poisson\n",
    "N_samples = range(1,sample_size,100)\n",
    "\n",
    "for k in range(3):\n",
    "\n",
    "    samples = poi( lambda_, sample_size ) \n",
    "    \n",
    "    partial_average = [ samples[:i].mean() for i in N_samples ]\n",
    "    \n",
    "    plt.plot( N_samples, partial_average, lw=1.5,label=\"average \\\n",
    "of  $n$ samples; seq. %d\"%k)\n",
    "    \n",
    "\n",
    "plt.plot( N_samples, expected_value*np.ones_like( partial_average), \n",
    "    ls = \"--\", label = \"true expected value\", c = \"k\" )\n",
    "\n",
    "plt.ylim( 4.35, 4.65) \n",
    "plt.title( \"Convergence of the average of \\n random variables to its \\\n",
    "expected value\" )\n",
    "plt.ylabel( \"average of $n$ samples\" )\n",
    "plt.xlabel( \"# of samples, $n$\")\n",
    "plt.legend();"
   ]
  },
  {
   "cell_type": "markdown",
   "metadata": {},
   "source": [
    "Looking at the above plot, it is clear that when the sample size is small, there is greater variation in the average (compare how *jagged and jumpy* the average is initially, then *smooths* out). All three paths *approach* the value 4.5, but just flirt with it as $N$ gets large. Mathematicians and statistician have another name for *flirting*: convergence. \n",
    "\n",
    "Another very relevant question we can ask is *how quickly am I converging to the expected value?* Let's plot something new. For a specific $N$, let's do the above trials thousands of times and compute how far away we are from the true expected value, on average. But wait &mdash; *compute on average*? This is simply the law of large numbers again! For example, we are interested in, for a specific $N$, the quantity:\n",
    "\n",
    "$$D(N) = \\sqrt{ \\;E\\left[\\;\\; \\left( \\frac{1}{N}\\sum_{i=1}^NZ_i  - 4.5 \\;\\right)^2 \\;\\;\\right] \\;\\;}$$\n",
    "\n",
    "The above formulae is interpretable as a distance away from the true value (on average), for some $N$. (We take the square root so the dimensions of the above quantity and our random variables are the same). As the above is an expected value, it can be approximated using the law of large numbers: instead of averaging $Z_i$, we calculate the following multiple times and average them:\n",
    "\n",
    "$$ Y_k = \\left( \\;\\frac{1}{N}\\sum_{i=1}^NZ_i  - 4.5 \\; \\right)^2 $$\n",
    "\n",
    "By computing the above many, $N_y$, times (remember, it is random), and averaging them:\n",
    "\n",
    "$$ \\frac{1}{N_Y} \\sum_{k=1}^{N_Y} Y_k \\rightarrow E[ Y_k ] = E\\;\\left[\\;\\; \\left( \\frac{1}{N}\\sum_{i=1}^NZ_i  - 4.5 \\;\\right)^2 \\right]$$\n",
    "\n",
    "Finally, taking the square root:\n",
    "\n",
    "$$ \\sqrt{\\frac{1}{N_Y} \\sum_{k=1}^{N_Y} Y_k} \\approx D(N) $$ "
   ]
  },
  {
   "cell_type": "code",
   "execution_count": null,
   "metadata": {
    "collapsed": false
   },
   "outputs": [],
   "source": [
    "figsize( 12.5, 4)\n",
    "\n",
    "N_Y = 250 #use this many to approximate D(N)\n",
    "N_array = np.arange( 1000, 50000, 2500 ) #use this many samples in the approx. to the variance.\n",
    "D_N_results = np.zeros( len( N_array ) )\n",
    "\n",
    "lambda_ = 4.5 \n",
    "expected_value = lambda_ #for X ~ Poi(lambda) , E[ X ] = lambda\n",
    "\n",
    "def D_N( n ):\n",
    "    \"\"\"\n",
    "    This function approx. D_n, the average variance of using n samples.\n",
    "    \"\"\"\n",
    "    Z = poi( lambda_, (n, N_Y) )\n",
    "    average_Z = Z.mean(axis=0)\n",
    "    return np.sqrt( (  (average_Z - expected_value)**2  ).mean() )\n",
    "    \n",
    "    \n",
    "for i,n in enumerate(N_array):\n",
    "    D_N_results[i] =  D_N(n)\n",
    "\n",
    "\n",
    "plt.xlabel( \"$N$\" )\n",
    "plt.ylabel( \"expected squared-distance from true value\" )\n",
    "plt.plot(N_array, D_N_results, lw = 3, \n",
    "            label=\"expected distance between\\n\\\n",
    "expected value and \\naverage of $N$ random variables.\")\n",
    "plt.plot( N_array, np.sqrt(expected_value)/np.sqrt(N_array), lw = 2, ls = \"--\", \n",
    "        label = r\"$\\frac{\\sqrt{\\lambda}}{\\sqrt{N}}$\" )\n",
    "plt.legend()\n",
    "plt.title( \"How 'fast' is the sample average converging? \" );"
   ]
  },
  {
   "cell_type": "markdown",
   "metadata": {},
   "source": [
    "As expected, the expected distance between our sample average and the actual expected value shrinks as $N$ grows large. But also notice that the *rate* of convergence decreases, that is, we need only 10 000 additional samples to move from 0.020 to 0.015, a difference of 0.005, but *20 000* more samples to again decrease from 0.015  to 0.010, again only a 0.005 decrease.\n",
    "\n",
    "\n",
    "It turns out we can measure this rate of convergence. Above I have plotted a second line, the function $\\sqrt{\\lambda}/\\sqrt{N}$. This was not chosen arbitrarily. In most cases, given a sequence of random variable distributed like $Z$, the rate of convergence to $E[Z]$ of the Law of Large Numbers is \n",
    "\n",
    "$$ \\frac{ \\sqrt{ \\; Var(Z) \\; } }{\\sqrt{N} }$$\n",
    "\n",
    "This is useful to know: for a given large $N$, we know (on average) how far away we are from the estimate. On the other hand, in a Bayesian setting, this can seem like a useless result: Bayesian analysis is OK with uncertainty so what's the *statistical* point of adding extra precise digits? Though drawing samples can be so computationally cheap that having a *larger* $N$ is fine too. \n",
    "\n",
    "### How do we compute $Var(Z)$ though?\n",
    "\n",
    "The variance is simply another expected value that can be approximated! Consider the following, once we have the expected value (by using the Law of Large Numbers to estimate it, denote it $\\mu$), we can estimate the variance:\n",
    "\n",
    "$$ \\frac{1}{N}\\sum_{i=1}^N \\;(Z_i - \\mu)^2 \\rightarrow E[ \\;( Z - \\mu)^2 \\;] = Var( Z )$$\n",
    "\n",
    "### Expected values and probabilities \n",
    "There is an even less explicit relationship between expected value and estimating probabilities. Define the *indicator function*\n",
    "\n",
    "$$\\mathbb{1}_A(x) = \n",
    "\\begin{cases} 1 &  x \\in A \\\\\\\\\n",
    "              0 &  else\n",
    "\\end{cases}\n",
    "$$\n",
    "Then, by the law of large numbers, if we have many samples $X_i$, we can estimate the probability of an event $A$, denoted $P(A)$, by:\n",
    "\n",
    "$$ \\frac{1}{N} \\sum_{i=1}^N \\mathbb{1}_A(X_i) \\rightarrow E[\\mathbb{1}_A(X)] =  P(A) $$\n",
    "\n",
    "Again, this is fairly obvious after a moments thought: the indicator function is only 1 if the event occurs, so we are summing only the times the event occurs and dividing by the total number of trials  (consider how we usually approximate probabilities using frequencies). For example, suppose we wish to estimate the probability that a $Z \\sim Exp(.5)$ is greater than 5, and we have many samples from a $Exp(.5)$ distribution. \n",
    "\n",
    "\n",
    "$$ P( Z > 5 ) =  \\frac{1}{N}\\sum_{i=1}^N \\mathbb{1}_{z > 5 }(Z_i) $$\n"
   ]
  },
  {
   "cell_type": "code",
   "execution_count": null,
   "metadata": {
    "collapsed": false
   },
   "outputs": [],
   "source": [
    "N = 10000\n",
    "print( np.mean( [ np.random.exponential( 0.5 ) > 5 for i in range(N) ] ) )"
   ]
  },
  {
   "cell_type": "markdown",
   "metadata": {},
   "source": [
    "### What does this all have to do with Bayesian statistics? \n",
    "\n",
    "\n",
    "*Point estimates*, to be introduced in the next chapter, in Bayesian inference are computed using expected values. In more analytical Bayesian inference, we would have been required to evaluate complicated expected values represented as multi-dimensional integrals. No longer. If we can sample from the posterior distribution directly, we simply need to evaluate averages. Much easier. If accuracy is a priority, plots like the ones above show how fast you are converging. And if further accuracy is  desired, just take more samples from the posterior. \n",
    "\n",
    "When is enough enough? When can you stop drawing samples from the posterior? That is the practitioners decision, and also dependent on the variance of the samples (recall from above a high variance means the average will converge slower). \n",
    "\n",
    "We also should understand when the Law of Large Numbers fails. As the name implies, and comparing the graphs above for small $N$, the Law is only true for large sample sizes. Without this, the asymptotic result is not reliable. Knowing in what situations the Law fails can give us *confidence in how unconfident we should be*. The next section deals with this issue."
   ]
  },
  {
   "cell_type": "markdown",
   "metadata": {},
   "source": [
    "## The Disorder of Small Numbers\n",
    "\n",
    "The Law of Large Numbers is only valid as $N$ gets *infinitely* large: never truly attainable.  While the law is a powerful tool, it is foolhardy to apply it liberally. Our next example illustrates this.\n",
    "\n",
    "\n",
    "##### Example: Aggregated geographic data\n",
    "\n",
    "\n",
    "Often data comes in aggregated form. For instance, data may be grouped by state, county, or city level. Of course, the population numbers vary per geographic area. If the data is an average of some characteristic of each the geographic areas, we must be conscious of the Law of Large Numbers and how it can *fail* for areas with small populations.\n",
    "\n",
    "We will observe this on a toy dataset. Suppose there are five thousand counties in our dataset. Furthermore,  population number in each state are uniformly distributed between 100 and 1500. The way the population numbers are generated is irrelevant to the discussion, so we do not justify this. We are interested in measuring the average height of individuals per county. Unbeknownst to us, height does **not** vary across county, and each individual, regardless of the county he or she is currently living in, has the same distribution of what their height may be:\n",
    "\n",
    "$$ \\text{height} \\sim \\text{Normal}(150, 15 ) $$\n",
    "\n",
    "We aggregate the individuals at the county level, so we only have data for the *average in the county*. What might our dataset look like?"
   ]
  },
  {
   "cell_type": "code",
   "execution_count": null,
   "metadata": {
    "collapsed": false
   },
   "outputs": [],
   "source": [
    "figsize( 12.5, 4) \n",
    "std_height = 15\n",
    "mean_height = 150\n",
    "\n",
    "n_counties = 5000\n",
    "pop_generator = np.random.randint\n",
    "norm = np.random.normal\n",
    "\n",
    "#generate some artificial population numbers\n",
    "population = pop_generator(100, 1500, n_counties )\n",
    "\n",
    "average_across_county = np.zeros( n_counties )\n",
    "for i in range( n_counties ):\n",
    "    #generate some individuals and take the mean\n",
    "    average_across_county[i] = norm(mean_height, 1./std_height,\n",
    "                                        population[i] ).mean()\n",
    "    \n",
    "#located the counties with the apparently most extreme average heights.\n",
    "i_min = np.argmin( average_across_county )\n",
    "i_max = np.argmax( average_across_county )\n",
    "\n",
    "#plot population size vs. recorded average\n",
    "plt.scatter( population, average_across_county, alpha = 0.5, c=\"#7A68A6\")\n",
    "plt.scatter( [ population[i_min], population[i_max] ], \n",
    "           [average_across_county[i_min], average_across_county[i_max] ],\n",
    "           s = 60, marker = \"o\", facecolors = \"none\",\n",
    "           edgecolors = \"#A60628\", linewidths = 1.5, \n",
    "            label=\"extreme heights\")\n",
    "\n",
    "plt.xlim( 100, 1500 )\n",
    "plt.title( \"Average height vs. County Population\")\n",
    "plt.xlabel(\"County Population\")\n",
    "plt.ylabel(\"Average height in county\")\n",
    "plt.plot( [100, 1500], [150, 150], color = \"k\", label = \"true expected \\\n",
    "height\", ls=\"--\" )\n",
    "plt.legend(scatterpoints = 1);"
   ]
  },
  {
   "cell_type": "markdown",
   "metadata": {},
   "source": [
    "What do we observe? *Without accounting for population sizes* we run the risk of making an enormous inference error: if we ignored population size, we would say that the county with the shortest and tallest individuals have been correctly circled. But this inference is wrong for the following reason. These two counties do *not* necessarily have the most extreme heights. The error results from the calculated average of smaller populations not being a good reflection of the true expected value of the population (which in truth should be $\\mu =150$). The sample size/population size/$N$, whatever you wish to call it,  is simply too small to invoke the Law of Large Numbers effectively. \n",
    "\n",
    "We provide more damning evidence against this inference. Recall the population numbers were uniformly distributed over 100 to 1500. Our intuition should tell us that the counties with the most extreme population heights should also be uniformly spread over 100 to 1500, and certainly independent of the county's population. Not so. Below are the population sizes of the counties with the most extreme heights."
   ]
  },
  {
   "cell_type": "code",
   "execution_count": null,
   "metadata": {
    "collapsed": false
   },
   "outputs": [],
   "source": [
    "print(\"Population sizes of 10 'shortest' counties: \")\n",
    "print(population[ np.argsort( average_across_county )[:10] ], '\\n')\n",
    "print(\"Population sizes of 10 'tallest' counties: \")\n",
    "print(population[ np.argsort( -average_across_county )[:10] ])"
   ]
  },
  {
   "cell_type": "markdown",
   "metadata": {},
   "source": [
    "Not at all uniform over 100 to 1500. This is an absolute failure of the Law of Large Numbers. \n",
    "\n",
    "##### Example:  Kaggle's *U.S. Census Return Rate Challenge*\n",
    "\n",
    "Below is data from the 2010 US census, which partitions populations beyond counties to the level of block groups (which are aggregates of city blocks or equivalents). The dataset is from a Kaggle machine learning competition some colleagues and I participated in. The objective was to predict the census letter mail-back rate of a group block, measured between 0 and 100, using census variables (median income, number of females in the block-group, number of trailer parks, average number of children etc.). Below we plot the census mail-back rate versus block group population:"
   ]
  },
  {
   "cell_type": "code",
   "execution_count": null,
   "metadata": {
    "collapsed": false
   },
   "outputs": [],
   "source": [
    "figsize( 12.5, 6.5 )\n",
    "data = np.genfromtxt( \"../input/bayesian-methods/census_data.csv\", skip_header=1, \n",
    "                        delimiter= \",\")\n",
    "plt.scatter( data[:,1], data[:,0], alpha = 0.5, c=\"#7A68A6\")\n",
    "plt.title(\"Census mail-back rate vs Population\")\n",
    "plt.ylabel(\"Mail-back rate\")\n",
    "plt.xlabel(\"population of block-group\")\n",
    "plt.xlim(-100, 15e3 )\n",
    "plt.ylim( -5, 105)\n",
    "\n",
    "i_min = np.argmin(  data[:,0] )\n",
    "i_max = np.argmax(  data[:,0] )\n",
    " \n",
    "plt.scatter( [ data[i_min,1], data[i_max, 1] ], \n",
    "             [ data[i_min,0],  data[i_max,0] ],\n",
    "             s = 60, marker = \"o\", facecolors = \"none\",\n",
    "             edgecolors = \"#A60628\", linewidths = 1.5, \n",
    "             label=\"most extreme points\")\n",
    "\n",
    "plt.legend(scatterpoints = 1);"
   ]
  },
  {
   "cell_type": "markdown",
   "metadata": {},
   "source": [
    "The above is a classic phenomenon in statistics. I say *classic* referring to the \"shape\" of the scatter plot above. It follows a classic triangular form, that tightens as we increase the sample size (as the Law of Large Numbers becomes more exact). \n",
    "\n",
    "I am perhaps overstressing the point and maybe I should have titled the book *\"You don't have big data problems!\"*, but here again is an example of the trouble with *small datasets*, not big ones. Simply, small datasets cannot be processed using the Law of Large Numbers. Compare with applying the Law without hassle to big datasets (ex. big data). I mentioned earlier that paradoxically big data prediction problems are solved by relatively simple algorithms. The paradox is partially resolved by understanding that the Law of Large Numbers creates solutions that are *stable*, i.e. adding or subtracting a few data points will not affect the solution much. On the other hand, adding or removing data points to a small dataset can create very different results. \n",
    "\n",
    "For further reading on the hidden dangers of the Law of Large Numbers, I would highly recommend the excellent manuscript [The Most Dangerous Equation](http://nsm.uh.edu/~dgraur/niv/TheMostDangerousEquation.pdf). "
   ]
  },
  {
   "cell_type": "markdown",
   "metadata": {},
   "source": [
    "##### Example: How to order Reddit submissions\n",
    "\n",
    "You may have disagreed with the original statement that the Law of Large numbers is known to everyone, but only implicitly in our subconscious decision making. Consider ratings on online products: how often do you trust an average 5-star rating if there is only 1 reviewer? 2 reviewers? 3 reviewers? We implicitly understand that with such few reviewers that the average rating is **not** a good reflection of the true value of the product.\n",
    "\n",
    "This has created flaws in how we sort items, and more generally, how we compare items. Many people have realized that sorting online search results by their rating, whether the objects be books, videos, or online comments, return poor results. Often the seemingly top videos or comments have perfect ratings only from a few enthusiastic fans, and truly more quality videos or comments are hidden in later pages with *falsely-substandard* ratings of around 4.8. How can we correct this?\n",
    "\n",
    "Consider the popular site Reddit (I purposefully did not link to the website as you would never come back). The site hosts links to stories or images, called submissions, for people to comment on. Redditors can vote up or down on each submission (called upvotes and downvotes). Reddit, by default, will sort submissions to a given subreddit by Hot, that is, the submissions that have the most upvotes recently.\n",
    "\n",
    "<img src=\"http://i.imgur.com/3v6bz9f.png\" />\n",
    "\n",
    "\n",
    "How would you determine which submissions are the best? There are a number of ways to achieve this:\n",
    "\n",
    "1. *Popularity*: A submission is considered good if it has many upvotes. A problem with this model is that a submission with hundreds of upvotes, but thousands of downvotes. While being very *popular*, the submission is likely more controversial than best.\n",
    "2. *Difference*: Using the *difference* of upvotes and downvotes. This solves the above problem, but fails when we consider the temporal nature of submission. Depending on when a submission is posted, the website may be experiencing high or low traffic. The difference method will bias the *Top* submissions to be the those made during high traffic periods, which have accumulated more upvotes than submissions that were not so graced, but are not necessarily the best.\n",
    "3. *Time adjusted*:  Consider using Difference divided by the age of the submission. This creates a *rate*, something like *difference per second*, or *per minute*. An immediate counter-example is, if we use per second, a 1 second old submission with 1 upvote would be better than a 100 second old submission with 99 upvotes. One can avoid this by only considering at least t second old submission. But what is a good t value? Does this mean no submission younger than t is good? We end up comparing unstable quantities with stable quantities (young vs. old submissions).\n",
    "3. *Ratio*: Rank submissions by the ratio of upvotes to total number of votes (upvotes plus downvotes). This solves the temporal issue, such that new submissions who score well can be considered Top just as likely as older submissions, provided they have many upvotes to total votes. The problem here is that a submission with a single upvote (ratio = 1.0) will beat a submission with 999 upvotes and 1 downvote (ratio = 0.999), but clearly the latter submission is *more likely* to be better.\n",
    "\n",
    "I used the phrase *more likely* for good reason. It is possible that the former submission, with a single upvote, is in fact a better submission than the later with 999 upvotes. The hesitation to agree with this is because we have not seen the other 999 potential votes the former submission might get. Perhaps it will achieve an additional 999 upvotes and 0 downvotes and be considered better than the latter, though not likely.\n",
    "\n",
    "What we really want is an estimate of the *true upvote ratio*. Note that the true upvote ratio is not the same as the observed upvote ratio: the true upvote ratio is hidden, and we only observe upvotes vs. downvotes (one can think of the true upvote ratio as \"what is the underlying probability someone gives this submission a upvote, versus a downvote\"). So the 999 upvote/1 downvote submission probably has a true upvote ratio close to 1, which we can assert with confidence thanks to the Law of Large Numbers, but on the other hand we are much less certain about the true upvote ratio of the submission with only a single upvote. Sounds like a Bayesian problem to me.\n",
    "\n"
   ]
  },
  {
   "cell_type": "markdown",
   "metadata": {},
   "source": [
    "One way to determine a prior on the upvote ratio is to look at the historical distribution of upvote ratios. This can be accomplished by scraping Reddit's submissions and determining a distribution. There are a few problems with this technique though:\n",
    "\n",
    "1. Skewed data:  The vast majority of submissions have very few votes, hence there will be many submissions with ratios near the extremes (see the \"triangular plot\" in the above Kaggle dataset), effectively skewing our distribution to the extremes. One could try to only use submissions with votes greater than some threshold. Again, problems are encountered. There is a tradeoff between number of submissions available to use and a higher threshold with associated ratio precision. \n",
    "2. Biased data: Reddit is composed of different subpages, called subreddits. Two examples are *r/aww*, which posts pics of cute animals, and *r/politics*. It is very likely that the user behaviour towards submissions of these two subreddits are very different: visitors are likely friendly and affectionate in the former, and would therefore upvote submissions more, compared to the latter, where submissions are likely to be controversial and disagreed upon. Therefore not all submissions are the same. \n",
    "\n",
    "\n",
    "In light of these, I think it is better to use a `Uniform` prior.\n",
    "\n",
    "\n",
    "With our prior in place, we can find the posterior of the true upvote ratio. The Python script `top_showerthoughts_submissions.py` will scrape the best posts from the `showerthoughts` community on Reddit. This is a text-only community so the title of each post *is* the post. Below is the top post as well as some other sample posts:"
   ]
  },
  {
   "cell_type": "code",
   "execution_count": null,
   "metadata": {
    "collapsed": false
   },
   "outputs": [],
   "source": [
    "#adding a number to the end of the %run call will get the ith top post.\n",
    "%run top_showerthoughts_submissions.py 2\n",
    "\n",
    "print(\"Post contents: \\n\")\n",
    "print(top_post)"
   ]
  },
  {
   "cell_type": "code",
   "execution_count": null,
   "metadata": {
    "collapsed": false,
    "scrolled": true
   },
   "outputs": [],
   "source": [
    "\"\"\"\n",
    "contents: an array of the text from the last 100 top submissions to a subreddit\n",
    "votes: a 2d numpy array of upvotes, downvotes for each submission.\n",
    "\"\"\"\n",
    "n_submissions = len(votes)\n",
    "submissions = np.random.randint( n_submissions, size=4)\n",
    "print(\"Some Submissions (out of %d total) \\n-----------\"%n_submissions)\n",
    "for i in submissions:\n",
    "    print('\"' + contents[i] + '\"')\n",
    "    print(\"upvotes/downvotes: \",votes[i,:], \"\\n\")"
   ]
  },
  {
   "cell_type": "markdown",
   "metadata": {},
   "source": [
    " For a given true upvote ratio $p$ and $N$ votes, the number of upvotes will look like a Binomial random variable with parameters $p$ and $N$. (This is because of the equivalence between upvote ratio and probability of upvoting versus downvoting, out of $N$ possible votes/trials). We create a function that performs Bayesian inference on $p$, for a particular submission's upvote/downvote pair."
   ]
  },
  {
   "cell_type": "code",
   "execution_count": null,
   "metadata": {
    "collapsed": false
   },
   "outputs": [],
   "source": [
    "import pymc3 as pm\n",
    "\n",
    "def posterior_upvote_ratio( upvotes, downvotes, samples = 20000):\n",
    "    \"\"\"\n",
    "    This function accepts the number of upvotes and downvotes a particular submission recieved, \n",
    "    and the number of posterior samples to return to the user. Assumes a uniform prior.\n",
    "    \"\"\"\n",
    "    N = upvotes + downvotes\n",
    "    with pm.Model() as model:\n",
    "        upvote_ratio = pm.Uniform(\"upvote_ratio\", 0, 1)\n",
    "        observations = pm.Binomial( \"obs\",  N, upvote_ratio, observed=upvotes)\n",
    "        \n",
    "        trace = pm.sample(samples, step=pm.Metropolis())\n",
    "    \n",
    "    burned_trace = trace[int(samples/4):]\n",
    "    return burned_trace[\"upvote_ratio\"]\n",
    "    "
   ]
  },
  {
   "cell_type": "markdown",
   "metadata": {},
   "source": [
    "Below are the resulting posterior distributions."
   ]
  },
  {
   "cell_type": "code",
   "execution_count": null,
   "metadata": {
    "collapsed": false
   },
   "outputs": [],
   "source": [
    "figsize( 11., 8)\n",
    "posteriors = []\n",
    "colours = [\"#348ABD\", \"#A60628\", \"#7A68A6\", \"#467821\", \"#CF4457\"]\n",
    "for i in range(len(submissions)):\n",
    "    j = submissions[i]\n",
    "    posteriors.append( posterior_upvote_ratio( votes[j, 0], votes[j,1] ) )\n",
    "    plt.hist( posteriors[i], bins = 10, normed = True, alpha = .9, \n",
    "            histtype=\"step\",color = colours[i%5], lw = 3,\n",
    "            label = '(%d up:%d down)\\n%s...'%(votes[j, 0], votes[j,1], contents[j][:50]) )\n",
    "    plt.hist( posteriors[i], bins = 10, normed = True, alpha = .2, \n",
    "            histtype=\"stepfilled\",color = colours[i], lw = 3, )\n",
    "    \n",
    "plt.legend(loc=\"upper left\")\n",
    "plt.xlim( 0, 1)\n",
    "plt.title(\"Posterior distributions of upvote ratios on different submissions\");"
   ]
  },
  {
   "cell_type": "markdown",
   "metadata": {},
   "source": [
    "Some distributions are very tight, others have very long tails (relatively speaking), expressing our uncertainty with what the true upvote ratio might be.\n",
    "\n",
    "### Sorting!\n",
    "\n",
    "We have been ignoring the goal of this exercise: how do we sort the submissions from *best to worst*? Of course, we cannot sort distributions, we must sort scalar numbers. There are many ways to distill a distribution down to a scalar: expressing the distribution through its expected value, or mean, is one way. Choosing the mean is a bad choice though. This is because the mean does not take into account the uncertainty of distributions.\n",
    "\n",
    "I  suggest using the *95% least plausible value*, defined as the value such that there is only a 5% chance the true parameter is lower (think of the lower bound on the 95% credible region). Below are the posterior distributions with the 95% least-plausible value plotted:"
   ]
  },
  {
   "cell_type": "code",
   "execution_count": null,
   "metadata": {
    "collapsed": false
   },
   "outputs": [],
   "source": [
    "N = posteriors[0].shape[0]\n",
    "lower_limits = []\n",
    "\n",
    "for i in range(len(submissions)):\n",
    "    j = submissions[i]\n",
    "    plt.hist( posteriors[i], bins = 20, normed = True, alpha = .9, \n",
    "            histtype=\"step\",color = colours[i], lw = 3,\n",
    "            label = '(%d up:%d down)\\n%s...'%(votes[j, 0], votes[j,1], contents[j][:50]) )\n",
    "    plt.hist( posteriors[i], bins = 20, normed = True, alpha = .2, \n",
    "            histtype=\"stepfilled\",color = colours[i], lw = 3, )\n",
    "    v = np.sort( posteriors[i] )[ int(0.05*N) ]\n",
    "    #plt.vlines( v, 0, 15 , color = \"k\", alpha = 1, linewidths=3 )\n",
    "    plt.vlines( v, 0, 10 , color = colours[i], linestyles = \"--\",  linewidths=3  )\n",
    "    lower_limits.append(v)\n",
    "    plt.legend(loc=\"upper left\")\n",
    "\n",
    "plt.legend(loc=\"upper left\")\n",
    "plt.title(\"Posterior distributions of upvote ratios on different submissions\");\n",
    "order = np.argsort( -np.array( lower_limits ) )\n",
    "print(order, lower_limits)"
   ]
  },
  {
   "cell_type": "markdown",
   "metadata": {},
   "source": [
    "The best submissions, according to our procedure, are the submissions that are *most-likely* to score a high percentage of upvotes. Visually those are the submissions with the 95% least plausible value close to 1.\n",
    "\n",
    "Why is sorting based on this quantity a good idea? By ordering by the 95% least plausible value, we are being the most conservative with what we think is best.  When using the lower-bound of the 95% credible interval, we believe with high certainty that the 'true upvote ratio' is at the very least equal to this value (or greater), thereby ensuring that the best submissions are still on top. Under this ordering, we impose the following very natural properties:\n",
    "\n",
    "1. given two submissions with the same observed upvote ratio, we will assign the submission with more votes as better (since we are more confident it has a higher ratio).\n",
    "2. given two submissions with the same number of votes, we still assign the submission with more upvotes as *better*.\n",
    "\n",
    "### But this is too slow for real-time!\n",
    "\n",
    "I agree, computing the posterior of every submission takes a long time, and by the time you have computed it, likely the data has changed. I delay the mathematics to the appendix, but I suggest using the following formula to compute the lower bound very fast.\n",
    "\n",
    "$$ \\frac{a}{a + b} - 1.65\\sqrt{ \\frac{ab}{ (a+b)^2(a + b +1 ) } }$$\n",
    "\n",
    "where \n",
    "\\begin{align}\n",
    "& a = 1 + u \\\\\\\\\n",
    "& b = 1 + d \\\\\\\\\n",
    "\\end{align}\n",
    "\n",
    "$u$ is the number of upvotes, and $d$ is the number of downvotes. The formula is a shortcut in Bayesian inference, which will be further explained in Chapter 6 when we discuss priors in more detail.\n"
   ]
  },
  {
   "cell_type": "code",
   "execution_count": null,
   "metadata": {
    "collapsed": false
   },
   "outputs": [],
   "source": [
    "def intervals(u,d):\n",
    "    a = 1. + u\n",
    "    b = 1. + d\n",
    "    mu = a/(a+b)\n",
    "    std_err = 1.65*np.sqrt( (a*b)/( (a+b)**2*(a+b+1.) ) )\n",
    "    return ( mu, std_err )\n",
    "\n",
    "print(\"Approximate lower bounds:\")\n",
    "posterior_mean, std_err  = intervals(votes[:,0],votes[:,1])\n",
    "lb = posterior_mean - std_err\n",
    "print(lb)\n",
    "print(\"\\n\")\n",
    "print(\"Top 40 Sorted according to approximate lower bounds:\")\n",
    "print(\"\\n\")\n",
    "order = np.argsort( -lb )\n",
    "ordered_contents = []\n",
    "for i in order[:40]:\n",
    "    ordered_contents.append( contents[i] )\n",
    "    print(votes[i,0], votes[i,1], contents[i])\n",
    "    print(\"-------------\")"
   ]
  },
  {
   "cell_type": "markdown",
   "metadata": {},
   "source": [
    "We can view the ordering visually by plotting the posterior mean and bounds, and sorting by the lower bound. In the plot below, notice that the left error-bar is sorted (as we suggested this is the best way to determine an ordering), so the means, indicated by dots, do not follow any strong pattern. "
   ]
  },
  {
   "cell_type": "code",
   "execution_count": null,
   "metadata": {
    "collapsed": false
   },
   "outputs": [],
   "source": [
    "r_order = order[::-1][-40:]\n",
    "plt.errorbar( posterior_mean[r_order], np.arange( len(r_order) ), \n",
    "               xerr=std_err[r_order], capsize=0, fmt=\"o\",\n",
    "                color = \"#7A68A6\")\n",
    "plt.xlim( 0.3, 1)\n",
    "plt.yticks( np.arange( len(r_order)-1,-1,-1 ), map( lambda x: x[:30].replace(\"\\n\",\"\"), ordered_contents) );"
   ]
  },
  {
   "cell_type": "markdown",
   "metadata": {},
   "source": [
    "In the graphic above, you can see why sorting by mean would be sub-optimal."
   ]
  },
  {
   "cell_type": "markdown",
   "metadata": {},
   "source": [
    "### Extension to Starred rating systems\n",
    "\n",
    "The above procedure works well for upvote-downvotes schemes, but what about systems that use star ratings, e.g. 5 star rating systems. Similar problems apply with simply taking the average: an item with two perfect ratings would beat an item with thousands of perfect ratings, but a single sub-perfect rating. \n",
    "\n",
    "\n",
    "We can consider the upvote-downvote problem above as binary: 0 is a downvote, 1 if an upvote. A $N$-star rating system can be seen as a more continuous version of above, and we can set $n$ stars rewarded is equivalent to rewarding $\\frac{n}{N}$. For example, in a 5-star system, a 2 star rating corresponds to 0.4. A perfect rating is a 1. We can use the same formula as before, but with $a,b$ defined differently:\n",
    "\n",
    "\n",
    "$$ \\frac{a}{a + b} - 1.65\\sqrt{ \\frac{ab}{ (a+b)^2(a + b +1 ) } }$$\n",
    "\n",
    "where \n",
    "\n",
    "\\begin{align}\n",
    "& a = 1 + S \\\\\\\\\n",
    "& b = 1 + N - S \\\\\\\\\n",
    "\\end{align}\n",
    "\n",
    "where $N$ is the number of users who rated, and $S$ is the sum of all the ratings, under the equivalence scheme mentioned above. "
   ]
  },
  {
   "cell_type": "markdown",
   "metadata": {},
   "source": [
    "##### Example: Counting Github stars\n",
    "\n",
    "What is the average number of stars a Github repository has? How would you calculate this? There are over 6 million respositories, so there is more than enough data to invoke the Law of Large numbers. Let's start pulling some data. TODO"
   ]
  },
  {
   "cell_type": "markdown",
   "metadata": {},
   "source": [
    "### Conclusion\n",
    "\n",
    "While the Law of Large Numbers is cool, it is only true so much as its name implies: with large sample sizes only. We have seen how our inference can be affected by not considering *how the data is shaped*. \n",
    "\n",
    "1. By (cheaply) drawing many samples from the posterior distributions, we can ensure that the Law of Large Number applies as we approximate expected values (which we will do in the next chapter).\n",
    "\n",
    "2. Bayesian inference understands that with small sample sizes, we can observe wild randomness. Our posterior distribution will reflect this by being more spread rather than tightly concentrated. Thus, our inference should be correctable.\n",
    "\n",
    "3. There are major implications of not considering the sample size, and trying to sort objects that are unstable leads to pathological orderings. The method provided above solves this problem.\n"
   ]
  },
  {
   "cell_type": "markdown",
   "metadata": {},
   "source": [
    "<style>\n",
    "    img{\n",
    "        max-width:800px}\n",
    "</style>"
   ]
  },
  {
   "cell_type": "markdown",
   "metadata": {},
   "source": [
    "# Your Turn"
   ]
  }
 ],
 "metadata": {
  "anaconda-cloud": {},
  "kernelspec": {
   "display_name": "Python 3",
   "language": "python",
   "name": "python3"
  },
  "language_info": {
   "codemirror_mode": {
    "name": "ipython",
    "version": 3
   },
   "file_extension": ".py",
   "mimetype": "text/x-python",
   "name": "python",
   "nbconvert_exporter": "python",
   "pygments_lexer": "ipython3",
   "version": "3.6.5"
  }
 },
 "nbformat": 4,
 "nbformat_minor": 2
}
