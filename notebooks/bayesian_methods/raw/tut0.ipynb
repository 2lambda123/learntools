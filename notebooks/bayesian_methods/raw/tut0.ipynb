{
 "cells": [
  {
   "cell_type": "markdown",
   "metadata": {},
   "source": [
    "# Why Take This Course\n",
    "\n",
    "Bayesian analysis has huge theoretical advantages over conventional modeling. Most importantly, it provides a very powerful framework for capturing and measuring uncertainty, which is critically important for making real-world decisions from models. But Bayesian methods hadn't taken off until recently because they require a lot of computation (and because model set-up has been hard).\n",
    "\n",
    "We are at a turning point where computational power has become cheap enough to support Bayesian modeling. At the same time, a new class of computational algorithms (called \"variational inference\") is providing speedups of 10X or more for building complex Bayesian models.\n",
    "\n",
    "Lastly, Bayesian model building has required more knowledge than conventional machine learning or statistical modeling. But the software and interfaces are improving.\n",
    "\n",
    "I think this course will prepare you to use a more powerful approach to data science, right as external factors (like computational power) becomes increasingly favorable for this approach. I believe we're on the verge of a Bayesian revolution in data science, and it's still early enough in that revolution for you to put yourself at the front of it.\n",
    "\n",
    "# About This Course\n",
    "\n",
    "This course is unique compared to everything else on Kaggle Learn.\n",
    "\n",
    "1. Other courses are purpose-written for the course. This course is almost entirely based on the book **[Bayesian Methods for Hackers](http://www.amazon.com/Bayesian-Methods-Hackers-Probabilistic-Addison-Wesley/dp/0133902838)** by Cam Davidson-Pilon. It's a fantastic book. So I won't reinvent the wheel. While the tutorials are exactly the book text, I've added interactive exercises and an automated feedback  system to create this course.\n",
    "\n",
    "2. Kaggle Learn generally contains \"micro-courses\". We aim to get you started on your own independent projects as quickly as possible. This course is about twice as long as a typical Learn micro-course. This is partially due to the fact we include everything in the Bayesian Methods book, which is longer than our typical course. We strive for brevity, but feel this longer course is appropriate for this particular material. It's still a faster paced and more applied treatment than most coverage of these topics.\n",
    "\n",
    "3. This course requires more statistical background than anything else on Learn. We'll create a micro-course covering more basic statistical theory to help beginners prepare for this course. But we don't have that yet. Fortunately, you'll be able to tell if the course is for you from the first few minutes of reading.\n",
    "\n",
    "# Using This Course Well\n",
    "\n",
    "In general, most people learn best when **actively** pondering and using their new ideas, rather than just passively reading. If you understand the key ideas from this course and experiment them in a personal project, your long term success is nearly assured. Conversely, if you read each line carefully but don't finish the course or don't subsequently use apply these new ideas, the course won't be very impactful.\n",
    "\n",
    "To ensure you have the successful outcome:\n",
    "\n",
    "1. Do the interactive exercises. They will build your confidence, and consolidate your knowledge into something you can reuse in the future. As an added bonus, the exercises are quick and fun.\n",
    "2. The tutorials have a lot of visualization code to make explanatory graphics. Visualization and matplotlib aren't the purpose of this course. Feel free to skip over the code used to make visualizations, so you can keep making progress on the key concepts and Bayesian Methods.\n",
    "3. If you have any questions, post them in the [Learn Discussion Forum](https://www.kaggle.com/learn-forum).\n",
    "\n"
   ]
  },
  {
   "cell_type": "markdown",
   "metadata": {},
   "source": [
    "# Keep Going"
   ]
  }
 ],
 "metadata": {
  "anaconda-cloud": {},
  "kernelspec": {
   "display_name": "Python 3",
   "language": "python",
   "name": "python3"
  },
  "language_info": {
   "codemirror_mode": {
    "name": "ipython",
    "version": 3
   },
   "file_extension": ".py",
   "mimetype": "text/x-python",
   "name": "python",
   "nbconvert_exporter": "python",
   "pygments_lexer": "ipython3",
   "version": "3.6.7"
  }
 },
 "nbformat": 4,
 "nbformat_minor": 2
}
