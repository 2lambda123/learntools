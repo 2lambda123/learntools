{
 "cells": [
  {
   "cell_type": "markdown",
   "metadata": {},
   "source": [
    "# Introduction\n",
    "\n",
    "Even if you're new to Connect Four, you've likely developed several game-playing strategies.  In this tutorial, you'll learn to use a **heuristic** to share your knowledge with the agent.  \n",
    "\n",
    "# Game trees\n",
    "\n",
    "As a human player, how do you think about how to play the game?  How do you weigh alternative moves?\n",
    "\n",
    "You likely do a bit of forecasting.  For each potential move, you predict what your opponent is likely to do in response, along with how you'd then respond, and what the opponent is likely to do then, and so on.  Then, you choose the move where you think you're most likely to win.\n",
    "\n",
    "We can formalize this idea and represent all possible outcomes in a **(complete) game tree**.  \n",
    "\n",
    "<center>\n",
    "<img src=\"https://i.imgur.com/EZKHxyy.png\"><br/>\n",
    "</center>\n",
    "\n",
    "The game tree represents each possible move (by player and opponent), starting with an empty board.  Then, the first row shows all possible moves the red player can make.  Next, we record each move the yellow player can make in response, and so on, until each branch reaches the end of the game.  (_The game tree for Connect Four is quite large, so we show only a small preview in the image above_.)\n",
    "\n",
    "Once we can see every way the game can possibly end, it can help us to pick the move where we are most likely to win.\n",
    "\n",
    "# Heuristics\n",
    "\n",
    "The complete game tree for Connect Four has over [4 trillion](https://oeis.org/A212693) different boards!  So in practice, our agent can only work with a small subset when planning a move. \n",
    "\n",
    "To make sure the incomplete tree is still useful to the agent, we will use a **heuristic** (or **heuristic function**).  The heuristic assigns scores to different game boards, where we estimate that boards with higher scores are more likely to result in the agent winning the game.  You will design the heuristic based on your knowledge of the game.\n",
    "\n",
    "For instance, one heuristic that might work reasonably well for Connect Four looks at each grid position of four spots in a (horizontal, vertical, or diagonal) line and assigns:\n",
    "- **100 points** if the agent has four discs in a row (the agent won), \n",
    "- **1 point** if the agent filled three spots, and the remaining spot is empty (the agent wins if it fills in the empty spot), \n",
    "- **-10 points** if the opponent filled three spots, and the remaining spot is empty (the opponent wins by filling in the empty spot), and\n",
    "- **-100 points** if the opponent has four discs in a row (the opponent won).\n",
    "\n",
    "This is also represented in the image below.\n",
    "\n",
    "<center>\n",
    "<img src=\"https://i.imgur.com/UlUYhgr.png\" width=50%><br/>\n",
    "</center>\n",
    "\n",
    "So, how exactly will the agent use the heuristic?  Consider it's the agent's turn, and it's trying to plan a move for the game board shown at the top of the figure below.  There are seven possible moves (one for each column).\n",
    "\n",
    "<center>\n",
    "<img src=\"https://i.imgur.com/lGfMNBK.png\" width=100%><br/>\n",
    "</center>\n",
    "\n",
    "The heuristic assigns the first board (where the agent plays in column 0) a score of 20.  The second board is assigned a score of 10, and so on.  The first board receives the highest score, and so the agent will select this move.  It's also the best outcome for the agent, since it has a guaranteed win in just one more move.  \n",
    "\n",
    "The heuristic works really well for this specific example, since it matches the best move with the highest score!  In general, if you're not sure how to design your heuristic (i.e., how to score different game states, or which scores to assign to different conditions), often the best thing to do is to simply take an initial guess and then play against your agent.  This will let you identify specific cases when your agent makes bad moves, which you can then fix by modifying the heuristic.\n",
    "\n",
    "# Code\n",
    "\n",
    "Our **one-step lookahead** agent will:\n",
    "- use the heuristic to assign a score to each possible valid move, and\n",
    "- select the move that gets the highest score.  (_If multiple moves get the high score, we select one at random._)\n",
    "\n",
    "\"One-step lookahead\" refers to the fact that the agent looks only one step (or move) into the future, instead of deeper in the game tree.  To help with this agent, we define several useful functions in the code cell below.  "
   ]
  },
  {
   "cell_type": "code",
   "execution_count": null,
   "metadata": {},
   "outputs": [],
   "source": [
    "#$HIDE_INPUT$\n",
    "import random\n",
    "import numpy as np"
   ]
  },
  {
   "cell_type": "code",
   "execution_count": null,
   "metadata": {},
   "outputs": [],
   "source": [
    "# Calculates value of heuristic if agent drops piece in selected column\n",
    "def score_move(grid, col, mark, config):\n",
    "    next_grid = drop_piece(grid, col, mark, config)\n",
    "    num_threes = count_windows(next_grid, 3, mark, config)\n",
    "    num_fours = count_windows(next_grid, 4, mark, config)\n",
    "    num_threes_opp = count_windows(next_grid, 3, mark%2+1, config)\n",
    "    score = num_threes - 1e3*num_threes_opp + 1e6*num_fours\n",
    "    return score\n",
    "\n",
    "# Gets board at next step if agent drops piece in selected column\n",
    "def drop_piece(grid, col, mark, config):\n",
    "    next_grid = grid.copy()\n",
    "    for row in range(config.rows-1, -1, -1):\n",
    "        if next_grid[row][col] == 0:\n",
    "            break\n",
    "    next_grid[row][col] = mark\n",
    "    return next_grid\n",
    "\n",
    "# Helper function for score_move: checks if window satisfies heuristic conditions\n",
    "def check_window(window, num_discs, piece, config):\n",
    "    return (window.count(piece) == num_discs and window.count(0) == config.inarow-num_discs)\n",
    "    \n",
    "# Helper function for score_move: counts number of windows satisfying specified heuristic conditions\n",
    "def count_windows(grid, num_discs, piece, config):\n",
    "    num_windows = 0\n",
    "    # horizontal\n",
    "    for row in range(config.rows):\n",
    "        for col in range(config.columns-(config.inarow-1)):\n",
    "            window = list(grid[row, col:col+config.inarow])\n",
    "            if check_window(window, num_discs, piece, config):\n",
    "                num_windows += 1\n",
    "    # vertical\n",
    "    for row in range(config.rows-(config.inarow-1)):\n",
    "        for col in range(config.columns):\n",
    "            window = list(grid[row:row+config.inarow, col])\n",
    "            if check_window(window, num_discs, piece, config):\n",
    "                num_windows += 1\n",
    "    # positive diagonal\n",
    "    for row in range(config.rows-(config.inarow-1)):\n",
    "        for col in range(config.columns-(config.inarow-1)):\n",
    "            window = list(grid[range(row, row+config.inarow), range(col, col+config.inarow)])\n",
    "            if check_window(window, num_discs, piece, config):\n",
    "                num_windows += 1\n",
    "    # negative diagonal\n",
    "    for row in range(config.inarow-1, config.rows):\n",
    "        for col in range(config.columns-(config.inarow-1)):\n",
    "            window = list(grid[range(row, row-config.inarow, -1), range(col, col+config.inarow)])\n",
    "            if check_window(window, num_discs, piece, config):\n",
    "                num_windows += 1\n",
    "    return num_windows"
   ]
  },
  {
   "cell_type": "markdown",
   "metadata": {},
   "source": [
    "- `score_move()` calculates the value of the heuristic for the board that results from playing a move in the selected column (in `col`) in the current board (in `grid`).\n",
    "  - The  \n",
    "\n",
    "The one-step lookahead agent is defined in the next code cell."
   ]
  },
  {
   "cell_type": "code",
   "execution_count": null,
   "metadata": {},
   "outputs": [],
   "source": [
    "# One-step lookahead agent\n",
    "def agent1(obs, config):\n",
    "    # Get list of valid moves\n",
    "    valid_moves = [c for c in range(config.columns) if obs.board[c] == 0]\n",
    "    # Convert the board to a 2D grid\n",
    "    grid = np.asarray(obs.board).reshape(config.rows, config.columns)\n",
    "    # Use the heuristic to assign a score to each possible board in the next step\n",
    "    scores = dict(zip(valid_moves, [score_move(grid, col, obs.mark, config) for col in valid_moves]))\n",
    "    # Get a list of columns (moves) that maximize the heuristic\n",
    "    max_cols = [key for key in scores.keys() if scores[key] == max(scores.values())]\n",
    "    # Select at random from the maximizing columns\n",
    "    return random.choice(max_cols)"
   ]
  },
  {
   "cell_type": "markdown",
   "metadata": {},
   "source": [
    "Next, the agent plays a game against a random agent."
   ]
  },
  {
   "cell_type": "code",
   "execution_count": null,
   "metadata": {},
   "outputs": [],
   "source": [
    "import kaggle_simulations as ks\n",
    "\n",
    "# Create the game environment\n",
    "env = ks.make(\"connectx\")\n",
    "\n",
    "# Two random agents play one game round\n",
    "env.run([agent1, \"random\"])\n",
    "\n",
    "# Show the game\n",
    "env.render(mode=\"ipython\")"
   ]
  },
  {
   "cell_type": "markdown",
   "metadata": {},
   "source": [
    "# Your turn\n",
    "\n",
    "Continue to the exercise to **[improve the heuristic](#$NEXT_NOTEBOOK_URL$)**."
   ]
  }
 ],
 "metadata": {
  "kernelspec": {
   "display_name": "Python 3",
   "language": "python",
   "name": "python3"
  },
  "language_info": {
   "codemirror_mode": {
    "name": "ipython",
    "version": 3
   },
   "file_extension": ".py",
   "mimetype": "text/x-python",
   "name": "python",
   "nbconvert_exporter": "python",
   "pygments_lexer": "ipython3",
   "version": "3.6.5"
  }
 },
 "nbformat": 4,
 "nbformat_minor": 2
}
