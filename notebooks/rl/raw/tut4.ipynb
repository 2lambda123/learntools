{
 "cells": [
  {
   "cell_type": "markdown",
   "metadata": {},
   "source": [
    "# Introduction\n",
    "\n",
    "In this tutorial, we'll take a short break from building agents for the ConnectX competition to cover the basics of **reinforcement learning**.  Reinforcement learning is an area of machine learning that has been used in cutting-edge gameplay agents.  AlphaGo Zero is capable of beating human professional Go players.  OpenAI Five can defeat amateur human teams at Dota 2.\n",
    "\n",
    "# The Environment\n",
    "\n",
    "To understand what exactly reinforcement learning is, we'll start with an example of the kind of problem that it's usually applied to.\n",
    "\n",
    "Consider the task of designing a piece of software to balance a pole on a moving cart.  The software, which we'll refer to as the **agent**, can move the car to the left or to the right.  Given information like the angle and the velocity of the pole, the software has to determine how to keep the pole from falling over.\n",
    "\n",
    "< insert gif here > \n",
    "\n",
    "There are many different approaches to designing the agent -- in fact, it might not prove too difficult to hard-code!  This is a classical problem in reinforcement learning, but to apply reinforcement learning, we need to add a few more details.\n",
    "\n",
    "We keep track of a score, called the agent's cumulative reward.  "
   ]
  },
  {
   "cell_type": "code",
   "execution_count": null,
   "metadata": {},
   "outputs": [],
   "source": []
  }
 ],
 "metadata": {
  "kernelspec": {
   "display_name": "Python 3",
   "language": "python",
   "name": "python3"
  },
  "language_info": {
   "codemirror_mode": {
    "name": "ipython",
    "version": 3
   },
   "file_extension": ".py",
   "mimetype": "text/x-python",
   "name": "python",
   "nbconvert_exporter": "python",
   "pygments_lexer": "ipython3",
   "version": "3.6.5"
  }
 },
 "nbformat": 4,
 "nbformat_minor": 2
}
