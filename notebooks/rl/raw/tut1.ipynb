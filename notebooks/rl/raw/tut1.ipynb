{
 "cells": [
  {
   "cell_type": "markdown",
   "metadata": {},
   "source": [
    "# Introduction\n",
    "\n",
    "how will we approach rl in this course?\n",
    "\n",
    "# Connect Four\n",
    "\n",
    "**[Connect Four](https://en.wikipedia.org/wiki/Connect_Four)** is a game where two players alternate turns dropping colored discs into a vertical grid. Each player uses a different color (usually red or yellow), and the objective of the game is to be the first player to get four discs in a row.\n",
    "\n",
    "<center>\n",
    "<img src=\"https://i.imgur.com/40B1MGc.png\"><br/>\n",
    "</center>\n",
    "\n",
    "introduce the competition and how student can use it to build and test agents that learn through different methods ...\n",
    "\n",
    "# Code\n",
    "\n",
    "We begin with a simple agent that selects (uniformly) at random from the set of **valid moves**.  In Connect Four, a move is considered valid if there's still space in the column to place a disc (i.e., if the board has seven rows, the column has fewer than seven discs)."
   ]
  },
  {
   "cell_type": "code",
   "execution_count": null,
   "metadata": {},
   "outputs": [],
   "source": [
    "#$HIDE_INPUT$\n",
    "import random\n",
    "import numpy as np"
   ]
  },
  {
   "cell_type": "code",
   "execution_count": null,
   "metadata": {},
   "outputs": [],
   "source": [
    "class Random_Player:\n",
    "    def __init__(self, num_rows=6, num_cols=7):\n",
    "        self.num_rows = num_rows\n",
    "        self.num_cols = num_cols\n",
    "    def act(self, state):\n",
    "        state = state.reshape(self.num_rows, self.num_cols)\n",
    "        valid_moves = self.get_valid_moves(state)\n",
    "        col = random.choice(valid_moves)\n",
    "        return col\n",
    "    def get_valid_moves(self, state):\n",
    "        is_valid_by_idx = [state[0][i]==0 for i in range(self.num_cols)]\n",
    "        return np.where(is_valid_by_idx)[0]"
   ]
  },
  {
   "cell_type": "markdown",
   "metadata": {},
   "source": [
    "The `RandomPlayer` class has an `act()` method that takes the game state as input and returns the agent's selected column.\n",
    "\n",
    "in general, any agent that you define in this course should have an `act()` method.\n",
    "\n",
    "then they play against the agent"
   ]
  },
  {
   "cell_type": "code",
   "execution_count": null,
   "metadata": {},
   "outputs": [],
   "source": [
    "# code here to play"
   ]
  },
  {
   "cell_type": "markdown",
   "metadata": {},
   "source": [
    "# Your turn\n",
    "\n",
    "Continue to **[make your first competition submission](#$NEXT_NOTEBOOK_URL$)** and play against other agents."
   ]
  }
 ],
 "metadata": {
  "kernelspec": {
   "display_name": "Python 3",
   "language": "python",
   "name": "python3"
  },
  "language_info": {
   "codemirror_mode": {
    "name": "ipython",
    "version": 3
   },
   "file_extension": ".py",
   "mimetype": "text/x-python",
   "name": "python",
   "nbconvert_exporter": "python",
   "pygments_lexer": "ipython3",
   "version": "3.6.6"
  }
 },
 "nbformat": 4,
 "nbformat_minor": 2
}
