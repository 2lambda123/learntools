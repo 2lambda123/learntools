{
 "cells": [
  {
   "cell_type": "markdown",
   "metadata": {},
   "source": [
    "# Introduction\n",
    "\n",
    "how will we approach rl in this course?\n",
    "\n",
    "# Connect Four\n",
    "\n",
    "**[Connect Four](https://en.wikipedia.org/wiki/Connect_Four)** is a game where two players alternate turns dropping colored discs into a vertical grid. Each player uses a different color (usually red or yellow), and the objective of the game is to be the first player to get four discs in a row.\n",
    "\n",
    "<center>\n",
    "<img src=\"https://i.imgur.com/40B1MGc.png\"><br/>\n",
    "</center>\n",
    "\n",
    "introduce the competition and how student can use it to build and test agents that learn through different methods ...\n",
    "\n",
    "# Getting started\n",
    "\n",
    "The coding interface for playing the game is relatively simple.  In the code cell below, two random agents play one round of the game."
   ]
  },
  {
   "cell_type": "code",
   "execution_count": null,
   "metadata": {},
   "outputs": [],
   "source": [
    "import kaggle_simulations as ks\n",
    "\n",
    "# Create the game environment\n",
    "env = ks.make(\"connectx\")\n",
    "\n",
    "# Two random agents play one game round\n",
    "env.run([\"random\", \"random\"])\n",
    "\n",
    "# Show the game\n",
    "env.render(mode=\"ipython\")"
   ]
  },
  {
   "cell_type": "markdown",
   "metadata": {},
   "source": [
    "# Define an agent\n",
    "\n",
    "To participate in the competition, you'll need to define your own agents.  In the code cell below, we define two agents:\n",
    "- The first agent selects (uniformly) at random from the set of **valid moves**.  In Connect Four, a move is considered valid if there's still space in the column to place a disc (i.e., if the board has seven rows, the column has fewer than seven discs).  This agent behaves identically to the two random agents in the code cell above.\n",
    "- The second agent always selects the middle column, whether it's valid or not!  If any agent selects an invalid move, it loses the game."
   ]
  },
  {
   "cell_type": "code",
   "execution_count": null,
   "metadata": {},
   "outputs": [],
   "source": [
    "#$HIDE_INPUT$\n",
    "import random"
   ]
  },
  {
   "cell_type": "code",
   "execution_count": null,
   "metadata": {},
   "outputs": [],
   "source": [
    "# Selects random valid column\n",
    "def agent1(obs, config):\n",
    "    valid_moves = [col for col in range(config.columns) if obs.board[col] == 0]\n",
    "    return random.choice(valid_moves)\n",
    "\n",
    "# Selects middle column\n",
    "def agent2(obs, config):\n",
    "    return config.columns//2\n",
    "\n",
    "# Agents play one game round\n",
    "env.run([agent1, agent2])\n",
    "\n",
    "# Show the game\n",
    "env.render(mode=\"ipython\")"
   ]
  },
  {
   "cell_type": "markdown",
   "metadata": {},
   "source": [
    "Each agent is implemented in a function that accepts two arguments: `obs` and `config`.\n",
    "- `obs` is a Python dictionary containing the current state of the game, and it is updated at each turn.  \n",
    " - At the beginning of the game, it is always `{'board': [0, 0, 0, 0, 0, 0, 0, 0, 0, 0, 0, 0, 0, 0, 0, 0, 0, 0, 0, 0, 0, 0, 0, 0, 0, 0, 0, 0, 0, 0, 0, 0, 0, 0, 0, 0, 0, 0, 0, 0, 0, 0], 'mark': 1}`.  `mark` is set to `1`, to denote that player 1 always goes first.  The code then runs the `agent1` function to have player 1 to select a column. \n",
    " - Then, if player 1 places a disc in column 7, it becomes `{'board': [0, 0, 0, 0, 0, 0, 0, 0, 0, 0, 0, 0, 0, 0, 0, 0, 0, 0, 0, 0, 0, 0, 0, 0, 0, 0, 0, 0, 0, 0, 0, 0, 0, 0, 0, 0, 0, 0, 0, 0, 0, 1], 'mark': 2}`. \n",
    "    - `board` has been updated to have a `1` in the spot where player 1 selected a disc. \n",
    "    - `mark` is now `2`, since it is player 2's turn, and the code runs the `agent2` function to get player 2 to make a move.\n",
    " - In general, the value for `board` is a Python list showing the locations of the discs, where the first row appears first, followed by the second row, and so on. We use `1` to track player 1's discs, and `2` to track player 2's discs.\n",
    " - While the agent that always selects the middle column completely ignores the board, the random agent uses `obs.board` to determine which moves are valid.  In particular, if the top position (i.e., highest row) for a column is empty, then the column is valid.\n",
    "- `config` is a Python dictionary that describes the environment settings.  If using the default Connect Four environment, it is `{'columns': 7, 'rows': 6, 'inarow': 4}`.\n",
    "\n",
    "Each agent returns an integer with the selected column, where indexing starts at zero.  So, in the case of 7 columns, the returned value is one of 0-6, inclusive.\n",
    "\n",
    "These agents are quite simple.  As the course progresses, you'll create increasingly complex agents!\n",
    "\n",
    "# Your turn\n",
    "\n",
    "Continue to **[make your first competition submission](#$NEXT_NOTEBOOK_URL$)** and play against other agents."
   ]
  }
 ],
 "metadata": {
  "kernelspec": {
   "display_name": "Python 3",
   "language": "python",
   "name": "python3"
  },
  "language_info": {
   "codemirror_mode": {
    "name": "ipython",
    "version": 3
   },
   "file_extension": ".py",
   "mimetype": "text/x-python",
   "name": "python",
   "nbconvert_exporter": "python",
   "pygments_lexer": "ipython3",
   "version": "3.6.5"
  }
 },
 "nbformat": 4,
 "nbformat_minor": 2
}
