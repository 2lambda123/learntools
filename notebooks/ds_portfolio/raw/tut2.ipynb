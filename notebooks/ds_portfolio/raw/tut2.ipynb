{
 "cells": [
  {
   "cell_type": "markdown",
   "metadata": {},
   "source": [
    "# Introduction\n",
    "\n",
    "The first thing to do is pick a topic for your project.  This involves:\n",
    "- selecting a dataset of interest, and \n",
    "- deciding (at a high level) how you will examine and use your dataset.  \n",
    "\n",
    "Picking a topic is usually quite difficult, because there are so many possible directions any project can take.  How do you choose?  \n",
    "\n",
    "In this tutorial, we provide some advice, along with a specific case study for inspiration.\n",
    "\n",
    "# Advice\n",
    "\n",
    "### Use interesting data.\n",
    "\n",
    "Popular datasets like [Titanic](https://www.kaggle.com/c/titanic/data), [Iris](https://www.kaggle.com/uciml/iris), and [Breast Cancer Wisconsin](https://www.kaggle.com/uciml/breast-cancer-wisconsin-data) are great for learning, because you can learn a lot from the detailed analyses that many people have written using them.  However, they are not good candidates for building your portfolio project.  This is because it is incredibly difficult to discover something that has not already been found by thousands of people before you.  \n",
    "\n",
    "Instead of using one of these popular datasets, you should look for a dataset that hasn't been overly explored, so you are more likely to find something that is interesting and novel.  Having a project topic that feels unique is important: it demonstrates to a potential employer that you can proactively find opportunities to leverage analyze unstructured data, in a way that results in well-informed, data-driven decisions.\n",
    "\n",
    "### Your project should inspire you.\n",
    "\n",
    "Choose a project that is interesting to you personally.  This way, you're more likely to complete your project.  If you're excited about it, you're more likely to be genuinely engaging when you talk about it in a job interview.\n",
    "\n",
    "### The success of your project should not depend on what you find.\n",
    "\n",
    "Jason Goodman, a Data Scientist at Airbnb, has a [Medium post](https://medium.com/@jasonkgoodman/advice-on-building-data-portfolio-projects-c5f96d8a0627) with practical advice for building DS portfolio projects.  In the post, he descibes a project in college where he investigated the impact of fraud on neighboring nonprofits.  Unfortunately, he discovered that fraud had no impact, which ultimately resulted in a project that was not very interesting.\n",
    "\n",
    "### Nothing is truly original.\n",
    "\n",
    "### Base your project on a desired job description.\n",
    "\n",
    "If you know what kind of job you would like, you can tailor your project to demonstrate mastery of specific skills, or familiarity with certain types .  For instance, "
   ]
  },
  {
   "cell_type": "markdown",
   "metadata": {},
   "source": [
    "# Case study\n",
    "\n",
    "Zillo is ....  Say you're interested in a job with Zillow Offers as a Data Scientist.\n",
    "\n",
    "> Are you passionate about analyzing historical trends looking for patterns? Are you driven to understand not just WHAT happened, but more importantly, WHY? Our team is tasked with absorbing billions of rows of data from dozens of sources, organizing them, analyzing them, and visualizing them to help inform both short and long-term decision-making. As a Data Scientist on the Zillow Offers team, you will help improve our ability to accurately value homes thereby creating fairer offers for sellers and enabling us to lower the costs of the business. You will help us personalize and optimize the consumer experience for home sellers seeking a Zillow Offer. You will help us understand what’s working well, and where we need to improve.\n",
    "\n",
    "then i can loook for data on kaggle around y\n",
    "\n",
    "### Exploring Kaggle datasets\n",
    "\n",
    "how to search for that data, discover dataset. \n",
    "\n",
    "look at tasks ...\n",
    "\n",
    "### Exploring Kaggle notebooks\n",
    "\n",
    "look at kernels that people have written ... learn more in next tutorial how to work with them"
   ]
  },
  {
   "cell_type": "code",
   "execution_count": null,
   "metadata": {},
   "outputs": [],
   "source": []
  }
 ],
 "metadata": {
  "kernelspec": {
   "display_name": "Python 3",
   "language": "python",
   "name": "python3"
  },
  "language_info": {
   "codemirror_mode": {
    "name": "ipython",
    "version": 3
   },
   "file_extension": ".py",
   "mimetype": "text/x-python",
   "name": "python",
   "nbconvert_exporter": "python",
   "pygments_lexer": "ipython3",
   "version": "3.6.6"
  }
 },
 "nbformat": 4,
 "nbformat_minor": 2
}
