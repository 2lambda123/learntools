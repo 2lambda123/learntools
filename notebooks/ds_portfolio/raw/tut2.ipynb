{
 "cells": [
  {
   "cell_type": "markdown",
   "metadata": {},
   "source": [
    "# Introduction\n",
    "\n",
    "The first thing to do is pick a topic for your project.  This involves:\n",
    "- selecting a dataset of interest, and \n",
    "- deciding (at a high level) how you will examine and use your dataset.  \n",
    "\n",
    "Picking a topic is usually quite difficult, because there are so many possible directions any project can take.  For instance,\n",
    "- \n",
    "\n",
    "How do you choose?  \n",
    "\n",
    "In this tutorial, we provide some advice, along with a specific case study for inspiration.\n",
    "\n",
    "# Advice\n",
    "\n",
    "### Use interesting data.\n",
    "\n",
    "Popular datasets like [Titanic](https://www.kaggle.com/c/titanic/data), [Iris](https://www.kaggle.com/uciml/iris), and [Breast Cancer Wisconsin](https://www.kaggle.com/uciml/breast-cancer-wisconsin-data) are great for learning, because you can learn a lot from the detailed analyses that many people have written using them.  However, they are not good candidates for building your portfolio project.  This is because it is incredibly difficult to discover something that has not already been found by thousands of people before you.  \n",
    "\n",
    "Instead of using one of these popular datasets, you should look for a dataset that hasn't been overly explored, so you are more likely to find interesting ...\n",
    "\n",
    "### Your project should inspire you.\n",
    "\n",
    "Choose a project that is interesting to you personally, so when you talk about it in an interview, you can be more engaging.  \n",
    "\n",
    "### The success of your project should not depend on what you find.\n",
    "\n",
    "Jason Goodman, a Data Scientist at Airbnb, [describes](https://medium.com/@jasonkgoodman/advice-on-building-data-portfolio-projects-c5f96d8a0627)  I did a project in college looking for the impact of fraud on neighboring nonprofits. It was only going to be interesting if there was an impact, but it turned out that there wasn’t.\n",
    "\n",
    "but should not use them to build a portfolio project. try to select dataset no one has worked with before / that hasn't been over-analyzed\n",
    "\n",
    "### Base your project on a desired job description.\n",
    "\n",
    "if you know what job you'd like, can tailor project to demonstrating specific skills.  This skill lines up with what a real word data scientist does."
   ]
  },
  {
   "cell_type": "markdown",
   "metadata": {},
   "source": [
    "# Case study\n",
    "\n",
    "Zillo is ....  Say you're interested in a job with Zillow Offers as a Data Scientist.\n",
    "\n",
    "> Are you passionate about analyzing historical trends looking for patterns? Are you driven to understand not just WHAT happened, but more importantly, WHY? Our team is tasked with absorbing billions of rows of data from dozens of sources, organizing them, analyzing them, and visualizing them to help inform both short and long-term decision-making. As a Data Scientist on the Zillow Offers team, you will help improve our ability to accurately value homes thereby creating fairer offers for sellers and enabling us to lower the costs of the business. You will help us personalize and optimize the consumer experience for home sellers seeking a Zillow Offer. You will help us understand what’s working well, and where we need to improve.\n",
    "\n",
    "then i can loook for data on kaggle around y\n",
    "\n",
    "### Exploring Kaggle datasets\n",
    "\n",
    "how to search for that data, discover dataset. \n",
    "\n",
    "look at tasks ...\n",
    "\n",
    "### Exploring Kaggle notebooks\n",
    "\n",
    "look at kernels that people have written ... learn more in next tutorial how to work with them"
   ]
  },
  {
   "cell_type": "code",
   "execution_count": null,
   "metadata": {},
   "outputs": [],
   "source": []
  }
 ],
 "metadata": {
  "kernelspec": {
   "display_name": "Python 3",
   "language": "python",
   "name": "python3"
  },
  "language_info": {
   "codemirror_mode": {
    "name": "ipython",
    "version": 3
   },
   "file_extension": ".py",
   "mimetype": "text/x-python",
   "name": "python",
   "nbconvert_exporter": "python",
   "pygments_lexer": "ipython3",
   "version": "3.6.6"
  }
 },
 "nbformat": 4,
 "nbformat_minor": 2
}
