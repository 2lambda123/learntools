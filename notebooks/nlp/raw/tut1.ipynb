{
 "cells": [
  {
   "cell_type": "markdown",
   "metadata": {},
   "source": [
    "# Natural Language Processing\n",
    "\n",
    "Data comes in many different forms such as time stamps, sensor readings, images, categorical labels, and much much more. A large amount of data exists as language, in text and speech.  The field of using computers to understand language data is known as Natural Language Processing (NLP).\n",
    "\n",
    "This understanding can come in the form of information extraction for observing trends. For example, Google can scan billions of searches to track how specific terms change in frequency over time.\n",
    "\n",
    "![Google trends for SpaCy, NLTK, and Gensim libraries](https://i.imgur.com/QR7eIjt.png)\n",
    "\n",
    "Or consider that some term is showing up in a lot of customer support tickets. You can have a program observe these tickets for frequent terms and alert the appropriate product team. \n",
    "\n",
    "Within machine learning, and in this course, we're more interested in using language data to build predictive models. As with other domains, much of the work in NLP is finding ways to represent text or speech such that it can be used with machine learning models. That is, we need to convert documents or words or even individual characters into numbers and vectors. These vectors can then be used as input to models.\n",
    "\n",
    "As with other domains, you can break down NLP into supervised and unsupervised tasks. Within supervised learning, you have applications like spam detection, machine translation, and text/voice generation. A common use case of unsupervised learning is topic modeling, or clustering documents into topics. In this course we'll focus on text classification.\n",
    "\n",
    "#### A note before you get started\n",
    "\n",
    "This mini-course was built assuming you already have some experience with machine learning. If you haven't taken the Intro the Machine Learning and Intermediate Machine Learning mini-courses yet, please do so before continuing on with these tutorials.\n",
    "\n",
    "Looking into this dataset https://www.kaggle.com/crowdflower/twitter-airline-sentiment"
   ]
  },
  {
   "cell_type": "markdown",
   "metadata": {},
   "source": [
    "## NLP with SpaCy\n",
    "\n",
    "In this course you'll be using the SpaCy library to extract information from text and to convert text into vectors for classification models. SpaCy is one of the most "
   ]
  },
  {
   "cell_type": "markdown",
   "metadata": {},
   "source": [
    "Things I need to cover:\n",
    "\n",
    "- loading SpaCy models\n",
    "- Tokenizing\n",
    "- a brief bit on lemmas and stopwords\n",
    "- Creating a matcher (You could use regex, but this is much better)\n",
    "- Iterating through text with a matcher\n"
   ]
  }
 ],
 "metadata": {
  "kernelspec": {
   "display_name": "Python 3",
   "language": "python",
   "name": "python3"
  },
  "language_info": {
   "codemirror_mode": {
    "name": "ipython",
    "version": 3
   },
   "file_extension": ".py",
   "mimetype": "text/x-python",
   "name": "python",
   "nbconvert_exporter": "python",
   "pygments_lexer": "ipython3",
   "version": "3.7.4"
  }
 },
 "nbformat": 4,
 "nbformat_minor": 4
}
