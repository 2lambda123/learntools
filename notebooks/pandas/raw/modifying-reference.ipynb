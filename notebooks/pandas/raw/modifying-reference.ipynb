{
 "cells": [
  {
   "cell_type": "markdown",
   "metadata": {},
   "source": [
    "# Modifying dataframes reference\n",
    "\n",
    "This is the reference component to the \"Modifying dataframes\" section of the Advanced Pandas track. For the workbook component, [click here](#$EXERCISE_URL$).\n",
    "\n",
    "For this lesson, we'll once again be using the [Wine Reviews dataset](https://www.kaggle.com/zynicide/wine-reviews)."
   ]
  },
  {
   "cell_type": "code",
   "execution_count": null,
   "metadata": {},
   "outputs": [],
   "source": [
    "import pandas as pd\n",
    "reviews = pd.read_csv(\"../input/winemag-data-130k-v2.csv\", index_col=0)\n",
    "pd.set_option(\"display.max_rows\", 5)\n",
    "reviews.head()"
   ]
  },
  {
   "cell_type": "markdown",
   "metadata": {},
   "source": [
    "## Assigning to columns\n",
    "\n",
    "When working with vanilla Python objects, we can use indexing notation to access individual elements of a list or dict:"
   ]
  },
  {
   "cell_type": "code",
   "execution_count": null,
   "metadata": {},
   "outputs": [],
   "source": [
    "x = [1, 2, 4, 8]\n",
    "x[2]"
   ]
  },
  {
   "cell_type": "markdown",
   "metadata": {},
   "source": [
    "But we can also use an index expression as the left-hand side of an assignment, to modify an object in place:"
   ]
  },
  {
   "cell_type": "code",
   "execution_count": null,
   "metadata": {},
   "outputs": [],
   "source": [
    "x[2] = -40\n",
    "x"
   ]
  },
  {
   "cell_type": "markdown",
   "metadata": {},
   "source": [
    "Pandas uses a similar convention. `reviews['region_1']` by itself gives me the \"region_1\" column. But if I use it as the left-hand-side of an assignment statement, I can overwrite the values of that column:"
   ]
  },
  {
   "cell_type": "code",
   "execution_count": null,
   "metadata": {},
   "outputs": [],
   "source": [
    "reviews['region_1'] = \"pandaville\"\n",
    "reviews.head()"
   ]
  },
  {
   "cell_type": "markdown",
   "metadata": {},
   "source": [
    "Note that our dataset has about 130k rows, but the right-hand-side of the assignment was just a single value. In this case, Pandas uses *broadcasting* to repeat my scalar value as many times as necessary to fill the dataframe. I could also have used a list or Series as the right-hand-side:"
   ]
  },
  {
   "cell_type": "code",
   "execution_count": null,
   "metadata": {},
   "outputs": [],
   "source": [
    "approx_location = \"Somewhere in \" + reviews.country\n",
    "print(\"Assigning a {} with {} entries to the region_1 column\".format(\n",
    "    type(approx_location), len(approx_location)))\n",
    "reviews['region_1'] = approx_location\n",
    "reviews.head()"
   ]
  },
  {
   "cell_type": "markdown",
   "metadata": {},
   "source": [
    "As long as its length matches the dataframe..."
   ]
  },
  {
   "cell_type": "code",
   "execution_count": null,
   "metadata": {
    "tags": [
     "raises-exception"
    ]
   },
   "outputs": [],
   "source": [
    "reviews['region_1'] = [\"A\", \"B\", \"C\"]\n",
    "reviews.head()"
   ]
  },
  {
   "cell_type": "markdown",
   "metadata": {},
   "source": [
    "### Creating new columns\n",
    "\n",
    "Adding a new column to a dataframe is as easy as overwriting an existing column - it uses the exact same syntax:"
   ]
  },
  {
   "cell_type": "code",
   "execution_count": null,
   "metadata": {},
   "outputs": [],
   "source": [
    "reviews['COUNTRY'] = reviews.country.str.upper()\n",
    "reviews.head()"
   ]
  },
  {
   "cell_type": "markdown",
   "metadata": {},
   "source": [
    "### Modifying selections\n",
    "\n",
    "What if we want to assign only to rows in the dataset matching some particular condition? For example, suppose we want to force the score of all Canadian wines to 100? We've seen that the subset of our dataframe corresponding to \"the points for all Canadian wines\" can be expressed by:"
   ]
  },
  {
   "cell_type": "code",
   "execution_count": null,
   "metadata": {},
   "outputs": [],
   "source": [
    "reviews.loc[reviews.country == 'Canada', 'points']"
   ]
  },
  {
   "cell_type": "markdown",
   "metadata": {},
   "source": [
    "We can simply use this as the left-hand-side of an assignment statement:"
   ]
  },
  {
   "cell_type": "code",
   "execution_count": null,
   "metadata": {},
   "outputs": [],
   "source": [
    "reviews.loc[reviews.country == 'Canada', 'points'] = 100"
   ]
  },
  {
   "cell_type": "markdown",
   "metadata": {},
   "source": [
    "Let's confirm that this worked."
   ]
  },
  {
   "cell_type": "code",
   "execution_count": null,
   "metadata": {},
   "outputs": [],
   "source": [
    "reviews.loc[reviews.country == 'Canada']"
   ]
  },
  {
   "cell_type": "markdown",
   "metadata": {},
   "source": [
    "What if we do this for a column that doesn't exist yet?"
   ]
  },
  {
   "cell_type": "code",
   "execution_count": null,
   "metadata": {},
   "outputs": [],
   "source": [
    "reviews.loc[\n",
    "    reviews.country.isin(['Canada', 'US', 'Mexico']),\n",
    "    'continent'\n",
    "] = 'North America'"
   ]
  },
  {
   "cell_type": "markdown",
   "metadata": {},
   "source": [
    "Perhaps surprisingly, Pandas lets us do this. What happens to this new column for rows not in the selection?"
   ]
  },
  {
   "cell_type": "code",
   "execution_count": null,
   "metadata": {},
   "outputs": [],
   "source": [
    "reviews.head()"
   ]
  },
  {
   "cell_type": "markdown",
   "metadata": {},
   "source": [
    "They get set to `NaN` - which seems sensible enough."
   ]
  },
  {
   "cell_type": "markdown",
   "metadata": {},
   "source": [
    "## Using `inplace = True`\n",
    "\n",
    "In the [lesson on Indexing and Selecting](#$TUTORIAL_URL(2)$) we briefly saw [the `set_index` method](https://pandas.pydata.org/pandas-docs/stable/generated/pandas.DataFrame.set_index.html), which lets us choose a column to use as our dataframe's new index."
   ]
  },
  {
   "cell_type": "code",
   "execution_count": null,
   "metadata": {},
   "outputs": [],
   "source": [
    "# Create a new column \"new_idx\" of integers which count down backwards to 1\n",
    "reviews['new_idx'] = list(reversed(range(1, len(reviews)+1)))\n",
    "# Set it as the new index\n",
    "reviews.set_index('new_idx')"
   ]
  },
  {
   "cell_type": "markdown",
   "metadata": {},
   "source": [
    "Now if we check the first 4 rows of `reviews`, they should have index labels `[129971, 129970, 129969, 129968]`, right?"
   ]
  },
  {
   "cell_type": "code",
   "execution_count": null,
   "metadata": {},
   "outputs": [],
   "source": [
    "reviews.head(4)"
   ]
  },
  {
   "cell_type": "markdown",
   "metadata": {},
   "source": [
    "What happened? By default, `set_index` doesn't modify the dataframe it's called on. Instead it returns a new dataframe, which is a copy of `reviews` having the new index. But if we *do* want to modify our dataframe, we can pass the keyword argument `inplace=True`:"
   ]
  },
  {
   "cell_type": "code",
   "execution_count": null,
   "metadata": {},
   "outputs": [],
   "source": [
    "reviews.set_index('new_idx', inplace=True)"
   ]
  },
  {
   "cell_type": "code",
   "execution_count": null,
   "metadata": {},
   "outputs": [],
   "source": [
    "reviews.head(4)"
   ]
  },
  {
   "cell_type": "markdown",
   "metadata": {},
   "source": [
    "In upcoming lessons, you'll see many more methods which can take an optional `inplace` argument, some of which you may already be familiar with, including:\n",
    "- `reset_index()`\n",
    "- `sort_values()`, `sort_index()`\n",
    "- `fillna()`\n",
    "- `rename()`\n",
    "\n",
    "By default, all these methods return *new* objects rather than modifying the object they're called on, unless we set `inplace=True`."
   ]
  }
 ],
 "metadata": {
  "kernelspec": {
   "display_name": "Python 3",
   "language": "python",
   "name": "python3"
  },
  "language_info": {
   "codemirror_mode": {
    "name": "ipython",
    "version": 3
   },
   "file_extension": ".py",
   "mimetype": "text/x-python",
   "name": "python",
   "nbconvert_exporter": "python",
   "pygments_lexer": "ipython3",
   "version": "3.6.5"
  }
 },
 "nbformat": 4,
 "nbformat_minor": 1
}
