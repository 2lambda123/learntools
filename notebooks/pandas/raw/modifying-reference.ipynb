{
 "cells": [
  {
   "cell_type": "markdown",
   "metadata": {},
   "source": [
    "# Modifying dataframes reference\n",
    "\n",
    "This is the reference component to the \"Modifying dataframes\" section of the Advanced Pandas track. For the workbook component, [click here](#$EXERCISE_URL$).\n",
    "\n",
    "For this lesson, we'll once again be using the [Wine Reviews dataset](https://www.kaggle.com/zynicide/wine-reviews)."
   ]
  },
  {
   "cell_type": "code",
   "execution_count": null,
   "metadata": {},
   "outputs": [],
   "source": [
    "import pandas as pd\n",
    "reviews = pd.read_csv(\"../input/winemag-data-130k-v2.csv\", index_col=0)\n",
    "pd.set_option(\"display.max_rows\", 5)\n",
    "reviews.head()"
   ]
  },
  {
   "cell_type": "markdown",
   "metadata": {},
   "source": [
    "## Assigning to columns\n",
    "\n",
    "When working with vanilla Python objects, we can use indexing notation to access individual elements of a list or dict:"
   ]
  },
  {
   "cell_type": "code",
   "execution_count": null,
   "metadata": {},
   "outputs": [],
   "source": [
    "x = [1, 2, 4, 8]\n",
    "x[2]"
   ]
  },
  {
   "cell_type": "markdown",
   "metadata": {},
   "source": [
    "But we can also use an index expression as the left-hand side of an assignment, to modify an object in place:"
   ]
  },
  {
   "cell_type": "code",
   "execution_count": null,
   "metadata": {},
   "outputs": [],
   "source": [
    "x[2] = -40\n",
    "x"
   ]
  },
  {
   "cell_type": "markdown",
   "metadata": {},
   "source": [
    "Pandas uses a similar convention. `reviews['region_1']` by itself gives me the \"region_1\" column. But if I use it as the left-hand-side of an assignment statement, I can overwrite the values of that column:"
   ]
  },
  {
   "cell_type": "code",
   "execution_count": null,
   "metadata": {},
   "outputs": [],
   "source": [
    "reviews['region_1'] = \"pandaville\"\n",
    "reviews.head()"
   ]
  },
  {
   "cell_type": "markdown",
   "metadata": {},
   "source": [
    "Note that our dataset has about 130k rows, but the right-hand-side of the assignment was just a single value. In this case, Pandas uses *broadcasting* to repeat my scalar value as many times as necessary to fill the dataframe. I could also have used a list or Series as the right-hand-side:"
   ]
  },
  {
   "cell_type": "code",
   "execution_count": null,
   "metadata": {},
   "outputs": [],
   "source": [
    "approx_location = \"Somewhere in \" + reviews.country\n",
    "print(\"Assigning a {} with {} entries to the region_1 column\".format(\n",
    "    type(approx_location), len(approx_location)))\n",
    "reviews['region_1'] = approx_location\n",
    "reviews.head()"
   ]
  },
  {
   "cell_type": "markdown",
   "metadata": {},
   "source": [
    "As long as its length matches the dataframe..."
   ]
  },
  {
   "cell_type": "code",
   "execution_count": null,
   "metadata": {},
   "outputs": [],
   "source": [
    "reviews['region_1'] = [\"A\", \"B\", \"C\"]\n",
    "reviews.head()"
   ]
  },
  {
   "cell_type": "markdown",
   "metadata": {},
   "source": [
    "### Creating new columns\n",
    "\n",
    "Adding a new column to a dataframe is as easy as overwriting an existing column - it uses the exact same syntax:"
   ]
  },
  {
   "cell_type": "code",
   "execution_count": null,
   "metadata": {},
   "outputs": [],
   "source": [
    "reviews['COUNTRY'] = reviews.country.str.upper()\n",
    "reviews.head()"
   ]
  },
  {
   "cell_type": "markdown",
   "metadata": {},
   "source": [
    "### Modifying selections\n",
    "\n",
    "What if we want to assign only to rows in the dataset matching some particular condition? For example, suppose we want to force the score of all Canadian wines to 100? We've seen that the subset of our dataframe corresponding to \"the points for all Canadian wines\" can be expressed by:"
   ]
  },
  {
   "cell_type": "code",
   "execution_count": null,
   "metadata": {},
   "outputs": [],
   "source": [
    "reviews.loc[reviews.country == 'Canada', 'points']"
   ]
  },
  {
   "cell_type": "markdown",
   "metadata": {},
   "source": [
    "We can simply use this as the left-hand-side of an assignment statement:"
   ]
  },
  {
   "cell_type": "code",
   "execution_count": null,
   "metadata": {},
   "outputs": [],
   "source": [
    "reviews.loc[reviews.country == 'Canada', 'points'] = 100"
   ]
  },
  {
   "cell_type": "markdown",
   "metadata": {},
   "source": [
    "Let's confirm that this worked."
   ]
  },
  {
   "cell_type": "code",
   "execution_count": null,
   "metadata": {},
   "outputs": [],
   "source": [
    "reviews.loc[reviews.country == 'Canada']"
   ]
  },
  {
   "cell_type": "markdown",
   "metadata": {},
   "source": [
    "What if we do this for a column that doesn't exist yet?"
   ]
  },
  {
   "cell_type": "code",
   "execution_count": null,
   "metadata": {},
   "outputs": [],
   "source": [
    "reviews.loc[\n",
    "    reviews.country.isin(['Canada', 'US', 'Mexico']),\n",
    "    'continent'\n",
    "] = 'North America'"
   ]
  },
  {
   "cell_type": "markdown",
   "metadata": {},
   "source": [
    "Perhaps surprisingly, Pandas lets us do this. What happens to this new column for rows not in the selection?"
   ]
  },
  {
   "cell_type": "code",
   "execution_count": null,
   "metadata": {},
   "outputs": [],
   "source": [
    "reviews.head()"
   ]
  },
  {
   "cell_type": "markdown",
   "metadata": {},
   "source": [
    "They get set to `NaN` - which seems sensible enough."
   ]
  },
  {
   "cell_type": "markdown",
   "metadata": {},
   "source": [
    "## Using `inplace = True`\n",
    "\n",
    "```\n",
    "TODO: talk about how many of the methods they've seen so far and will see in future lessons allow passing `inplace=True`, in which case they'll mutate the object on which they're called, rather than returning a new object. E.g.\n",
    "- sort_values, sort_index\n",
    "- rename\n",
    "- reset_index, set_index\n",
    "- dropna, fillna\n",
    "```"
   ]
  }
 ],
 "metadata": {
  "kernelspec": {
   "display_name": "Python 3",
   "language": "python",
   "name": "python3"
  },
  "language_info": {
   "codemirror_mode": {
    "name": "ipython",
    "version": 3
   },
   "file_extension": ".py",
   "mimetype": "text/x-python",
   "name": "python",
   "nbconvert_exporter": "python",
   "pygments_lexer": "ipython3",
   "version": "3.6.5"
  }
 },
 "nbformat": 4,
 "nbformat_minor": 1
}
