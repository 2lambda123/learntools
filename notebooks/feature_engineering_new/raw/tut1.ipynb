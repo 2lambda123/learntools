{
 "cells": [
  {
   "cell_type": "markdown",
   "metadata": {},
   "source": [
    "\n",
    "# Welcome to Feature Engineering! #\n",
    "\n",
    "# What is Feature Engineering? #\n",
    "\n",
    "We don't have to use our data just as it's given to us. Can we make it more informative?\n",
    "\n",
    "Feature engineering is something we encounter all the time in day to day life. Consider wind chill, for instance. \n",
    "\n",
    "# The Practice of Feature Engineering #\n",
    "\n",
    "Several things to consider when coming up with a feature engineering strategy.\n",
    "\n",
    "The technique should be adapted to the task.\n",
    "\n",
    "Need to be careful of data leakage.\n",
    "\n",
    "# Example - Using Domain Knowledge #\n",
    "\n",
    "The most common kind of feature engineering is what we might call **domain knowledge**. Is there information we suspect should be useful?"
   ]
  },
  {
   "cell_type": "code",
   "execution_count": null,
   "metadata": {},
   "outputs": [],
   "source": []
  },
  {
   "cell_type": "markdown",
   "metadata": {},
   "source": [
    "Now let's define a transformer."
   ]
  },
  {
   "cell_type": "code",
   "execution_count": null,
   "metadata": {},
   "outputs": [],
   "source": []
  },
  {
   "cell_type": "markdown",
   "metadata": {},
   "source": [
    "In this case, we dropped the original feature from the dataset. Sometimes it could be useful to leave it in.\n",
    "\n",
    "Now let's engineer some features."
   ]
  },
  {
   "cell_type": "code",
   "execution_count": null,
   "metadata": {},
   "outputs": [],
   "source": []
  },
  {
   "cell_type": "markdown",
   "metadata": {},
   "source": [
    "And train!"
   ]
  },
  {
   "cell_type": "code",
   "execution_count": null,
   "metadata": {},
   "outputs": [],
   "source": []
  },
  {
   "cell_type": "markdown",
   "metadata": {},
   "source": [
    "# Your Turn #"
   ]
  }
 ],
 "metadata": {
  "jupytext": {
   "cell_metadata_filter": "-all",
   "main_language": "python",
   "notebook_metadata_filter": "-all"
  },
  "kernelspec": {
   "display_name": "Python 3",
   "language": "python",
   "name": "python3"
  },
  "language_info": {
   "codemirror_mode": {
    "name": "ipython",
    "version": 3
   },
   "file_extension": ".py",
   "mimetype": "text/x-python",
   "name": "python",
   "nbconvert_exporter": "python",
   "pygments_lexer": "ipython3",
   "version": "3.6.5"
  }
 },
 "nbformat": 4,
 "nbformat_minor": 4
}
