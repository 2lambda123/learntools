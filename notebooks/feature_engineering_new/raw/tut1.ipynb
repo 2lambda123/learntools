{
 "cells": [
  {
   "cell_type": "markdown",
   "metadata": {},
   "source": [
    "\n",
    "# Welcome to Feature Engineering! #\n",
    "\n",
    "# What is Feature Engineering? #\n",
    "\n",
    "We don't have to use our data just as it's given to us. Can we make it more informative?\n",
    "\n",
    "Feature engineering is something we encounter all the time in day to day life. Consider wind chill, for instance. \n",
    "\n",
    "# The Practice of Feature Engineering #\n",
    "\n",
    "Several things to consider when coming up with a feature engineering strategy.\n",
    "\n",
    "The technique should be adapted to the task.\n",
    "\n",
    "Need to be careful of data leakage.\n",
    "\n",
    "# Example - Using Domain Knowledge #\n",
    "\n",
    "The most common kind of feature engineering is what we might call **domain knowledge**. Is there information we suspect should be useful?"
   ]
  },
  {
   "cell_type": "code",
   "execution_count": null,
   "metadata": {},
   "outputs": [],
   "source": [
    "import pandas as pd\n",
    "\n",
    "df = pd.read_csv(\"\")\n",
    "df.head()"
   ]
  },
  {
   "cell_type": "markdown",
   "metadata": {},
   "source": [
    "Now let's define a transformer."
   ]
  },
  {
   "cell_type": "code",
   "execution_count": null,
   "metadata": {},
   "outputs": [],
   "source": [
    "def transformer(X):\n",
    "    # do stuff\n",
    "    return X\n",
    "\n",
    "X_split = transformer(X)"
   ]
  },
  {
   "cell_type": "markdown",
   "metadata": {},
   "source": [
    "In this case, we dropped the original feature from the dataset. Sometimes it could be useful to leave it in.\n",
    "\n",
    "Now let's engineer some features."
   ]
  },
  {
   "cell_type": "code",
   "execution_count": null,
   "metadata": {},
   "outputs": [],
   "source": [
    "X_base = pd.get_dummies(X)\n",
    "X_split = pd.get_dummies(X)\n",
    "\n"
   ]
  },
  {
   "cell_type": "markdown",
   "metadata": {},
   "source": [
    "And train!"
   ]
  },
  {
   "cell_type": "code",
   "execution_count": null,
   "metadata": {},
   "outputs": [],
   "source": [
    "from sklearn.ensemble import RandomForestRegressor\n",
    "from sklearn.model_selection import cross_val_score\n",
    "\n"
   ]
  },
  {
   "cell_type": "markdown",
   "metadata": {},
   "source": [
    "# Your Turn #"
   ]
  }
 ],
 "metadata": {
  "jupytext": {
   "cell_metadata_filter": "-all",
   "main_language": "python",
   "notebook_metadata_filter": "-all"
  }
 },
 "nbformat": 4,
 "nbformat_minor": 4
}
