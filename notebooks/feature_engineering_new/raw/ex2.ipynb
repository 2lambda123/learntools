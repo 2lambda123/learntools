{
 "cells": [
  {
   "cell_type": "markdown",
   "metadata": {},
   "source": [
    "\n",
    "# Introduction #\n",
    "\n",
    "In the tutorial we saw how to create *interaction features* using the `PolynomialTransformer` from scikit-learn. Now you'll apply this technique to a dataset with both categorical and numeric features and incorporate the transform into an XGBoost pipeline.\n",
    "\n",
    "Run this cell to set everything up."
   ]
  },
  {
   "cell_type": "code",
   "execution_count": null,
   "metadata": {},
   "outputs": [],
   "source": [
    "SEED = 31415\n",
    "\n",
    "# Setup feedback system\n",
    "from learntools.core import binder\n",
    "binder.bind(globals())\n",
    "from learntools.feature_engineering_new.ex2 import *"
   ]
  },
  {
   "cell_type": "markdown",
   "metadata": {},
   "source": [
    "In this exercise, you'll create interaction features for the *Ames Housing* dataset. Your task will be to predict the `'Sale_Price'` of a home from features describing its design, history, and location. Some of these features are categorical, like the `'Neighborhood'` the house is in, while others are numeric, like the number of `'Fireplaces'` the house contains.\n",
    "\n",
    "Run the next cell to set up the dataset."
   ]
  },
  {
   "cell_type": "code",
   "execution_count": null,
   "metadata": {
    "lines_to_next_cell": 2
   },
   "outputs": [],
   "source": [
    "import pandas as pd\n",
    "from IPython.display import display\n",
    "\n",
    "df = pd.read_csv('../input/fe-course-data/ames.csv')\n",
    "display(df.head())\n",
    "\n",
    "CATEGORICALS = [\n",
    "    \"Neighborhood\",\n",
    "    \"House_Style\",\n",
    "    \"Street\",\n",
    "    \"Utilities\",\n",
    "    \"Heating\",\n",
    "    \"Central_Air\",\n",
    "]\n",
    "NUMERICS = [\n",
    "    \"Year_Built\",\n",
    "    \"Lot_Area\",\n",
    "    \"Gr_Liv_Area\",\n",
    "    \"Full_Bath\",\n",
    "    \"Half_Bath\",\n",
    "    \"Bedroom_AbvGr\",\n",
    "    \"TotRms_AbvGrd\",\n",
    "    \"Fireplaces\",\n",
    "    \"Garage_Area\",\n",
    "    \"Mo_Sold\",\n",
    "]\n",
    "\n",
    "X = df[CATEGORICALS + NUMERICS]\n",
    "y = df[\"Sale_Price\"]"
   ]
  },
  {
   "cell_type": "markdown",
   "metadata": {},
   "source": [
    "# Step 1 - Define Transfomers #\n",
    "\n",
    "Start by defining three transformers:\n",
    "1. a `OneHotEncoder` applied only to the `CATEGORICALS` (use `make_column_transformer`)\n",
    "2. a `PolynomialFeatures` to create the interaction features\n",
    "3. a `VarianceThreshold` to filter out any empty features"
   ]
  },
  {
   "cell_type": "code",
   "execution_count": null,
   "metadata": {
    "lines_to_next_cell": 2
   },
   "outputs": [],
   "source": [
    "from sklearn.feature_selection import VarianceThreshold\n",
    "from sklearn.preprocessing import PolynomialFeatures, OneHotEncoder\n",
    "from sklearn.compose import make_column_transformer\n",
    "\n",
    "\n",
    "# YOUR CODE HERE: define the three transfomers\n",
    "one_hot_encoder = make_column_transformer(\n",
    "    (OneHotEncoder(handle_unknown='ignore'), CATEGORICALS),\n",
    ")\n",
    "interaction_features = PolynomialFeatures(\n",
    "    degree=2,\n",
    "    interaction_only=True,\n",
    "    include_bias=False,\n",
    ")\n",
    "no_variance_filter = VarianceThreshold()\n",
    "\n",
    "\n",
    "# Check your answer\n",
    "q_1.check()"
   ]
  },
  {
   "cell_type": "markdown",
   "metadata": {},
   "source": [
    "# Step 2 - Create Pipeline #\n",
    "\n",
    "Now create the pipeline you'll use for prediction. You'll use XGBoost to predict the home prices. Be sure to put the transformers in the correct order, with `xgboost` at the end."
   ]
  },
  {
   "cell_type": "code",
   "execution_count": null,
   "metadata": {
    "lines_to_next_cell": 2
   },
   "outputs": [],
   "source": [
    "from sklearn.pipeline import make_pipeline\n",
    "from xgboost import XGBRegressor\n",
    "\n",
    "\n",
    "# YOUR CODE HERE: Create the xgboost model\n",
    "xgboost = XGBRegressor()\n",
    "\n",
    "# YOUR CODE HERE: Create the pipeline with transformers and model\n",
    "pipeline = make_pipeline(\n",
    "    one_hot_encoder,\n",
    "    interaction_features,\n",
    "    no_variance_filter,\n",
    "    xgboost,\n",
    ")\n",
    "\n",
    "\n",
    "# Check your answer\n",
    "q_2.check()"
   ]
  },
  {
   "cell_type": "markdown",
   "metadata": {},
   "source": [
    "# Step 3 - Estimate Performance #\n",
    "\n",
    "Now estimate the generalization error of the `pipeline` model with 5-fold cross-validation. As before, use `'neg_mean_absolute_error'` for the scoring metric."
   ]
  },
  {
   "cell_type": "code",
   "execution_count": null,
   "metadata": {
    "lines_to_next_cell": 2
   },
   "outputs": [],
   "source": [
    "from sklearn.model_selection import cross_val_score\n",
    "\n",
    "# YOUR CODE HERE\n",
    "score = cross_val_score(\n",
    "    pipeline, X, y, cv=5, scoring='neg_mean_absolute_error'\n",
    ")\n",
    "score = -1 * score.mean()\n",
    "print(\"MAE with interactions: {:.4f}\".format(score))\n",
    "\n",
    "\n",
    "# Check your answer\n",
    "q_3.check()"
   ]
  },
  {
   "cell_type": "markdown",
   "metadata": {},
   "source": [
    "# Step 4 - Evaluate #\n",
    "\n",
    "What could you do to determine whether adding the interaction features improved the performance of XGBoost on this dataset? Can you think of any other stateless transforms that might be useful? After you've thought about it, run the next cell for some discussion."
   ]
  },
  {
   "cell_type": "code",
   "execution_count": null,
   "metadata": {
    "lines_to_next_cell": 0
   },
   "outputs": [],
   "source": [
    "# Check your answer (run this cell for credit!)\n",
    "q_4.check()"
   ]
  },
  {
   "cell_type": "markdown",
   "metadata": {},
   "source": [
    "```\n",
    "# Solution: Check it against a baseline, that is, without the interaction features.\n",
    "# We could try taking ratios of rooms (bathrooms to total rooms) or rooms to living area.\n",
    "```\n",
    "\n",
    "# Keep Going #"
   ]
  }
 ],
 "metadata": {
  "jupytext": {
   "cell_metadata_filter": "-all",
   "main_language": "python",
   "notebook_metadata_filter": "-all"
  },
  "kernelspec": {
   "display_name": "Python 3",
   "language": "python",
   "name": "python3"
  },
  "language_info": {
   "codemirror_mode": {
    "name": "ipython",
    "version": 3
   },
   "file_extension": ".py",
   "mimetype": "text/x-python",
   "name": "python",
   "nbconvert_exporter": "python",
   "pygments_lexer": "ipython3",
   "version": "3.6.5"
  }
 },
 "nbformat": 4,
 "nbformat_minor": 4
}
