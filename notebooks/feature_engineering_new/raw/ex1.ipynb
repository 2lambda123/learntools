{
 "cells": [
  {
   "cell_type": "markdown",
   "metadata": {},
   "source": [
    "# The Ames Housing Dataset #\n",
    "\n",
    "In the exercises you'll complete a feature engineering project with the [*Ames Housing*](https://www.kaggle.com/marcopale/housing) dataset. The *House Prices Getting Started* bonus lesson reproduces this work on the same dataset used in our *House Prices* Getting Started competition. After completing this course, you'll have a starter notebook ready to extend with ideas of your own.\n",
    "\n",
    "In this first exercise, you'll do a complete iteration of feature development: understand the dataset, create a baseline model, create a derived feature, and compare performance.\n",
    "\n",
    "Run this next cell to set everything up!"
   ]
  },
  {
   "cell_type": "code",
   "execution_count": null,
   "metadata": {},
   "outputs": [],
   "source": [
    "# Setup feedback system\n",
    "from learntools.core import binder\n",
    "binder.bind(globals())\n",
    "from learntools.feature_engineering_new.ex1 import *\n",
    "\n",
    "import matplotlib.pyplot as plt\n",
    "import numpy as np\n",
    "import pandas as pd\n",
    "import seaborn as sns\n",
    "from sklearn.model_selection import cross_val_score\n",
    "from xgboost import XGBRegressor\n",
    "\n",
    "# Set Matplotlib defaults\n",
    "plt.style.use(\"seaborn-whitegrid\")\n",
    "plt.rc(\"figure\", autolayout=True)\n",
    "plt.rc(\n",
    "    \"axes\",\n",
    "    labelweight=\"bold\",\n",
    "    labelsize=\"large\",\n",
    "    titleweight=\"bold\",\n",
    "    titlesize=14,\n",
    "    titlepad=10,\n",
    ")\n",
    "\n",
    "\n",
    "def score_dataset(X, y):\n",
    "    # Label encoding for categoricals\n",
    "    for colname in X.select_dtypes([\"category\", \"object\"]):\n",
    "        X[colname], _ = X[colname].factorize()\n",
    "    # Train and score baseline model\n",
    "    xgb = XGBRegressor()\n",
    "    # Metric for Housing competition is RMSLE (Root Mean Squared Log Error)\n",
    "    score = cross_val_score(\n",
    "        xgb, X, y, cv=5, scoring=\"neg_mean_squared_log_error\",\n",
    "    )\n",
    "    score = -1 * score.mean()\n",
    "    score = np.sqrt(score)\n",
    "    return score\n",
    "\n",
    "\n",
    "df = pd.read_csv(\"../input/fe-course-data/ames.csv\")"
   ]
  },
  {
   "cell_type": "markdown",
   "metadata": {},
   "source": [
    "Here are five features from the *Ames* dataset."
   ]
  },
  {
   "cell_type": "code",
   "execution_count": null,
   "metadata": {},
   "outputs": [],
   "source": [
    "features = [\n",
    "    \"OverallQual\",\n",
    "    \"CentralAir\",\n",
    "    \"GrLivArea\",\n",
    "    \"Neighborhood\",\n",
    "    \"Fireplaces\",\n",
    "]\n",
    "df[features].head(10)"
   ]
  },
  {
   "cell_type": "markdown",
   "metadata": {},
   "source": [
    "# 1) Determine Data Types\n",
    "\n",
    "Can you name the data type of each of these features? Record your answers as a `string`, one of: `\"continuous\"`, `\"discrete\"`, `\"ordinal\"`, `\"nominal\"`, or `\"binary\"`."
   ]
  },
  {
   "cell_type": "code",
   "execution_count": null,
   "metadata": {
    "lines_to_next_cell": 0
   },
   "outputs": [],
   "source": [
    "# YOUR CODE HERE: Enter your answer as a string, like:\n",
    "# feature = \"continuous\"\n",
    "overall_qual = ____\n",
    "central_air = ____\n",
    "gr_liv_area = ____\n",
    "neighborhood = ____\n",
    "fireplaces = ____\n",
    "\n",
    "\n",
    "# Check your answer\n",
    "q_1.check()"
   ]
  },
  {
   "cell_type": "code",
   "execution_count": null,
   "metadata": {
    "lines_to_next_cell": 0
   },
   "outputs": [],
   "source": [
    "# Lines below will give you a hint or solution code\n",
    "#_COMMENT_IF(PROD)_\n",
    "q_1.hint()\n",
    "#_COMMENT_IF(PROD)_\n",
    "q_1.solution()"
   ]
  },
  {
   "cell_type": "code",
   "execution_count": null,
   "metadata": {
    "lines_to_next_cell": 0
   },
   "outputs": [],
   "source": [
    "#%%RM_IF(PROD)%%\n",
    "overall_qual = \"nominal\"\n",
    "central_air = \"ordinal\"\n",
    "gr_liv_area = \"continuous\"\n",
    "neighborhood = \"discrete\"\n",
    "fireplaces = \"continuous\"\n",
    "\n",
    "q_1.assert_check_failed()"
   ]
  },
  {
   "cell_type": "code",
   "execution_count": null,
   "metadata": {
    "lines_to_next_cell": 0
   },
   "outputs": [],
   "source": [
    "#%%RM_IF(PROD)%%\n",
    "overall_qual = 1\n",
    "central_air = \"ordinal\"\n",
    "gr_liv_area = False\n",
    "neighborhood = None\n",
    "fireplaces = \"disc\"\n",
    "\n",
    "q_1.assert_check_failed()"
   ]
  },
  {
   "cell_type": "code",
   "execution_count": null,
   "metadata": {},
   "outputs": [],
   "source": [
    "#%%RM_IF(PROD)%%\n",
    "overall_qual = \"ordinal\"\n",
    "central_air = \"binary\"\n",
    "gr_liv_area = \"continuous\"\n",
    "neighborhood = \"nominal\"\n",
    "fireplaces = \"discrete\"\n",
    "\n",
    "q_1.assert_check_passed()"
   ]
  },
  {
   "cell_type": "markdown",
   "metadata": {},
   "source": [
    "Often, the author of a dataset which will tell you the intended types and values of each feature in the dataset's documentation. You can see the author's documentation of this dataset by running the cell below:"
   ]
  },
  {
   "cell_type": "code",
   "execution_count": null,
   "metadata": {},
   "outputs": [],
   "source": [
    "# Uncomment and run to see data documentation\n",
    "#_UNCOMMENT_IF(PROD)_\n",
    "#!cat \"../input/fe-course-data/DataDocumentation.txt\""
   ]
  },
  {
   "cell_type": "markdown",
   "metadata": {},
   "source": [
    "-------------------------------------------------------------------------------\n",
    "\n",
    "Effective feature engineering makes use of prominent relationships in the dataset. Data visualization is one of the best ways to discover these relationships. Now you'll use Seaborn to discover some important things about the *Ames* data. (Check our our [Data Visualization](https://www.kaggle.com/learn/data-visualization) course, too!)\n",
    "\n",
    "You can see the relationship a feature has to the target with a *scatterplot*. Take a look at scatterplots for `YearBuilt` and `MoSold` relative to `SalePrice`:"
   ]
  },
  {
   "cell_type": "code",
   "execution_count": null,
   "metadata": {},
   "outputs": [],
   "source": [
    "fig, axs = plt.subplots(1, 2, figsize=(10, 5), sharey=True)\n",
    "axs[0] = sns.scatterplot(x=\"YearBuilt\", y=\"SalePrice\", data=df, ax=axs[0])\n",
    "axs[1] = sns.scatterplot(x=\"MoSold\", y=\"SalePrice\", data=df, ax=axs[1])"
   ]
  },
  {
   "cell_type": "markdown",
   "metadata": {},
   "source": [
    "# 2) Discover Relationships\n",
    "\n",
    "Does there appear to be a significant relationship between either feature and the target? If so, does the relationship appear to be linear (best fit with a line)?\n",
    "\n",
    "After you've thought about your answer, run the following cell for a solution."
   ]
  },
  {
   "cell_type": "code",
   "execution_count": null,
   "metadata": {},
   "outputs": [],
   "source": [
    "# View the solution (Run this cell to receive credit!)\n",
    "q_2.check()"
   ]
  },
  {
   "cell_type": "markdown",
   "metadata": {},
   "source": [
    "-------------------------------------------------------------------------------\n",
    "\n",
    "The number of bathrooms in a home is often important to prospective home-buyers. The *Ames* data contains four such features:\n",
    "- `FullBath`\n",
    "- `HalfBath`\n",
    "- `BsmtFullBath`\n",
    "- `BsmtHalfBath`\n",
    "\n",
    "# 3) Create a New Feature\n",
    "\n",
    "Create a new feature `TotalBaths` that describes the *total* number of bathrooms in a home. There are a couple answers that might be reasonable. Can you think of a way that's better than just summing the features up?"
   ]
  },
  {
   "cell_type": "code",
   "execution_count": null,
   "metadata": {
    "lines_to_next_cell": 0
   },
   "outputs": [],
   "source": [
    "X = df.copy()\n",
    "y = X.pop('SalePrice')\n",
    "\n",
    "\n",
    "# YOUR CODE HERE\n",
    "X[\"TotalBaths\"] = ____\n",
    "\n",
    "\n",
    "# Check your answer\n",
    "q_3.check()"
   ]
  },
  {
   "cell_type": "code",
   "execution_count": null,
   "metadata": {
    "lines_to_next_cell": 0
   },
   "outputs": [],
   "source": [
    "# Lines below will give you a hint or solution code\n",
    "#_COMMENT_IF(PROD)_\n",
    "q_3.hint()\n",
    "#_COMMENT_IF(PROD)_\n",
    "q_3.solution()"
   ]
  },
  {
   "cell_type": "code",
   "execution_count": null,
   "metadata": {
    "lines_to_next_cell": 0
   },
   "outputs": [],
   "source": [
    "#%%RM_IF(PROD)%%\n",
    "X = df.copy()\n",
    "y = X.pop('SalePrice')\n",
    "\n",
    "X[\"TotalBaths\"] = \\\n",
    "    df.FullBath + df.HalfBath + \\\n",
    "    df.BsmtFullBath + df.BsmtHalfBath\n",
    "\n",
    "q_3.assert_check_failed()"
   ]
  },
  {
   "cell_type": "code",
   "execution_count": null,
   "metadata": {
    "lines_to_next_cell": 0
   },
   "outputs": [],
   "source": [
    "#%%RM_IF(PROD)%%\n",
    "X = df.copy()\n",
    "y = X.pop('SalePrice')\n",
    "\n",
    "X[\"TotalBaths\"] = \\\n",
    "    df.FullBath + df.HalfBath\n",
    "\n",
    "q_3.assert_check_failed()"
   ]
  },
  {
   "cell_type": "code",
   "execution_count": null,
   "metadata": {
    "lines_to_next_cell": 0
   },
   "outputs": [],
   "source": [
    "#%%RM_IF(PROD)%%\n",
    "X = df.copy()\n",
    "y = X.pop('SalePrice')\n",
    "\n",
    "X[\"TotalBaths\"] = \\\n",
    "    df.BsmtFullBath + df.BsmtHalfBath\n",
    "\n",
    "q_3.assert_check_failed()"
   ]
  },
  {
   "cell_type": "code",
   "execution_count": null,
   "metadata": {},
   "outputs": [],
   "source": [
    "#%%RM_IF(PROD)%%\n",
    "X = df.copy()\n",
    "y = X.pop('SalePrice')\n",
    "\n",
    "# Solution 1: HalfBath with half the weight of FullBath\n",
    "X[\"TotalBaths\"] = \\\n",
    "    df.FullBath + 0.5 * df.HalfBath + \\\n",
    "    df.BsmtFullBath + 0.5 * df.BsmtHalfBath\n",
    "\n",
    "# Solution 2: Same, but preserves int type\n",
    "X[\"TotalBaths\"] = \\\n",
    "    2 * df.FullBath + df.HalfBath + \\\n",
    "    2 * df.BsmtFullBath + df.BsmtHalfBath\n",
    "\n",
    "q_3.assert_check_passed()"
   ]
  },
  {
   "cell_type": "markdown",
   "metadata": {},
   "source": [
    "-------------------------------------------------------------------------------\n",
    "\n",
    "Now compare the performance of XGBoost on *Ames* with and without the `TotalBaths` feature. (The `score_dataset` function performs 5-fold cross-validation with XGBoost using with the RMSLE metric, the same metric used in the *House Prices* competition.)"
   ]
  },
  {
   "cell_type": "code",
   "execution_count": null,
   "metadata": {},
   "outputs": [],
   "source": [
    "X_base = df.copy()\n",
    "y_base = X_base.pop(\"SalePrice\")\n",
    "\n",
    "baseline_score = score_dataset(X_base, y_base)\n",
    "new_score = score_dataset(X, y)\n",
    "\n",
    "print(f\"Score Without New Feature: {baseline_score:.4f} RMSLE\")\n",
    "print(f\"Score With New Feature: {new_score:.4f} RMSLE\")"
   ]
  },
  {
   "cell_type": "markdown",
   "metadata": {},
   "source": [
    "# 4) Feature Selection\n",
    "\n",
    "Based on the performance of XGBoost with and without the additional feature, would you decide to keep or discard the new feature? Or is there not enough information to decide?\n",
    "\n",
    "After you've thought about you're answer, run the next cell for the solution."
   ]
  },
  {
   "cell_type": "code",
   "execution_count": null,
   "metadata": {},
   "outputs": [],
   "source": [
    "# View the solution (Run this cell to receive credit!)\n",
    "q_4.check()"
   ]
  },
  {
   "cell_type": "markdown",
   "metadata": {},
   "source": [
    "# Iterating on Feature Sets #\n",
    "\n",
    "You've just worked through a complete iteration of feature development: discovery, creation, validation, and selection. In most machine learning projects, you'll likely go through many such iterations before arriving at your final, best feature set.\n",
    "\n",
    "In the next lesson, you'll learn about *feature utility*, a way of scoring features for their potential usefulness -- a big help when you're just getting started with a new dataset!\n",
    "\n",
    "# Keep Going #\n",
    "\n",
    "[**Discover useful features**](#$NEXT_NOTEBOOK_URL$) with mutual information."
   ]
  }
 ],
 "metadata": {
  "jupytext": {
   "cell_metadata_filter": "-all",
   "formats": "ipynb"
  },
  "kernelspec": {
   "display_name": "Python 3",
   "language": "python",
   "name": "python3"
  },
  "language_info": {
   "codemirror_mode": {
    "name": "ipython",
    "version": 3
   },
   "file_extension": ".py",
   "mimetype": "text/x-python",
   "name": "python",
   "nbconvert_exporter": "python",
   "pygments_lexer": "ipython3",
   "version": "3.6.5"
  }
 },
 "nbformat": 4,
 "nbformat_minor": 4
}
