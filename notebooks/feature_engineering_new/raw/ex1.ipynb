{
 "cells": [
  {
   "cell_type": "markdown",
   "metadata": {},
   "source": [
    "# Introduction #"
   ]
  },
  {
   "cell_type": "markdown",
   "metadata": {},
   "source": [
    "# The Ames Housing Dataset #\n",
    "\n",
    "In the exercises of this course, you'll a complete a feature engineering project with the *Ames Housing* dataset.\n",
    "\n",
    "The *Ames Housing Case Study* bonus lesson reproduces this work on the same dataset used in our *House Prices* Getting Started competition. After completing this course, you'll have a starter notebook ready to extend with ideas of your own.\n"
   ]
  },
  {
   "cell_type": "code",
   "execution_count": null,
   "metadata": {
    "lines_to_next_cell": 2
   },
   "outputs": [],
   "source": [
    "# Prepare data - Run this cell\n"
   ]
  },
  {
   "cell_type": "markdown",
   "metadata": {},
   "source": [
    "# Determine Feature Types #\n",
    "\n",
    "Thought question.\n",
    "\n",
    "# Fit Baseline Model #\n",
    "\n",
    "We'll use XGBoost, a favorite among competition winners."
   ]
  },
  {
   "cell_type": "code",
   "execution_count": null,
   "metadata": {},
   "outputs": [],
   "source": [
    "# Coding problem"
   ]
  },
  {
   "cell_type": "markdown",
   "metadata": {},
   "source": [
    "# Create a Synthetic Feature #\n",
    "\n",
    "Equality check.\n",
    "\n",
    "# Retrain New Model #\n",
    "\n",
    "Coding problem.\n",
    "\n",
    "# Keep Going #"
   ]
  }
 ],
 "metadata": {
  "jupytext": {
   "cell_metadata_filter": "-all",
   "main_language": "python",
   "notebook_metadata_filter": "-all"
  },
  "kernelspec": {
   "display_name": "Python 3",
   "language": "python",
   "name": "python3"
  },
  "language_info": {
   "codemirror_mode": {
    "name": "ipython",
    "version": 3
   },
   "file_extension": ".py",
   "mimetype": "text/x-python",
   "name": "python",
   "nbconvert_exporter": "python",
   "pygments_lexer": "ipython3",
   "version": "3.6.5"
  }
 },
 "nbformat": 4,
 "nbformat_minor": 4
}
