{
 "cells": [
  {
   "cell_type": "markdown",
   "metadata": {},
   "source": [
    "\n",
    "# Introduction #"
   ]
  },
  {
   "cell_type": "markdown",
   "metadata": {},
   "source": [
    "Run this cell to set everything up."
   ]
  },
  {
   "cell_type": "code",
   "execution_count": null,
   "metadata": {},
   "outputs": [],
   "source": [
    "# Setup feedback system\n",
    "from learntools.core import binder\n",
    "binder.bind(globals())\n",
    "from learntools.deep_learning_intro.ex1 import *"
   ]
  },
  {
   "cell_type": "markdown",
   "metadata": {},
   "source": [
    "In this exercise, you'll create a complete machine-learning pipeline for the *Concrete* dataset. One measure of the quality of a concrete formulation is the concrete's *compressive strength*, meaning how much load it can bear. The task is to predict the compressive strength of concrete manufactured according to various formulations."
   ]
  },
  {
   "cell_type": "code",
   "execution_count": null,
   "metadata": {
    "lines_to_next_cell": 2
   },
   "outputs": [],
   "source": [
    "import pandas as pd\n",
    "\n",
    "df = pd.read_csv(\"../input/fe-course-data/concrete.csv\")\n",
    "df.head()"
   ]
  },
  {
   "cell_type": "markdown",
   "metadata": {},
   "source": [
    "# Step 1 - Define Transformer #\n",
    "\n",
    "The correct ratio ingredients in a recipe is often essential to its success. So let's create a few ratio features to add to our dataset.\n",
    "\n",
    "Define a function transformer that will add the following features to the dataset:\n",
    "1) the ratio of `\"Water\"` to `\"Cement\"`\n",
    "2) the ratio of `\"FineAggregate\"` to `\"CoarseAggregate\"`\n",
    "3) the ratio of `\"FineAggregate\"` plus `\"CoarseAggregate\"` to `\"Cement\"`\n"
   ]
  },
  {
   "cell_type": "code",
   "execution_count": null,
   "metadata": {
    "lines_to_next_cell": 2
   },
   "outputs": [],
   "source": [
    "import numpy as np\n",
    "from sklearn.preprocessing import FunctionTransformer\n",
    "\n",
    "\n",
    "# YOUR CODE HERE: Define a function to create the ratio features\n",
    "def make_ratios(X):\n",
    "    X = X.copy()\n",
    "    X[\"FCRatio\"] = X[\"FineAggregate\"] / X[\"CoarseAggregate\"]\n",
    "    X[\"AggCmtRatio\"] = (X[\"CoarseAggregate\"] + X[\"FineAggregate\"]) / X[\n",
    "        \"Cement\"\n",
    "    ]\n",
    "    X[\"WtrCmtRatio\"] = X[\"Water\"] / X[\"Cement\"]\n",
    "    return X\n",
    "\n",
    "\n",
    "# YOUR CODE HERE: Create a FunctionTransformer from the function you just defined\n",
    "ratio_transformer = FunctionTransformer(make_ratios)\n",
    "\n",
    "\n",
    "# Check your answer\n",
    "q_1.check()"
   ]
  },
  {
   "cell_type": "markdown",
   "metadata": {},
   "source": [
    "# Step 2 - Create Pipeline #\n",
    "\n",
    "Now create a random forest model and construct a pipeline that includes the feature engineering transform `ratio_transformer`.\n"
   ]
  },
  {
   "cell_type": "code",
   "execution_count": null,
   "metadata": {
    "lines_to_next_cell": 2
   },
   "outputs": [],
   "source": [
    "from sklearn.ensemble import RandomForestRegressor\n",
    "from sklearn.pipeline import Pipeline\n",
    "\n",
    "\n",
    "# YOUR CODE HERE: Create a random forest model\n",
    "random_forest = RandomForestRegressor()\n",
    "\n",
    "# YOUR CODE HERE: Construct a pipeline\n",
    "pipeline = Pipeline([(\"ft\", ratio_transformer), (\"rf\", random_forest)])\n",
    "\n",
    "\n",
    "# Check your answer\n",
    "q_2.check()"
   ]
  },
  {
   "cell_type": "markdown",
   "metadata": {},
   "source": [
    "# Step 3 - Estimate Performance #\n",
    "\n",
    "Now estimate the generalization error of this pipeline with 5-fold cross-validation. As in the tutorial, use the scoring metric `\"neg_mean_absolute_error\"`.\n"
   ]
  },
  {
   "cell_type": "code",
   "execution_count": null,
   "metadata": {
    "lines_to_next_cell": 2
   },
   "outputs": [],
   "source": [
    "from sklearn.model_selection import cross_val_score\n",
    "\n",
    "\n",
    "# YOUR CODE HERE: Cross-validate with the transformed features\n",
    "score = cross_val_score(\n",
    "    pipeline, X, y, cv=5, scoring=\"neg_mean_absolute_error\"\n",
    ")\n",
    "score = -1 * score.mean()\n",
    "print(\"With ratios: {:.4f}\".format(score))\n",
    "\n",
    "\n",
    "# Check your answer\n",
    "q_3.check()"
   ]
  },
  {
   "cell_type": "markdown",
   "metadata": {},
   "source": [
    "# Step 4 - Compare to Baseline #\n",
    "\n",
    "To check whether the feature engineering led to any improvement, check it agaist a baseline score. Use the same parameters as before, but this time with `random_forest` instead of `pipeline`.\n"
   ]
  },
  {
   "cell_type": "code",
   "execution_count": null,
   "metadata": {
    "lines_to_next_cell": 2
   },
   "outputs": [],
   "source": [
    "# YOUR CODE HERE: Cross-validate a baseline score\n",
    "score = cross_val_score(\n",
    "    random_forest, X, y, cv=5, scoring=\"neg_mean_absolute_error\"\n",
    ")\n",
    "score = -1 * score.mean()\n",
    "print(\"Baseline: {:.4f}\".format(score))\n",
    "\n",
    "\n",
    "# Check your answer\n",
    "q_4.check()"
   ]
  },
  {
   "cell_type": "markdown",
   "metadata": {},
   "source": [
    "# Step 5 - Evaluate #\n",
    "\n",
    "Based on this baseline score, do you think it would be a good idea to keep these new ratio features? Run the following cell after you've thought about your answer.\n"
   ]
  },
  {
   "cell_type": "code",
   "execution_count": null,
   "metadata": {
    "lines_to_next_cell": 2
   },
   "outputs": [],
   "source": [
    "# Check your answer\n",
    "q_5.check()"
   ]
  },
  {
   "cell_type": "markdown",
   "metadata": {},
   "source": [
    "# Keep Going #"
   ]
  }
 ],
 "metadata": {
  "jupytext": {
   "cell_metadata_filter": "-all",
   "main_language": "python",
   "notebook_metadata_filter": "-all"
  },
  "kernelspec": {
   "display_name": "Python 3",
   "language": "python",
   "name": "python3"
  },
  "language_info": {
   "codemirror_mode": {
    "name": "ipython",
    "version": 3
   },
   "file_extension": ".py",
   "mimetype": "text/x-python",
   "name": "python",
   "nbconvert_exporter": "python",
   "pygments_lexer": "ipython3",
   "version": "3.7.6"
  }
 },
 "nbformat": 4,
 "nbformat_minor": 4
}
