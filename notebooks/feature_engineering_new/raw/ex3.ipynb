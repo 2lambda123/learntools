{
 "cells": [
  {
   "cell_type": "markdown",
   "metadata": {},
   "source": [
    "\n",
    "# Introduction #"
   ]
  },
  {
   "cell_type": "markdown",
   "metadata": {},
   "source": [
    "Run this cell to set everything up."
   ]
  },
  {
   "cell_type": "code",
   "execution_count": null,
   "metadata": {},
   "outputs": [],
   "source": [
    "SEED = 31415\n",
    "\n",
    "# Setup feedback system\n",
    "from learntools.core import binder\n",
    "binder.bind(globals())\n",
    "from learntools.feature_engineering_new.ex3 import *"
   ]
  },
  {
   "cell_type": "markdown",
   "metadata": {},
   "source": [
    "In this exercise, you'll use another housing dataset, the *California Housing* dataset. As opposed to individual homes, this dataset uses features that describe an average or median within a census block. You'll be predicting the median house value within a block. (A \"census block\" is a tract of land containing a few hundred to a few thousand people, as defined by the US Census Bureau.)\n",
    "\n",
    "Run the next cell to set up the data."
   ]
  },
  {
   "cell_type": "code",
   "execution_count": null,
   "metadata": {
    "lines_to_next_cell": 2
   },
   "outputs": [],
   "source": [
    "import pandas as pd\n",
    "from IPython.display import display\n",
    "\n",
    "df = pd.read_csv('../input/fe-course-data/housing.csv')\n",
    "display(df.head())\n",
    "X = df.copy()\n",
    "y = X.pop(\"MedHouseVal\")"
   ]
  },
  {
   "cell_type": "markdown",
   "metadata": {},
   "source": [
    "# Step 2 - Define Transforms #\n",
    "\n",
    "The features in the *California Housing* dataset are all numeric, which makes them a good candidate for PCA. Define three transforms:\n",
    "1. a `PolynomialFeatures` instance to create interaction features\n",
    "2. a `StandardScaler` to standardize the data\n",
    "3. a `PCA` instance that retains 95% of the variance in the dataset"
   ]
  },
  {
   "cell_type": "code",
   "execution_count": null,
   "metadata": {
    "lines_to_next_cell": 2
   },
   "outputs": [],
   "source": [
    "from sklearn.preprocessing import PolynomialFeatures, StandardScaler\n",
    "from sklearn.decomposition import PCA\n",
    "\n",
    "\n",
    "# YOUR CODE HERE: Define the feature transforms\n",
    "polynomial_features = PolynomialFeatures(\n",
    "    degree=2, interaction_only=True, include_bias=False,\n",
    ")\n",
    "scaler = StandardScaler()\n",
    "pca = PCA(n_components=0.95)\n",
    "\n",
    "\n",
    "# Check your answer\n",
    "q_2.check()"
   ]
  },
  {
   "cell_type": "markdown",
   "metadata": {},
   "source": [
    "# Step 3 - Define Pipeline\n",
    "\n",
    "Now create the complete pipeline you'll use for prediction, using XGBoost as before. Pay attention to the order the transforms occur in the pipeline."
   ]
  },
  {
   "cell_type": "code",
   "execution_count": null,
   "metadata": {
    "lines_to_next_cell": 2
   },
   "outputs": [],
   "source": [
    "from xgboost import XGBRegressor\n",
    "from sklearn.pipeline import make_pipeline\n",
    "\n",
    "# YOUR CODE HERE: Create the XGBRegressor, then define the complete pipeline \n",
    "xgb = XGBRegressor()\n",
    "pipeline = make_pipeline(\n",
    "    polynomial_features, scaler, pca, xgb,\n",
    ")\n",
    "\n",
    "\n",
    "# Check your answer\n",
    "q_3.check()"
   ]
  },
  {
   "cell_type": "markdown",
   "metadata": {},
   "source": [
    "# Step 4 - Estimate Performance #\n",
    "\n",
    "Now evaluate the complete pipeline with 5-fold cross validation."
   ]
  },
  {
   "cell_type": "code",
   "execution_count": null,
   "metadata": {
    "lines_to_next_cell": 2
   },
   "outputs": [],
   "source": [
    "from sklearn.model_selection import cross_val_score\n",
    "\n",
    "\n",
    "# YOUR CODE HERE: Cross-validate\n",
    "score = cross_val_score(\n",
    "    pipeline, X, y, cv=5, scoring='neg_mean_absolute_error'\n",
    ")\n",
    "score = -1 * score.mean()\n",
    "\n",
    "print(\"Score: {:.4f}\".format(score))\n",
    "\n",
    "\n",
    "# Check your answer\n",
    "q_4.check()"
   ]
  },
  {
   "cell_type": "markdown",
   "metadata": {},
   "source": [
    "# Keep Going #"
   ]
  }
 ],
 "metadata": {
  "jupytext": {
   "cell_metadata_filter": "-all",
   "main_language": "python",
   "notebook_metadata_filter": "-all"
  },
  "kernelspec": {
   "display_name": "Python 3",
   "language": "python",
   "name": "python3"
  },
  "language_info": {
   "codemirror_mode": {
    "name": "ipython",
    "version": 3
   },
   "file_extension": ".py",
   "mimetype": "text/x-python",
   "name": "python",
   "nbconvert_exporter": "python",
   "pygments_lexer": "ipython3",
   "version": "3.6.5"
  }
 },
 "nbformat": 4,
 "nbformat_minor": 4
}
