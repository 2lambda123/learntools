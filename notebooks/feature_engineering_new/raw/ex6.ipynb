{
 "cells": [
  {
   "cell_type": "markdown",
   "metadata": {},
   "source": [
    "\n",
    "# Introduction #\n"
   ]
  },
  {
   "cell_type": "markdown",
   "metadata": {},
   "source": [
    "Run this cell to set everything up."
   ]
  },
  {
   "cell_type": "code",
   "execution_count": null,
   "metadata": {},
   "outputs": [],
   "source": [
    "import matplotlib.pyplot as plt\n",
    "import seaborn as sns\n",
    "\n",
    "# Set Matplotlib defaults\n",
    "plt.style.use(\"seaborn-whitegrid\")\n",
    "plt.rc(\"figure\", autolayout=True)\n",
    "plt.rc(\n",
    "    \"axes\",\n",
    "    labelweight=\"bold\",\n",
    "    labelsize=\"large\",\n",
    "    titleweight=\"bold\",\n",
    "    titlesize=18,\n",
    "    titlepad=10,\n",
    ")\n",
    "\n",
    "\n",
    "# Setup feedback system\n",
    "from learntools.core import binder\n",
    "binder.bind(globals())\n",
    "from learntools.deep_learning_intro.ex6 import *"
   ]
  },
  {
   "cell_type": "markdown",
   "metadata": {},
   "source": [
    "In this exercise, you'll predict the demand for rental bikes on a given day of the year in a bike sharing program. The *Bike Sharing* dataset contains features describing a day of the year and the weather conditions on that day. The target `cnt` is the number of rentals on that day.\n",
    "\n",
    "Run the next cell to set up the data.\n"
   ]
  },
  {
   "cell_type": "code",
   "execution_count": null,
   "metadata": {},
   "outputs": [],
   "source": [
    "import pandas as pd\n",
    "\n",
    "df = pd.read_csv(\"../input/fe-course-data/bike-sharing.csv\")\n",
    "X = df.drop([\"instant\", \"dteday\", \"casual\", \"registered\"], axis=1)\n",
    "y = X.pop('cnt')\n",
    "\n",
    "X.head()"
   ]
  },
  {
   "cell_type": "markdown",
   "metadata": {},
   "source": [
    "It's important when selecting features for prediction to first examine the data. As discussed in the tutorial, high correlation among features in particular can cause problems.\n",
    "\n",
    "Start by running this cell to get a plot of the correlations between features."
   ]
  },
  {
   "cell_type": "code",
   "execution_count": null,
   "metadata": {
    "lines_to_next_cell": 2
   },
   "outputs": [],
   "source": [
    "plt.figure(dpi=100)\n",
    "sns.heatmap(X.corr(), cmap=\"RdBu\", vmin=-1.0, vmax=1.0)"
   ]
  },
  {
   "cell_type": "markdown",
   "metadata": {},
   "source": [
    "# # Step 1 - Examine Data #\n",
    "\n",
    "Are the correlations high enough to warrant removal of any features? If so, which ones?\n",
    "\n",
    "After you've thought about it, run the next cell for some discussion."
   ]
  },
  {
   "cell_type": "code",
   "execution_count": null,
   "metadata": {},
   "outputs": [],
   "source": [
    "# Check your answer\n",
    "q_1.check()"
   ]
  },
  {
   "cell_type": "markdown",
   "metadata": {},
   "source": [
    "# # Step 2 - Drop Features #\n",
    "\n",
    "Now drop one of each pair of highly-correlated features you identified above."
   ]
  },
  {
   "cell_type": "code",
   "execution_count": null,
   "metadata": {},
   "outputs": [],
   "source": [
    "# YOUR CODE HERE\n",
    "X.drop([\"temp\", \"season\"], axis=1, inplace=True)\n",
    "\n",
    "\n",
    "# Check your answer\n",
    "q_2.check()"
   ]
  },
  {
   "cell_type": "markdown",
   "metadata": {},
   "source": [
    "You can look at the new correlation matrix by running this cell, if you like."
   ]
  },
  {
   "cell_type": "code",
   "execution_count": null,
   "metadata": {},
   "outputs": [],
   "source": [
    "plt.figure(dpi=100)\n",
    "sns.heatmap(X.corr(), cmap=\"RdBu\", vmin=-1.0, vmax=1.0)"
   ]
  },
  {
   "cell_type": "markdown",
   "metadata": {},
   "source": [
    "# # Step 3 - Define Mutual Information Filter #\n",
    "\n",
    "Use a mutual information filter to select 5 features for prediction."
   ]
  },
  {
   "cell_type": "code",
   "execution_count": null,
   "metadata": {},
   "outputs": [],
   "source": [
    "from sklearn.feature_selection import mutual_info_regression, SelectKBest\n",
    "\n",
    "\n",
    "# YOUR CODE HERE\n",
    "mi_filter = SelectKBest(score_func=mutual_info_regression, k=5)\n",
    "\n",
    "\n",
    "# Check your answer\n",
    "q_3.check()"
   ]
  },
  {
   "cell_type": "markdown",
   "metadata": {},
   "source": [
    "# # Step 4 - Apply Filter #\n",
    "\n",
    "Since the mutual information filter is a supervised technique, you'll need to fit it on data that is independent from the training data.\n",
    "\n",
    "For this exercise:\n",
    "1. Create a data split for fitting the MI filter. Use 25% of the total data for the fitting set.\n",
    "2. Fit the MI filter.\n",
    "3. Apply the mutual information filter to the data you'll use for training.\n"
   ]
  },
  {
   "cell_type": "code",
   "execution_count": null,
   "metadata": {},
   "outputs": [],
   "source": [
    "from sklearn.model_selection import train_test_split\n",
    "\n",
    "\n",
    "# YOUR CODE HERE: Split the data\n",
    "X_mi, X_train, y_mi, y_train = train_test_split(X, y, train_size=0.25)\n",
    "\n",
    "# YOUR CODE HERE: Fit the MI filter on X_mi\n",
    "mi_filter.fit(X_mi, y_mi)\n",
    "\n",
    "# YOUR CODE HERE: Apply the filter to X_train\n",
    "X_filtered = mi_filter.transform(X_train)\n",
    "\n",
    "\n",
    "# Check your answer\n",
    "q_4.check()"
   ]
  },
  {
   "cell_type": "markdown",
   "metadata": {},
   "source": [
    "Now run this next cell to see the transformed dataset."
   ]
  },
  {
   "cell_type": "code",
   "execution_count": null,
   "metadata": {},
   "outputs": [],
   "source": [
    "features = X.columns  # get the column index\n",
    "mask = mi_filter.get_support()  # selected? True or False\n",
    "mi_features = features[mask]  # select columns\n",
    "X_train = pd.DataFrame(X_train, columns=mi_features)\n",
    "X_train.head()"
   ]
  },
  {
   "cell_type": "markdown",
   "metadata": {},
   "source": [
    "# # Step 5 - Evaluate Decision Tree #\n",
    "\n",
    "Create a decision tree model with `max_depth=3` and evaluate its performance using 5-fold cross-validation. Use '`neg_mean_absolute_error'` for the scoring metric."
   ]
  },
  {
   "cell_type": "code",
   "execution_count": null,
   "metadata": {},
   "outputs": [],
   "source": [
    "from sklearn.tree import DecisionTreeRegressor\n",
    "from sklearn.model_selection import cross_val_score\n",
    "\n",
    "\n",
    "# YOUR CODE HERE: Create a decision tree\n",
    "decision_tree = DecisionTreeRegressor(max_depth=3)\n",
    "\n",
    "# YOUR CODE HERE: Validate with 5-fold CV\n",
    "score = cross_val_score(\n",
    "    decision_tree, X_train, y_train, cv=5, scoring=\"neg_mean_absolute_error\"\n",
    ")\n",
    "score = -1 * score.mean()\n",
    "print(\"Score: {:.4f}\".format(score))\n",
    "\n",
    "\n",
    "# Check your answer\n",
    "q_5.check()"
   ]
  },
  {
   "cell_type": "markdown",
   "metadata": {},
   "source": [
    "# # Step 6 - Train Final Decision Tree #\n",
    "\n",
    "At this point in the modeling process you could decide if using this reduced set of features gives you acceptable performance for your application. If so, it's time to fit the model on the complete dataset."
   ]
  },
  {
   "cell_type": "code",
   "execution_count": null,
   "metadata": {},
   "outputs": [],
   "source": [
    "# YOUR CODE HERE\n",
    "decision_tree.fit(X_train, y_train)\n",
    "\n",
    "# Check your answer\n",
    "q_6.check()"
   ]
  },
  {
   "cell_type": "markdown",
   "metadata": {},
   "source": [
    "Now run this cell to see a plot of the decision tree you created!"
   ]
  },
  {
   "cell_type": "code",
   "execution_count": null,
   "metadata": {},
   "outputs": [],
   "source": [
    "from sklearn.tree import plot_tree\n",
    "\n",
    "plt.figure(dpi=200)\n",
    "plot_tree(\n",
    "    decision_tree, feature_names=xgb_features, filled=True, impurity=False,\n",
    ")"
   ]
  },
  {
   "cell_type": "markdown",
   "metadata": {},
   "source": [
    "# # The End #\n",
    "\n",
    "That's all for **Feature Engineering**. We hope you enjoyed learning with us!"
   ]
  }
 ],
 "metadata": {
  "jupytext": {
   "cell_metadata_filter": "-all",
   "main_language": "python",
   "notebook_metadata_filter": "-all"
  },
  "kernelspec": {
   "display_name": "Python 3",
   "language": "python",
   "name": "python3"
  },
  "language_info": {
   "codemirror_mode": {
    "name": "ipython",
    "version": 3
   },
   "file_extension": ".py",
   "mimetype": "text/x-python",
   "name": "python",
   "nbconvert_exporter": "python",
   "pygments_lexer": "ipython3",
   "version": "3.7.6"
  }
 },
 "nbformat": 4,
 "nbformat_minor": 4
}
