{
 "cells": [
  {
   "cell_type": "markdown",
   "metadata": {},
   "source": [
    "# Introduction #"
   ]
  },
  {
   "cell_type": "markdown",
   "metadata": {},
   "source": [
    "Run this cell to set everything up."
   ]
  },
  {
   "cell_type": "code",
   "execution_count": null,
   "metadata": {},
   "outputs": [],
   "source": [
    "# Setup feedback system\n",
    "from learntools.core import binder\n",
    "binder.bind(globals())\n",
    "from learntools.feature_engineering_new.ex5 import *"
   ]
  },
  {
   "cell_type": "markdown",
   "metadata": {},
   "source": [
    "The *Spotify* dataset contains features describing almost 33,000 popular songs. In this exercise, you'll predict a song's popularity from some features describing its acoustic qualities and genre."
   ]
  },
  {
   "cell_type": "code",
   "execution_count": null,
   "metadata": {
    "lines_to_next_cell": 2
   },
   "outputs": [],
   "source": [
    "import pandas as pd\n",
    "\n",
    "df = pd.read_csv(\"../input/fe-course-data/spotify.csv\")\n",
    "\n",
    "FEATURES = [\n",
    "    \"playlist_genre\",\n",
    "    \"playlist_subgenre\",\n",
    "    \"danceability\",\n",
    "    \"energy\",\n",
    "    \"loudness\",\n",
    "    \"speechiness\",\n",
    "    \"acousticness\",\n",
    "    \"instrumentalness\",\n",
    "    \"liveness\",\n",
    "    \"valence\",\n",
    "    \"tempo\",\n",
    "    \"duration_ms\",\n",
    "]\n",
    "\n",
    "GENRES = [['pop', 'rap', 'rock', 'latin', 'r&b', 'edm']] # use predefined genres\n",
    "\n",
    "X = df.dropna()\n",
    "y = X.pop(\"track_popularity\").to_frame()\n",
    "X = X[FEATURES]\n",
    "X.head()"
   ]
  },
  {
   "cell_type": "markdown",
   "metadata": {},
   "source": [
    "# Step 1 - Split Data #\n",
    "\n",
    "Since target encoding is a supervised transform, it needs to be fit on data that is separate from the data the model will be trained on.\n",
    "\n",
    "Split `X` and `y` to use 25% of the data to fit the target encoding."
   ]
  },
  {
   "cell_type": "code",
   "execution_count": null,
   "metadata": {
    "lines_to_next_cell": 2
   },
   "outputs": [],
   "source": [
    "from sklearn.model_selection import train_test_split\n",
    "\n",
    "\n",
    "# YOUR CODE HERE: Create a split for encoding\n",
    "X_encode, X_train, y_encode, y_train = train_test_split(X, y, train_size=0.25)\n",
    "\n",
    "\n",
    "# Check your answer\n",
    "q_1.check()"
   ]
  },
  {
   "cell_type": "markdown",
   "metadata": {},
   "source": [
    "# Step 2 - Define Encoder #\n",
    "\n",
    "Define two transforms for this dataset:\n",
    "1. a `OneHotEncoder` for the `playlist_genre` feature with argument `categories=GENRES`\n",
    "2. a `TargetEncoder` for the `playlist_subgenre` feature\n",
    "\n",
    "Use `make_column_transformer` to apply each transform to the appropriate feature."
   ]
  },
  {
   "cell_type": "code",
   "execution_count": null,
   "metadata": {
    "lines_to_next_cell": 2
   },
   "outputs": [],
   "source": [
    "from sklearn.preprocessing import OneHotEncoder\n",
    "from category_encoders import TargetEncoder\n",
    "from sklearn.compose import make_column_transformer\n",
    "\n",
    "\n",
    "# YOUR CODE HERE\n",
    "one_hot_encoder = OneHotEncoder(categories=GENRES)\n",
    "target_encoder = TargetEncoder()\n",
    "encoder = make_column_transformer(\n",
    "    (one_hot_encoder, [\"playlist_genre\"]),\n",
    "    (target_encoder, [\"playlist_subgenre\"]),\n",
    "    remainder=\"passthrough\",\n",
    ")\n",
    "\n",
    "\n",
    "# Check your answer\n",
    "q_2.check()"
   ]
  },
  {
   "cell_type": "markdown",
   "metadata": {},
   "source": [
    "# Step 3 - Fit Encoder #\n",
    "\n",
    "Now fit the column transformer you just created on the encoding data. Then, use the transformer to encode the held-out `X_train` data."
   ]
  },
  {
   "cell_type": "code",
   "execution_count": null,
   "metadata": {},
   "outputs": [],
   "source": [
    "# YOUR CODE HERE: Fit the transformer to the encoding data\n",
    "encoder.fit(X_encode, y_encode)\n",
    "\n",
    "# YOUR CODE HERE: Encode the training data\n",
    "X_train_enc = encoder.transform(X_train)\n",
    "\n",
    "\n",
    "# Check your answer\n",
    "q_3.check()"
   ]
  },
  {
   "cell_type": "markdown",
   "metadata": {},
   "source": [
    "If you like, run the next cell to see the result of the encoding."
   ]
  },
  {
   "cell_type": "code",
   "execution_count": null,
   "metadata": {
    "lines_to_next_cell": 2
   },
   "outputs": [],
   "source": [
    "pd.DataFrame(\n",
    "    X_train_enc,\n",
    "    columns=encoder.get_feature_names()\n",
    ")"
   ]
  },
  {
   "cell_type": "markdown",
   "metadata": {},
   "source": [
    "# Step 4 - Define Model #\n",
    "\n",
    "Create an instance of XGBoost to use for prediction."
   ]
  },
  {
   "cell_type": "code",
   "execution_count": null,
   "metadata": {
    "lines_to_next_cell": 2
   },
   "outputs": [],
   "source": [
    "from xgboost import XGBRegressor\n",
    "\n",
    "\n",
    "# YOUR CODE HERE: create the XGBoost instance\n",
    "xgboost = XGBRegressor()\n",
    "\n",
    "\n",
    "# Check your answer\n",
    "q_4.check()"
   ]
  },
  {
   "cell_type": "markdown",
   "metadata": {},
   "source": [
    "# Step 5 - Validate #\n",
    "\n",
    "Finally, validate the model with 5-fold cross-validation."
   ]
  },
  {
   "cell_type": "code",
   "execution_count": null,
   "metadata": {},
   "outputs": [],
   "source": [
    "from sklearn.model_selection import cross_val_score\n",
    "\n",
    "\n",
    "# YOUR CODE HERE\n",
    "score = cross_val_score(\n",
    "    xgboost, X_train_enc, y_train, cv=5, scoring='neg_mean_absolute_error'\n",
    ")\n",
    "score = -1 * score.mean()\n",
    "print(\"Score: {:.4f}\".format(score))\n",
    "\n",
    "\n",
    "# Check your answer\n",
    "q_5.check()"
   ]
  },
  {
   "cell_type": "markdown",
   "metadata": {},
   "source": [
    "```\n",
    "# Hint: What should you use for the training data?\n",
    "```"
   ]
  },
  {
   "cell_type": "markdown",
   "metadata": {},
   "source": [
    "# Keep Going #"
   ]
  }
 ],
 "metadata": {
  "jupytext": {
   "cell_metadata_filter": "-all",
   "main_language": "python",
   "notebook_metadata_filter": "-all"
  },
  "kernelspec": {
   "display_name": "Python 3",
   "language": "python",
   "name": "python3"
  },
  "language_info": {
   "codemirror_mode": {
    "name": "ipython",
    "version": 3
   },
   "file_extension": ".py",
   "mimetype": "text/x-python",
   "name": "python",
   "nbconvert_exporter": "python",
   "pygments_lexer": "ipython3",
   "version": "3.6.5"
  }
 },
 "nbformat": 4,
 "nbformat_minor": 4
}
