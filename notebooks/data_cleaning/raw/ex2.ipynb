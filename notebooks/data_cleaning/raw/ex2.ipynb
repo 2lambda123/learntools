{
 "cells": [
  {
   "cell_type": "markdown",
   "metadata": {
    "_cell_guid": "b91a74ba-85f4-486e-b5f9-d0898f0626bf",
    "_uuid": "6ac53f18b4f4ec0fc44348cedb5d1c319fa127c0"
   },
   "source": [
    "In this notebook, we're going to be looking at how to scale and normalize data (and what the difference is between the two!). \n",
    "\n",
    "Let's get started!"
   ]
  },
  {
   "cell_type": "markdown",
   "metadata": {
    "_cell_guid": "5cd5061f-ae30-4837-a53b-690ffd5c5830",
    "_uuid": "9d82bf13584b8e682962fbb96131f2447d741679"
   },
   "source": [
    "# Get our environment set up\n",
    "________\n",
    "\n",
    "The first thing we'll need to do is load in the libraries and datasets we'll be using. "
   ]
  },
  {
   "cell_type": "code",
   "execution_count": null,
   "metadata": {
    "_cell_guid": "135a7804-b5f5-40aa-8657-4a15774e3666",
    "_uuid": "835cbe0834b935fb0fd40c75b9c39454836f4d5f",
    "collapsed": true
   },
   "outputs": [],
   "source": [
    "# modules we'll use\n",
    "import pandas as pd\n",
    "import numpy as np\n",
    "\n",
    "# for Box-Cox Transformation\n",
    "from scipy import stats\n",
    "\n",
    "# for min_max scaling\n",
    "from mlxtend.preprocessing import minmax_scaling\n",
    "\n",
    "# plotting modules\n",
    "import seaborn as sns\n",
    "import matplotlib.pyplot as plt\n",
    "\n",
    "# read in all our data\n",
    "kickstarters_2017 = pd.read_csv(\"../input/kickstarter-projects/ks-projects-201801.csv\")\n",
    "\n",
    "# set seed for reproducibility\n",
    "np.random.seed(0)"
   ]
  },
  {
   "cell_type": "markdown",
   "metadata": {
    "_cell_guid": "52011105-e1e3-4bb0-9b59-59614a96e3d4",
    "_uuid": "5975eb63a310ca983facc4a8b969e235fee58c74"
   },
   "source": [
    "# Normalization or scaling?\n",
    "---\n",
    "\n",
    "For the following example, decide whether scaling or normalization makes more sense. \n",
    "\n",
    "* You want to build a linear regression model to predict someone's grades given how much time they spend on various activities during a normal school week.  You notice that your measurements for how much time students spend studying aren't normally distributed: some students spend almost no time studying and others study for four or more hours every day. Should you scale or normalize this variable?\n",
    "* You're still working on your grades study, but you want to include information on how students perform on several fitness tests as well. You have information on how many jumping jacks and push-ups each student can complete in a minute. However, you notice that students perform far more jumping jacks than push-ups: the average for the former is 40, and for the latter only 10. Should you scale or normalize these variables?"
   ]
  },
  {
   "cell_type": "code",
   "execution_count": null,
   "metadata": {},
   "outputs": [],
   "source": [
    "## TODO: question 1 check"
   ]
  },
  {
   "cell_type": "markdown",
   "metadata": {
    "_cell_guid": "fc728697-ce3e-4890-b14d-597b2281f30d",
    "_uuid": "0c4d06413046e632dd1936095028587af3be0e47"
   },
   "source": [
    "# Practice scaling and normalization\n",
    "___\n",
    "\n",
    "To practice scaling and normalization, we're going to be using a dataset of Kickstarter campaigns. (Kickstarter is a website where people can ask people to invest in various projects and concept products.)\n",
    "\n",
    "Let's start by scaling the goals of each campaign, which is how much money they were asking for."
   ]
  },
  {
   "cell_type": "code",
   "execution_count": null,
   "metadata": {
    "_cell_guid": "de763e3b-9068-41db-89b0-25a5ca2d4e3b",
    "_uuid": "0b8e70d8847a16672ed0d948d1d33b2f862a6b4c",
    "collapsed": true
   },
   "outputs": [],
   "source": [
    "# select the usd_goal_real column\n",
    "usd_goal = kickstarters_2017.usd_goal_real\n",
    "\n",
    "# scale the goals from 0 to 1\n",
    "scaled_data = minmax_scaling(usd_goal, columns = [0])\n",
    "\n",
    "# plot the original & scaled data together to compare\n",
    "fig, ax=plt.subplots(1,2)\n",
    "sns.distplot(kickstarters_2017.usd_goal_real, ax=ax[0])\n",
    "ax[0].set_title(\"Original Data\")\n",
    "sns.distplot(scaled_data, ax=ax[1])\n",
    "ax[1].set_title(\"Scaled data\")"
   ]
  },
  {
   "cell_type": "markdown",
   "metadata": {
    "_cell_guid": "5a49630f-65eb-4bec-85e1-f75d7a362330",
    "_uuid": "8a5e45f15d161b648889d7ab5c0bb53e9b3aa866"
   },
   "source": [
    "# Practice scaling\n",
    "___\n",
    "\n",
    "We just scaled the \"usd_goal_real\" column. What about the \"goal\" column?\n",
    "\n",
    "\n",
    "You can see that scaling changed the scales of the plots dramatically (but not the shape of the data: it looks like most campaigns have small goals but a few have very large ones)"
   ]
  },
  {
   "cell_type": "code",
   "execution_count": 1,
   "metadata": {
    "_cell_guid": "e7642d9a-701c-4142-9de8-00e65be3bd64",
    "_uuid": "d1a6395b65baf92b88a08c386e6dfd78fe6466d1"
   },
   "outputs": [],
   "source": [
    "# Your turn! \n",
    "\n",
    "## TODO: question 2 check"
   ]
  },
  {
   "cell_type": "markdown",
   "metadata": {
    "_cell_guid": "bc6457a4-0850-4ba8-b3d3-d13b0773a816",
    "_uuid": "027cd701d636d429da778526c55ceca1a90a3f7d"
   },
   "source": [
    "# Practice normalization\n",
    "___\n",
    "\n",
    "Ok, now let's try practicing normalization. We're going to normalize the amount of money pledged to each campaign."
   ]
  },
  {
   "cell_type": "code",
   "execution_count": null,
   "metadata": {
    "_cell_guid": "3daf5f3e-cb09-4c37-8157-40b1a9156ef8",
    "_uuid": "9ed5aceeb2f13dad8868e1587cf06ef7e6bc3efe",
    "collapsed": true
   },
   "outputs": [],
   "source": [
    "# get the index of all positive pledges (Box-Cox only takes postive values)\n",
    "index_of_positive_pledges = kickstarters_2017.usd_pledged_real > 0\n",
    "\n",
    "# get only positive pledges (using their indexes)\n",
    "positive_pledges = kickstarters_2017.usd_pledged_real.loc[index_of_positive_pledges]\n",
    "\n",
    "# normalize the pledges (w/ Box-Cox)\n",
    "normalized_pledges = stats.boxcox(positive_pledges)[0]\n",
    "\n",
    "# plot both together to compare\n",
    "fig, ax=plt.subplots(1,2)\n",
    "sns.distplot(positive_pledges, ax=ax[0])\n",
    "ax[0].set_title(\"Original Data\")\n",
    "sns.distplot(normalized_pledges, ax=ax[1])\n",
    "ax[1].set_title(\"Normalized data\")"
   ]
  },
  {
   "cell_type": "markdown",
   "metadata": {
    "_cell_guid": "1f029f7c-6e50-4248-bfab-f825b91d66f4",
    "_uuid": "c67255d163072abc343768753cea0ea52a493f98"
   },
   "source": [
    "We looked as the usd_pledged_real column. What about the \"pledged\" column? Does it have the same info?\n",
    "\n",
    "\n",
    "It's not perfect (it looks like a lot pledges got very few pledges) but it is much closer to normal!"
   ]
  },
  {
   "cell_type": "code",
   "execution_count": 2,
   "metadata": {
    "_cell_guid": "39b812f2-aa99-44c9-9ff8-1d7dd8aa9a03",
    "_uuid": "5852785ba1225a1675e8abd2e60513a0a0538e8d"
   },
   "outputs": [],
   "source": [
    "# Your turn! \n",
    "\n",
    "## TODO: question 3 check"
   ]
  },
  {
   "cell_type": "markdown",
   "metadata": {
    "_cell_guid": "b4f37fce-4d08-409e-bbbd-6a26c3bbc6ee",
    "_uuid": "52b0af56e3c77db96056e9acd785f8f435f7caf5"
   },
   "source": [
    "# More practice!\n",
    "___\n",
    "\n",
    "Try finding a new dataset and pretend you're preparing to preform a [regression analysis](https://www.kaggle.com/rtatman/the-5-day-regression-challenge). \n",
    "\n",
    "[These datasets are a good start!](https://www.kaggle.com/rtatman/datasets-for-regression-analysis)\n",
    "\n",
    "Pick three or four variables and decide if you need to normalize or scale any of them and, if you think you should, practice applying the correct technique."
   ]
  }
 ],
 "metadata": {
  "kernelspec": {
   "display_name": "Python 3",
   "language": "python",
   "name": "python3"
  },
  "language_info": {
   "codemirror_mode": {
    "name": "ipython",
    "version": 3
   },
   "file_extension": ".py",
   "mimetype": "text/x-python",
   "name": "python",
   "nbconvert_exporter": "python",
   "pygments_lexer": "ipython3",
   "version": "3.6.6"
  }
 },
 "nbformat": 4,
 "nbformat_minor": 1
}
