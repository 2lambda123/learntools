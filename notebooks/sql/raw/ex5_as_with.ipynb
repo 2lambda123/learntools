{
 "cells": [
  {
   "cell_type": "markdown",
   "metadata": {},
   "source": [
    "# Get Started\n",
    "\n",
    "After forking this notebook, run the code in the following cell:"
   ]
  },
  {
   "cell_type": "code",
   "execution_count": null,
   "metadata": {
    "collapsed": true
   },
   "outputs": [],
   "source": [
    "# import package with helper functions \n",
    "import bq_helper\n",
    "\n",
    "# create a helper object for this dataset\n",
    "bitcoin_blockchain = bq_helper.BigQueryHelper(active_project=\"bigquery-public-data\",\n",
    "                                              dataset_name=\"bitcoin_blockchain\")"
   ]
  },
  {
   "cell_type": "markdown",
   "metadata": {},
   "source": [
    "Then write the code to answer the questions below.\n",
    "\n",
    "#### Note\n",
    "This dataset is bigger than the ones we've used previously, so your queries will be more than 1 Gigabyte. You can still run them by setting the \"max_gb_scanned\" argument in the `query_to_pandas_safe()` function to be large enough to run your query, or by using the `query_to_pandas()` function instead.\n",
    "\n",
    "## Questions\n",
    "#### 1) How many Bitcoin transactions were made each day in 2017?\n",
    "* You can use the \"timestamp\" column from the \"transactions\" table to answer this question. You can go back to the [order-by tutorial](https://www.kaggle.com/dansbecker/order-by) for more information on timestamps."
   ]
  },
  {
   "cell_type": "code",
   "execution_count": null,
   "metadata": {
    "collapsed": true
   },
   "outputs": [],
   "source": [
    "# Your Code Here"
   ]
  },
  {
   "cell_type": "markdown",
   "metadata": {},
   "source": [
    "\n",
    "#### 2) How many transactions are associated with each merkle root?\n",
    "* You can use the \"merkle_root\" and \"transaction_id\" columns in the \"transactions\" table to answer this question. "
   ]
  },
  {
   "cell_type": "code",
   "execution_count": null,
   "metadata": {
    "collapsed": true
   },
   "outputs": [],
   "source": [
    "# Your Code Here"
   ]
  },
  {
   "cell_type": "markdown",
   "metadata": {},
   "source": [
    "---\n",
    "# Keep Going\n",
    "[Click here](https://www.kaggle.com/dansbecker/joining-data) to learn how to combine multiple data sources with the JOIN command.\n",
    "\n",
    "# Feedback\n",
    "Bring any questions or feedback to the [Learn Discussion Forum](kaggle.com/learn-forum).\n",
    "\n",
    "----\n",
    "\n",
    "*This tutorial is part of the [SQL Series](https://www.kaggle.com/learn/sql) on Kaggle Learn.*"
   ]
  }
 ],
 "metadata": {
  "kernelspec": {
   "display_name": "Python 3",
   "language": "python",
   "name": "python3"
  },
  "language_info": {
   "codemirror_mode": {
    "name": "ipython",
    "version": 3
   },
   "file_extension": ".py",
   "mimetype": "text/x-python",
   "name": "python",
   "nbconvert_exporter": "python",
   "pygments_lexer": "ipython3",
   "version": "3.6.5"
  }
 },
 "nbformat": 4,
 "nbformat_minor": 1
}
