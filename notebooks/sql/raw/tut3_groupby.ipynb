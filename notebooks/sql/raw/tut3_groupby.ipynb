{
 "cells": [
  {
   "cell_type": "markdown",
   "metadata": {
    "_cell_guid": "b1076dfc-b9ad-4769-8c92-a6c4dae69d19",
    "_uuid": "8f2839f25d086af736a60e9eeb907d3b93b6e0e5"
   },
   "source": [
    "# Intro\n",
    "\n",
    "Now that we know how to select the content of a column, we're ready to learn how to group your data and count things within those groups. This can help you answer questions like: \n",
    "\n",
    "* How many of each kind of fruit has our store sold?\n",
    "* How many species of animal has the vet office treated?\n",
    "\n",
    "To do this, we're going to learn about three new techniques: GROUP BY, HAVING and COUNT. Once again, we're going to use this 100% made up table of information on various pets, which has three columns: one with the unique ID number for each pet, one with the name of the pet and one with the species of the animal (rabbit, cat or dog). \n",
    "\n",
    "![](https://i.imgur.com/Ef4Puo3.png)\n",
    "\n",
    "### COUNT\n",
    "___\n",
    "\n",
    "COUNT(), as you may have guessed from the name, returns a count of things. If you pass it the name of a column, it will return the number of entries in that column. So if we SELECT the COUNT() of the ID column, it will return the number of ID's in that column.\n",
    "\n",
    "    SELECT COUNT(ID)\n",
    "    FROM `bigquery-public-data.pet_records.pets`\n",
    "    \n",
    "This query, based on the table above, will return 4 because there are 4 ID's in this table.\n",
    " \n",
    "### GROUP BY\n",
    "___\n",
    "\n",
    "GROUP BY takes the name of one or more column and tells SQL that we want to treat rows that have the same value in that column as a single group when we apply aggregate functions like COUNT().\n",
    "\n",
    "> An **aggregate function** takes in many values and returns one. Here, we're learning about COUNT() but there are other aggregate functions like SUM() and AVERAGE().\n",
    "\n",
    "Note that because it tells SQL how to apply aggregate functions, it doesn't make sense to use GROUP BY without something like COUNT(). \n",
    "\n",
    "Let's look at an example. We want to know how many of each type of animal we have in our table. We can get this information by using GROUP BY to group together rows that have the same value in the “Animal” column, while using COUNT() to find out how many ID's we have in each group. You can see the general idea in this image:\n",
    "\n",
    "![](https://i.imgur.com/MFRhycu.png)\n",
    "\n",
    "The query that will get us this information looks like this:\n",
    "\n",
    "    SELECT Animal, COUNT(ID)\n",
    "    FROM `bigquery-public-data.pet_records.pets`\n",
    "    GROUP BY Animal\n",
    "\n",
    "This query will return a table with two columns (Animal & COUNT(ID)) three rows (one for each distinct Animal). \n",
    "\n",
    "One thing to note is that if you SELECT a column that you don't pass to 1) GROUP BY or 2) use as input to an aggregate function, you'll get an error. So this query won't work, because the Name column isn't either passed to either an aggregate function or a GROUP BY clause:\n",
    "\n",
    "    # NOT A VALID QUERY! \"Name\" isn't passed to GROUP BY\n",
    "    # or an aggregate function\n",
    "    SELECT Name, Animal, COUNT(ID)\n",
    "    FROM `bigquery-public-data.pet_records.pets`\n",
    "    GROUP BY Animal\n",
    "    \n",
    "If make this error, you'll get the error message `SELECT list expression references column (column's name) which is neither grouped nor aggregated at`.\n",
    "\n",
    "### GROUP BY ... HAVING\n",
    "___\n",
    "\n",
    "Another option you have when using GROUP BY is to specify that you want to ignore groups that don't meet certain criteria. So this query, for example, will only include groups that have more than one ID in them:\n",
    "\n",
    "    SELECT Animal, COUNT(ID)\n",
    "    FROM `bigquery-public-data.pet_records.pets`\n",
    "    GROUP BY Animal\n",
    "    HAVING COUNT(ID) > 1\n",
    "\n",
    "The only group that this query will return information on is the one in the cells highlighted in blue in this figure:\n",
    "\n",
    "![](https://i.imgur.com/8xutHzn.png)\n",
    "\n",
    "As a result, this query will return a table with only one row, since this there only one group remaining. It will have two columns: one for \"Animal\", which will have \"Cat\" in it, and one for COUNT(ID), which will have 2 in it. \n",
    "\n",
    "## Example: Which Hacker News comments generated the most discussion?\n",
    "___\n",
    "\n",
    "Now we're ready to work through an example on a real dataset. Today, we're going to be using the Hacker News dataset, which contains information on stories & comments from the Hacker News social networking site. I want to know which comments on the site generated the most replies.\n",
    "\n",
    "I already know that I want the \"comments\" table, so I'm going to look at the first couple of rows of that to get started."
   ]
  },
  {
   "cell_type": "code",
   "execution_count": null,
   "metadata": {
    "_cell_guid": "79c7e3d0-c299-4dcb-8224-4455121ee9b0",
    "_uuid": "d629ff2d2480ee46fbb7e2d37f6b5fab8052498a",
    "collapsed": true
   },
   "outputs": [],
   "source": [
    "# import package with helper functions \n",
    "import bq_helper\n",
    "\n",
    "# create a helper object for this dataset\n",
    "hacker_news = bq_helper.BigQueryHelper(active_project=\"bigquery-public-data\",\n",
    "                                   dataset_name=\"hacker_news\")\n",
    "\n",
    "# print the first couple rows of the \"comments\" table\n",
    "hacker_news.head(\"comments\")"
   ]
  },
  {
   "cell_type": "markdown",
   "metadata": {
    "_cell_guid": "3ac9c92d-c2ed-4a3b-8679-931c653b4477",
    "_uuid": "549a1d707edef909933c0f41f7733f0a6a9aa3dd"
   },
   "source": [
    "By looking at the documentation, I learned that the \"parent\" column has information on the comment that each comment was a reply to and the \"id\" column has the unique id used to identify each comment. So I can group by the \"parent\" column and count the \"id\" column in order to figure out the number of comments that were made as responses to a specific comment. \n",
    "\n",
    "Because I'm more interested in popular comments than unpopular comments, I'm also only going to return the groups that have more than ten id's in them. In other words, I'm only going to look at comments that had more than ten comment replies to them."
   ]
  },
  {
   "cell_type": "code",
   "execution_count": null,
   "metadata": {
    "_cell_guid": "82207b41-a222-4cb4-8604-7ed73fe361a6",
    "_uuid": "15001aa2774dfcb9a9f8078b0181ce5cb178d885",
    "collapsed": true
   },
   "outputs": [],
   "source": [
    "# query to pass to \n",
    "query = \"\"\"SELECT parent, COUNT(id)\n",
    "            FROM `bigquery-public-data.hacker_news.comments`\n",
    "            GROUP BY parent\n",
    "            HAVING COUNT(id) > 10\n",
    "        \"\"\""
   ]
  },
  {
   "cell_type": "markdown",
   "metadata": {
    "_cell_guid": "4d780dcc-139f-4948-b9b6-49ca2241b9f8",
    "_uuid": "1b015556457c227d2d165bb88ec76b447390f200"
   },
   "source": [
    "Now that our query is ready, let's run it (safely!) and store the results in a dataframe: "
   ]
  },
  {
   "cell_type": "code",
   "execution_count": null,
   "metadata": {
    "_cell_guid": "3d7a7625-3c56-4e5e-9743-932f12cfbc43",
    "_uuid": "346f9b26cc62e018f0ab051803bfee048b65c563",
    "collapsed": true
   },
   "outputs": [],
   "source": [
    "# the query_to_pandas_safe method will cancel the query if\n",
    "# it would use too much of your quota, with the limit set \n",
    "# to 1 GB by default\n",
    "popular_stories = hacker_news.query_to_pandas_safe(query)\n",
    "print(popular_stories.head())"
   ]
  },
  {
   "cell_type": "markdown",
   "metadata": {
    "_cell_guid": "2c628a60-145e-4bae-b3d9-483854af30cc",
    "_uuid": "e58fdcee4a47ef5068ace483d4f0b93698c05ecc"
   },
   "source": [
    "Looks good! From here I could do whatever further analysis or visualization I'd like. \n",
    "\n",
    "> **Why is the column with the COUNT() data called f0_**? It's called this because COUNT() is the first (and in our case, only) aggregate function we used in this query. If we'd used a second one, it would be called \"f1\\_\", the third would be called \"f2\\_\", and so on. We'll learn how to name the output of aggregate functions later this week.\n",
    "\n",
    "And that should be all you need to get started writing your own kernels with GROUP BY... WHERE and COUNT!"
   ]
  },
  {
   "cell_type": "markdown",
   "metadata": {
    "_cell_guid": "f1a7ac66-eaf3-4afa-a495-747e67d85259",
    "_uuid": "b9b4d6334d4c9e3634c1daf6c242ff8b7cbe5ba7"
   },
   "source": [
    "# Your Turn\n",
    "\n",
    "Apply what you've learned in **[these coding exercises](https://www.kaggle.com/dansbecker/exercise-group-by-having-count)**.\n",
    "\n",
    "----\n",
    "\n",
    "*This tutorial is part of the [SQL Series](https://www.kaggle.com/learn/sql) on Kaggle Learn.*"
   ]
  }
 ],
 "metadata": {
  "kernelspec": {
   "display_name": "Python 3",
   "language": "python",
   "name": "python3"
  },
  "language_info": {
   "codemirror_mode": {
    "name": "ipython",
    "version": 3
   },
   "file_extension": ".py",
   "mimetype": "text/x-python",
   "name": "python",
   "nbconvert_exporter": "python",
   "pygments_lexer": "ipython3",
   "version": "3.6.1"
  }
 },
 "nbformat": 4,
 "nbformat_minor": 2
}
