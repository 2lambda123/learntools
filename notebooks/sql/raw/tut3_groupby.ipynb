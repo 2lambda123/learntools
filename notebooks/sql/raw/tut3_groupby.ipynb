{
 "cells": [
  {
   "cell_type": "markdown",
   "metadata": {},
   "source": [
    "# Intro\n",
    "\n",
    "Now that you can select raw data, you're ready to learn how to group your data and count things within those groups. This can help you answer questions like: \n",
    "\n",
    "* How many of each kind of fruit has our store sold?\n",
    "* How many species of animal has the vet office treated?\n",
    "\n",
    "To do this, you'll learn about three new techniques: GROUP BY, HAVING and COUNT. Once again, we'll use this made-up table of information on pets. \n",
    "\n",
    "![](https://i.imgur.com/Ef4Puo3.png)\n",
    "\n",
    "### COUNT\n",
    "___\n",
    "\n",
    "COUNT(), as you may have guessed from the name, returns a count of things. If you pass it the name of a column, it will return the number of entries in that column. So if we SELECT the COUNT() of the ID column, it will return the number of ID's in that column.\n",
    "\n",
    "    SELECT COUNT(ID)\n",
    "    FROM `bigquery-public-data.pet_records.pets`\n",
    "    \n",
    "This query, based on the table above, will return 4 because there are 4 ID's in this table.\n",
    " \n",
    "### GROUP BY\n",
    "___\n",
    "\n",
    "GROUP BY takes the name of one or more columns, grouping all rows with the same value in that column as a single group when you apply aggregation functions like COUNT().\n",
    "\n",
    "> An **aggregation function** takes many values and returns one. Here, we're learning about COUNT() but there are other aggregation functions like SUM() and AVERAGE().\n",
    "\n",
    "Note that because it tells SQL how to apply aggregate functions, it doesn't make sense to use GROUP BY without an aggregation like COUNT(). \n",
    "\n",
    "Let's look at an example. We want to know how many of each type of animal we have in our table. We can use GROUP BY to group together rows that have the same value in the “Animal” column, while using COUNT() to find out how many ID's we have in each group. You can see the general idea in this image:\n",
    "\n",
    "![](https://i.imgur.com/MFRhycu.png)\n",
    "\n",
    "The query that will get us this information looks like this:\n",
    "\n",
    "    SELECT Animal, COUNT(ID)\n",
    "    FROM `bigquery-public-data.pet_records.pets`\n",
    "    GROUP BY Animal\n",
    "\n",
    "This query will return a table with two columns (Animal & COUNT(ID)) three rows (one for each distinct Animal). \n",
    "\n",
    "If you have any `GROUP BY` clause, then all variables must be passed to either a\n",
    "1. GROUP BY command, or\n",
    "2. An aggregation function \n",
    "\n",
    "So this query won't work, because the Name column isn't passed to an aggregation function or a GROUP BY clause:\n",
    "\n",
    "    # NOT A VALID QUERY! \"Name\" isn't passed to GROUP BY\n",
    "    # or an aggregate function\n",
    "    SELECT Name, Animal, COUNT(ID)\n",
    "    FROM `bigquery-public-data.pet_records.pets`\n",
    "    GROUP BY Animal\n",
    "    \n",
    "If make this error, you'll get the error message `SELECT list expression references column (column's name) which is neither grouped nor aggregated at`.\n",
    "\n",
    "### GROUP BY ... HAVING\n",
    "___\n",
    "\n",
    "Another option you have when using GROUP BY is to specify that you want to ignore groups that don't meet certain criteria. So this query, for example, will only include groups that have more than one ID in them:\n",
    "\n",
    "    SELECT Animal, COUNT(ID)\n",
    "    FROM `bigquery-public-data.pet_records.pets`\n",
    "    GROUP BY Animal\n",
    "    HAVING COUNT(ID) > 1\n",
    "\n",
    "The only group that this query will return information on is the one in the cells highlighted in blue in this figure:\n",
    "\n",
    "![](https://i.imgur.com/8xutHzn.png)\n",
    "\n",
    "As a result, this query will return a table with only one row, since this there only one group remaining. It will have two columns: one for \"Animal\", which will have \"Cat\" in it, and one for COUNT(ID), which will have 2 in it. \n",
    "\n",
    "## Example: Which Hacker News comments generated the most discussion?\n",
    "___\n",
    "\n",
    "Ready to see an example on a real dataset? The Hacker News dataset contains information on stories & comments from the Hacker News social networking site. Let's see which comments generated the most replies.\n",
    "\n",
    "We'll want the \"comments\" table. Here is a view of the first few rows."
   ]
  },
  {
   "cell_type": "code",
   "execution_count": 1,
   "metadata": {
    "collapsed": true
   },
   "outputs": [
    {
     "ename": "ModuleNotFoundError",
     "evalue": "No module named 'bq_helper'",
     "output_type": "error",
     "traceback": [
      "\u001b[0;31m---------------------------------------------------------------------------\u001b[0m",
      "\u001b[0;31mModuleNotFoundError\u001b[0m                       Traceback (most recent call last)",
      "\u001b[0;32m<ipython-input-1-c02a3d13596d>\u001b[0m in \u001b[0;36m<module>\u001b[0;34m()\u001b[0m\n\u001b[1;32m      1\u001b[0m \u001b[0;31m# import package with helper functions\u001b[0m\u001b[0;34m\u001b[0m\u001b[0;34m\u001b[0m\u001b[0m\n\u001b[0;32m----> 2\u001b[0;31m \u001b[0;32mimport\u001b[0m \u001b[0mbq_helper\u001b[0m\u001b[0;34m\u001b[0m\u001b[0m\n\u001b[0m\u001b[1;32m      3\u001b[0m \u001b[0;34m\u001b[0m\u001b[0m\n\u001b[1;32m      4\u001b[0m \u001b[0;31m# create a helper object for this dataset\u001b[0m\u001b[0;34m\u001b[0m\u001b[0;34m\u001b[0m\u001b[0m\n\u001b[1;32m      5\u001b[0m hacker_news = bq_helper.BigQueryHelper(active_project=\"bigquery-public-data\",\n",
      "\u001b[0;31mModuleNotFoundError\u001b[0m: No module named 'bq_helper'"
     ]
    }
   ],
   "source": [
    "# import package with helper functions \n",
    "import bq_helper\n",
    "\n",
    "# create a helper object for this dataset\n",
    "hacker_news = bq_helper.BigQueryHelper(active_project=\"bigquery-public-data\",\n",
    "                                   dataset_name=\"hacker_news\")\n",
    "\n",
    "# print the first couple rows of the \"comments\" table\n",
    "hacker_news.head(\"comments\")"
   ]
  },
  {
   "cell_type": "markdown",
   "metadata": {},
   "source": [
    "The \"parent\" column has information on the comment that each comment was a reply to and the \"id\" column has the unique id used to identify each comment. So we can **GROUP BY** the \"parent\" column and count the \"id\" column in order to figure out the number of comments that were made as responses to a specific comment. \n",
    "\n",
    "We're more interested in popular comments than unpopular comments, so we'll return the groups that have more than ten id's in them. In other words, we'll only look at comments with more than ten replies."
   ]
  },
  {
   "cell_type": "code",
   "execution_count": null,
   "metadata": {
    "collapsed": true
   },
   "outputs": [],
   "source": [
    "# query to pass to \n",
    "query = \"\"\"SELECT parent, COUNT(id)\n",
    "            FROM `bigquery-public-data.hacker_news.comments`\n",
    "            GROUP BY parent\n",
    "            HAVING COUNT(id) > 10\n",
    "        \"\"\""
   ]
  },
  {
   "cell_type": "markdown",
   "metadata": {},
   "source": [
    "Now that our query is ready, let's run it (safely!) and store the results in a dataframe: "
   ]
  },
  {
   "cell_type": "code",
   "execution_count": null,
   "metadata": {
    "collapsed": true
   },
   "outputs": [],
   "source": [
    "# the query_to_pandas_safe method will cancel the query if\n",
    "# it would use too much of your quota, with the limit set \n",
    "# to 1 GB by default\n",
    "popular_stories = hacker_news.query_to_pandas_safe(query)\n",
    "popular_stories.head()"
   ]
  },
  {
   "cell_type": "markdown",
   "metadata": {},
   "source": [
    "Looks good! You may notice that the column with the `COUNT(id)` data is called **f0__**. That's not a very descriptive name. You can supply the name by adding it after `COUNT(id)` in the query"
   ]
  },
  {
   "cell_type": "code",
   "execution_count": null,
   "metadata": {},
   "outputs": [],
   "source": [
    "query = \"\"\"SELECT parent, COUNT(id) NumPosts\n",
    "            FROM `bigquery-public-data.hacker_news.comments`\n",
    "            GROUP BY parent\n",
    "            HAVING COUNT(id) > 10\n",
    "        \"\"\"\n",
    "popular_stories = hacker_news.query_to_pandas_safe(query)\n",
    "popular_stories.head()"
   ]
  },
  {
   "cell_type": "markdown",
   "metadata": {},
   "source": [
    "Now you have the data you want with descriptive names. That's good style."
   ]
  },
  {
   "cell_type": "markdown",
   "metadata": {},
   "source": [
    "# Your Turn\n",
    "\n",
    "Try solving **[these coding exercises](#$EXERCISE_FORKING_URL$)** with **GROUP BY and Aggregations.**"
   ]
  }
 ],
 "metadata": {
  "kernelspec": {
   "display_name": "Python 3",
   "language": "python",
   "name": "python3"
  },
  "language_info": {
   "codemirror_mode": {
    "name": "ipython",
    "version": 3
   },
   "file_extension": ".py",
   "mimetype": "text/x-python",
   "name": "python",
   "nbconvert_exporter": "python",
   "pygments_lexer": "ipython3",
   "version": "3.6.1"
  }
 },
 "nbformat": 4,
 "nbformat_minor": 2
}
