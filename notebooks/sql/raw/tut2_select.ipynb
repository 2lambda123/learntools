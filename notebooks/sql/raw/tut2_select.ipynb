{
 "cells": [
  {
   "cell_type": "markdown",
   "metadata": {
    "_cell_guid": "b1076dfc-b9ad-4769-8c92-a6c4dae69d19",
    "_uuid": "8f2839f25d086af736a60e9eeb907d3b93b6e0e5"
   },
   "source": [
    "# SELECT, FROM & WHERE\n",
    "\n",
    "SQL uses the keywords **SELECT**, **FROM** and **WHERE** to get data from a specific column based on conditions you specify. For this explanation, we'll use this imaginary database, `pet_records` which has just one table in it, called `pets`, which looks like this:\n",
    "\n",
    "![](https://i.imgur.com/Ef4Puo3.png)\n",
    "\n",
    "### SELECT ... FROM\n",
    "___\n",
    "\n",
    "The most basic SQL query is to select a single column from a specific table. To do this, you need to tell SELECT which column to select and then specify what table that column is from using from. \n",
    "\n",
    "> **Do you need to capitalize SELECT and FROM?** No, SQL doesn't care about capitalization. However, it's customary to capitalize your SQL commands and it makes your queries a bit easier to read.\n",
    "\n",
    "So, if we wanted to select the \"Name\" column from the pets table of the pet_records database (if that database were accessible as a BigQuery dataset on Kaggle , which it is not, because I made it up), we would do this:\n",
    "\n",
    "    SELECT Name\n",
    "    FROM `bigquery-public-data.pet_records.pets`\n",
    "\n",
    "Which would return the highlighted data from this figure.\n",
    "\n",
    "![](https://i.imgur.com/8FdVyFP.png)\n",
    "\n",
    "### WHERE ...\n",
    "___\n",
    "\n",
    "When you're working with BigQuery datasets, you'll usually want to return only certain rows, usually based on the value of a different column. You can do this using the WHERE clause, which will only return the rows where the WHERE clause evaluates to true.\n",
    "\n",
    "Let's look at an example:\n",
    "\n",
    "    SELECT Name\n",
    "    FROM `bigquery-public-data.pet_records.pets`\n",
    "    WHERE Animal = \"Cat\"\n",
    "\n",
    "This query will only return the entries from the \"Name\" column that are in rows where the \"Animal\" column has the text \"Cat\" in it. Those are the cells highlighted in blue in this figure:\n",
    "\n",
    "![](https://i.imgur.com/Va52Qdl.png)\n"
   ]
  },
  {
   "cell_type": "markdown",
   "metadata": {
    "_cell_guid": "79c7e3d0-c299-4dcb-8224-4455121ee9b0",
    "_uuid": "d629ff2d2480ee46fbb7e2d37f6b5fab8052498a"
   },
   "source": [
    "## Example: What are all the U.S. cities in the OpenAQ dataset?\n",
    "___\n",
    "\n",
    "Now that you've got the basics down, let's work through an example with a real dataset. Today we're going to be working with the OpenAQ dataset, which has information on air quality around the world. (The data in it should be current: it's updated weekly.)\n",
    "\n",
    "To help get you situated, I'm going to run through a complete query first. Then it will be your turn to get started running your queries!\n",
    "\n",
    "First, I'm going to set up everything we need to run queries and take a quick peek at what tables are in our database."
   ]
  },
  {
   "cell_type": "code",
   "execution_count": null,
   "metadata": {
    "_cell_guid": "c466d004-0c9a-4c4f-98e7-1ebeda346cc3",
    "_uuid": "bdac175fb8552336e22d072e939439e1c8cc2c1e",
    "collapsed": true
   },
   "outputs": [],
   "source": [
    "# import package with helper functions \n",
    "import bq_helper\n",
    "\n",
    "# create a helper object for this dataset\n",
    "open_aq = bq_helper.BigQueryHelper(active_project=\"bigquery-public-data\",\n",
    "                                   dataset_name=\"openaq\")\n",
    "\n",
    "# print all the tables in this dataset (there's only one!)\n",
    "open_aq.list_tables()"
   ]
  },
  {
   "cell_type": "markdown",
   "metadata": {
    "_cell_guid": "1ab7d0a0-f632-46b3-951b-7d819cd491a7",
    "_uuid": "c7638a3f2d4e755ec3f959a7869c40d2ad83a158"
   },
   "source": [
    "I'm going to take a peek at the first couple of rows to help me see what sort of data is in this dataset."
   ]
  },
  {
   "cell_type": "code",
   "execution_count": null,
   "metadata": {
    "_cell_guid": "f519e136-f643-4d5d-9d15-8690e0957f8b",
    "_uuid": "9af23a098278e22d30494e88242ec45c4bd50d10",
    "collapsed": true
   },
   "outputs": [],
   "source": [
    "# print the first couple rows of the \"global_air_quality\" dataset\n",
    "open_aq.head(\"global_air_quality\")"
   ]
  },
  {
   "cell_type": "markdown",
   "metadata": {
    "_cell_guid": "606296fb-3ec0-4271-b632-f138df5b5076",
    "_uuid": "caa292cee282a28e6243221837f7e77acdb1e71d"
   },
   "source": [
    "Great, everything looks good! Now that I'm set up, I'm going to put together a query. I want to select all the values from the \"city\" column for the rows there the \"country\" column is \"us\" (for \"United States\"). \n",
    "\n",
    "> **What's up with the triple quotation marks (\"\"\")?** These tell Python that everything inside them is a single string, even though we have line breaks in it. The line breaks aren't necessary, but they do make it much easier to read your query."
   ]
  },
  {
   "cell_type": "code",
   "execution_count": null,
   "metadata": {
    "_cell_guid": "2c12939e-9472-4084-a260-5654e6a82a80",
    "_uuid": "fe3009724ccd65c49563292efb85ca848b5e8664",
    "collapsed": true
   },
   "outputs": [],
   "source": [
    "# query to select all the items from the \"city\" column where the\n",
    "# \"country\" column is \"us\"\n",
    "query = \"\"\"SELECT city\n",
    "            FROM `bigquery-public-data.openaq.global_air_quality`\n",
    "            WHERE country = 'US'\n",
    "        \"\"\""
   ]
  },
  {
   "cell_type": "markdown",
   "metadata": {
    "_cell_guid": "58a38dfd-2c20-4c89-8563-acdf8c5242d0",
    "_uuid": "4354e3a489bc1585bdfd0acce7fe66183d6d7737"
   },
   "source": [
    "> **Important:**  Note that the argument we pass to FROM is *not* in single or double quotation marks (' or \"). It is in backticks (\\`). If you use quotation marks instead of backticks, you'll get this error when you try to run the query: `Syntax error: Unexpected string literal` \n",
    "\n",
    "Now I can use this query to get information from our open_aq dataset. I'm using the `BigQueryHelper.query_to_pandas_safe()` method here because it won't run a query if it's larger than 1 gigabyte, which helps me avoid accidentally running a very large query."
   ]
  },
  {
   "cell_type": "code",
   "execution_count": null,
   "metadata": {
    "_cell_guid": "fa552832-7aa5-4a46-aa86-ad7d1470d8de",
    "_uuid": "51a8e68f42d0ce89bdde15b38637174c94106281",
    "collapsed": true
   },
   "outputs": [],
   "source": [
    "# the query_to_pandas_safe will only return a result if it's less\n",
    "# than one gigabyte (by default)\n",
    "us_cities = open_aq.query_to_pandas_safe(query)"
   ]
  },
  {
   "cell_type": "markdown",
   "metadata": {
    "_cell_guid": "7fcf7fdb-6424-4bfd-b41a-cb15b0a41f96",
    "_uuid": "3e465fc354756df4c35de61060bbdb4eceb04088"
   },
   "source": [
    "Now I've got a dataframe called us_cities, which I can use like I would any other dataframe:"
   ]
  },
  {
   "cell_type": "code",
   "execution_count": null,
   "metadata": {
    "_cell_guid": "fd9a4260-5ff1-4ddb-b998-301c991584aa",
    "_uuid": "0aba6e91c085bcb59992c2e975c0db6c7fcbd15a",
    "collapsed": true
   },
   "outputs": [],
   "source": [
    "# What five cities have the most measurements taken there?\n",
    "us_cities.city.value_counts().head()"
   ]
  },
  {
   "cell_type": "markdown",
   "metadata": {
    "_cell_guid": "8589f7bf-f3f5-4d81-922b-a333a74a3e51",
    "_uuid": "bfe0481173b24b9cebd7b0380f800ecb7e9e0332"
   },
   "source": [
    "# Your Turn\n",
    "\n",
    "Write your first SQL query and run it in BigQuery in **[this hands-on exercise](https://www.kaggle.com/dansbecker/exercise-using-select-from-where).**\n",
    "\n",
    "\n",
    "---\n",
    "\n",
    "*This tutorial is part of the [SQL Series](https://www.kaggle.com/learn/sql) on Kaggle Learn.*"
   ]
  }
 ],
 "metadata": {
  "kernelspec": {
   "display_name": "Python 3",
   "language": "python",
   "name": "python3"
  },
  "language_info": {
   "codemirror_mode": {
    "name": "ipython",
    "version": 3
   },
   "file_extension": ".py",
   "mimetype": "text/x-python",
   "name": "python",
   "nbconvert_exporter": "python",
   "pygments_lexer": "ipython3",
   "version": "3.6.1"
  }
 },
 "nbformat": 4,
 "nbformat_minor": 2
}
