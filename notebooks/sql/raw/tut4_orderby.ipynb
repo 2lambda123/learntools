{
 "cells": [
  {
   "cell_type": "markdown",
   "metadata": {},
   "source": [
    "# Intro\n",
    "\n",
    "So far, you've learned how to use the following clauses: \n",
    "    \n",
    "    SELECT ... \n",
    "    FROM ...\n",
    "    (WHERE) ...\n",
    "    GROUP BY ...\n",
    "    (HAVING) ...\n",
    "\n",
    "You also learned how to use aggregations like COUNT().\n",
    "\n",
    "Now you'll learn how change the order of your results using the ORDER BY clause. You'll also see how to work with dates in SQL.\n",
    "\n",
    "\n",
    "### ORDER BY\n",
    "\n",
    "ORDER BY is usually the last clause you'll put in your query, since you're going to want to use it to sort the results returned by the rest of your query.\n",
    "\n",
    "Let's see an example on this familiar table. \n",
    "\n",
    "![](https://i.imgur.com/QRgb4iL.png). \n",
    "\n",
    "#### Ordering by a numeric column\n",
    "\n",
    "We can reorder this with the following. \n",
    "\n",
    "    SELECT ID, Name, Animal\n",
    "    FROM `bigquery-public-data.pet_records.pets`\n",
    "    ORDER BY ID\n",
    "\n",
    "The results look like\n",
    "\n",
    "![](https://i.imgur.com/zEXDTKS.png)\n",
    "\n",
    "    \n",
    "#### Ordering by a text column\n",
    "\n",
    "You can also order by text columns, and alphabetical order is used.\n",
    "\n",
    "    SELECT ID, Name, Animal\n",
    "    FROM `bigquery-public-data.pet_records.pets`\n",
    "    ORDER BY Animal\n",
    "![](https://i.imgur.com/E7qjnf9.png)\n",
    "\n",
    "#### Reversing the order\n",
    "\n",
    "You can reverse the sort order (reverse alphabetical order for text columns or high to low for numeric columns) using the **DESC** argument (it is short for 'descending')\n",
    "\n",
    "This query sorts the selected columns by the Animal column, but the values that are last in alphabetic order will be returned first.\n",
    "\n",
    "    SELECT ID, Name, Animal\n",
    "    FROM `bigquery-public-data.pet_records.pets`\n",
    "    ORDER BY Animal DESC\n",
    "![](https://i.imgur.com/DREYNFF.png)\n",
    " \n",
    "### Dates\n",
    "\n",
    "Finally, let's talk about dates, because they come up very frequently in most databases.\n",
    "\n",
    "There are two different ways that a date can be stored in BigQuery: as a DATE or as a DATETIME. \n",
    "\n",
    "The **DATE** format has the year first, then the month, and then the day. It looks like this:\n",
    "\n",
    "    YYYY-[M]M-[D]D\n",
    "* YYYY: Four-digit year\n",
    "* [M]M: One or two digit month\n",
    "* [D]D: One or two digit day\n",
    "\n",
    "\n",
    "The **DATETIME** format is like the date format... but with time added at the end.\n",
    "\n",
    "\n",
    "Often you'll want to look at part of a date, like the year or the day. You can do this with the EXTRACT. \n",
    "\n",
    "This query will return one column with just the day of each date in the column_with_timestamp column: \n",
    "\n",
    "            SELECT EXTRACT(DAY FROM column_with_timestamp)\n",
    "            FROM `bigquery-public-data.imaginary_dataset.imaginary_table`\n",
    "\n",
    "SQL is very smart about dates and we can ask for information beyond just extracting part of the cell. For example, this query returns one column with just the week in the year (between 1 and 53) of each date in the column_with_timestamp column: \n",
    "\n",
    "            SELECT EXTRACT(WEEK FROM column_with_timestamp)\n",
    "            FROM `bigquery-public-data.imaginary_dataset.imaginary_table`\n",
    "\n",
    "SQL has a lot of power when it comes to dates, and that lets you ask very specific questions using this information. You can find all the functions you can use with dates in BigQuery [on this page](https://cloud.google.com/bigquery/docs/reference/legacy-sql), under \"Date and time functions\".  "
   ]
  },
  {
   "cell_type": "markdown",
   "metadata": {},
   "source": [
    "### Example: Which day of the week has the most fatal motor accidents?\n",
    "\n",
    "Let's use the US Traffic Fatality Records database, which contains information on traffic accidents in the US where at least one person died.\n",
    "\n",
    "First, we need to get our environment set up."
   ]
  },
  {
   "cell_type": "code",
   "execution_count": 1,
   "metadata": {
    "collapsed": true
   },
   "outputs": [
    {
     "ename": "ModuleNotFoundError",
     "evalue": "No module named 'bq_helper'",
     "output_type": "error",
     "traceback": [
      "\u001b[0;31m---------------------------------------------------------------------------\u001b[0m",
      "\u001b[0;31mModuleNotFoundError\u001b[0m                       Traceback (most recent call last)",
      "\u001b[0;32m<ipython-input-1-277deab79495>\u001b[0m in \u001b[0;36m<module>\u001b[0;34m()\u001b[0m\n\u001b[1;32m      1\u001b[0m \u001b[0;31m# import package with helper functions\u001b[0m\u001b[0;34m\u001b[0m\u001b[0;34m\u001b[0m\u001b[0m\n\u001b[0;32m----> 2\u001b[0;31m \u001b[0;32mimport\u001b[0m \u001b[0mbq_helper\u001b[0m\u001b[0;34m\u001b[0m\u001b[0m\n\u001b[0m\u001b[1;32m      3\u001b[0m \u001b[0;34m\u001b[0m\u001b[0m\n\u001b[1;32m      4\u001b[0m \u001b[0;31m# create a helper object for this dataset\u001b[0m\u001b[0;34m\u001b[0m\u001b[0;34m\u001b[0m\u001b[0m\n\u001b[1;32m      5\u001b[0m accidents = bq_helper.BigQueryHelper(active_project=\"bigquery-public-data\",\n",
      "\u001b[0;31mModuleNotFoundError\u001b[0m: No module named 'bq_helper'"
     ]
    }
   ],
   "source": [
    "# import package with helper functions \n",
    "import bq_helper\n",
    "\n",
    "# create a helper object for this dataset\n",
    "accidents = bq_helper.BigQueryHelper(active_project=\"bigquery-public-data\",\n",
    "                                   dataset_name=\"nhtsa_traffic_fatalities\")"
   ]
  },
  {
   "cell_type": "markdown",
   "metadata": {},
   "source": [
    "Now we'll count the unique id's (in this table they're called \"consecutive_number\") as well as the day of the week for each accident. Then sort the table so the days with the most accidents are on returned first."
   ]
  },
  {
   "cell_type": "code",
   "execution_count": null,
   "metadata": {
    "collapsed": true
   },
   "outputs": [],
   "source": [
    "# query to find out the number of accidents which \n",
    "# happen on each day of the week\n",
    "query = \"\"\"SELECT COUNT(consecutive_number) num_accidents, \n",
    "                  EXTRACT(DAYOFWEEK FROM timestamp_of_crash)\n",
    "            FROM `bigquery-public-data.nhtsa_traffic_fatalities.accident_2015`\n",
    "            GROUP BY EXTRACT(DAYOFWEEK FROM timestamp_of_crash)\n",
    "            ORDER BY COUNT(consecutive_number) DESC\n",
    "        \"\"\""
   ]
  },
  {
   "cell_type": "markdown",
   "metadata": {},
   "source": [
    "As usual, we run it as follows:"
   ]
  },
  {
   "cell_type": "code",
   "execution_count": null,
   "metadata": {
    "collapsed": true
   },
   "outputs": [],
   "source": [
    "# the query_to_pandas_safe method will cancel the query if\n",
    "# it would use too much of your quota, with the limit set \n",
    "# to 1 GB by default\n",
    "accidents_by_day = accidents.query_to_pandas_safe(query)"
   ]
  },
  {
   "cell_type": "markdown",
   "metadata": {},
   "source": [
    "That gives a Pandas dataframe. If you know matplotlib already, you might plot that as follows:"
   ]
  },
  {
   "cell_type": "code",
   "execution_count": null,
   "metadata": {
    "collapsed": true
   },
   "outputs": [],
   "source": [
    "# library for plotting\n",
    "import matplotlib.pyplot as plt\n",
    "\n",
    "# make a plot to show that our data is, actually, sorted:\n",
    "plt.plot(accidents_by_day.num_accidents)\n",
    "plt.title(\"Number of Accidents by Rank of Day \\n (Most to least dangerous)\")\n",
    "plt.show()"
   ]
  },
  {
   "cell_type": "code",
   "execution_count": null,
   "metadata": {
    "collapsed": true
   },
   "outputs": [],
   "source": [
    "print(accidents_by_day)"
   ]
  },
  {
   "cell_type": "markdown",
   "metadata": {},
   "source": [
    "To map the numbers returned for the day of the week (the second column) to the actual day, you might consult [the BigQuery documentation on the DAYOFWEEK function](https://cloud.google.com/bigquery/docs/reference/legacy-sql#dayofweek). It says that it returns \"an integer between 1 (Sunday) and 7 (Saturday), inclusively\". So, in 2015 most fatal motor accidents occur on Sunday and Saturday, while the fewest happen on Tuesday."
   ]
  },
  {
   "cell_type": "markdown",
   "metadata": {},
   "source": [
    "# Your Turn\n",
    "Order by can make your results easier to interpret quickly. **[Try it yourself](https://www.kaggle.com/dansbecker/exercise-order-by)**.\n"
   ]
  }
 ],
 "metadata": {
  "kernelspec": {
   "display_name": "Python 3",
   "language": "python",
   "name": "python3"
  },
  "language_info": {
   "codemirror_mode": {
    "name": "ipython",
    "version": 3
   },
   "file_extension": ".py",
   "mimetype": "text/x-python",
   "name": "python",
   "nbconvert_exporter": "python",
   "pygments_lexer": "ipython3",
   "version": "3.6.1"
  }
 },
 "nbformat": 4,
 "nbformat_minor": 2
}
