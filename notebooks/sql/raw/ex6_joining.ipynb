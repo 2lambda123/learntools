{
 "cells": [
  {
   "cell_type": "markdown",
   "metadata": {},
   "source": [
    "# Get Started\n",
    "\n",
    "Stack Overflow (stackoverflow.com) is a technical Question and Answer site that is widely beloved in the programming community. You'll probably use it yourself as you keep using SQL (or any programming language). \n",
    "\n",
    "Stack Overflow data is publicly available. What cool things do you think it would be useful for?\n",
    "\n",
    "Here's an idea:\n",
    "You could set up a service that identifies the Stack Overflow users who have demonstrated expertise on any specific topic by answering related questions, so someone could hire those experts for in-depth assistantce.\n",
    "\n",
    "In this exercise, you'll write the SQL queries that would serve as the foundation for this type of service.\n",
    "\n",
    "As usual, run the following cell to set up our feedback system before moving on."
   ]
  },
  {
   "cell_type": "code",
   "execution_count": null,
   "metadata": {
    "collapsed": true
   },
   "outputs": [],
   "source": [
    "# Set up feedack system\n",
    "from learntools.core import binder\n",
    "binder.bind(globals())\n",
    "from learntools.sql.ex6 import *\n",
    "\n",
    "# import package with helper functions \n",
    "import bq_helper\n",
    "\n",
    "# create a helper object for this dataset\n",
    "stack_overflow = bq_helper.BigQueryHelper(active_project=\"bigquery-public-data\",\n",
    "                                              dataset_name=\"stackoverflow\")"
   ]
  },
  {
   "cell_type": "markdown",
   "metadata": {},
   "source": [
    "Then write the code to answer the question below"
   ]
  },
  {
   "cell_type": "markdown",
   "metadata": {},
   "source": [
    "# Questions\n",
    "\n",
    "# 1) Explore the Data\n",
    "\n",
    "Before writing queries or **JOIN** clauses, you'll want to see what tables are available. \n",
    "\n",
    "This may be a good time to practice **tab completion** for when you don't remember command names. If you type `github.` and then hit tab, you will see a list of methods for the github object (don't forget the dot before hitting tab.)"
   ]
  },
  {
   "cell_type": "code",
   "execution_count": null,
   "metadata": {},
   "outputs": [],
   "source": [
    "# Your code here\n",
    "\n",
    "list_of_tables = ____    # get a list of available tables\n",
    "\n",
    "print(list_of_tables)\n",
    "q_1.check()"
   ]
  },
  {
   "cell_type": "code",
   "execution_count": null,
   "metadata": {},
   "outputs": [],
   "source": [
    "# q_1.solution()"
   ]
  },
  {
   "cell_type": "markdown",
   "metadata": {},
   "source": [
    "# 2) Review Relevant Tables\n",
    "\n",
    "If you are interested in people who answer questions on a given topic, the `posts_answers` table is a natural place to look. Run the following cell and look at the output"
   ]
  },
  {
   "cell_type": "code",
   "execution_count": null,
   "metadata": {},
   "outputs": [],
   "source": [
    "stack_overflow.head('posts_answers')"
   ]
  },
  {
   "cell_type": "markdown",
   "metadata": {},
   "source": [
    "It's probably not yet how to find users who answered questions on any given topic. But `posts_answers` has a `parent_id` column. If you are familiar with the Stack Overflow site, you may realize that the `parent` refers to the `question` this post is answered.\n",
    "\n",
    "Look at `posts_questions` using the line below."
   ]
  },
  {
   "cell_type": "code",
   "execution_count": null,
   "metadata": {},
   "outputs": [],
   "source": [
    "stack_overflow.head('posts_questions')"
   ]
  },
  {
   "cell_type": "markdown",
   "metadata": {},
   "source": [
    "Are there any fields that would let you identify what the topic or technology each question is about?\n",
    "\n",
    "If so, how could you find the user ID\\'s of users who answered questions about a specific topic?\n",
    "\n",
    "Think about it, then check the solution by running the code in the next cell."
   ]
  },
  {
   "cell_type": "code",
   "execution_count": null,
   "metadata": {},
   "outputs": [],
   "source": [
    "#q_2.solution()"
   ]
  },
  {
   "cell_type": "markdown",
   "metadata": {},
   "source": [
    "# 3 Selecting The Right Questions\n",
    "\n",
    "A lot of this data is text. There's one last technique you'll learn in this course, and which will be key in this exercise.\n",
    "\n",
    "You can use a **WHERE** clause that filters your results based on certain text. To select just the third row of the following database we would write\n",
    "\n",
    "`SELECT * FROM PETS WHERE NAME LIKE 'Ripley'`\n",
    "\n",
    "![](https://i.imgur.com/Ef4Puo3.png)\n",
    "\n",
    "The **LIKE** operator allows you to use `%` as a \"wildcard\" for any number of characters. So we could also get the third row with \n",
    "\n",
    "`SELECT * FROM PETS WHERE NAME LIKE '%ipl%'`\n",
    "\n",
    "**Now for your turn to use it:**\n",
    "As a warm-up, before finding users who have answered questions, write a query that selects the `ID`, `title` and `owner_user_id` from the `posts_questions` table. Restrict the results to rows that contain the word **bigquery** in the `tag` column. Include rows where there is other text in addition to the word `bigquery` (e.g. if a row has a tag `bigquery-sql`, your results should include that)."
   ]
  },
  {
   "cell_type": "code",
   "execution_count": null,
   "metadata": {
    "collapsed": true
   },
   "outputs": [],
   "source": [
    "# Your code here\n",
    "questions_query = \\\n",
    "\"\"\"\n",
    "SELECT ____\n",
    "FROM `bigquery-public-data.stackoverflow.posts_questions`\n",
    "WHERE ____\n",
    "\"\"\"\n",
    "\n",
    "question_results = stack_overflow.query_to_pandas_safe(questions_query, max_gb_scanned=2) # query scans more than 1GB of data, but less than 2.\n",
    "print(question_results.head())\n",
    "q_3.check()\n"
   ]
  },
  {
   "cell_type": "code",
   "execution_count": null,
   "metadata": {},
   "outputs": [],
   "source": [
    "# q_3.hint()\n",
    "# q_3.solution()"
   ]
  },
  {
   "cell_type": "markdown",
   "metadata": {},
   "source": [
    "# 4 Your First Join\n",
    "If you have a query to select questions on any given topic (in this case, you chose `bigquery`), you can find the answers with a **JOIN**.  \n",
    "\n",
    "Write a SQL query that returns the `id`, `body` and `owner_user_id` from the `posts_answers` table for answers to `bigquery` related questions. That is, you should have one row in your results for each answer to a question that has a `bigquery` in the tag.\n",
    "\n",
    "Here's a reminder of what a **JOIN** looked like in the tutorial\n",
    "```\n",
    "SELECT p.Name AS Pet_Name, o.Name as Owner_Name\n",
    "FROM `bigquery-public-data.pet_records.pets` as p\n",
    "INNER JOIN `bigquery-public-data.pet_records.owners` as o ON p.ID = o.Pet_ID\n",
    "```\n",
    "\n",
    "It may be useful to scroll up and review the results from when you called **head** on `posts_answers` and `posts_questions`.  "
   ]
  },
  {
   "cell_type": "code",
   "execution_count": null,
   "metadata": {},
   "outputs": [],
   "source": [
    "from time import time\n",
    "\n",
    "\n",
    "answers_query = \\\n",
    "\"\"\"\n",
    "____\n",
    "\"\"\"\n",
    "\n",
    "answers_results = stack_overflow.query_to_pandas_safe(answers_query, max_gb_scanned=2) # query scans more than 1GB of data, but less than 2.\n",
    "print(answers_results.head())\n",
    "q_4.check()"
   ]
  },
  {
   "cell_type": "code",
   "execution_count": null,
   "metadata": {},
   "outputs": [],
   "source": [
    "# q_4.hint()\n",
    "# q_4.solution()"
   ]
  },
  {
   "cell_type": "markdown",
   "metadata": {},
   "source": [
    "# 5 Answer The Question\n",
    "You have the merge you need, but we wanted a list of users who have answered many questions... not just a list of question or answer ID's.\n",
    "\n",
    "Write a new query that selects data from the `posts_questions` and `posts_answers` tables. The results should havea single row for each user who answered at least one questions with a tag that includes the string `bigquery`. Each row should have two columns:\n",
    "- a column called `user_id` that contains the `owner_user_id` from the `posts_answers` table\n",
    "- a column called `number_of_answers` that contains the number of answers the user has written to `bigquery` questions"
   ]
  },
  {
   "cell_type": "code",
   "execution_count": null,
   "metadata": {},
   "outputs": [],
   "source": [
    "# your code here\n",
    "bigquery_experts_query = ____\n",
    "bigquery_experts_results = ____\n",
    "\n",
    "print(bigquery_experts_results)\n",
    "q_5.check()"
   ]
  },
  {
   "cell_type": "code",
   "execution_count": null,
   "metadata": {},
   "outputs": [],
   "source": [
    "# q_5.hint()\n",
    "# q_5.solution()"
   ]
  },
  {
   "cell_type": "markdown",
   "metadata": {},
   "source": [
    "# Building A More Generally Useful Service\n",
    "\n",
    "How could you convert what you've done so it's a general function a website could call on the backend to get experts on any topic?  \n",
    "\n",
    "Think about it and then check the solution below."
   ]
  },
  {
   "cell_type": "code",
   "execution_count": null,
   "metadata": {},
   "outputs": [],
   "source": [
    "# q_6.solution()"
   ]
  },
  {
   "cell_type": "markdown",
   "metadata": {},
   "source": [
    "# Congratulations\n",
    "You know all the key components to use BigQuery and SQL effectively. Your SQL skills are sufficient to unlock many of the world's large datasets.\n",
    "\n",
    "Want to go play with your new powers?  Kaggle has BigQuery datasets available [here](https://www.kaggle.com/datasets?sortBy=hottest&group=public&page=1&pageSize=20&size=sizeAll&filetype=fileTypeBigQuery).\n",
    "\n",
    "# Feedback\n",
    "Bring any questions or feedback to the [Learn Discussion Forum](https://www.kaggle.com/learn-forum).\n"
   ]
  }
 ],
 "metadata": {
  "kernelspec": {
   "display_name": "Python 3",
   "language": "python",
   "name": "python3"
  },
  "language_info": {
   "codemirror_mode": {
    "name": "ipython",
    "version": 3
   },
   "file_extension": ".py",
   "mimetype": "text/x-python",
   "name": "python",
   "nbconvert_exporter": "python",
   "pygments_lexer": "ipython3",
   "version": "3.6.5"
  }
 },
 "nbformat": 4,
 "nbformat_minor": 2
}
