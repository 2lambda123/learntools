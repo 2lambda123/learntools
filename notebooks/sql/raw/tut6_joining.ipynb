{
 "cells": [
  {
   "cell_type": "markdown",
   "metadata": {},
   "source": [
    "# Intro\n",
    "\n",
    "You have the tools to get many different configurations of information from a single table. But what if your database has more than one table and you want to look at information from multiple tables?\n",
    "\n",
    "That's where JOIN comes in! JOIN clauses combine data from two tables. This lets you answer more types of questions. It's also one of the more complex parts of SQL. Don't worry though. You'll see some examples here. \n",
    "\n",
    "# Pets Example\n",
    "___\n",
    "\n",
    "Let's keep working with our imaginary Pets dataset, but this time let's add a second table. The first table, \"Pets\", has three columns, with information on the ID number of each pet, the pet's name and the type of animal it is. The new table, \"Owners\", has three columns, with the ID number of each owner, the name of the owner and the ID number of their pet. \n",
    "\n",
    "![](https://i.imgur.com/W4gYoNg.png)\n",
    "\n",
    "Each row in each table is associated with a single pet and we refer to the same pets in both tables. We can tell this because there are two columns (ID in the \"Pets\" table and Pet_ID in the \"Owners\" table) that have the same information in them: the ID number of the pet. We can match rows that have the same value in these columns to get information that applies to a certain pet.\n",
    "\n",
    "For example, we can see by looking at the Pets table that the pet that has the ID 1 is named Dr. Harris Bonkers. We can also tell by looking at the Owners table that the name of the owner who owns the pet with the ID 1 is named Aubrey Little. We can use this information to figure out that Dr. Harris Bonkers is owned by Aubrey Little. \n",
    "\n",
    "Fortunately, we don't have to do this by hand to figure out which owner's name goes with which pet name. We can use JOIN to do this for us! JOIN allows us to create a third, new, table that has information from both tables. For example, we might want to have a single table with just two columns: one with the name of the pet and one with the name of the owner. This would look something like this: \n",
    "\n",
    "![](https://i.imgur.com/zqQdJTI.png)\n",
    "\n",
    "The syntax to create that table looks like this:\n",
    "\n",
    "    SELECT p.Name AS Pet_Name, o.Name as Owner_Name\n",
    "    FROM `bigquery-public-data.pet_records.pets` as p\n",
    "    INNER JOIN `bigquery-public-data.pet_records.owners` as o ON p.ID = o.Pet_ID\n",
    "Notice that since the ID column exists in both datasets, we have to clarify which one we want to use. When you're joining tables, it's a good habit to specificy which table all of your columns come from. That way you don't have to pull up the schema every time you go back to read the query.\n",
    "\n",
    "The type of JOIN we're using today is called an INNER JOIN. That just means that a row will only be put in the final output table if the value in the column you're using to combine them shows up in both the tables you're joining. For example, if Tom's ID code of 4 didn't exist in the `Pets` table, we would only get 3 rows back from this query. There are other types of JOIN, but an INNER JOIN won't give you an output that's larger than your input tables, so it's a good one to start with.   \n",
    "\n",
    "> **What does \"ON\" do?** It says which column in each table to look at to combine the tables. Here were using the \"ID\" column from the Pets table and the \"Pet_ID\" table from the Owners table.\n",
    "\n",
    "Now that we've talked about the concept behind using JOIN, let's work through an example together."
   ]
  },
  {
   "cell_type": "markdown",
   "metadata": {},
   "source": [
    "## Example: How many files are covered by each type of software license?\n",
    "\n",
    "GitHub is the most popular place to collaborate on software. A \"repo\" is a collection of code associated with a specific project. \n",
    "\n",
    "Most public code on Github is shared under a specific legal license, which determines the legal restrictions on how it is used. For our example, we're going to look at how many different files have been released under each licenses. \n",
    "\n",
    "First, of course, we need to get our environment ready to go:"
   ]
  },
  {
   "cell_type": "code",
   "execution_count": 1,
   "metadata": {
    "collapsed": true
   },
   "outputs": [
    {
     "ename": "ModuleNotFoundError",
     "evalue": "No module named 'bq_helper'",
     "output_type": "error",
     "traceback": [
      "\u001b[0;31m---------------------------------------------------------------------------\u001b[0m",
      "\u001b[0;31mModuleNotFoundError\u001b[0m                       Traceback (most recent call last)",
      "\u001b[0;32m<ipython-input-1-add4319c41cb>\u001b[0m in \u001b[0;36m<module>\u001b[0;34m()\u001b[0m\n\u001b[1;32m      1\u001b[0m \u001b[0;31m# import package with helper functions\u001b[0m\u001b[0;34m\u001b[0m\u001b[0;34m\u001b[0m\u001b[0m\n\u001b[0;32m----> 2\u001b[0;31m \u001b[0;32mimport\u001b[0m \u001b[0mbq_helper\u001b[0m\u001b[0;34m\u001b[0m\u001b[0m\n\u001b[0m\u001b[1;32m      3\u001b[0m \u001b[0;34m\u001b[0m\u001b[0m\n\u001b[1;32m      4\u001b[0m \u001b[0;31m# create a helper object for this dataset\u001b[0m\u001b[0;34m\u001b[0m\u001b[0;34m\u001b[0m\u001b[0m\n\u001b[1;32m      5\u001b[0m github = bq_helper.BigQueryHelper(active_project=\"bigquery-public-data\",\n",
      "\u001b[0;31mModuleNotFoundError\u001b[0m: No module named 'bq_helper'"
     ]
    }
   ],
   "source": [
    "# import package with helper functions \n",
    "import bq_helper\n",
    "\n",
    "# create a helper object for this dataset\n",
    "github = bq_helper.BigQueryHelper(active_project=\"bigquery-public-data\",\n",
    "                                              dataset_name=\"github_repos\")"
   ]
  },
  {
   "cell_type": "markdown",
   "metadata": {},
   "source": [
    "Now we're ready to get started on our query. This gets a little tricky, so stick with me! The only new syntax we'll see is around the JOIN clause.\n",
    "\n",
    "First, I'm going to specify which columns I'd like to be returned in the final table that's returned to me. Here, I'm selecting the COUNT of the \"path\" column from the sample_files table and then calling it \"number_of_files\". I'm *also* specifying that I was to include the \"license\" column, even though there's no \"license\" column in the \"sample_files\" table.\n",
    "\n",
    "        SELECT L.license, COUNT(sf.path) AS number_of_files\n",
    "        FROM `bigquery-public-data.github_repos.sample_files` as sf\n",
    "Speaking of the JOIN clause, we still haven't actually told SQL we want to join anything! To do this, we need to specify what type of join we want (in this case an inner join) and which columns we want to JOIN ON. Here, we'll  use ON to specify that we use the \"repo_name\" column from the each table.\n",
    "\n",
    "    INNER JOIN `bigquery-public-data.github_repos.licenses` as L \n",
    "            ON sf.repo_name = L.repo_name\n",
    "Finally, we have a GROUP BY and ORDER BY clause that apply to the final table that's been returned to us. We've seen these a couple of times at this point. :)\n",
    "\n",
    "        GROUP BY license\n",
    "        ORDER BY number_of_files DESC\n",
    " Alright, that was a lot, but you should have an idea what each part of this query is doing. "
   ]
  },
  {
   "cell_type": "code",
   "execution_count": null,
   "metadata": {
    "collapsed": true
   },
   "outputs": [],
   "source": [
    "# You can use two dashes (--) to add comments in SQL\n",
    "query = (\"\"\"\n",
    "        -- Select all the columns we want in our joined table\n",
    "        SELECT L.license, COUNT(sf.path) AS number_of_files\n",
    "        FROM `bigquery-public-data.github_repos.sample_files` as sf\n",
    "        \n",
    "        -- Table to merge into sample_files\n",
    "        INNER JOIN `bigquery-public-data.github_repos.licenses` as L \n",
    "            ON sf.repo_name = L.repo_name -- what columns should we join on?\n",
    "        GROUP BY L.license\n",
    "        ORDER BY number_of_files DESC\n",
    "        \"\"\")\n",
    "\n",
    "file_count_by_license = github.query_to_pandas_safe(query, max_gb_scanned=6)"
   ]
  },
  {
   "cell_type": "markdown",
   "metadata": {},
   "source": [
    "Whew, that was a big query! But it gave us a nice tidy little table that nicely summarizes how many files have been committed under each license:  "
   ]
  },
  {
   "cell_type": "code",
   "execution_count": null,
   "metadata": {
    "collapsed": true
   },
   "outputs": [],
   "source": [
    "print(file_count_by_license)"
   ]
  },
  {
   "cell_type": "markdown",
   "metadata": {},
   "source": [
    "And that's how to get started using JOIN in BigQuery!\n",
    "\n",
    "# Your Turn\n",
    "\n",
    "You are on the last step.  Finish it by solving **[this question](#$EXERCISE_FORKING_URL$)**.\n"
   ]
  }
 ],
 "metadata": {
  "kernelspec": {
   "display_name": "Python 3",
   "language": "python",
   "name": "python3"
  },
  "language_info": {
   "codemirror_mode": {
    "name": "ipython",
    "version": 3
   },
   "file_extension": ".py",
   "mimetype": "text/x-python",
   "name": "python",
   "nbconvert_exporter": "python",
   "pygments_lexer": "ipython3",
   "version": "3.6.1"
  }
 },
 "nbformat": 4,
 "nbformat_minor": 2
}
