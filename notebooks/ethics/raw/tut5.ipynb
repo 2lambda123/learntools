{
 "cells": [
  {
   "cell_type": "markdown",
   "metadata": {
    "papermill": {
     "duration": 0.003775,
     "end_time": "2020-12-23T20:43:25.928389",
     "exception": false,
     "start_time": "2020-12-23T20:43:25.924614",
     "status": "completed"
    },
    "tags": []
   },
   "source": [
    "# Introduction\n",
    " \n",
    "A **model card** is a short document that provides key information about a machine learning model.  Model cards increase transparency by communicating information about trained models to broad audiences.\n",
    " \n",
    "In this tutorial, you will learn about which audiences to write a model card for and which sections a model card should contain.  Then, in the following exercise, you will xyz."
   ]
  },
  {
   "cell_type": "markdown",
   "metadata": {
    "papermill": {
     "duration": 0.002774,
     "end_time": "2020-12-23T20:43:25.934396",
     "exception": false,
     "start_time": "2020-12-23T20:43:25.931622",
     "status": "completed"
    },
    "tags": []
   },
   "source": [
    "# Model Cards\n",
    " \n",
    "Though AI systems are playing increasingly important roles in every industry, few people understand how these systems work. AI researchers are exploring many ways to communicate key information about models to inform people who use AI systems, people who are affected by AI systems and others.\n",
    "\n",
    "Model cards - introduced in a [2019 paper](https://arxiv.org/abs/1810.03993) by researchers from Google and the University of Toronto - are one way for teams to communicate key information about their AI system to a broad audience. This information generally includes:\n",
    "- The uses the model is intended for\n",
    "- How the model works\n",
    "- How the model performs in different situations\n",
    "\n",
    "You can think of model cards as similar to the nutritional labels that you find on packaged foods.\n",
    "\n",
    "# Who is the audience of your model card?\n",
    "\n",
    "A model card should strike a balance between being easy-to-understand and communicating important technical information. When writing a model card, you should consider your audience: the groups of people who are most likely to read your model card. These groups will vary according to the AI system’s purpose.\n",
    "\n",
    "> A model card for an AI system that helps medical professionals interpret x-rays to better diagnose musculoskeletal injuries is likely to be read by medical professionals, scientists, patients, researchers, policymakers and developers of similar AI systems. The model card may therefore assume some knowledge of health care and of AI systems. \n",
    "\n",
    "\n",
    "> A model card for an AI system that helps news websites reduce the toxic content in their comments sections is likely to be read by website product teams, media professionals, internet community enthusiasts, researchers, policymakers and developers of similar AI systems. The model card may therefore assume some knowledge of online comment boards and of AI systems. "
   ]
  },
  {
   "cell_type": "markdown",
   "metadata": {
    "papermill": {
     "duration": 0.002737,
     "end_time": "2020-12-23T20:43:25.940116",
     "exception": false,
     "start_time": "2020-12-23T20:43:25.937379",
     "status": "completed"
    },
    "tags": []
   },
   "source": [
    "**Note**: The use of detailed model cards can often be challenging because an organization may not want to reveal its processes, proprietary data or trade secrets. In such cases, the developer team should think about how model cards can be useful and empowering, without including sensitive information."
   ]
  },
  {
   "cell_type": "markdown",
   "metadata": {
    "papermill": {
     "duration": 0.004064,
     "end_time": "2020-12-23T20:43:25.947144",
     "exception": false,
     "start_time": "2020-12-23T20:43:25.943080",
     "status": "completed"
    },
    "tags": []
   },
   "source": [
    "# What sections should a model card contain?\n",
    "\n",
    "Per the original paper, a model card should have the following nine sections. Note that different organizations may add, subtract or rearrange model card sections according to their needs.\n",
    "\n",
    "## 1. Model Details     \n",
    "Background information (such as developer and model version)\n",
    " \n",
    "## 2. Intended Use\n",
    "- What use cases are in scope?\n",
    "- Who are your intended users?\n",
    "- What use cases are out of scope? Start by thinking about uses that people could easily confuse your model’s uses with.\n",
    " \n",
    "## 3. Factors\n",
    "What factors affect the impact of the model? For example, a facial recognition model’s results might vary by demographic factors like age, gender or ethnicity, environmental factors like lighting or rain and instrumentation like camera type.\n",
    " \n",
    "## 4. Metrics\n",
    "What metrics are you using to measure the performance of the model?\n",
    "- For classification systems – in which the output is a class label – potential error types include false positive rate, false negative rate, false discovery rate, and false omission rate. The relative importance of each of these depends on the use case.\n",
    "- For score-based analyses – in which the output is a score or price – consider reporting model performance across groups.\n",
    "- Why did you pick these metrics?\n",
    " \n",
    "## 5. Evaluation Data\n",
    "- Which datasets did you use to evaluate model performance? Provide the datasets if appropriate.\n",
    "- Why did you choose these datasets for evaluation?\n",
    "- Are the datasets representative of typical use cases, anticipated test cases and/or challenging cases?\n",
    " \n",
    "## 6. Training Data\n",
    "Which data was the model trained on?\n",
    " \n",
    "## 7. Quantitative Analyses\n",
    "How did the model perform on the metrics you chose? Break down performance by important factors and their intersections. For example, for a facial recognition algorithm, break performance down by age (eg, elderly), gender (eg, female), and then both (eg, elderly and female).\n",
    " \n",
    "## 8. Ethical Considerations\n",
    "Describe ethical considerations related to the model, such as sensitive data used to train the model, whether the model has implications for human life, health or safety, how risk was mitigated and what harms may be present in model usage.\n",
    " \n",
    "## 9. Caveats and Recommendations\n",
    "Include anything important that you have not covered elsewhere in the model card."
   ]
  }
 ],
 "metadata": {
  "kernelspec": {
   "display_name": "Python 3",
   "language": "python",
   "name": "python3"
  },
  "language_info": {
   "codemirror_mode": {
    "name": "ipython",
    "version": 3
   },
   "file_extension": ".py",
   "mimetype": "text/x-python",
   "name": "python",
   "nbconvert_exporter": "python",
   "pygments_lexer": "ipython3",
   "version": "3.6.5"
  },
  "papermill": {
   "duration": 5.205677,
   "end_time": "2020-12-23T20:43:26.057947",
   "environment_variables": {},
   "exception": null,
   "input_path": "__notebook__.ipynb",
   "output_path": "__notebook__.ipynb",
   "parameters": {},
   "start_time": "2020-12-23T20:43:20.852270",
   "version": "2.1.0"
  }
 },
 "nbformat": 4,
 "nbformat_minor": 4
}
