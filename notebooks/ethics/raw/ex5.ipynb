{
 "cells": [
  {
   "cell_type": "markdown",
   "metadata": {
    "papermill": {
     "duration": 0.010515,
     "end_time": "2021-02-27T00:54:36.124158",
     "exception": false,
     "start_time": "2021-02-27T00:54:36.113643",
     "status": "completed"
    },
    "tags": []
   },
   "source": [
    "In the tutorial, you learned how to use model cards.  In this exercise, you'll sharpen your understanding of model cards by engaging with them in a couple of scenarios.\n",
    "\n",
    "# Introduction\n",
    "\n",
    "Run the next code cell to get started."
   ]
  },
  {
   "cell_type": "code",
   "execution_count": null,
   "metadata": {
    "execution": {
     "iopub.execute_input": "2021-02-27T00:54:36.148203Z",
     "iopub.status.busy": "2021-02-27T00:54:36.147664Z",
     "iopub.status.idle": "2021-02-27T00:54:36.157101Z",
     "shell.execute_reply": "2021-02-27T00:54:36.157626Z"
    },
    "papermill": {
     "duration": 0.022761,
     "end_time": "2021-02-27T00:54:36.157779",
     "exception": false,
     "start_time": "2021-02-27T00:54:36.135018",
     "status": "completed"
    },
    "tags": []
   },
   "outputs": [],
   "source": [
    "from learntools.core import binder\n",
    "binder.bind(globals())\n",
    "from learntools.ethics.ex5 import *"
   ]
  },
  {
   "cell_type": "markdown",
   "metadata": {
    "papermill": {
     "duration": 0.010424,
     "end_time": "2021-02-27T00:54:36.178986",
     "exception": false,
     "start_time": "2021-02-27T00:54:36.168562",
     "status": "completed"
    },
    "tags": []
   },
   "source": [
    "# 1) Scenario A: Audience\n",
    "\n",
    "You are the creator of the _Simple Zoom_ video editing tool, which uses AI to automatically zoom the video camera in on a presenter as they walk across a room during a presentation. You are launching the _Simple Zoom_ tool and releasing a model card along with the tool, in the interest of transparency.\n",
    "\n",
    "Which audiences should you write the model card for? Once you have thought about your answer, check it against the solution below. "
   ]
  },
  {
   "cell_type": "code",
   "execution_count": null,
   "metadata": {
    "collapsed": true,
    "execution": {
     "iopub.execute_input": "2021-02-27T00:54:36.208103Z",
     "iopub.status.busy": "2021-02-27T00:54:36.207490Z",
     "iopub.status.idle": "2021-02-27T00:54:36.212204Z",
     "shell.execute_reply": "2021-02-27T00:54:36.211705Z"
    },
    "papermill": {
     "duration": 0.022406,
     "end_time": "2021-02-27T00:54:36.212336",
     "exception": false,
     "start_time": "2021-02-27T00:54:36.189930",
     "status": "completed"
    },
    "tags": []
   },
   "outputs": [],
   "source": [
    "# Check your answer (Run this code cell to receive credit!)\n",
    "q_1.check()"
   ]
  },
  {
   "cell_type": "markdown",
   "metadata": {
    "papermill": {
     "duration": 0.011583,
     "end_time": "2021-02-27T00:54:36.235319",
     "exception": false,
     "start_time": "2021-02-27T00:54:36.223736",
     "status": "completed"
    },
    "tags": []
   },
   "source": [
    "# 2) Scenario B: Intended Use\n",
    "\n",
    "You are the product manager for _Presenter Pro_, a popular video and audio recording product for people delivering talks and presentations. As a new feature based on customer demand, your team has been planning to add the AI-powered ability for a single video camera to automatically track a presenter, focusing on them as they walk across the room or stage, zooming in and out automatically and continuously adjusting lighting and focus within the video frame. \n",
    "\n",
    "You are hoping to incorporate a different company’s AI tool (called _Simple Zoom_) into your product (_Presenter Pro_). To determine whether _Simple Zoom_ is a good fit for _Presenter Pro_, you are reviewing *Simple Zoom*’s model card.\n",
    "\n",
    "The **Intended Use** section of the model card includes the following bullets:\n",
    "* _Simple Zoom_ is intended to be used for automatic zoom, focus, and lighting adjustment in the real-time video recording of individual presenters by a single camera\n",
    "* _Simple Zoom_ is not suitable for presentations in which there is more than one presenter or for presentations in which the presenter is partially or fully hidden at any time\n",
    "\n",
    "As a member of the team evaluating _Simple Zoom_ for potential integration into _Presenter Pro_, you are aware that _Presenter Pro_ only supports one presenter per video.\n",
    "\n",
    "However, you are also aware that in some _Presenter Pro_ customers use large props in their presentation videos. Given the information in the Intended Use section of the model card, what problem do you foresee for these customers if you integrate _Simple Zoom_ into _Presenter Pro_? What are some ways in which you could address this issue?"
   ]
  },
  {
   "cell_type": "code",
   "execution_count": null,
   "metadata": {},
   "outputs": [],
   "source": [
    "# Run this code cell to receive a hint\n",
    "q_2.hint()"
   ]
  },
  {
   "cell_type": "code",
   "execution_count": null,
   "metadata": {
    "execution": {
     "iopub.execute_input": "2021-02-27T00:54:36.262667Z",
     "iopub.status.busy": "2021-02-27T00:54:36.262070Z",
     "iopub.status.idle": "2021-02-27T00:54:36.266822Z",
     "shell.execute_reply": "2021-02-27T00:54:36.266357Z"
    },
    "papermill": {
     "duration": 0.020576,
     "end_time": "2021-02-27T00:54:36.266949",
     "exception": false,
     "start_time": "2021-02-27T00:54:36.246373",
     "status": "completed"
    },
    "tags": []
   },
   "outputs": [],
   "source": [
    "# Check your answer (Run this code cell to receive credit!)\n",
    "q_2.check()"
   ]
  },
  {
   "cell_type": "markdown",
   "metadata": {
    "papermill": {
     "duration": 0.011538,
     "end_time": "2021-02-27T00:54:36.290935",
     "exception": false,
     "start_time": "2021-02-27T00:54:36.279397",
     "status": "completed"
    },
    "tags": []
   },
   "source": [
    "# 3) TBD"
   ]
  },
  {
   "cell_type": "code",
   "execution_count": null,
   "metadata": {
    "execution": {
     "iopub.execute_input": "2021-02-27T00:54:36.319969Z",
     "iopub.status.busy": "2021-02-27T00:54:36.319249Z",
     "iopub.status.idle": "2021-02-27T00:54:36.350757Z",
     "shell.execute_reply": "2021-02-27T00:54:36.350302Z"
    },
    "papermill": {
     "duration": 0.047767,
     "end_time": "2021-02-27T00:54:36.350911",
     "exception": false,
     "start_time": "2021-02-27T00:54:36.303144",
     "status": "completed"
    },
    "tags": []
   },
   "outputs": [],
   "source": [
    "# Check your answer (Run this code cell to receive credit!)\n",
    "q_3.check()"
   ]
  },
  {
   "cell_type": "markdown",
   "metadata": {
    "papermill": {
     "duration": 0.01278,
     "end_time": "2021-02-27T00:54:36.378269",
     "exception": false,
     "start_time": "2021-02-27T00:54:36.365489",
     "status": "completed"
    },
    "tags": []
   },
   "source": [
    "# Learn more\n",
    "\n",
    "* Check out [Salesforce's model cards](https://blog.einstein.ai/model-cards-for-ai-model-transparency/) to see real-world examples\n",
    "* Take a look at [Google Cloud's example model cards](https://modelcards.withgoogle.com/face-detection), but note that the sections do not exactly correspond to those in the model cards paper"
   ]
  }
 ],
 "metadata": {
  "kernelspec": {
   "display_name": "Python 3",
   "language": "python",
   "name": "python3"
  },
  "language_info": {
   "codemirror_mode": {
    "name": "ipython",
    "version": 3
   },
   "file_extension": ".py",
   "mimetype": "text/x-python",
   "name": "python",
   "nbconvert_exporter": "python",
   "pygments_lexer": "ipython3",
   "version": "3.6.5"
  },
  "papermill": {
   "default_parameters": {},
   "duration": 22.765098,
   "end_time": "2021-02-27T00:54:36.925324",
   "environment_variables": {},
   "exception": null,
   "input_path": "__notebook__.ipynb",
   "output_path": "__notebook__.ipynb",
   "parameters": {},
   "start_time": "2021-02-27T00:54:14.160226",
   "version": "2.2.2"
  }
 },
 "nbformat": 4,
 "nbformat_minor": 4
}
