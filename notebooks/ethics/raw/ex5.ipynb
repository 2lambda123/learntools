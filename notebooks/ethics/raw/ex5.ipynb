{
 "cells": [
  {
   "cell_type": "markdown",
   "metadata": {
    "papermill": {
     "duration": 0.006977,
     "end_time": "2020-12-23T21:04:41.204584",
     "exception": false,
     "start_time": "2020-12-23T21:04:41.197607",
     "status": "completed"
    },
    "tags": []
   },
   "source": [
    "In the tutorial, you xyz.  In this exercise, you'll abc.\n",
    "\n",
    "# Introduction\n",
    "\n",
    "Run the next code cell to get started."
   ]
  },
  {
   "cell_type": "code",
   "execution_count": 1,
   "metadata": {
    "_cell_guid": "b1076dfc-b9ad-4769-8c92-a6c4dae69d19",
    "_uuid": "8f2839f25d086af736a60e9eeb907d3b93b6e0e5",
    "execution": {
     "iopub.execute_input": "2020-12-23T21:04:41.222270Z",
     "iopub.status.busy": "2020-12-23T21:04:41.221522Z",
     "iopub.status.idle": "2020-12-23T21:04:41.302387Z",
     "shell.execute_reply": "2020-12-23T21:04:41.301650Z"
    },
    "papermill": {
     "duration": 0.091915,
     "end_time": "2020-12-23T21:04:41.302516",
     "exception": false,
     "start_time": "2020-12-23T21:04:41.210601",
     "status": "completed"
    },
    "tags": []
   },
   "outputs": [
    {
     "ename": "ModuleNotFoundError",
     "evalue": "No module named 'learntools.ethics'",
     "output_type": "error",
     "traceback": [
      "\u001b[0;31m---------------------------------------------------------------------------\u001b[0m",
      "\u001b[0;31mModuleNotFoundError\u001b[0m                       Traceback (most recent call last)",
      "\u001b[0;32m<ipython-input-1-a8886ba3d877>\u001b[0m in \u001b[0;36m<module>\u001b[0;34m\u001b[0m\n\u001b[1;32m      1\u001b[0m \u001b[0;32mfrom\u001b[0m \u001b[0mlearntools\u001b[0m\u001b[0;34m.\u001b[0m\u001b[0mcore\u001b[0m \u001b[0;32mimport\u001b[0m \u001b[0mbinder\u001b[0m\u001b[0;34m\u001b[0m\u001b[0;34m\u001b[0m\u001b[0m\n\u001b[1;32m      2\u001b[0m \u001b[0mbinder\u001b[0m\u001b[0;34m.\u001b[0m\u001b[0mbind\u001b[0m\u001b[0;34m(\u001b[0m\u001b[0mglobals\u001b[0m\u001b[0;34m(\u001b[0m\u001b[0;34m)\u001b[0m\u001b[0;34m)\u001b[0m\u001b[0;34m\u001b[0m\u001b[0;34m\u001b[0m\u001b[0m\n\u001b[0;32m----> 3\u001b[0;31m \u001b[0;32mfrom\u001b[0m \u001b[0mlearntools\u001b[0m\u001b[0;34m.\u001b[0m\u001b[0methics\u001b[0m\u001b[0;34m.\u001b[0m\u001b[0mex5\u001b[0m \u001b[0;32mimport\u001b[0m \u001b[0;34m*\u001b[0m\u001b[0;34m\u001b[0m\u001b[0;34m\u001b[0m\u001b[0m\n\u001b[0m",
      "\u001b[0;31mModuleNotFoundError\u001b[0m: No module named 'learntools.ethics'"
     ]
    }
   ],
   "source": [
    "from learntools.core import binder\n",
    "binder.bind(globals())\n",
    "from learntools.ethics.ex5 import *"
   ]
  },
  {
   "cell_type": "markdown",
   "metadata": {
    "papermill": {
     "duration": 0.005769,
     "end_time": "2020-12-23T21:04:41.316996",
     "exception": false,
     "start_time": "2020-12-23T21:04:41.311227",
     "status": "completed"
    },
    "tags": []
   },
   "source": [
    "# 1) Wildfire prediction\n",
    "\n",
    "Your team has worked with government wildfire management agencies to create an AI system that uses recent drone images of wildfires to predict where the fires are likely to spread. You are writing a model card to release with your trained model. \n",
    "\n",
    "Which audiences should you write the model card for?  Once you have thought about your answer, check it against the solution below."
   ]
  },
  {
   "cell_type": "code",
   "execution_count": 2,
   "metadata": {
    "_cell_guid": "79c7e3d0-c299-4dcb-8224-4455121ee9b0",
    "_uuid": "d629ff2d2480ee46fbb7e2d37f6b5fab8052498a",
    "collapsed": true,
    "execution": {
     "iopub.execute_input": "2020-12-23T21:04:41.341320Z",
     "iopub.status.busy": "2020-12-23T21:04:41.340276Z",
     "iopub.status.idle": "2020-12-23T21:04:41.346287Z",
     "shell.execute_reply": "2020-12-23T21:04:41.346841Z"
    },
    "papermill": {
     "duration": 0.023945,
     "end_time": "2020-12-23T21:04:41.347004",
     "exception": false,
     "start_time": "2020-12-23T21:04:41.323059",
     "status": "completed"
    },
    "tags": []
   },
   "outputs": [
    {
     "ename": "NameError",
     "evalue": "name 'q_1' is not defined",
     "output_type": "error",
     "traceback": [
      "\u001b[0;31m---------------------------------------------------------------------------\u001b[0m",
      "\u001b[0;31mNameError\u001b[0m                                 Traceback (most recent call last)",
      "\u001b[0;32m<ipython-input-2-474131d6cf3e>\u001b[0m in \u001b[0;36m<module>\u001b[0;34m\u001b[0m\n\u001b[1;32m      1\u001b[0m \u001b[0;31m# Check your answer (Run this code cell to receive credit!)\u001b[0m\u001b[0;34m\u001b[0m\u001b[0;34m\u001b[0m\u001b[0;34m\u001b[0m\u001b[0m\n\u001b[0;32m----> 2\u001b[0;31m \u001b[0mq_1\u001b[0m\u001b[0;34m.\u001b[0m\u001b[0mcheck\u001b[0m\u001b[0;34m(\u001b[0m\u001b[0;34m)\u001b[0m\u001b[0;34m\u001b[0m\u001b[0;34m\u001b[0m\u001b[0m\n\u001b[0m",
      "\u001b[0;31mNameError\u001b[0m: name 'q_1' is not defined"
     ]
    }
   ],
   "source": [
    "# Check your answer (Run this code cell to receive credit!)\n",
    "q_1.check()"
   ]
  },
  {
   "cell_type": "markdown",
   "metadata": {
    "papermill": {
     "duration": 0.006492,
     "end_time": "2020-12-23T21:04:41.360538",
     "exception": false,
     "start_time": "2020-12-23T21:04:41.354046",
     "status": "completed"
    },
    "tags": []
   },
   "source": [
    "# 2) People tracking\n",
    "\n",
    "Your team has developed an AI system that stays zoomed in on a person as they walk around a room during a video call. In your model card, you want to emphasize results that show that your AI system performs similarly across all racial groups but sometimes has trouble with very young or very old people. \n",
    "\n",
    "Which section(s) should you include these results in?\n",
    "- A. Model Details\n",
    "- B. Quantitative Analyses\n",
    "- C. Ethical Considerations\n",
    "- D. Caveats and Recommendations"
   ]
  },
  {
   "cell_type": "code",
   "execution_count": 3,
   "metadata": {
    "execution": {
     "iopub.execute_input": "2020-12-23T21:04:41.387601Z",
     "iopub.status.busy": "2020-12-23T21:04:41.386578Z",
     "iopub.status.idle": "2020-12-23T21:04:41.391737Z",
     "shell.execute_reply": "2020-12-23T21:04:41.391059Z"
    },
    "papermill": {
     "duration": 0.024454,
     "end_time": "2020-12-23T21:04:41.391862",
     "exception": false,
     "start_time": "2020-12-23T21:04:41.367408",
     "status": "completed"
    },
    "tags": []
   },
   "outputs": [
    {
     "ename": "NameError",
     "evalue": "name 'q_2' is not defined",
     "output_type": "error",
     "traceback": [
      "\u001b[0;31m---------------------------------------------------------------------------\u001b[0m",
      "\u001b[0;31mNameError\u001b[0m                                 Traceback (most recent call last)",
      "\u001b[0;32m<ipython-input-3-f4fe07f575d0>\u001b[0m in \u001b[0;36m<module>\u001b[0;34m\u001b[0m\n\u001b[1;32m      1\u001b[0m \u001b[0;31m# Check your answer (Run this code cell to receive credit!)\u001b[0m\u001b[0;34m\u001b[0m\u001b[0;34m\u001b[0m\u001b[0;34m\u001b[0m\u001b[0m\n\u001b[0;32m----> 2\u001b[0;31m \u001b[0mq_2\u001b[0m\u001b[0;34m.\u001b[0m\u001b[0mcheck\u001b[0m\u001b[0;34m(\u001b[0m\u001b[0;34m)\u001b[0m\u001b[0;34m\u001b[0m\u001b[0;34m\u001b[0m\u001b[0m\n\u001b[0m",
      "\u001b[0;31mNameError\u001b[0m: name 'q_2' is not defined"
     ]
    }
   ],
   "source": [
    "# Check your answer (Run this code cell to receive credit!)\n",
    "q_2.check()"
   ]
  }
 ],
 "metadata": {
  "kernelspec": {
   "display_name": "Python 3",
   "language": "python",
   "name": "python3"
  },
  "language_info": {
   "codemirror_mode": {
    "name": "ipython",
    "version": 3
   },
   "file_extension": ".py",
   "mimetype": "text/x-python",
   "name": "python",
   "nbconvert_exporter": "python",
   "pygments_lexer": "ipython3",
   "version": "3.7.6"
  },
  "papermill": {
   "duration": 5.604545,
   "end_time": "2020-12-23T21:04:41.510287",
   "environment_variables": {},
   "exception": null,
   "input_path": "__notebook__.ipynb",
   "output_path": "__notebook__.ipynb",
   "parameters": {},
   "start_time": "2020-12-23T21:04:35.905742",
   "version": "2.1.0"
  }
 },
 "nbformat": 4,
 "nbformat_minor": 4
}
