{
 "cells": [
  {
   "cell_type": "markdown",
   "metadata": {
    "papermill": {
     "duration": 0.006977,
     "end_time": "2020-12-23T21:04:41.204584",
     "exception": false,
     "start_time": "2020-12-23T21:04:41.197607",
     "status": "completed"
    },
    "tags": []
   },
   "source": [
    "In the tutorial, you learned how to use model cards.  In this exercise, you'll apply what you've learned to a couple of real-world scenarios.\n",
    "\n",
    "# Introduction\n",
    "\n",
    "Run the next code cell to get started."
   ]
  },
  {
   "cell_type": "code",
   "execution_count": null,
   "metadata": {
    "execution": {
     "iopub.execute_input": "2020-12-23T21:04:41.222270Z",
     "iopub.status.busy": "2020-12-23T21:04:41.221522Z",
     "iopub.status.idle": "2020-12-23T21:04:41.302387Z",
     "shell.execute_reply": "2020-12-23T21:04:41.301650Z"
    },
    "papermill": {
     "duration": 0.091915,
     "end_time": "2020-12-23T21:04:41.302516",
     "exception": false,
     "start_time": "2020-12-23T21:04:41.210601",
     "status": "completed"
    },
    "tags": []
   },
   "outputs": [],
   "source": [
    "from learntools.core import binder\n",
    "binder.bind(globals())\n",
    "from learntools.ethics.ex5 import *"
   ]
  },
  {
   "cell_type": "markdown",
   "metadata": {
    "papermill": {
     "duration": 0.005769,
     "end_time": "2020-12-23T21:04:41.316996",
     "exception": false,
     "start_time": "2020-12-23T21:04:41.311227",
     "status": "completed"
    },
    "tags": []
   },
   "source": [
    "# 1) Wildfire prediction\n",
    "\n",
    "Your team has worked with government wildfire management agencies to create an AI system that uses recent drone images of wildfires to predict where the fires are likely to spread. You are writing a model card to release with your trained model. \n",
    "\n",
    "Which audiences should you write the model card for?  Once you have thought about your answer, check it against the solution below."
   ]
  },
  {
   "cell_type": "code",
   "execution_count": null,
   "metadata": {
    "collapsed": true,
    "execution": {
     "iopub.execute_input": "2020-12-23T21:04:41.341320Z",
     "iopub.status.busy": "2020-12-23T21:04:41.340276Z",
     "iopub.status.idle": "2020-12-23T21:04:41.346287Z",
     "shell.execute_reply": "2020-12-23T21:04:41.346841Z"
    },
    "papermill": {
     "duration": 0.023945,
     "end_time": "2020-12-23T21:04:41.347004",
     "exception": false,
     "start_time": "2020-12-23T21:04:41.323059",
     "status": "completed"
    },
    "tags": []
   },
   "outputs": [],
   "source": [
    "# Check your answer (Run this code cell to receive credit!)\n",
    "q_1.check()"
   ]
  },
  {
   "cell_type": "markdown",
   "metadata": {
    "papermill": {
     "duration": 0.006492,
     "end_time": "2020-12-23T21:04:41.360538",
     "exception": false,
     "start_time": "2020-12-23T21:04:41.354046",
     "status": "completed"
    },
    "tags": []
   },
   "source": [
    "# 2) People tracking\n",
    "\n",
    "Your team has developed an AI system that stays zoomed in on a person as they walk around a room during a video call. In your model card, you want to emphasize results that show that your AI system performs similarly across all racial groups but sometimes has trouble with very young or very old people. \n",
    "\n",
    "Which section(s) should you include these results in?\n",
    "- A. Model Details\n",
    "- B. Quantitative Analyses\n",
    "- C. Ethical Considerations\n",
    "- D. Caveats and Recommendations\n",
    "\n",
    "Once you have thought about your answer, check it against the solution below."
   ]
  },
  {
   "cell_type": "code",
   "execution_count": null,
   "metadata": {
    "execution": {
     "iopub.execute_input": "2020-12-23T21:04:41.387601Z",
     "iopub.status.busy": "2020-12-23T21:04:41.386578Z",
     "iopub.status.idle": "2020-12-23T21:04:41.391737Z",
     "shell.execute_reply": "2020-12-23T21:04:41.391059Z"
    },
    "papermill": {
     "duration": 0.024454,
     "end_time": "2020-12-23T21:04:41.391862",
     "exception": false,
     "start_time": "2020-12-23T21:04:41.367408",
     "status": "completed"
    },
    "tags": []
   },
   "outputs": [],
   "source": [
    "# Check your answer (Run this code cell to receive credit!)\n",
    "q_2.check()"
   ]
  }
 ],
 "metadata": {
  "kernelspec": {
   "display_name": "Python 3",
   "language": "python",
   "name": "python3"
  },
  "language_info": {
   "codemirror_mode": {
    "name": "ipython",
    "version": 3
   },
   "file_extension": ".py",
   "mimetype": "text/x-python",
   "name": "python",
   "nbconvert_exporter": "python",
   "pygments_lexer": "ipython3",
   "version": "3.6.5"
  },
  "papermill": {
   "duration": 5.604545,
   "end_time": "2020-12-23T21:04:41.510287",
   "environment_variables": {},
   "exception": null,
   "input_path": "__notebook__.ipynb",
   "output_path": "__notebook__.ipynb",
   "parameters": {},
   "start_time": "2020-12-23T21:04:35.905742",
   "version": "2.1.0"
  }
 },
 "nbformat": 4,
 "nbformat_minor": 4
}
