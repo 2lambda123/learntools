{
 "cells": [
  {
   "cell_type": "markdown",
   "metadata": {},
   "source": [
    "# Welcome to the AI Ethics course!\n",
    "\n",
    "AI increasingly has an impact on everything from social media to how militaries operate.  AI is used to make credit card decisions, it decides when patients need healthcare, and it is used for video surveillance in airports.  All of these technologies have the potential to harm or help the people that they serve.  By applying an ethical framework, we can work to identify the potential damage that these technologies can inflict, and we can ultimately design and build them so that they do not harm people.  \n",
    "\n",
    "This course is for you, if you are interested in AI ethics, but you’re not sure where to start.  **This course has no prerequisites**, and we don’t assume any programming background.  \n",
    "\n",
    "Your instructors **[Var Shankar](https://www.kaggle.com/var0101)** (who has worked on AI ethics in industry) and **[Alexis Cook](https://www.kaggle.com/alexisbcook)** (who has designed and trained AI models) have collaborated to build an applied and practical course.  In the exercises, you will run code to train and investigate AI models.   If you are already on a team developing AI products and don’t know where to start, we provide actionable suggestions.   \n",
    "\n",
    "This course covers several topics: \n",
    "- In the **human-centered design** lesson, you’ll learn how to design an AI system to ensure that it serves the needs of the people that it is intended for.\n",
    "- In the **bias** lesson, you’ll determine how AI systems can learn to discriminate against certain groups.\n",
    "- In the **fairness** lesson, you’ll quantify the extent of the bias in AI systems.  \n",
    "- In the **model cards** lesson, you’ll learn how to use a popular framework for making sure that AI models are accountable to the public.\n",
    "\n",
    "As the field of AI evolves, so does AI ethics.  As a wise friend once told us, _“Ethics is a conversation.”_  This course can help you start that conversation, but we do not finish it, or even give a complete overview of all potential topics of conversation.  Some topics that we do not cover include: AI’s potential impact on the digital technology divide between the rich and the poor, on jobs, and on the capabilities of authoritarian governments, among others.  That said, throughout the course, we recommend next steps for continuing your learning and following the ethical conversation as it continues to evolve. \n",
    "\n",
    "# Get started!\n",
    "\n",
    "Ready to start the course? **[Learn about human-centered design](#$NEXT_NOTEBOOK_URL$)** in the next tutorial!"
   ]
  }
 ],
 "metadata": {
  "kernelspec": {
   "display_name": "Python 3",
   "language": "python",
   "name": "python3"
  },
  "language_info": {
   "codemirror_mode": {
    "name": "ipython",
    "version": 3
   },
   "file_extension": ".py",
   "mimetype": "text/x-python",
   "name": "python",
   "nbconvert_exporter": "python",
   "pygments_lexer": "ipython3",
   "version": "3.6.12"
  }
 },
 "nbformat": 4,
 "nbformat_minor": 4
}
