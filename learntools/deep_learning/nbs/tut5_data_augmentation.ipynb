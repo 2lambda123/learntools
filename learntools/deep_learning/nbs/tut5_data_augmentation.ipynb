{
 "cells": [
  {
   "cell_type": "markdown",
   "metadata": {
    "_cell_guid": "ff5854bc-a479-4651-b5a7-75c7fb3a91e5",
    "_uuid": "e4e9aa4b75f600ddba7c84374cf7817ec6d64f8b"
   },
   "source": [
    "# Intro\n",
    "\n",
    "**This is Lesson 5 in the [Deep Learning](https://www.kaggle.com/learn/machine-learning) track**  \n",
    "\n",
    "At the end of this lesson, you will be able to use data augmentation. This trick that makes it seem like you have far more data than you actually have, resulting in even better models..\n",
    "\n",
    "# Lesson\n"
   ]
  },
  {
   "cell_type": "code",
   "execution_count": null,
   "metadata": {
    "_cell_guid": "17218085-361d-49d1-a578-88064265033b",
    "_kg_hide-input": true,
    "_uuid": "df1f630886717c7e346882deaf03c3558e744b06",
    "collapsed": true
   },
   "outputs": [],
   "source": [
    "from IPython.display import YouTubeVideo\n",
    "YouTubeVideo('ypt_BAotCLo', width=800, height=450)"
   ]
  },
  {
   "cell_type": "markdown",
   "metadata": {
    "_cell_guid": "a7bc8908-c5dd-4a42-b16e-c1de1f746378",
    "_uuid": "8818268baab3a391f8e4482f1fcbae7827b0bd1f"
   },
   "source": [
    "# Sample Code\n",
    "\n",
    "We have some model set-up code which you've seen before.  It's not our focus for the moment, so it is hidden (but optionally visible by clicking the \"code\" button below.)"
   ]
  },
  {
   "cell_type": "code",
   "execution_count": null,
   "metadata": {
    "_cell_guid": "2b5f7282-cb6d-473f-904a-da670f42dad3",
    "_kg_hide-input": true,
    "_kg_hide-output": true,
    "_uuid": "d2b604a89d2e75d69bfcda139cc4dc06e76f159d",
    "collapsed": true
   },
   "outputs": [],
   "source": [
    "from tensorflow.python.keras.applications import ResNet50\n",
    "from tensorflow.python.keras.models import Sequential\n",
    "from tensorflow.python.keras.layers import Dense, Flatten, GlobalAveragePooling2D\n",
    "\n",
    "num_classes = 2\n",
    "resnet_weights_path = '../input/resnet50/resnet50_weights_tf_dim_ordering_tf_kernels_notop.h5'\n",
    "\n",
    "my_new_model = Sequential()\n",
    "my_new_model.add(ResNet50(include_top=False, pooling='avg', weights=resnet_weights_path))\n",
    "my_new_model.add(Dense(num_classes, activation='softmax'))\n",
    "\n",
    "# Say not to train first layer (ResNet) model. It is already trained\n",
    "my_new_model.layers[0].trainable = False\n",
    "\n",
    "my_new_model.compile(optimizer='sgd', loss='categorical_crossentropy', metrics=['accuracy'])"
   ]
  },
  {
   "cell_type": "markdown",
   "metadata": {
    "_cell_guid": "6197af3f-fe84-4e2f-91c4-0b09a8850726",
    "_uuid": "14d4521dafb4e37d3f78bd90b09a8a3090c70130"
   },
   "source": [
    "### Fitting a Model With Data Augmentation"
   ]
  },
  {
   "cell_type": "code",
   "execution_count": null,
   "metadata": {
    "_cell_guid": "48880593-9f58-4bce-b534-9cde1410d87e",
    "_uuid": "f1ffff5bbc85908dbea5e10c7b143000f04f3f8a",
    "collapsed": true
   },
   "outputs": [],
   "source": [
    "from tensorflow.python.keras.applications.resnet50 import preprocess_input\n",
    "from tensorflow.python.keras.preprocessing.image import ImageDataGenerator\n",
    "\n",
    "image_size = 224\n",
    "\n",
    "data_generator_with_aug = ImageDataGenerator(preprocessing_function=preprocess_input,\n",
    "                                   horizontal_flip=True,\n",
    "                                   width_shift_range = 0.2,\n",
    "                                   height_shift_range = 0.2)\n",
    "\n",
    "train_generator = data_generator_with_aug.flow_from_directory(\n",
    "        '../input/urban-and-rural-photos/rural_and_urban_photos/train',\n",
    "        target_size=(image_size, image_size),\n",
    "        batch_size=24,\n",
    "        class_mode='categorical')\n",
    "\n",
    "data_generator_no_aug = ImageDataGenerator(preprocessing_function=preprocess_input)\n",
    "validation_generator = data_generator_no_aug.flow_from_directory(\n",
    "        '../input/urban-and-rural-photos/rural_and_urban_photos/val',\n",
    "        target_size=(image_size, image_size),\n",
    "        class_mode='categorical')\n",
    "\n",
    "my_new_model.fit_generator(\n",
    "        train_generator,\n",
    "        steps_per_epoch=3,\n",
    "        epochs=2,\n",
    "        validation_data=validation_generator,\n",
    "        validation_steps=1)"
   ]
  },
  {
   "cell_type": "markdown",
   "metadata": {
    "_cell_guid": "ca9cc334-1864-4234-b904-d69fc5d4503d",
    "_uuid": "603e0c7524b9b9b60b882e1f39f3c3f3a49bdc8f"
   },
   "source": [
    "# Exercise\n",
    "Move on to **[apply data augmentation](https://www.kaggle.com/kernels/fork/536195)** yourself.\n",
    "\n",
    "\n",
    "---\n",
    "Have questions, comments or feedback?  Bring them to [the Learn forum](https://www.kaggle.com/learn-forum)\n",
    "\n",
    "**[Deep Learning Track Home](https://www.kaggle.com/learn/deep-learning)**"
   ]
  }
 ],
 "metadata": {
  "kernelspec": {
   "display_name": "Python 3",
   "language": "python",
   "name": "python3"
  },
  "language_info": {
   "codemirror_mode": {
    "name": "ipython",
    "version": 3
   },
   "file_extension": ".py",
   "mimetype": "text/x-python",
   "name": "python",
   "nbconvert_exporter": "python",
   "pygments_lexer": "ipython3",
   "version": "3.6.1"
  }
 },
 "nbformat": 4,
 "nbformat_minor": 2
}
