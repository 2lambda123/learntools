{
 "cells": [
  {
   "cell_type": "markdown",
   "metadata": {
    "_cell_guid": "b2b3687d-f0db-41e7-854e-4add6ba2d7a6",
    "_uuid": "f875f6c020a6429ac0ff17f471097c12d982877d"
   },
   "source": [
    "# Intro\n",
    "\n",
    "**This is Lesson 2 in the [Deep Learning](https://www.kaggle.com/learn/deep-learning) track**  \n",
    "\n",
    "By the end of this lesson, you will understand how convolutions are combined to enable superhuman achievements in computer vision.\n",
    "\n",
    "# Lesson\n"
   ]
  },
  {
   "cell_type": "code",
   "execution_count": null,
   "metadata": {
    "_cell_guid": "261c7d2b-bf28-425f-9caf-d7d6329ff143",
    "_kg_hide-input": true,
    "_uuid": "a7f5fe1076ae13d7224c2e00efee6bd2b0bcf638",
    "collapsed": true
   },
   "outputs": [],
   "source": [
    "from IPython.display import YouTubeVideo\n",
    "YouTubeVideo('ToBPiUlLFEY', width=800, height=450)\n"
   ]
  },
  {
   "cell_type": "markdown",
   "metadata": {
    "_cell_guid": "a79c634a-69e7-40bc-8b00-7eaf7c57f3f6",
    "_uuid": "93b63e04e746fb04acaf78dd585e993399b85dbc"
   },
   "source": [
    "# Keep Going\n",
    "Now that you understand the structure of the models, **[learn how to build them](https://www.kaggle.com/dansbecker/programming-in-tensorflow-and-keras)** with TensorFlow and Keras.\n",
    "\n",
    "---\n",
    "\n",
    "Have questions, comments or feedback?  Bring them to [the Learn forum](https://www.kaggle.com/learn-forum)\n",
    "\n",
    "**[Deep Learning Track Home](https://www.kaggle.com/learn/deep-learning)**"
   ]
  }
 ],
 "metadata": {
  "kernelspec": {
   "display_name": "Python 3",
   "language": "python",
   "name": "python3"
  },
  "language_info": {
   "codemirror_mode": {
    "name": "ipython",
    "version": 3
   },
   "file_extension": ".py",
   "mimetype": "text/x-python",
   "name": "python",
   "nbconvert_exporter": "python",
   "pygments_lexer": "ipython3",
   "version": "3.6.1"
  }
 },
 "nbformat": 4,
 "nbformat_minor": 2
}
