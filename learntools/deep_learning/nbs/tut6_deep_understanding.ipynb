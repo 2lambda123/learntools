{
 "cells": [
  {
   "cell_type": "markdown",
   "metadata": {
    "_cell_guid": "bb6a37bf-68bd-442d-977c-f7645c56f0ca",
    "_uuid": "fa3dd56901a169a764b18bca252c02370943959a"
   },
   "source": [
    "# Intro\n",
    "\n",
    "**This is Lesson 6 in the [Deep Learning](https://www.kaggle.com/learn/deep-learning) track**  \n",
    "\n",
    "At the end of this lesson, you will understand how stochastic gradient descent and back-propagation are used to set the weights in a deep learning model. These topics are complex, but many experts view them as the most important ideas in deep learning.\n",
    "\n",
    "# Lesson\n"
   ]
  },
  {
   "cell_type": "code",
   "execution_count": null,
   "metadata": {
    "_cell_guid": "90a24a16-365f-42b7-8874-b5628f616186",
    "_kg_hide-input": true,
    "_uuid": "32af2d4437508a6fe43cdbb4e12f166a1fca5930",
    "collapsed": true
   },
   "outputs": [],
   "source": [
    "from IPython.display import YouTubeVideo\n",
    "YouTubeVideo('kQmHaI5Jw1c', width=800, height=450)"
   ]
  },
  {
   "cell_type": "markdown",
   "metadata": {
    "_cell_guid": "d8e43d7a-0fa8-46d5-bcb3-6d67a19944d8",
    "_uuid": "be94f7241703e0285a8e50d4c733e7e8a4f8b55d"
   },
   "source": [
    "# Keep Going\n",
    "Now you are ready to **[train your own models from scratch](https://www.kaggle.com/dansbecker/deep-learning-from-scratch).**\n",
    "\n",
    "---\n",
    "**Links Mentioned**\n",
    "\n",
    "[ReLU activation function](https://www.kaggle.com/dansbecker/rectified-linear-units-relu-in-deep-learning)"
   ]
  }
 ],
 "metadata": {
  "kernelspec": {
   "display_name": "Python 3",
   "language": "python",
   "name": "python3"
  },
  "language_info": {
   "codemirror_mode": {
    "name": "ipython",
    "version": 3
   },
   "file_extension": ".py",
   "mimetype": "text/x-python",
   "name": "python",
   "nbconvert_exporter": "python",
   "pygments_lexer": "ipython3",
   "version": "3.6.1"
  }
 },
 "nbformat": 4,
 "nbformat_minor": 2
}
