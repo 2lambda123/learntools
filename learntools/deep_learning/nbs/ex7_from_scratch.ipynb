{
 "cells": [
  {
   "cell_type": "markdown",
   "metadata": {
    "_cell_guid": "dfdf80a5-bb2a-41c8-bb66-1e432e852b67",
    "_uuid": "6cc8f4d4b8d92d1970c259922d95cf17f80a7487"
   },
   "source": [
    "# Introduction\n",
    "\n",
    "You've seen how to build a model from scratch to identify handwritten digits.  You'll now build a model to identify different types of clothing.  To make models that train quickly, we'll work with very small (low-resolution) images. \n",
    "\n",
    "As an example, your model will take an images like this and identify it as a shoe:\n",
    "![Imgur](https://i.imgur.com/GyXOnSB.png)"
   ]
  },
  {
   "cell_type": "markdown",
   "metadata": {
    "_uuid": "85022d62f8b2f581b2a067c8289fd67bcf517ccd"
   },
   "source": [
    "# Data Preparation\n",
    "This code is supplied, and you don't need to change it. Just run the cell below."
   ]
  },
  {
   "cell_type": "code",
   "execution_count": null,
   "metadata": {
    "_cell_guid": "d9aa6241-74fc-4c05-bad5-6281d3f45966",
    "_uuid": "2da7ce8c4a1de3b53665c145a91d4bc7e168ddd2",
    "collapsed": true
   },
   "outputs": [],
   "source": [
    "import numpy as np\n",
    "from sklearn.model_selection import train_test_split\n",
    "from tensorflow.python import keras\n",
    "\n",
    "img_rows, img_cols = 28, 28\n",
    "num_classes = 10\n",
    "\n",
    "def prep_data(raw, train_size, val_size):\n",
    "    y = raw[:, 0]\n",
    "    out_y = keras.utils.to_categorical(y, num_classes)\n",
    "    \n",
    "    x = raw[:,1:]\n",
    "    num_images = raw.shape[0]\n",
    "    out_x = x.reshape(num_images, img_rows, img_cols, 1)\n",
    "    out_x = out_x / 255\n",
    "    return out_x, out_y\n",
    "\n",
    "fashion_file = \"../input/fashionmnist/fashion-mnist_train.csv\"\n",
    "fashion_data = np.loadtxt(fashion_file, skiprows=1, delimiter=',')\n",
    "x, y = prep_data(fashion_data, train_size=50000, val_size=5000)"
   ]
  },
  {
   "cell_type": "markdown",
   "metadata": {
    "_uuid": "0c6bbeef0057720505454507ae098d96b160b4df"
   },
   "source": [
    "# Specify Model\n",
    "**STEPS:**\n",
    "1. Create a `Sequential` model. Call it `fashion_model`.\n",
    "2. Add 3 `Conv2D` layers to `fashion_model`.  Make each layer have 12 filters, a kernel_size of 3 and a **relu** activation.  You will need to specify the `input_shape` for the first `Conv2D` layer.  The input shape in this case is `(img_rows, img_cols, 1)`.\n",
    "3. Add a `Flatten` layer to `fashion_model` after the last `Conv2D` layer.\n",
    "4. Add a `Dense` layer with 100 neurons to `fashion_model` after the `Flatten` layer.  \n",
    "5. Add your prediction layer to `fashion_model`.  This is a `Dense` layer.  We alrady have a variable called `num_classes`.  Use this variable when specifying the number of nodes in this layer. The activation should be `softmax` (or you will have problems later)."
   ]
  },
  {
   "cell_type": "code",
   "execution_count": null,
   "metadata": {
    "_cell_guid": "d2e326a6-ac8a-422b-8cff-6c1d7ccd7ced",
    "_uuid": "4d2c616eb22814d5285ba267bc839a43b3fea6b6",
    "collapsed": true
   },
   "outputs": [],
   "source": [
    "from tensorflow.python import keras\n",
    "from tensorflow.python.keras.models import Sequential\n",
    "from tensorflow.python.keras.layers import Dense, Flatten, Conv2D\n",
    "\n",
    "# Your Code Here\n"
   ]
  },
  {
   "cell_type": "markdown",
   "metadata": {
    "_uuid": "5e660e46f096b8adfeeb5660d179e81a40338e40"
   },
   "source": [
    "# Compile Model\n",
    "Run the command `fashion_model.compile`.  Specify the following arguments:\n",
    "1. `loss = keras.losses.categorical_crossentropy`\n",
    "2. `optimizer = 'adam'`\n",
    "3. `metrics = ['accuracy']`"
   ]
  },
  {
   "cell_type": "code",
   "execution_count": null,
   "metadata": {
    "_uuid": "e74bb650acce4efaa5335f6e48803f246332c679",
    "collapsed": true
   },
   "outputs": [],
   "source": [
    "# Your code to compile the model in this cell"
   ]
  },
  {
   "cell_type": "markdown",
   "metadata": {
    "_uuid": "1ab679642ebe0a4edc511b361e1d9e1a4ab268f4"
   },
   "source": [
    "# Fit Model\n",
    "Run the command `fashion_model.fit`. The arguments you will use are\n",
    "1. The first two are arguments are the data used to fit the model, which are `x` and `y` respectively.\n",
    "2. `batch_size = 100`\n",
    "3. `epochs = 4`\n",
    "4. `validation_split = 0.2`\n",
    "\n",
    "When you run this command, you can watch your model start improving.  You will see validation accuracies after each epoch."
   ]
  },
  {
   "cell_type": "code",
   "execution_count": null,
   "metadata": {
    "_uuid": "a001324c9bc11570a15eb201070d65cd8d0e81da",
    "collapsed": true
   },
   "outputs": [],
   "source": [
    "# Your code to fit the model here"
   ]
  },
  {
   "cell_type": "markdown",
   "metadata": {
    "_uuid": "7190e55038bb42c8c1818cc0d6e55e2f02a8092e"
   },
   "source": [
    "# Keep Going\n",
    "You are ready to learn about **[strides and dropout](https://www.kaggle.com/dansbecker/dropout-and-strides-for-larger-models)**, which become important as you start using bigger and more powerful models.\n",
    "\n",
    "---\n",
    "**[Deep Learning Track Home Page](https://www.kaggle.com/learn/deep-learning)**\n",
    "\n"
   ]
  }
 ],
 "metadata": {
  "kernelspec": {
   "display_name": "Python 3",
   "language": "python",
   "name": "python3"
  },
  "language_info": {
   "codemirror_mode": {
    "name": "ipython",
    "version": 3
   },
   "file_extension": ".py",
   "mimetype": "text/x-python",
   "name": "python",
   "nbconvert_exporter": "python",
   "pygments_lexer": "ipython3",
   "version": "3.6.1"
  }
 },
 "nbformat": 4,
 "nbformat_minor": 2
}
