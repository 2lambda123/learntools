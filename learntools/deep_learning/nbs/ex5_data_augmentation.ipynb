{
 "cells": [
  {
   "cell_type": "markdown",
   "metadata": {
    "_cell_guid": "8c136987-f34c-43fa-990f-617271286730",
    "_uuid": "cf4d94a03630a3c96e1cdcc8ad30531d9f26027a"
   },
   "source": [
    "# Exercise Introduction\n",
    "We will return to the automatic rotation problem you worked on in the previous exercise.\n",
    "\n",
    "We also supply much of the code you've already worked with.  Fork this notebook and take on the data augmentation step (step 2 below)."
   ]
  },
  {
   "cell_type": "markdown",
   "metadata": {
    "_cell_guid": "fff79260-ee8a-49bc-b3fa-1a1605f59503",
    "_uuid": "dbd1d5435ad372a3d29894aa3cc0a54c273de5bb"
   },
   "source": [
    "# 1) Specify and Compile the Model\n",
    "This works the same way as in the code you've previously worked on. So you receive a complete version of it here.  Run this cell to specify and compile the model"
   ]
  },
  {
   "cell_type": "code",
   "execution_count": null,
   "metadata": {
    "_cell_guid": "643fec2c-dca2-4449-9c20-5b947b81931b",
    "_kg_hide-output": true,
    "_uuid": "ccc19563d364a7b74b13165e2f23e99f515d94e1",
    "collapsed": true
   },
   "outputs": [],
   "source": [
    "from tensorflow.python.keras.applications import ResNet50\n",
    "from tensorflow.python.keras.models import Sequential\n",
    "from tensorflow.python.keras.layers import Dense, Flatten, GlobalAveragePooling2D\n",
    "\n",
    "num_classes = 2\n",
    "resnet_weights_path = '../input/resnet50/resnet50_weights_tf_dim_ordering_tf_kernels_notop.h5'\n",
    "\n",
    "my_new_model = Sequential()\n",
    "my_new_model.add(ResNet50(include_top=False, pooling='avg', weights=resnet_weights_path))\n",
    "my_new_model.add(Dense(num_classes, activation='softmax'))\n",
    "\n",
    "my_new_model.layers[0].trainable = False\n",
    "\n",
    "my_new_model.compile(optimizer='sgd', loss='categorical_crossentropy', metrics=['accuracy'])"
   ]
  },
  {
   "cell_type": "markdown",
   "metadata": {
    "_cell_guid": "5055373a-9e7a-419a-8542-1aebfee87909",
    "_uuid": "b9818760270d111fb1b33c466e64b3528883743c"
   },
   "source": [
    "# 2) Fit the Model Using Data Augmentation\n",
    "\n",
    "Fill in the blanks, and uncomment those lines of code.  After doing that, you can run this cell and you should get a model that achieves about 90% accuracy.  By using data augmentation, you cut the error rate in half."
   ]
  },
  {
   "cell_type": "code",
   "execution_count": null,
   "metadata": {
    "_cell_guid": "dc33e4fa-7207-44db-83ef-3e037527b37d",
    "_uuid": "393ada72fc56a965de6dc55dd7fe3229fda4b65f",
    "collapsed": true
   },
   "outputs": [],
   "source": [
    "from tensorflow.python.keras.applications.resnet50 import preprocess_input\n",
    "from tensorflow.python.keras.preprocessing.image import ImageDataGenerator\n",
    "\n",
    "image_size = 224\n",
    "\n",
    "# Specify the values for all arguments to data_generator_with_aug. Then uncomment those lines\n",
    "#data_generator_with_aug = ImageDataGenerator(preprocessing_function=preprocess_input\n",
    "#                                              horizontal_flip = _____,\n",
    "#                                              width_shift_range = ____,\n",
    "#                                              height_shift_range = ____)\n",
    "            \n",
    "# data_generator_no_aug = ImageDataGenerator(preprocessing_function=preprocess_input)\n",
    "\n",
    "\n",
    "# Specify which type of ImageDataGenerator above is to load in training data\n",
    "#train_generator = ____.flow_from_directory(\n",
    "#        directory = '../input/dogs-gone-sideways/images/train',\n",
    "#        target_size=(image_size, image_size),\n",
    "#        batch_size=12,\n",
    "#        class_mode='categorical')\n",
    "\n",
    "# Specify which type of ImageDataGenerator above is to load in validation data\n",
    "#validation_generator = ____.flow_from_directory(\n",
    "#        directory = '../input/dogs-gone-sideways/images/val',\n",
    "#        target_size=(image_size, image_size),\n",
    "#        class_mode='categorical')\n",
    "\n",
    "#my_new_model.fit_generator(\n",
    "#        ____, # specify where model gets training data\n",
    "#        epochs = 3,\n",
    "#        steps_per_epoch=19,\n",
    "#        validation_data=____) # specify where model gets validation data"
   ]
  },
  {
   "cell_type": "markdown",
   "metadata": {
    "_cell_guid": "3177b48f-45c3-4c74-bbc4-cf511e012e19",
    "_uuid": "88fc74f4b652ac35639ad223a62751f898390268"
   },
   "source": [
    "# Keep Going\n",
    "You are ready for **[a deeper understanding of deep learning](https://www.kaggle.com/dansbecker/a-deeper-understanding-of-deep-learning/)**."
   ]
  }
 ],
 "metadata": {
  "kernelspec": {
   "display_name": "Python 3",
   "language": "python",
   "name": "python3"
  },
  "language_info": {
   "codemirror_mode": {
    "name": "ipython",
    "version": 3
   },
   "file_extension": ".py",
   "mimetype": "text/x-python",
   "name": "python",
   "nbconvert_exporter": "python",
   "pygments_lexer": "ipython3",
   "version": "3.6.1"
  }
 },
 "nbformat": 4,
 "nbformat_minor": 2
}
