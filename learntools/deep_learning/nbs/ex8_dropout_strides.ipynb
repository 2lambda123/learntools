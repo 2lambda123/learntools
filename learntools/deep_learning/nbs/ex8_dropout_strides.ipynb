{
 "cells": [
  {
   "cell_type": "markdown",
   "metadata": {
    "_cell_guid": "53e4cfb1-4316-46d1-a753-7d4045bb4da2",
    "_uuid": "083760abcfaab135111dbed019a0d630134f30a2"
   },
   "source": [
    "# Introduction\n",
    "\n",
    "You've built a model to identify clothing types in the **MNIST for Fashion** dataset.  Now you will make your model bigger, specify larger stride lengths and apply dropout. These changes will make your model faster and more accurate.\n",
    "\n",
    "This is the last step in the **[Deep Learning Track](https://www.kaggle.com/learn/deep-learning)**.\n",
    "\n",
    "# Starter Code\n",
    "\n",
    "## Data Preparation\n",
    "**You need to run this cell of code.**\n"
   ]
  },
  {
   "cell_type": "code",
   "execution_count": null,
   "metadata": {
    "_cell_guid": "15657934-6637-42b8-9ae6-bce60a608db7",
    "_uuid": "d312dc79af7fc2c5adf211f90ce44d21bdbc5ddd",
    "collapsed": true
   },
   "outputs": [],
   "source": [
    "import numpy as np\n",
    "from sklearn.model_selection import train_test_split\n",
    "from tensorflow.python import keras\n",
    "\n",
    "img_rows, img_cols = 28, 28\n",
    "num_classes = 10\n",
    "\n",
    "def prep_data(raw, train_size, val_size):\n",
    "    y = raw[:, 0]\n",
    "    out_y = keras.utils.to_categorical(y, num_classes)\n",
    "    \n",
    "    x = raw[:,1:]\n",
    "    num_images = raw.shape[0]\n",
    "    out_x = x.reshape(num_images, img_rows, img_cols, 1)\n",
    "    out_x = out_x / 255\n",
    "    return out_x, out_y\n",
    "\n",
    "fashion_file = \"../input/fashionmnist/fashion-mnist_train.csv\"\n",
    "fashion_data = np.loadtxt(fashion_file, skiprows=1, delimiter=',')\n",
    "x, y = prep_data(fashion_data, train_size=50000, val_size=5000)"
   ]
  },
  {
   "cell_type": "markdown",
   "metadata": {
    "_cell_guid": "ccf0a6ed-6579-4c32-8898-1a41857249f9",
    "_uuid": "d485ab8f82c9308f1bdb06da4c8b7c8e0feaa965"
   },
   "source": [
    "## Sample Model Code\n",
    "\n",
    "```\n",
    "fashion_model = Sequential()\n",
    "fashion_model.add(Conv2D(12, kernel_size=(3, 3), strides=2,\n",
    "                 activation='relu',\n",
    "                 input_shape=(img_rows, img_cols, 1)))\n",
    "fashion_model.add(Conv2D(12, (3, 3), strides=2, activation='relu'))\n",
    "fashion_model.add(Flatten())\n",
    "fashion_model.add(Dense(128, activation='relu'))\n",
    "fashion_model.add(Dense(num_classes, activation='softmax'))\n",
    "\n",
    "fashion_model.compile(loss=keras.losses.categorical_crossentropy,\n",
    "              optimizer='adam',\n",
    "              metrics=['accuracy'])\n",
    "\n",
    "fashion_model.fit(train_x, train_y,\n",
    "          batch_size=batch_size,\n",
    "          epochs=epochs,\n",
    "          validation_split = 0.2)\n",
    "```"
   ]
  },
  {
   "cell_type": "markdown",
   "metadata": {
    "_cell_guid": "97fdec45-36d0-45cd-8273-3765c477ef66",
    "_uuid": "8fff3f44f63059c6451d9b7a71cee61641d6622a"
   },
   "source": [
    "# Adding Strides\n",
    "Specify, compile and fit a model much like the model above, but specify a stride length of 2 for each convolutional layer.  Call your new model `fashion_model_1`"
   ]
  },
  {
   "cell_type": "code",
   "execution_count": null,
   "metadata": {
    "_cell_guid": "3d88fc9c-e4c1-4f97-b2b5-1f2c1bd079c6",
    "_uuid": "3fcdca52b62a612b5f9c70e649a5f2b7e3b27a5a",
    "collapsed": true
   },
   "outputs": [],
   "source": [
    "from tensorflow.python.keras.models import Sequential\n",
    "from tensorflow.python.keras.layers import Dense, Flatten, Conv2D, Dropout\n",
    "\n",
    "fashion_model_1 = Sequential()\n",
    "# Specify the rest of the model\n",
    "\n",
    "# Compile fashion_model_1\n",
    "\n",
    "# Fit fashion_model_1\n"
   ]
  },
  {
   "cell_type": "markdown",
   "metadata": {
    "_uuid": "9772fb49d67ea47e9978462f07dd800268ed1019"
   },
   "source": [
    "# Make Model Larger\n",
    "You should have noticed that `fashion_model_1` trained pretty quickly.  This makes it reasonable to make the model larger. Specify a new model called `fashion_model_2` that is identical to fashion_model_1, except:\n",
    "1. Add an additional `Conv2D` layer immediately before the Flatten layer. Make it similar to the Conv2D layers you already have, except don't set the stride length in this new layer (we have already shrunk the representation enough with the existing layers)..\n",
    "2. Change the number of filters in each convolutional layer to 24.\n",
    "\n",
    "After specifying `fashion_model_2`, compile and fit it"
   ]
  },
  {
   "cell_type": "code",
   "execution_count": null,
   "metadata": {
    "_cell_guid": "d60995d6-84ac-48d4-85f6-bde29cd0670e",
    "_uuid": "fa193a82b50064a8d42d380e8a38e3ff302c9015",
    "collapsed": true
   },
   "outputs": [],
   "source": [
    "# Your code for fashion_model_2 below"
   ]
  },
  {
   "cell_type": "markdown",
   "metadata": {
    "_uuid": "40f15d7a35442fc943068c96748697461b5e5770"
   },
   "source": [
    "# Add Dropout\n",
    "Specify `fashion_model_3`, which is identical to `fashion_model_2` except that it adds dropout immediately after each convolutional layer (so it adds dropout 3 times). Compile and fit this model.  Compare the model's performance on validation data to the previous models.\n"
   ]
  },
  {
   "cell_type": "code",
   "execution_count": null,
   "metadata": {
    "_uuid": "8525438bb18f2b59ef1551289950f7514d7b7034",
    "collapsed": true
   },
   "outputs": [],
   "source": [
    "# Your code for fashion_model_3 below"
   ]
  },
  {
   "cell_type": "markdown",
   "metadata": {
    "_uuid": "b48a69822e390a07060539f3394b2173150245c8"
   },
   "source": [
    "# Congrats\n",
    "You've finished the Deep Learning course.  You have the tools to create and tune computer vision models.  Pick a project and try out your skills.  \n",
    "\n",
    "A few fun datasets you might try include:\n",
    "- [Written letter recognition](https://www.kaggle.com/olgabelitskaya/classification-of-handwritten-letters)\n",
    "- [Flower Identification](https://www.kaggle.com/alxmamaev/flowers-recognition)\n",
    "- [Cats vs Dogs](https://www.kaggle.com/c/dogs-vs-cats-redux-kernels-edition)\n",
    "- [10 Monkeys](https://www.kaggle.com/slothkong/10-monkey-species)\n",
    "- [Predict Bone Age from X-Rays](https://www.kaggle.com/kmader/rsna-bone-age)\n",
    "\n",
    "You have learned a lot. There is still a lot more to learn in deep learning. You'll learn it as you practice. But you know enough to practice on your own, so you should feel great about your new skills.\n"
   ]
  }
 ],
 "metadata": {
  "kernelspec": {
   "display_name": "Python 3",
   "language": "python",
   "name": "python3"
  },
  "language_info": {
   "codemirror_mode": {
    "name": "ipython",
    "version": 3
   },
   "file_extension": ".py",
   "mimetype": "text/x-python",
   "name": "python",
   "nbconvert_exporter": "python",
   "pygments_lexer": "ipython3",
   "version": "3.6.1"
  }
 },
 "nbformat": 4,
 "nbformat_minor": 2
}
