{
 "cells": [
  {
   "cell_type": "markdown",
   "metadata": {
    "_cell_guid": "e9856b7f-cefa-4b9e-bc75-fde723dd0005",
    "_uuid": "967401456df79d757b44efc9a65d273dd6673216"
   },
   "source": [
    "# Intro\n",
    "\n",
    "**This is Lesson 4 in the [Deep Learning](https://www.kaggle.com/learn/deep-learning) track**  \n",
    "\n",
    "At the end of this lesson, you will be able to use transfer learning to build highly accurate computer vision models for your custom purposes, even when you have relatively little data.\n",
    "\n",
    "# Lesson\n"
   ]
  },
  {
   "cell_type": "code",
   "execution_count": 5,
   "metadata": {
    "_cell_guid": "5f246c0b-d4a7-4c80-98fe-5e1ce0f47234",
    "_kg_hide-input": true,
    "_uuid": "c641bd4ace694c5329e4e122434bede40251db3a"
   },
   "outputs": [],
   "source": [
    "from IPython.display import YouTubeVideo\n",
    "YouTubeVideo('mPFq5KMxKVw', width=800, height=450)"
   ]
  },
  {
   "cell_type": "markdown",
   "metadata": {
    "_cell_guid": "099283e5-c30d-450c-95b5-8c560e3a13c5",
    "_uuid": "1554f3533a3559d955720585333d5c357c500608"
   },
   "source": [
    "# Sample Code\n",
    "\n",
    "### Specify Model"
   ]
  },
  {
   "cell_type": "code",
   "execution_count": 6,
   "metadata": {
    "_cell_guid": "adea2cce-46da-4482-8ea0-c7128b560fed",
    "_kg_hide-output": true,
    "_uuid": "88e43f83b57eb37825e7a7b8ab3f4041686a32cf",
    "collapsed": true
   },
   "outputs": [],
   "source": [
    "from tensorflow.python.keras.applications import ResNet50\n",
    "from tensorflow.python.keras.models import Sequential\n",
    "from tensorflow.python.keras.layers import Dense, Flatten, GlobalAveragePooling2D\n",
    "\n",
    "num_classes = 2\n",
    "resnet_weights_path = '../input/resnet50/resnet50_weights_tf_dim_ordering_tf_kernels_notop.h5'\n",
    "\n",
    "my_new_model = Sequential()\n",
    "my_new_model.add(ResNet50(include_top=False, pooling='avg', weights=resnet_weights_path))\n",
    "my_new_model.add(Dense(num_classes, activation='softmax'))\n",
    "\n",
    "# Say not to train first layer (ResNet) model. It is already trained\n",
    "my_new_model.layers[0].trainable = False"
   ]
  },
  {
   "cell_type": "markdown",
   "metadata": {
    "_cell_guid": "a70edb39-61fc-4912-9101-090f3068dd18",
    "_uuid": "9762b669e09967d36e625bde91279cf80d2f7178"
   },
   "source": [
    "### Compile Model"
   ]
  },
  {
   "cell_type": "code",
   "execution_count": 7,
   "metadata": {
    "_cell_guid": "defc5fc9-af8e-4891-b41b-a38a1608bf09",
    "_kg_hide-output": true,
    "_uuid": "f6bd8ba793ed55dad8cc016612f07f9ecd656007",
    "collapsed": true
   },
   "outputs": [],
   "source": [
    "my_new_model.compile(optimizer='sgd', loss='categorical_crossentropy', metrics=['accuracy'])"
   ]
  },
  {
   "cell_type": "markdown",
   "metadata": {
    "_cell_guid": "ff9b7200-7a43-4c7d-8b89-36d4557a41bc",
    "_uuid": "1bde4d685879252d1346f35d6869c22b8be42f32"
   },
   "source": [
    "### Fit Model"
   ]
  },
  {
   "cell_type": "code",
   "execution_count": 8,
   "metadata": {
    "_cell_guid": "07d8e9c7-043e-4b2a-a7c4-73791b283caf",
    "_uuid": "48631321426fae639556c7ca0407927f2fae84d9"
   },
   "outputs": [],
   "source": [
    "from tensorflow.python.keras.applications.resnet50 import preprocess_input\n",
    "from tensorflow.python.keras.preprocessing.image import ImageDataGenerator\n",
    "\n",
    "image_size = 224\n",
    "data_generator = ImageDataGenerator(preprocessing_function=preprocess_input)\n",
    "\n",
    "\n",
    "train_generator = data_generator.flow_from_directory(\n",
    "        '../input/urban-and-rural-photos/rural_and_urban_photos/train',\n",
    "        target_size=(image_size, image_size),\n",
    "        batch_size=24,\n",
    "        class_mode='categorical')\n",
    "\n",
    "validation_generator = data_generator.flow_from_directory(\n",
    "        '../input/urban-and-rural-photos/rural_and_urban_photos/val',\n",
    "        target_size=(image_size, image_size),\n",
    "        class_mode='categorical')\n",
    "\n",
    "my_new_model.fit_generator(\n",
    "        train_generator,\n",
    "        steps_per_epoch=3,\n",
    "        validation_data=validation_generator,\n",
    "        validation_steps=1)"
   ]
  },
  {
   "cell_type": "markdown",
   "metadata": {
    "_cell_guid": "382b849d-dd62-461b-a921-4786126746b6",
    "_uuid": "523fa8ad8c1ff500f3f01e53d18948e9f93d6e67"
   },
   "source": [
    "### Note on Results:\n",
    "The printed validation accuracy can be meaningfully better than the training accuracy at this stage. This can be puzzling at first.\n",
    "\n",
    "It occurs because the training accuracy was calculated at multiple points as the network was improving (the numbers in the convolutions were being updated to make the model more accurate).  The network was inaccurate when the model saw the first training images, since the weights hadn't been trained/improved much yet.  Those first training results were averaged into the measure above.\n",
    "\n",
    "The validation loss and accuracy measures were calculated **after** the model had gone through all the data.  So the network had been fully trained when these scores were calculated.\n",
    "\n",
    "This isn't a serious issue in practice, and we tend not to worry about it."
   ]
  },
  {
   "cell_type": "markdown",
   "metadata": {
    "_cell_guid": "e8cf7b2b-fd3a-40c2-bb25-a4b5f1d28c21",
    "_uuid": "1e766f84444b79aa99c665e3482a15c3a9b0b56d"
   },
   "source": [
    "# Your Turn\n",
    "**[Try transfer learning](https://www.kaggle.com/kernels/fork/532365)** yourself.\n",
    "\n",
    "\n",
    "---\n",
    "Have questions, comments or feedback?  Bring them to [the Learn forum](https://www.kaggle.com/learn-forum)\n",
    "\n",
    "**[Deep Learning Track Home](https://www.kaggle.com/learn/deep-learning)**"
   ]
  }
 ],
 "metadata": {
  "kernelspec": {
   "display_name": "Python 3",
   "language": "python",
   "name": "python3"
  },
  "language_info": {
   "codemirror_mode": {
    "name": "ipython",
    "version": 3
   },
   "file_extension": ".py",
   "mimetype": "text/x-python",
   "name": "python",
   "nbconvert_exporter": "python",
   "pygments_lexer": "ipython3",
   "version": "3.6.1"
  }
 },
 "nbformat": 4,
 "nbformat_minor": 2
}
