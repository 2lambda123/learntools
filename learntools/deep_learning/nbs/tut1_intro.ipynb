{
 "cells": [
  {
   "cell_type": "markdown",
   "metadata": {
    "_cell_guid": "8e824cf6-8f19-4381-adeb-1d622c6937da",
    "_uuid": "0f87e7601457bf4f4eb4178c61c19e0936a01f16"
   },
   "source": [
    "# Intro\n",
    "\n",
    "**This is Lesson 1 in the [Deep Learning](https://www.kaggle.com/education/machine-learning) track.**  \n",
    "\n",
    "After the end of this lesson, you will understand convolutions. Convolutions are the basic building block for deep learning models in computer vision (and many other applications).\n",
    "\n",
    "After that, we'll quickly progress to using world-class deep learning models.\n",
    "\n",
    "# Lesson\n"
   ]
  },
  {
   "cell_type": "code",
   "execution_count": null,
   "metadata": {
    "_cell_guid": "ee1605d4-6a20-431f-80ea-20efaceea8a5",
    "_kg_hide-input": true,
    "_uuid": "6657afb2d9ead4c0b74362c50eac7fbbf367117f",
    "collapsed": true
   },
   "outputs": [],
   "source": [
    "from IPython.display import YouTubeVideo\n",
    "\n",
    "YouTubeVideo('wG6rdUURU-w', width=800, height=450)\n"
   ]
  },
  {
   "cell_type": "markdown",
   "metadata": {
    "_cell_guid": "42f01c39-a26b-4da0-8f1f-13a3c896f04c",
    "_uuid": "078061deb5f90105433c9f4ccfeb0de892f933af"
   },
   "source": [
    "# Your Turn\n",
    "After the video, **[test your understanding of convolutions](https://www.kaggle.com/kernels/fork/499266).**"
   ]
  }
 ],
 "metadata": {
  "kernelspec": {
   "display_name": "Python 3",
   "language": "python",
   "name": "python3"
  },
  "language_info": {
   "codemirror_mode": {
    "name": "ipython",
    "version": 3
   },
   "file_extension": ".py",
   "mimetype": "text/x-python",
   "name": "python",
   "nbconvert_exporter": "python",
   "pygments_lexer": "ipython3",
   "version": "3.6.1"
  }
 },
 "nbformat": 4,
 "nbformat_minor": 2
}
